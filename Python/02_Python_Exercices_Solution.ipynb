{
 "cells": [
  {
   "cell_type": "markdown",
   "metadata": {},
   "source": [
    "# Quick Exercises 1"
   ]
  },
  {
   "cell_type": "markdown",
   "metadata": {},
   "source": [
    "## Exercice 1.1"
   ]
  },
  {
   "cell_type": "markdown",
   "metadata": {},
   "source": [
    "Implement a function that takes as input three variables, and returns the largest of the three. Do\n",
    "this without using the Python max() function! Make one version without any local variable and\n",
    "another with one local variable."
   ]
  },
  {
   "cell_type": "markdown",
   "metadata": {},
   "source": [
    "### Solution with local variable"
   ]
  },
  {
   "cell_type": "code",
   "execution_count": 1,
   "metadata": {},
   "outputs": [],
   "source": [
    "def largest(a, b, c):\n",
    "    if a > b:\n",
    "        if a > c:\n",
    "            return a\n",
    "        else:\n",
    "            return b\n",
    "    else:\n",
    "        if b > c:\n",
    "            return b\n",
    "        else:\n",
    "            return c"
   ]
  },
  {
   "cell_type": "code",
   "execution_count": 2,
   "metadata": {},
   "outputs": [
    {
     "data": {
      "text/plain": [
       "1000"
      ]
     },
     "execution_count": 2,
     "metadata": {},
     "output_type": "execute_result"
    }
   ],
   "source": [
    "x = 8\n",
    "y = 1000\n",
    "z = 3\n",
    "\n",
    "maximum = largest(x, y, z)\n",
    "maximum"
   ]
  },
  {
   "cell_type": "markdown",
   "metadata": {},
   "source": [
    "### Solution with global variable"
   ]
  },
  {
   "cell_type": "code",
   "execution_count": 3,
   "metadata": {},
   "outputs": [],
   "source": [
    "def largest_2(a, b, c):\n",
    "    \n",
    "    largest = 0\n",
    "    \n",
    "    if a > b:\n",
    "        if a > c:\n",
    "            largest = a\n",
    "        else:\n",
    "            largest = b\n",
    "    else:\n",
    "        if b > c:\n",
    "            largest = b\n",
    "        else:\n",
    "            largest = c\n",
    "\n",
    "    return largest\n"
   ]
  },
  {
   "cell_type": "code",
   "execution_count": 4,
   "metadata": {},
   "outputs": [
    {
     "data": {
      "text/plain": [
       "30"
      ]
     },
     "execution_count": 4,
     "metadata": {},
     "output_type": "execute_result"
    }
   ],
   "source": [
    "x = 0.01\n",
    "y = 1\n",
    "z = 30\n",
    "\n",
    "maximum_2 = largest_2(x, y, z)\n",
    "maximum_2"
   ]
  },
  {
   "cell_type": "markdown",
   "metadata": {},
   "source": [
    "## Exercice 1.2"
   ]
  },
  {
   "cell_type": "markdown",
   "metadata": {},
   "source": [
    "Write a function “centenario” that will take Name, and year of birth as inputs, check if year of birth\n",
    "is int and cast it to int if not, and print name together with the text explaining when the person is to\n",
    "have 100 years (hint: use isinstance)\n",
    "\n",
    "Call to function: centenario(Antonio, 1967)\n",
    "\n",
    "Output: Antonio will reach 100 years in 2067"
   ]
  },
  {
   "cell_type": "code",
   "execution_count": 5,
   "metadata": {},
   "outputs": [],
   "source": [
    "def centenario(Name, Year):\n",
    "    \n",
    "    if not isinstance(Year,int):\n",
    "             \n",
    "        Year = int(Year)\n",
    "    \n",
    "    print(\"%s will reach 100 years in %d\" %(Name, Year+100))\n",
    "    \n",
    "    return       "
   ]
  },
  {
   "cell_type": "code",
   "execution_count": 6,
   "metadata": {},
   "outputs": [
    {
     "name": "stdout",
     "output_type": "stream",
     "text": [
      "Luis will reach 100 years in 2072\n"
     ]
    }
   ],
   "source": [
    "centenario('Luis', 1972)"
   ]
  },
  {
   "cell_type": "markdown",
   "metadata": {},
   "source": [
    "# Quick Exercises 2"
   ]
  },
  {
   "cell_type": "markdown",
   "metadata": {},
   "source": [
    "## Exercice 2.1"
   ]
  },
  {
   "cell_type": "markdown",
   "metadata": {},
   "source": [
    "Write a function to calculate the number of words, number of lines, and length of a string the same\n",
    "way the wc command does in the command line"
   ]
  },
  {
   "cell_type": "markdown",
   "metadata": {},
   "source": [
    "### LMdP SOLUTION"
   ]
  },
  {
   "cell_type": "code",
   "execution_count": 7,
   "metadata": {},
   "outputs": [],
   "source": [
    "def words_lines_length(texto):\n",
    "    num_lines = texto.count('\\n') + 1\n",
    "    words = texto.split(' ')\n",
    "    num_words = len(words)\n",
    "    length = len(texto)\n",
    "    return num_words, num_lines, length"
   ]
  },
  {
   "cell_type": "code",
   "execution_count": 10,
   "metadata": {
    "scrolled": true
   },
   "outputs": [
    {
     "data": {
      "text/plain": [
       "(4, 1, 26)"
      ]
     },
     "execution_count": 10,
     "metadata": {},
     "output_type": "execute_result"
    }
   ],
   "source": [
    "texto = 'Muy buenos dias compañeiro'\n",
    "words_lines_length(texto)"
   ]
  },
  {
   "cell_type": "markdown",
   "metadata": {},
   "source": [
    "### OFFICIAL SOLUTION"
   ]
  },
  {
   "cell_type": "code",
   "execution_count": 11,
   "metadata": {},
   "outputs": [],
   "source": [
    "def wc(x):\n",
    "    chars= 0\n",
    "    for char in x:\n",
    "        chars+= 1\n",
    "        words=len(x.split(' '))\n",
    "        lines=len(x.split('\\n'))\n",
    "    return (lines, words, chars)"
   ]
  },
  {
   "cell_type": "code",
   "execution_count": 12,
   "metadata": {},
   "outputs": [
    {
     "data": {
      "text/plain": [
       "(1, 4, 26)"
      ]
     },
     "execution_count": 12,
     "metadata": {},
     "output_type": "execute_result"
    }
   ],
   "source": [
    "wc(texto)"
   ]
  },
  {
   "cell_type": "markdown",
   "metadata": {},
   "source": [
    "## Exercice 2.2"
   ]
  },
  {
   "cell_type": "markdown",
   "metadata": {},
   "source": [
    "Write a Python program to remove the n th index character from a string. If the input string is empty print\n",
    "warning."
   ]
  },
  {
   "cell_type": "markdown",
   "metadata": {},
   "source": [
    "### LMdP SOLUTION"
   ]
  },
  {
   "cell_type": "code",
   "execution_count": 13,
   "metadata": {},
   "outputs": [],
   "source": [
    "def remove_n(text, n):\n",
    "    \n",
    "    '''\n",
    "        This function remove the n-th index character from a string\n",
    "    '''\n",
    "    \n",
    "        \n",
    "    \n",
    "    new_text = ''\n",
    "    count = 0\n",
    "    \n",
    "    if text == '':\n",
    "        return print('Warning: the string is empty')\n",
    "    \n",
    "    else:\n",
    "        \n",
    "        for i in text:\n",
    "             \n",
    "            if count != n:\n",
    "                new_text += i\n",
    "        \n",
    "            count += 1    \n",
    "        return new_text"
   ]
  },
  {
   "cell_type": "code",
   "execution_count": 14,
   "metadata": {
    "scrolled": true
   },
   "outputs": [
    {
     "data": {
      "text/plain": [
       "'This unction remove the n-th index character from a string'"
      ]
     },
     "execution_count": 14,
     "metadata": {},
     "output_type": "execute_result"
    }
   ],
   "source": [
    "remove_n('This function remove the n-th index character from a string',5)"
   ]
  },
  {
   "cell_type": "markdown",
   "metadata": {},
   "source": [
    "### OFFICIAL SOLUTION"
   ]
  },
  {
   "cell_type": "code",
   "execution_count": 15,
   "metadata": {},
   "outputs": [],
   "source": [
    "def remove_char(str, n):\n",
    "    if not str:\n",
    "        print (\"String is empty\")\n",
    "        return\n",
    "    else:\n",
    "        first_part = str[:n]\n",
    "        last_part = str[n+1:]\n",
    "    return first_part + last_part"
   ]
  },
  {
   "cell_type": "code",
   "execution_count": 16,
   "metadata": {
    "scrolled": true
   },
   "outputs": [
    {
     "data": {
      "text/plain": [
       "'This unction remove the n-th index character from a string'"
      ]
     },
     "execution_count": 16,
     "metadata": {},
     "output_type": "execute_result"
    }
   ],
   "source": [
    "remove_char('This function remove the n-th index character from a string',5)"
   ]
  },
  {
   "cell_type": "markdown",
   "metadata": {},
   "source": [
    "# Quick Exercises 3"
   ]
  },
  {
   "cell_type": "markdown",
   "metadata": {},
   "source": [
    "## Exercice 3.1"
   ]
  },
  {
   "cell_type": "markdown",
   "metadata": {},
   "source": [
    "While inside python, go to ~/Data/opentraveldata/ and list the files. Repeat the same for\n",
    "/home/dsc/Data/us_dot/otp and ~/Data/us_dot/traffic/.\n",
    "Use the list of visited directories from dhist and write for loop which will return for each visited\n",
    "directory its name and number of files inside."
   ]
  },
  {
   "cell_type": "markdown",
   "metadata": {},
   "source": [
    "### LMdP SOLUTION"
   ]
  },
  {
   "cell_type": "code",
   "execution_count": 46,
   "metadata": {},
   "outputs": [
    {
     "name": "stdout",
     "output_type": "stream",
     "text": [
      "/home/dsc/Documents/Week_03\r\n"
     ]
    }
   ],
   "source": [
    "!pwd"
   ]
  },
  {
   "cell_type": "code",
   "execution_count": 47,
   "metadata": {},
   "outputs": [
    {
     "name": "stdout",
     "output_type": "stream",
     "text": [
      "/home/dsc/Data/opentraveldata\n"
     ]
    }
   ],
   "source": [
    "%cd ~/Data/opentraveldata/"
   ]
  },
  {
   "cell_type": "code",
   "execution_count": 48,
   "metadata": {},
   "outputs": [
    {
     "name": "stdout",
     "output_type": "stream",
     "text": [
      "/home/dsc/Data/opentraveldata\r\n"
     ]
    }
   ],
   "source": [
    "!pwd"
   ]
  },
  {
   "cell_type": "code",
   "execution_count": 49,
   "metadata": {},
   "outputs": [
    {
     "name": "stdout",
     "output_type": "stream",
     "text": [
      "/home/dsc/Data/us_dot/otp\n"
     ]
    }
   ],
   "source": [
    "%cd  /home/dsc/Data/us_dot/otp"
   ]
  },
  {
   "cell_type": "code",
   "execution_count": 50,
   "metadata": {},
   "outputs": [
    {
     "name": "stdout",
     "output_type": "stream",
     "text": [
      "/home/dsc/Data/us_dot/otp\r\n"
     ]
    }
   ],
   "source": [
    "!pwd"
   ]
  },
  {
   "cell_type": "code",
   "execution_count": 51,
   "metadata": {},
   "outputs": [
    {
     "name": "stdout",
     "output_type": "stream",
     "text": [
      "/home/dsc/Data/us_dot/traffic\n"
     ]
    }
   ],
   "source": [
    "%cd ~/Data/us_dot/traffic/"
   ]
  },
  {
   "cell_type": "code",
   "execution_count": 52,
   "metadata": {},
   "outputs": [
    {
     "name": "stdout",
     "output_type": "stream",
     "text": [
      "/home/dsc/Data/us_dot/traffic\r\n"
     ]
    }
   ],
   "source": [
    "!pwd"
   ]
  },
  {
   "cell_type": "code",
   "execution_count": 57,
   "metadata": {
    "scrolled": true
   },
   "outputs": [
    {
     "name": "stdout",
     "output_type": "stream",
     "text": [
      "total 22052\r\n",
      "-rw-rw-r-- 1 dsc dsc 16871101 abr  2  2018 \u001b[0m\u001b[01;31mT100_SEGMENT_ALL_CARRIER_2014.zip\u001b[0m\r\n",
      "-rw-rw-r-- 1 dsc dsc  5709455 abr  2  2018 \u001b[01;31mT100_SEGMENT_ALL_CARRIER_2015.zip\u001b[0m\r\n"
     ]
    }
   ],
   "source": [
    "%ls -l"
   ]
  },
  {
   "cell_type": "code",
   "execution_count": 59,
   "metadata": {},
   "outputs": [
    {
     "name": "stdout",
     "output_type": "stream",
     "text": [
      "3\r\n"
     ]
    }
   ],
   "source": [
    "%ls -l | wc -l"
   ]
  },
  {
   "cell_type": "code",
   "execution_count": 60,
   "metadata": {},
   "outputs": [
    {
     "name": "stdout",
     "output_type": "stream",
     "text": [
      "\u001b[0m\u001b[01;31mT100_SEGMENT_ALL_CARRIER_2014.zip\u001b[0m\r\n",
      "\u001b[01;31mT100_SEGMENT_ALL_CARRIER_2015.zip\u001b[0m\r\n"
     ]
    }
   ],
   "source": [
    "%ls -1"
   ]
  },
  {
   "cell_type": "code",
   "execution_count": 61,
   "metadata": {},
   "outputs": [
    {
     "name": "stdout",
     "output_type": "stream",
     "text": [
      "2\r\n"
     ]
    }
   ],
   "source": [
    "%ls -1 | wc -l"
   ]
  },
  {
   "cell_type": "code",
   "execution_count": 62,
   "metadata": {
    "scrolled": false
   },
   "outputs": [
    {
     "data": {
      "text/plain": [
       "['/home/dsc/Documents/Week_03',\n",
       " '/home/dsc/Data/opentraveldata',\n",
       " '/home/dsc/Data/us_dot/otp',\n",
       " '/home/dsc/Data/us_dot/traffic',\n",
       " '/home/dsc/Documents/Week_03',\n",
       " '/home/dsc/Data/opentraveldata',\n",
       " '/home/dsc/Data/us_dot/otp',\n",
       " '/home/dsc/Data/us_dot/traffic']"
      ]
     },
     "execution_count": 62,
     "metadata": {},
     "output_type": "execute_result"
    }
   ],
   "source": [
    "_dh"
   ]
  },
  {
   "cell_type": "code",
   "execution_count": 63,
   "metadata": {},
   "outputs": [
    {
     "name": "stdout",
     "output_type": "stream",
     "text": [
      "Directory history (kept in _dh)\n",
      "0: /home/dsc/Documents/Week_03\n",
      "1: /home/dsc/Data/opentraveldata\n",
      "2: /home/dsc/Data/us_dot/otp\n",
      "3: /home/dsc/Data/us_dot/traffic\n",
      "4: /home/dsc/Documents/Week_03\n",
      "5: /home/dsc/Data/opentraveldata\n",
      "6: /home/dsc/Data/us_dot/otp\n",
      "7: /home/dsc/Data/us_dot/traffic\n"
     ]
    }
   ],
   "source": [
    "dhist"
   ]
  },
  {
   "cell_type": "code",
   "execution_count": 64,
   "metadata": {},
   "outputs": [
    {
     "data": {
      "text/plain": [
       "list"
      ]
     },
     "execution_count": 64,
     "metadata": {},
     "output_type": "execute_result"
    }
   ],
   "source": [
    "type(_dh)"
   ]
  },
  {
   "cell_type": "code",
   "execution_count": 104,
   "metadata": {},
   "outputs": [
    {
     "name": "stdout",
     "output_type": "stream",
     "text": [
      "Directory Name:  /home/dsc/Documents/Week_03 , Number of files:  3\n",
      "Directory Name:  /home/dsc/Data/opentraveldata , Number of files:  9\n",
      "Directory Name:  /home/dsc/Data/us_dot/otp , Number of files:  1\n",
      "Directory Name:  /home/dsc/Data/us_dot/traffic , Number of files:  2\n",
      "Directory Name:  /home/dsc/Documents/Week_03 , Number of files:  3\n",
      "Directory Name:  /home/dsc/Data/opentraveldata , Number of files:  9\n",
      "Directory Name:  /home/dsc/Data/us_dot/otp , Number of files:  1\n",
      "Directory Name:  /home/dsc/Data/us_dot/traffic , Number of files:  2\n",
      "Directory Name:  /home/dsc/Documents/Week_03 , Number of files:  3\n",
      "Directory Name:  /home/dsc/Data/opentraveldata , Number of files:  9\n"
     ]
    }
   ],
   "source": [
    "for dir_name in _dh:\n",
    "    file_num = !ls -1 $dir_name | wc -l\n",
    "    print('Directory Name: ',dir_name, ', Number of files: ', int(file_num[0]))\n"
   ]
  },
  {
   "cell_type": "markdown",
   "metadata": {},
   "source": [
    "### OFFICIAL SOLUTION"
   ]
  },
  {
   "cell_type": "markdown",
   "metadata": {},
   "source": [
    "#### DOCUMENTATION"
   ]
  },
  {
   "cell_type": "code",
   "execution_count": 107,
   "metadata": {},
   "outputs": [
    {
     "name": "stdout",
     "output_type": "stream",
     "text": [
      "/home/dsc/Documents/Week_03 3\n",
      "/home/dsc/Data/opentraveldata 9\n",
      "/home/dsc/Data/us_dot/otp 1\n",
      "/home/dsc/Data/us_dot/traffic 2\n",
      "/home/dsc/Documents/Week_03 3\n",
      "/home/dsc/Data/opentraveldata 9\n",
      "/home/dsc/Data/us_dot/otp 1\n",
      "/home/dsc/Data/us_dot/traffic 2\n",
      "/home/dsc/Documents/Week_03 3\n",
      "/home/dsc/Data/opentraveldata 9\n"
     ]
    }
   ],
   "source": [
    "for i in _dh:\n",
    "    wc = !(ls -l $i| wc -l)\n",
    "    print(i, int(wc[0])-1)"
   ]
  },
  {
   "cell_type": "markdown",
   "metadata": {},
   "source": [
    "#### CLASS"
   ]
  },
  {
   "cell_type": "code",
   "execution_count": 67,
   "metadata": {},
   "outputs": [
    {
     "name": "stdout",
     "output_type": "stream",
     "text": [
      "/home/dsc/Documents/Week_03\n",
      "01-linear_algebra_numpy.empty.ipynb    Python_Exercices_Solution.ipynb\r\n",
      "01-linear_algebra_numpy.inclass.ipynb\r\n"
     ]
    }
   ],
   "source": [
    "%cd /home/dsc/Documents/Week_03\n",
    "\n",
    "%ls"
   ]
  },
  {
   "cell_type": "code",
   "execution_count": 68,
   "metadata": {},
   "outputs": [
    {
     "name": "stdout",
     "output_type": "stream",
     "text": [
      "Directory history (kept in _dh)\n",
      "0: /home/dsc/Documents/Week_03\n",
      "1: /home/dsc/Data/opentraveldata\n",
      "2: /home/dsc/Data/us_dot/otp\n",
      "3: /home/dsc/Data/us_dot/traffic\n",
      "4: /home/dsc/Documents/Week_03\n",
      "5: /home/dsc/Data/opentraveldata\n",
      "6: /home/dsc/Data/us_dot/otp\n",
      "7: /home/dsc/Data/us_dot/traffic\n",
      "8: /home/dsc/Documents/Week_03\n"
     ]
    }
   ],
   "source": [
    "%dhist"
   ]
  },
  {
   "cell_type": "code",
   "execution_count": 108,
   "metadata": {},
   "outputs": [
    {
     "name": "stdout",
     "output_type": "stream",
     "text": [
      "/home/dsc/Documents/Week_03\n",
      "4\n",
      "/home/dsc/Data/opentraveldata\n",
      "10\n",
      "/home/dsc/Data/us_dot/otp\n",
      "2\n",
      "/home/dsc/Data/us_dot/traffic\n",
      "3\n",
      "/home/dsc/Documents/Week_03\n",
      "4\n",
      "/home/dsc/Data/opentraveldata\n",
      "10\n",
      "/home/dsc/Data/us_dot/otp\n",
      "2\n",
      "/home/dsc/Data/us_dot/traffic\n",
      "3\n",
      "/home/dsc/Documents/Week_03\n",
      "4\n",
      "/home/dsc/Data/opentraveldata\n",
      "10\n"
     ]
    }
   ],
   "source": [
    "# ESTA SOLUCIÓN NO ES DEL TODO CORRECTA PORQUE EL RESULTADO DE \"wc\" tiene una linea más que los archivos\n",
    "# una linea de, al incluir una linea resumen al inicio\n",
    "\n",
    "for name in _dh:\n",
    "    print(name)\n",
    "    ! ls -l $name | wc -l"
   ]
  },
  {
   "cell_type": "code",
   "execution_count": 109,
   "metadata": {},
   "outputs": [
    {
     "name": "stdout",
     "output_type": "stream",
     "text": [
      "/home/dsc/Documents/Week_03\n",
      "4\n",
      "/home/dsc/Data/opentraveldata\n",
      "10\n",
      "/home/dsc/Data/us_dot/otp\n",
      "2\n",
      "/home/dsc/Data/us_dot/traffic\n",
      "3\n",
      "/home/dsc/Documents/Week_03\n",
      "4\n",
      "/home/dsc/Data/opentraveldata\n",
      "10\n",
      "/home/dsc/Data/us_dot/otp\n",
      "2\n",
      "/home/dsc/Data/us_dot/traffic\n",
      "3\n",
      "/home/dsc/Documents/Week_03\n",
      "4\n",
      "/home/dsc/Data/opentraveldata\n",
      "10\n"
     ]
    }
   ],
   "source": [
    "for name in _dh:\n",
    "    print(name)\n",
    "    ! ls -l {name} | wc -l\n"
   ]
  },
  {
   "cell_type": "markdown",
   "metadata": {},
   "source": [
    "## Exercice 3.2"
   ]
  },
  {
   "cell_type": "markdown",
   "metadata": {},
   "source": [
    "Write a function that will take text file and pattern as input parameters, and return the number of\n",
    "occurances of case insensitive pattern inside a text (similar to: grep -i –o pattern file | wc -l)"
   ]
  },
  {
   "cell_type": "markdown",
   "metadata": {},
   "source": [
    "### LMdP SOLUTION"
   ]
  },
  {
   "cell_type": "code",
   "execution_count": 72,
   "metadata": {
    "scrolled": true
   },
   "outputs": [
    {
     "name": "stdout",
     "output_type": "stream",
     "text": [
      "/home/dsc/Documents/Week_03\r\n"
     ]
    }
   ],
   "source": [
    "!pwd"
   ]
  },
  {
   "cell_type": "code",
   "execution_count": 76,
   "metadata": {},
   "outputs": [
    {
     "name": "stdout",
     "output_type": "stream",
     "text": [
      "/home/dsc/Data/opentraveldata\n"
     ]
    }
   ],
   "source": [
    "%cd /home/dsc/Data/opentraveldata"
   ]
  },
  {
   "cell_type": "code",
   "execution_count": 77,
   "metadata": {},
   "outputs": [
    {
     "name": "stdout",
     "output_type": "stream",
     "text": [
      "total 8048\r\n",
      "-rw-rw-r-- 1 dsc      59 nov 14 11:43 ejercicio_1\r\n",
      "-rw-rw-r-- 1 dsc      59 nov 20 10:21 largest_file.txt\r\n",
      "-rw-rw-r-- 1 dsc   18612 abr  2  2018 optd_aircraft.csv\r\n",
      "-rw-rw-r-- 1 dsc  107306 abr  2  2018 optd_airlines.csv\r\n",
      "-rw-rw-r-- 1 dsc 8080005 abr  2  2018 optd_por_public.csv\r\n",
      "-rw-rw-r-- 1 dsc     112 nov 25 21:28 PRUEBA_CASA.txt\r\n",
      "-rw-rw-r-- 1 dsc    5816 abr  2  2018 ref_airline_nb_of_flights.csv\r\n",
      "-rw-rw-r-- 1 dsc     256 nov 21 09:53 sql_aircraft.sql\r\n",
      "-rw-rw-r-- 1 dsc      32 nov 22 21:47 test.text\r\n"
     ]
    }
   ],
   "source": [
    "ll"
   ]
  },
  {
   "cell_type": "code",
   "execution_count": 78,
   "metadata": {},
   "outputs": [
    {
     "name": "stdout",
     "output_type": "stream",
     "text": [
      "/home/dsc/Data/opentraveldata\r\n"
     ]
    }
   ],
   "source": [
    "!pwd"
   ]
  },
  {
   "cell_type": "code",
   "execution_count": 131,
   "metadata": {},
   "outputs": [],
   "source": [
    "def num_ocurrances(file_name,pattern):\n",
    "    path = '/home/dsc/Data/opentraveldata/'\n",
    "    text = open(path+file_name)\n",
    "    list_text = text.readlines()  \n",
    "    \n",
    "    count = 0\n",
    "    for line in list_text:\n",
    "        count += line.lower().count(pattern.lower())\n",
    "    text.close()\n",
    "    \n",
    "    return count "
   ]
  },
  {
   "cell_type": "code",
   "execution_count": 133,
   "metadata": {},
   "outputs": [
    {
     "data": {
      "text/plain": [
       "44"
      ]
     },
     "execution_count": 133,
     "metadata": {},
     "output_type": "execute_result"
    }
   ],
   "source": [
    "num_ocurrances('optd_aircraft.csv','airbus')"
   ]
  },
  {
   "cell_type": "markdown",
   "metadata": {},
   "source": [
    "### OFFICIAL SOLUTION"
   ]
  },
  {
   "cell_type": "code",
   "execution_count": 134,
   "metadata": {},
   "outputs": [
    {
     "data": {
      "text/plain": [
       "0"
      ]
     },
     "execution_count": 134,
     "metadata": {},
     "output_type": "execute_result"
    }
   ],
   "source": [
    "#ESTA SOLUCIÓN NO CUMPLE LA CONDICIÓN DE \"CASE INSENSITIVE\"\n",
    "\n",
    "def count(file, pattern):\n",
    "    \n",
    "    f = open(file)\n",
    "    \n",
    "    lines = f.readlines()\n",
    "    count = 0\n",
    "    \n",
    "    for line in lines:\n",
    "        if line.find(pattern) != -1:\n",
    "            count += 1 \n",
    "        \n",
    "    f.close()\n",
    "    return count\n",
    "\n",
    "path = '/home/dsc/Data/opentraveldata/optd_aircraft.csv'\n",
    "\n",
    "count(path, 'airbus')"
   ]
  },
  {
   "cell_type": "code",
   "execution_count": 7,
   "metadata": {},
   "outputs": [
    {
     "name": "stdout",
     "output_type": "stream",
     "text": [
      "Help on method_descriptor:\n",
      "\n",
      "find(...)\n",
      "    S.find(sub[, start[, end]]) -> int\n",
      "    \n",
      "    Return the lowest index in S where substring sub is found,\n",
      "    such that sub is contained within S[start:end].  Optional\n",
      "    arguments start and end are interpreted as in slice notation.\n",
      "    \n",
      "    Return -1 on failure.\n",
      "\n"
     ]
    }
   ],
   "source": [
    "help(str.find)"
   ]
  },
  {
   "cell_type": "code",
   "execution_count": 112,
   "metadata": {},
   "outputs": [
    {
     "name": "stdout",
     "output_type": "stream",
     "text": [
      "False\n",
      "True\n"
     ]
    },
    {
     "data": {
      "text/plain": [
       "0"
      ]
     },
     "execution_count": 112,
     "metadata": {},
     "output_type": "execute_result"
    }
   ],
   "source": [
    "def count(file, pattern):\n",
    "    \n",
    "    with open(file) as f: # con esto garantizo el cierre de f\n",
    "    \n",
    "        lines = f.readlines()\n",
    "        count = 0\n",
    "\n",
    "        for line in lines:\n",
    "            if pattern in line:\n",
    "                count += 1 \n",
    "        print(f.closed)  # nunca cerrado\n",
    "    print(f.closed)  # Garantizado cerrado\n",
    "    \n",
    "    return count\n",
    "\n",
    "path = '/home/dsc/Data/opentraveldata/optd_aircraft.csv'\n",
    "\n",
    "count(path, 'airbus')"
   ]
  },
  {
   "cell_type": "markdown",
   "metadata": {},
   "source": [
    "## Exercice 3.3\n"
   ]
  },
  {
   "cell_type": "markdown",
   "metadata": {},
   "source": [
    "Open Finn.txt file, read lines into a list. Remove trailing white spaces from each line . Write the\n",
    "resulting list to a new file. How many lines does the new file have? (hint: empty list is made with [ ] )"
   ]
  },
  {
   "cell_type": "markdown",
   "metadata": {},
   "source": [
    "### LMdP SOLUTION"
   ]
  },
  {
   "cell_type": "code",
   "execution_count": 187,
   "metadata": {},
   "outputs": [
    {
     "name": "stdout",
     "output_type": "stream",
     "text": [
      "/home/dsc/Data/shell/unzipped\n"
     ]
    }
   ],
   "source": [
    "%cd ~/Data/shell/unzipped/"
   ]
  },
  {
   "cell_type": "code",
   "execution_count": 188,
   "metadata": {},
   "outputs": [
    {
     "name": "stdout",
     "output_type": "stream",
     "text": [
      "total 1436\r\n",
      "-rw-rw-r-- 1 dsc 602826 dic  6 00:30 Finn_nbl.txt\r\n",
      "-rw-rw-r-- 1 dsc 627563 abr  2  2018 Finn.txt\r\n",
      "-rw-rw-r-- 1 dsc    237 abr  2  2018 Text_example.txt\r\n",
      "-rw-rw-r-- 1 dsc 228842 nov 20 21:15 \u001b[0m\u001b[01;31mtext_files.zip\u001b[0m\r\n"
     ]
    }
   ],
   "source": [
    "%ll"
   ]
  },
  {
   "cell_type": "code",
   "execution_count": 189,
   "metadata": {},
   "outputs": [],
   "source": [
    "Finn = open('/home/dsc/Data/shell/unzipped/Finn.txt')\n",
    "Finn_lines = Finn.readlines()\n",
    "Finn.close()"
   ]
  },
  {
   "cell_type": "code",
   "execution_count": 190,
   "metadata": {},
   "outputs": [
    {
     "data": {
      "text/plain": [
       "12363"
      ]
     },
     "execution_count": 190,
     "metadata": {},
     "output_type": "execute_result"
    }
   ],
   "source": [
    "len(Finn_lines)"
   ]
  },
  {
   "cell_type": "code",
   "execution_count": 191,
   "metadata": {},
   "outputs": [],
   "source": [
    "Finn_lines_nbl = []\n",
    "\n",
    "for line in Finn_lines:\n",
    "    line_nbl = line.rstrip()\n",
    "    Finn_lines_nbl.append(line_nbl)\n",
    "    "
   ]
  },
  {
   "cell_type": "code",
   "execution_count": 192,
   "metadata": {},
   "outputs": [
    {
     "data": {
      "text/plain": [
       "12363"
      ]
     },
     "execution_count": 192,
     "metadata": {},
     "output_type": "execute_result"
    }
   ],
   "source": [
    "len(Finn_lines_nbl)"
   ]
  },
  {
   "cell_type": "code",
   "execution_count": 193,
   "metadata": {},
   "outputs": [],
   "source": [
    "#PARA CREAR UN ARCHIVO SE DEBE ABRIR CON PERMISO DE ESCRITURA\n",
    "\n",
    "f = open('/home/dsc/Data/shell/unzipped/Finn_nbl.txt','w')"
   ]
  },
  {
   "cell_type": "code",
   "execution_count": 194,
   "metadata": {},
   "outputs": [
    {
     "name": "stdout",
     "output_type": "stream",
     "text": [
      "total 844\r\n",
      "-rw-rw-r-- 1 dsc      0 dic  6 00:33 Finn_nbl.txt\r\n",
      "-rw-rw-r-- 1 dsc 627563 abr  2  2018 Finn.txt\r\n",
      "-rw-rw-r-- 1 dsc    237 abr  2  2018 Text_example.txt\r\n",
      "-rw-rw-r-- 1 dsc 228842 nov 20 21:15 \u001b[0m\u001b[01;31mtext_files.zip\u001b[0m\r\n"
     ]
    }
   ],
   "source": [
    "%ll"
   ]
  },
  {
   "cell_type": "code",
   "execution_count": 195,
   "metadata": {},
   "outputs": [],
   "source": [
    "#CUIDADO CON CERRAR LOS ARCHIVOS Y CON INCLUIR EL SALTO DE LINEA\n",
    "\n",
    "for line in Finn_lines_nbl:\n",
    "\n",
    "    f.write(line + '\\n')\n",
    "\n",
    "f.close()"
   ]
  },
  {
   "cell_type": "code",
   "execution_count": 196,
   "metadata": {},
   "outputs": [
    {
     "name": "stdout",
     "output_type": "stream",
     "text": [
      "12363 /home/dsc/Data/shell/unzipped/Finn_nbl.txt\r\n"
     ]
    }
   ],
   "source": [
    "!wc -l /home/dsc/Data/shell/unzipped/Finn_nbl.txt"
   ]
  },
  {
   "cell_type": "markdown",
   "metadata": {},
   "source": [
    "### OFFICIAL SOLUTION"
   ]
  },
  {
   "cell_type": "code",
   "execution_count": 10,
   "metadata": {},
   "outputs": [],
   "source": [
    "f = open(path)\n",
    "lines = f.readlines()\n",
    "result = []\n",
    "\n",
    "for line in lines:\n",
    "    result.append(line.rstrip())\n",
    "    \n",
    "target = open('NewFinn.txt', 'w')\n",
    "target.writelines(result) #SI NO SE INCLUYE EL SALTO DE LINEA SE ESCRIBE UNA SOLA LINEA\n",
    "target.close()"
   ]
  },
  {
   "cell_type": "code",
   "execution_count": 11,
   "metadata": {},
   "outputs": [
    {
     "name": "stdout",
     "output_type": "stream",
     "text": [
      "0 NewFinn.txt\r\n"
     ]
    }
   ],
   "source": [
    "!wc -l NewFinn.txt"
   ]
  },
  {
   "cell_type": "code",
   "execution_count": 12,
   "metadata": {},
   "outputs": [
    {
     "name": "stdout",
     "output_type": "stream",
     "text": [
      "12361 NewFinn.txt\r\n"
     ]
    }
   ],
   "source": [
    "f = open(path)\n",
    "lines = f.readlines()\n",
    "\n",
    "target = open('NewFinn.txt', 'w')\n",
    "for line in lines:\n",
    "    target.write(line.rstrip() + '\\n')\n",
    "    \n",
    "target.close()\n",
    "!wc -l NewFinn.txt"
   ]
  },
  {
   "cell_type": "markdown",
   "metadata": {},
   "source": [
    "## Exercice 3.4"
   ]
  },
  {
   "cell_type": "markdown",
   "metadata": {},
   "source": [
    "Open Finn.txt file, read lines into a list. Create a new version of Finn_nbl.txt with no blank lines.\n"
   ]
  },
  {
   "cell_type": "markdown",
   "metadata": {},
   "source": [
    "### LMdP SOLUTION"
   ]
  },
  {
   "cell_type": "code",
   "execution_count": 197,
   "metadata": {},
   "outputs": [],
   "source": [
    "Finn = open('/home/dsc/Data/shell/unzipped/Finn.txt')\n",
    "Finn_lines = Finn.readlines()\n",
    "Finn.close()"
   ]
  },
  {
   "cell_type": "code",
   "execution_count": 217,
   "metadata": {},
   "outputs": [
    {
     "data": {
      "text/plain": [
       "12363"
      ]
     },
     "execution_count": 217,
     "metadata": {},
     "output_type": "execute_result"
    }
   ],
   "source": [
    "len(Finn_lines)"
   ]
  },
  {
   "cell_type": "code",
   "execution_count": 224,
   "metadata": {},
   "outputs": [
    {
     "name": "stdout",
     "output_type": "stream",
     "text": [
      "﻿\n",
      "\n",
      "\n",
      "\n",
      "The Project Gutenberg EBook of Adventures of Huckleberry Finn, Complete\n",
      "\n"
     ]
    }
   ],
   "source": [
    "for i in range(3):\n",
    "    print(Finn_lines[i])"
   ]
  },
  {
   "cell_type": "code",
   "execution_count": 227,
   "metadata": {
    "scrolled": false
   },
   "outputs": [
    {
     "data": {
      "text/plain": [
       "'\\ufeff\\n'"
      ]
     },
     "execution_count": 227,
     "metadata": {},
     "output_type": "execute_result"
    }
   ],
   "source": [
    "Finn_lines[0]"
   ]
  },
  {
   "cell_type": "code",
   "execution_count": 228,
   "metadata": {},
   "outputs": [
    {
     "data": {
      "text/plain": [
       "2"
      ]
     },
     "execution_count": 228,
     "metadata": {},
     "output_type": "execute_result"
    }
   ],
   "source": [
    "len(Finn_lines[0])"
   ]
  },
  {
   "cell_type": "code",
   "execution_count": 218,
   "metadata": {},
   "outputs": [],
   "source": [
    "#EN UN PRINCIPIO PUSE LA CONDICIÓN: line != '', PERO RESULTA QUE LAS LINEAS QUE PARECEN VACÍAS NO LO ESTÁN Y\n",
    "#ES MEJOR USAR LA FUNCIÓN len\n",
    "\n",
    "Finn_full = []\n",
    "\n",
    "for line in Finn_lines:\n",
    "    if len(line)>2:\n",
    "        Finn_full.append(line)\n",
    "       "
   ]
  },
  {
   "cell_type": "code",
   "execution_count": 219,
   "metadata": {},
   "outputs": [],
   "source": [
    "ff = open('/home/dsc/Data/shell/unzipped/Finn_no_lines_bl.txt','w')"
   ]
  },
  {
   "cell_type": "code",
   "execution_count": 220,
   "metadata": {},
   "outputs": [],
   "source": [
    "for line in Finn_full:\n",
    "\n",
    "    ff.write(line + '\\n')\n",
    "\n",
    "ff.close()"
   ]
  },
  {
   "cell_type": "code",
   "execution_count": 221,
   "metadata": {},
   "outputs": [
    {
     "data": {
      "text/plain": [
       "9673"
      ]
     },
     "execution_count": 221,
     "metadata": {},
     "output_type": "execute_result"
    }
   ],
   "source": [
    "len(Finn_full)"
   ]
  },
  {
   "cell_type": "markdown",
   "metadata": {},
   "source": [
    "### OFFICIAL SOLUTION"
   ]
  },
  {
   "cell_type": "code",
   "execution_count": 216,
   "metadata": {},
   "outputs": [
    {
     "name": "stdout",
     "output_type": "stream",
     "text": [
      "12363 Finn.txt\n",
      "9574 Finn_no_bl.txt\n"
     ]
    }
   ],
   "source": [
    "path='/home/dsc/Data/shell/unzipped/Finn.txt'\n",
    "g=open(path)\n",
    "lines=[]\n",
    "\n",
    "for line in g:\n",
    "    lines.append(line)\n",
    "    \n",
    "!wc -l Finn.txt\n",
    "\n",
    "g.close()\n",
    "\n",
    "\n",
    "\n",
    "g_out=open(\"/home/dsc/Data/shell/unzipped/Finn_no_bl.txt\", 'w')\n",
    "\n",
    "for line in lines:\n",
    "    if len(line)>2:\n",
    "        g_out.writelines(line)\n",
    "\n",
    "!wc -l Finn_no_bl.txt\n",
    "\n",
    "g_out.close()"
   ]
  },
  {
   "cell_type": "markdown",
   "metadata": {},
   "source": [
    "## Exercice 3.5"
   ]
  },
  {
   "cell_type": "markdown",
   "metadata": {},
   "source": [
    "Reset the workspace. Obtain the difference in number of lines between original Finn file and and the\n",
    "one without blank lines and print the result. (hint: use wc)"
   ]
  },
  {
   "cell_type": "markdown",
   "metadata": {},
   "source": [
    "### LMdP SOLUTION"
   ]
  },
  {
   "cell_type": "code",
   "execution_count": 231,
   "metadata": {},
   "outputs": [
    {
     "data": {
      "text/plain": [
       "2690"
      ]
     },
     "execution_count": 231,
     "metadata": {},
     "output_type": "execute_result"
    }
   ],
   "source": [
    "#%reset - ESTO NO LO HAGO QUE NO QUIERO CARGARME TODO LO ANTERIOR\n",
    "# NO VEO MUCHO EL SENTIDO DE ESTE EJEMPLO, HABIENDO HECHO LOS CASOS ANTERIORES...\n",
    "#VEAMOS LA SOLUCIÓN OFICIAL, QUÉ SORPRESAS NOS DEPARA...\n",
    "#SUPONGO QUE EL MISTERIO ESTÁ EN EL \"%reset\" Y NO CONTAR CON LO HECHO ANTERIORMENTE, PERO SÍ LOS ARCHIVOS...\n",
    "\n",
    "lines_diff = len(Finn_lines) - len(Finn_full)\n",
    "lines_diff"
   ]
  },
  {
   "cell_type": "markdown",
   "metadata": {},
   "source": [
    "### OFFICIAL SOLUTION"
   ]
  },
  {
   "cell_type": "code",
   "execution_count": 232,
   "metadata": {},
   "outputs": [
    {
     "data": {
      "text/plain": [
       "2690"
      ]
     },
     "execution_count": 232,
     "metadata": {},
     "output_type": "execute_result"
    }
   ],
   "source": [
    "#%reset - ESTO NO LO HAGO QUE NO QUIERO CARGARME TODO LO ANTERIOR\n",
    "\n",
    "#ES UNA MANERA INGENIOSA DE NO INCLUIR LAS LINEAS EN UNA LISTA\n",
    "\n",
    "lines_no_bl=!wc -l Finn_no_bl.txt | cut -d \" \" -f 1 \n",
    "lines_org=!wc -l Finn.txt | cut -d \" \" -f 1\n",
    "line_diff=int(lines_org[0])-int(lines_no_bl[0])\n",
    "line_diff"
   ]
  },
  {
   "cell_type": "markdown",
   "metadata": {},
   "source": [
    "# Quick Exercises 4"
   ]
  },
  {
   "cell_type": "markdown",
   "metadata": {},
   "source": [
    "## Exercice 4.1"
   ]
  },
  {
   "cell_type": "markdown",
   "metadata": {},
   "source": [
    "For a sequence [1, 2, 3, 4, 5, 6, 7, 8 ] get the squared values using the lambda function."
   ]
  },
  {
   "cell_type": "markdown",
   "metadata": {},
   "source": [
    "### LMdP SOLUTION"
   ]
  },
  {
   "cell_type": "code",
   "execution_count": 247,
   "metadata": {},
   "outputs": [
    {
     "name": "stdout",
     "output_type": "stream",
     "text": [
      "[1, 2, 3, 4, 5, 6, 7, 8, 9]\n",
      "[1, 4, 9, 16, 25, 36, 49, 64, 81]\n"
     ]
    }
   ],
   "source": [
    "sequence = list(range(1,10))\n",
    "print(sequence)\n",
    "\n",
    "square_sequence = []\n",
    "\n",
    "for num in sequence:\n",
    "    square_sequence.append(num ** 2)\n",
    "    \n",
    "print(square_sequence)\n",
    "\n",
    "#OJO, NO ESTOY USANDO LAMBDA --> RECORDAR RELACIÓN ENTRE MAP Y LAMBDA"
   ]
  },
  {
   "cell_type": "markdown",
   "metadata": {},
   "source": [
    "### OFFICIAL SOLUTION"
   ]
  },
  {
   "cell_type": "code",
   "execution_count": 250,
   "metadata": {},
   "outputs": [
    {
     "data": {
      "text/plain": [
       "[1, 4, 9, 16, 25, 36, 49, 64, 81]"
      ]
     },
     "execution_count": 250,
     "metadata": {},
     "output_type": "execute_result"
    }
   ],
   "source": [
    "square_seq = list(map(lambda x: x*x, sequence))\n",
    "square_seq"
   ]
  },
  {
   "cell_type": "markdown",
   "metadata": {},
   "source": [
    "## Exercice 4.2"
   ]
  },
  {
   "cell_type": "markdown",
   "metadata": {},
   "source": [
    "Prepare a list with 10 names. Make a code that will put all vowels to capitals and every other character to lower letters."
   ]
  },
  {
   "cell_type": "markdown",
   "metadata": {},
   "source": [
    "### SOLUTION"
   ]
  },
  {
   "cell_type": "code",
   "execution_count": 251,
   "metadata": {},
   "outputs": [],
   "source": [
    "names = ['ZUtano','menGAno','Cipriano','ROQUE','ANselMO','agustIN','Lope','blas','PIO','RaimUNDO']"
   ]
  },
  {
   "cell_type": "code",
   "execution_count": 264,
   "metadata": {},
   "outputs": [
    {
     "data": {
      "text/plain": [
       "['zUtAnO',\n",
       " 'mEngAnO',\n",
       " 'cIprIAnO',\n",
       " 'rOqUE',\n",
       " 'AnsElmO',\n",
       " 'AgUstín',\n",
       " 'lOpE',\n",
       " 'blAs',\n",
       " 'pIO',\n",
       " 'rAImUndO']"
      ]
     },
     "execution_count": 264,
     "metadata": {},
     "output_type": "execute_result"
    }
   ],
   "source": [
    "names_mod = []\n",
    "\n",
    "for name in names:\n",
    "    name_mod = ''\n",
    "\n",
    "    for letter in name:        \n",
    "        if letter in 'AEIOUaeiou':\n",
    "            name_mod += letter.upper()\n",
    "        else:\n",
    "            name_mod += letter.lower()\n",
    "\n",
    "    names_mod.append(name_mod)\n",
    "\n",
    "names_mod"
   ]
  },
  {
   "cell_type": "markdown",
   "metadata": {},
   "source": [
    "### INTENTO FALLIDO - OJO con la inmutabilidad the los strings!!!\n",
    "\n",
    "Este código da error porque no se pude modificar un string:\n",
    "\n",
    "    vowels = ['a','e','i','o','u']\n",
    "    for name in list_names:\n",
    "        i = 0\n",
    "        for vowel in vowels:\n",
    "            j = 0\n",
    "            if name[j] == vowel:\n",
    "                name[j] = vowel.upper\n",
    "            else:\n",
    "                name[j] = vowel.lower\n",
    "            j =+ 1   \n",
    "        list_names[i] = name\n",
    "            i =+ 1\n",
    "    list_names           "
   ]
  },
  {
   "cell_type": "markdown",
   "metadata": {},
   "source": [
    "## Exercice 4.3"
   ]
  },
  {
   "cell_type": "markdown",
   "metadata": {},
   "source": [
    "Prepare again a list with 10 names. Make a function with two input variables: list, and character; that\n",
    "returns a list of names containing one or more of input characters ’s inside the name.\n"
   ]
  },
  {
   "cell_type": "markdown",
   "metadata": {},
   "source": [
    "### LMdP SOLUTION"
   ]
  },
  {
   "cell_type": "code",
   "execution_count": 269,
   "metadata": {},
   "outputs": [],
   "source": [
    "#CASE INSENSITIVE\n",
    "def list_names_char(lista,char):\n",
    "    lista_mod = []\n",
    "    for name in lista:\n",
    "        if name.find(char) != -1:\n",
    "            lista_mod.append(name)\n",
    "    return lista_mod"
   ]
  },
  {
   "cell_type": "code",
   "execution_count": 270,
   "metadata": {
    "scrolled": true
   },
   "outputs": [
    {
     "data": {
      "text/plain": [
       "['menGAno', 'ANselMO']"
      ]
     },
     "execution_count": 270,
     "metadata": {},
     "output_type": "execute_result"
    }
   ],
   "source": [
    "list_names_char(names,'A')"
   ]
  },
  {
   "cell_type": "code",
   "execution_count": 273,
   "metadata": {},
   "outputs": [],
   "source": [
    "#CASE SENSITIVE\n",
    "def list_names_char(lista,char):\n",
    "    lista_mod = []\n",
    "    for name in lista:\n",
    "        \n",
    "        if name.lower().find(char.lower()) != -1:\n",
    "            lista_mod.append(name)\n",
    "    return lista_mod"
   ]
  },
  {
   "cell_type": "code",
   "execution_count": 274,
   "metadata": {
    "scrolled": true
   },
   "outputs": [
    {
     "data": {
      "text/plain": [
       "['ZUtano', 'menGAno', 'Cipriano', 'ANselMO', 'agustÍN', 'blas', 'RaimUNDO']"
      ]
     },
     "execution_count": 274,
     "metadata": {},
     "output_type": "execute_result"
    }
   ],
   "source": [
    "list_names_char(names,'A')"
   ]
  },
  {
   "cell_type": "markdown",
   "metadata": {},
   "source": [
    "### OFFICIAL SOLUTION"
   ]
  },
  {
   "cell_type": "code",
   "execution_count": 275,
   "metadata": {},
   "outputs": [
    {
     "data": {
      "text/plain": [
       "['ZUtano', 'menGAno', 'Cipriano', 'ANselMO', 'agustÍN', 'blas', 'RaimUNDO']"
      ]
     },
     "execution_count": 275,
     "metadata": {},
     "output_type": "execute_result"
    }
   ],
   "source": [
    "def my_filter(character, collection):\n",
    "    result = []\n",
    "    for element in collection:\n",
    "        if character.lower() in element.lower():\n",
    "            result.append(element)\n",
    "    return result\n",
    "\n",
    "my_filter('A', names)"
   ]
  },
  {
   "cell_type": "markdown",
   "metadata": {},
   "source": [
    "## Exercice 4.4"
   ]
  },
  {
   "cell_type": "markdown",
   "metadata": {},
   "source": [
    "Reverse word order from the input string"
   ]
  },
  {
   "cell_type": "markdown",
   "metadata": {},
   "source": [
    "### SOLUTION"
   ]
  },
  {
   "cell_type": "code",
   "execution_count": 277,
   "metadata": {},
   "outputs": [
    {
     "data": {
      "text/plain": [
       "['e', 'e', 'i', 'j', 'l', 'm', 'o', 'p', 't']"
      ]
     },
     "execution_count": 277,
     "metadata": {},
     "output_type": "execute_result"
    }
   ],
   "source": [
    "example = 'ejemplito'\n",
    "lista = list(example)\n",
    "lista.sort()\n",
    "lista"
   ]
  },
  {
   "cell_type": "markdown",
   "metadata": {},
   "source": [
    "## Exercice 4.5"
   ]
  },
  {
   "cell_type": "markdown",
   "metadata": {},
   "source": [
    "Create a function that accepts string as search string and returns number of lines with that string in the\n",
    "command history (hint : use a in b)"
   ]
  },
  {
   "cell_type": "markdown",
   "metadata": {},
   "source": [
    "### SOLUTION"
   ]
  },
  {
   "cell_type": "code",
   "execution_count": 280,
   "metadata": {},
   "outputs": [
    {
     "data": {
      "text/plain": [
       "8"
      ]
     },
     "execution_count": 280,
     "metadata": {},
     "output_type": "execute_result"
    }
   ],
   "source": [
    "def numl_search_hist(search_str):\n",
    "    numl = 0\n",
    "    for item in _dh:\n",
    "        if search_str in item:\n",
    "            numl += 1\n",
    "    return numl\n",
    "\n",
    "numl_search_hist('Data')\n",
    "    "
   ]
  },
  {
   "cell_type": "markdown",
   "metadata": {},
   "source": [
    "## Exercice 4.6"
   ]
  },
  {
   "cell_type": "markdown",
   "metadata": {},
   "source": [
    "Write a Python function that takes a list of words and returns the length of the longest one."
   ]
  },
  {
   "cell_type": "markdown",
   "metadata": {},
   "source": [
    "### SOLUTION"
   ]
  },
  {
   "cell_type": "code",
   "execution_count": 299,
   "metadata": {},
   "outputs": [],
   "source": [
    "ejemplo_lista = ['123','1','12']"
   ]
  },
  {
   "cell_type": "code",
   "execution_count": 304,
   "metadata": {},
   "outputs": [
    {
     "data": {
      "text/plain": [
       "8"
      ]
     },
     "execution_count": 304,
     "metadata": {},
     "output_type": "execute_result"
    }
   ],
   "source": [
    "def longest(word_list):\n",
    "    \n",
    "    length_1 = len(word_list[0])\n",
    "    \n",
    "    for word in word_list[1:]:\n",
    "        length_2 = len(word)\n",
    "        if length_2 > length_1:\n",
    "            longest = length_2\n",
    "            length_1 = length_2\n",
    "        \n",
    "        else:\n",
    "            longest = length_1\n",
    "\n",
    "    return longest\n",
    "\n",
    "longest(names)\n",
    "        "
   ]
  },
  {
   "cell_type": "code",
   "execution_count": 305,
   "metadata": {
    "scrolled": true
   },
   "outputs": [
    {
     "data": {
      "text/plain": [
       "3"
      ]
     },
     "execution_count": 305,
     "metadata": {},
     "output_type": "execute_result"
    }
   ],
   "source": [
    "longest(ejemplo_lista)"
   ]
  }
 ],
 "metadata": {
  "kernelspec": {
   "display_name": "Python 3",
   "language": "python",
   "name": "python3"
  },
  "language_info": {
   "codemirror_mode": {
    "name": "ipython",
    "version": 3
   },
   "file_extension": ".py",
   "mimetype": "text/x-python",
   "name": "python",
   "nbconvert_exporter": "python",
   "pygments_lexer": "ipython3",
   "version": "3.7.1"
  }
 },
 "nbformat": 4,
 "nbformat_minor": 4
}
