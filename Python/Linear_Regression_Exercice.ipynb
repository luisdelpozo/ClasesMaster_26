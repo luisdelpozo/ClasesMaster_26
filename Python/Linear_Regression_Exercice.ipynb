{
 "cells": [
  {
   "cell_type": "markdown",
   "metadata": {
    "slideshow": {
     "slide_type": "slide"
    }
   },
   "source": [
    "## A Linear Regression example with numpy\n",
    "\n",
    "Now, we are ready to implement our own linear regression example. "
   ]
  },
  {
   "cell_type": "markdown",
   "metadata": {
    "slideshow": {
     "slide_type": "fragment"
    }
   },
   "source": [
    "In linear regression, our hypothesis function $h_\\theta$ is:\n",
    "\n",
    "$$h_\\theta(x) = \\theta_0 + \\theta_1x$$"
   ]
  },
  {
   "cell_type": "markdown",
   "metadata": {
    "slideshow": {
     "slide_type": "fragment"
    }
   },
   "source": [
    "And, as we are doing regression, our cost function is: \n",
    "\n",
    "$$J(\\theta_0,\\theta_1) = \\frac{1}{m}\\sum_{i=1}^m(\\hat{y}_i-y_i)^2 = \\frac{1}{m}\\sum_{i=1}^m(h_\\theta(x_i)-y_i)^2 $$"
   ]
  },
  {
   "cell_type": "markdown",
   "metadata": {
    "slideshow": {
     "slide_type": "slide"
    }
   },
   "source": [
    "### Generate dummy data"
   ]
  },
  {
   "cell_type": "code",
   "execution_count": 242,
   "metadata": {
    "scrolled": true,
    "slideshow": {
     "slide_type": "fragment"
    }
   },
   "outputs": [
    {
     "data": {
      "text/plain": [
       "<matplotlib.collections.PathCollection at 0x7f820938d748>"
      ]
     },
     "execution_count": 242,
     "metadata": {},
     "output_type": "execute_result"
    },
    {
     "data": {
      "image/png": "[encoded data removed]",
      "text/plain": [
       "<Figure size 432x288 with 1 Axes>"
      ]
     },
     "metadata": {},
     "output_type": "display_data"
    }
   ],
   "source": [
    "theta_real_0 = 50\n",
    "theta_real_1 = 1.3\n",
    "\n",
    "xs = np.random.normal(30.0, 10.0,250)\n",
    "ys = theta_real_0 + theta_real_1 * xs + np.random.normal(0, 5.0,250)\n",
    "\n",
    "plt.scatter(xs,ys)"
   ]
  },
  {
   "cell_type": "markdown",
   "metadata": {
    "slideshow": {
     "slide_type": "fragment"
    }
   },
   "source": [
    "That is the spread that we will try to aproximate with our line."
   ]
  },
  {
   "cell_type": "markdown",
   "metadata": {
    "slideshow": {
     "slide_type": "slide"
    }
   },
   "source": [
    "### Write the cost function"
   ]
  },
  {
   "cell_type": "code",
   "execution_count": 243,
   "metadata": {},
   "outputs": [
    {
     "data": {
      "text/plain": [
       "27.80687086544504"
      ]
     },
     "execution_count": 243,
     "metadata": {},
     "output_type": "execute_result"
    }
   ],
   "source": [
    "theta_0 = theta_real_0\n",
    "theta_1 = theta_real_1\n",
    "\n",
    "m = len(xs)\n",
    "\n",
    "cost_function = (1/m) * (((theta_1 * xs + theta_0) - ys)**2).sum()\n",
    "cost_function"
   ]
  },
  {
   "cell_type": "markdown",
   "metadata": {
    "slideshow": {
     "slide_type": "slide"
    }
   },
   "source": [
    "### Gradient descent"
   ]
  },
  {
   "cell_type": "markdown",
   "metadata": {
    "slideshow": {
     "slide_type": "fragment"
    }
   },
   "source": [
    "Remember, we have to descend in the direction of the steepest gradient. For that, we need to now what direction the gradient points!"
   ]
  },
  {
   "cell_type": "markdown",
   "metadata": {
    "slideshow": {
     "slide_type": "fragment"
    }
   },
   "source": [
    "### Partial differentials of the cost function\n",
    "\n",
    "$$\\frac{\\partial}{\\partial\\theta_0} = \\frac{1}{m}\\sum_{i=1}^m(h_\\theta(x_i)-y_i)$$\n",
    "\n",
    "$$\\frac{\\partial}{\\partial\\theta_1} = \\frac{1}{m}\\sum_{i=1}^m(h_\\theta(x_i)-y_i) \\cdot x_i$$"
   ]
  },
  {
   "cell_type": "code",
   "execution_count": 248,
   "metadata": {
    "jupyter": {
     "outputs_hidden": true
    },
    "scrolled": true,
    "slideshow": {
     "slide_type": "fragment"
    }
   },
   "outputs": [
    {
     "data": {
      "text/plain": [
       "-0.5646831776260615"
      ]
     },
     "execution_count": 248,
     "metadata": {},
     "output_type": "execute_result"
    }
   ],
   "source": [
    "G_theta_0 = (2/m) * ((theta_1 * xs + theta_0) - ys).sum()\n",
    "G_theta_0"
   ]
  },
  {
   "cell_type": "code",
   "execution_count": 249,
   "metadata": {},
   "outputs": [
    {
     "data": {
      "text/plain": [
       "-24.017966362149913"
      ]
     },
     "execution_count": 249,
     "metadata": {},
     "output_type": "execute_result"
    }
   ],
   "source": [
    "G_theta_1 = (2/m) * (((theta_1 * xs + theta_0) - ys)*xs).sum()\n",
    "G_theta_1"
   ]
  },
  {
   "cell_type": "markdown",
   "metadata": {
    "slideshow": {
     "slide_type": "slide"
    }
   },
   "source": [
    "### Implementing gradient descent\n",
    "\n",
    "Now we are ready to implement the actual gradient descent. Remember, the algorithm is:\n",
    "\n",
    "- Initialize variables\n",
    "\n",
    "- Compute cost function\n",
    "\n",
    "- Compute gradients\n",
    "\n",
    "- Update variables: gradient times learning rate (alpha)\n",
    "\n",
    "- Repeat until convergence: cost at iteration n-1 $\\sim$ cost at iteration n"
   ]
  },
  {
   "cell_type": "code",
   "execution_count": null,
   "metadata": {},
   "outputs": [],
   "source": []
  },
  {
   "cell_type": "code",
   "execution_count": 408,
   "metadata": {
    "jupyter": {
     "outputs_hidden": true
    },
    "slideshow": {
     "slide_type": "slide"
    }
   },
   "outputs": [
    {
     "name": "stdout",
     "output_type": "stream",
     "text": [
      "theta_0 =  49.21339812304554\n",
      "theta_1 =  1.3361371826131994\n",
      "cost_function =  27.59511492643659\n",
      "i =  49928\n",
      "diff = 9.99662574940885e-11\n"
     ]
    },
    {
     "data": {
      "text/plain": [
       "[<matplotlib.lines.Line2D at 0x7f8206d8c390>]"
      ]
     },
     "execution_count": 408,
     "metadata": {},
     "output_type": "execute_result"
    },
    {
     "data": {
      "image/png": "[encoded data removed]",
      "text/plain": [
       "<Figure size 432x288 with 1 Axes>"
      ]
     },
     "metadata": {},
     "output_type": "display_data"
    }
   ],
   "source": [
    "#OPTION 1 - SIMPLEST ONE\n",
    "\n",
    "i = 0\n",
    "alpha = 0.001\n",
    "theta_0 = 1\n",
    "theta_1 = 1\n",
    "diff = 1\n",
    "\n",
    "cost_function_1 = (1/m) * (((theta_1 * xs + theta_0) - ys)**2).sum()\n",
    "G_theta_0 = (2/m) * ((theta_1 * xs + theta_0) - ys).sum()\n",
    "G_theta_1 = (2/m) * (((theta_1 * xs + theta_0) - ys)*xs).sum()\n",
    "\n",
    "while diff > 0.0000000001 and i < 100000:\n",
    "    \n",
    "    theta_0 = theta_0 - alpha * G_theta_0\n",
    "    theta_1 = theta_1 - alpha * G_theta_1\n",
    "    \n",
    "    cost_function_2 = (1/m) * (((theta_1 * xs + theta_0) - ys)**2).sum()\n",
    "    diff = abs(cost_function_1 - cost_function_2)\n",
    "    \n",
    "    #print(theta_0, theta_1, G_theta_0, G_theta_1, cost_function_2, diff)\n",
    "    \n",
    "    G_theta_0 = (2/m) * ((theta_1 * xs + theta_0) - ys).sum()\n",
    "    G_theta_1 = (2/m) * (((theta_1 * xs + theta_0) - ys)*xs).sum()\n",
    "    cost_function_1 = cost_function_2\n",
    "    i += 1\n",
    "\n",
    "print('theta_0 = ', theta_0)\n",
    "print('theta_1 = ', theta_1)\n",
    "print('cost_function = ', cost_function_2)\n",
    "print('i = ', i)\n",
    "print('diff =', diff)\n",
    "\n",
    "ys_pred = theta_0 + theta_1 * xs\n",
    "\n",
    "plt.scatter(xs,ys)\n",
    "plt.plot(xs,ys_pred,color='b')"
   ]
  },
  {
   "cell_type": "code",
   "execution_count": 364,
   "metadata": {
    "jupyter": {
     "outputs_hidden": true
    },
    "slideshow": {
     "slide_type": "slide"
    }
   },
   "outputs": [
    {
     "name": "stdout",
     "output_type": "stream",
     "text": [
      "theta_0 =  49.213398133234676\n",
      "theta_1 =  1.3361371823044348\n",
      "cost_function =  27.595114926433364\n",
      "i =  50024\n",
      "diff = 9.99733629214461e-11\n"
     ]
    },
    {
     "data": {
      "text/plain": [
       "[<matplotlib.lines.Line2D at 0x7f8207d68d68>]"
      ]
     },
     "execution_count": 364,
     "metadata": {},
     "output_type": "execute_result"
    },
    {
     "data": {
      "image/png": "[encoded data removed]",
      "text/plain": [
       "<Figure size 432x288 with 1 Axes>"
      ]
     },
     "metadata": {},
     "output_type": "display_data"
    }
   ],
   "source": [
    "#OPTION 2 - ORIGINAL (MORE CALCS)\n",
    "i = 0\n",
    "alpha = 0.001\n",
    "theta_0 = 0\n",
    "theta_1 = 0\n",
    "diff = 1\n",
    "\n",
    "G_theta_0 = (2/m) * ((theta_1 * xs + theta_0) - ys).sum()\n",
    "G_theta_1 = (2/m) * (((theta_1 * xs + theta_0) - ys)*xs).sum()\n",
    "\n",
    "while diff > 0.0000000001 and i < 100000:\n",
    "    \n",
    "    cost_function_1 = (1/m) * (((theta_1 * xs + theta_0) - ys)**2).sum()\n",
    "    theta_0 = theta_0 - alpha * G_theta_0\n",
    "    theta_1 = theta_1 - alpha * G_theta_1\n",
    "    \n",
    "    cost_function_2 = (1/m) * (((theta_1 * xs + theta_0) - ys)**2).sum()\n",
    "    G_theta_0 = (2/m) * ((theta_1 * xs + theta_0) - ys).sum()\n",
    "    G_theta_1 = (2/m) * (((theta_1 * xs + theta_0) - ys)*xs).sum()\n",
    "    \n",
    "    diff = abs(cost_function_1 - cost_function_2)\n",
    "    i += 1\n",
    "\n",
    "print('theta_0 = ', theta_0)\n",
    "print('theta_1 = ', theta_1)\n",
    "print('cost_function = ', cost_function_2)\n",
    "print('i = ', i)\n",
    "print('diff =', diff)\n",
    "\n",
    "ys_pred = theta_0 + theta_1 * xs\n",
    "\n",
    "plt.scatter(xs,ys)\n",
    "plt.plot(xs,ys_pred,color='b')"
   ]
  },
  {
   "cell_type": "markdown",
   "metadata": {
    "slideshow": {
     "slide_type": "fragment"
    }
   },
   "source": [
    "In order to check the answer above, $\\theta_0$ and $\\theta_1$ are calculated considering the exact formula that minimize the cost function:\n",
    "\n",
    "$$\\theta_1 = \\frac{\\sum_{i=1}^m({x}_i-\\bar{x}).({y}_i-\\bar{y})}{\\sum_{i=1}^m({x}_i-\\bar{x})^2} $$\n",
    "\n",
    "$$\\theta_0 = \\bar{y} - \\theta_1.\\bar{x} $$"
   ]
  },
  {
   "cell_type": "markdown",
   "metadata": {
    "slideshow": {
     "slide_type": "slide"
    }
   },
   "source": [
    "  "
   ]
  },
  {
   "cell_type": "code",
   "execution_count": 315,
   "metadata": {},
   "outputs": [
    {
     "data": {
      "text/plain": [
       "29.57578287133928"
      ]
     },
     "execution_count": 315,
     "metadata": {},
     "output_type": "execute_result"
    }
   ],
   "source": [
    "xs_mean = xs.mean()\n",
    "xs_mean"
   ]
  },
  {
   "cell_type": "code",
   "execution_count": 316,
   "metadata": {},
   "outputs": [
    {
     "data": {
      "text/plain": [
       "88.7308593215541"
      ]
     },
     "execution_count": 316,
     "metadata": {},
     "output_type": "execute_result"
    }
   ],
   "source": [
    "ys_mean = ys.mean()\n",
    "ys_mean"
   ]
  },
  {
   "cell_type": "code",
   "execution_count": 317,
   "metadata": {},
   "outputs": [
    {
     "data": {
      "text/plain": [
       "1.3360910369289962"
      ]
     },
     "execution_count": 317,
     "metadata": {},
     "output_type": "execute_result"
    }
   ],
   "source": [
    "theta_1_function = ((xs-xs_mean)*(ys-ys_mean)).sum() / ((xs-xs_mean)**2).sum()\n",
    "theta_1_function"
   ]
  },
  {
   "cell_type": "code",
   "execution_count": 318,
   "metadata": {},
   "outputs": [
    {
     "data": {
      "text/plain": [
       "49.21492091699957"
      ]
     },
     "execution_count": 318,
     "metadata": {},
     "output_type": "execute_result"
    }
   ],
   "source": [
    "theta_0_function = ys_mean - theta_1_function * xs_mean\n",
    "theta_0_function"
   ]
  },
  {
   "cell_type": "code",
   "execution_count": 319,
   "metadata": {},
   "outputs": [
    {
     "data": {
      "text/plain": [
       "0.0030941505879059474"
      ]
     },
     "execution_count": 319,
     "metadata": {},
     "output_type": "execute_result"
    }
   ],
   "source": [
    "theta_0_error = abs(theta_0 - theta_0_function)/theta_0_function *100\n",
    "theta_0_error"
   ]
  },
  {
   "cell_type": "code",
   "execution_count": 320,
   "metadata": {},
   "outputs": [
    {
     "data": {
      "text/plain": [
       "0.003453759823479667"
      ]
     },
     "execution_count": 320,
     "metadata": {},
     "output_type": "execute_result"
    }
   ],
   "source": [
    "theta_1_error = abs(theta_1 - theta_1_function)/theta_1_function *100\n",
    "theta_1_error"
   ]
  },
  {
   "cell_type": "code",
   "execution_count": null,
   "metadata": {},
   "outputs": [],
   "source": []
  },
  {
   "cell_type": "markdown",
   "metadata": {},
   "source": [
    "## CALCULATION BY NUMERICAL APPROACH"
   ]
  },
  {
   "cell_type": "code",
   "execution_count": 412,
   "metadata": {
    "jupyter": {
     "outputs_hidden": true
    },
    "slideshow": {
     "slide_type": "slide"
    }
   },
   "outputs": [
    {
     "name": "stdout",
     "output_type": "stream",
     "text": [
      "theta_0 =  49.168062906610196\n",
      "theta_1 =  1.3368424187869647\n",
      "cost_function =  27.59577881413469\n",
      "i =  54889\n",
      "diff = 9.99786919919643e-10\n"
     ]
    },
    {
     "data": {
      "text/plain": [
       "[<matplotlib.lines.Line2D at 0x7f820540cf28>]"
      ]
     },
     "execution_count": 412,
     "metadata": {},
     "output_type": "execute_result"
    },
    {
     "data": {
      "image/png": "[encoded data removed]",
      "text/plain": [
       "<Figure size 432x288 with 1 Axes>"
      ]
     },
     "metadata": {},
     "output_type": "display_data"
    }
   ],
   "source": [
    "# CALCULATION CONSIDERING NUMERICAL APPROACH FOR CALCULATING GRADIENTS\n",
    "i = 0\n",
    "alpha = 0.001\n",
    "beta = 1.001\n",
    "theta_0 = 1\n",
    "theta_1 = 1\n",
    "diff = 1\n",
    "\n",
    "cost_function_1 = (1/m) * (((theta_1 * xs + theta_0) - ys)**2).sum()\n",
    "cost_function_1_GN_0 = (1/m) * ((((theta_1 * xs) + (beta * theta_0)) - ys)**2).sum()\n",
    "cost_function_1_GN_1 = (1/m) * ((((beta * theta_1) * xs + theta_0) - ys)**2).sum()\n",
    "\n",
    "GN_theta_0 = (cost_function_1_GN_0 - cost_function_1) / (theta_0 * (beta - 1))\n",
    "GN_theta_1 = (cost_function_1_GN_1 - cost_function_1) / (theta_1 * (beta - 1))\n",
    "\n",
    "while diff > 0.000000001 and i < 100000:\n",
    "    \n",
    "    #print(GN_theta_0,GN_theta_1)\n",
    "    \n",
    "    theta_0 = theta_0 - alpha * GN_theta_0\n",
    "    theta_1 = theta_1 - alpha * GN_theta_1\n",
    "    cost_function_2 = (1/m) * (((theta_1 * xs + theta_0) - ys)**2).sum()\n",
    "    \n",
    "    diff = abs(cost_function_1 - cost_function_2)\n",
    "\n",
    "    #print(theta_0,theta_1,GN_theta_0, GN_theta_1, cost_function_2, diff)\n",
    "    \n",
    "    cost_function_1_GN_0 = (1/m) * ((((theta_1 * xs) + (beta * theta_0)) - ys)**2).sum()\n",
    "    cost_function_1_GN_1 = (1/m) * ((((beta * theta_1) * xs + theta_0) - ys)**2).sum()\n",
    "    GN_theta_0 = (cost_function_1_GN_0 - cost_function_2) / (theta_0 * (beta - 1))\n",
    "    GN_theta_1 = (cost_function_1_GN_1 - cost_function_2) / (theta_1 * (beta - 1))\n",
    "\n",
    "    cost_function_1 = cost_function_2\n",
    "    i += 1\n",
    "\n",
    "print('theta_0 = ', theta_0)\n",
    "print('theta_1 = ', theta_1)\n",
    "print('cost_function = ', cost_function_2)\n",
    "print('i = ', i)\n",
    "print('diff =', diff)\n",
    "\n",
    "ys_pred = theta_0 + theta_1 * xs\n",
    "\n",
    "plt.scatter(xs,ys)\n",
    "plt.plot(xs,ys_pred,color='b')"
   ]
  },
  {
   "cell_type": "code",
   "execution_count": null,
   "metadata": {},
   "outputs": [],
   "source": []
  },
  {
   "cell_type": "markdown",
   "metadata": {
    "slideshow": {
     "slide_type": "slide"
    }
   },
   "source": [
    "   "
   ]
  },
  {
   "cell_type": "markdown",
   "metadata": {
    "slideshow": {
     "slide_type": "slide"
    }
   },
   "source": [
    "# Additional References\n",
    "\n",
    "[Python for Data Analysis](http://shop.oreilly.com/product/0636920023784.do)\n",
    "\n",
    "[What is SciPy?](https://www.scipy.org/)\n",
    "\n",
    "[How can SciPy be fast if it is written in an interpreted language like Python?](https://www.scipy.org/scipylib/faq.html#how-can-scipy-be-fast-if-it-is-written-in-an-interpreted-language-like-python)\n",
    "\n",
    "[What is the difference between NumPy and SciPy?](https://www.scipy.org/scipylib/faq.html#what-is-the-difference-between-numpy-and-scipy)\n",
    "\n",
    "[Linear Algebra for AI](https://github.com/fastai/fastai/blob/master/tutorials/linalg_pytorch.ipynb)"
   ]
  }
 ],
 "metadata": {
  "kernelspec": {
   "display_name": "Python 3",
   "language": "python",
   "name": "python3"
  },
  "language_info": {
   "codemirror_mode": {
    "name": "ipython",
    "version": 3
   },
   "file_extension": ".py",
   "mimetype": "text/x-python",
   "name": "python",
   "nbconvert_exporter": "python",
   "pygments_lexer": "ipython3",
   "version": "3.7.1"
  },
  "livereveal": {
   "scroll": true,
   "start_slideshow_at": "selected"
  },
  "toc-autonumbering": false
 },
 "nbformat": 4,
 "nbformat_minor": 4
}
