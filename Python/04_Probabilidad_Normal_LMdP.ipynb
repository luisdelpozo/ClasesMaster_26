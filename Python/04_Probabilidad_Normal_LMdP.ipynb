{
 "cells": [
  {
   "cell_type": "markdown",
   "metadata": {},
   "source": [
    "# Probabilidad Normal con Python"
   ]
  },
  {
   "cell_type": "code",
   "execution_count": 1,
   "metadata": {},
   "outputs": [],
   "source": [
    "import scipy.stats as ss"
   ]
  },
  {
   "cell_type": "markdown",
   "metadata": {},
   "source": [
    "En cuanto a nomenclatura de las funciones:\n",
    "\n",
    "- cdf(x) - Función de distribución F(X)\n",
    "\n",
    "- sf(x) = 1 - cdf(x)\n",
    " \n",
    "- pmf(x) - Función de probabilidad f(x) (distribuciones discretas)\n",
    " \n",
    "- pdf(x) - Función de densidad f(x) (distribuciones continuas)\n",
    " \n",
    "- ppf(x) - Función inversa a cdf(x). Nos permite obtener el valor correspondiente a una probabilidad."
   ]
  },
  {
   "cell_type": "code",
   "execution_count": 2,
   "metadata": {},
   "outputs": [],
   "source": [
    "import numpy as np\n",
    "import matplotlib.pyplot as plt"
   ]
  },
  {
   "cell_type": "markdown",
   "metadata": {},
   "source": [
    "### Ejercicio 1"
   ]
  },
  {
   "cell_type": "markdown",
   "metadata": {},
   "source": [
    "La duración de un determinado componente electrónico, en horas, es una v.a. que se distribuye según una N(2000,40).\n",
    "\n",
    "a)¿Cuál es la probabilidad de que la duración de una de esas componentes sea superior a 1900 horas? \n",
    "\n",
    "b)¿y de que esté entre 1850 y 1950 horas?"
   ]
  },
  {
   "cell_type": "markdown",
   "metadata": {},
   "source": [
    "#### Solución"
   ]
  },
  {
   "cell_type": "markdown",
   "metadata": {},
   "source": [
    "En primer lugar voy a representar la variable:"
   ]
  },
  {
   "cell_type": "code",
   "execution_count": 6,
   "metadata": {},
   "outputs": [
    {
     "data": {
      "image/png": "[encoded data removed]",
      "text/plain": [
       "<Figure size 432x288 with 1 Axes>"
      ]
     },
     "metadata": {
      "needs_background": "light"
     },
     "output_type": "display_data"
    }
   ],
   "source": [
    "X = ss.norm(2000,40)\n",
    "x = np.arange(X.ppf(0.00001),X.ppf(0.99999))\n",
    "plt.plot(x,X.pdf(x),\"r\")\n",
    "plt.show()\n",
    "# Que el resultado de X.ppf(0.01) sea 1906.94608504 significa que: con probabilidad 0.01 X vale menos \n",
    "# que 1906.94608504\n",
    "# Que el resultado de X.ppf(0.99) sea 2092.94608504 significa que: con probabilidad 0.99 X vale menos \n",
    "# que 2092.94608504"
   ]
  },
  {
   "cell_type": "markdown",
   "metadata": {},
   "source": [
    "Apartado a)\n"
   ]
  },
  {
   "cell_type": "code",
   "execution_count": 7,
   "metadata": {},
   "outputs": [
    {
     "data": {
      "text/plain": [
       "0.9937903346742238"
      ]
     },
     "execution_count": 7,
     "metadata": {},
     "output_type": "execute_result"
    }
   ],
   "source": [
    "X.sf(1900) # 0.99379033467422384"
   ]
  },
  {
   "cell_type": "markdown",
   "metadata": {},
   "source": [
    "Apartado b)"
   ]
  },
  {
   "cell_type": "code",
   "execution_count": 8,
   "metadata": {},
   "outputs": [
    {
     "data": {
      "text/plain": [
       "0.10556135638165455"
      ]
     },
     "execution_count": 8,
     "metadata": {},
     "output_type": "execute_result"
    }
   ],
   "source": [
    "X.cdf(1950) - X.cdf(1850) # 0.10556135638165455"
   ]
  },
  {
   "cell_type": "code",
   "execution_count": 23,
   "metadata": {},
   "outputs": [
    {
     "data": {
      "text/plain": [
       "0.0"
      ]
     },
     "execution_count": 23,
     "metadata": {},
     "output_type": "execute_result"
    }
   ],
   "source": [
    "X.pdf"
   ]
  },
  {
   "cell_type": "markdown",
   "metadata": {},
   "source": [
    "### Ejercicio 2"
   ]
  },
  {
   "cell_type": "markdown",
   "metadata": {},
   "source": [
    "La media de los pesos de 500 estudiantes de un colegio es 70 kg y la desviación típica 3 kg.\n",
    "\n",
    "Suponiendo que los pesos se distribuyen normalmente, hallar cuántos estudiantes pesan:\n",
    "\n",
    "1 Entre 60 kg y 75 kg.\n",
    "\n",
    "2 Más de 90 kg.\n",
    "\n",
    "3 Menos de 64 kg.\n",
    "\n",
    "$\\color{red}{\\text{4 64 kg.}}$\n"
   ]
  },
  {
   "cell_type": "markdown",
   "metadata": {},
   "source": [
    "#### Solución"
   ]
  },
  {
   "cell_type": "code",
   "execution_count": 9,
   "metadata": {},
   "outputs": [],
   "source": [
    "# Genero mi vble\n",
    "X = ss.norm(70,3)"
   ]
  },
  {
   "cell_type": "markdown",
   "metadata": {},
   "source": [
    "1) P[60<= X <= 75] = P[X<= 75] - P[X <= 60]"
   ]
  },
  {
   "cell_type": "code",
   "execution_count": 10,
   "metadata": {},
   "outputs": [
    {
     "data": {
      "text/plain": [
       "0.9517805873939885"
      ]
     },
     "execution_count": 10,
     "metadata": {},
     "output_type": "execute_result"
    }
   ],
   "source": [
    "prob = X.cdf(75) - X.cdf(60)\n",
    "prob"
   ]
  },
  {
   "cell_type": "code",
   "execution_count": 11,
   "metadata": {
    "scrolled": true
   },
   "outputs": [
    {
     "data": {
      "text/plain": [
       "475.89029369699426"
      ]
     },
     "execution_count": 11,
     "metadata": {},
     "output_type": "execute_result"
    }
   ],
   "source": [
    "prob*500"
   ]
  },
  {
   "cell_type": "markdown",
   "metadata": {},
   "source": [
    "2) P[X>90] = 1-P[X<=90]"
   ]
  },
  {
   "cell_type": "code",
   "execution_count": 12,
   "metadata": {},
   "outputs": [
    {
     "data": {
      "text/plain": [
       "1.3083924686052994e-11"
      ]
     },
     "execution_count": 12,
     "metadata": {},
     "output_type": "execute_result"
    }
   ],
   "source": [
    "prob2 = X.sf(90)\n",
    "prob2"
   ]
  },
  {
   "cell_type": "code",
   "execution_count": 13,
   "metadata": {},
   "outputs": [
    {
     "data": {
      "text/plain": [
       "6.541962343026497e-09"
      ]
     },
     "execution_count": 13,
     "metadata": {},
     "output_type": "execute_result"
    }
   ],
   "source": [
    "prob2*500"
   ]
  },
  {
   "cell_type": "markdown",
   "metadata": {},
   "source": [
    "3) P[X<=64]"
   ]
  },
  {
   "cell_type": "code",
   "execution_count": 14,
   "metadata": {
    "scrolled": true
   },
   "outputs": [
    {
     "data": {
      "text/plain": [
       "0.022750131948179195"
      ]
     },
     "execution_count": 14,
     "metadata": {},
     "output_type": "execute_result"
    }
   ],
   "source": [
    "prob3 = X.cdf(64)\n",
    "prob3"
   ]
  },
  {
   "cell_type": "code",
   "execution_count": 15,
   "metadata": {},
   "outputs": [
    {
     "data": {
      "text/plain": [
       "11.375065974089598"
      ]
     },
     "execution_count": 15,
     "metadata": {},
     "output_type": "execute_result"
    }
   ],
   "source": [
    "prob3*500"
   ]
  },
  {
   "cell_type": "code",
   "execution_count": 19,
   "metadata": {},
   "outputs": [
    {
     "data": {
      "text/plain": [
       "nan"
      ]
     },
     "execution_count": 19,
     "metadata": {},
     "output_type": "execute_result"
    }
   ],
   "source": [
    "prob4 = X.ppf(64)\n",
    "prob4"
   ]
  },
  {
   "cell_type": "markdown",
   "metadata": {},
   "source": [
    "### $\\color{red}{\\text{Ejercicio 3}}$"
   ]
  },
  {
   "cell_type": "markdown",
   "metadata": {},
   "source": [
    "En unos estudios realizados a un determinado tipo de aves rapaces, se comprueba que la longitud de las alas extendidas, X,\n",
    "es una variable aleatoria que se distribuye aproximadamente según una curva Normal, de media 110 cm. y desviación típica 4 cm.\n",
    "Elegida un ave al azar y suponiendo que las longitudes se distribuyen normalmente, calcular:\n",
    "\n",
    "a) La probabilidad de que la longitud de las alas esté comprendida entre 110 y 115 cm.\n",
    "\n",
    "b) La probabilidad de que la longitud de las alas sea mayor que 105 cm.\n",
    "\n",
    "c) La probabilidad de que la longitud de las alas sea menor de 100 cm.\n",
    "\n",
    "d) La longitud mínima  del 20% de las alas que más miden.\n",
    "\n",
    "e) Quince longitudes aleatorias que sigan dicha distribución."
   ]
  },
  {
   "cell_type": "code",
   "execution_count": null,
   "metadata": {},
   "outputs": [],
   "source": []
  },
  {
   "cell_type": "code",
   "execution_count": null,
   "metadata": {},
   "outputs": [],
   "source": []
  },
  {
   "cell_type": "code",
   "execution_count": null,
   "metadata": {},
   "outputs": [],
   "source": []
  }
 ],
 "metadata": {
  "kernelspec": {
   "display_name": "Python 3",
   "language": "python",
   "name": "python3"
  },
  "language_info": {
   "codemirror_mode": {
    "name": "ipython",
    "version": 3
   },
   "file_extension": ".py",
   "mimetype": "text/x-python",
   "name": "python",
   "nbconvert_exporter": "python",
   "pygments_lexer": "ipython3",
   "version": "3.7.1"
  }
 },
 "nbformat": 4,
 "nbformat_minor": 2
}
