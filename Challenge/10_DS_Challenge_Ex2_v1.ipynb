{
 "cells": [
  {
   "cell_type": "markdown",
   "metadata": {},
   "source": [
    "# DS CHALLENGE\n",
    "\n",
    "## EXERCICE 2\n",
    "\n",
    "### PROBLEM STATEMENT\n",
    "\n",
    "#### Top 10 arrival airports in the world in 2013 (using the bookings file).\n",
    "\n",
    "Arrival airport is the column arr_port. It is the IATA code for the airport.\n",
    "\n",
    "To get the total number of passengers for an airport, you can sum the column pax, grouping by arr_port.\n",
    "\n",
    "Note that there is negative pax. That corresponds to cancelations. So to get the total number of passengers that have actually booked, you should sum including the negatives (that will remove the canceled bookings).\n",
    "\n",
    "Print the top 10 arrival airports in the standard output, including the number of passengers.\n",
    "\n",
    "Bonus point: Get the name of the city or airport corresponding to that airport (programatically, we suggest to have a look at GeoBases in Github).\n",
    "\n",
    "Bonus point: Solve this problem using pandas (instead of any other approach)."
   ]
  },
  {
   "cell_type": "markdown",
   "metadata": {},
   "source": [
    "### PROBLEM SOLUTION\n",
    "\n",
    "In order to solve the problem, the folling approach is consdered:\n",
    "\n",
    "1. Take a look of the bookings.csv file to see the type of separation between the characters, the number of columns, and a general overview of the information inside.\n",
    "\n",
    "\n",
    "2. Depending on the information found in step 1, drop duplicates (if it is obvious that duplicates must be an error).\n",
    "\n",
    "\n",
    "3. As bookings.csv file is very big (with more that 10 million lines) the first approach will be to reduce the problem considering a piece of the file. I will take a dataframe of 10000 rows.\n",
    "\n",
    "    3.1. If the number of columns are bigger than the ones we need to solve the problem, I will take only the year, 'arr_port', and 'pax' columns. This will probably reduce the data in memory and it will be earier to work with it.\n",
    "    \n",
    "    3.2. Data study: data quality, types, lenth of the strings, NaN, etc.\n",
    "    \n",
    "    3.3. Solve all the problems find related with the quality of the information.\n",
    "    \n",
    "    3.4. As the only year needed is 2013, I will pick only the 2013 rows.\n",
    "    \n",
    "    3.5. Ones 2013 is filtered, this column is not longer usfull, so year columns will be dropped, so a dataframe with only 2 columns will be used.\n",
    "    \n",
    "    3.6. Groupby 'arr_port' and sum to count the number of bookings\n",
    "    \n",
    "    3.7. Sort in descending order and take the top 10.\n",
    "    \n",
    "\n",
    "4. When everything is OK with the sample it is time to integrate all the knowledge in for the total of the data, using chunks and the powerfull 'read_csv' function.\n",
    "\n",
    "\n",
    "5. For the bonus, I will used a list of the IATA codes for the airports in '/home/dsc/Data/opentraveldata/optd_por_public.csv'. We can find the information needed and then merge it with the one in app. 4."
   ]
  },
  {
   "cell_type": "markdown",
   "metadata": {},
   "source": [
    "### 1. MAIN OVERVIEW"
   ]
  },
  {
   "cell_type": "code",
   "execution_count": 3,
   "metadata": {},
   "outputs": [],
   "source": [
    "booking_path = '/home/dsc/Data/challenge/bookings.csv'"
   ]
  },
  {
   "cell_type": "code",
   "execution_count": 4,
   "metadata": {},
   "outputs": [
    {
     "name": "stdout",
     "output_type": "stream",
     "text": [
      "38\r\n"
     ]
    }
   ],
   "source": [
    "!head -1 /home/dsc/Data/challenge/bookings.csv | tr \"^\" \"\\n\" | wc -l "
   ]
  },
  {
   "cell_type": "code",
   "execution_count": 6,
   "metadata": {
    "scrolled": false
   },
   "outputs": [
    {
     "name": "stdout",
     "output_type": "stream",
     "text": [
      "act_date           ^source^pos_ctry^pos_iata^pos_oid  ^rloc          ^cre_date           ^duration^distance^dep_port^dep_city^dep_ctry^arr_port^arr_city^arr_ctry^lst_port^lst_city^lst_ctry^brd_port^brd_city^brd_ctry^off_port^off_city^off_ctry^mkt_port^mkt_city^mkt_ctry^intl^route          ^carrier^bkg_class^cab_class^brd_time           ^off_time           ^pax^year^month^oid      \r\n"
     ]
    }
   ],
   "source": [
    "!head -1 /home/dsc/Data/challenge/bookings.csv"
   ]
  },
  {
   "cell_type": "code",
   "execution_count": 8,
   "metadata": {
    "scrolled": true
   },
   "outputs": [
    {
     "name": "stdout",
     "output_type": "stream",
     "text": [
      "act_date           ^source^pos_ctry^pos_iata^pos_oid  ^rloc          ^cre_date           ^duration^distance^dep_port^dep_city^dep_ctry^arr_port^arr_city^arr_ctry^lst_port^lst_city^lst_ctry^brd_port^brd_city^brd_ctry^off_port^off_city^off_ctry^mkt_port^mkt_city^mkt_ctry^intl^route          ^carrier^bkg_class^cab_class^brd_time           ^off_time           ^pax^year^month^oid      \r\n",
      "2013-03-05 00:00:00^1A    ^DE      ^a68dd7ae953c8acfb187a1af2dcbe123^1a11ae49fcbf545fd2afc1a24d88d2b7^ea65900e72d71f4626378e2ebd298267^2013-02-22 00:00:00^1708^0^ZRH     ^ZRH     ^CH      ^LHR     ^LON     ^GB      ^ZRH     ^ZRH     ^CH      ^LHR     ^LON     ^GB      ^ZRH     ^ZRH     ^CH      ^LHRZRH  ^LONZRH  ^CHGB    ^1^LHRZRH         ^VI^T        ^Y        ^2013-03-07 08:50:00^2013-03-07 11:33:37^-1^2013^3^NULL     \r\n"
     ]
    }
   ],
   "source": [
    "!head -2 /home/dsc/Data/challenge/bookings.csv"
   ]
  },
  {
   "cell_type": "markdown",
   "metadata": {},
   "source": [
    "#### MAIN OVERVIEW - CONCLUSIONS\n",
    "\n",
    "1. From this easy looking it is obvious that the separator of the file is '^'.\n",
    "\n",
    "2. It is shown also that there are 38  columns, some of them with spaces in the name.\n",
    "\n",
    "3. Column 'year' seems to the column we need to filter by 2013.\n",
    "\n",
    "4. 'pos_iata', 'pos_oid' and 'rloc' columns seems to be a very complex information, so it is expected that duplicated lines are errors."
   ]
  },
  {
   "cell_type": "markdown",
   "metadata": {},
   "source": [
    "### 2. DROP DUPLICATES\n",
    "\n",
    "In this part duplicated lines from bookings.csv will be drpoped and a new file will be created (bookings_no_dups.csv).\n",
    "\n",
    "In order to remove duplicates from a very long file, it is necessary to use \"chunk\" concept in the \"read_csv\" function. \"Chunk\" splits the file in several parts so it is easy to follow the working progress of the laptop."
   ]
  },
  {
   "cell_type": "code",
   "execution_count": 1,
   "metadata": {},
   "outputs": [],
   "source": [
    "import pandas as pd"
   ]
  },
  {
   "cell_type": "code",
   "execution_count": 11,
   "metadata": {},
   "outputs": [],
   "source": [
    "bookings_iterator = pd.read_csv(booking_path,\n",
    "                             delimiter='^',\n",
    "                             low_memory=False, # To be sure that the type of the lines are well interpreted\n",
    "                             dtype = str,      # To be sure that the type of the lines are well interpreted\n",
    "                             chunksize=100000)\n",
    "\n",
    "#When working with \"chunks\", the output of \"read_csv\" is not a dataframe, but an dataframe iterator"
   ]
  },
  {
   "cell_type": "code",
   "execution_count": 12,
   "metadata": {
    "collapsed": true
   },
   "outputs": [
    {
     "name": "stdout",
     "output_type": "stream",
     "text": [
      "0 0\n",
      "1 100000\n",
      "2 200000\n",
      "3 300000\n",
      "4 400000\n",
      "5 500000\n",
      "6 600000\n",
      "7 700000\n",
      "8 800000\n",
      "9 900000\n",
      "10 1000000\n",
      "11 1000000\n",
      "12 1000000\n",
      "13 1000000\n",
      "14 1000000\n",
      "15 1000000\n",
      "16 1000000\n",
      "17 1000000\n",
      "18 1000000\n",
      "19 1000000\n",
      "20 1000000\n",
      "21 1000000\n",
      "22 1000000\n",
      "23 1000000\n",
      "24 1000000\n",
      "25 1000000\n",
      "26 1000000\n",
      "27 1000000\n",
      "28 1000000\n",
      "29 1000000\n",
      "30 1000000\n",
      "31 1000000\n",
      "32 1000000\n",
      "33 1000000\n",
      "34 1000000\n",
      "35 1000000\n",
      "36 1000000\n",
      "37 1000000\n",
      "38 1000000\n",
      "39 1000000\n",
      "40 1000000\n",
      "41 1000000\n",
      "42 1000000\n",
      "43 1000000\n",
      "44 1000000\n",
      "45 1000000\n",
      "46 1000000\n",
      "47 1000000\n",
      "48 1000000\n",
      "49 1000000\n",
      "50 1000000\n",
      "51 1000003\n",
      "52 1000003\n",
      "53 1000003\n",
      "54 1000003\n",
      "55 1000003\n",
      "56 1000003\n",
      "57 1000003\n",
      "58 1000003\n",
      "59 1000003\n",
      "60 1000003\n",
      "61 1000003\n",
      "62 1000003\n",
      "63 1000003\n",
      "64 1000003\n",
      "65 1000003\n",
      "66 1000003\n",
      "67 1000003\n",
      "68 1000003\n",
      "69 1000003\n",
      "70 1000003\n",
      "71 1000003\n",
      "72 1000003\n",
      "73 1000003\n",
      "74 1000003\n",
      "75 1000003\n",
      "76 1000003\n",
      "77 1000003\n",
      "78 1000003\n",
      "79 1000003\n",
      "80 1000003\n",
      "81 1000003\n",
      "82 1000003\n",
      "83 1000003\n",
      "84 1000003\n",
      "85 1000003\n",
      "86 1000003\n",
      "87 1000003\n",
      "88 1000003\n",
      "89 1000003\n",
      "90 1000003\n",
      "91 1000003\n",
      "92 1000003\n",
      "93 1000003\n",
      "94 1000003\n",
      "95 1000003\n",
      "96 1000003\n",
      "97 1000003\n",
      "98 1000003\n",
      "99 1000003\n",
      "100 1000003\n"
     ]
    }
   ],
   "source": [
    "bookings = pd.DataFrame()\n",
    "\n",
    "for i, chunks in enumerate(bookings_iterator):\n",
    "    print(i, len(bookings))\n",
    "    bookings = bookings.append(chunks)\n",
    "    bookings.drop_duplicates(inplace=True)"
   ]
  },
  {
   "cell_type": "markdown",
   "metadata": {},
   "source": [
    "We can see that from more that 10 million of lines, we have now \"only\" one million and three lines, meaning aproximately a 10% of the original file size.\n",
    "\n",
    "Now, a new file will be created with the duplicates dropped and the name of the columns without spaces."
   ]
  },
  {
   "cell_type": "code",
   "execution_count": 14,
   "metadata": {},
   "outputs": [],
   "source": [
    "bookings.columns = bookings.columns.str.strip() #To delet spaces from the columns' name.\n",
    "bookings.to_csv('/home/dsc/Data/challenge/bookings_no_dups.csv',sep='^')"
   ]
  },
  {
   "cell_type": "markdown",
   "metadata": {},
   "source": [
    "### 3. SOLUTION FOR A SAMPLE OF DATA (Small Problem)\n",
    "\n",
    "The new 'bookings_no_dups.csv' file is opened as a 10000 rows dataframe in order to investigate the information inside."
   ]
  },
  {
   "cell_type": "code",
   "execution_count": 15,
   "metadata": {},
   "outputs": [],
   "source": [
    "booking_no_dups_path = '/home/dsc/Data/challenge/bookings_no_dups.csv'"
   ]
  },
  {
   "cell_type": "code",
   "execution_count": 16,
   "metadata": {},
   "outputs": [],
   "source": [
    "df_bookings = pd.read_csv(booking_no_dups_path,delimiter='^',nrows=10000)"
   ]
  },
  {
   "cell_type": "code",
   "execution_count": 17,
   "metadata": {},
   "outputs": [
    {
     "data": {
      "text/plain": [
       "pandas.core.frame.DataFrame"
      ]
     },
     "execution_count": 17,
     "metadata": {},
     "output_type": "execute_result"
    }
   ],
   "source": [
    "type(df_bookings)"
   ]
  },
  {
   "cell_type": "code",
   "execution_count": 18,
   "metadata": {
    "scrolled": false
   },
   "outputs": [
    {
     "data": {
      "text/plain": [
       "Index(['Unnamed: 0', 'act_date', 'source', 'pos_ctry', 'pos_iata', 'pos_oid',\n",
       "       'rloc', 'cre_date', 'duration', 'distance', 'dep_port', 'dep_city',\n",
       "       'dep_ctry', 'arr_port', 'arr_city', 'arr_ctry', 'lst_port', 'lst_city',\n",
       "       'lst_ctry', 'brd_port', 'brd_city', 'brd_ctry', 'off_port', 'off_city',\n",
       "       'off_ctry', 'mkt_port', 'mkt_city', 'mkt_ctry', 'intl', 'route',\n",
       "       'carrier', 'bkg_class', 'cab_class', 'brd_time', 'off_time', 'pax',\n",
       "       'year', 'month', 'oid'],\n",
       "      dtype='object')"
      ]
     },
     "execution_count": 18,
     "metadata": {},
     "output_type": "execute_result"
    }
   ],
   "source": [
    "df_bookings.columns"
   ]
  },
  {
   "cell_type": "code",
   "execution_count": 19,
   "metadata": {
    "scrolled": false
   },
   "outputs": [
    {
     "data": {
      "text/plain": [
       "39"
      ]
     },
     "execution_count": 19,
     "metadata": {},
     "output_type": "execute_result"
    }
   ],
   "source": [
    "len(df_bookings.columns)"
   ]
  },
  {
   "cell_type": "code",
   "execution_count": 23,
   "metadata": {},
   "outputs": [],
   "source": [
    "#Only the needed columns will be considered\n",
    "df = df_bookings[['year','arr_port','pax']]"
   ]
  },
  {
   "cell_type": "code",
   "execution_count": 27,
   "metadata": {
    "scrolled": false
   },
   "outputs": [
    {
     "data": {
      "text/plain": [
       "year         int64\n",
       "arr_port    object\n",
       "pax          int64\n",
       "dtype: object"
      ]
     },
     "execution_count": 27,
     "metadata": {},
     "output_type": "execute_result"
    }
   ],
   "source": [
    "df.dtypes"
   ]
  },
  {
   "cell_type": "code",
   "execution_count": 28,
   "metadata": {
    "scrolled": false
   },
   "outputs": [
    {
     "data": {
      "text/plain": [
       "year        10000\n",
       "arr_port    10000\n",
       "pax         10000\n",
       "dtype: int64"
      ]
     },
     "execution_count": 28,
     "metadata": {},
     "output_type": "execute_result"
    }
   ],
   "source": [
    "df.count()"
   ]
  },
  {
   "cell_type": "code",
   "execution_count": 29,
   "metadata": {
    "scrolled": true
   },
   "outputs": [
    {
     "data": {
      "text/plain": [
       "(10000, 3)"
      ]
     },
     "execution_count": 29,
     "metadata": {},
     "output_type": "execute_result"
    }
   ],
   "source": [
    "df.shape"
   ]
  },
  {
   "cell_type": "code",
   "execution_count": 32,
   "metadata": {},
   "outputs": [
    {
     "data": {
      "text/plain": [
       "(10000, 3)"
      ]
     },
     "execution_count": 32,
     "metadata": {},
     "output_type": "execute_result"
    }
   ],
   "source": [
    "#There is no nan in this sample of data\n",
    "df.dropna().shape"
   ]
  },
  {
   "cell_type": "code",
   "execution_count": 24,
   "metadata": {
    "scrolled": true
   },
   "outputs": [
    {
     "data": {
      "text/html": [
       "<div>\n",
       "<style scoped>\n",
       "    .dataframe tbody tr th:only-of-type {\n",
       "        vertical-align: middle;\n",
       "    }\n",
       "\n",
       "    .dataframe tbody tr th {\n",
       "        vertical-align: top;\n",
       "    }\n",
       "\n",
       "    .dataframe thead th {\n",
       "        text-align: right;\n",
       "    }\n",
       "</style>\n",
       "<table border=\"1\" class=\"dataframe\">\n",
       "  <thead>\n",
       "    <tr style=\"text-align: right;\">\n",
       "      <th></th>\n",
       "      <th>year</th>\n",
       "      <th>arr_port</th>\n",
       "      <th>pax</th>\n",
       "    </tr>\n",
       "  </thead>\n",
       "  <tbody>\n",
       "    <tr>\n",
       "      <th>0</th>\n",
       "      <td>2013</td>\n",
       "      <td>LHR</td>\n",
       "      <td>-1</td>\n",
       "    </tr>\n",
       "    <tr>\n",
       "      <th>1</th>\n",
       "      <td>2013</td>\n",
       "      <td>CLT</td>\n",
       "      <td>1</td>\n",
       "    </tr>\n",
       "    <tr>\n",
       "      <th>2</th>\n",
       "      <td>2013</td>\n",
       "      <td>CLT</td>\n",
       "      <td>1</td>\n",
       "    </tr>\n",
       "    <tr>\n",
       "      <th>3</th>\n",
       "      <td>2013</td>\n",
       "      <td>SVO</td>\n",
       "      <td>1</td>\n",
       "    </tr>\n",
       "    <tr>\n",
       "      <th>4</th>\n",
       "      <td>2013</td>\n",
       "      <td>SVO</td>\n",
       "      <td>1</td>\n",
       "    </tr>\n",
       "  </tbody>\n",
       "</table>\n",
       "</div>"
      ],
      "text/plain": [
       "   year  arr_port  pax\n",
       "0  2013  LHR        -1\n",
       "1  2013  CLT         1\n",
       "2  2013  CLT         1\n",
       "3  2013  SVO         1\n",
       "4  2013  SVO         1"
      ]
     },
     "execution_count": 24,
     "metadata": {},
     "output_type": "execute_result"
    }
   ],
   "source": [
    "df.head()"
   ]
  },
  {
   "cell_type": "code",
   "execution_count": 31,
   "metadata": {},
   "outputs": [
    {
     "data": {
      "text/plain": [
       "array([2013])"
      ]
     },
     "execution_count": 31,
     "metadata": {},
     "output_type": "execute_result"
    }
   ],
   "source": [
    "#It is checked that only 2013 is in the file, so it is not necessary to filter by year, \n",
    "#and this column can be dropped.\n",
    "df.year.unique()"
   ]
  },
  {
   "cell_type": "code",
   "execution_count": 26,
   "metadata": {
    "scrolled": true
   },
   "outputs": [
    {
     "data": {
      "text/html": [
       "<div>\n",
       "<style scoped>\n",
       "    .dataframe tbody tr th:only-of-type {\n",
       "        vertical-align: middle;\n",
       "    }\n",
       "\n",
       "    .dataframe tbody tr th {\n",
       "        vertical-align: top;\n",
       "    }\n",
       "\n",
       "    .dataframe thead th {\n",
       "        text-align: right;\n",
       "    }\n",
       "</style>\n",
       "<table border=\"1\" class=\"dataframe\">\n",
       "  <thead>\n",
       "    <tr style=\"text-align: right;\">\n",
       "      <th></th>\n",
       "      <th>year</th>\n",
       "      <th>pax</th>\n",
       "    </tr>\n",
       "  </thead>\n",
       "  <tbody>\n",
       "    <tr>\n",
       "      <th>count</th>\n",
       "      <td>10000.0</td>\n",
       "      <td>10000.000000</td>\n",
       "    </tr>\n",
       "    <tr>\n",
       "      <th>mean</th>\n",
       "      <td>2013.0</td>\n",
       "      <td>0.516300</td>\n",
       "    </tr>\n",
       "    <tr>\n",
       "      <th>std</th>\n",
       "      <td>0.0</td>\n",
       "      <td>1.783943</td>\n",
       "    </tr>\n",
       "    <tr>\n",
       "      <th>min</th>\n",
       "      <td>2013.0</td>\n",
       "      <td>-25.000000</td>\n",
       "    </tr>\n",
       "    <tr>\n",
       "      <th>25%</th>\n",
       "      <td>2013.0</td>\n",
       "      <td>-1.000000</td>\n",
       "    </tr>\n",
       "    <tr>\n",
       "      <th>50%</th>\n",
       "      <td>2013.0</td>\n",
       "      <td>1.000000</td>\n",
       "    </tr>\n",
       "    <tr>\n",
       "      <th>75%</th>\n",
       "      <td>2013.0</td>\n",
       "      <td>1.000000</td>\n",
       "    </tr>\n",
       "    <tr>\n",
       "      <th>max</th>\n",
       "      <td>2013.0</td>\n",
       "      <td>25.000000</td>\n",
       "    </tr>\n",
       "  </tbody>\n",
       "</table>\n",
       "</div>"
      ],
      "text/plain": [
       "          year           pax\n",
       "count  10000.0  10000.000000\n",
       "mean    2013.0      0.516300\n",
       "std        0.0      1.783943\n",
       "min     2013.0    -25.000000\n",
       "25%     2013.0     -1.000000\n",
       "50%     2013.0      1.000000\n",
       "75%     2013.0      1.000000\n",
       "max     2013.0     25.000000"
      ]
     },
     "execution_count": 26,
     "metadata": {},
     "output_type": "execute_result"
    }
   ],
   "source": [
    "df.describe()"
   ]
  },
  {
   "cell_type": "code",
   "execution_count": 33,
   "metadata": {
    "scrolled": true
   },
   "outputs": [
    {
     "data": {
      "text/html": [
       "<div>\n",
       "<style scoped>\n",
       "    .dataframe tbody tr th:only-of-type {\n",
       "        vertical-align: middle;\n",
       "    }\n",
       "\n",
       "    .dataframe tbody tr th {\n",
       "        vertical-align: top;\n",
       "    }\n",
       "\n",
       "    .dataframe thead th {\n",
       "        text-align: right;\n",
       "    }\n",
       "</style>\n",
       "<table border=\"1\" class=\"dataframe\">\n",
       "  <thead>\n",
       "    <tr style=\"text-align: right;\">\n",
       "      <th></th>\n",
       "      <th>arr_port</th>\n",
       "      <th>pax</th>\n",
       "    </tr>\n",
       "  </thead>\n",
       "  <tbody>\n",
       "    <tr>\n",
       "      <th>0</th>\n",
       "      <td>LHR</td>\n",
       "      <td>-1</td>\n",
       "    </tr>\n",
       "    <tr>\n",
       "      <th>1</th>\n",
       "      <td>CLT</td>\n",
       "      <td>1</td>\n",
       "    </tr>\n",
       "    <tr>\n",
       "      <th>2</th>\n",
       "      <td>CLT</td>\n",
       "      <td>1</td>\n",
       "    </tr>\n",
       "    <tr>\n",
       "      <th>3</th>\n",
       "      <td>SVO</td>\n",
       "      <td>1</td>\n",
       "    </tr>\n",
       "    <tr>\n",
       "      <th>4</th>\n",
       "      <td>SVO</td>\n",
       "      <td>1</td>\n",
       "    </tr>\n",
       "  </tbody>\n",
       "</table>\n",
       "</div>"
      ],
      "text/plain": [
       "   arr_port  pax\n",
       "0  LHR        -1\n",
       "1  CLT         1\n",
       "2  CLT         1\n",
       "3  SVO         1\n",
       "4  SVO         1"
      ]
     },
     "execution_count": 33,
     "metadata": {},
     "output_type": "execute_result"
    }
   ],
   "source": [
    "#Column 'year' is not needed, so it is deleted\n",
    "df = df.drop('year',axis=1)\n",
    "df.head()"
   ]
  },
  {
   "cell_type": "code",
   "execution_count": 37,
   "metadata": {
    "scrolled": true
   },
   "outputs": [
    {
     "data": {
      "text/plain": [
       "count    10000.0\n",
       "mean         8.0\n",
       "std          0.0\n",
       "min          8.0\n",
       "25%          8.0\n",
       "50%          8.0\n",
       "75%          8.0\n",
       "max          8.0\n",
       "Name: arr_port, dtype: float64"
      ]
     },
     "execution_count": 37,
     "metadata": {},
     "output_type": "execute_result"
    }
   ],
   "source": [
    "#'arr_port' is the only string column in the dataframe, \n",
    "#so spaces will be deleted in order to avoid future problems\n",
    "\n",
    "df['arr_port'].str.len().describe()"
   ]
  },
  {
   "cell_type": "code",
   "execution_count": 38,
   "metadata": {},
   "outputs": [
    {
     "data": {
      "text/plain": [
       "0       8\n",
       "1       8\n",
       "2       8\n",
       "3       8\n",
       "4       8\n",
       "       ..\n",
       "9995    8\n",
       "9996    8\n",
       "9997    8\n",
       "9998    8\n",
       "9999    8\n",
       "Name: arr_port, Length: 10000, dtype: int64"
      ]
     },
     "execution_count": 38,
     "metadata": {},
     "output_type": "execute_result"
    }
   ],
   "source": [
    "df['arr_port'].str.len()"
   ]
  },
  {
   "cell_type": "code",
   "execution_count": 40,
   "metadata": {
    "scrolled": false
   },
   "outputs": [
    {
     "data": {
      "text/plain": [
       "0       LHR\n",
       "1       CLT\n",
       "2       CLT\n",
       "3       SVO\n",
       "4       SVO\n",
       "       ... \n",
       "9995    HAN\n",
       "9996    HAN\n",
       "9997    SGN\n",
       "9998    SGN\n",
       "9999    SGN\n",
       "Name: arr_port, Length: 10000, dtype: object"
      ]
     },
     "execution_count": 40,
     "metadata": {},
     "output_type": "execute_result"
    }
   ],
   "source": [
    "df['arr_port'] = df['arr_port'].str.strip()\n",
    "df['arr_port']"
   ]
  },
  {
   "cell_type": "code",
   "execution_count": 42,
   "metadata": {},
   "outputs": [
    {
     "data": {
      "text/plain": [
       "0       3\n",
       "1       3\n",
       "2       3\n",
       "3       3\n",
       "4       3\n",
       "       ..\n",
       "9995    3\n",
       "9996    3\n",
       "9997    3\n",
       "9998    3\n",
       "9999    3\n",
       "Name: arr_port, Length: 10000, dtype: int64"
      ]
     },
     "execution_count": 42,
     "metadata": {},
     "output_type": "execute_result"
    }
   ],
   "source": [
    "#Now, all the chacters in 'arr_por' has a length of 3.\n",
    "df['arr_port'].str.len()"
   ]
  },
  {
   "cell_type": "code",
   "execution_count": 43,
   "metadata": {},
   "outputs": [
    {
     "data": {
      "text/plain": [
       "arr_port\n",
       "HKG    112\n",
       "LGA     95\n",
       "ORD     94\n",
       "JFK     92\n",
       "SFO     91\n",
       "LAX     91\n",
       "MCO     90\n",
       "DCA     82\n",
       "DEN     79\n",
       "LHR     76\n",
       "Name: pax, dtype: int64"
      ]
     },
     "execution_count": 43,
     "metadata": {},
     "output_type": "execute_result"
    }
   ],
   "source": [
    "#The groupby is done considering all the requeriments of the problem statement\n",
    "df.groupby('arr_port')['pax'].sum().sort_values(ascending=False).head(10)"
   ]
  },
  {
   "cell_type": "markdown",
   "metadata": {},
   "source": [
    "### 4. SOLUTION FOR THE HOLE PROBLEM\n",
    "\n",
    "As I know the steps I have to follow to solve the problem, now I do it in the iteration process for the hole file with chunks.\n",
    "\n",
    "First of all, I read the file (without duplicates) and, only considering the right columns and without considering 'year' (as only info from 2013 is in the file). \n",
    "\n",
    "Despite the fact it in the small problem there was no NaN, it is considered to substitute then with '0' when reading the file."
   ]
  },
  {
   "cell_type": "code",
   "execution_count": 1,
   "metadata": {},
   "outputs": [],
   "source": [
    "import pandas as pd"
   ]
  },
  {
   "cell_type": "code",
   "execution_count": 2,
   "metadata": {},
   "outputs": [],
   "source": [
    "booking_no_dups_path = '/home/dsc/Data/challenge/bookings_no_dups.csv'"
   ]
  },
  {
   "cell_type": "code",
   "execution_count": 4,
   "metadata": {
    "scrolled": true
   },
   "outputs": [
    {
     "data": {
      "text/html": [
       "<div>\n",
       "<style scoped>\n",
       "    .dataframe tbody tr th:only-of-type {\n",
       "        vertical-align: middle;\n",
       "    }\n",
       "\n",
       "    .dataframe tbody tr th {\n",
       "        vertical-align: top;\n",
       "    }\n",
       "\n",
       "    .dataframe thead th {\n",
       "        text-align: right;\n",
       "    }\n",
       "</style>\n",
       "<table border=\"1\" class=\"dataframe\">\n",
       "  <thead>\n",
       "    <tr style=\"text-align: right;\">\n",
       "      <th></th>\n",
       "      <th>0</th>\n",
       "    </tr>\n",
       "  </thead>\n",
       "  <tbody>\n",
       "    <tr>\n",
       "      <th>AAL</th>\n",
       "      <td>0.0</td>\n",
       "    </tr>\n",
       "    <tr>\n",
       "      <th>ABQ</th>\n",
       "      <td>12.0</td>\n",
       "    </tr>\n",
       "    <tr>\n",
       "      <th>ABV</th>\n",
       "      <td>2.0</td>\n",
       "    </tr>\n",
       "    <tr>\n",
       "      <th>ABZ</th>\n",
       "      <td>-6.0</td>\n",
       "    </tr>\n",
       "    <tr>\n",
       "      <th>ACC</th>\n",
       "      <td>4.0</td>\n",
       "    </tr>\n",
       "  </tbody>\n",
       "</table>\n",
       "</div>"
      ],
      "text/plain": [
       "        0\n",
       "AAL   0.0\n",
       "ABQ  12.0\n",
       "ABV   2.0\n",
       "ABZ  -6.0\n",
       "ACC   4.0"
      ]
     },
     "execution_count": 4,
     "metadata": {},
     "output_type": "execute_result"
    }
   ],
   "source": [
    "bookings_iter = pd.read_csv(booking_no_dups_path,\n",
    "                       delimiter='^',\n",
    "                       chunksize=10000,\n",
    "                       usecols=['arr_port','pax'],\n",
    "                       na_values=0)\n",
    "\n",
    "df_tot = pd.DataFrame()\n",
    "\n",
    "for df in bookings_iter:\n",
    "    df['arr_port'] = df['arr_port'].str.strip() #Remove spaces from 'arr_port' strings\n",
    "    df['arr_port'] = df['arr_port'].str.upper() #Case insensitive\n",
    "    df = df.groupby('arr_port')['pax'].sum()\n",
    "    df_tot = pd.concat([df_tot,df])\n",
    "\n",
    "df_tot.head()"
   ]
  },
  {
   "cell_type": "code",
   "execution_count": 11,
   "metadata": {},
   "outputs": [],
   "source": [
    "df_tot = df_tot.reset_index()"
   ]
  },
  {
   "cell_type": "code",
   "execution_count": 12,
   "metadata": {},
   "outputs": [],
   "source": [
    "df_tot.columns = ['arr_port','pax']"
   ]
  },
  {
   "cell_type": "code",
   "execution_count": 13,
   "metadata": {
    "scrolled": false
   },
   "outputs": [
    {
     "data": {
      "text/html": [
       "<div>\n",
       "<style scoped>\n",
       "    .dataframe tbody tr th:only-of-type {\n",
       "        vertical-align: middle;\n",
       "    }\n",
       "\n",
       "    .dataframe tbody tr th {\n",
       "        vertical-align: top;\n",
       "    }\n",
       "\n",
       "    .dataframe thead th {\n",
       "        text-align: right;\n",
       "    }\n",
       "</style>\n",
       "<table border=\"1\" class=\"dataframe\">\n",
       "  <thead>\n",
       "    <tr style=\"text-align: right;\">\n",
       "      <th></th>\n",
       "      <th>arr_port</th>\n",
       "      <th>pax</th>\n",
       "    </tr>\n",
       "  </thead>\n",
       "  <tbody>\n",
       "    <tr>\n",
       "      <th>0</th>\n",
       "      <td>AAL</td>\n",
       "      <td>0.0</td>\n",
       "    </tr>\n",
       "    <tr>\n",
       "      <th>1</th>\n",
       "      <td>ABQ</td>\n",
       "      <td>12.0</td>\n",
       "    </tr>\n",
       "    <tr>\n",
       "      <th>2</th>\n",
       "      <td>ABV</td>\n",
       "      <td>2.0</td>\n",
       "    </tr>\n",
       "    <tr>\n",
       "      <th>3</th>\n",
       "      <td>ABZ</td>\n",
       "      <td>-6.0</td>\n",
       "    </tr>\n",
       "    <tr>\n",
       "      <th>4</th>\n",
       "      <td>ACC</td>\n",
       "      <td>4.0</td>\n",
       "    </tr>\n",
       "  </tbody>\n",
       "</table>\n",
       "</div>"
      ],
      "text/plain": [
       "  arr_port   pax\n",
       "0      AAL   0.0\n",
       "1      ABQ  12.0\n",
       "2      ABV   2.0\n",
       "3      ABZ  -6.0\n",
       "4      ACC   4.0"
      ]
     },
     "execution_count": 13,
     "metadata": {},
     "output_type": "execute_result"
    }
   ],
   "source": [
    "df_tot.head()"
   ]
  },
  {
   "cell_type": "code",
   "execution_count": 14,
   "metadata": {},
   "outputs": [
    {
     "data": {
      "text/plain": [
       "(72366, 2)"
      ]
     },
     "execution_count": 14,
     "metadata": {},
     "output_type": "execute_result"
    }
   ],
   "source": [
    "df_tot.shape"
   ]
  },
  {
   "cell_type": "code",
   "execution_count": 22,
   "metadata": {
    "scrolled": true
   },
   "outputs": [],
   "source": [
    "df_tot['pax'] = df_tot['pax'].astype('int')"
   ]
  },
  {
   "cell_type": "code",
   "execution_count": 24,
   "metadata": {},
   "outputs": [
    {
     "data": {
      "text/html": [
       "<div>\n",
       "<style scoped>\n",
       "    .dataframe tbody tr th:only-of-type {\n",
       "        vertical-align: middle;\n",
       "    }\n",
       "\n",
       "    .dataframe tbody tr th {\n",
       "        vertical-align: top;\n",
       "    }\n",
       "\n",
       "    .dataframe thead th {\n",
       "        text-align: right;\n",
       "    }\n",
       "</style>\n",
       "<table border=\"1\" class=\"dataframe\">\n",
       "  <thead>\n",
       "    <tr style=\"text-align: right;\">\n",
       "      <th></th>\n",
       "      <th>pax</th>\n",
       "    </tr>\n",
       "    <tr>\n",
       "      <th>arr_port</th>\n",
       "      <th></th>\n",
       "    </tr>\n",
       "  </thead>\n",
       "  <tbody>\n",
       "    <tr>\n",
       "      <th>LHR</th>\n",
       "      <td>8881</td>\n",
       "    </tr>\n",
       "    <tr>\n",
       "      <th>MCO</th>\n",
       "      <td>7093</td>\n",
       "    </tr>\n",
       "    <tr>\n",
       "      <th>LAX</th>\n",
       "      <td>7053</td>\n",
       "    </tr>\n",
       "    <tr>\n",
       "      <th>LAS</th>\n",
       "      <td>6963</td>\n",
       "    </tr>\n",
       "    <tr>\n",
       "      <th>JFK</th>\n",
       "      <td>6627</td>\n",
       "    </tr>\n",
       "    <tr>\n",
       "      <th>CDG</th>\n",
       "      <td>6449</td>\n",
       "    </tr>\n",
       "    <tr>\n",
       "      <th>BKK</th>\n",
       "      <td>5946</td>\n",
       "    </tr>\n",
       "    <tr>\n",
       "      <th>MIA</th>\n",
       "      <td>5815</td>\n",
       "    </tr>\n",
       "    <tr>\n",
       "      <th>SFO</th>\n",
       "      <td>5800</td>\n",
       "    </tr>\n",
       "    <tr>\n",
       "      <th>DXB</th>\n",
       "      <td>5559</td>\n",
       "    </tr>\n",
       "  </tbody>\n",
       "</table>\n",
       "</div>"
      ],
      "text/plain": [
       "           pax\n",
       "arr_port      \n",
       "LHR       8881\n",
       "MCO       7093\n",
       "LAX       7053\n",
       "LAS       6963\n",
       "JFK       6627\n",
       "CDG       6449\n",
       "BKK       5946\n",
       "MIA       5815\n",
       "SFO       5800\n",
       "DXB       5559"
      ]
     },
     "execution_count": 24,
     "metadata": {},
     "output_type": "execute_result"
    }
   ],
   "source": [
    "solution_ex2 = df_tot.groupby('arr_port')['pax'].sum().sort_values(ascending=False).head(10)\n",
    "solution_ex2 =  pd.DataFrame(solution_ex2)\n",
    "solution_ex2"
   ]
  },
  {
   "cell_type": "markdown",
   "metadata": {},
   "source": [
    "### 5. BONUS\n",
    "\n",
    "#### Get the name of the city or airport corresponding to that airport \n"
   ]
  },
  {
   "cell_type": "code",
   "execution_count": 25,
   "metadata": {},
   "outputs": [],
   "source": [
    "traveldata_path = '/home/dsc/Data/opentraveldata/optd_por_public.csv'"
   ]
  },
  {
   "cell_type": "code",
   "execution_count": 26,
   "metadata": {},
   "outputs": [
    {
     "name": "stdout",
     "output_type": "stream",
     "text": [
      "46\r\n"
     ]
    }
   ],
   "source": [
    "!head -1 /home/dsc/Data/opentraveldata/optd_por_public.csv | tr \"^\" \"\\n\" | wc -l "
   ]
  },
  {
   "cell_type": "code",
   "execution_count": 27,
   "metadata": {
    "scrolled": false
   },
   "outputs": [
    {
     "name": "stdout",
     "output_type": "stream",
     "text": [
      "iata_code^icao_code^faa_code^is_geonames^geoname_id^envelope_id^name^asciiname^latitude^longitude^fclass^fcode^page_rank^date_from^date_until^comment^country_code^cc2^country_name^continent_name^adm1_code^adm1_name_utf^adm1_name_ascii^adm2_code^adm2_name_utf^adm2_name_ascii^adm3_code^adm4_code^population^elevation^gtopo30^timezone^gmt_offset^dst_offset^raw_offset^moddate^city_code_list^city_name_list^city_detail_list^tvl_por_list^state_code^location_type^wiki_link^alt_name_section^wac^wac_name\r\n"
     ]
    }
   ],
   "source": [
    "!head -1 /home/dsc/Data/opentraveldata/optd_por_public.csv"
   ]
  },
  {
   "cell_type": "code",
   "execution_count": 28,
   "metadata": {
    "scrolled": true
   },
   "outputs": [
    {
     "name": "stdout",
     "output_type": "stream",
     "text": [
      "iata_code^icao_code^faa_code^is_geonames^geoname_id^envelope_id^name^asciiname^latitude^longitude^fclass^fcode^page_rank^date_from^date_until^comment^country_code^cc2^country_name^continent_name^adm1_code^adm1_name_utf^adm1_name_ascii^adm2_code^adm2_name_utf^adm2_name_ascii^adm3_code^adm4_code^population^elevation^gtopo30^timezone^gmt_offset^dst_offset^raw_offset^moddate^city_code_list^city_name_list^city_detail_list^tvl_por_list^state_code^location_type^wiki_link^alt_name_section^wac^wac_name\r\n",
      "AAA^NTGA^^Y^6947726^^Anaa Airport^Anaa Airport^-17.352606^-145.509956^S^AIRP^^^^^PF^^French Polynesia^Oceania^^^^^^^^^0^^8^Pacific/Tahiti^-10.0^-10.0^-10.0^2012-04-29^AAA^Anaa^AAA|4034700|Anaa|Anaa^^^A^http://en.wikipedia.org/wiki/Anaa_Airport^ru|Анаа|^823^French Polynesia\r\n"
     ]
    }
   ],
   "source": [
    "!head -2 /home/dsc/Data/opentraveldata/optd_por_public.csv"
   ]
  },
  {
   "cell_type": "markdown",
   "metadata": {},
   "source": [
    "Considering this information the information in 'iata_code', 'name', and 'city_name_list' should be enough."
   ]
  },
  {
   "cell_type": "code",
   "execution_count": 29,
   "metadata": {},
   "outputs": [
    {
     "name": "stdout",
     "output_type": "stream",
     "text": [
      "File optd_por_public.csv has 18190 lines\n"
     ]
    }
   ],
   "source": [
    "#Reading the number of lines of \"optd_por_public.csv\"\n",
    "\n",
    "file_path = '/home/dsc/Data/opentraveldata/'\n",
    "file = 'optd_por_public.csv'\n",
    "\n",
    "f = open(file_path + file, \"r\")\n",
    "\n",
    "count = 0\n",
    "\n",
    "while True:  \n",
    "    line = f.readline()\n",
    "    if len(line) == 0:\n",
    "        break\n",
    "    else:\n",
    "        count += 1\n",
    "\n",
    "print(f'File {file} has {count} lines')"
   ]
  },
  {
   "cell_type": "code",
   "execution_count": 38,
   "metadata": {},
   "outputs": [],
   "source": [
    "#Let us read the file as a dataframe\n",
    "\n",
    "df_ports = pd.read_csv('/home/dsc/Data/opentraveldata/optd_por_public.csv',\n",
    "                       delimiter = '^',\n",
    "                       usecols=['iata_code', 'name'])"
   ]
  },
  {
   "cell_type": "code",
   "execution_count": 39,
   "metadata": {},
   "outputs": [
    {
     "data": {
      "text/plain": [
       "(18189, 2)"
      ]
     },
     "execution_count": 39,
     "metadata": {},
     "output_type": "execute_result"
    }
   ],
   "source": [
    "df_ports.shape"
   ]
  },
  {
   "cell_type": "code",
   "execution_count": 40,
   "metadata": {},
   "outputs": [
    {
     "data": {
      "text/html": [
       "<div>\n",
       "<style scoped>\n",
       "    .dataframe tbody tr th:only-of-type {\n",
       "        vertical-align: middle;\n",
       "    }\n",
       "\n",
       "    .dataframe tbody tr th {\n",
       "        vertical-align: top;\n",
       "    }\n",
       "\n",
       "    .dataframe thead th {\n",
       "        text-align: right;\n",
       "    }\n",
       "</style>\n",
       "<table border=\"1\" class=\"dataframe\">\n",
       "  <thead>\n",
       "    <tr style=\"text-align: right;\">\n",
       "      <th></th>\n",
       "      <th>iata_code</th>\n",
       "      <th>name</th>\n",
       "    </tr>\n",
       "  </thead>\n",
       "  <tbody>\n",
       "    <tr>\n",
       "      <th>0</th>\n",
       "      <td>AAA</td>\n",
       "      <td>Anaa Airport</td>\n",
       "    </tr>\n",
       "    <tr>\n",
       "      <th>1</th>\n",
       "      <td>AAA</td>\n",
       "      <td>Anaa</td>\n",
       "    </tr>\n",
       "    <tr>\n",
       "      <th>2</th>\n",
       "      <td>AAB</td>\n",
       "      <td>Arrabury Airport</td>\n",
       "    </tr>\n",
       "    <tr>\n",
       "      <th>3</th>\n",
       "      <td>AAC</td>\n",
       "      <td>El Arish International Airport</td>\n",
       "    </tr>\n",
       "    <tr>\n",
       "      <th>4</th>\n",
       "      <td>AAC</td>\n",
       "      <td>Arish</td>\n",
       "    </tr>\n",
       "  </tbody>\n",
       "</table>\n",
       "</div>"
      ],
      "text/plain": [
       "  iata_code                            name\n",
       "0       AAA                    Anaa Airport\n",
       "1       AAA                            Anaa\n",
       "2       AAB                Arrabury Airport\n",
       "3       AAC  El Arish International Airport\n",
       "4       AAC                           Arish"
      ]
     },
     "execution_count": 40,
     "metadata": {},
     "output_type": "execute_result"
    }
   ],
   "source": [
    "df_ports.head()"
   ]
  },
  {
   "cell_type": "code",
   "execution_count": 41,
   "metadata": {},
   "outputs": [],
   "source": [
    "#Now let's drop duplicates\n",
    "\n",
    "df_ports_no_dups = df_ports.drop_duplicates()"
   ]
  },
  {
   "cell_type": "code",
   "execution_count": 42,
   "metadata": {},
   "outputs": [
    {
     "data": {
      "text/plain": [
       "(17855, 2)"
      ]
     },
     "execution_count": 42,
     "metadata": {},
     "output_type": "execute_result"
    }
   ],
   "source": [
    "df_ports_no_dups.shape"
   ]
  },
  {
   "cell_type": "code",
   "execution_count": 56,
   "metadata": {},
   "outputs": [
    {
     "data": {
      "text/plain": [
       "count    17855.0\n",
       "mean         3.0\n",
       "std          0.0\n",
       "min          3.0\n",
       "25%          3.0\n",
       "50%          3.0\n",
       "75%          3.0\n",
       "max          3.0\n",
       "Name: iata_code, dtype: float64"
      ]
     },
     "execution_count": 56,
     "metadata": {},
     "output_type": "execute_result"
    }
   ],
   "source": [
    "#Checking the length of the iata_code (the merging key)\n",
    "\n",
    "df_ports_no_dups['iata_code'].str.len().describe()"
   ]
  },
  {
   "cell_type": "code",
   "execution_count": 57,
   "metadata": {},
   "outputs": [
    {
     "data": {
      "text/html": [
       "<div>\n",
       "<style scoped>\n",
       "    .dataframe tbody tr th:only-of-type {\n",
       "        vertical-align: middle;\n",
       "    }\n",
       "\n",
       "    .dataframe tbody tr th {\n",
       "        vertical-align: top;\n",
       "    }\n",
       "\n",
       "    .dataframe thead th {\n",
       "        text-align: right;\n",
       "    }\n",
       "</style>\n",
       "<table border=\"1\" class=\"dataframe\">\n",
       "  <thead>\n",
       "    <tr style=\"text-align: right;\">\n",
       "      <th></th>\n",
       "      <th>pax</th>\n",
       "      <th>iata_code</th>\n",
       "      <th>name</th>\n",
       "    </tr>\n",
       "  </thead>\n",
       "  <tbody>\n",
       "    <tr>\n",
       "      <th>7624</th>\n",
       "      <td>8881</td>\n",
       "      <td>LHR</td>\n",
       "      <td>London Heathrow Airport</td>\n",
       "    </tr>\n",
       "    <tr>\n",
       "      <th>8278</th>\n",
       "      <td>7093</td>\n",
       "      <td>MCO</td>\n",
       "      <td>Orlando International Airport</td>\n",
       "    </tr>\n",
       "    <tr>\n",
       "      <th>7396</th>\n",
       "      <td>7053</td>\n",
       "      <td>LAX</td>\n",
       "      <td>Los Angeles International Airport</td>\n",
       "    </tr>\n",
       "    <tr>\n",
       "      <th>7397</th>\n",
       "      <td>7053</td>\n",
       "      <td>LAX</td>\n",
       "      <td>Los Angeles</td>\n",
       "    </tr>\n",
       "    <tr>\n",
       "      <th>7387</th>\n",
       "      <td>6963</td>\n",
       "      <td>LAS</td>\n",
       "      <td>Mc Carran International Airport</td>\n",
       "    </tr>\n",
       "    <tr>\n",
       "      <th>7388</th>\n",
       "      <td>6963</td>\n",
       "      <td>LAS</td>\n",
       "      <td>Las Vegas</td>\n",
       "    </tr>\n",
       "    <tr>\n",
       "      <th>6208</th>\n",
       "      <td>6627</td>\n",
       "      <td>JFK</td>\n",
       "      <td>John F Kennedy International Airport</td>\n",
       "    </tr>\n",
       "    <tr>\n",
       "      <th>2176</th>\n",
       "      <td>6449</td>\n",
       "      <td>CDG</td>\n",
       "      <td>Paris Charles de Gaulle Airport</td>\n",
       "    </tr>\n",
       "    <tr>\n",
       "      <th>1382</th>\n",
       "      <td>5946</td>\n",
       "      <td>BKK</td>\n",
       "      <td>Suvarnabhumi Airport</td>\n",
       "    </tr>\n",
       "    <tr>\n",
       "      <th>1383</th>\n",
       "      <td>5946</td>\n",
       "      <td>BKK</td>\n",
       "      <td>Bangkok</td>\n",
       "    </tr>\n",
       "    <tr>\n",
       "      <th>8508</th>\n",
       "      <td>5815</td>\n",
       "      <td>MIA</td>\n",
       "      <td>Miami International Airport</td>\n",
       "    </tr>\n",
       "    <tr>\n",
       "      <th>8509</th>\n",
       "      <td>5815</td>\n",
       "      <td>MIA</td>\n",
       "      <td>Miami</td>\n",
       "    </tr>\n",
       "    <tr>\n",
       "      <th>12761</th>\n",
       "      <td>5800</td>\n",
       "      <td>SFO</td>\n",
       "      <td>San Francisco International Airport</td>\n",
       "    </tr>\n",
       "    <tr>\n",
       "      <th>12762</th>\n",
       "      <td>5800</td>\n",
       "      <td>SFO</td>\n",
       "      <td>San Francisco</td>\n",
       "    </tr>\n",
       "    <tr>\n",
       "      <th>3519</th>\n",
       "      <td>5559</td>\n",
       "      <td>DXB</td>\n",
       "      <td>Dubai International Airport</td>\n",
       "    </tr>\n",
       "    <tr>\n",
       "      <th>3520</th>\n",
       "      <td>5559</td>\n",
       "      <td>DXB</td>\n",
       "      <td>Dubai</td>\n",
       "    </tr>\n",
       "  </tbody>\n",
       "</table>\n",
       "</div>"
      ],
      "text/plain": [
       "        pax iata_code                                  name\n",
       "7624   8881       LHR               London Heathrow Airport\n",
       "8278   7093       MCO         Orlando International Airport\n",
       "7396   7053       LAX     Los Angeles International Airport\n",
       "7397   7053       LAX                           Los Angeles\n",
       "7387   6963       LAS       Mc Carran International Airport\n",
       "7388   6963       LAS                             Las Vegas\n",
       "6208   6627       JFK  John F Kennedy International Airport\n",
       "2176   6449       CDG       Paris Charles de Gaulle Airport\n",
       "1382   5946       BKK                  Suvarnabhumi Airport\n",
       "1383   5946       BKK                               Bangkok\n",
       "8508   5815       MIA           Miami International Airport\n",
       "8509   5815       MIA                                 Miami\n",
       "12761  5800       SFO   San Francisco International Airport\n",
       "12762  5800       SFO                         San Francisco\n",
       "3519   5559       DXB           Dubai International Airport\n",
       "3520   5559       DXB                                 Dubai"
      ]
     },
     "execution_count": 57,
     "metadata": {},
     "output_type": "execute_result"
    }
   ],
   "source": [
    "#As everything seems to be OK, let us merge (left or inner)'solution_ex2' with 'df_ports_no_dups' \n",
    "#with 'arr_port' and 'iata_code' as keys (considering that 'arr_port' is the index)\n",
    "\n",
    "bonus_solution = solution_ex2.merge(df_ports, how='left',left_index=True,right_on='iata_code')\n",
    "bonus_solution"
   ]
  },
  {
   "cell_type": "code",
   "execution_count": 58,
   "metadata": {},
   "outputs": [
    {
     "data": {
      "text/html": [
       "<div>\n",
       "<style scoped>\n",
       "    .dataframe tbody tr th:only-of-type {\n",
       "        vertical-align: middle;\n",
       "    }\n",
       "\n",
       "    .dataframe tbody tr th {\n",
       "        vertical-align: top;\n",
       "    }\n",
       "\n",
       "    .dataframe thead th {\n",
       "        text-align: right;\n",
       "    }\n",
       "</style>\n",
       "<table border=\"1\" class=\"dataframe\">\n",
       "  <thead>\n",
       "    <tr style=\"text-align: right;\">\n",
       "      <th></th>\n",
       "      <th>pax</th>\n",
       "      <th>iata_code</th>\n",
       "      <th>name</th>\n",
       "    </tr>\n",
       "  </thead>\n",
       "  <tbody>\n",
       "    <tr>\n",
       "      <th>7624</th>\n",
       "      <td>8881</td>\n",
       "      <td>LHR</td>\n",
       "      <td>London Heathrow Airport</td>\n",
       "    </tr>\n",
       "    <tr>\n",
       "      <th>8278</th>\n",
       "      <td>7093</td>\n",
       "      <td>MCO</td>\n",
       "      <td>Orlando International Airport</td>\n",
       "    </tr>\n",
       "    <tr>\n",
       "      <th>7396</th>\n",
       "      <td>7053</td>\n",
       "      <td>LAX</td>\n",
       "      <td>Los Angeles International Airport</td>\n",
       "    </tr>\n",
       "    <tr>\n",
       "      <th>7387</th>\n",
       "      <td>6963</td>\n",
       "      <td>LAS</td>\n",
       "      <td>Mc Carran International Airport</td>\n",
       "    </tr>\n",
       "    <tr>\n",
       "      <th>6208</th>\n",
       "      <td>6627</td>\n",
       "      <td>JFK</td>\n",
       "      <td>John F Kennedy International Airport</td>\n",
       "    </tr>\n",
       "    <tr>\n",
       "      <th>2176</th>\n",
       "      <td>6449</td>\n",
       "      <td>CDG</td>\n",
       "      <td>Paris Charles de Gaulle Airport</td>\n",
       "    </tr>\n",
       "    <tr>\n",
       "      <th>1382</th>\n",
       "      <td>5946</td>\n",
       "      <td>BKK</td>\n",
       "      <td>Suvarnabhumi Airport</td>\n",
       "    </tr>\n",
       "    <tr>\n",
       "      <th>8508</th>\n",
       "      <td>5815</td>\n",
       "      <td>MIA</td>\n",
       "      <td>Miami International Airport</td>\n",
       "    </tr>\n",
       "    <tr>\n",
       "      <th>12761</th>\n",
       "      <td>5800</td>\n",
       "      <td>SFO</td>\n",
       "      <td>San Francisco International Airport</td>\n",
       "    </tr>\n",
       "    <tr>\n",
       "      <th>3519</th>\n",
       "      <td>5559</td>\n",
       "      <td>DXB</td>\n",
       "      <td>Dubai International Airport</td>\n",
       "    </tr>\n",
       "  </tbody>\n",
       "</table>\n",
       "</div>"
      ],
      "text/plain": [
       "        pax iata_code                                  name\n",
       "7624   8881       LHR               London Heathrow Airport\n",
       "8278   7093       MCO         Orlando International Airport\n",
       "7396   7053       LAX     Los Angeles International Airport\n",
       "7387   6963       LAS       Mc Carran International Airport\n",
       "6208   6627       JFK  John F Kennedy International Airport\n",
       "2176   6449       CDG       Paris Charles de Gaulle Airport\n",
       "1382   5946       BKK                  Suvarnabhumi Airport\n",
       "8508   5815       MIA           Miami International Airport\n",
       "12761  5800       SFO   San Francisco International Airport\n",
       "3519   5559       DXB           Dubai International Airport"
      ]
     },
     "execution_count": 58,
     "metadata": {},
     "output_type": "execute_result"
    }
   ],
   "source": [
    "#Let us delete the ones with no 'Airport' in 'name'\n",
    "\n",
    "bonus_solution = bonus_solution[bonus_solution['name'].str.endswith('Airport')]\n",
    "bonus_solution"
   ]
  },
  {
   "cell_type": "code",
   "execution_count": 59,
   "metadata": {},
   "outputs": [
    {
     "data": {
      "text/html": [
       "<div>\n",
       "<style scoped>\n",
       "    .dataframe tbody tr th:only-of-type {\n",
       "        vertical-align: middle;\n",
       "    }\n",
       "\n",
       "    .dataframe tbody tr th {\n",
       "        vertical-align: top;\n",
       "    }\n",
       "\n",
       "    .dataframe thead th {\n",
       "        text-align: right;\n",
       "    }\n",
       "</style>\n",
       "<table border=\"1\" class=\"dataframe\">\n",
       "  <thead>\n",
       "    <tr style=\"text-align: right;\">\n",
       "      <th></th>\n",
       "      <th>pax</th>\n",
       "      <th>iata_code</th>\n",
       "      <th>name</th>\n",
       "    </tr>\n",
       "  </thead>\n",
       "  <tbody>\n",
       "    <tr>\n",
       "      <th>0</th>\n",
       "      <td>8881</td>\n",
       "      <td>LHR</td>\n",
       "      <td>London Heathrow Airport</td>\n",
       "    </tr>\n",
       "    <tr>\n",
       "      <th>1</th>\n",
       "      <td>7093</td>\n",
       "      <td>MCO</td>\n",
       "      <td>Orlando International Airport</td>\n",
       "    </tr>\n",
       "    <tr>\n",
       "      <th>2</th>\n",
       "      <td>7053</td>\n",
       "      <td>LAX</td>\n",
       "      <td>Los Angeles International Airport</td>\n",
       "    </tr>\n",
       "    <tr>\n",
       "      <th>3</th>\n",
       "      <td>6963</td>\n",
       "      <td>LAS</td>\n",
       "      <td>Mc Carran International Airport</td>\n",
       "    </tr>\n",
       "    <tr>\n",
       "      <th>4</th>\n",
       "      <td>6627</td>\n",
       "      <td>JFK</td>\n",
       "      <td>John F Kennedy International Airport</td>\n",
       "    </tr>\n",
       "    <tr>\n",
       "      <th>5</th>\n",
       "      <td>6449</td>\n",
       "      <td>CDG</td>\n",
       "      <td>Paris Charles de Gaulle Airport</td>\n",
       "    </tr>\n",
       "    <tr>\n",
       "      <th>6</th>\n",
       "      <td>5946</td>\n",
       "      <td>BKK</td>\n",
       "      <td>Suvarnabhumi Airport</td>\n",
       "    </tr>\n",
       "    <tr>\n",
       "      <th>7</th>\n",
       "      <td>5815</td>\n",
       "      <td>MIA</td>\n",
       "      <td>Miami International Airport</td>\n",
       "    </tr>\n",
       "    <tr>\n",
       "      <th>8</th>\n",
       "      <td>5800</td>\n",
       "      <td>SFO</td>\n",
       "      <td>San Francisco International Airport</td>\n",
       "    </tr>\n",
       "    <tr>\n",
       "      <th>9</th>\n",
       "      <td>5559</td>\n",
       "      <td>DXB</td>\n",
       "      <td>Dubai International Airport</td>\n",
       "    </tr>\n",
       "  </tbody>\n",
       "</table>\n",
       "</div>"
      ],
      "text/plain": [
       "    pax iata_code                                  name\n",
       "0  8881       LHR               London Heathrow Airport\n",
       "1  7093       MCO         Orlando International Airport\n",
       "2  7053       LAX     Los Angeles International Airport\n",
       "3  6963       LAS       Mc Carran International Airport\n",
       "4  6627       JFK  John F Kennedy International Airport\n",
       "5  6449       CDG       Paris Charles de Gaulle Airport\n",
       "6  5946       BKK                  Suvarnabhumi Airport\n",
       "7  5815       MIA           Miami International Airport\n",
       "8  5800       SFO   San Francisco International Airport\n",
       "9  5559       DXB           Dubai International Airport"
      ]
     },
     "execution_count": 59,
     "metadata": {},
     "output_type": "execute_result"
    }
   ],
   "source": [
    "bonus_solution = bonus_solution.reset_index().drop(['index'],axis=1)\n",
    "bonus_solution"
   ]
  },
  {
   "cell_type": "code",
   "execution_count": 60,
   "metadata": {},
   "outputs": [
    {
     "data": {
      "text/plain": [
       "Index(['pax', 'iata_code', 'name'], dtype='object')"
      ]
     },
     "execution_count": 60,
     "metadata": {},
     "output_type": "execute_result"
    }
   ],
   "source": [
    "bonus_solution.columns"
   ]
  },
  {
   "cell_type": "code",
   "execution_count": 65,
   "metadata": {},
   "outputs": [],
   "source": [
    "bonus_solution.columns = ['pax', 'iata_code', 'name']"
   ]
  },
  {
   "cell_type": "code",
   "execution_count": 67,
   "metadata": {},
   "outputs": [],
   "source": [
    "bonus_solution = bonus_solution[['iata_code', 'name', 'pax']]"
   ]
  },
  {
   "cell_type": "code",
   "execution_count": 68,
   "metadata": {},
   "outputs": [
    {
     "data": {
      "text/html": [
       "<div>\n",
       "<style scoped>\n",
       "    .dataframe tbody tr th:only-of-type {\n",
       "        vertical-align: middle;\n",
       "    }\n",
       "\n",
       "    .dataframe tbody tr th {\n",
       "        vertical-align: top;\n",
       "    }\n",
       "\n",
       "    .dataframe thead th {\n",
       "        text-align: right;\n",
       "    }\n",
       "</style>\n",
       "<table border=\"1\" class=\"dataframe\">\n",
       "  <thead>\n",
       "    <tr style=\"text-align: right;\">\n",
       "      <th></th>\n",
       "      <th>iata_code</th>\n",
       "      <th>name</th>\n",
       "      <th>pax</th>\n",
       "    </tr>\n",
       "  </thead>\n",
       "  <tbody>\n",
       "    <tr>\n",
       "      <th>0</th>\n",
       "      <td>LHR</td>\n",
       "      <td>London Heathrow Airport</td>\n",
       "      <td>8881</td>\n",
       "    </tr>\n",
       "    <tr>\n",
       "      <th>1</th>\n",
       "      <td>MCO</td>\n",
       "      <td>Orlando International Airport</td>\n",
       "      <td>7093</td>\n",
       "    </tr>\n",
       "    <tr>\n",
       "      <th>2</th>\n",
       "      <td>LAX</td>\n",
       "      <td>Los Angeles International Airport</td>\n",
       "      <td>7053</td>\n",
       "    </tr>\n",
       "    <tr>\n",
       "      <th>3</th>\n",
       "      <td>LAS</td>\n",
       "      <td>Mc Carran International Airport</td>\n",
       "      <td>6963</td>\n",
       "    </tr>\n",
       "    <tr>\n",
       "      <th>4</th>\n",
       "      <td>JFK</td>\n",
       "      <td>John F Kennedy International Airport</td>\n",
       "      <td>6627</td>\n",
       "    </tr>\n",
       "    <tr>\n",
       "      <th>5</th>\n",
       "      <td>CDG</td>\n",
       "      <td>Paris Charles de Gaulle Airport</td>\n",
       "      <td>6449</td>\n",
       "    </tr>\n",
       "    <tr>\n",
       "      <th>6</th>\n",
       "      <td>BKK</td>\n",
       "      <td>Suvarnabhumi Airport</td>\n",
       "      <td>5946</td>\n",
       "    </tr>\n",
       "    <tr>\n",
       "      <th>7</th>\n",
       "      <td>MIA</td>\n",
       "      <td>Miami International Airport</td>\n",
       "      <td>5815</td>\n",
       "    </tr>\n",
       "    <tr>\n",
       "      <th>8</th>\n",
       "      <td>SFO</td>\n",
       "      <td>San Francisco International Airport</td>\n",
       "      <td>5800</td>\n",
       "    </tr>\n",
       "    <tr>\n",
       "      <th>9</th>\n",
       "      <td>DXB</td>\n",
       "      <td>Dubai International Airport</td>\n",
       "      <td>5559</td>\n",
       "    </tr>\n",
       "  </tbody>\n",
       "</table>\n",
       "</div>"
      ],
      "text/plain": [
       "  iata_code                                  name   pax\n",
       "0       LHR               London Heathrow Airport  8881\n",
       "1       MCO         Orlando International Airport  7093\n",
       "2       LAX     Los Angeles International Airport  7053\n",
       "3       LAS       Mc Carran International Airport  6963\n",
       "4       JFK  John F Kennedy International Airport  6627\n",
       "5       CDG       Paris Charles de Gaulle Airport  6449\n",
       "6       BKK                  Suvarnabhumi Airport  5946\n",
       "7       MIA           Miami International Airport  5815\n",
       "8       SFO   San Francisco International Airport  5800\n",
       "9       DXB           Dubai International Airport  5559"
      ]
     },
     "execution_count": 68,
     "metadata": {},
     "output_type": "execute_result"
    }
   ],
   "source": [
    "bonus_solution"
   ]
  },
  {
   "cell_type": "code",
   "execution_count": null,
   "metadata": {},
   "outputs": [],
   "source": []
  }
 ],
 "metadata": {
  "kernelspec": {
   "display_name": "Python 3",
   "language": "python",
   "name": "python3"
  },
  "language_info": {
   "codemirror_mode": {
    "name": "ipython",
    "version": 3
   },
   "file_extension": ".py",
   "mimetype": "text/x-python",
   "name": "python",
   "nbconvert_exporter": "python",
   "pygments_lexer": "ipython3",
   "version": "3.8.5"
  }
 },
 "nbformat": 4,
 "nbformat_minor": 4
}
