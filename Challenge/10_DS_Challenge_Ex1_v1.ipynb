{
 "cells": [
  {
   "cell_type": "markdown",
   "metadata": {},
   "source": [
    "# DS CHALLENGE\n",
    "\n",
    "## EXERCICE 1\n",
    "\n",
    "\n",
    "Count the number of lines in Python for each file of these files:\n",
    "\n",
    "* /home/dsc/Data/challenge/bookings.csv.bz2\n",
    "* /home/dsc/Data/challenge/searches.csv.bz2"
   ]
  },
  {
   "cell_type": "markdown",
   "metadata": {},
   "source": [
    "## SOLUTION\n",
    "\n",
    "Here, I summarize the steps I will follow to solve this exercice:\n",
    "\n",
    "1. Take a look to the files. As they are \".bz2\" are zipped files, I unzipped them in Terminal using \"bunzip2\".\n",
    "2. Try to read the entire lines of the files at one. If it does not work, I will divide the files in chunks and read the lines of every chunk."
   ]
  },
  {
   "cell_type": "code",
   "execution_count": 7,
   "metadata": {},
   "outputs": [],
   "source": [
    "#Unzipping files in Terminal\n",
    "\n",
    "#Note: I did it in the Terminal itself, that is why I do not run this againg\n",
    "\n",
    "#!bunzip2 '/home/dsc/Data/challenge/bookings.csv'\n",
    "#!bunzip2 '/home/dsc/Data/challenge/searches.csv'"
   ]
  },
  {
   "cell_type": "code",
   "execution_count": 4,
   "metadata": {},
   "outputs": [
    {
     "name": "stdout",
     "output_type": "stream",
     "text": [
      "File bookings.csv has 10000011 lines\n"
     ]
    }
   ],
   "source": [
    "#Reading the number of lines of \"bookings.csv\"\n",
    "\n",
    "file_path = '/home/dsc/Data/challenge/'\n",
    "file = 'bookings.csv'\n",
    "\n",
    "f = open(file_path + file, \"r\")\n",
    "\n",
    "count = 0\n",
    "\n",
    "while True:  \n",
    "    line = f.readline()\n",
    "    if len(line) == 0:\n",
    "        break\n",
    "    else:\n",
    "        count += 1\n",
    "\n",
    "print(f'File {file} has {count} lines')"
   ]
  },
  {
   "cell_type": "code",
   "execution_count": 6,
   "metadata": {},
   "outputs": [
    {
     "name": "stdout",
     "output_type": "stream",
     "text": [
      "File searches.csv has 20390199 lines\n"
     ]
    }
   ],
   "source": [
    "#Reading the number of lines of \"searches.csv\"\n",
    "\n",
    "file_path = '/home/dsc/Data/challenge/'\n",
    "file = 'searches.csv'\n",
    "\n",
    "f = open(file_path + file, \"r\")\n",
    "\n",
    "count = 0\n",
    "\n",
    "while True:  \n",
    "    line = f.readline()\n",
    "    if len(line) == 0:\n",
    "        break\n",
    "    else:\n",
    "        count += 1\n",
    "\n",
    "print(f'File {file} has {count} lines')"
   ]
  }
 ],
 "metadata": {
  "kernelspec": {
   "display_name": "Python 3",
   "language": "python",
   "name": "python3"
  },
  "language_info": {
   "codemirror_mode": {
    "name": "ipython",
    "version": 3
   },
   "file_extension": ".py",
   "mimetype": "text/x-python",
   "name": "python",
   "nbconvert_exporter": "python",
   "pygments_lexer": "ipython3",
   "version": "3.8.5"
  }
 },
 "nbformat": 4,
 "nbformat_minor": 4
}
