{
 "cells": [
  {
   "cell_type": "markdown",
   "metadata": {
    "slideshow": {
     "slide_type": "slide"
    }
   },
   "source": [
    "# LINEAR REGRESSION EXERCICE"
   ]
  },
  {
   "cell_type": "markdown",
   "metadata": {
    "slideshow": {
     "slide_type": "fragment"
    }
   },
   "source": [
    "I will try to decribe in this exercice three different appoaches to calculate a linear regression model for a random set of data\n",
    "\n",
    "In linear regression, our hypothesis function $h_\\theta$ is:\n",
    "\n",
    "$$h_\\theta(x) = \\theta_0 + \\theta_1x$$\n",
    "\n",
    "And the cost function is: \n",
    "\n",
    "$$J(\\theta_0,\\theta_1) = \\frac{1}{m}\\sum_{i=1}^m(\\hat{y}_i-y_i)^2 = \\frac{1}{m}\\sum_{i=1}^m(h_\\theta(x_i)-y_i)^2 $$\n",
    "\n",
    "In order to calculate the parameters $\\theta_0$ and $\\theta_1$ that defines the model, three approaches have been considered:\n",
    "\n",
    " * Mathematical approach\n",
    " * Gradient descent by analitical approach \n",
    " * Gradient descent by numerical approach \n"
   ]
  },
  {
   "cell_type": "markdown",
   "metadata": {
    "slideshow": {
     "slide_type": "slide"
    }
   },
   "source": [
    "### Generate dummy data"
   ]
  },
  {
   "cell_type": "markdown",
   "metadata": {},
   "source": [
    "First of all, the random data set is created."
   ]
  },
  {
   "cell_type": "code",
   "execution_count": 23,
   "metadata": {},
   "outputs": [],
   "source": [
    "import numpy as np\n",
    "import matplotlib.pyplot as plt\n",
    "%matplotlib inline\n",
    "plt.style.use('ggplot')"
   ]
  },
  {
   "cell_type": "code",
   "execution_count": 24,
   "metadata": {
    "scrolled": true,
    "slideshow": {
     "slide_type": "fragment"
    }
   },
   "outputs": [
    {
     "data": {
      "text/plain": [
       "<matplotlib.collections.PathCollection at 0x7f07a4ba6e80>"
      ]
     },
     "execution_count": 24,
     "metadata": {},
     "output_type": "execute_result"
    },
    {
     "data": {
      "image/png": "[encoded data removed]",
      "text/plain": [
       "<Figure size 432x288 with 1 Axes>"
      ]
     },
     "metadata": {},
     "output_type": "display_data"
    }
   ],
   "source": [
    "theta_real_0 = 50\n",
    "theta_real_1 = 1.3\n",
    "\n",
    "xs = np.random.normal(30.0, 10.0,250)\n",
    "ys = theta_real_0 + theta_real_1 * xs + np.random.normal(0, 5.0,250)\n",
    "\n",
    "plt.scatter(xs,ys)"
   ]
  },
  {
   "cell_type": "markdown",
   "metadata": {
    "slideshow": {
     "slide_type": "slide"
    }
   },
   "source": [
    "### COST FUNCTION"
   ]
  },
  {
   "cell_type": "markdown",
   "metadata": {},
   "source": [
    "In this section, cost function is defined and calculated with random $\\theta_0$ and $\\theta_1$, just as an example."
   ]
  },
  {
   "cell_type": "code",
   "execution_count": 25,
   "metadata": {},
   "outputs": [
    {
     "name": "stdout",
     "output_type": "stream",
     "text": [
      "Example of cost function value: 25.53002071924891\n"
     ]
    }
   ],
   "source": [
    "theta_0 = theta_real_0\n",
    "theta_1 = theta_real_1\n",
    "\n",
    "m = len(xs)\n",
    "\n",
    "cost_function = (1/m) * (((theta_1 * xs + theta_0) - ys)**2).sum()\n",
    "print('Example of cost function value:', cost_function)"
   ]
  },
  {
   "cell_type": "markdown",
   "metadata": {
    "slideshow": {
     "slide_type": "slide"
    }
   },
   "source": [
    "### MATHEMATICAL APPROACH"
   ]
  },
  {
   "cell_type": "markdown",
   "metadata": {
    "slideshow": {
     "slide_type": "fragment"
    }
   },
   "source": [
    "The $\\theta_0$ and $\\theta_1$ formulae that minimizes the cost function are the followings:\n",
    "\n",
    "\n",
    "$$\\theta_1 = \\frac{\\sum_{i=1}^m({x}_i-\\bar{x}).({y}_i-\\bar{y})}{\\sum_{i=1}^m({x}_i-\\bar{x})^2} $$\n",
    "\n",
    "\n",
    "$$\\theta_0 = \\bar{y} - \\theta_1.\\bar{x} $$\n",
    "\n",
    "Where $\\bar{x}$ and $\\bar{y}$ are the average of x and y data sets, respectively."
   ]
  },
  {
   "cell_type": "code",
   "execution_count": 34,
   "metadata": {},
   "outputs": [
    {
     "name": "stdout",
     "output_type": "stream",
     "text": [
      "Average of xs = 29.57076140403081\n",
      "Average of ys = 88.570135264343\n",
      "Theta_0 = 48.99403819346379\n",
      "Theta_1 = 1.3383523180260268\n",
      "Minimum Cost Function value = 25.360467255645823\n"
     ]
    }
   ],
   "source": [
    "xs_mean = xs.mean()\n",
    "ys_mean = ys.mean()\n",
    "theta_1_function = ((xs-xs_mean)*(ys-ys_mean)).sum() / ((xs-xs_mean)**2).sum()\n",
    "theta_0_function = ys_mean - theta_1_function * xs_mean\n",
    "cost_function_min = (1/m) * (((theta_1 * xs + theta_0) - ys)**2).sum()\n",
    "\n",
    "print('Average of xs =', xs_mean)\n",
    "print('Average of ys =', ys_mean)\n",
    "print('Theta_0 =', theta_0_function)\n",
    "print('Theta_1 =', theta_1_function)\n",
    "print('Minimum Cost Function value =', cost_function_min)"
   ]
  },
  {
   "cell_type": "markdown",
   "metadata": {
    "slideshow": {
     "slide_type": "slide"
    }
   },
   "source": [
    "## GRADIENT DESCENT BY ANALITICAL APPROACH"
   ]
  },
  {
   "cell_type": "markdown",
   "metadata": {
    "slideshow": {
     "slide_type": "fragment"
    }
   },
   "source": [
    "In order to find $\\theta_0$ and $\\theta_1$ by gradient descent, partial differentials of the cost function must be calculated:\n",
    "\n",
    "$$\\frac{\\partial}{\\partial\\theta_0} = \\frac{1}{m}\\sum_{i=1}^m(h_\\theta(x_i)-y_i)$$\n",
    "\n",
    "$$\\frac{\\partial}{\\partial\\theta_1} = \\frac{1}{m}\\sum_{i=1}^m(h_\\theta(x_i)-y_i) \\cdot x_i$$\n",
    "\n",
    "The way to minimize the cost funcion is varying $\\theta_0$ and $\\theta_1$ following the steepest gradient. This can be done by multipling the partial differentials by a negative small factor (learning rate or alpha) in an iterative loop."
   ]
  },
  {
   "cell_type": "code",
   "execution_count": 36,
   "metadata": {
    "jupyter": {
     "outputs_hidden": true
    },
    "scrolled": false,
    "slideshow": {
     "slide_type": "slide"
    }
   },
   "outputs": [
    {
     "name": "stdout",
     "output_type": "stream",
     "text": [
      "Theta_0 =  48.99193575135039\n",
      "Theta_1 =  1.338415859323848\n",
      "Final cost_function value =  25.36046749087736\n",
      "Number of iterations =  94398\n",
      "Final Cost function difference = 9.99911264898401e-11\n"
     ]
    },
    {
     "data": {
      "text/plain": [
       "[<matplotlib.lines.Line2D at 0x7f07a48ada58>]"
      ]
     },
     "execution_count": 36,
     "metadata": {},
     "output_type": "execute_result"
    },
    {
     "data": {
      "image/png": "[encoded data removed]",
      "text/plain": [
       "<Figure size 432x288 with 1 Axes>"
      ]
     },
     "metadata": {},
     "output_type": "display_data"
    }
   ],
   "source": [
    "i = 0                           #Iterations\n",
    "i_limit = 100000                #Maximum number of iterations\n",
    "alpha = 0.001                   #Learning rate\n",
    "theta_0 = 1                     #Initialization of variables theta_0 with a random value\n",
    "theta_1 = 1                     #Initialization of variables theta_1 with a random value\n",
    "diff = 1                        #Cost function difference between consecutive iterations\n",
    "diff_limit = 0.0000000001       #Maximium cost function difference between consecutive iterations\n",
    " \n",
    "cost_function_1 = (1/m) * (((theta_1 * xs + theta_0) - ys)**2).sum()   #First Cost function\n",
    "G_theta_0 = (2/m) * ((theta_1 * xs + theta_0) - ys).sum()              #First partial difference for theta_0\n",
    "G_theta_1 = (2/m) * (((theta_1 * xs + theta_0) - ys)*xs).sum()      #First partial difference for theta_1\n",
    "\n",
    "while diff > diff_limit and i < i_limit:\n",
    "    \n",
    "    theta_0 = theta_0 - alpha * G_theta_0    #Gradient descent for theta_0\n",
    "    theta_1 = theta_1 - alpha * G_theta_1    #Gradient descent for theta_1\n",
    "    \n",
    "    cost_function_2 = (1/m) * (((theta_1 * xs + theta_0) - ys)**2).sum()\n",
    "    diff = abs(cost_function_1 - cost_function_2)\n",
    "    \n",
    "    G_theta_0 = (1/m) * ((theta_1 * xs + theta_0) - ys).sum()\n",
    "    G_theta_1 = (1/m) * (((theta_1 * xs + theta_0) - ys)*xs).sum()\n",
    "    cost_function_1 = cost_function_2\n",
    "    i += 1\n",
    "\n",
    "print('Theta_0 = ', theta_0)\n",
    "print('Theta_1 = ', theta_1)\n",
    "print('Final cost_function value = ', cost_function_2)\n",
    "print('Number of iterations = ', i)\n",
    "print('Final Cost function difference =', diff)\n",
    "\n",
    "ys_pred = theta_0 + theta_1 * xs\n",
    "\n",
    "plt.scatter(xs,ys)\n",
    "plt.plot(xs,ys_pred,color='b')"
   ]
  },
  {
   "cell_type": "markdown",
   "metadata": {},
   "source": [
    "In order to check that this approac is OK, the difference between this result and the Mathematical approach is calculated"
   ]
  },
  {
   "cell_type": "code",
   "execution_count": 37,
   "metadata": {
    "scrolled": false
   },
   "outputs": [
    {
     "name": "stdout",
     "output_type": "stream",
     "text": [
      "Theta_0 error in % is:  0.00429122030132588\n",
      "Theta_1 error in % is:  0.004747725764384355\n",
      "Cost function error in % is:  9.275520705712771e-07\n"
     ]
    }
   ],
   "source": [
    "theta_0_error = abs(theta_0 - theta_0_function) / theta_0_function * 100\n",
    "theta_1_error = abs(theta_1 - theta_1_function) / theta_1_function * 100\n",
    "cost_function_error = abs(cost_function_2 - cost_function_min) / cost_function_min * 100\n",
    "print('Theta_0 error in % is: ', theta_0_error)\n",
    "print('Theta_1 error in % is: ', theta_1_error)\n",
    "print('Cost function error in % is: ', cost_function_error)"
   ]
  },
  {
   "cell_type": "markdown",
   "metadata": {},
   "source": [
    "NOTE: Possibly I am wrong, but I think there is a '2' missing in the partial differences formulae. In my opinion the correct ones are:\n",
    "\n",
    "$$\\frac{\\partial}{\\partial\\theta_0} = \\frac{2}{m}\\sum_{i=1}^m(h_\\theta(x_i)-y_i)$$\n",
    "\n",
    "$$\\frac{\\partial}{\\partial\\theta_1} = \\frac{2}{m}\\sum_{i=1}^m(h_\\theta(x_i)-y_i) \\cdot x_i$$\n",
    "\n",
    "So, in order to check that this difference do not affect sificantly the results, the same calculations are done considering the above formulae."
   ]
  },
  {
   "cell_type": "code",
   "execution_count": 38,
   "metadata": {
    "jupyter": {
     "outputs_hidden": true
    },
    "scrolled": false,
    "slideshow": {
     "slide_type": "slide"
    }
   },
   "outputs": [
    {
     "name": "stdout",
     "output_type": "stream",
     "text": [
      "Theta_0 =  48.99255183529816\n",
      "Theta_1 =  1.3383972396561015\n",
      "Final cost_function value =  25.360467255645823\n",
      "Number of iterations =  48828\n",
      "Final Cost function difference = 9.99662574940885e-11\n"
     ]
    },
    {
     "data": {
      "text/plain": [
       "[<matplotlib.lines.Line2D at 0x7f07a49276a0>]"
      ]
     },
     "execution_count": 38,
     "metadata": {},
     "output_type": "execute_result"
    },
    {
     "data": {
      "image/png": "[encoded data removed]",
      "text/plain": [
       "<Figure size 432x288 with 1 Axes>"
      ]
     },
     "metadata": {},
     "output_type": "display_data"
    }
   ],
   "source": [
    "i = 0                           #Iterations\n",
    "i_limit = 100000                #Maximum number of iterations\n",
    "alpha = 0.001                   #Learning rate\n",
    "theta_0 = 1                     #Initialization of variables theta_0 with a random value\n",
    "theta_1 = 1                     #Initialization of variables theta_1 with a random value\n",
    "diff = 1                        #Cost function difference between consecutive iterations\n",
    "diff_limit = 0.0000000001       #Maximium cost function difference between consecutive iterations\n",
    " \n",
    "cost_function_1 = (1/m) * (((theta_1 * xs + theta_0) - ys)**2).sum()   #First Cost function\n",
    "G_theta_0 = (2/m) * ((theta_1 * xs + theta_0) - ys).sum()              #First partial difference for theta_0\n",
    "G_theta_1 = (2/m) * (((theta_1 * xs + theta_0) - ys)*xs).sum()      #First partial difference for theta_1\n",
    "\n",
    "while diff > diff_limit and i < i_limit:\n",
    "    \n",
    "    theta_0 = theta_0 - alpha * G_theta_0    #Gradient descent for theta_0\n",
    "    theta_1 = theta_1 - alpha * G_theta_1    #Gradient descent for theta_1\n",
    "    \n",
    "    cost_function_2 = (1/m) * (((theta_1 * xs + theta_0) - ys)**2).sum()\n",
    "    diff = abs(cost_function_1 - cost_function_2)\n",
    "    \n",
    "    G_theta_0 = (2/m) * ((theta_1 * xs + theta_0) - ys).sum()\n",
    "    G_theta_1 = (2/m) * (((theta_1 * xs + theta_0) - ys)*xs).sum()\n",
    "    cost_function_1 = cost_function_2\n",
    "    i += 1\n",
    "\n",
    "print('Theta_0 = ', theta_0)\n",
    "print('Theta_1 = ', theta_1)\n",
    "print('Final cost_function value = ', cost_function_2)\n",
    "print('Number of iterations = ', i)\n",
    "print('Final Cost function difference =', diff)\n",
    "\n",
    "ys_pred = theta_0 + theta_1 * xs\n",
    "\n",
    "plt.scatter(xs,ys)\n",
    "plt.plot(xs,ys_pred,color='b')"
   ]
  },
  {
   "cell_type": "code",
   "execution_count": 39,
   "metadata": {
    "scrolled": false
   },
   "outputs": [
    {
     "name": "stdout",
     "output_type": "stream",
     "text": [
      "Theta_0 error in % is:  0.0030337531267771267\n",
      "Theta_1 error in % is:  0.0033564876355495717\n",
      "Cost function error in % is:  0.0\n"
     ]
    }
   ],
   "source": [
    "theta_0_error = abs(theta_0 - theta_0_function) / theta_0_function * 100\n",
    "theta_1_error = abs(theta_1 - theta_1_function) / theta_1_function * 100\n",
    "cost_function_error = abs(cost_function_2 - cost_function_min) / cost_function_min * 100\n",
    "print('Theta_0 error in % is: ', theta_0_error)\n",
    "print('Theta_1 error in % is: ', theta_1_error)\n",
    "print('Cost function error in % is: ', cost_function_error)"
   ]
  },
  {
   "cell_type": "markdown",
   "metadata": {},
   "source": [
    "It can be concluded that, despite the fact both results are similar, the last one reaches the solution after \"only\" 48828 iterations, and the first one (considering the former formulea without '2') after 94398. So, it seems that the '2' version is better."
   ]
  },
  {
   "cell_type": "markdown",
   "metadata": {},
   "source": [
    "## CALCULATION BY NUMERICAL APPROACH"
   ]
  },
  {
   "cell_type": "markdown",
   "metadata": {},
   "source": [
    "The last approach I am going to try is the numerical one. The methodology it is completely simiar to the analitical approach, but instead of considering the analitical formulae for partial differences, an incremental approximation is used. The advantage of this approach is that it can be used with regressions not as easy to derivate analitically as linear regression is, (or when you do not know how to obtain the gradient's formulae).\n",
    "\n",
    "In this case, the formulae are the followings:\n",
    "\n",
    "$$\\frac{\\partial J(\\theta_0,\\theta_1)}{\\partial\\theta_0} \\simeq \\frac{\\Delta J(\\theta_0,\\theta_1)}{\\Delta\\theta_0} = \\frac{J(\\theta_0+\\Delta \\theta_0,\\theta_1)-J(\\theta_0,\\theta_1)}{\\Delta \\theta_0}$$\n",
    "\n",
    "$$\\frac{\\partial J(\\theta_0,\\theta_1)}{\\partial\\theta_1} \\simeq \\frac{\\Delta J(\\theta_0,\\theta_1)}{\\Delta\\theta_1} = \\frac{J(\\theta_0,\\theta_1+\\Delta \\theta_1)-J(\\theta_0,\\theta_1)}{\\Delta \\theta_1}$$"
   ]
  },
  {
   "cell_type": "code",
   "execution_count": 41,
   "metadata": {
    "jupyter": {
     "outputs_hidden": true
    },
    "scrolled": false,
    "slideshow": {
     "slide_type": "slide"
    }
   },
   "outputs": [
    {
     "name": "stdout",
     "output_type": "stream",
     "text": [
      "Theta_0 =  48.950025839710634\n",
      "Theta_1 =  1.3390128356897817\n",
      "Final cost_function value =  25.361111728416777\n",
      "Number of iterations =  64234\n",
      "Final Cost function difference = 9.99875737761613e-11\n"
     ]
    },
    {
     "data": {
      "text/plain": [
       "[<matplotlib.lines.Line2D at 0x7f07a47df240>]"
      ]
     },
     "execution_count": 41,
     "metadata": {},
     "output_type": "execute_result"
    },
    {
     "data": {
      "image/png": "[encoded data removed]",
      "text/plain": [
       "<Figure size 432x288 with 1 Axes>"
      ]
     },
     "metadata": {},
     "output_type": "display_data"
    }
   ],
   "source": [
    "i = 0\n",
    "i_limit = 100000    #Maximum number of iterations\n",
    "alpha = 0.001\n",
    "beta = 1.001        #For convenience, I am using a multiplication factor instead of an additive factor (Delta)), \n",
    "theta_0 = 1         #Initialization of variables theta_0 with a random value. Warning: it cannot be 0!!!\n",
    "theta_1 = 1         #Initialization of variables theta_1 with a random value. Warning: it cannot be 0!!!\n",
    "diff = 1\n",
    "diff_limit = 0.0000000001 \n",
    "\n",
    "cost_function_1 = (1/m) * (((theta_1 * xs + theta_0) - ys)**2).sum()\n",
    "cost_function_1_GN_0 = (1/m) * ((((theta_1 * xs) + (beta * theta_0)) - ys)**2).sum()\n",
    "cost_function_1_GN_1 = (1/m) * ((((beta * theta_1) * xs + theta_0) - ys)**2).sum()\n",
    "\n",
    "GN_theta_0 = (cost_function_1_GN_0 - cost_function_1) / (theta_0 * (beta - 1))\n",
    "GN_theta_1 = (cost_function_1_GN_1 - cost_function_1) / (theta_1 * (beta - 1))\n",
    "\n",
    "while diff > diff_limit and i < i_limit:\n",
    "    \n",
    "    theta_0 = theta_0 - alpha * GN_theta_0\n",
    "    theta_1 = theta_1 - alpha * GN_theta_1\n",
    "    cost_function_2 = (1/m) * (((theta_1 * xs + theta_0) - ys)**2).sum()\n",
    "    \n",
    "    diff = abs(cost_function_1 - cost_function_2)\n",
    "\n",
    "    cost_function_1_GN_0 = (1/m) * ((((theta_1 * xs) + (beta * theta_0)) - ys)**2).sum()\n",
    "    cost_function_1_GN_1 = (1/m) * ((((beta * theta_1) * xs + theta_0) - ys)**2).sum()\n",
    "    GN_theta_0 = (cost_function_1_GN_0 - cost_function_2) / (theta_0 * (beta - 1))\n",
    "    GN_theta_1 = (cost_function_1_GN_1 - cost_function_2) / (theta_1 * (beta - 1))\n",
    "\n",
    "    cost_function_1 = cost_function_2\n",
    "    i += 1\n",
    "\n",
    "\n",
    "print('Theta_0 = ', theta_0)\n",
    "print('Theta_1 = ', theta_1)\n",
    "print('Final cost_function value = ', cost_function_2)\n",
    "print('Number of iterations = ', i)\n",
    "print('Final Cost function difference =', diff)\n",
    "\n",
    "ys_pred = theta_0 + theta_1 * xs\n",
    "\n",
    "plt.scatter(xs,ys)\n",
    "plt.plot(xs,ys_pred,color='b')"
   ]
  },
  {
   "cell_type": "markdown",
   "metadata": {},
   "source": [
    "The differences with the mathematical calculation are similar than the analitical approach:"
   ]
  },
  {
   "cell_type": "code",
   "execution_count": 42,
   "metadata": {},
   "outputs": [
    {
     "name": "stdout",
     "output_type": "stream",
     "text": [
      "Theta_0 error in % is:  0.0898320599321919\n",
      "Theta_1 error in % is:  0.04935304813676207\n",
      "Cost function error in % is:  0.0025412495931468985\n"
     ]
    }
   ],
   "source": [
    "theta_0_error = abs(theta_0 - theta_0_function) / theta_0_function * 100\n",
    "theta_1_error = abs(theta_1 - theta_1_function) / theta_1_function * 100\n",
    "cost_function_error = abs(cost_function_2 - cost_function_min) / cost_function_min * 100\n",
    "print('Theta_0 error in % is: ', theta_0_error)\n",
    "print('Theta_1 error in % is: ', theta_1_error)\n",
    "print('Cost function error in % is: ', cost_function_error)"
   ]
  },
  {
   "cell_type": "markdown",
   "metadata": {
    "slideshow": {
     "slide_type": "slide"
    }
   },
   "source": [
    "   "
   ]
  }
 ],
 "metadata": {
  "kernelspec": {
   "display_name": "Python 3",
   "language": "python",
   "name": "python3"
  },
  "language_info": {
   "codemirror_mode": {
    "name": "ipython",
    "version": 3
   },
   "file_extension": ".py",
   "mimetype": "text/x-python",
   "name": "python",
   "nbconvert_exporter": "python",
   "pygments_lexer": "ipython3",
   "version": "3.7.1"
  },
  "livereveal": {
   "scroll": true,
   "start_slideshow_at": "selected"
  },
  "toc-autonumbering": false
 },
 "nbformat": 4,
 "nbformat_minor": 4
}
