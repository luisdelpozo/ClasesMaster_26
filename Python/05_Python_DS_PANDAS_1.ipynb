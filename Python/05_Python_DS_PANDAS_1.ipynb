{
 "cells": [
  {
   "cell_type": "code",
   "execution_count": 2,
   "metadata": {},
   "outputs": [],
   "source": [
    "### ESTA PARTE ES ESPECÍFICA DE COLAB\n",
    "### PARA FUNCIONAR CON EN LOCAL NO ES NECESARIO"
   ]
  },
  {
   "cell_type": "code",
   "execution_count": 3,
   "metadata": {
    "colab": {
     "base_uri": "https://localhost:8080/"
    },
    "executionInfo": {
     "elapsed": 44320,
     "status": "ok",
     "timestamp": 1607762927317,
     "user": {
      "displayName": "Luis DEL POZO",
      "photoUrl": "",
      "userId": "08297678491184687059"
     },
     "user_tz": -60
    },
    "id": "OqD5lc-sGM5N",
    "outputId": "20e6b071-f539-4012-9e7e-cfbd2e989fd5"
   },
   "outputs": [],
   "source": [
    "#import os\n",
    "#drive_loc = '/content/gdrive'\n",
    "#file_loc = os.path.join(drive_loc,'MyDrive','pdsfiles')\n",
    "\n",
    "#from google.colab import drive\n",
    "#drive.mount(drive_loc)"
   ]
  },
  {
   "cell_type": "code",
   "execution_count": 4,
   "metadata": {
    "executionInfo": {
     "elapsed": 586,
     "status": "ok",
     "timestamp": 1607763427474,
     "user": {
      "displayName": "Luis DEL POZO",
      "photoUrl": "",
      "userId": "08297678491184687059"
     },
     "user_tz": -60
    },
    "id": "1_nUi73fIWCs"
   },
   "outputs": [],
   "source": [
    "#files_loc = file_loc\n",
    "#!mkdir -p {files_loc}"
   ]
  },
  {
   "cell_type": "code",
   "execution_count": 5,
   "metadata": {
    "executionInfo": {
     "elapsed": 656,
     "status": "ok",
     "timestamp": 1607763429392,
     "user": {
      "displayName": "Luis DEL POZO",
      "photoUrl": "",
      "userId": "08297678491184687059"
     },
     "user_tz": -60
    },
    "id": "dfYDv3hTJm2i"
   },
   "outputs": [],
   "source": [
    "#!ls {files_loc}"
   ]
  },
  {
   "cell_type": "code",
   "execution_count": 6,
   "metadata": {
    "colab": {
     "base_uri": "https://localhost:8080/",
     "height": 35
    },
    "executionInfo": {
     "elapsed": 589,
     "status": "ok",
     "timestamp": 1607763430946,
     "user": {
      "displayName": "Luis DEL POZO",
      "photoUrl": "",
      "userId": "08297678491184687059"
     },
     "user_tz": -60
    },
    "id": "PKiVF9nPJtU6",
    "outputId": "f55e677a-ed9e-41f2-8495-ffd05045c608"
   },
   "outputs": [],
   "source": [
    "#files_loc"
   ]
  },
  {
   "cell_type": "markdown",
   "metadata": {
    "id": "7wVT3sPbKVBe"
   },
   "source": [
    "#Getting started"
   ]
  },
  {
   "cell_type": "code",
   "execution_count": 7,
   "metadata": {
    "executionInfo": {
     "elapsed": 550,
     "status": "ok",
     "timestamp": 1607763821334,
     "user": {
      "displayName": "Luis DEL POZO",
      "photoUrl": "",
      "userId": "08297678491184687059"
     },
     "user_tz": -60
    },
    "id": "TyzoLU4SLidp"
   },
   "outputs": [],
   "source": [
    "import pandas as pd\n",
    "import numpy as np"
   ]
  },
  {
   "cell_type": "markdown",
   "metadata": {
    "id": "7OyezFTFMQBn"
   },
   "source": [
    "## Series"
   ]
  },
  {
   "cell_type": "code",
   "execution_count": 8,
   "metadata": {
    "colab": {
     "base_uri": "https://localhost:8080/"
    },
    "executionInfo": {
     "elapsed": 574,
     "status": "ok",
     "timestamp": 1607763983267,
     "user": {
      "displayName": "Luis DEL POZO",
      "photoUrl": "",
      "userId": "08297678491184687059"
     },
     "user_tz": -60
    },
    "id": "OR_cOzHkMT_l",
    "outputId": "1db7dde9-7b0a-41d4-bcdf-57d70c0c3641"
   },
   "outputs": [
    {
     "data": {
      "text/plain": [
       "pandas.core.series.Series"
      ]
     },
     "execution_count": 8,
     "metadata": {},
     "output_type": "execute_result"
    }
   ],
   "source": [
    "s = pd.Series([4,7,-5,3])\n",
    "type(s)"
   ]
  },
  {
   "cell_type": "code",
   "execution_count": 12,
   "metadata": {
    "colab": {
     "base_uri": "https://localhost:8080/"
    },
    "executionInfo": {
     "elapsed": 639,
     "status": "ok",
     "timestamp": 1607764003971,
     "user": {
      "displayName": "Luis DEL POZO",
      "photoUrl": "",
      "userId": "08297678491184687059"
     },
     "user_tz": -60
    },
    "id": "fovsrHDZM3j-",
    "outputId": "02f2b35b-04fe-43e1-e485-d7630d76be26"
   },
   "outputs": [
    {
     "data": {
      "text/plain": [
       "0    4\n",
       "1    7\n",
       "2   -5\n",
       "3    3\n",
       "dtype: int64"
      ]
     },
     "execution_count": 12,
     "metadata": {
      "tags": []
     },
     "output_type": "execute_result"
    }
   ],
   "source": [
    "s"
   ]
  },
  {
   "cell_type": "code",
   "execution_count": 9,
   "metadata": {
    "colab": {
     "base_uri": "https://localhost:8080/"
    },
    "executionInfo": {
     "elapsed": 529,
     "status": "ok",
     "timestamp": 1607764057604,
     "user": {
      "displayName": "Luis DEL POZO",
      "photoUrl": "",
      "userId": "08297678491184687059"
     },
     "user_tz": -60
    },
    "id": "IoEbyiSoM8fT",
    "outputId": "b5d9d65b-5783-4681-99aa-61f4598fd37b"
   },
   "outputs": [
    {
     "data": {
      "text/plain": [
       "array([ 4,  7, -5,  3])"
      ]
     },
     "execution_count": 9,
     "metadata": {},
     "output_type": "execute_result"
    }
   ],
   "source": [
    "s.values"
   ]
  },
  {
   "cell_type": "code",
   "execution_count": 10,
   "metadata": {
    "colab": {
     "base_uri": "https://localhost:8080/"
    },
    "executionInfo": {
     "elapsed": 610,
     "status": "ok",
     "timestamp": 1607764131861,
     "user": {
      "displayName": "Luis DEL POZO",
      "photoUrl": "",
      "userId": "08297678491184687059"
     },
     "user_tz": -60
    },
    "id": "U1Mpm_bgNJug",
    "outputId": "8ba99210-d91d-4ff0-8f9c-3fb54f670f0b"
   },
   "outputs": [
    {
     "data": {
      "text/plain": [
       "numpy.ndarray"
      ]
     },
     "execution_count": 10,
     "metadata": {},
     "output_type": "execute_result"
    }
   ],
   "source": [
    "type(s.values)"
   ]
  },
  {
   "cell_type": "code",
   "execution_count": 11,
   "metadata": {
    "colab": {
     "base_uri": "https://localhost:8080/",
     "height": 289
    },
    "executionInfo": {
     "elapsed": 608,
     "status": "error",
     "timestamp": 1607764247799,
     "user": {
      "displayName": "Luis DEL POZO",
      "photoUrl": "",
      "userId": "08297678491184687059"
     },
     "user_tz": -60
    },
    "id": "dqv39EfLNN3b",
    "outputId": "b8e68e04-c573-4f11-af74-2fef03019c9b"
   },
   "outputs": [
    {
     "ename": "ValueError",
     "evalue": "Length of passed values is 7, index implies 8",
     "output_type": "error",
     "traceback": [
      "\u001b[0;31m---------------------------------------------------------------------------\u001b[0m",
      "\u001b[0;31mValueError\u001b[0m                                Traceback (most recent call last)",
      "\u001b[0;32m<ipython-input-11-b7415b7d7fb1>\u001b[0m in \u001b[0;36m<module>\u001b[0;34m\u001b[0m\n\u001b[0;32m----> 1\u001b[0;31m \u001b[0ms2\u001b[0m \u001b[0;34m=\u001b[0m \u001b[0mpd\u001b[0m\u001b[0;34m.\u001b[0m\u001b[0mSeries\u001b[0m\u001b[0;34m(\u001b[0m\u001b[0;34m[\u001b[0m\u001b[0;36m1\u001b[0m\u001b[0;34m,\u001b[0m\u001b[0;36m2\u001b[0m\u001b[0;34m,\u001b[0m\u001b[0;36m4.5\u001b[0m\u001b[0;34m,\u001b[0m\u001b[0;36m7\u001b[0m\u001b[0;34m,\u001b[0m\u001b[0;36m2\u001b[0m\u001b[0;34m,\u001b[0m\u001b[0;36m23\u001b[0m\u001b[0;34m,\u001b[0m\u001b[0;36m15\u001b[0m\u001b[0;34m]\u001b[0m\u001b[0;34m,\u001b[0m\u001b[0mindex\u001b[0m\u001b[0;34m=\u001b[0m\u001b[0mlist\u001b[0m\u001b[0;34m(\u001b[0m\u001b[0;34m'javiercm'\u001b[0m\u001b[0;34m)\u001b[0m\u001b[0;34m)\u001b[0m\u001b[0;34m\u001b[0m\u001b[0;34m\u001b[0m\u001b[0m\n\u001b[0m",
      "\u001b[0;32m~/anaconda3/lib/python3.7/site-packages/pandas/core/series.py\u001b[0m in \u001b[0;36m__init__\u001b[0;34m(self, data, index, dtype, name, copy, fastpath)\u001b[0m\n\u001b[1;32m    260\u001b[0m                             \u001b[0;34m'Length of passed values is {val}, '\u001b[0m\u001b[0;34m\u001b[0m\u001b[0;34m\u001b[0m\u001b[0m\n\u001b[1;32m    261\u001b[0m                             \u001b[0;34m'index implies {ind}'\u001b[0m\u001b[0;34m\u001b[0m\u001b[0;34m\u001b[0m\u001b[0m\n\u001b[0;32m--> 262\u001b[0;31m                             .format(val=len(data), ind=len(index)))\n\u001b[0m\u001b[1;32m    263\u001b[0m                 \u001b[0;32mexcept\u001b[0m \u001b[0mTypeError\u001b[0m\u001b[0;34m:\u001b[0m\u001b[0;34m\u001b[0m\u001b[0;34m\u001b[0m\u001b[0m\n\u001b[1;32m    264\u001b[0m                     \u001b[0;32mpass\u001b[0m\u001b[0;34m\u001b[0m\u001b[0;34m\u001b[0m\u001b[0m\n",
      "\u001b[0;31mValueError\u001b[0m: Length of passed values is 7, index implies 8"
     ]
    }
   ],
   "source": [
    "#Esto da error porque la longitud de la lista de índices no coincide con la de los valores\n",
    "s2 = pd.Series([1,2,4.5,7,2,23,15],index=list('javiercm'))"
   ]
  },
  {
   "cell_type": "code",
   "execution_count": 12,
   "metadata": {
    "executionInfo": {
     "elapsed": 577,
     "status": "ok",
     "timestamp": 1607764295428,
     "user": {
      "displayName": "Luis DEL POZO",
      "photoUrl": "",
      "userId": "08297678491184687059"
     },
     "user_tz": -60
    },
    "id": "O4U-F8NaNPeQ"
   },
   "outputs": [],
   "source": [
    "s2 = pd.Series([1,2,4.5,8,7,2,23,15],index=list('javiercm'))"
   ]
  },
  {
   "cell_type": "code",
   "execution_count": 13,
   "metadata": {
    "colab": {
     "base_uri": "https://localhost:8080/"
    },
    "executionInfo": {
     "elapsed": 531,
     "status": "ok",
     "timestamp": 1607764302792,
     "user": {
      "displayName": "Luis DEL POZO",
      "photoUrl": "",
      "userId": "08297678491184687059"
     },
     "user_tz": -60
    },
    "id": "nSHZQ66ZNP3S",
    "outputId": "2bebe1a1-a56c-4681-fa2b-f5f549734d6e"
   },
   "outputs": [
    {
     "data": {
      "text/plain": [
       "j     1.0\n",
       "a     2.0\n",
       "v     4.5\n",
       "i     8.0\n",
       "e     7.0\n",
       "r     2.0\n",
       "c    23.0\n",
       "m    15.0\n",
       "dtype: float64"
      ]
     },
     "execution_count": 13,
     "metadata": {},
     "output_type": "execute_result"
    }
   ],
   "source": [
    "s2"
   ]
  },
  {
   "cell_type": "code",
   "execution_count": 14,
   "metadata": {
    "colab": {
     "base_uri": "https://localhost:8080/"
    },
    "executionInfo": {
     "elapsed": 943,
     "status": "ok",
     "timestamp": 1607764351646,
     "user": {
      "displayName": "Luis DEL POZO",
      "photoUrl": "",
      "userId": "08297678491184687059"
     },
     "user_tz": -60
    },
    "id": "50YWLLNVOFlC",
    "outputId": "8817f73b-47eb-4524-be0d-630677edd67f"
   },
   "outputs": [
    {
     "data": {
      "text/plain": [
       "2.0"
      ]
     },
     "execution_count": 14,
     "metadata": {},
     "output_type": "execute_result"
    }
   ],
   "source": [
    "s2['r']"
   ]
  },
  {
   "cell_type": "code",
   "execution_count": 17,
   "metadata": {
    "colab": {
     "base_uri": "https://localhost:8080/"
    },
    "executionInfo": {
     "elapsed": 561,
     "status": "ok",
     "timestamp": 1607764559605,
     "user": {
      "displayName": "Luis DEL POZO",
      "photoUrl": "",
      "userId": "08297678491184687059"
     },
     "user_tz": -60
    },
    "id": "4A1dovxAORZ5",
    "outputId": "225c001a-5456-49de-c414-28ae155b56ab"
   },
   "outputs": [
    {
     "data": {
      "text/plain": [
       "2.0"
      ]
     },
     "execution_count": 17,
     "metadata": {},
     "output_type": "execute_result"
    }
   ],
   "source": [
    "#OJO: el índice numérico no se pierde\n",
    "s2[1]"
   ]
  },
  {
   "cell_type": "code",
   "execution_count": 18,
   "metadata": {
    "colab": {
     "base_uri": "https://localhost:8080/"
    },
    "executionInfo": {
     "elapsed": 526,
     "status": "ok",
     "timestamp": 1607764575697,
     "user": {
      "displayName": "Luis DEL POZO",
      "photoUrl": "",
      "userId": "08297678491184687059"
     },
     "user_tz": -60
    },
    "id": "CKfnUxSMOkLh",
    "outputId": "234b85fe-3fa1-40a8-bd95-7ff525acd704"
   },
   "outputs": [
    {
     "data": {
      "text/plain": [
       "j    False\n",
       "a     True\n",
       "v    False\n",
       "i     True\n",
       "e    False\n",
       "r     True\n",
       "c    False\n",
       "m    False\n",
       "dtype: bool"
      ]
     },
     "execution_count": 18,
     "metadata": {},
     "output_type": "execute_result"
    }
   ],
   "source": [
    "s2 % 2 == 0"
   ]
  },
  {
   "cell_type": "code",
   "execution_count": 19,
   "metadata": {
    "colab": {
     "base_uri": "https://localhost:8080/"
    },
    "executionInfo": {
     "elapsed": 581,
     "status": "ok",
     "timestamp": 1607764649724,
     "user": {
      "displayName": "Luis DEL POZO",
      "photoUrl": "",
      "userId": "08297678491184687059"
     },
     "user_tz": -60
    },
    "id": "t_rFRHFGPINi",
    "outputId": "01441184-68e0-42ba-c9ce-4dbeb20a835e"
   },
   "outputs": [
    {
     "data": {
      "text/plain": [
       "a    2.0\n",
       "i    8.0\n",
       "r    2.0\n",
       "dtype: float64"
      ]
     },
     "execution_count": 19,
     "metadata": {},
     "output_type": "execute_result"
    }
   ],
   "source": [
    "s2[s2 % 2 == 0]"
   ]
  },
  {
   "cell_type": "code",
   "execution_count": 20,
   "metadata": {
    "colab": {
     "base_uri": "https://localhost:8080/"
    },
    "executionInfo": {
     "elapsed": 540,
     "status": "ok",
     "timestamp": 1607764683507,
     "user": {
      "displayName": "Luis DEL POZO",
      "photoUrl": "",
      "userId": "08297678491184687059"
     },
     "user_tz": -60
    },
    "id": "_zaNyTkSPXaO",
    "outputId": "16fa1a67-b399-432b-9c17-98343ede22a7"
   },
   "outputs": [
    {
     "data": {
      "text/plain": [
       "j     2.0\n",
       "a     4.0\n",
       "v     9.0\n",
       "i    16.0\n",
       "e    14.0\n",
       "r     4.0\n",
       "c    46.0\n",
       "m    30.0\n",
       "dtype: float64"
      ]
     },
     "execution_count": 20,
     "metadata": {},
     "output_type": "execute_result"
    }
   ],
   "source": [
    "s2 * 2"
   ]
  },
  {
   "cell_type": "code",
   "execution_count": 21,
   "metadata": {
    "colab": {
     "base_uri": "https://localhost:8080/"
    },
    "executionInfo": {
     "elapsed": 529,
     "status": "ok",
     "timestamp": 1607764694861,
     "user": {
      "displayName": "Luis DEL POZO",
      "photoUrl": "",
      "userId": "08297678491184687059"
     },
     "user_tz": -60
    },
    "id": "IlNTSoGiPihk",
    "outputId": "9d1b2928-7bff-4ad6-e434-47f040f1621e",
    "scrolled": true
   },
   "outputs": [
    {
     "data": {
      "text/plain": [
       "j    2.718282e+00\n",
       "a    7.389056e+00\n",
       "v    9.001713e+01\n",
       "i    2.980958e+03\n",
       "e    1.096633e+03\n",
       "r    7.389056e+00\n",
       "c    9.744803e+09\n",
       "m    3.269017e+06\n",
       "dtype: float64"
      ]
     },
     "execution_count": 21,
     "metadata": {},
     "output_type": "execute_result"
    }
   ],
   "source": [
    "np.exp(s2)"
   ]
  },
  {
   "cell_type": "code",
   "execution_count": 27,
   "metadata": {
    "colab": {
     "base_uri": "https://localhost:8080/"
    },
    "executionInfo": {
     "elapsed": 583,
     "status": "ok",
     "timestamp": 1607764816489,
     "user": {
      "displayName": "Luis DEL POZO",
      "photoUrl": "",
      "userId": "08297678491184687059"
     },
     "user_tz": -60
    },
    "id": "SXZHCnMHPlTJ",
    "outputId": "9481548c-e780-4fed-c24f-3e28247672e3"
   },
   "outputs": [
    {
     "data": {
      "text/plain": [
       "j     1.0\n",
       "a     2.0\n",
       "v     4.5\n",
       "i     8.0\n",
       "e     7.0\n",
       "r     2.0\n",
       "c    23.0\n",
       "m    15.0\n",
       "dtype: float64"
      ]
     },
     "execution_count": 27,
     "metadata": {
      "tags": []
     },
     "output_type": "execute_result"
    }
   ],
   "source": [
    "#Las seire no ha cambiado\n",
    "s2"
   ]
  },
  {
   "cell_type": "code",
   "execution_count": 23,
   "metadata": {
    "colab": {
     "base_uri": "https://localhost:8080/"
    },
    "executionInfo": {
     "elapsed": 597,
     "status": "ok",
     "timestamp": 1607764852351,
     "user": {
      "displayName": "Luis DEL POZO",
      "photoUrl": "",
      "userId": "08297678491184687059"
     },
     "user_tz": -60
    },
    "id": "XGFowujpP6vd",
    "outputId": "6911ed3e-4e69-4231-c621-7bcfd0483b2d"
   },
   "outputs": [
    {
     "data": {
      "text/plain": [
       "True"
      ]
     },
     "execution_count": 23,
     "metadata": {},
     "output_type": "execute_result"
    }
   ],
   "source": [
    "'i' in s2"
   ]
  },
  {
   "cell_type": "code",
   "execution_count": 24,
   "metadata": {
    "colab": {
     "base_uri": "https://localhost:8080/"
    },
    "executionInfo": {
     "elapsed": 597,
     "status": "ok",
     "timestamp": 1607764969094,
     "user": {
      "displayName": "Luis DEL POZO",
      "photoUrl": "",
      "userId": "08297678491184687059"
     },
     "user_tz": -60
    },
    "id": "3zD1SNvmQEhb",
    "outputId": "f93652ce-7bb8-476b-d15f-365be1495dbb"
   },
   "outputs": [
    {
     "data": {
      "text/plain": [
       "Zaragoza     250000.0\n",
       "Sevilla      500000.0\n",
       "Cordoba      300000.0\n",
       "Madrid      6000000.0\n",
       "dtype: float64"
      ]
     },
     "execution_count": 24,
     "metadata": {},
     "output_type": "execute_result"
    }
   ],
   "source": [
    "sdata = {\n",
    "    'Zaragoza': 2.5e5,\n",
    "    'Sevilla': 5e5,\n",
    "    'Cordoba': 3e5,\n",
    "    'Madrid': 6e6\n",
    "}\n",
    "s3 = pd.Series(sdata)\n",
    "s3"
   ]
  },
  {
   "cell_type": "code",
   "execution_count": 29,
   "metadata": {
    "executionInfo": {
     "elapsed": 613,
     "status": "ok",
     "timestamp": 1607765297483,
     "user": {
      "displayName": "Luis DEL POZO",
      "photoUrl": "",
      "userId": "08297678491184687059"
     },
     "user_tz": -60
    },
    "id": "Qe_pMMKLQFrW"
   },
   "outputs": [],
   "source": [
    "#Vamos a guardar la serie para no perderla (entorno efímero en COLAB)\n",
    "#Este tipo de ficheros cosas son importantes para no perder información trabajando en la nube\n",
    "#s3.to_pickle(os.path.join(files_loc,'s3.pkl'))"
   ]
  },
  {
   "cell_type": "code",
   "execution_count": 30,
   "metadata": {
    "colab": {
     "base_uri": "https://localhost:8080/"
    },
    "executionInfo": {
     "elapsed": 595,
     "status": "ok",
     "timestamp": 1607765337281,
     "user": {
      "displayName": "Luis DEL POZO",
      "photoUrl": "",
      "userId": "08297678491184687059"
     },
     "user_tz": -60
    },
    "id": "6cpe6KsVQF95",
    "outputId": "3221cc7d-c68f-43bd-c6ea-456090500c81"
   },
   "outputs": [],
   "source": [
    "#!ls {files_loc}/s3.pkl"
   ]
  },
  {
   "cell_type": "code",
   "execution_count": 31,
   "metadata": {
    "executionInfo": {
     "elapsed": 493,
     "status": "ok",
     "timestamp": 1607765544976,
     "user": {
      "displayName": "Luis DEL POZO",
      "photoUrl": "",
      "userId": "08297678491184687059"
     },
     "user_tz": -60
    },
    "id": "7fYbNmWkSCH-"
   },
   "outputs": [],
   "source": [
    "#save_to_drive = True #@param {type:'boolean}\n",
    "#Esto es util para guardar cosas en Drive y no perder info"
   ]
  },
  {
   "cell_type": "code",
   "execution_count": 32,
   "metadata": {
    "executionInfo": {
     "elapsed": 654,
     "status": "ok",
     "timestamp": 1607765570889,
     "user": {
      "displayName": "Luis DEL POZO",
      "photoUrl": "",
      "userId": "08297678491184687059"
     },
     "user_tz": -60
    },
    "id": "FPxQuuUVS0uu"
   },
   "outputs": [],
   "source": [
    "s3 = pd.Series(sdata).sort_index()"
   ]
  },
  {
   "cell_type": "code",
   "execution_count": 33,
   "metadata": {
    "colab": {
     "base_uri": "https://localhost:8080/"
    },
    "executionInfo": {
     "elapsed": 539,
     "status": "ok",
     "timestamp": 1607765576091,
     "user": {
      "displayName": "Luis DEL POZO",
      "photoUrl": "",
      "userId": "08297678491184687059"
     },
     "user_tz": -60
    },
    "id": "dqXIxMI7S7Je",
    "outputId": "7d5b2112-4a60-4511-daab-ed5e2c4ce566"
   },
   "outputs": [
    {
     "data": {
      "text/plain": [
       "Cordoba      300000.0\n",
       "Madrid      6000000.0\n",
       "Sevilla      500000.0\n",
       "Zaragoza     250000.0\n",
       "dtype: float64"
      ]
     },
     "execution_count": 33,
     "metadata": {},
     "output_type": "execute_result"
    }
   ],
   "source": [
    "s3"
   ]
  },
  {
   "cell_type": "code",
   "execution_count": 37,
   "metadata": {
    "executionInfo": {
     "elapsed": 547,
     "status": "ok",
     "timestamp": 1607765626650,
     "user": {
      "displayName": "Luis DEL POZO",
      "photoUrl": "",
      "userId": "08297678491184687059"
     },
     "user_tz": -60
    },
    "id": "bjmqv-0vS8c3"
   },
   "outputs": [],
   "source": [
    "#Otra manera de hacer lo de arriba\n",
    "cities = ['Cordoba', 'Madrid', 'Valencia','Zaragoza']"
   ]
  },
  {
   "cell_type": "code",
   "execution_count": 38,
   "metadata": {
    "executionInfo": {
     "elapsed": 667,
     "status": "ok",
     "timestamp": 1607765664804,
     "user": {
      "displayName": "Luis DEL POZO",
      "photoUrl": "",
      "userId": "08297678491184687059"
     },
     "user_tz": -60
    },
    "id": "PYwWjUlMTIyb"
   },
   "outputs": [],
   "source": [
    "s4 = pd.Series(sdata,index = cities)"
   ]
  },
  {
   "cell_type": "code",
   "execution_count": 39,
   "metadata": {
    "colab": {
     "base_uri": "https://localhost:8080/"
    },
    "executionInfo": {
     "elapsed": 664,
     "status": "ok",
     "timestamp": 1607765670207,
     "user": {
      "displayName": "Luis DEL POZO",
      "photoUrl": "",
      "userId": "08297678491184687059"
     },
     "user_tz": -60
    },
    "id": "rRvk7rCyTSEr",
    "outputId": "d9600419-5f73-4830-e2de-05a7ab87ddea"
   },
   "outputs": [
    {
     "data": {
      "text/plain": [
       "Cordoba      300000.0\n",
       "Madrid      6000000.0\n",
       "Valencia          NaN\n",
       "Zaragoza     250000.0\n",
       "dtype: float64"
      ]
     },
     "execution_count": 39,
     "metadata": {},
     "output_type": "execute_result"
    }
   ],
   "source": [
    "s4"
   ]
  },
  {
   "cell_type": "code",
   "execution_count": 42,
   "metadata": {
    "executionInfo": {
     "elapsed": 1373,
     "status": "ok",
     "timestamp": 1607765793286,
     "user": {
      "displayName": "Luis DEL POZO",
      "photoUrl": "",
      "userId": "08297678491184687059"
     },
     "user_tz": -60
    },
    "id": "1TaantCKTTW-"
   },
   "outputs": [],
   "source": [
    "#Si pasamos una lista de índices que no cuadra con la Serie original, se crea la entrada con NaN\n",
    "s5 = pd.Series(s3,index = cities)"
   ]
  },
  {
   "cell_type": "code",
   "execution_count": 43,
   "metadata": {
    "colab": {
     "base_uri": "https://localhost:8080/"
    },
    "executionInfo": {
     "elapsed": 2404,
     "status": "ok",
     "timestamp": 1607765800902,
     "user": {
      "displayName": "Luis DEL POZO",
      "photoUrl": "",
      "userId": "08297678491184687059"
     },
     "user_tz": -60
    },
    "id": "0PPiNetzTwy5",
    "outputId": "31085b3c-88df-4633-e9c2-7323cbd0ad67"
   },
   "outputs": [
    {
     "data": {
      "text/plain": [
       "Cordoba      300000.0\n",
       "Madrid      6000000.0\n",
       "Valencia          NaN\n",
       "Zaragoza     250000.0\n",
       "dtype: float64"
      ]
     },
     "execution_count": 43,
     "metadata": {},
     "output_type": "execute_result"
    }
   ],
   "source": [
    "s5"
   ]
  },
  {
   "cell_type": "code",
   "execution_count": 44,
   "metadata": {
    "colab": {
     "base_uri": "https://localhost:8080/"
    },
    "executionInfo": {
     "elapsed": 2266,
     "status": "ok",
     "timestamp": 1607765819166,
     "user": {
      "displayName": "Luis DEL POZO",
      "photoUrl": "",
      "userId": "08297678491184687059"
     },
     "user_tz": -60
    },
    "id": "dSGknyR7TykX",
    "outputId": "6a510cd3-5007-497d-bfaa-76b6394c4c4f"
   },
   "outputs": [
    {
     "data": {
      "text/plain": [
       "Cordoba     False\n",
       "Madrid      False\n",
       "Valencia     True\n",
       "Zaragoza    False\n",
       "dtype: bool"
      ]
     },
     "execution_count": 44,
     "metadata": {},
     "output_type": "execute_result"
    }
   ],
   "source": [
    "#Indica si hay NaN en los datos\n",
    "pd.isnull(s4)"
   ]
  },
  {
   "cell_type": "code",
   "execution_count": 45,
   "metadata": {
    "colab": {
     "base_uri": "https://localhost:8080/"
    },
    "executionInfo": {
     "elapsed": 676,
     "status": "ok",
     "timestamp": 1607765831180,
     "user": {
      "displayName": "Luis DEL POZO",
      "photoUrl": "",
      "userId": "08297678491184687059"
     },
     "user_tz": -60
    },
    "id": "wsNSM1jWT3It",
    "outputId": "4e0eff98-95ea-435f-d07f-5d9bd953cacc"
   },
   "outputs": [
    {
     "data": {
      "text/plain": [
       "Cordoba      300000.0\n",
       "Madrid      6000000.0\n",
       "Sevilla      500000.0\n",
       "Zaragoza     250000.0\n",
       "dtype: float64"
      ]
     },
     "execution_count": 45,
     "metadata": {},
     "output_type": "execute_result"
    }
   ],
   "source": [
    "s3"
   ]
  },
  {
   "cell_type": "code",
   "execution_count": 46,
   "metadata": {
    "colab": {
     "base_uri": "https://localhost:8080/"
    },
    "executionInfo": {
     "elapsed": 540,
     "status": "ok",
     "timestamp": 1607765833701,
     "user": {
      "displayName": "Luis DEL POZO",
      "photoUrl": "",
      "userId": "08297678491184687059"
     },
     "user_tz": -60
    },
    "id": "KNsCO_gjT6ga",
    "outputId": "56ed7680-7a13-42c5-c33f-2b2a468fd44a"
   },
   "outputs": [
    {
     "data": {
      "text/plain": [
       "Cordoba      300000.0\n",
       "Madrid      6000000.0\n",
       "Valencia          NaN\n",
       "Zaragoza     250000.0\n",
       "dtype: float64"
      ]
     },
     "execution_count": 46,
     "metadata": {},
     "output_type": "execute_result"
    }
   ],
   "source": [
    "s4"
   ]
  },
  {
   "cell_type": "code",
   "execution_count": 48,
   "metadata": {
    "colab": {
     "base_uri": "https://localhost:8080/"
    },
    "executionInfo": {
     "elapsed": 517,
     "status": "ok",
     "timestamp": 1607765849194,
     "user": {
      "displayName": "Luis DEL POZO",
      "photoUrl": "",
      "userId": "08297678491184687059"
     },
     "user_tz": -60
    },
    "id": "hze3E4oYT7Vb",
    "outputId": "e615b915-cf5f-4410-effd-8b7e86937b79"
   },
   "outputs": [
    {
     "data": {
      "text/plain": [
       "Cordoba       600000.0\n",
       "Madrid      12000000.0\n",
       "Sevilla            NaN\n",
       "Valencia           NaN\n",
       "Zaragoza      500000.0\n",
       "dtype: float64"
      ]
     },
     "execution_count": 48,
     "metadata": {},
     "output_type": "execute_result"
    }
   ],
   "source": [
    "#Al sumar dos Series cuyos índices no cuadran y que tienen NaN, solo suma las filas cuyos índices cuadren\n",
    "s3 + s4"
   ]
  },
  {
   "cell_type": "code",
   "execution_count": 51,
   "metadata": {
    "executionInfo": {
     "elapsed": 1004,
     "status": "ok",
     "timestamp": 1607766069427,
     "user": {
      "displayName": "Luis DEL POZO",
      "photoUrl": "",
      "userId": "08297678491184687059"
     },
     "user_tz": -60
    },
    "id": "vxeXMjGAT_Hx"
   },
   "outputs": [],
   "source": [
    "#Se puede incluir un nombre a una Serie\n",
    "s4.name = 'Population'"
   ]
  },
  {
   "cell_type": "code",
   "execution_count": 52,
   "metadata": {
    "colab": {
     "base_uri": "https://localhost:8080/"
    },
    "executionInfo": {
     "elapsed": 1150,
     "status": "ok",
     "timestamp": 1607766074956,
     "user": {
      "displayName": "Luis DEL POZO",
      "photoUrl": "",
      "userId": "08297678491184687059"
     },
     "user_tz": -60
    },
    "id": "k4NK2MdLU0xL",
    "outputId": "2b703c36-a81f-41fc-8a89-cfca2ee0b63f"
   },
   "outputs": [
    {
     "data": {
      "text/plain": [
       "Cordoba      300000.0\n",
       "Madrid      6000000.0\n",
       "Valencia          NaN\n",
       "Zaragoza     250000.0\n",
       "Name: Population, dtype: float64"
      ]
     },
     "execution_count": 52,
     "metadata": {},
     "output_type": "execute_result"
    }
   ],
   "source": [
    "s4"
   ]
  },
  {
   "cell_type": "code",
   "execution_count": 53,
   "metadata": {
    "executionInfo": {
     "elapsed": 1297,
     "status": "ok",
     "timestamp": 1607766120168,
     "user": {
      "displayName": "Luis DEL POZO",
      "photoUrl": "",
      "userId": "08297678491184687059"
     },
     "user_tz": -60
    },
    "id": "zjE1lKuIU2DO"
   },
   "outputs": [],
   "source": [
    "#También se puede incluir un nombre al índice\n",
    "s4.index.name = 'Province'"
   ]
  },
  {
   "cell_type": "code",
   "execution_count": 54,
   "metadata": {
    "colab": {
     "base_uri": "https://localhost:8080/"
    },
    "executionInfo": {
     "elapsed": 1214,
     "status": "ok",
     "timestamp": 1607766124679,
     "user": {
      "displayName": "Luis DEL POZO",
      "photoUrl": "",
      "userId": "08297678491184687059"
     },
     "user_tz": -60
    },
    "id": "qoJdvKcHVBFo",
    "outputId": "26fb51e1-1039-443d-921f-10efd9cd478d"
   },
   "outputs": [
    {
     "data": {
      "text/plain": [
       "Province\n",
       "Cordoba      300000.0\n",
       "Madrid      6000000.0\n",
       "Valencia          NaN\n",
       "Zaragoza     250000.0\n",
       "Name: Population, dtype: float64"
      ]
     },
     "execution_count": 54,
     "metadata": {},
     "output_type": "execute_result"
    }
   ],
   "source": [
    "s4"
   ]
  },
  {
   "cell_type": "code",
   "execution_count": 55,
   "metadata": {
    "colab": {
     "base_uri": "https://localhost:8080/"
    },
    "executionInfo": {
     "elapsed": 623,
     "status": "ok",
     "timestamp": 1607766153642,
     "user": {
      "displayName": "Luis DEL POZO",
      "photoUrl": "",
      "userId": "08297678491184687059"
     },
     "user_tz": -60
    },
    "id": "OAUWG975VB7U",
    "outputId": "1906a552-935f-430b-a51d-afb5d646d81c"
   },
   "outputs": [
    {
     "data": {
      "text/plain": [
       "300000.0"
      ]
     },
     "execution_count": 55,
     "metadata": {},
     "output_type": "execute_result"
    }
   ],
   "source": [
    "s4[0]"
   ]
  },
  {
   "cell_type": "markdown",
   "metadata": {
    "id": "96ax2uvaVfpV"
   },
   "source": [
    "## Dataframe"
   ]
  },
  {
   "cell_type": "code",
   "execution_count": 91,
   "metadata": {
    "executionInfo": {
     "elapsed": 628,
     "status": "ok",
     "timestamp": 1607766682395,
     "user": {
      "displayName": "Luis DEL POZO",
      "photoUrl": "",
      "userId": "08297678491184687059"
     },
     "user_tz": -60
    },
    "id": "swq3qHsYVijd"
   },
   "outputs": [],
   "source": [
    "dfdata = {\n",
    "    'province':['M','M','M','B','B'],\n",
    "    'population':[1.5e6,2e6,3e6,5e6,1.5e6],\n",
    "    'year':[1900,1950,2000,1900,2000]\n",
    "}"
   ]
  },
  {
   "cell_type": "code",
   "execution_count": 92,
   "metadata": {
    "executionInfo": {
     "elapsed": 602,
     "status": "ok",
     "timestamp": 1607766704300,
     "user": {
      "displayName": "Luis DEL POZO",
      "photoUrl": "",
      "userId": "08297678491184687059"
     },
     "user_tz": -60
    },
    "id": "9nJevQ7GVkCf"
   },
   "outputs": [],
   "source": [
    "df = pd.DataFrame(dfdata)"
   ]
  },
  {
   "cell_type": "code",
   "execution_count": 93,
   "metadata": {
    "colab": {
     "base_uri": "https://localhost:8080/",
     "height": 206
    },
    "executionInfo": {
     "elapsed": 662,
     "status": "ok",
     "timestamp": 1607766710251,
     "user": {
      "displayName": "Luis DEL POZO",
      "photoUrl": "",
      "userId": "08297678491184687059"
     },
     "user_tz": -60
    },
    "id": "lmBbFoV7XP3X",
    "outputId": "e8bf7a89-497b-4357-d2fa-9682825586da"
   },
   "outputs": [
    {
     "data": {
      "text/html": [
       "<div>\n",
       "<style scoped>\n",
       "    .dataframe tbody tr th:only-of-type {\n",
       "        vertical-align: middle;\n",
       "    }\n",
       "\n",
       "    .dataframe tbody tr th {\n",
       "        vertical-align: top;\n",
       "    }\n",
       "\n",
       "    .dataframe thead th {\n",
       "        text-align: right;\n",
       "    }\n",
       "</style>\n",
       "<table border=\"1\" class=\"dataframe\">\n",
       "  <thead>\n",
       "    <tr style=\"text-align: right;\">\n",
       "      <th></th>\n",
       "      <th>province</th>\n",
       "      <th>population</th>\n",
       "      <th>year</th>\n",
       "    </tr>\n",
       "  </thead>\n",
       "  <tbody>\n",
       "    <tr>\n",
       "      <th>0</th>\n",
       "      <td>M</td>\n",
       "      <td>1500000.0</td>\n",
       "      <td>1900</td>\n",
       "    </tr>\n",
       "    <tr>\n",
       "      <th>1</th>\n",
       "      <td>M</td>\n",
       "      <td>2000000.0</td>\n",
       "      <td>1950</td>\n",
       "    </tr>\n",
       "    <tr>\n",
       "      <th>2</th>\n",
       "      <td>M</td>\n",
       "      <td>3000000.0</td>\n",
       "      <td>2000</td>\n",
       "    </tr>\n",
       "    <tr>\n",
       "      <th>3</th>\n",
       "      <td>B</td>\n",
       "      <td>5000000.0</td>\n",
       "      <td>1900</td>\n",
       "    </tr>\n",
       "    <tr>\n",
       "      <th>4</th>\n",
       "      <td>B</td>\n",
       "      <td>1500000.0</td>\n",
       "      <td>2000</td>\n",
       "    </tr>\n",
       "  </tbody>\n",
       "</table>\n",
       "</div>"
      ],
      "text/plain": [
       "  province  population  year\n",
       "0        M   1500000.0  1900\n",
       "1        M   2000000.0  1950\n",
       "2        M   3000000.0  2000\n",
       "3        B   5000000.0  1900\n",
       "4        B   1500000.0  2000"
      ]
     },
     "execution_count": 93,
     "metadata": {},
     "output_type": "execute_result"
    }
   ],
   "source": [
    "df"
   ]
  },
  {
   "cell_type": "code",
   "execution_count": 94,
   "metadata": {
    "executionInfo": {
     "elapsed": 751,
     "status": "ok",
     "timestamp": 1607766837962,
     "user": {
      "displayName": "Luis DEL POZO",
      "photoUrl": "",
      "userId": "08297678491184687059"
     },
     "user_tz": -60
    },
    "id": "yTor2uovXRSJ"
   },
   "outputs": [],
   "source": [
    "#Modificamos el DF añadiendo la columna \"debt\"\n",
    "df2 = pd.DataFrame(dfdata, columns = ['province','population','year','debt'])"
   ]
  },
  {
   "cell_type": "code",
   "execution_count": 95,
   "metadata": {
    "colab": {
     "base_uri": "https://localhost:8080/",
     "height": 206
    },
    "executionInfo": {
     "elapsed": 407,
     "status": "ok",
     "timestamp": 1607766838244,
     "user": {
      "displayName": "Luis DEL POZO",
      "photoUrl": "",
      "userId": "08297678491184687059"
     },
     "user_tz": -60
    },
    "id": "EmcqN3AqXpar",
    "outputId": "10c7d9cf-2033-4c2b-cdb1-7f17a25077a1"
   },
   "outputs": [
    {
     "data": {
      "text/html": [
       "<div>\n",
       "<style scoped>\n",
       "    .dataframe tbody tr th:only-of-type {\n",
       "        vertical-align: middle;\n",
       "    }\n",
       "\n",
       "    .dataframe tbody tr th {\n",
       "        vertical-align: top;\n",
       "    }\n",
       "\n",
       "    .dataframe thead th {\n",
       "        text-align: right;\n",
       "    }\n",
       "</style>\n",
       "<table border=\"1\" class=\"dataframe\">\n",
       "  <thead>\n",
       "    <tr style=\"text-align: right;\">\n",
       "      <th></th>\n",
       "      <th>province</th>\n",
       "      <th>population</th>\n",
       "      <th>year</th>\n",
       "      <th>debt</th>\n",
       "    </tr>\n",
       "  </thead>\n",
       "  <tbody>\n",
       "    <tr>\n",
       "      <th>0</th>\n",
       "      <td>M</td>\n",
       "      <td>1500000.0</td>\n",
       "      <td>1900</td>\n",
       "      <td>NaN</td>\n",
       "    </tr>\n",
       "    <tr>\n",
       "      <th>1</th>\n",
       "      <td>M</td>\n",
       "      <td>2000000.0</td>\n",
       "      <td>1950</td>\n",
       "      <td>NaN</td>\n",
       "    </tr>\n",
       "    <tr>\n",
       "      <th>2</th>\n",
       "      <td>M</td>\n",
       "      <td>3000000.0</td>\n",
       "      <td>2000</td>\n",
       "      <td>NaN</td>\n",
       "    </tr>\n",
       "    <tr>\n",
       "      <th>3</th>\n",
       "      <td>B</td>\n",
       "      <td>5000000.0</td>\n",
       "      <td>1900</td>\n",
       "      <td>NaN</td>\n",
       "    </tr>\n",
       "    <tr>\n",
       "      <th>4</th>\n",
       "      <td>B</td>\n",
       "      <td>1500000.0</td>\n",
       "      <td>2000</td>\n",
       "      <td>NaN</td>\n",
       "    </tr>\n",
       "  </tbody>\n",
       "</table>\n",
       "</div>"
      ],
      "text/plain": [
       "  province  population  year debt\n",
       "0        M   1500000.0  1900  NaN\n",
       "1        M   2000000.0  1950  NaN\n",
       "2        M   3000000.0  2000  NaN\n",
       "3        B   5000000.0  1900  NaN\n",
       "4        B   1500000.0  2000  NaN"
      ]
     },
     "execution_count": 95,
     "metadata": {},
     "output_type": "execute_result"
    }
   ],
   "source": [
    "df2"
   ]
  },
  {
   "cell_type": "code",
   "execution_count": 96,
   "metadata": {
    "colab": {
     "base_uri": "https://localhost:8080/"
    },
    "executionInfo": {
     "elapsed": 574,
     "status": "ok",
     "timestamp": 1607766856712,
     "user": {
      "displayName": "Luis DEL POZO",
      "photoUrl": "",
      "userId": "08297678491184687059"
     },
     "user_tz": -60
    },
    "id": "z22Z4W7wXqU6",
    "outputId": "c093ded1-070e-453a-eadc-79a3627049f9"
   },
   "outputs": [
    {
     "data": {
      "text/plain": [
       "RangeIndex(start=0, stop=5, step=1)"
      ]
     },
     "execution_count": 96,
     "metadata": {},
     "output_type": "execute_result"
    }
   ],
   "source": [
    "df2.index"
   ]
  },
  {
   "cell_type": "code",
   "execution_count": 97,
   "metadata": {
    "colab": {
     "base_uri": "https://localhost:8080/"
    },
    "executionInfo": {
     "elapsed": 512,
     "status": "ok",
     "timestamp": 1607766924070,
     "user": {
      "displayName": "Luis DEL POZO",
      "photoUrl": "",
      "userId": "08297678491184687059"
     },
     "user_tz": -60
    },
    "id": "7zA0rxfAX1Ew",
    "outputId": "d2eaee8d-0ad1-491c-b7a9-d5238432cc34"
   },
   "outputs": [
    {
     "data": {
      "text/plain": [
       "Index(['province', 'population', 'year', 'debt'], dtype='object')"
      ]
     },
     "execution_count": 97,
     "metadata": {},
     "output_type": "execute_result"
    }
   ],
   "source": [
    "df2.columns"
   ]
  },
  {
   "cell_type": "code",
   "execution_count": 98,
   "metadata": {
    "colab": {
     "base_uri": "https://localhost:8080/"
    },
    "executionInfo": {
     "elapsed": 565,
     "status": "ok",
     "timestamp": 1607766996934,
     "user": {
      "displayName": "Luis DEL POZO",
      "photoUrl": "",
      "userId": "08297678491184687059"
     },
     "user_tz": -60
    },
    "id": "j2blIfXOYFiR",
    "outputId": "90c0cdb7-8c9d-4b18-b4b9-d1f40cb08080"
   },
   "outputs": [
    {
     "data": {
      "text/plain": [
       "pandas.core.indexes.base.Index"
      ]
     },
     "execution_count": 98,
     "metadata": {},
     "output_type": "execute_result"
    }
   ],
   "source": [
    "type(df2.columns)"
   ]
  },
  {
   "cell_type": "code",
   "execution_count": 99,
   "metadata": {
    "colab": {
     "base_uri": "https://localhost:8080/"
    },
    "executionInfo": {
     "elapsed": 527,
     "status": "ok",
     "timestamp": 1607767020126,
     "user": {
      "displayName": "Luis DEL POZO",
      "photoUrl": "",
      "userId": "08297678491184687059"
     },
     "user_tz": -60
    },
    "id": "MPtolqG5YXTz",
    "outputId": "85e8b611-bffe-4e3a-8ec1-87bbfff02d26"
   },
   "outputs": [
    {
     "data": {
      "text/plain": [
       "0    1500000.0\n",
       "1    2000000.0\n",
       "2    3000000.0\n",
       "3    5000000.0\n",
       "4    1500000.0\n",
       "Name: population, dtype: float64"
      ]
     },
     "execution_count": 99,
     "metadata": {},
     "output_type": "execute_result"
    }
   ],
   "source": [
    "df['population']"
   ]
  },
  {
   "cell_type": "code",
   "execution_count": 100,
   "metadata": {
    "colab": {
     "base_uri": "https://localhost:8080/"
    },
    "executionInfo": {
     "elapsed": 583,
     "status": "ok",
     "timestamp": 1607767056117,
     "user": {
      "displayName": "Luis DEL POZO",
      "photoUrl": "",
      "userId": "08297678491184687059"
     },
     "user_tz": -60
    },
    "id": "sex02B-6Yc_S",
    "outputId": "ecc3b910-5cda-46b4-b4c2-030c41e8b591"
   },
   "outputs": [
    {
     "data": {
      "text/plain": [
       "0    1500000.0\n",
       "1    2000000.0\n",
       "2    3000000.0\n",
       "3    5000000.0\n",
       "4    1500000.0\n",
       "Name: population, dtype: float64"
      ]
     },
     "execution_count": 100,
     "metadata": {},
     "output_type": "execute_result"
    }
   ],
   "source": [
    "df.population"
   ]
  },
  {
   "cell_type": "code",
   "execution_count": 101,
   "metadata": {
    "executionInfo": {
     "elapsed": 589,
     "status": "ok",
     "timestamp": 1607767095698,
     "user": {
      "displayName": "Luis DEL POZO",
      "photoUrl": "",
      "userId": "08297678491184687059"
     },
     "user_tz": -60
    },
    "id": "UMCpteRpYlwB"
   },
   "outputs": [],
   "source": [
    "#Manera de añadir columnas a un DF\n",
    "df2['2nd_language'] = np.nan"
   ]
  },
  {
   "cell_type": "code",
   "execution_count": 102,
   "metadata": {
    "colab": {
     "base_uri": "https://localhost:8080/",
     "height": 206
    },
    "executionInfo": {
     "elapsed": 803,
     "status": "ok",
     "timestamp": 1607767102729,
     "user": {
      "displayName": "Luis DEL POZO",
      "photoUrl": "",
      "userId": "08297678491184687059"
     },
     "user_tz": -60
    },
    "id": "MhUwfiRtYvbD",
    "outputId": "7de016eb-5b94-4bb4-b1da-5f52d6fa299b"
   },
   "outputs": [
    {
     "data": {
      "text/html": [
       "<div>\n",
       "<style scoped>\n",
       "    .dataframe tbody tr th:only-of-type {\n",
       "        vertical-align: middle;\n",
       "    }\n",
       "\n",
       "    .dataframe tbody tr th {\n",
       "        vertical-align: top;\n",
       "    }\n",
       "\n",
       "    .dataframe thead th {\n",
       "        text-align: right;\n",
       "    }\n",
       "</style>\n",
       "<table border=\"1\" class=\"dataframe\">\n",
       "  <thead>\n",
       "    <tr style=\"text-align: right;\">\n",
       "      <th></th>\n",
       "      <th>province</th>\n",
       "      <th>population</th>\n",
       "      <th>year</th>\n",
       "      <th>debt</th>\n",
       "      <th>2nd_language</th>\n",
       "    </tr>\n",
       "  </thead>\n",
       "  <tbody>\n",
       "    <tr>\n",
       "      <th>0</th>\n",
       "      <td>M</td>\n",
       "      <td>1500000.0</td>\n",
       "      <td>1900</td>\n",
       "      <td>NaN</td>\n",
       "      <td>NaN</td>\n",
       "    </tr>\n",
       "    <tr>\n",
       "      <th>1</th>\n",
       "      <td>M</td>\n",
       "      <td>2000000.0</td>\n",
       "      <td>1950</td>\n",
       "      <td>NaN</td>\n",
       "      <td>NaN</td>\n",
       "    </tr>\n",
       "    <tr>\n",
       "      <th>2</th>\n",
       "      <td>M</td>\n",
       "      <td>3000000.0</td>\n",
       "      <td>2000</td>\n",
       "      <td>NaN</td>\n",
       "      <td>NaN</td>\n",
       "    </tr>\n",
       "    <tr>\n",
       "      <th>3</th>\n",
       "      <td>B</td>\n",
       "      <td>5000000.0</td>\n",
       "      <td>1900</td>\n",
       "      <td>NaN</td>\n",
       "      <td>NaN</td>\n",
       "    </tr>\n",
       "    <tr>\n",
       "      <th>4</th>\n",
       "      <td>B</td>\n",
       "      <td>1500000.0</td>\n",
       "      <td>2000</td>\n",
       "      <td>NaN</td>\n",
       "      <td>NaN</td>\n",
       "    </tr>\n",
       "  </tbody>\n",
       "</table>\n",
       "</div>"
      ],
      "text/plain": [
       "  province  population  year debt  2nd_language\n",
       "0        M   1500000.0  1900  NaN           NaN\n",
       "1        M   2000000.0  1950  NaN           NaN\n",
       "2        M   3000000.0  2000  NaN           NaN\n",
       "3        B   5000000.0  1900  NaN           NaN\n",
       "4        B   1500000.0  2000  NaN           NaN"
      ]
     },
     "execution_count": 102,
     "metadata": {},
     "output_type": "execute_result"
    }
   ],
   "source": [
    "df2"
   ]
  },
  {
   "cell_type": "code",
   "execution_count": 103,
   "metadata": {
    "colab": {
     "base_uri": "https://localhost:8080/"
    },
    "executionInfo": {
     "elapsed": 700,
     "status": "ok",
     "timestamp": 1607767121583,
     "user": {
      "displayName": "Luis DEL POZO",
      "photoUrl": "",
      "userId": "08297678491184687059"
     },
     "user_tz": -60
    },
    "id": "c_umc4DtYxE6",
    "outputId": "7c33d2de-15f6-44cb-e91f-21cdf1a0e4a0"
   },
   "outputs": [
    {
     "data": {
      "text/plain": [
       "0   NaN\n",
       "1   NaN\n",
       "2   NaN\n",
       "3   NaN\n",
       "4   NaN\n",
       "Name: 2nd_language, dtype: float64"
      ]
     },
     "execution_count": 103,
     "metadata": {},
     "output_type": "execute_result"
    }
   ],
   "source": [
    "df2['2nd_language']"
   ]
  },
  {
   "cell_type": "code",
   "execution_count": 104,
   "metadata": {
    "colab": {
     "base_uri": "https://localhost:8080/",
     "height": 132
    },
    "executionInfo": {
     "elapsed": 597,
     "status": "error",
     "timestamp": 1607767216476,
     "user": {
      "displayName": "Luis DEL POZO",
      "photoUrl": "",
      "userId": "08297678491184687059"
     },
     "user_tz": -60
    },
    "id": "e-cfL26wY1to",
    "outputId": "6f7aeec0-52b7-493b-9c48-2fd982961959"
   },
   "outputs": [
    {
     "ename": "SyntaxError",
     "evalue": "invalid syntax (<ipython-input-104-79e4d7436ee5>, line 3)",
     "output_type": "error",
     "traceback": [
      "\u001b[0;36m  File \u001b[0;32m\"<ipython-input-104-79e4d7436ee5>\"\u001b[0;36m, line \u001b[0;32m3\u001b[0m\n\u001b[0;31m    df2.2nd_language\u001b[0m\n\u001b[0m        ^\u001b[0m\n\u001b[0;31mSyntaxError\u001b[0m\u001b[0;31m:\u001b[0m invalid syntax\n"
     ]
    }
   ],
   "source": [
    "#No se puede empezar con un número un método después de un punto. \n",
    "#Por eso también existe la manera de invocar con []\n",
    "df2.2nd_language"
   ]
  },
  {
   "cell_type": "code",
   "execution_count": 105,
   "metadata": {
    "executionInfo": {
     "elapsed": 553,
     "status": "ok",
     "timestamp": 1607767347816,
     "user": {
      "displayName": "Luis DEL POZO",
      "photoUrl": "",
      "userId": "08297678491184687059"
     },
     "user_tz": -60
    },
    "id": "2G1MKiCWZM53"
   },
   "outputs": [],
   "source": [
    "df2.index = list('abcde')"
   ]
  },
  {
   "cell_type": "code",
   "execution_count": 106,
   "metadata": {
    "colab": {
     "base_uri": "https://localhost:8080/",
     "height": 206
    },
    "executionInfo": {
     "elapsed": 597,
     "status": "ok",
     "timestamp": 1607767351160,
     "user": {
      "displayName": "Luis DEL POZO",
      "photoUrl": "",
      "userId": "08297678491184687059"
     },
     "user_tz": -60
    },
    "id": "HAZjUO17Zs_B",
    "outputId": "b6a185f5-652f-4001-f286-7377beddac66"
   },
   "outputs": [
    {
     "data": {
      "text/html": [
       "<div>\n",
       "<style scoped>\n",
       "    .dataframe tbody tr th:only-of-type {\n",
       "        vertical-align: middle;\n",
       "    }\n",
       "\n",
       "    .dataframe tbody tr th {\n",
       "        vertical-align: top;\n",
       "    }\n",
       "\n",
       "    .dataframe thead th {\n",
       "        text-align: right;\n",
       "    }\n",
       "</style>\n",
       "<table border=\"1\" class=\"dataframe\">\n",
       "  <thead>\n",
       "    <tr style=\"text-align: right;\">\n",
       "      <th></th>\n",
       "      <th>province</th>\n",
       "      <th>population</th>\n",
       "      <th>year</th>\n",
       "      <th>debt</th>\n",
       "      <th>2nd_language</th>\n",
       "    </tr>\n",
       "  </thead>\n",
       "  <tbody>\n",
       "    <tr>\n",
       "      <th>a</th>\n",
       "      <td>M</td>\n",
       "      <td>1500000.0</td>\n",
       "      <td>1900</td>\n",
       "      <td>NaN</td>\n",
       "      <td>NaN</td>\n",
       "    </tr>\n",
       "    <tr>\n",
       "      <th>b</th>\n",
       "      <td>M</td>\n",
       "      <td>2000000.0</td>\n",
       "      <td>1950</td>\n",
       "      <td>NaN</td>\n",
       "      <td>NaN</td>\n",
       "    </tr>\n",
       "    <tr>\n",
       "      <th>c</th>\n",
       "      <td>M</td>\n",
       "      <td>3000000.0</td>\n",
       "      <td>2000</td>\n",
       "      <td>NaN</td>\n",
       "      <td>NaN</td>\n",
       "    </tr>\n",
       "    <tr>\n",
       "      <th>d</th>\n",
       "      <td>B</td>\n",
       "      <td>5000000.0</td>\n",
       "      <td>1900</td>\n",
       "      <td>NaN</td>\n",
       "      <td>NaN</td>\n",
       "    </tr>\n",
       "    <tr>\n",
       "      <th>e</th>\n",
       "      <td>B</td>\n",
       "      <td>1500000.0</td>\n",
       "      <td>2000</td>\n",
       "      <td>NaN</td>\n",
       "      <td>NaN</td>\n",
       "    </tr>\n",
       "  </tbody>\n",
       "</table>\n",
       "</div>"
      ],
      "text/plain": [
       "  province  population  year debt  2nd_language\n",
       "a        M   1500000.0  1900  NaN           NaN\n",
       "b        M   2000000.0  1950  NaN           NaN\n",
       "c        M   3000000.0  2000  NaN           NaN\n",
       "d        B   5000000.0  1900  NaN           NaN\n",
       "e        B   1500000.0  2000  NaN           NaN"
      ]
     },
     "execution_count": 106,
     "metadata": {},
     "output_type": "execute_result"
    }
   ],
   "source": [
    "df2"
   ]
  },
  {
   "cell_type": "code",
   "execution_count": 107,
   "metadata": {
    "colab": {
     "base_uri": "https://localhost:8080/"
    },
    "executionInfo": {
     "elapsed": 501,
     "status": "ok",
     "timestamp": 1607767363148,
     "user": {
      "displayName": "Luis DEL POZO",
      "photoUrl": "",
      "userId": "08297678491184687059"
     },
     "user_tz": -60
    },
    "id": "w1EJToh8Ztxf",
    "outputId": "e1993d33-9e7b-4d84-8e47-8b9dadedb628"
   },
   "outputs": [
    {
     "data": {
      "text/plain": [
       "Index(['a', 'b', 'c', 'd', 'e'], dtype='object')"
      ]
     },
     "execution_count": 107,
     "metadata": {},
     "output_type": "execute_result"
    }
   ],
   "source": [
    "df2.index"
   ]
  },
  {
   "cell_type": "code",
   "execution_count": 108,
   "metadata": {
    "colab": {
     "base_uri": "https://localhost:8080/"
    },
    "executionInfo": {
     "elapsed": 574,
     "status": "ok",
     "timestamp": 1607767391832,
     "user": {
      "displayName": "Luis DEL POZO",
      "photoUrl": "",
      "userId": "08297678491184687059"
     },
     "user_tz": -60
    },
    "id": "lFs9ulz0Zwui",
    "outputId": "7b486e8f-aeaa-48d6-adc3-c458041a3e9e"
   },
   "outputs": [
    {
     "data": {
      "text/plain": [
       "province            M\n",
       "population      3e+06\n",
       "year             2000\n",
       "debt              NaN\n",
       "2nd_language      NaN\n",
       "Name: c, dtype: object"
      ]
     },
     "execution_count": 108,
     "metadata": {},
     "output_type": "execute_result"
    }
   ],
   "source": [
    "df2.loc['c']"
   ]
  },
  {
   "cell_type": "code",
   "execution_count": 109,
   "metadata": {
    "colab": {
     "base_uri": "https://localhost:8080/",
     "height": 143
    },
    "executionInfo": {
     "elapsed": 707,
     "status": "ok",
     "timestamp": 1607767466991,
     "user": {
      "displayName": "Luis DEL POZO",
      "photoUrl": "",
      "userId": "08297678491184687059"
     },
     "user_tz": -60
    },
    "id": "PBHYU-LaZ3uU",
    "outputId": "89eee94f-e14e-4059-82c4-60694d24e849"
   },
   "outputs": [
    {
     "data": {
      "text/html": [
       "<div>\n",
       "<style scoped>\n",
       "    .dataframe tbody tr th:only-of-type {\n",
       "        vertical-align: middle;\n",
       "    }\n",
       "\n",
       "    .dataframe tbody tr th {\n",
       "        vertical-align: top;\n",
       "    }\n",
       "\n",
       "    .dataframe thead th {\n",
       "        text-align: right;\n",
       "    }\n",
       "</style>\n",
       "<table border=\"1\" class=\"dataframe\">\n",
       "  <thead>\n",
       "    <tr style=\"text-align: right;\">\n",
       "      <th></th>\n",
       "      <th>province</th>\n",
       "      <th>population</th>\n",
       "      <th>year</th>\n",
       "      <th>debt</th>\n",
       "      <th>2nd_language</th>\n",
       "    </tr>\n",
       "  </thead>\n",
       "  <tbody>\n",
       "    <tr>\n",
       "      <th>a</th>\n",
       "      <td>M</td>\n",
       "      <td>1500000.0</td>\n",
       "      <td>1900</td>\n",
       "      <td>NaN</td>\n",
       "      <td>NaN</td>\n",
       "    </tr>\n",
       "    <tr>\n",
       "      <th>b</th>\n",
       "      <td>M</td>\n",
       "      <td>2000000.0</td>\n",
       "      <td>1950</td>\n",
       "      <td>NaN</td>\n",
       "      <td>NaN</td>\n",
       "    </tr>\n",
       "    <tr>\n",
       "      <th>c</th>\n",
       "      <td>M</td>\n",
       "      <td>3000000.0</td>\n",
       "      <td>2000</td>\n",
       "      <td>NaN</td>\n",
       "      <td>NaN</td>\n",
       "    </tr>\n",
       "  </tbody>\n",
       "</table>\n",
       "</div>"
      ],
      "text/plain": [
       "  province  population  year debt  2nd_language\n",
       "a        M   1500000.0  1900  NaN           NaN\n",
       "b        M   2000000.0  1950  NaN           NaN\n",
       "c        M   3000000.0  2000  NaN           NaN"
      ]
     },
     "execution_count": 109,
     "metadata": {},
     "output_type": "execute_result"
    }
   ],
   "source": [
    "#Con .loc los extremos son incluyentes y ordenados \n",
    "df2.loc['a':'c']"
   ]
  },
  {
   "cell_type": "code",
   "execution_count": 110,
   "metadata": {
    "colab": {
     "base_uri": "https://localhost:8080/",
     "height": 49
    },
    "executionInfo": {
     "elapsed": 568,
     "status": "ok",
     "timestamp": 1607767507792,
     "user": {
      "displayName": "Luis DEL POZO",
      "photoUrl": "",
      "userId": "08297678491184687059"
     },
     "user_tz": -60
    },
    "id": "bMv_qvXDaJ9y",
    "outputId": "3764b2d1-8d6e-4aed-a0d8-be1a95f2a601"
   },
   "outputs": [
    {
     "data": {
      "text/html": [
       "<div>\n",
       "<style scoped>\n",
       "    .dataframe tbody tr th:only-of-type {\n",
       "        vertical-align: middle;\n",
       "    }\n",
       "\n",
       "    .dataframe tbody tr th {\n",
       "        vertical-align: top;\n",
       "    }\n",
       "\n",
       "    .dataframe thead th {\n",
       "        text-align: right;\n",
       "    }\n",
       "</style>\n",
       "<table border=\"1\" class=\"dataframe\">\n",
       "  <thead>\n",
       "    <tr style=\"text-align: right;\">\n",
       "      <th></th>\n",
       "      <th>province</th>\n",
       "      <th>population</th>\n",
       "      <th>year</th>\n",
       "      <th>debt</th>\n",
       "      <th>2nd_language</th>\n",
       "    </tr>\n",
       "  </thead>\n",
       "  <tbody>\n",
       "  </tbody>\n",
       "</table>\n",
       "</div>"
      ],
      "text/plain": [
       "Empty DataFrame\n",
       "Columns: [province, population, year, debt, 2nd_language]\n",
       "Index: []"
      ]
     },
     "execution_count": 110,
     "metadata": {},
     "output_type": "execute_result"
    }
   ],
   "source": [
    "df2.loc['c':'a']"
   ]
  },
  {
   "cell_type": "code",
   "execution_count": 111,
   "metadata": {
    "colab": {
     "base_uri": "https://localhost:8080/",
     "height": 112
    },
    "executionInfo": {
     "elapsed": 549,
     "status": "ok",
     "timestamp": 1607767577563,
     "user": {
      "displayName": "Luis DEL POZO",
      "photoUrl": "",
      "userId": "08297678491184687059"
     },
     "user_tz": -60
    },
    "id": "SKEev-AuaUB3",
    "outputId": "bcc7b007-4925-4284-f9f0-0544ddad7e50"
   },
   "outputs": [
    {
     "data": {
      "text/html": [
       "<div>\n",
       "<style scoped>\n",
       "    .dataframe tbody tr th:only-of-type {\n",
       "        vertical-align: middle;\n",
       "    }\n",
       "\n",
       "    .dataframe tbody tr th {\n",
       "        vertical-align: top;\n",
       "    }\n",
       "\n",
       "    .dataframe thead th {\n",
       "        text-align: right;\n",
       "    }\n",
       "</style>\n",
       "<table border=\"1\" class=\"dataframe\">\n",
       "  <thead>\n",
       "    <tr style=\"text-align: right;\">\n",
       "      <th></th>\n",
       "      <th>province</th>\n",
       "      <th>population</th>\n",
       "      <th>year</th>\n",
       "      <th>debt</th>\n",
       "      <th>2nd_language</th>\n",
       "    </tr>\n",
       "  </thead>\n",
       "  <tbody>\n",
       "    <tr>\n",
       "      <th>a</th>\n",
       "      <td>M</td>\n",
       "      <td>1500000.0</td>\n",
       "      <td>1900</td>\n",
       "      <td>NaN</td>\n",
       "      <td>NaN</td>\n",
       "    </tr>\n",
       "    <tr>\n",
       "      <th>b</th>\n",
       "      <td>M</td>\n",
       "      <td>2000000.0</td>\n",
       "      <td>1950</td>\n",
       "      <td>NaN</td>\n",
       "      <td>NaN</td>\n",
       "    </tr>\n",
       "  </tbody>\n",
       "</table>\n",
       "</div>"
      ],
      "text/plain": [
       "  province  population  year debt  2nd_language\n",
       "a        M   1500000.0  1900  NaN           NaN\n",
       "b        M   2000000.0  1950  NaN           NaN"
      ]
     },
     "execution_count": 111,
     "metadata": {},
     "output_type": "execute_result"
    }
   ],
   "source": [
    "df2.iloc[0:2]"
   ]
  },
  {
   "cell_type": "code",
   "execution_count": 112,
   "metadata": {
    "executionInfo": {
     "elapsed": 552,
     "status": "ok",
     "timestamp": 1607769596437,
     "user": {
      "displayName": "Luis DEL POZO",
      "photoUrl": "",
      "userId": "08297678491184687059"
     },
     "user_tz": -60
    },
    "id": "liDLpYv8alD0"
   },
   "outputs": [],
   "source": [
    "val = pd.Series([0.1,0.6,0.9], index=['b','d','e'])"
   ]
  },
  {
   "cell_type": "code",
   "execution_count": 113,
   "metadata": {
    "colab": {
     "base_uri": "https://localhost:8080/"
    },
    "executionInfo": {
     "elapsed": 577,
     "status": "ok",
     "timestamp": 1607769599093,
     "user": {
      "displayName": "Luis DEL POZO",
      "photoUrl": "",
      "userId": "08297678491184687059"
     },
     "user_tz": -60
    },
    "id": "8cT9RRa3iR-t",
    "outputId": "ec0427df-e520-417d-a7a8-9696ff611c0b"
   },
   "outputs": [
    {
     "data": {
      "text/plain": [
       "b    0.1\n",
       "d    0.6\n",
       "e    0.9\n",
       "dtype: float64"
      ]
     },
     "execution_count": 113,
     "metadata": {},
     "output_type": "execute_result"
    }
   ],
   "source": [
    "val"
   ]
  },
  {
   "cell_type": "code",
   "execution_count": 114,
   "metadata": {
    "colab": {
     "base_uri": "https://localhost:8080/",
     "height": 206
    },
    "executionInfo": {
     "elapsed": 549,
     "status": "ok",
     "timestamp": 1607769640139,
     "user": {
      "displayName": "Luis DEL POZO",
      "photoUrl": "",
      "userId": "08297678491184687059"
     },
     "user_tz": -60
    },
    "id": "ThbfNtfXiSnq",
    "outputId": "224bd742-830c-4750-b918-7cbe7b791baa"
   },
   "outputs": [
    {
     "data": {
      "text/html": [
       "<div>\n",
       "<style scoped>\n",
       "    .dataframe tbody tr th:only-of-type {\n",
       "        vertical-align: middle;\n",
       "    }\n",
       "\n",
       "    .dataframe tbody tr th {\n",
       "        vertical-align: top;\n",
       "    }\n",
       "\n",
       "    .dataframe thead th {\n",
       "        text-align: right;\n",
       "    }\n",
       "</style>\n",
       "<table border=\"1\" class=\"dataframe\">\n",
       "  <thead>\n",
       "    <tr style=\"text-align: right;\">\n",
       "      <th></th>\n",
       "      <th>province</th>\n",
       "      <th>population</th>\n",
       "      <th>year</th>\n",
       "      <th>debt</th>\n",
       "      <th>2nd_language</th>\n",
       "    </tr>\n",
       "  </thead>\n",
       "  <tbody>\n",
       "    <tr>\n",
       "      <th>a</th>\n",
       "      <td>M</td>\n",
       "      <td>1500000.0</td>\n",
       "      <td>1900</td>\n",
       "      <td>1.0</td>\n",
       "      <td>NaN</td>\n",
       "    </tr>\n",
       "    <tr>\n",
       "      <th>b</th>\n",
       "      <td>M</td>\n",
       "      <td>2000000.0</td>\n",
       "      <td>1950</td>\n",
       "      <td>0.0</td>\n",
       "      <td>NaN</td>\n",
       "    </tr>\n",
       "    <tr>\n",
       "      <th>c</th>\n",
       "      <td>M</td>\n",
       "      <td>3000000.0</td>\n",
       "      <td>2000</td>\n",
       "      <td>2.0</td>\n",
       "      <td>NaN</td>\n",
       "    </tr>\n",
       "    <tr>\n",
       "      <th>d</th>\n",
       "      <td>B</td>\n",
       "      <td>5000000.0</td>\n",
       "      <td>1900</td>\n",
       "      <td>0.5</td>\n",
       "      <td>NaN</td>\n",
       "    </tr>\n",
       "    <tr>\n",
       "      <th>e</th>\n",
       "      <td>B</td>\n",
       "      <td>1500000.0</td>\n",
       "      <td>2000</td>\n",
       "      <td>0.7</td>\n",
       "      <td>NaN</td>\n",
       "    </tr>\n",
       "  </tbody>\n",
       "</table>\n",
       "</div>"
      ],
      "text/plain": [
       "  province  population  year  debt  2nd_language\n",
       "a        M   1500000.0  1900   1.0           NaN\n",
       "b        M   2000000.0  1950   0.0           NaN\n",
       "c        M   3000000.0  2000   2.0           NaN\n",
       "d        B   5000000.0  1900   0.5           NaN\n",
       "e        B   1500000.0  2000   0.7           NaN"
      ]
     },
     "execution_count": 114,
     "metadata": {},
     "output_type": "execute_result"
    }
   ],
   "source": [
    "df2['debt'] = [1,0,2,0.5,0.7]\n",
    "df2"
   ]
  },
  {
   "cell_type": "code",
   "execution_count": 115,
   "metadata": {
    "colab": {
     "base_uri": "https://localhost:8080/",
     "height": 206
    },
    "executionInfo": {
     "elapsed": 563,
     "status": "ok",
     "timestamp": 1607769693340,
     "user": {
      "displayName": "Luis DEL POZO",
      "photoUrl": "",
      "userId": "08297678491184687059"
     },
     "user_tz": -60
    },
    "id": "Q4iGswfNico1",
    "outputId": "91d1a8ea-ad98-4e17-ede1-dccd89993a7b"
   },
   "outputs": [
    {
     "data": {
      "text/html": [
       "<div>\n",
       "<style scoped>\n",
       "    .dataframe tbody tr th:only-of-type {\n",
       "        vertical-align: middle;\n",
       "    }\n",
       "\n",
       "    .dataframe tbody tr th {\n",
       "        vertical-align: top;\n",
       "    }\n",
       "\n",
       "    .dataframe thead th {\n",
       "        text-align: right;\n",
       "    }\n",
       "</style>\n",
       "<table border=\"1\" class=\"dataframe\">\n",
       "  <thead>\n",
       "    <tr style=\"text-align: right;\">\n",
       "      <th></th>\n",
       "      <th>province</th>\n",
       "      <th>population</th>\n",
       "      <th>year</th>\n",
       "      <th>debt</th>\n",
       "      <th>2nd_language</th>\n",
       "    </tr>\n",
       "  </thead>\n",
       "  <tbody>\n",
       "    <tr>\n",
       "      <th>a</th>\n",
       "      <td>M</td>\n",
       "      <td>1500000.0</td>\n",
       "      <td>1900</td>\n",
       "      <td>NaN</td>\n",
       "      <td>NaN</td>\n",
       "    </tr>\n",
       "    <tr>\n",
       "      <th>b</th>\n",
       "      <td>M</td>\n",
       "      <td>2000000.0</td>\n",
       "      <td>1950</td>\n",
       "      <td>0.1</td>\n",
       "      <td>NaN</td>\n",
       "    </tr>\n",
       "    <tr>\n",
       "      <th>c</th>\n",
       "      <td>M</td>\n",
       "      <td>3000000.0</td>\n",
       "      <td>2000</td>\n",
       "      <td>NaN</td>\n",
       "      <td>NaN</td>\n",
       "    </tr>\n",
       "    <tr>\n",
       "      <th>d</th>\n",
       "      <td>B</td>\n",
       "      <td>5000000.0</td>\n",
       "      <td>1900</td>\n",
       "      <td>0.6</td>\n",
       "      <td>NaN</td>\n",
       "    </tr>\n",
       "    <tr>\n",
       "      <th>e</th>\n",
       "      <td>B</td>\n",
       "      <td>1500000.0</td>\n",
       "      <td>2000</td>\n",
       "      <td>0.9</td>\n",
       "      <td>NaN</td>\n",
       "    </tr>\n",
       "  </tbody>\n",
       "</table>\n",
       "</div>"
      ],
      "text/plain": [
       "  province  population  year  debt  2nd_language\n",
       "a        M   1500000.0  1900   NaN           NaN\n",
       "b        M   2000000.0  1950   0.1           NaN\n",
       "c        M   3000000.0  2000   NaN           NaN\n",
       "d        B   5000000.0  1900   0.6           NaN\n",
       "e        B   1500000.0  2000   0.9           NaN"
      ]
     },
     "execution_count": 115,
     "metadata": {},
     "output_type": "execute_result"
    }
   ],
   "source": [
    "#Al no tener todos los registros en val, los que no existen se indican como NaN (no se dejan los que había)\n",
    "df2['debt'] = val\n",
    "df2"
   ]
  },
  {
   "cell_type": "code",
   "execution_count": 116,
   "metadata": {
    "executionInfo": {
     "elapsed": 526,
     "status": "ok",
     "timestamp": 1607769751810,
     "user": {
      "displayName": "Luis DEL POZO",
      "photoUrl": "",
      "userId": "08297678491184687059"
     },
     "user_tz": -60
    },
    "id": "tXU1u-qeipnJ"
   },
   "outputs": [],
   "source": [
    "df2['capital'] = df2['province']=='M'"
   ]
  },
  {
   "cell_type": "code",
   "execution_count": 117,
   "metadata": {
    "colab": {
     "base_uri": "https://localhost:8080/",
     "height": 206
    },
    "executionInfo": {
     "elapsed": 645,
     "status": "ok",
     "timestamp": 1607769754792,
     "user": {
      "displayName": "Luis DEL POZO",
      "photoUrl": "",
      "userId": "08297678491184687059"
     },
     "user_tz": -60
    },
    "id": "_pqu0W1vi34z",
    "outputId": "c123803e-23c6-410c-b115-60bb168f0af9"
   },
   "outputs": [
    {
     "data": {
      "text/html": [
       "<div>\n",
       "<style scoped>\n",
       "    .dataframe tbody tr th:only-of-type {\n",
       "        vertical-align: middle;\n",
       "    }\n",
       "\n",
       "    .dataframe tbody tr th {\n",
       "        vertical-align: top;\n",
       "    }\n",
       "\n",
       "    .dataframe thead th {\n",
       "        text-align: right;\n",
       "    }\n",
       "</style>\n",
       "<table border=\"1\" class=\"dataframe\">\n",
       "  <thead>\n",
       "    <tr style=\"text-align: right;\">\n",
       "      <th></th>\n",
       "      <th>province</th>\n",
       "      <th>population</th>\n",
       "      <th>year</th>\n",
       "      <th>debt</th>\n",
       "      <th>2nd_language</th>\n",
       "      <th>capital</th>\n",
       "    </tr>\n",
       "  </thead>\n",
       "  <tbody>\n",
       "    <tr>\n",
       "      <th>a</th>\n",
       "      <td>M</td>\n",
       "      <td>1500000.0</td>\n",
       "      <td>1900</td>\n",
       "      <td>NaN</td>\n",
       "      <td>NaN</td>\n",
       "      <td>True</td>\n",
       "    </tr>\n",
       "    <tr>\n",
       "      <th>b</th>\n",
       "      <td>M</td>\n",
       "      <td>2000000.0</td>\n",
       "      <td>1950</td>\n",
       "      <td>0.1</td>\n",
       "      <td>NaN</td>\n",
       "      <td>True</td>\n",
       "    </tr>\n",
       "    <tr>\n",
       "      <th>c</th>\n",
       "      <td>M</td>\n",
       "      <td>3000000.0</td>\n",
       "      <td>2000</td>\n",
       "      <td>NaN</td>\n",
       "      <td>NaN</td>\n",
       "      <td>True</td>\n",
       "    </tr>\n",
       "    <tr>\n",
       "      <th>d</th>\n",
       "      <td>B</td>\n",
       "      <td>5000000.0</td>\n",
       "      <td>1900</td>\n",
       "      <td>0.6</td>\n",
       "      <td>NaN</td>\n",
       "      <td>False</td>\n",
       "    </tr>\n",
       "    <tr>\n",
       "      <th>e</th>\n",
       "      <td>B</td>\n",
       "      <td>1500000.0</td>\n",
       "      <td>2000</td>\n",
       "      <td>0.9</td>\n",
       "      <td>NaN</td>\n",
       "      <td>False</td>\n",
       "    </tr>\n",
       "  </tbody>\n",
       "</table>\n",
       "</div>"
      ],
      "text/plain": [
       "  province  population  year  debt  2nd_language  capital\n",
       "a        M   1500000.0  1900   NaN           NaN     True\n",
       "b        M   2000000.0  1950   0.1           NaN     True\n",
       "c        M   3000000.0  2000   NaN           NaN     True\n",
       "d        B   5000000.0  1900   0.6           NaN    False\n",
       "e        B   1500000.0  2000   0.9           NaN    False"
      ]
     },
     "execution_count": 117,
     "metadata": {},
     "output_type": "execute_result"
    }
   ],
   "source": [
    "df2"
   ]
  },
  {
   "cell_type": "code",
   "execution_count": 118,
   "metadata": {
    "colab": {
     "base_uri": "https://localhost:8080/",
     "height": 206
    },
    "executionInfo": {
     "elapsed": 693,
     "status": "ok",
     "timestamp": 1607769795917,
     "user": {
      "displayName": "Luis DEL POZO",
      "photoUrl": "",
      "userId": "08297678491184687059"
     },
     "user_tz": -60
    },
    "id": "HSVLATyDi4j4",
    "outputId": "4fe62381-c809-44c9-9534-135a76f100b9"
   },
   "outputs": [
    {
     "data": {
      "text/html": [
       "<div>\n",
       "<style scoped>\n",
       "    .dataframe tbody tr th:only-of-type {\n",
       "        vertical-align: middle;\n",
       "    }\n",
       "\n",
       "    .dataframe tbody tr th {\n",
       "        vertical-align: top;\n",
       "    }\n",
       "\n",
       "    .dataframe thead th {\n",
       "        text-align: right;\n",
       "    }\n",
       "</style>\n",
       "<table border=\"1\" class=\"dataframe\">\n",
       "  <thead>\n",
       "    <tr style=\"text-align: right;\">\n",
       "      <th></th>\n",
       "      <th>province</th>\n",
       "      <th>population</th>\n",
       "      <th>year</th>\n",
       "      <th>debt</th>\n",
       "      <th>capital</th>\n",
       "    </tr>\n",
       "  </thead>\n",
       "  <tbody>\n",
       "    <tr>\n",
       "      <th>a</th>\n",
       "      <td>M</td>\n",
       "      <td>1500000.0</td>\n",
       "      <td>1900</td>\n",
       "      <td>NaN</td>\n",
       "      <td>True</td>\n",
       "    </tr>\n",
       "    <tr>\n",
       "      <th>b</th>\n",
       "      <td>M</td>\n",
       "      <td>2000000.0</td>\n",
       "      <td>1950</td>\n",
       "      <td>0.1</td>\n",
       "      <td>True</td>\n",
       "    </tr>\n",
       "    <tr>\n",
       "      <th>c</th>\n",
       "      <td>M</td>\n",
       "      <td>3000000.0</td>\n",
       "      <td>2000</td>\n",
       "      <td>NaN</td>\n",
       "      <td>True</td>\n",
       "    </tr>\n",
       "    <tr>\n",
       "      <th>d</th>\n",
       "      <td>B</td>\n",
       "      <td>5000000.0</td>\n",
       "      <td>1900</td>\n",
       "      <td>0.6</td>\n",
       "      <td>False</td>\n",
       "    </tr>\n",
       "    <tr>\n",
       "      <th>e</th>\n",
       "      <td>B</td>\n",
       "      <td>1500000.0</td>\n",
       "      <td>2000</td>\n",
       "      <td>0.9</td>\n",
       "      <td>False</td>\n",
       "    </tr>\n",
       "  </tbody>\n",
       "</table>\n",
       "</div>"
      ],
      "text/plain": [
       "  province  population  year  debt  capital\n",
       "a        M   1500000.0  1900   NaN     True\n",
       "b        M   2000000.0  1950   0.1     True\n",
       "c        M   3000000.0  2000   NaN     True\n",
       "d        B   5000000.0  1900   0.6    False\n",
       "e        B   1500000.0  2000   0.9    False"
      ]
     },
     "execution_count": 118,
     "metadata": {},
     "output_type": "execute_result"
    }
   ],
   "source": [
    "#Eliminar columnas\n",
    "del df2['2nd_language']\n",
    "df2"
   ]
  },
  {
   "cell_type": "code",
   "execution_count": 133,
   "metadata": {},
   "outputs": [
    {
     "data": {
      "text/html": [
       "<div>\n",
       "<style scoped>\n",
       "    .dataframe tbody tr th:only-of-type {\n",
       "        vertical-align: middle;\n",
       "    }\n",
       "\n",
       "    .dataframe tbody tr th {\n",
       "        vertical-align: top;\n",
       "    }\n",
       "\n",
       "    .dataframe thead th {\n",
       "        text-align: right;\n",
       "    }\n",
       "</style>\n",
       "<table border=\"1\" class=\"dataframe\">\n",
       "  <thead>\n",
       "    <tr style=\"text-align: right;\">\n",
       "      <th></th>\n",
       "      <th>province</th>\n",
       "      <th>population</th>\n",
       "      <th>year</th>\n",
       "      <th>debt</th>\n",
       "      <th>2nd_language</th>\n",
       "    </tr>\n",
       "  </thead>\n",
       "  <tbody>\n",
       "    <tr>\n",
       "      <th>a</th>\n",
       "      <td>M</td>\n",
       "      <td>1500000.0</td>\n",
       "      <td>1900</td>\n",
       "      <td>NaN</td>\n",
       "      <td>NaN</td>\n",
       "    </tr>\n",
       "    <tr>\n",
       "      <th>b</th>\n",
       "      <td>M</td>\n",
       "      <td>2000000.0</td>\n",
       "      <td>1950</td>\n",
       "      <td>0.1</td>\n",
       "      <td>NaN</td>\n",
       "    </tr>\n",
       "    <tr>\n",
       "      <th>c</th>\n",
       "      <td>M</td>\n",
       "      <td>3000000.0</td>\n",
       "      <td>2000</td>\n",
       "      <td>NaN</td>\n",
       "      <td>NaN</td>\n",
       "    </tr>\n",
       "    <tr>\n",
       "      <th>d</th>\n",
       "      <td>B</td>\n",
       "      <td>5000000.0</td>\n",
       "      <td>1900</td>\n",
       "      <td>0.6</td>\n",
       "      <td>NaN</td>\n",
       "    </tr>\n",
       "    <tr>\n",
       "      <th>e</th>\n",
       "      <td>B</td>\n",
       "      <td>1500000.0</td>\n",
       "      <td>2000</td>\n",
       "      <td>0.9</td>\n",
       "      <td>NaN</td>\n",
       "    </tr>\n",
       "  </tbody>\n",
       "</table>\n",
       "</div>"
      ],
      "text/plain": [
       "  province  population  year  debt  2nd_language\n",
       "a        M   1500000.0  1900   NaN           NaN\n",
       "b        M   2000000.0  1950   0.1           NaN\n",
       "c        M   3000000.0  2000   NaN           NaN\n",
       "d        B   5000000.0  1900   0.6           NaN\n",
       "e        B   1500000.0  2000   0.9           NaN"
      ]
     },
     "execution_count": 133,
     "metadata": {},
     "output_type": "execute_result"
    }
   ],
   "source": [
    "df2_copy = df2.drop('capital',axis=1) #Hace lo mismo pero por defecto toma axis=0, que son las filas\n",
    "df2_copy"
   ]
  },
  {
   "cell_type": "code",
   "execution_count": 119,
   "metadata": {
    "colab": {
     "base_uri": "https://localhost:8080/",
     "height": 206
    },
    "executionInfo": {
     "elapsed": 541,
     "status": "ok",
     "timestamp": 1607769822287,
     "user": {
      "displayName": "Luis DEL POZO",
      "photoUrl": "",
      "userId": "08297678491184687059"
     },
     "user_tz": -60
    },
    "id": "4JqWXl8PjCiZ",
    "outputId": "c496ba97-cb8a-46e7-85f5-96ddda87d253"
   },
   "outputs": [
    {
     "data": {
      "text/html": [
       "<div>\n",
       "<style scoped>\n",
       "    .dataframe tbody tr th:only-of-type {\n",
       "        vertical-align: middle;\n",
       "    }\n",
       "\n",
       "    .dataframe tbody tr th {\n",
       "        vertical-align: top;\n",
       "    }\n",
       "\n",
       "    .dataframe thead th {\n",
       "        text-align: right;\n",
       "    }\n",
       "</style>\n",
       "<table border=\"1\" class=\"dataframe\">\n",
       "  <thead>\n",
       "    <tr style=\"text-align: right;\">\n",
       "      <th></th>\n",
       "      <th>province</th>\n",
       "      <th>population</th>\n",
       "      <th>year</th>\n",
       "      <th>debt</th>\n",
       "      <th>capital</th>\n",
       "      <th>2nd_language</th>\n",
       "    </tr>\n",
       "  </thead>\n",
       "  <tbody>\n",
       "    <tr>\n",
       "      <th>a</th>\n",
       "      <td>M</td>\n",
       "      <td>1500000.0</td>\n",
       "      <td>1900</td>\n",
       "      <td>NaN</td>\n",
       "      <td>True</td>\n",
       "      <td>NaN</td>\n",
       "    </tr>\n",
       "    <tr>\n",
       "      <th>b</th>\n",
       "      <td>M</td>\n",
       "      <td>2000000.0</td>\n",
       "      <td>1950</td>\n",
       "      <td>0.1</td>\n",
       "      <td>True</td>\n",
       "      <td>NaN</td>\n",
       "    </tr>\n",
       "    <tr>\n",
       "      <th>c</th>\n",
       "      <td>M</td>\n",
       "      <td>3000000.0</td>\n",
       "      <td>2000</td>\n",
       "      <td>NaN</td>\n",
       "      <td>True</td>\n",
       "      <td>NaN</td>\n",
       "    </tr>\n",
       "    <tr>\n",
       "      <th>d</th>\n",
       "      <td>B</td>\n",
       "      <td>5000000.0</td>\n",
       "      <td>1900</td>\n",
       "      <td>0.6</td>\n",
       "      <td>False</td>\n",
       "      <td>NaN</td>\n",
       "    </tr>\n",
       "    <tr>\n",
       "      <th>e</th>\n",
       "      <td>B</td>\n",
       "      <td>1500000.0</td>\n",
       "      <td>2000</td>\n",
       "      <td>0.9</td>\n",
       "      <td>False</td>\n",
       "      <td>NaN</td>\n",
       "    </tr>\n",
       "  </tbody>\n",
       "</table>\n",
       "</div>"
      ],
      "text/plain": [
       "  province  population  year  debt  capital  2nd_language\n",
       "a        M   1500000.0  1900   NaN     True           NaN\n",
       "b        M   2000000.0  1950   0.1     True           NaN\n",
       "c        M   3000000.0  2000   NaN     True           NaN\n",
       "d        B   5000000.0  1900   0.6    False           NaN\n",
       "e        B   1500000.0  2000   0.9    False           NaN"
      ]
     },
     "execution_count": 119,
     "metadata": {},
     "output_type": "execute_result"
    }
   ],
   "source": [
    "df2['2nd_language'] = np.nan\n",
    "df2"
   ]
  },
  {
   "cell_type": "code",
   "execution_count": 120,
   "metadata": {
    "colab": {
     "base_uri": "https://localhost:8080/",
     "height": 238
    },
    "executionInfo": {
     "elapsed": 681,
     "status": "ok",
     "timestamp": 1607769831826,
     "user": {
      "displayName": "Luis DEL POZO",
      "photoUrl": "",
      "userId": "08297678491184687059"
     },
     "user_tz": -60
    },
    "id": "0HYMaPAqjJGO",
    "outputId": "0fa3004c-f40c-4a62-9d95-a5e8cb2c0567"
   },
   "outputs": [
    {
     "data": {
      "text/html": [
       "<div>\n",
       "<style scoped>\n",
       "    .dataframe tbody tr th:only-of-type {\n",
       "        vertical-align: middle;\n",
       "    }\n",
       "\n",
       "    .dataframe tbody tr th {\n",
       "        vertical-align: top;\n",
       "    }\n",
       "\n",
       "    .dataframe thead th {\n",
       "        text-align: right;\n",
       "    }\n",
       "</style>\n",
       "<table border=\"1\" class=\"dataframe\">\n",
       "  <thead>\n",
       "    <tr style=\"text-align: right;\">\n",
       "      <th></th>\n",
       "      <th>a</th>\n",
       "      <th>b</th>\n",
       "      <th>c</th>\n",
       "      <th>d</th>\n",
       "      <th>e</th>\n",
       "    </tr>\n",
       "  </thead>\n",
       "  <tbody>\n",
       "    <tr>\n",
       "      <th>province</th>\n",
       "      <td>M</td>\n",
       "      <td>M</td>\n",
       "      <td>M</td>\n",
       "      <td>B</td>\n",
       "      <td>B</td>\n",
       "    </tr>\n",
       "    <tr>\n",
       "      <th>population</th>\n",
       "      <td>1.5e+06</td>\n",
       "      <td>2e+06</td>\n",
       "      <td>3e+06</td>\n",
       "      <td>5e+06</td>\n",
       "      <td>1.5e+06</td>\n",
       "    </tr>\n",
       "    <tr>\n",
       "      <th>year</th>\n",
       "      <td>1900</td>\n",
       "      <td>1950</td>\n",
       "      <td>2000</td>\n",
       "      <td>1900</td>\n",
       "      <td>2000</td>\n",
       "    </tr>\n",
       "    <tr>\n",
       "      <th>debt</th>\n",
       "      <td>NaN</td>\n",
       "      <td>0.1</td>\n",
       "      <td>NaN</td>\n",
       "      <td>0.6</td>\n",
       "      <td>0.9</td>\n",
       "    </tr>\n",
       "    <tr>\n",
       "      <th>capital</th>\n",
       "      <td>True</td>\n",
       "      <td>True</td>\n",
       "      <td>True</td>\n",
       "      <td>False</td>\n",
       "      <td>False</td>\n",
       "    </tr>\n",
       "    <tr>\n",
       "      <th>2nd_language</th>\n",
       "      <td>NaN</td>\n",
       "      <td>NaN</td>\n",
       "      <td>NaN</td>\n",
       "      <td>NaN</td>\n",
       "      <td>NaN</td>\n",
       "    </tr>\n",
       "  </tbody>\n",
       "</table>\n",
       "</div>"
      ],
      "text/plain": [
       "                    a      b      c      d        e\n",
       "province            M      M      M      B        B\n",
       "population    1.5e+06  2e+06  3e+06  5e+06  1.5e+06\n",
       "year             1900   1950   2000   1900     2000\n",
       "debt              NaN    0.1    NaN    0.6      0.9\n",
       "capital          True   True   True  False    False\n",
       "2nd_language      NaN    NaN    NaN    NaN      NaN"
      ]
     },
     "execution_count": 120,
     "metadata": {},
     "output_type": "execute_result"
    }
   ],
   "source": [
    "#Transposición de DF\n",
    "df2.T"
   ]
  },
  {
   "cell_type": "code",
   "execution_count": 121,
   "metadata": {
    "colab": {
     "base_uri": "https://localhost:8080/",
     "height": 300
    },
    "executionInfo": {
     "elapsed": 545,
     "status": "ok",
     "timestamp": 1607769860332,
     "user": {
      "displayName": "Luis DEL POZO",
      "photoUrl": "",
      "userId": "08297678491184687059"
     },
     "user_tz": -60
    },
    "id": "ZqQOatPgjLTz",
    "outputId": "f7fc6e18-115d-4f02-934b-b6893b4085e4"
   },
   "outputs": [
    {
     "data": {
      "text/html": [
       "<div>\n",
       "<style scoped>\n",
       "    .dataframe tbody tr th:only-of-type {\n",
       "        vertical-align: middle;\n",
       "    }\n",
       "\n",
       "    .dataframe tbody tr th {\n",
       "        vertical-align: top;\n",
       "    }\n",
       "\n",
       "    .dataframe thead th {\n",
       "        text-align: right;\n",
       "    }\n",
       "</style>\n",
       "<table border=\"1\" class=\"dataframe\">\n",
       "  <thead>\n",
       "    <tr style=\"text-align: right;\">\n",
       "      <th></th>\n",
       "      <th>population</th>\n",
       "      <th>year</th>\n",
       "      <th>debt</th>\n",
       "      <th>2nd_language</th>\n",
       "    </tr>\n",
       "  </thead>\n",
       "  <tbody>\n",
       "    <tr>\n",
       "      <th>count</th>\n",
       "      <td>5.000000e+00</td>\n",
       "      <td>5.0</td>\n",
       "      <td>3.000000</td>\n",
       "      <td>0.0</td>\n",
       "    </tr>\n",
       "    <tr>\n",
       "      <th>mean</th>\n",
       "      <td>2.600000e+06</td>\n",
       "      <td>1950.0</td>\n",
       "      <td>0.533333</td>\n",
       "      <td>NaN</td>\n",
       "    </tr>\n",
       "    <tr>\n",
       "      <th>std</th>\n",
       "      <td>1.474788e+06</td>\n",
       "      <td>50.0</td>\n",
       "      <td>0.404145</td>\n",
       "      <td>NaN</td>\n",
       "    </tr>\n",
       "    <tr>\n",
       "      <th>min</th>\n",
       "      <td>1.500000e+06</td>\n",
       "      <td>1900.0</td>\n",
       "      <td>0.100000</td>\n",
       "      <td>NaN</td>\n",
       "    </tr>\n",
       "    <tr>\n",
       "      <th>25%</th>\n",
       "      <td>1.500000e+06</td>\n",
       "      <td>1900.0</td>\n",
       "      <td>0.350000</td>\n",
       "      <td>NaN</td>\n",
       "    </tr>\n",
       "    <tr>\n",
       "      <th>50%</th>\n",
       "      <td>2.000000e+06</td>\n",
       "      <td>1950.0</td>\n",
       "      <td>0.600000</td>\n",
       "      <td>NaN</td>\n",
       "    </tr>\n",
       "    <tr>\n",
       "      <th>75%</th>\n",
       "      <td>3.000000e+06</td>\n",
       "      <td>2000.0</td>\n",
       "      <td>0.750000</td>\n",
       "      <td>NaN</td>\n",
       "    </tr>\n",
       "    <tr>\n",
       "      <th>max</th>\n",
       "      <td>5.000000e+06</td>\n",
       "      <td>2000.0</td>\n",
       "      <td>0.900000</td>\n",
       "      <td>NaN</td>\n",
       "    </tr>\n",
       "  </tbody>\n",
       "</table>\n",
       "</div>"
      ],
      "text/plain": [
       "         population    year      debt  2nd_language\n",
       "count  5.000000e+00     5.0  3.000000           0.0\n",
       "mean   2.600000e+06  1950.0  0.533333           NaN\n",
       "std    1.474788e+06    50.0  0.404145           NaN\n",
       "min    1.500000e+06  1900.0  0.100000           NaN\n",
       "25%    1.500000e+06  1900.0  0.350000           NaN\n",
       "50%    2.000000e+06  1950.0  0.600000           NaN\n",
       "75%    3.000000e+06  2000.0  0.750000           NaN\n",
       "max    5.000000e+06  2000.0  0.900000           NaN"
      ]
     },
     "execution_count": 121,
     "metadata": {},
     "output_type": "execute_result"
    }
   ],
   "source": [
    "df2.describe()"
   ]
  },
  {
   "cell_type": "code",
   "execution_count": 122,
   "metadata": {
    "colab": {
     "base_uri": "https://localhost:8080/"
    },
    "executionInfo": {
     "elapsed": 662,
     "status": "ok",
     "timestamp": 1607769892351,
     "user": {
      "displayName": "Luis DEL POZO",
      "photoUrl": "",
      "userId": "08297678491184687059"
     },
     "user_tz": -60
    },
    "id": "ZO7YLdh2jSYN",
    "outputId": "8f43d739-d3a5-40c7-9dd6-da8ceb5a992f"
   },
   "outputs": [
    {
     "data": {
      "text/plain": [
       "province        5\n",
       "population      5\n",
       "year            5\n",
       "debt            3\n",
       "capital         5\n",
       "2nd_language    0\n",
       "dtype: int64"
      ]
     },
     "execution_count": 122,
     "metadata": {},
     "output_type": "execute_result"
    }
   ],
   "source": [
    "df2.count()"
   ]
  },
  {
   "cell_type": "code",
   "execution_count": 123,
   "metadata": {
    "colab": {
     "base_uri": "https://localhost:8080/",
     "height": 167
    },
    "executionInfo": {
     "elapsed": 564,
     "status": "error",
     "timestamp": 1607770228091,
     "user": {
      "displayName": "Luis DEL POZO",
      "photoUrl": "",
      "userId": "08297678491184687059"
     },
     "user_tz": -60
    },
    "id": "zyxtdroxjaKZ",
    "outputId": "07d74763-f85b-498a-8c69-6c0cbdf78c08"
   },
   "outputs": [
    {
     "ename": "NameError",
     "evalue": "name 'x' is not defined",
     "output_type": "error",
     "traceback": [
      "\u001b[0;31m---------------------------------------------------------------------------\u001b[0m",
      "\u001b[0;31mNameError\u001b[0m                                 Traceback (most recent call last)",
      "\u001b[0;32m<ipython-input-123-2c0affe78bee>\u001b[0m in \u001b[0;36m<module>\u001b[0;34m\u001b[0m\n\u001b[1;32m      1\u001b[0m \u001b[0;31m#OJO: No se puede modificar el índice. Los índices son inmutables\u001b[0m\u001b[0;34m\u001b[0m\u001b[0;34m\u001b[0m\u001b[0;34m\u001b[0m\u001b[0m\n\u001b[0;32m----> 2\u001b[0;31m \u001b[0mdf2\u001b[0m\u001b[0;34m.\u001b[0m\u001b[0mindex\u001b[0m\u001b[0;34m[\u001b[0m\u001b[0;36m1\u001b[0m\u001b[0;34m]\u001b[0m \u001b[0;34m=\u001b[0m \u001b[0mx\u001b[0m\u001b[0;34m\u001b[0m\u001b[0;34m\u001b[0m\u001b[0m\n\u001b[0m",
      "\u001b[0;31mNameError\u001b[0m: name 'x' is not defined"
     ]
    }
   ],
   "source": [
    "#OJO: No se puede modificar el índice. Los índices son inmutables\n",
    "df2.index[1] = x"
   ]
  },
  {
   "cell_type": "code",
   "execution_count": 124,
   "metadata": {
    "colab": {
     "base_uri": "https://localhost:8080/",
     "height": 35
    },
    "executionInfo": {
     "elapsed": 512,
     "status": "ok",
     "timestamp": 1607770290453,
     "user": {
      "displayName": "Luis DEL POZO",
      "photoUrl": "",
      "userId": "08297678491184687059"
     },
     "user_tz": -60
    },
    "id": "KTzWV2pjksK0",
    "outputId": "fadd0e2c-4c76-477f-d5b6-4297a4eeeb8e"
   },
   "outputs": [
    {
     "data": {
      "text/plain": [
       "'b'"
      ]
     },
     "execution_count": 124,
     "metadata": {},
     "output_type": "execute_result"
    }
   ],
   "source": [
    "df2.index[1]"
   ]
  },
  {
   "cell_type": "code",
   "execution_count": 125,
   "metadata": {
    "colab": {
     "base_uri": "https://localhost:8080/"
    },
    "executionInfo": {
     "elapsed": 501,
     "status": "ok",
     "timestamp": 1607770358678,
     "user": {
      "displayName": "Luis DEL POZO",
      "photoUrl": "",
      "userId": "08297678491184687059"
     },
     "user_tz": -60
    },
    "id": "EqMyPFwkk7aG",
    "outputId": "9d531ca7-1811-4be5-aaf2-4d10af185743"
   },
   "outputs": [
    {
     "data": {
      "text/plain": [
       "a    1.5\n",
       "b   -2.5\n",
       "c    0.0\n",
       "d    1.0\n",
       "e    2.0\n",
       "dtype: float64"
      ]
     },
     "execution_count": 125,
     "metadata": {},
     "output_type": "execute_result"
    }
   ],
   "source": [
    "series_temp = pd.Series([1.5, -2.5,0,1,2], df2.index)\n",
    "series_temp"
   ]
  },
  {
   "cell_type": "code",
   "execution_count": 126,
   "metadata": {
    "colab": {
     "base_uri": "https://localhost:8080/",
     "height": 143
    },
    "executionInfo": {
     "elapsed": 571,
     "status": "ok",
     "timestamp": 1607770417269,
     "user": {
      "displayName": "Luis DEL POZO",
      "photoUrl": "",
      "userId": "08297678491184687059"
     },
     "user_tz": -60
    },
    "id": "UXYP4JCBlMD6",
    "outputId": "a2719e73-38be-472d-c2be-99d584f4e3d7"
   },
   "outputs": [
    {
     "data": {
      "text/html": [
       "<div>\n",
       "<style scoped>\n",
       "    .dataframe tbody tr th:only-of-type {\n",
       "        vertical-align: middle;\n",
       "    }\n",
       "\n",
       "    .dataframe tbody tr th {\n",
       "        vertical-align: top;\n",
       "    }\n",
       "\n",
       "    .dataframe thead th {\n",
       "        text-align: right;\n",
       "    }\n",
       "</style>\n",
       "<table border=\"1\" class=\"dataframe\">\n",
       "  <thead>\n",
       "    <tr style=\"text-align: right;\">\n",
       "      <th></th>\n",
       "      <th>province</th>\n",
       "      <th>population</th>\n",
       "      <th>year</th>\n",
       "      <th>debt</th>\n",
       "      <th>capital</th>\n",
       "      <th>2nd_language</th>\n",
       "    </tr>\n",
       "  </thead>\n",
       "  <tbody>\n",
       "    <tr>\n",
       "      <th>c</th>\n",
       "      <td>M</td>\n",
       "      <td>3000000.0</td>\n",
       "      <td>2000</td>\n",
       "      <td>NaN</td>\n",
       "      <td>True</td>\n",
       "      <td>NaN</td>\n",
       "    </tr>\n",
       "    <tr>\n",
       "      <th>d</th>\n",
       "      <td>B</td>\n",
       "      <td>5000000.0</td>\n",
       "      <td>1900</td>\n",
       "      <td>0.6</td>\n",
       "      <td>False</td>\n",
       "      <td>NaN</td>\n",
       "    </tr>\n",
       "    <tr>\n",
       "      <th>e</th>\n",
       "      <td>B</td>\n",
       "      <td>1500000.0</td>\n",
       "      <td>2000</td>\n",
       "      <td>0.9</td>\n",
       "      <td>False</td>\n",
       "      <td>NaN</td>\n",
       "    </tr>\n",
       "  </tbody>\n",
       "</table>\n",
       "</div>"
      ],
      "text/plain": [
       "  province  population  year  debt  capital  2nd_language\n",
       "c        M   3000000.0  2000   NaN     True           NaN\n",
       "d        B   5000000.0  1900   0.6    False           NaN\n",
       "e        B   1500000.0  2000   0.9    False           NaN"
      ]
     },
     "execution_count": 126,
     "metadata": {},
     "output_type": "execute_result"
    }
   ],
   "source": [
    "df2.iloc[2:]"
   ]
  },
  {
   "cell_type": "code",
   "execution_count": 127,
   "metadata": {
    "colab": {
     "base_uri": "https://localhost:8080/"
    },
    "executionInfo": {
     "elapsed": 643,
     "status": "ok",
     "timestamp": 1607770516203,
     "user": {
      "displayName": "Luis DEL POZO",
      "photoUrl": "",
      "userId": "08297678491184687059"
     },
     "user_tz": -60
    },
    "id": "jPfQH1DklaWT",
    "outputId": "8eaedc54-158e-40e4-b0da-72dc38e6a94f"
   },
   "outputs": [
    {
     "data": {
      "text/plain": [
       "j    0\n",
       "d    1\n",
       "u    2\n",
       "v    3\n",
       "k    4\n",
       "dtype: int64"
      ]
     },
     "execution_count": 127,
     "metadata": {},
     "output_type": "execute_result"
    }
   ],
   "source": [
    "s6 = pd.Series(np.arange(5), list('jduvk'))\n",
    "s6"
   ]
  },
  {
   "cell_type": "code",
   "execution_count": 128,
   "metadata": {
    "executionInfo": {
     "elapsed": 525,
     "status": "ok",
     "timestamp": 1607770579592,
     "user": {
      "displayName": "Luis DEL POZO",
      "photoUrl": "",
      "userId": "08297678491184687059"
     },
     "user_tz": -60
    },
    "id": "SjF3XIOulsVV"
   },
   "outputs": [],
   "source": [
    "#Eliminar filas\n",
    "s7 = s6.drop(['d','k'])"
   ]
  },
  {
   "cell_type": "code",
   "execution_count": 129,
   "metadata": {
    "colab": {
     "base_uri": "https://localhost:8080/"
    },
    "executionInfo": {
     "elapsed": 1024,
     "status": "ok",
     "timestamp": 1607770584566,
     "user": {
      "displayName": "Luis DEL POZO",
      "photoUrl": "",
      "userId": "08297678491184687059"
     },
     "user_tz": -60
    },
    "id": "vuoMH01VmB_o",
    "outputId": "b97d8b6d-a2b3-4536-8e4a-cd230991f37c"
   },
   "outputs": [
    {
     "data": {
      "text/plain": [
       "j    0\n",
       "u    2\n",
       "v    3\n",
       "dtype: int64"
      ]
     },
     "execution_count": 129,
     "metadata": {},
     "output_type": "execute_result"
    }
   ],
   "source": [
    "s7"
   ]
  },
  {
   "cell_type": "code",
   "execution_count": 134,
   "metadata": {
    "executionInfo": {
     "elapsed": 631,
     "status": "ok",
     "timestamp": 1607770661725,
     "user": {
      "displayName": "Luis DEL POZO",
      "photoUrl": "",
      "userId": "08297678491184687059"
     },
     "user_tz": -60
    },
    "id": "cxNMsGarmDDn"
   },
   "outputs": [],
   "source": [
    "s7b = s6[s6.index.intersection(['d','k'])]"
   ]
  },
  {
   "cell_type": "code",
   "execution_count": 135,
   "metadata": {
    "colab": {
     "base_uri": "https://localhost:8080/"
    },
    "executionInfo": {
     "elapsed": 544,
     "status": "ok",
     "timestamp": 1607770670196,
     "user": {
      "displayName": "Luis DEL POZO",
      "photoUrl": "",
      "userId": "08297678491184687059"
     },
     "user_tz": -60
    },
    "id": "3H00E_6lmUpw",
    "outputId": "2fb63613-d01f-42fe-fd12-a6cfe265eadf"
   },
   "outputs": [
    {
     "data": {
      "text/plain": [
       "d    1\n",
       "k    4\n",
       "dtype: int64"
      ]
     },
     "execution_count": 135,
     "metadata": {},
     "output_type": "execute_result"
    }
   ],
   "source": [
    "s7b"
   ]
  },
  {
   "cell_type": "code",
   "execution_count": 136,
   "metadata": {
    "colab": {
     "base_uri": "https://localhost:8080/"
    },
    "executionInfo": {
     "elapsed": 651,
     "status": "ok",
     "timestamp": 1607770744758,
     "user": {
      "displayName": "Luis DEL POZO",
      "photoUrl": "",
      "userId": "08297678491184687059"
     },
     "user_tz": -60
    },
    "id": "fcPB-g5lmYHI",
    "outputId": "0ae9f4bc-d077-4f9e-ec27-1a666ae45500"
   },
   "outputs": [
    {
     "data": {
      "text/plain": [
       "j    0\n",
       "d    1\n",
       "u    2\n",
       "v    3\n",
       "k    4\n",
       "dtype: int64"
      ]
     },
     "execution_count": 136,
     "metadata": {},
     "output_type": "execute_result"
    }
   ],
   "source": [
    "s6"
   ]
  },
  {
   "cell_type": "code",
   "execution_count": 99,
   "metadata": {
    "colab": {
     "base_uri": "https://localhost:8080/"
    },
    "executionInfo": {
     "elapsed": 553,
     "status": "ok",
     "timestamp": 1607770766168,
     "user": {
      "displayName": "Luis DEL POZO",
      "photoUrl": "",
      "userId": "08297678491184687059"
     },
     "user_tz": -60
    },
    "id": "xj_JNF_YmqQM",
    "outputId": "5f4ca5fa-31dd-46bd-bd95-3bad5c4fd139"
   },
   "outputs": [
    {
     "data": {
      "text/plain": [
       "j    0\n",
       "d    1\n",
       "u    2\n",
       "v    3\n",
       "k    4\n",
       "dtype: int64"
      ]
     },
     "execution_count": 99,
     "metadata": {
      "tags": []
     },
     "output_type": "execute_result"
    }
   ],
   "source": [
    "s7['u'] = 7\n",
    "s6"
   ]
  },
  {
   "cell_type": "code",
   "execution_count": 100,
   "metadata": {
    "colab": {
     "base_uri": "https://localhost:8080/"
    },
    "executionInfo": {
     "elapsed": 785,
     "status": "ok",
     "timestamp": 1607770772698,
     "user": {
      "displayName": "Luis DEL POZO",
      "photoUrl": "",
      "userId": "08297678491184687059"
     },
     "user_tz": -60
    },
    "id": "fDJ-OINGmvih",
    "outputId": "e3a82412-424b-4e61-e604-ded67c71cc2f"
   },
   "outputs": [
    {
     "data": {
      "text/plain": [
       "j    0\n",
       "u    7\n",
       "v    3\n",
       "dtype: int64"
      ]
     },
     "execution_count": 100,
     "metadata": {
      "tags": []
     },
     "output_type": "execute_result"
    }
   ],
   "source": [
    "s7"
   ]
  },
  {
   "cell_type": "code",
   "execution_count": 101,
   "metadata": {
    "executionInfo": {
     "elapsed": 678,
     "status": "ok",
     "timestamp": 1607770886230,
     "user": {
      "displayName": "Luis DEL POZO",
      "photoUrl": "",
      "userId": "08297678491184687059"
     },
     "user_tz": -60
    },
    "id": "4P9siChomxEB"
   },
   "outputs": [],
   "source": [
    "#Si dejas de tener wifi o cosas así, debes recuperar las variables, para ello lo recuperas con el .pkl\n",
    "\n",
    "#df2=pd.read_pickle(os.path.join(files_loc,'df2.pkl'))"
   ]
  },
  {
   "cell_type": "code",
   "execution_count": 137,
   "metadata": {
    "colab": {
     "base_uri": "https://localhost:8080/",
     "height": 175
    },
    "executionInfo": {
     "elapsed": 650,
     "status": "ok",
     "timestamp": 1607770905783,
     "user": {
      "displayName": "Luis DEL POZO",
      "photoUrl": "",
      "userId": "08297678491184687059"
     },
     "user_tz": -60
    },
    "id": "JoENZ2MlnM1B",
    "outputId": "41373365-72fb-4dd7-d8bd-19f743e158f0"
   },
   "outputs": [
    {
     "data": {
      "text/html": [
       "<div>\n",
       "<style scoped>\n",
       "    .dataframe tbody tr th:only-of-type {\n",
       "        vertical-align: middle;\n",
       "    }\n",
       "\n",
       "    .dataframe tbody tr th {\n",
       "        vertical-align: top;\n",
       "    }\n",
       "\n",
       "    .dataframe thead th {\n",
       "        text-align: right;\n",
       "    }\n",
       "</style>\n",
       "<table border=\"1\" class=\"dataframe\">\n",
       "  <thead>\n",
       "    <tr style=\"text-align: right;\">\n",
       "      <th></th>\n",
       "      <th>province</th>\n",
       "      <th>population</th>\n",
       "      <th>year</th>\n",
       "      <th>debt</th>\n",
       "      <th>capital</th>\n",
       "      <th>2nd_language</th>\n",
       "    </tr>\n",
       "  </thead>\n",
       "  <tbody>\n",
       "    <tr>\n",
       "      <th>a</th>\n",
       "      <td>M</td>\n",
       "      <td>1500000.0</td>\n",
       "      <td>1900</td>\n",
       "      <td>NaN</td>\n",
       "      <td>True</td>\n",
       "      <td>NaN</td>\n",
       "    </tr>\n",
       "    <tr>\n",
       "      <th>b</th>\n",
       "      <td>M</td>\n",
       "      <td>2000000.0</td>\n",
       "      <td>1950</td>\n",
       "      <td>0.1</td>\n",
       "      <td>True</td>\n",
       "      <td>NaN</td>\n",
       "    </tr>\n",
       "    <tr>\n",
       "      <th>d</th>\n",
       "      <td>B</td>\n",
       "      <td>5000000.0</td>\n",
       "      <td>1900</td>\n",
       "      <td>0.6</td>\n",
       "      <td>False</td>\n",
       "      <td>NaN</td>\n",
       "    </tr>\n",
       "    <tr>\n",
       "      <th>e</th>\n",
       "      <td>B</td>\n",
       "      <td>1500000.0</td>\n",
       "      <td>2000</td>\n",
       "      <td>0.9</td>\n",
       "      <td>False</td>\n",
       "      <td>NaN</td>\n",
       "    </tr>\n",
       "  </tbody>\n",
       "</table>\n",
       "</div>"
      ],
      "text/plain": [
       "  province  population  year  debt  capital  2nd_language\n",
       "a        M   1500000.0  1900   NaN     True           NaN\n",
       "b        M   2000000.0  1950   0.1     True           NaN\n",
       "d        B   5000000.0  1900   0.6    False           NaN\n",
       "e        B   1500000.0  2000   0.9    False           NaN"
      ]
     },
     "execution_count": 137,
     "metadata": {},
     "output_type": "execute_result"
    }
   ],
   "source": [
    "df2.drop('c')"
   ]
  },
  {
   "cell_type": "code",
   "execution_count": 138,
   "metadata": {
    "colab": {
     "base_uri": "https://localhost:8080/",
     "height": 206
    },
    "executionInfo": {
     "elapsed": 542,
     "status": "ok",
     "timestamp": 1607770939435,
     "user": {
      "displayName": "Luis DEL POZO",
      "photoUrl": "",
      "userId": "08297678491184687059"
     },
     "user_tz": -60
    },
    "id": "zFnGu0lHnRmn",
    "outputId": "84cf7741-2e77-4cc8-c8bc-796577cfcfe0"
   },
   "outputs": [
    {
     "data": {
      "text/html": [
       "<div>\n",
       "<style scoped>\n",
       "    .dataframe tbody tr th:only-of-type {\n",
       "        vertical-align: middle;\n",
       "    }\n",
       "\n",
       "    .dataframe tbody tr th {\n",
       "        vertical-align: top;\n",
       "    }\n",
       "\n",
       "    .dataframe thead th {\n",
       "        text-align: right;\n",
       "    }\n",
       "</style>\n",
       "<table border=\"1\" class=\"dataframe\">\n",
       "  <thead>\n",
       "    <tr style=\"text-align: right;\">\n",
       "      <th></th>\n",
       "      <th>province</th>\n",
       "      <th>population</th>\n",
       "      <th>year</th>\n",
       "      <th>debt</th>\n",
       "      <th>capital</th>\n",
       "    </tr>\n",
       "  </thead>\n",
       "  <tbody>\n",
       "    <tr>\n",
       "      <th>a</th>\n",
       "      <td>M</td>\n",
       "      <td>1500000.0</td>\n",
       "      <td>1900</td>\n",
       "      <td>NaN</td>\n",
       "      <td>True</td>\n",
       "    </tr>\n",
       "    <tr>\n",
       "      <th>b</th>\n",
       "      <td>M</td>\n",
       "      <td>2000000.0</td>\n",
       "      <td>1950</td>\n",
       "      <td>0.1</td>\n",
       "      <td>True</td>\n",
       "    </tr>\n",
       "    <tr>\n",
       "      <th>c</th>\n",
       "      <td>M</td>\n",
       "      <td>3000000.0</td>\n",
       "      <td>2000</td>\n",
       "      <td>NaN</td>\n",
       "      <td>True</td>\n",
       "    </tr>\n",
       "    <tr>\n",
       "      <th>d</th>\n",
       "      <td>B</td>\n",
       "      <td>5000000.0</td>\n",
       "      <td>1900</td>\n",
       "      <td>0.6</td>\n",
       "      <td>False</td>\n",
       "    </tr>\n",
       "    <tr>\n",
       "      <th>e</th>\n",
       "      <td>B</td>\n",
       "      <td>1500000.0</td>\n",
       "      <td>2000</td>\n",
       "      <td>0.9</td>\n",
       "      <td>False</td>\n",
       "    </tr>\n",
       "  </tbody>\n",
       "</table>\n",
       "</div>"
      ],
      "text/plain": [
       "  province  population  year  debt  capital\n",
       "a        M   1500000.0  1900   NaN     True\n",
       "b        M   2000000.0  1950   0.1     True\n",
       "c        M   3000000.0  2000   NaN     True\n",
       "d        B   5000000.0  1900   0.6    False\n",
       "e        B   1500000.0  2000   0.9    False"
      ]
     },
     "execution_count": 138,
     "metadata": {},
     "output_type": "execute_result"
    }
   ],
   "source": [
    "df2.drop('2nd_language',axis = 1)"
   ]
  },
  {
   "cell_type": "code",
   "execution_count": 139,
   "metadata": {
    "colab": {
     "base_uri": "https://localhost:8080/",
     "height": 206
    },
    "executionInfo": {
     "elapsed": 563,
     "status": "ok",
     "timestamp": 1607770952093,
     "user": {
      "displayName": "Luis DEL POZO",
      "photoUrl": "",
      "userId": "08297678491184687059"
     },
     "user_tz": -60
    },
    "id": "x2fP85dMnZ17",
    "outputId": "3225f4b1-eeed-4191-8747-d97817e21dd6"
   },
   "outputs": [
    {
     "data": {
      "text/html": [
       "<div>\n",
       "<style scoped>\n",
       "    .dataframe tbody tr th:only-of-type {\n",
       "        vertical-align: middle;\n",
       "    }\n",
       "\n",
       "    .dataframe tbody tr th {\n",
       "        vertical-align: top;\n",
       "    }\n",
       "\n",
       "    .dataframe thead th {\n",
       "        text-align: right;\n",
       "    }\n",
       "</style>\n",
       "<table border=\"1\" class=\"dataframe\">\n",
       "  <thead>\n",
       "    <tr style=\"text-align: right;\">\n",
       "      <th></th>\n",
       "      <th>province</th>\n",
       "      <th>population</th>\n",
       "      <th>year</th>\n",
       "      <th>debt</th>\n",
       "      <th>capital</th>\n",
       "      <th>2nd_language</th>\n",
       "    </tr>\n",
       "  </thead>\n",
       "  <tbody>\n",
       "    <tr>\n",
       "      <th>a</th>\n",
       "      <td>M</td>\n",
       "      <td>1500000.0</td>\n",
       "      <td>1900</td>\n",
       "      <td>NaN</td>\n",
       "      <td>True</td>\n",
       "      <td>NaN</td>\n",
       "    </tr>\n",
       "    <tr>\n",
       "      <th>b</th>\n",
       "      <td>M</td>\n",
       "      <td>2000000.0</td>\n",
       "      <td>1950</td>\n",
       "      <td>0.1</td>\n",
       "      <td>True</td>\n",
       "      <td>NaN</td>\n",
       "    </tr>\n",
       "    <tr>\n",
       "      <th>c</th>\n",
       "      <td>M</td>\n",
       "      <td>3000000.0</td>\n",
       "      <td>2000</td>\n",
       "      <td>NaN</td>\n",
       "      <td>True</td>\n",
       "      <td>NaN</td>\n",
       "    </tr>\n",
       "    <tr>\n",
       "      <th>d</th>\n",
       "      <td>B</td>\n",
       "      <td>5000000.0</td>\n",
       "      <td>1900</td>\n",
       "      <td>0.6</td>\n",
       "      <td>False</td>\n",
       "      <td>NaN</td>\n",
       "    </tr>\n",
       "    <tr>\n",
       "      <th>e</th>\n",
       "      <td>B</td>\n",
       "      <td>1500000.0</td>\n",
       "      <td>2000</td>\n",
       "      <td>0.9</td>\n",
       "      <td>False</td>\n",
       "      <td>NaN</td>\n",
       "    </tr>\n",
       "  </tbody>\n",
       "</table>\n",
       "</div>"
      ],
      "text/plain": [
       "  province  population  year  debt  capital  2nd_language\n",
       "a        M   1500000.0  1900   NaN     True           NaN\n",
       "b        M   2000000.0  1950   0.1     True           NaN\n",
       "c        M   3000000.0  2000   NaN     True           NaN\n",
       "d        B   5000000.0  1900   0.6    False           NaN\n",
       "e        B   1500000.0  2000   0.9    False           NaN"
      ]
     },
     "execution_count": 139,
     "metadata": {},
     "output_type": "execute_result"
    }
   ],
   "source": [
    "df2"
   ]
  },
  {
   "cell_type": "code",
   "execution_count": 140,
   "metadata": {
    "executionInfo": {
     "elapsed": 564,
     "status": "ok",
     "timestamp": 1607771477424,
     "user": {
      "displayName": "Luis DEL POZO",
      "photoUrl": "",
      "userId": "08297678491184687059"
     },
     "user_tz": -60
    },
    "id": "c7fKxU5Cnc6W"
   },
   "outputs": [],
   "source": [
    "df3 = df2.copy()"
   ]
  },
  {
   "cell_type": "code",
   "execution_count": 141,
   "metadata": {
    "colab": {
     "base_uri": "https://localhost:8080/",
     "height": 206
    },
    "executionInfo": {
     "elapsed": 550,
     "status": "ok",
     "timestamp": 1607771480303,
     "user": {
      "displayName": "Luis DEL POZO",
      "photoUrl": "",
      "userId": "08297678491184687059"
     },
     "user_tz": -60
    },
    "id": "zS5ZDHyNoC-E",
    "outputId": "c0d11ef8-24be-42e5-87cf-8bf75bb0d727"
   },
   "outputs": [
    {
     "data": {
      "text/html": [
       "<div>\n",
       "<style scoped>\n",
       "    .dataframe tbody tr th:only-of-type {\n",
       "        vertical-align: middle;\n",
       "    }\n",
       "\n",
       "    .dataframe tbody tr th {\n",
       "        vertical-align: top;\n",
       "    }\n",
       "\n",
       "    .dataframe thead th {\n",
       "        text-align: right;\n",
       "    }\n",
       "</style>\n",
       "<table border=\"1\" class=\"dataframe\">\n",
       "  <thead>\n",
       "    <tr style=\"text-align: right;\">\n",
       "      <th></th>\n",
       "      <th>province</th>\n",
       "      <th>population</th>\n",
       "      <th>year</th>\n",
       "      <th>debt</th>\n",
       "      <th>capital</th>\n",
       "      <th>2nd_language</th>\n",
       "    </tr>\n",
       "  </thead>\n",
       "  <tbody>\n",
       "    <tr>\n",
       "      <th>a</th>\n",
       "      <td>M</td>\n",
       "      <td>1500000.0</td>\n",
       "      <td>1900</td>\n",
       "      <td>NaN</td>\n",
       "      <td>True</td>\n",
       "      <td>NaN</td>\n",
       "    </tr>\n",
       "    <tr>\n",
       "      <th>b</th>\n",
       "      <td>M</td>\n",
       "      <td>2000000.0</td>\n",
       "      <td>1950</td>\n",
       "      <td>0.1</td>\n",
       "      <td>True</td>\n",
       "      <td>NaN</td>\n",
       "    </tr>\n",
       "    <tr>\n",
       "      <th>c</th>\n",
       "      <td>M</td>\n",
       "      <td>3000000.0</td>\n",
       "      <td>2000</td>\n",
       "      <td>NaN</td>\n",
       "      <td>True</td>\n",
       "      <td>NaN</td>\n",
       "    </tr>\n",
       "    <tr>\n",
       "      <th>d</th>\n",
       "      <td>B</td>\n",
       "      <td>5000000.0</td>\n",
       "      <td>1900</td>\n",
       "      <td>0.6</td>\n",
       "      <td>False</td>\n",
       "      <td>NaN</td>\n",
       "    </tr>\n",
       "    <tr>\n",
       "      <th>e</th>\n",
       "      <td>B</td>\n",
       "      <td>1500000.0</td>\n",
       "      <td>2000</td>\n",
       "      <td>0.9</td>\n",
       "      <td>False</td>\n",
       "      <td>NaN</td>\n",
       "    </tr>\n",
       "  </tbody>\n",
       "</table>\n",
       "</div>"
      ],
      "text/plain": [
       "  province  population  year  debt  capital  2nd_language\n",
       "a        M   1500000.0  1900   NaN     True           NaN\n",
       "b        M   2000000.0  1950   0.1     True           NaN\n",
       "c        M   3000000.0  2000   NaN     True           NaN\n",
       "d        B   5000000.0  1900   0.6    False           NaN\n",
       "e        B   1500000.0  2000   0.9    False           NaN"
      ]
     },
     "execution_count": 141,
     "metadata": {},
     "output_type": "execute_result"
    }
   ],
   "source": [
    "df3"
   ]
  },
  {
   "cell_type": "code",
   "execution_count": 142,
   "metadata": {
    "executionInfo": {
     "elapsed": 574,
     "status": "ok",
     "timestamp": 1607771485671,
     "user": {
      "displayName": "Luis DEL POZO",
      "photoUrl": "",
      "userId": "08297678491184687059"
     },
     "user_tz": -60
    },
    "id": "KZSmPIQNoD_S"
   },
   "outputs": [],
   "source": [
    "df_detour = pd.DataFrame({'x':[1,2]})"
   ]
  },
  {
   "cell_type": "code",
   "execution_count": 143,
   "metadata": {},
   "outputs": [
    {
     "data": {
      "text/html": [
       "<div>\n",
       "<style scoped>\n",
       "    .dataframe tbody tr th:only-of-type {\n",
       "        vertical-align: middle;\n",
       "    }\n",
       "\n",
       "    .dataframe tbody tr th {\n",
       "        vertical-align: top;\n",
       "    }\n",
       "\n",
       "    .dataframe thead th {\n",
       "        text-align: right;\n",
       "    }\n",
       "</style>\n",
       "<table border=\"1\" class=\"dataframe\">\n",
       "  <thead>\n",
       "    <tr style=\"text-align: right;\">\n",
       "      <th></th>\n",
       "      <th>x</th>\n",
       "    </tr>\n",
       "  </thead>\n",
       "  <tbody>\n",
       "    <tr>\n",
       "      <th>0</th>\n",
       "      <td>1</td>\n",
       "    </tr>\n",
       "    <tr>\n",
       "      <th>1</th>\n",
       "      <td>2</td>\n",
       "    </tr>\n",
       "  </tbody>\n",
       "</table>\n",
       "</div>"
      ],
      "text/plain": [
       "   x\n",
       "0  1\n",
       "1  2"
      ]
     },
     "execution_count": 143,
     "metadata": {},
     "output_type": "execute_result"
    }
   ],
   "source": [
    "df_detour"
   ]
  },
  {
   "cell_type": "code",
   "execution_count": 145,
   "metadata": {
    "executionInfo": {
     "elapsed": 718,
     "status": "ok",
     "timestamp": 1607771499023,
     "user": {
      "displayName": "Luis DEL POZO",
      "photoUrl": "",
      "userId": "08297678491184687059"
     },
     "user_tz": -60
    },
    "id": "NffgLn8moNY0"
   },
   "outputs": [
    {
     "data": {
      "text/html": [
       "<div>\n",
       "<style scoped>\n",
       "    .dataframe tbody tr th:only-of-type {\n",
       "        vertical-align: middle;\n",
       "    }\n",
       "\n",
       "    .dataframe tbody tr th {\n",
       "        vertical-align: top;\n",
       "    }\n",
       "\n",
       "    .dataframe thead th {\n",
       "        text-align: right;\n",
       "    }\n",
       "</style>\n",
       "<table border=\"1\" class=\"dataframe\">\n",
       "  <thead>\n",
       "    <tr style=\"text-align: right;\">\n",
       "      <th></th>\n",
       "      <th>x</th>\n",
       "    </tr>\n",
       "  </thead>\n",
       "  <tbody>\n",
       "    <tr>\n",
       "      <th>0</th>\n",
       "      <td>1</td>\n",
       "    </tr>\n",
       "  </tbody>\n",
       "</table>\n",
       "</div>"
      ],
      "text/plain": [
       "   x\n",
       "0  1"
      ]
     },
     "execution_count": 145,
     "metadata": {},
     "output_type": "execute_result"
    }
   ],
   "source": [
    "df_sub = df_detour[0:1]\n",
    "df_sub"
   ]
  },
  {
   "cell_type": "code",
   "execution_count": 146,
   "metadata": {
    "colab": {
     "base_uri": "https://localhost:8080/",
     "height": 216
    },
    "executionInfo": {
     "elapsed": 662,
     "status": "ok",
     "timestamp": 1607771501305,
     "user": {
      "displayName": "Luis DEL POZO",
      "photoUrl": "",
      "userId": "08297678491184687059"
     },
     "user_tz": -60
    },
    "id": "Qy_9EiucoSPl",
    "outputId": "e32681c2-97c8-4686-9bb9-4802960353ba"
   },
   "outputs": [
    {
     "name": "stderr",
     "output_type": "stream",
     "text": [
      "/home/dsc/anaconda3/lib/python3.7/site-packages/pandas/core/generic.py:4405: SettingWithCopyWarning: \n",
      "A value is trying to be set on a copy of a slice from a DataFrame.\n",
      "Try using .loc[row_indexer,col_indexer] = value instead\n",
      "\n",
      "See the caveats in the documentation: http://pandas.pydata.org/pandas-docs/stable/indexing.html#indexing-view-versus-copy\n",
      "  self[name] = value\n"
     ]
    },
    {
     "data": {
      "text/html": [
       "<div>\n",
       "<style scoped>\n",
       "    .dataframe tbody tr th:only-of-type {\n",
       "        vertical-align: middle;\n",
       "    }\n",
       "\n",
       "    .dataframe tbody tr th {\n",
       "        vertical-align: top;\n",
       "    }\n",
       "\n",
       "    .dataframe thead th {\n",
       "        text-align: right;\n",
       "    }\n",
       "</style>\n",
       "<table border=\"1\" class=\"dataframe\">\n",
       "  <thead>\n",
       "    <tr style=\"text-align: right;\">\n",
       "      <th></th>\n",
       "      <th>x</th>\n",
       "    </tr>\n",
       "  </thead>\n",
       "  <tbody>\n",
       "    <tr>\n",
       "      <th>0</th>\n",
       "      <td>-1</td>\n",
       "    </tr>\n",
       "    <tr>\n",
       "      <th>1</th>\n",
       "      <td>2</td>\n",
       "    </tr>\n",
       "  </tbody>\n",
       "</table>\n",
       "</div>"
      ],
      "text/plain": [
       "   x\n",
       "0 -1\n",
       "1  2"
      ]
     },
     "execution_count": 146,
     "metadata": {},
     "output_type": "execute_result"
    }
   ],
   "source": [
    "#OJO CON ESTO: HAY QUE HACER .COPY\n",
    "df_sub.x = -1\n",
    "df_detour"
   ]
  },
  {
   "cell_type": "code",
   "execution_count": 158,
   "metadata": {
    "executionInfo": {
     "elapsed": 672,
     "status": "ok",
     "timestamp": 1607771504165,
     "user": {
      "displayName": "Luis DEL POZO",
      "photoUrl": "",
      "userId": "08297678491184687059"
     },
     "user_tz": -60
    },
    "id": "SUvJVYOxoYIn"
   },
   "outputs": [],
   "source": [
    "#OJO: \"inplace = True\" modifica el dataframe original\n",
    "df3.drop('capital',axis=1,inplace=True)"
   ]
  },
  {
   "cell_type": "code",
   "execution_count": 159,
   "metadata": {
    "colab": {
     "base_uri": "https://localhost:8080/",
     "height": 206
    },
    "executionInfo": {
     "elapsed": 484,
     "status": "ok",
     "timestamp": 1607771307719,
     "user": {
      "displayName": "Luis DEL POZO",
      "photoUrl": "",
      "userId": "08297678491184687059"
     },
     "user_tz": -60
    },
    "id": "-XlG-0LEoyIo",
    "outputId": "c5da3ccb-c282-415b-ff53-333d25c1a860"
   },
   "outputs": [
    {
     "data": {
      "text/html": [
       "<div>\n",
       "<style scoped>\n",
       "    .dataframe tbody tr th:only-of-type {\n",
       "        vertical-align: middle;\n",
       "    }\n",
       "\n",
       "    .dataframe tbody tr th {\n",
       "        vertical-align: top;\n",
       "    }\n",
       "\n",
       "    .dataframe thead th {\n",
       "        text-align: right;\n",
       "    }\n",
       "</style>\n",
       "<table border=\"1\" class=\"dataframe\">\n",
       "  <thead>\n",
       "    <tr style=\"text-align: right;\">\n",
       "      <th></th>\n",
       "      <th>province</th>\n",
       "      <th>population</th>\n",
       "      <th>year</th>\n",
       "      <th>debt</th>\n",
       "      <th>2nd_language</th>\n",
       "    </tr>\n",
       "  </thead>\n",
       "  <tbody>\n",
       "    <tr>\n",
       "      <th>a</th>\n",
       "      <td>M</td>\n",
       "      <td>1500000.0</td>\n",
       "      <td>1900</td>\n",
       "      <td>NaN</td>\n",
       "      <td>NaN</td>\n",
       "    </tr>\n",
       "    <tr>\n",
       "      <th>b</th>\n",
       "      <td>M</td>\n",
       "      <td>2000000.0</td>\n",
       "      <td>1950</td>\n",
       "      <td>0.1</td>\n",
       "      <td>NaN</td>\n",
       "    </tr>\n",
       "    <tr>\n",
       "      <th>c</th>\n",
       "      <td>M</td>\n",
       "      <td>3000000.0</td>\n",
       "      <td>2000</td>\n",
       "      <td>NaN</td>\n",
       "      <td>NaN</td>\n",
       "    </tr>\n",
       "    <tr>\n",
       "      <th>d</th>\n",
       "      <td>B</td>\n",
       "      <td>5000000.0</td>\n",
       "      <td>1900</td>\n",
       "      <td>0.6</td>\n",
       "      <td>NaN</td>\n",
       "    </tr>\n",
       "    <tr>\n",
       "      <th>e</th>\n",
       "      <td>B</td>\n",
       "      <td>1500000.0</td>\n",
       "      <td>2000</td>\n",
       "      <td>0.9</td>\n",
       "      <td>NaN</td>\n",
       "    </tr>\n",
       "  </tbody>\n",
       "</table>\n",
       "</div>"
      ],
      "text/plain": [
       "  province  population  year  debt  2nd_language\n",
       "a        M   1500000.0  1900   NaN           NaN\n",
       "b        M   2000000.0  1950   0.1           NaN\n",
       "c        M   3000000.0  2000   NaN           NaN\n",
       "d        B   5000000.0  1900   0.6           NaN\n",
       "e        B   1500000.0  2000   0.9           NaN"
      ]
     },
     "execution_count": 159,
     "metadata": {},
     "output_type": "execute_result"
    }
   ],
   "source": [
    "df3"
   ]
  },
  {
   "cell_type": "code",
   "execution_count": 160,
   "metadata": {
    "colab": {
     "base_uri": "https://localhost:8080/"
    },
    "executionInfo": {
     "elapsed": 560,
     "status": "ok",
     "timestamp": 1607771645200,
     "user": {
      "displayName": "Luis DEL POZO",
      "photoUrl": "",
      "userId": "08297678491184687059"
     },
     "user_tz": -60
    },
    "id": "GOYEbxqmozxZ",
    "outputId": "58c23ca9-4aea-4ef7-fff1-124676fc08bc"
   },
   "outputs": [
    {
     "data": {
      "text/plain": [
       "Cordoba      300000.0\n",
       "Madrid      6000000.0\n",
       "Sevilla      500000.0\n",
       "Zaragoza     250000.0\n",
       "dtype: float64"
      ]
     },
     "execution_count": 160,
     "metadata": {},
     "output_type": "execute_result"
    }
   ],
   "source": [
    "s3"
   ]
  },
  {
   "cell_type": "code",
   "execution_count": 161,
   "metadata": {
    "colab": {
     "base_uri": "https://localhost:8080/"
    },
    "executionInfo": {
     "elapsed": 544,
     "status": "ok",
     "timestamp": 1607771684623,
     "user": {
      "displayName": "Luis DEL POZO",
      "photoUrl": "",
      "userId": "08297678491184687059"
     },
     "user_tz": -60
    },
    "id": "ESR6IvdRqGEp",
    "outputId": "d8a5bced-e51e-46bc-ba0e-302cdac040a9"
   },
   "outputs": [
    {
     "data": {
      "text/plain": [
       "Zaragoza     250000.0\n",
       "Madrid      6000000.0\n",
       "dtype: float64"
      ]
     },
     "execution_count": 161,
     "metadata": {},
     "output_type": "execute_result"
    }
   ],
   "source": [
    "s3[['Zaragoza','Madrid']]"
   ]
  },
  {
   "cell_type": "code",
   "execution_count": 162,
   "metadata": {
    "colab": {
     "base_uri": "https://localhost:8080/"
    },
    "executionInfo": {
     "elapsed": 532,
     "status": "ok",
     "timestamp": 1607771695712,
     "user": {
      "displayName": "Luis DEL POZO",
      "photoUrl": "",
      "userId": "08297678491184687059"
     },
     "user_tz": -60
    },
    "id": "hdPQADhPqPxm",
    "outputId": "f220f9af-ecf5-41cc-dc3c-212f203e3a6b"
   },
   "outputs": [
    {
     "data": {
      "text/plain": [
       "Sevilla     500000.0\n",
       "Zaragoza    250000.0\n",
       "dtype: float64"
      ]
     },
     "execution_count": 162,
     "metadata": {},
     "output_type": "execute_result"
    }
   ],
   "source": [
    "s3[2:]"
   ]
  },
  {
   "cell_type": "code",
   "execution_count": 163,
   "metadata": {
    "colab": {
     "base_uri": "https://localhost:8080/"
    },
    "executionInfo": {
     "elapsed": 575,
     "status": "ok",
     "timestamp": 1607771751248,
     "user": {
      "displayName": "Luis DEL POZO",
      "photoUrl": "",
      "userId": "08297678491184687059"
     },
     "user_tz": -60
    },
    "id": "I4EK3HLhqSfM",
    "outputId": "7cc7eb3e-647c-4e85-cd07-52699b7459b7"
   },
   "outputs": [
    {
     "data": {
      "text/plain": [
       "Cordoba     300000.0\n",
       "Madrid     6000000.0\n",
       "Sevilla     500000.0\n",
       "dtype: float64"
      ]
     },
     "execution_count": 163,
     "metadata": {},
     "output_type": "execute_result"
    }
   ],
   "source": [
    "s3['Cordoba':'Sevilla']"
   ]
  },
  {
   "cell_type": "code",
   "execution_count": 164,
   "metadata": {
    "colab": {
     "base_uri": "https://localhost:8080/"
    },
    "executionInfo": {
     "elapsed": 762,
     "status": "ok",
     "timestamp": 1607771776221,
     "user": {
      "displayName": "Luis DEL POZO",
      "photoUrl": "",
      "userId": "08297678491184687059"
     },
     "user_tz": -60
    },
    "id": "MxNpKxL6qbH0",
    "outputId": "b71b2fa6-a11a-4d50-e2f7-b0b959b86411"
   },
   "outputs": [
    {
     "data": {
      "text/plain": [
       "Madrid    6000000.0\n",
       "dtype: float64"
      ]
     },
     "execution_count": 164,
     "metadata": {},
     "output_type": "execute_result"
    }
   ],
   "source": [
    "s3[1:2]"
   ]
  },
  {
   "cell_type": "code",
   "execution_count": 165,
   "metadata": {
    "colab": {
     "base_uri": "https://localhost:8080/"
    },
    "executionInfo": {
     "elapsed": 578,
     "status": "ok",
     "timestamp": 1607771800242,
     "user": {
      "displayName": "Luis DEL POZO",
      "photoUrl": "",
      "userId": "08297678491184687059"
     },
     "user_tz": -60
    },
    "id": "R544ntzDqjWt",
    "outputId": "45bc5840-a7b5-4b6c-ebfb-623ad29946d1"
   },
   "outputs": [
    {
     "data": {
      "text/plain": [
       "Cordoba     False\n",
       "Madrid       True\n",
       "Sevilla     False\n",
       "Zaragoza    False\n",
       "dtype: bool"
      ]
     },
     "execution_count": 165,
     "metadata": {},
     "output_type": "execute_result"
    }
   ],
   "source": [
    "s3 > 1e6"
   ]
  },
  {
   "cell_type": "code",
   "execution_count": 166,
   "metadata": {
    "colab": {
     "base_uri": "https://localhost:8080/"
    },
    "executionInfo": {
     "elapsed": 625,
     "status": "ok",
     "timestamp": 1607771834795,
     "user": {
      "displayName": "Luis DEL POZO",
      "photoUrl": "",
      "userId": "08297678491184687059"
     },
     "user_tz": -60
    },
    "id": "yaEg2nnhqr_s",
    "outputId": "8eb9e018-e498-48a2-c2d0-9956c8c021ad"
   },
   "outputs": [
    {
     "data": {
      "text/plain": [
       "a    False\n",
       "b    False\n",
       "c     True\n",
       "d    False\n",
       "e     True\n",
       "Name: year, dtype: bool"
      ]
     },
     "execution_count": 166,
     "metadata": {},
     "output_type": "execute_result"
    }
   ],
   "source": [
    "df3['year'] > 1950"
   ]
  },
  {
   "cell_type": "code",
   "execution_count": 167,
   "metadata": {
    "colab": {
     "base_uri": "https://localhost:8080/",
     "height": 112
    },
    "executionInfo": {
     "elapsed": 515,
     "status": "ok",
     "timestamp": 1607771861420,
     "user": {
      "displayName": "Luis DEL POZO",
      "photoUrl": "",
      "userId": "08297678491184687059"
     },
     "user_tz": -60
    },
    "id": "eqnxwBLWq0aN",
    "outputId": "6949b21b-9c02-453b-941d-6a3e07aa6f72"
   },
   "outputs": [
    {
     "data": {
      "text/html": [
       "<div>\n",
       "<style scoped>\n",
       "    .dataframe tbody tr th:only-of-type {\n",
       "        vertical-align: middle;\n",
       "    }\n",
       "\n",
       "    .dataframe tbody tr th {\n",
       "        vertical-align: top;\n",
       "    }\n",
       "\n",
       "    .dataframe thead th {\n",
       "        text-align: right;\n",
       "    }\n",
       "</style>\n",
       "<table border=\"1\" class=\"dataframe\">\n",
       "  <thead>\n",
       "    <tr style=\"text-align: right;\">\n",
       "      <th></th>\n",
       "      <th>province</th>\n",
       "      <th>population</th>\n",
       "      <th>year</th>\n",
       "      <th>debt</th>\n",
       "      <th>2nd_language</th>\n",
       "    </tr>\n",
       "  </thead>\n",
       "  <tbody>\n",
       "    <tr>\n",
       "      <th>c</th>\n",
       "      <td>M</td>\n",
       "      <td>3000000.0</td>\n",
       "      <td>2000</td>\n",
       "      <td>NaN</td>\n",
       "      <td>NaN</td>\n",
       "    </tr>\n",
       "    <tr>\n",
       "      <th>e</th>\n",
       "      <td>B</td>\n",
       "      <td>1500000.0</td>\n",
       "      <td>2000</td>\n",
       "      <td>0.9</td>\n",
       "      <td>NaN</td>\n",
       "    </tr>\n",
       "  </tbody>\n",
       "</table>\n",
       "</div>"
      ],
      "text/plain": [
       "  province  population  year  debt  2nd_language\n",
       "c        M   3000000.0  2000   NaN           NaN\n",
       "e        B   1500000.0  2000   0.9           NaN"
      ]
     },
     "execution_count": 167,
     "metadata": {},
     "output_type": "execute_result"
    }
   ],
   "source": [
    "df3[df3['year'] > 1950]"
   ]
  },
  {
   "cell_type": "code",
   "execution_count": 168,
   "metadata": {
    "colab": {
     "base_uri": "https://localhost:8080/",
     "height": 81
    },
    "executionInfo": {
     "elapsed": 586,
     "status": "ok",
     "timestamp": 1607771983339,
     "user": {
      "displayName": "Luis DEL POZO",
      "photoUrl": "",
      "userId": "08297678491184687059"
     },
     "user_tz": -60
    },
    "id": "hjOCOW57q68r",
    "outputId": "687320f9-790a-43f0-c341-e2da70d209de"
   },
   "outputs": [
    {
     "data": {
      "text/html": [
       "<div>\n",
       "<style scoped>\n",
       "    .dataframe tbody tr th:only-of-type {\n",
       "        vertical-align: middle;\n",
       "    }\n",
       "\n",
       "    .dataframe tbody tr th {\n",
       "        vertical-align: top;\n",
       "    }\n",
       "\n",
       "    .dataframe thead th {\n",
       "        text-align: right;\n",
       "    }\n",
       "</style>\n",
       "<table border=\"1\" class=\"dataframe\">\n",
       "  <thead>\n",
       "    <tr style=\"text-align: right;\">\n",
       "      <th></th>\n",
       "      <th>province</th>\n",
       "      <th>population</th>\n",
       "      <th>year</th>\n",
       "      <th>debt</th>\n",
       "      <th>2nd_language</th>\n",
       "    </tr>\n",
       "  </thead>\n",
       "  <tbody>\n",
       "    <tr>\n",
       "      <th>e</th>\n",
       "      <td>B</td>\n",
       "      <td>1500000.0</td>\n",
       "      <td>2000</td>\n",
       "      <td>0.9</td>\n",
       "      <td>NaN</td>\n",
       "    </tr>\n",
       "  </tbody>\n",
       "</table>\n",
       "</div>"
      ],
      "text/plain": [
       "  province  population  year  debt  2nd_language\n",
       "e        B   1500000.0  2000   0.9           NaN"
      ]
     },
     "execution_count": 168,
     "metadata": {},
     "output_type": "execute_result"
    }
   ],
   "source": [
    "df3[(df3['year'] > 1950) & (df3['debt'] > 0.5)]"
   ]
  },
  {
   "cell_type": "code",
   "execution_count": 169,
   "metadata": {
    "colab": {
     "base_uri": "https://localhost:8080/",
     "height": 81
    },
    "executionInfo": {
     "elapsed": 622,
     "status": "ok",
     "timestamp": 1607772083937,
     "user": {
      "displayName": "Luis DEL POZO",
      "photoUrl": "",
      "userId": "08297678491184687059"
     },
     "user_tz": -60
    },
    "id": "Vw62qlb7rJ8A",
    "outputId": "be9cf292-d63a-460c-ae05-1f3932f096ed"
   },
   "outputs": [
    {
     "data": {
      "text/html": [
       "<div>\n",
       "<style scoped>\n",
       "    .dataframe tbody tr th:only-of-type {\n",
       "        vertical-align: middle;\n",
       "    }\n",
       "\n",
       "    .dataframe tbody tr th {\n",
       "        vertical-align: top;\n",
       "    }\n",
       "\n",
       "    .dataframe thead th {\n",
       "        text-align: right;\n",
       "    }\n",
       "</style>\n",
       "<table border=\"1\" class=\"dataframe\">\n",
       "  <thead>\n",
       "    <tr style=\"text-align: right;\">\n",
       "      <th></th>\n",
       "      <th>province</th>\n",
       "      <th>population</th>\n",
       "      <th>year</th>\n",
       "      <th>debt</th>\n",
       "      <th>2nd_language</th>\n",
       "    </tr>\n",
       "  </thead>\n",
       "  <tbody>\n",
       "    <tr>\n",
       "      <th>e</th>\n",
       "      <td>B</td>\n",
       "      <td>1500000.0</td>\n",
       "      <td>2000</td>\n",
       "      <td>0.9</td>\n",
       "      <td>NaN</td>\n",
       "    </tr>\n",
       "  </tbody>\n",
       "</table>\n",
       "</div>"
      ],
      "text/plain": [
       "  province  population  year  debt  2nd_language\n",
       "e        B   1500000.0  2000   0.9           NaN"
      ]
     },
     "execution_count": 169,
     "metadata": {},
     "output_type": "execute_result"
    }
   ],
   "source": [
    "recent = df3['year'] > 1950\n",
    "indebted = df3['debt'] > 0.5\n",
    "df3[recent & indebted]\n"
   ]
  },
  {
   "cell_type": "code",
   "execution_count": 170,
   "metadata": {
    "colab": {
     "base_uri": "https://localhost:8080/",
     "height": 206
    },
    "executionInfo": {
     "elapsed": 749,
     "status": "ok",
     "timestamp": 1607772123081,
     "user": {
      "displayName": "Luis DEL POZO",
      "photoUrl": "",
      "userId": "08297678491184687059"
     },
     "user_tz": -60
    },
    "id": "6zZv_xonruCg",
    "outputId": "398f4296-b041-495b-8e67-71502bdef7e9"
   },
   "outputs": [
    {
     "data": {
      "text/html": [
       "<div>\n",
       "<style scoped>\n",
       "    .dataframe tbody tr th:only-of-type {\n",
       "        vertical-align: middle;\n",
       "    }\n",
       "\n",
       "    .dataframe tbody tr th {\n",
       "        vertical-align: top;\n",
       "    }\n",
       "\n",
       "    .dataframe thead th {\n",
       "        text-align: right;\n",
       "    }\n",
       "</style>\n",
       "<table border=\"1\" class=\"dataframe\">\n",
       "  <thead>\n",
       "    <tr style=\"text-align: right;\">\n",
       "      <th></th>\n",
       "      <th>province</th>\n",
       "      <th>population</th>\n",
       "      <th>year</th>\n",
       "      <th>debt</th>\n",
       "      <th>2nd_language</th>\n",
       "    </tr>\n",
       "  </thead>\n",
       "  <tbody>\n",
       "    <tr>\n",
       "      <th>a</th>\n",
       "      <td>M</td>\n",
       "      <td>1500000.0</td>\n",
       "      <td>1900</td>\n",
       "      <td>NaN</td>\n",
       "      <td>NaN</td>\n",
       "    </tr>\n",
       "    <tr>\n",
       "      <th>b</th>\n",
       "      <td>M</td>\n",
       "      <td>2000000.0</td>\n",
       "      <td>1950</td>\n",
       "      <td>0.1</td>\n",
       "      <td>NaN</td>\n",
       "    </tr>\n",
       "    <tr>\n",
       "      <th>c</th>\n",
       "      <td>M</td>\n",
       "      <td>3000000.0</td>\n",
       "      <td>2000</td>\n",
       "      <td>NaN</td>\n",
       "      <td>NaN</td>\n",
       "    </tr>\n",
       "    <tr>\n",
       "      <th>d</th>\n",
       "      <td>B</td>\n",
       "      <td>5000000.0</td>\n",
       "      <td>1900</td>\n",
       "      <td>0.6</td>\n",
       "      <td>NaN</td>\n",
       "    </tr>\n",
       "    <tr>\n",
       "      <th>e</th>\n",
       "      <td>B</td>\n",
       "      <td>1500000.0</td>\n",
       "      <td>2000</td>\n",
       "      <td>0.9</td>\n",
       "      <td>NaN</td>\n",
       "    </tr>\n",
       "  </tbody>\n",
       "</table>\n",
       "</div>"
      ],
      "text/plain": [
       "  province  population  year  debt  2nd_language\n",
       "a        M   1500000.0  1900   NaN           NaN\n",
       "b        M   2000000.0  1950   0.1           NaN\n",
       "c        M   3000000.0  2000   NaN           NaN\n",
       "d        B   5000000.0  1900   0.6           NaN\n",
       "e        B   1500000.0  2000   0.9           NaN"
      ]
     },
     "execution_count": 170,
     "metadata": {},
     "output_type": "execute_result"
    }
   ],
   "source": [
    "df3"
   ]
  },
  {
   "cell_type": "code",
   "execution_count": 171,
   "metadata": {
    "colab": {
     "base_uri": "https://localhost:8080/"
    },
    "executionInfo": {
     "elapsed": 577,
     "status": "ok",
     "timestamp": 1607772151406,
     "user": {
      "displayName": "Luis DEL POZO",
      "photoUrl": "",
      "userId": "08297678491184687059"
     },
     "user_tz": -60
    },
    "id": "4hfML3Usr6r3",
    "outputId": "9ed46265-496f-40b1-8803-90c9134cd34f"
   },
   "outputs": [
    {
     "data": {
      "text/plain": [
       "a    1224.744871\n",
       "b    1414.213562\n",
       "c    1732.050808\n",
       "d    2236.067977\n",
       "e    1224.744871\n",
       "Name: population, dtype: float64"
      ]
     },
     "execution_count": 171,
     "metadata": {},
     "output_type": "execute_result"
    }
   ],
   "source": [
    "np.sqrt(df3['population'])"
   ]
  },
  {
   "cell_type": "code",
   "execution_count": 172,
   "metadata": {
    "executionInfo": {
     "elapsed": 506,
     "status": "ok",
     "timestamp": 1607772228008,
     "user": {
      "displayName": "Luis DEL POZO",
      "photoUrl": "",
      "userId": "08297678491184687059"
     },
     "user_tz": -60
    },
    "id": "ayHtr7rNsBuU"
   },
   "outputs": [],
   "source": [
    "#randn incluye valores de una distribución normal de media 4 y std 3\n",
    "df4 = pd.DataFrame(np.random.randn(4,3)*17+15, columns = list('bde'), index = list('BMPZ'))"
   ]
  },
  {
   "cell_type": "code",
   "execution_count": 173,
   "metadata": {
    "colab": {
     "base_uri": "https://localhost:8080/",
     "height": 175
    },
    "executionInfo": {
     "elapsed": 510,
     "status": "ok",
     "timestamp": 1607772235219,
     "user": {
      "displayName": "Luis DEL POZO",
      "photoUrl": "",
      "userId": "08297678491184687059"
     },
     "user_tz": -60
    },
    "id": "vZDynkb5sUco",
    "outputId": "7574d4b1-3b9d-4e11-cd65-d8f965f831da"
   },
   "outputs": [
    {
     "data": {
      "text/html": [
       "<div>\n",
       "<style scoped>\n",
       "    .dataframe tbody tr th:only-of-type {\n",
       "        vertical-align: middle;\n",
       "    }\n",
       "\n",
       "    .dataframe tbody tr th {\n",
       "        vertical-align: top;\n",
       "    }\n",
       "\n",
       "    .dataframe thead th {\n",
       "        text-align: right;\n",
       "    }\n",
       "</style>\n",
       "<table border=\"1\" class=\"dataframe\">\n",
       "  <thead>\n",
       "    <tr style=\"text-align: right;\">\n",
       "      <th></th>\n",
       "      <th>b</th>\n",
       "      <th>d</th>\n",
       "      <th>e</th>\n",
       "    </tr>\n",
       "  </thead>\n",
       "  <tbody>\n",
       "    <tr>\n",
       "      <th>B</th>\n",
       "      <td>14.991376</td>\n",
       "      <td>17.586833</td>\n",
       "      <td>9.915303</td>\n",
       "    </tr>\n",
       "    <tr>\n",
       "      <th>M</th>\n",
       "      <td>-20.226829</td>\n",
       "      <td>20.063671</td>\n",
       "      <td>29.552356</td>\n",
       "    </tr>\n",
       "    <tr>\n",
       "      <th>P</th>\n",
       "      <td>7.928477</td>\n",
       "      <td>-25.970684</td>\n",
       "      <td>-2.693977</td>\n",
       "    </tr>\n",
       "    <tr>\n",
       "      <th>Z</th>\n",
       "      <td>43.206046</td>\n",
       "      <td>20.483501</td>\n",
       "      <td>36.954914</td>\n",
       "    </tr>\n",
       "  </tbody>\n",
       "</table>\n",
       "</div>"
      ],
      "text/plain": [
       "           b          d          e\n",
       "B  14.991376  17.586833   9.915303\n",
       "M -20.226829  20.063671  29.552356\n",
       "P   7.928477 -25.970684  -2.693977\n",
       "Z  43.206046  20.483501  36.954914"
      ]
     },
     "execution_count": 173,
     "metadata": {},
     "output_type": "execute_result"
    }
   ],
   "source": [
    "df4"
   ]
  },
  {
   "cell_type": "code",
   "execution_count": 176,
   "metadata": {
    "colab": {
     "base_uri": "https://localhost:8080/"
    },
    "executionInfo": {
     "elapsed": 530,
     "status": "ok",
     "timestamp": 1607772303103,
     "user": {
      "displayName": "Luis DEL POZO",
      "photoUrl": "",
      "userId": "08297678491184687059"
     },
     "user_tz": -60
    },
    "id": "BW57zonUsWNG",
    "outputId": "463ae2d2-a1c1-4ac0-ab86-486fe1ec7fb0"
   },
   "outputs": [
    {
     "data": {
      "text/plain": [
       "b    63.432875\n",
       "d    46.454185\n",
       "e    39.648891\n",
       "dtype: float64"
      ]
     },
     "execution_count": 176,
     "metadata": {},
     "output_type": "execute_result"
    }
   ],
   "source": [
    "#Se aplica por columnas por defecto, si no hay que poner axis=1\n",
    "df4.apply(lambda series: series.max() - series.min())"
   ]
  },
  {
   "cell_type": "code",
   "execution_count": 177,
   "metadata": {},
   "outputs": [
    {
     "data": {
      "text/plain": [
       "B     7.671530\n",
       "M    49.779185\n",
       "P    33.899161\n",
       "Z    22.722545\n",
       "dtype: float64"
      ]
     },
     "execution_count": 177,
     "metadata": {},
     "output_type": "execute_result"
    }
   ],
   "source": [
    "df4.apply(lambda series: series.max() - series.min(),axis=1)"
   ]
  },
  {
   "cell_type": "code",
   "execution_count": 179,
   "metadata": {
    "colab": {
     "base_uri": "https://localhost:8080/",
     "height": 175
    },
    "executionInfo": {
     "elapsed": 571,
     "status": "ok",
     "timestamp": 1607772416226,
     "user": {
      "displayName": "Luis DEL POZO",
      "photoUrl": "",
      "userId": "08297678491184687059"
     },
     "user_tz": -60
    },
    "id": "429_Q2vDsmwG",
    "outputId": "2155c309-71b6-4218-ba8e-62a812320dbd"
   },
   "outputs": [
    {
     "data": {
      "text/html": [
       "<div>\n",
       "<style scoped>\n",
       "    .dataframe tbody tr th:only-of-type {\n",
       "        vertical-align: middle;\n",
       "    }\n",
       "\n",
       "    .dataframe tbody tr th {\n",
       "        vertical-align: top;\n",
       "    }\n",
       "\n",
       "    .dataframe thead th {\n",
       "        text-align: right;\n",
       "    }\n",
       "</style>\n",
       "<table border=\"1\" class=\"dataframe\">\n",
       "  <thead>\n",
       "    <tr style=\"text-align: right;\">\n",
       "      <th></th>\n",
       "      <th>b</th>\n",
       "      <th>d</th>\n",
       "      <th>e</th>\n",
       "    </tr>\n",
       "  </thead>\n",
       "  <tbody>\n",
       "    <tr>\n",
       "      <th>B</th>\n",
       "      <td>1.499138</td>\n",
       "      <td>1.758683</td>\n",
       "      <td>0.991530</td>\n",
       "    </tr>\n",
       "    <tr>\n",
       "      <th>M</th>\n",
       "      <td>-2.022683</td>\n",
       "      <td>2.006367</td>\n",
       "      <td>2.955236</td>\n",
       "    </tr>\n",
       "    <tr>\n",
       "      <th>P</th>\n",
       "      <td>0.792848</td>\n",
       "      <td>-2.597068</td>\n",
       "      <td>-0.269398</td>\n",
       "    </tr>\n",
       "    <tr>\n",
       "      <th>Z</th>\n",
       "      <td>4.320605</td>\n",
       "      <td>2.048350</td>\n",
       "      <td>3.695491</td>\n",
       "    </tr>\n",
       "  </tbody>\n",
       "</table>\n",
       "</div>"
      ],
      "text/plain": [
       "          b         d         e\n",
       "B  1.499138  1.758683  0.991530\n",
       "M -2.022683  2.006367  2.955236\n",
       "P  0.792848 -2.597068 -0.269398\n",
       "Z  4.320605  2.048350  3.695491"
      ]
     },
     "execution_count": 179,
     "metadata": {},
     "output_type": "execute_result"
    }
   ],
   "source": [
    "df4.applymap(lambda element: element/10)"
   ]
  },
  {
   "cell_type": "code",
   "execution_count": 180,
   "metadata": {
    "colab": {
     "base_uri": "https://localhost:8080/"
    },
    "executionInfo": {
     "elapsed": 901,
     "status": "ok",
     "timestamp": 1607772505349,
     "user": {
      "displayName": "Luis DEL POZO",
      "photoUrl": "",
      "userId": "08297678491184687059"
     },
     "user_tz": -60
    },
    "id": "cueEiCejtCYJ",
    "outputId": "bcfb5749-d643-4a24-f99b-d166476be56e"
   },
   "outputs": [
    {
     "data": {
      "text/plain": [
       "B     7.671530\n",
       "M    49.779185\n",
       "P    33.899161\n",
       "Z    22.722545\n",
       "dtype: float64"
      ]
     },
     "execution_count": 180,
     "metadata": {},
     "output_type": "execute_result"
    }
   ],
   "source": [
    "df4.apply(lambda series: series.max() - series.min(),axis=1)"
   ]
  },
  {
   "cell_type": "code",
   "execution_count": 181,
   "metadata": {
    "executionInfo": {
     "elapsed": 569,
     "status": "ok",
     "timestamp": 1607772790472,
     "user": {
      "displayName": "Luis DEL POZO",
      "photoUrl": "",
      "userId": "08297678491184687059"
     },
     "user_tz": -60
    },
    "id": "IK4Lht31tUPm"
   },
   "outputs": [],
   "source": [
    "def f(series):\n",
    "  return pd.Series([series.max()-series.min()],index=['result'])"
   ]
  },
  {
   "cell_type": "code",
   "execution_count": 182,
   "metadata": {
    "colab": {
     "base_uri": "https://localhost:8080/",
     "height": 81
    },
    "executionInfo": {
     "elapsed": 556,
     "status": "ok",
     "timestamp": 1607772791879,
     "user": {
      "displayName": "Luis DEL POZO",
      "photoUrl": "",
      "userId": "08297678491184687059"
     },
     "user_tz": -60
    },
    "id": "XdNmy6T0uJaA",
    "outputId": "55c3541e-23ad-411b-ee67-788b0012e57b"
   },
   "outputs": [
    {
     "data": {
      "text/html": [
       "<div>\n",
       "<style scoped>\n",
       "    .dataframe tbody tr th:only-of-type {\n",
       "        vertical-align: middle;\n",
       "    }\n",
       "\n",
       "    .dataframe tbody tr th {\n",
       "        vertical-align: top;\n",
       "    }\n",
       "\n",
       "    .dataframe thead th {\n",
       "        text-align: right;\n",
       "    }\n",
       "</style>\n",
       "<table border=\"1\" class=\"dataframe\">\n",
       "  <thead>\n",
       "    <tr style=\"text-align: right;\">\n",
       "      <th></th>\n",
       "      <th>b</th>\n",
       "      <th>d</th>\n",
       "      <th>e</th>\n",
       "    </tr>\n",
       "  </thead>\n",
       "  <tbody>\n",
       "    <tr>\n",
       "      <th>result</th>\n",
       "      <td>63.432875</td>\n",
       "      <td>46.454185</td>\n",
       "      <td>39.648891</td>\n",
       "    </tr>\n",
       "  </tbody>\n",
       "</table>\n",
       "</div>"
      ],
      "text/plain": [
       "                b          d          e\n",
       "result  63.432875  46.454185  39.648891"
      ]
     },
     "execution_count": 182,
     "metadata": {},
     "output_type": "execute_result"
    }
   ],
   "source": [
    "df4.apply(f)"
   ]
  },
  {
   "cell_type": "code",
   "execution_count": 183,
   "metadata": {
    "colab": {
     "base_uri": "https://localhost:8080/"
    },
    "executionInfo": {
     "elapsed": 557,
     "status": "ok",
     "timestamp": 1607772853739,
     "user": {
      "displayName": "Luis DEL POZO",
      "photoUrl": "",
      "userId": "08297678491184687059"
     },
     "user_tz": -60
    },
    "id": "1i7d570RuLdy",
    "outputId": "e2c76d61-f1cd-4102-ac8e-e2eff84420d8"
   },
   "outputs": [
    {
     "name": "stdout",
     "output_type": "stream",
     "text": [
      "('b', B    14.991376\n",
      "M   -20.226829\n",
      "P     7.928477\n",
      "Z    43.206046\n",
      "Name: b, dtype: float64)\n",
      "('d', B    17.586833\n",
      "M    20.063671\n",
      "P   -25.970684\n",
      "Z    20.483501\n",
      "Name: d, dtype: float64)\n",
      "('e', B     9.915303\n",
      "M    29.552356\n",
      "P    -2.693977\n",
      "Z    36.954914\n",
      "Name: e, dtype: float64)\n"
     ]
    }
   ],
   "source": [
    "for item in df4.items():\n",
    "  print(item)\n"
   ]
  },
  {
   "cell_type": "code",
   "execution_count": 184,
   "metadata": {
    "colab": {
     "base_uri": "https://localhost:8080/"
    },
    "executionInfo": {
     "elapsed": 544,
     "status": "ok",
     "timestamp": 1607772889778,
     "user": {
      "displayName": "Luis DEL POZO",
      "photoUrl": "",
      "userId": "08297678491184687059"
     },
     "user_tz": -60
    },
    "id": "0t2x0GRcuW6o",
    "outputId": "48146156-23dc-4e14-f7c1-35f535e25636"
   },
   "outputs": [
    {
     "name": "stdout",
     "output_type": "stream",
     "text": [
      "('b', B    14.991376\n",
      "M   -20.226829\n",
      "P     7.928477\n",
      "Z    43.206046\n",
      "Name: b, dtype: float64)\n",
      "('d', B    17.586833\n",
      "M    20.063671\n",
      "P   -25.970684\n",
      "Z    20.483501\n",
      "Name: d, dtype: float64)\n",
      "('e', B     9.915303\n",
      "M    29.552356\n",
      "P    -2.693977\n",
      "Z    36.954914\n",
      "Name: e, dtype: float64)\n"
     ]
    }
   ],
   "source": [
    "for item in df4.iteritems():\n",
    "  print(item)"
   ]
  },
  {
   "cell_type": "code",
   "execution_count": 185,
   "metadata": {
    "colab": {
     "base_uri": "https://localhost:8080/",
     "height": 175
    },
    "executionInfo": {
     "elapsed": 597,
     "status": "ok",
     "timestamp": 1607772929296,
     "user": {
      "displayName": "Luis DEL POZO",
      "photoUrl": "",
      "userId": "08297678491184687059"
     },
     "user_tz": -60
    },
    "id": "VwRCEZr_u1_Z",
    "outputId": "ba4abb33-f039-4c6e-f8af-99e5d3b53c08"
   },
   "outputs": [
    {
     "data": {
      "text/html": [
       "<div>\n",
       "<style scoped>\n",
       "    .dataframe tbody tr th:only-of-type {\n",
       "        vertical-align: middle;\n",
       "    }\n",
       "\n",
       "    .dataframe tbody tr th {\n",
       "        vertical-align: top;\n",
       "    }\n",
       "\n",
       "    .dataframe thead th {\n",
       "        text-align: right;\n",
       "    }\n",
       "</style>\n",
       "<table border=\"1\" class=\"dataframe\">\n",
       "  <thead>\n",
       "    <tr style=\"text-align: right;\">\n",
       "      <th></th>\n",
       "      <th>b</th>\n",
       "      <th>d</th>\n",
       "      <th>e</th>\n",
       "    </tr>\n",
       "  </thead>\n",
       "  <tbody>\n",
       "    <tr>\n",
       "      <th>B</th>\n",
       "      <td>14.991376</td>\n",
       "      <td>17.586833</td>\n",
       "      <td>9.915303</td>\n",
       "    </tr>\n",
       "    <tr>\n",
       "      <th>M</th>\n",
       "      <td>-20.226829</td>\n",
       "      <td>20.063671</td>\n",
       "      <td>29.552356</td>\n",
       "    </tr>\n",
       "    <tr>\n",
       "      <th>P</th>\n",
       "      <td>7.928477</td>\n",
       "      <td>-25.970684</td>\n",
       "      <td>-2.693977</td>\n",
       "    </tr>\n",
       "    <tr>\n",
       "      <th>Z</th>\n",
       "      <td>43.206046</td>\n",
       "      <td>20.483501</td>\n",
       "      <td>36.954914</td>\n",
       "    </tr>\n",
       "  </tbody>\n",
       "</table>\n",
       "</div>"
      ],
      "text/plain": [
       "           b          d          e\n",
       "B  14.991376  17.586833   9.915303\n",
       "M -20.226829  20.063671  29.552356\n",
       "P   7.928477 -25.970684  -2.693977\n",
       "Z  43.206046  20.483501  36.954914"
      ]
     },
     "execution_count": 185,
     "metadata": {},
     "output_type": "execute_result"
    }
   ],
   "source": [
    "df4"
   ]
  },
  {
   "cell_type": "code",
   "execution_count": 186,
   "metadata": {
    "colab": {
     "base_uri": "https://localhost:8080/",
     "height": 175
    },
    "executionInfo": {
     "elapsed": 508,
     "status": "ok",
     "timestamp": 1607772965738,
     "user": {
      "displayName": "Luis DEL POZO",
      "photoUrl": "",
      "userId": "08297678491184687059"
     },
     "user_tz": -60
    },
    "id": "AkTWDOsKu_i2",
    "outputId": "fafd42cd-64d1-4c72-f606-1302e6ce6ab9"
   },
   "outputs": [
    {
     "data": {
      "text/html": [
       "<div>\n",
       "<style scoped>\n",
       "    .dataframe tbody tr th:only-of-type {\n",
       "        vertical-align: middle;\n",
       "    }\n",
       "\n",
       "    .dataframe tbody tr th {\n",
       "        vertical-align: top;\n",
       "    }\n",
       "\n",
       "    .dataframe thead th {\n",
       "        text-align: right;\n",
       "    }\n",
       "</style>\n",
       "<table border=\"1\" class=\"dataframe\">\n",
       "  <thead>\n",
       "    <tr style=\"text-align: right;\">\n",
       "      <th></th>\n",
       "      <th>b</th>\n",
       "      <th>d</th>\n",
       "      <th>e</th>\n",
       "    </tr>\n",
       "  </thead>\n",
       "  <tbody>\n",
       "    <tr>\n",
       "      <th>B</th>\n",
       "      <td>14.991376</td>\n",
       "      <td>17.586833</td>\n",
       "      <td>9.915303</td>\n",
       "    </tr>\n",
       "    <tr>\n",
       "      <th>M</th>\n",
       "      <td>-20.226829</td>\n",
       "      <td>20.063671</td>\n",
       "      <td>29.552356</td>\n",
       "    </tr>\n",
       "    <tr>\n",
       "      <th>P</th>\n",
       "      <td>7.928477</td>\n",
       "      <td>-25.970684</td>\n",
       "      <td>-2.693977</td>\n",
       "    </tr>\n",
       "    <tr>\n",
       "      <th>Z</th>\n",
       "      <td>43.206046</td>\n",
       "      <td>20.483501</td>\n",
       "      <td>36.954914</td>\n",
       "    </tr>\n",
       "  </tbody>\n",
       "</table>\n",
       "</div>"
      ],
      "text/plain": [
       "           b          d          e\n",
       "B  14.991376  17.586833   9.915303\n",
       "M -20.226829  20.063671  29.552356\n",
       "P   7.928477 -25.970684  -2.693977\n",
       "Z  43.206046  20.483501  36.954914"
      ]
     },
     "execution_count": 186,
     "metadata": {},
     "output_type": "execute_result"
    }
   ],
   "source": [
    "df4.sort_index(ascending=True)"
   ]
  },
  {
   "cell_type": "code",
   "execution_count": 187,
   "metadata": {
    "colab": {
     "base_uri": "https://localhost:8080/",
     "height": 175
    },
    "executionInfo": {
     "elapsed": 466,
     "status": "ok",
     "timestamp": 1607772977331,
     "user": {
      "displayName": "Luis DEL POZO",
      "photoUrl": "",
      "userId": "08297678491184687059"
     },
     "user_tz": -60
    },
    "id": "ak88mURpvIjN",
    "outputId": "3354aca2-24c8-4331-ccdd-16b035c04b9b"
   },
   "outputs": [
    {
     "data": {
      "text/html": [
       "<div>\n",
       "<style scoped>\n",
       "    .dataframe tbody tr th:only-of-type {\n",
       "        vertical-align: middle;\n",
       "    }\n",
       "\n",
       "    .dataframe tbody tr th {\n",
       "        vertical-align: top;\n",
       "    }\n",
       "\n",
       "    .dataframe thead th {\n",
       "        text-align: right;\n",
       "    }\n",
       "</style>\n",
       "<table border=\"1\" class=\"dataframe\">\n",
       "  <thead>\n",
       "    <tr style=\"text-align: right;\">\n",
       "      <th></th>\n",
       "      <th>b</th>\n",
       "      <th>d</th>\n",
       "      <th>e</th>\n",
       "    </tr>\n",
       "  </thead>\n",
       "  <tbody>\n",
       "    <tr>\n",
       "      <th>Z</th>\n",
       "      <td>43.206046</td>\n",
       "      <td>20.483501</td>\n",
       "      <td>36.954914</td>\n",
       "    </tr>\n",
       "    <tr>\n",
       "      <th>P</th>\n",
       "      <td>7.928477</td>\n",
       "      <td>-25.970684</td>\n",
       "      <td>-2.693977</td>\n",
       "    </tr>\n",
       "    <tr>\n",
       "      <th>M</th>\n",
       "      <td>-20.226829</td>\n",
       "      <td>20.063671</td>\n",
       "      <td>29.552356</td>\n",
       "    </tr>\n",
       "    <tr>\n",
       "      <th>B</th>\n",
       "      <td>14.991376</td>\n",
       "      <td>17.586833</td>\n",
       "      <td>9.915303</td>\n",
       "    </tr>\n",
       "  </tbody>\n",
       "</table>\n",
       "</div>"
      ],
      "text/plain": [
       "           b          d          e\n",
       "Z  43.206046  20.483501  36.954914\n",
       "P   7.928477 -25.970684  -2.693977\n",
       "M -20.226829  20.063671  29.552356\n",
       "B  14.991376  17.586833   9.915303"
      ]
     },
     "execution_count": 187,
     "metadata": {},
     "output_type": "execute_result"
    }
   ],
   "source": [
    "df4.sort_index(ascending=False)"
   ]
  },
  {
   "cell_type": "code",
   "execution_count": 188,
   "metadata": {
    "colab": {
     "base_uri": "https://localhost:8080/",
     "height": 175
    },
    "executionInfo": {
     "elapsed": 523,
     "status": "ok",
     "timestamp": 1607773010366,
     "user": {
      "displayName": "Luis DEL POZO",
      "photoUrl": "",
      "userId": "08297678491184687059"
     },
     "user_tz": -60
    },
    "id": "uyeRtnevvLZd",
    "outputId": "2c71de93-2b47-4d80-e9d5-45ac3e4a2373"
   },
   "outputs": [
    {
     "data": {
      "text/html": [
       "<div>\n",
       "<style scoped>\n",
       "    .dataframe tbody tr th:only-of-type {\n",
       "        vertical-align: middle;\n",
       "    }\n",
       "\n",
       "    .dataframe tbody tr th {\n",
       "        vertical-align: top;\n",
       "    }\n",
       "\n",
       "    .dataframe thead th {\n",
       "        text-align: right;\n",
       "    }\n",
       "</style>\n",
       "<table border=\"1\" class=\"dataframe\">\n",
       "  <thead>\n",
       "    <tr style=\"text-align: right;\">\n",
       "      <th></th>\n",
       "      <th>e</th>\n",
       "      <th>d</th>\n",
       "      <th>b</th>\n",
       "    </tr>\n",
       "  </thead>\n",
       "  <tbody>\n",
       "    <tr>\n",
       "      <th>B</th>\n",
       "      <td>9.915303</td>\n",
       "      <td>17.586833</td>\n",
       "      <td>14.991376</td>\n",
       "    </tr>\n",
       "    <tr>\n",
       "      <th>M</th>\n",
       "      <td>29.552356</td>\n",
       "      <td>20.063671</td>\n",
       "      <td>-20.226829</td>\n",
       "    </tr>\n",
       "    <tr>\n",
       "      <th>P</th>\n",
       "      <td>-2.693977</td>\n",
       "      <td>-25.970684</td>\n",
       "      <td>7.928477</td>\n",
       "    </tr>\n",
       "    <tr>\n",
       "      <th>Z</th>\n",
       "      <td>36.954914</td>\n",
       "      <td>20.483501</td>\n",
       "      <td>43.206046</td>\n",
       "    </tr>\n",
       "  </tbody>\n",
       "</table>\n",
       "</div>"
      ],
      "text/plain": [
       "           e          d          b\n",
       "B   9.915303  17.586833  14.991376\n",
       "M  29.552356  20.063671 -20.226829\n",
       "P  -2.693977 -25.970684   7.928477\n",
       "Z  36.954914  20.483501  43.206046"
      ]
     },
     "execution_count": 188,
     "metadata": {},
     "output_type": "execute_result"
    }
   ],
   "source": [
    "df4.sort_index(ascending=False, axis=1)"
   ]
  },
  {
   "cell_type": "code",
   "execution_count": 189,
   "metadata": {
    "colab": {
     "base_uri": "https://localhost:8080/",
     "height": 175
    },
    "executionInfo": {
     "elapsed": 555,
     "status": "ok",
     "timestamp": 1607773052928,
     "user": {
      "displayName": "Luis DEL POZO",
      "photoUrl": "",
      "userId": "08297678491184687059"
     },
     "user_tz": -60
    },
    "id": "Epz3rPP7vTcP",
    "outputId": "6103001e-7075-4f69-849a-f651d803bfd5"
   },
   "outputs": [
    {
     "data": {
      "text/html": [
       "<div>\n",
       "<style scoped>\n",
       "    .dataframe tbody tr th:only-of-type {\n",
       "        vertical-align: middle;\n",
       "    }\n",
       "\n",
       "    .dataframe tbody tr th {\n",
       "        vertical-align: top;\n",
       "    }\n",
       "\n",
       "    .dataframe thead th {\n",
       "        text-align: right;\n",
       "    }\n",
       "</style>\n",
       "<table border=\"1\" class=\"dataframe\">\n",
       "  <thead>\n",
       "    <tr style=\"text-align: right;\">\n",
       "      <th></th>\n",
       "      <th>b</th>\n",
       "      <th>d</th>\n",
       "      <th>e</th>\n",
       "    </tr>\n",
       "  </thead>\n",
       "  <tbody>\n",
       "    <tr>\n",
       "      <th>P</th>\n",
       "      <td>7.928477</td>\n",
       "      <td>-25.970684</td>\n",
       "      <td>-2.693977</td>\n",
       "    </tr>\n",
       "    <tr>\n",
       "      <th>B</th>\n",
       "      <td>14.991376</td>\n",
       "      <td>17.586833</td>\n",
       "      <td>9.915303</td>\n",
       "    </tr>\n",
       "    <tr>\n",
       "      <th>M</th>\n",
       "      <td>-20.226829</td>\n",
       "      <td>20.063671</td>\n",
       "      <td>29.552356</td>\n",
       "    </tr>\n",
       "    <tr>\n",
       "      <th>Z</th>\n",
       "      <td>43.206046</td>\n",
       "      <td>20.483501</td>\n",
       "      <td>36.954914</td>\n",
       "    </tr>\n",
       "  </tbody>\n",
       "</table>\n",
       "</div>"
      ],
      "text/plain": [
       "           b          d          e\n",
       "P   7.928477 -25.970684  -2.693977\n",
       "B  14.991376  17.586833   9.915303\n",
       "M -20.226829  20.063671  29.552356\n",
       "Z  43.206046  20.483501  36.954914"
      ]
     },
     "execution_count": 189,
     "metadata": {},
     "output_type": "execute_result"
    }
   ],
   "source": [
    "df4.sort_values(by='e')"
   ]
  },
  {
   "cell_type": "code",
   "execution_count": 190,
   "metadata": {
    "colab": {
     "base_uri": "https://localhost:8080/",
     "height": 175
    },
    "executionInfo": {
     "elapsed": 585,
     "status": "ok",
     "timestamp": 1607773098020,
     "user": {
      "displayName": "Luis DEL POZO",
      "photoUrl": "",
      "userId": "08297678491184687059"
     },
     "user_tz": -60
    },
    "id": "XyPtTBRwvd0J",
    "outputId": "642ca5a2-ce07-4e2b-a892-8840a562bd73"
   },
   "outputs": [
    {
     "data": {
      "text/html": [
       "<div>\n",
       "<style scoped>\n",
       "    .dataframe tbody tr th:only-of-type {\n",
       "        vertical-align: middle;\n",
       "    }\n",
       "\n",
       "    .dataframe tbody tr th {\n",
       "        vertical-align: top;\n",
       "    }\n",
       "\n",
       "    .dataframe thead th {\n",
       "        text-align: right;\n",
       "    }\n",
       "</style>\n",
       "<table border=\"1\" class=\"dataframe\">\n",
       "  <thead>\n",
       "    <tr style=\"text-align: right;\">\n",
       "      <th></th>\n",
       "      <th>b</th>\n",
       "      <th>d</th>\n",
       "      <th>e</th>\n",
       "    </tr>\n",
       "  </thead>\n",
       "  <tbody>\n",
       "    <tr>\n",
       "      <th>P</th>\n",
       "      <td>7.928477</td>\n",
       "      <td>-25.970684</td>\n",
       "      <td>-2.693977</td>\n",
       "    </tr>\n",
       "    <tr>\n",
       "      <th>B</th>\n",
       "      <td>14.991376</td>\n",
       "      <td>17.586833</td>\n",
       "      <td>9.915303</td>\n",
       "    </tr>\n",
       "    <tr>\n",
       "      <th>M</th>\n",
       "      <td>-20.226829</td>\n",
       "      <td>20.063671</td>\n",
       "      <td>29.552356</td>\n",
       "    </tr>\n",
       "    <tr>\n",
       "      <th>Z</th>\n",
       "      <td>43.206046</td>\n",
       "      <td>20.483501</td>\n",
       "      <td>36.954914</td>\n",
       "    </tr>\n",
       "  </tbody>\n",
       "</table>\n",
       "</div>"
      ],
      "text/plain": [
       "           b          d          e\n",
       "P   7.928477 -25.970684  -2.693977\n",
       "B  14.991376  17.586833   9.915303\n",
       "M -20.226829  20.063671  29.552356\n",
       "Z  43.206046  20.483501  36.954914"
      ]
     },
     "execution_count": 190,
     "metadata": {},
     "output_type": "execute_result"
    }
   ],
   "source": [
    "df4.sort_values(by=['e','d'])"
   ]
  },
  {
   "cell_type": "code",
   "execution_count": 191,
   "metadata": {
    "executionInfo": {
     "elapsed": 1057,
     "status": "ok",
     "timestamp": 1607773151723,
     "user": {
      "displayName": "Luis DEL POZO",
      "photoUrl": "",
      "userId": "08297678491184687059"
     },
     "user_tz": -60
    },
    "id": "W7B6SXVYvo1F"
   },
   "outputs": [],
   "source": [
    "s10 = pd.Series([2,3,8,4,3,2,1],index=list('abcdefg'))"
   ]
  },
  {
   "cell_type": "code",
   "execution_count": 192,
   "metadata": {
    "colab": {
     "base_uri": "https://localhost:8080/"
    },
    "executionInfo": {
     "elapsed": 969,
     "status": "ok",
     "timestamp": 1607773163262,
     "user": {
      "displayName": "Luis DEL POZO",
      "photoUrl": "",
      "userId": "08297678491184687059"
     },
     "user_tz": -60
    },
    "id": "X4E35JGSv10c",
    "outputId": "8eec7873-9d51-47bd-d3db-f3c35f8e60d0"
   },
   "outputs": [
    {
     "data": {
      "text/plain": [
       "a    2\n",
       "b    3\n",
       "c    8\n",
       "d    4\n",
       "e    3\n",
       "f    2\n",
       "g    1\n",
       "dtype: int64"
      ]
     },
     "execution_count": 192,
     "metadata": {},
     "output_type": "execute_result"
    }
   ],
   "source": [
    "s10"
   ]
  },
  {
   "cell_type": "code",
   "execution_count": 195,
   "metadata": {
    "colab": {
     "base_uri": "https://localhost:8080/"
    },
    "executionInfo": {
     "elapsed": 1355,
     "status": "ok",
     "timestamp": 1607773180194,
     "user": {
      "displayName": "Luis DEL POZO",
      "photoUrl": "",
      "userId": "08297678491184687059"
     },
     "user_tz": -60
    },
    "id": "fByXaSu1v4qf",
    "outputId": "2d84990f-9bb6-465b-c0e6-97cff33221ef"
   },
   "outputs": [
    {
     "data": {
      "text/plain": [
       "g    1\n",
       "a    2\n",
       "f    2\n",
       "b    3\n",
       "e    3\n",
       "d    4\n",
       "c    8\n",
       "dtype: int64"
      ]
     },
     "execution_count": 195,
     "metadata": {},
     "output_type": "execute_result"
    }
   ],
   "source": [
    "s10.sort_values()"
   ]
  },
  {
   "cell_type": "code",
   "execution_count": 196,
   "metadata": {
    "colab": {
     "base_uri": "https://localhost:8080/"
    },
    "executionInfo": {
     "elapsed": 603,
     "status": "ok",
     "timestamp": 1607773274033,
     "user": {
      "displayName": "Luis DEL POZO",
      "photoUrl": "",
      "userId": "08297678491184687059"
     },
     "user_tz": -60
    },
    "id": "ZFxSmNQqv8sg",
    "outputId": "66742000-fbf3-47d7-814f-c3c8f8c943e5"
   },
   "outputs": [
    {
     "data": {
      "text/plain": [
       "a    2.5\n",
       "b    4.5\n",
       "c    7.0\n",
       "d    6.0\n",
       "e    4.5\n",
       "f    2.5\n",
       "g    1.0\n",
       "dtype: float64"
      ]
     },
     "execution_count": 196,
     "metadata": {},
     "output_type": "execute_result"
    }
   ],
   "source": [
    "s10.rank()"
   ]
  },
  {
   "cell_type": "code",
   "execution_count": 197,
   "metadata": {
    "colab": {
     "base_uri": "https://localhost:8080/"
    },
    "executionInfo": {
     "elapsed": 519,
     "status": "ok",
     "timestamp": 1607773301009,
     "user": {
      "displayName": "Luis DEL POZO",
      "photoUrl": "",
      "userId": "08297678491184687059"
     },
     "user_tz": -60
    },
    "id": "hILRt8RMv_n1",
    "outputId": "7a61cd14-b11c-4a17-d8bb-256558fc0cc3"
   },
   "outputs": [
    {
     "data": {
      "text/plain": [
       "0    2.0\n",
       "1    2.0\n",
       "2    2.0\n",
       "dtype: float64"
      ]
     },
     "execution_count": 197,
     "metadata": {},
     "output_type": "execute_result"
    }
   ],
   "source": [
    "pd.Series([1,1,1]).rank()"
   ]
  },
  {
   "cell_type": "code",
   "execution_count": 198,
   "metadata": {
    "executionInfo": {
     "elapsed": 1246,
     "status": "ok",
     "timestamp": 1607774317627,
     "user": {
      "displayName": "Luis DEL POZO",
      "photoUrl": "",
      "userId": "08297678491184687059"
     },
     "user_tz": -60
    },
    "id": "SECRu1vLwaaQ"
   },
   "outputs": [],
   "source": [
    "salaries = pd.Series([150000,90000,120000,30000,10000,5000,40000,50000,80000,35000,27000,14000])"
   ]
  },
  {
   "cell_type": "code",
   "execution_count": 199,
   "metadata": {
    "colab": {
     "base_uri": "https://localhost:8080/"
    },
    "executionInfo": {
     "elapsed": 588,
     "status": "ok",
     "timestamp": 1607774322097,
     "user": {
      "displayName": "Luis DEL POZO",
      "photoUrl": "",
      "userId": "08297678491184687059"
     },
     "user_tz": -60
    },
    "id": "LDh9mhHCyEMA",
    "outputId": "12860e95-1e01-4063-9689-62bb8f41be31"
   },
   "outputs": [
    {
     "data": {
      "text/plain": [
       "0     150000\n",
       "1      90000\n",
       "2     120000\n",
       "3      30000\n",
       "4      10000\n",
       "5       5000\n",
       "6      40000\n",
       "7      50000\n",
       "8      80000\n",
       "9      35000\n",
       "10     27000\n",
       "11     14000\n",
       "dtype: int64"
      ]
     },
     "execution_count": 199,
     "metadata": {},
     "output_type": "execute_result"
    }
   ],
   "source": [
    "salaries"
   ]
  },
  {
   "cell_type": "code",
   "execution_count": 201,
   "metadata": {
    "executionInfo": {
     "elapsed": 552,
     "status": "ok",
     "timestamp": 1607774328804,
     "user": {
      "displayName": "Luis DEL POZO",
      "photoUrl": "",
      "userId": "08297678491184687059"
     },
     "user_tz": -60
    },
    "id": "JzTRpjaIw5sF"
   },
   "outputs": [],
   "source": [
    "salaries_sort = salaries.sort_values(ascending=False)"
   ]
  },
  {
   "cell_type": "code",
   "execution_count": 202,
   "metadata": {
    "colab": {
     "base_uri": "https://localhost:8080/"
    },
    "executionInfo": {
     "elapsed": 565,
     "status": "ok",
     "timestamp": 1607774334570,
     "user": {
      "displayName": "Luis DEL POZO",
      "photoUrl": "",
      "userId": "08297678491184687059"
     },
     "user_tz": -60
    },
    "id": "0F3HsW9HxFNE",
    "outputId": "89af75c7-20d5-4a52-991d-9f12a41ebca2"
   },
   "outputs": [
    {
     "data": {
      "text/plain": [
       "0     150000\n",
       "2     120000\n",
       "1      90000\n",
       "8      80000\n",
       "7      50000\n",
       "6      40000\n",
       "9      35000\n",
       "3      30000\n",
       "10     27000\n",
       "11     14000\n",
       "dtype: int64"
      ]
     },
     "execution_count": 202,
     "metadata": {},
     "output_type": "execute_result"
    }
   ],
   "source": [
    "salaries_sort[0:10]"
   ]
  },
  {
   "cell_type": "code",
   "execution_count": 203,
   "metadata": {
    "executionInfo": {
     "elapsed": 604,
     "status": "ok",
     "timestamp": 1607774345058,
     "user": {
      "displayName": "Luis DEL POZO",
      "photoUrl": "",
      "userId": "08297678491184687059"
     },
     "user_tz": -60
    },
    "id": "UQQ5M5JqxSTU"
   },
   "outputs": [],
   "source": [
    "salaries_10max = salaries_sort[0:10]"
   ]
  },
  {
   "cell_type": "code",
   "execution_count": 204,
   "metadata": {
    "colab": {
     "base_uri": "https://localhost:8080/"
    },
    "executionInfo": {
     "elapsed": 594,
     "status": "ok",
     "timestamp": 1607774355993,
     "user": {
      "displayName": "Luis DEL POZO",
      "photoUrl": "",
      "userId": "08297678491184687059"
     },
     "user_tz": -60
    },
    "id": "yaELr-uyx1Go",
    "outputId": "c5fd1842-1d91-4929-ff87-98421f92cca3"
   },
   "outputs": [
    {
     "data": {
      "text/plain": [
       "pandas.core.series.Series"
      ]
     },
     "execution_count": 204,
     "metadata": {},
     "output_type": "execute_result"
    }
   ],
   "source": [
    "type(salaries_10max)"
   ]
  },
  {
   "cell_type": "code",
   "execution_count": 205,
   "metadata": {
    "colab": {
     "base_uri": "https://localhost:8080/"
    },
    "executionInfo": {
     "elapsed": 596,
     "status": "ok",
     "timestamp": 1607774360065,
     "user": {
      "displayName": "Luis DEL POZO",
      "photoUrl": "",
      "userId": "08297678491184687059"
     },
     "user_tz": -60
    },
    "id": "4VCzfbN7x4_z",
    "outputId": "55c9dea9-6752-4362-9cd0-a1a0fd96dd11"
   },
   "outputs": [
    {
     "data": {
      "text/plain": [
       "0     150000\n",
       "2     120000\n",
       "1      90000\n",
       "8      80000\n",
       "7      50000\n",
       "6      40000\n",
       "9      35000\n",
       "3      30000\n",
       "10     27000\n",
       "11     14000\n",
       "dtype: int64"
      ]
     },
     "execution_count": 205,
     "metadata": {},
     "output_type": "execute_result"
    }
   ],
   "source": [
    "salaries_10max"
   ]
  },
  {
   "cell_type": "code",
   "execution_count": 206,
   "metadata": {
    "colab": {
     "base_uri": "https://localhost:8080/"
    },
    "executionInfo": {
     "elapsed": 564,
     "status": "ok",
     "timestamp": 1607774365012,
     "user": {
      "displayName": "Luis DEL POZO",
      "photoUrl": "",
      "userId": "08297678491184687059"
     },
     "user_tz": -60
    },
    "id": "NIp_bGOpx74U",
    "outputId": "ba34a8d7-c46a-4416-e011-04a8a962147e"
   },
   "outputs": [
    {
     "data": {
      "text/plain": [
       "12"
      ]
     },
     "execution_count": 206,
     "metadata": {},
     "output_type": "execute_result"
    }
   ],
   "source": [
    "len(salaries_sort)"
   ]
  },
  {
   "cell_type": "code",
   "execution_count": 208,
   "metadata": {
    "colab": {
     "base_uri": "https://localhost:8080/"
    },
    "executionInfo": {
     "elapsed": 561,
     "status": "ok",
     "timestamp": 1607774836162,
     "user": {
      "displayName": "Luis DEL POZO",
      "photoUrl": "",
      "userId": "08297678491184687059"
     },
     "user_tz": -60
    },
    "id": "1od2RLtmygzq",
    "outputId": "b6f3ecd1-6f05-44ab-c70d-40d49ddffbac"
   },
   "outputs": [
    {
     "data": {
      "text/plain": [
       "0    150000\n",
       "dtype: int64"
      ]
     },
     "execution_count": 208,
     "metadata": {},
     "output_type": "execute_result"
    }
   ],
   "source": [
    "def top_earners(salaries):\n",
    "  number_to_extract = round(len(salaries) / 10)\n",
    "  return salaries.sort_values()[-number_to_extract:]\n",
    "\n",
    "top_earners(salaries)"
   ]
  },
  {
   "cell_type": "code",
   "execution_count": 209,
   "metadata": {
    "colab": {
     "base_uri": "https://localhost:8080/"
    },
    "executionInfo": {
     "elapsed": 542,
     "status": "ok",
     "timestamp": 1607774862870,
     "user": {
      "displayName": "Luis DEL POZO",
      "photoUrl": "",
      "userId": "08297678491184687059"
     },
     "user_tz": -60
    },
    "id": "xAbNPjtgzLET",
    "outputId": "812f17e8-4010-46b5-9695-4bb67190d54a"
   },
   "outputs": [
    {
     "name": "stdout",
     "output_type": "stream",
     "text": [
      "0    150000\n",
      "1     90000\n",
      "2    120000\n",
      "dtype: int64\n"
     ]
    }
   ],
   "source": [
    "def top_earners(salaries,percentile=0.9):\n",
    "  is_top_earnears = salaries.rank(pct=True) > percentile\n",
    "  return salaries[is_top_earnears]\n",
    "\n",
    "print(top_earners(salaries,.8))"
   ]
  },
  {
   "cell_type": "code",
   "execution_count": 210,
   "metadata": {
    "executionInfo": {
     "elapsed": 579,
     "status": "ok",
     "timestamp": 1607774595556,
     "user": {
      "displayName": "Luis DEL POZO",
      "photoUrl": "",
      "userId": "08297678491184687059"
     },
     "user_tz": -60
    },
    "id": "ydkamJdO0ICR"
   },
   "outputs": [],
   "source": [
    "x = pd.Series([1.2,np.nan,4,np.nan,9], index = list('abcde'))\n",
    "y = pd.Series([5,3,7,np.nan,14], index = list('abcde'))"
   ]
  },
  {
   "cell_type": "code",
   "execution_count": 211,
   "metadata": {
    "executionInfo": {
     "elapsed": 587,
     "status": "ok",
     "timestamp": 1607774655764,
     "user": {
      "displayName": "Luis DEL POZO",
      "photoUrl": "",
      "userId": "08297678491184687059"
     },
     "user_tz": -60
    },
    "id": "pQV6HvhT1MUK"
   },
   "outputs": [],
   "source": [
    "df = pd.DataFrame([x,y], index=['x','y'])"
   ]
  },
  {
   "cell_type": "code",
   "execution_count": 212,
   "metadata": {
    "colab": {
     "base_uri": "https://localhost:8080/",
     "height": 112
    },
    "executionInfo": {
     "elapsed": 707,
     "status": "ok",
     "timestamp": 1607774661774,
     "user": {
      "displayName": "Luis DEL POZO",
      "photoUrl": "",
      "userId": "08297678491184687059"
     },
     "user_tz": -60
    },
    "id": "Bb_HODhW1eY6",
    "outputId": "5d7e0c48-ecc7-44ca-c746-718112b686ed"
   },
   "outputs": [
    {
     "data": {
      "text/html": [
       "<div>\n",
       "<style scoped>\n",
       "    .dataframe tbody tr th:only-of-type {\n",
       "        vertical-align: middle;\n",
       "    }\n",
       "\n",
       "    .dataframe tbody tr th {\n",
       "        vertical-align: top;\n",
       "    }\n",
       "\n",
       "    .dataframe thead th {\n",
       "        text-align: right;\n",
       "    }\n",
       "</style>\n",
       "<table border=\"1\" class=\"dataframe\">\n",
       "  <thead>\n",
       "    <tr style=\"text-align: right;\">\n",
       "      <th></th>\n",
       "      <th>a</th>\n",
       "      <th>b</th>\n",
       "      <th>c</th>\n",
       "      <th>d</th>\n",
       "      <th>e</th>\n",
       "    </tr>\n",
       "  </thead>\n",
       "  <tbody>\n",
       "    <tr>\n",
       "      <th>x</th>\n",
       "      <td>1.2</td>\n",
       "      <td>NaN</td>\n",
       "      <td>4.0</td>\n",
       "      <td>NaN</td>\n",
       "      <td>9.0</td>\n",
       "    </tr>\n",
       "    <tr>\n",
       "      <th>y</th>\n",
       "      <td>5.0</td>\n",
       "      <td>3.0</td>\n",
       "      <td>7.0</td>\n",
       "      <td>NaN</td>\n",
       "      <td>14.0</td>\n",
       "    </tr>\n",
       "  </tbody>\n",
       "</table>\n",
       "</div>"
      ],
      "text/plain": [
       "     a    b    c   d     e\n",
       "x  1.2  NaN  4.0 NaN   9.0\n",
       "y  5.0  3.0  7.0 NaN  14.0"
      ]
     },
     "execution_count": 212,
     "metadata": {},
     "output_type": "execute_result"
    }
   ],
   "source": [
    "df"
   ]
  },
  {
   "cell_type": "code",
   "execution_count": 213,
   "metadata": {
    "executionInfo": {
     "elapsed": 532,
     "status": "ok",
     "timestamp": 1607774706343,
     "user": {
      "displayName": "Luis DEL POZO",
      "photoUrl": "",
      "userId": "08297678491184687059"
     },
     "user_tz": -60
    },
    "id": "Ch6cs9aM1mdI"
   },
   "outputs": [],
   "source": [
    "df = pd.DataFrame([x,y], index=['x','y']).T"
   ]
  },
  {
   "cell_type": "code",
   "execution_count": 214,
   "metadata": {
    "colab": {
     "base_uri": "https://localhost:8080/",
     "height": 206
    },
    "executionInfo": {
     "elapsed": 625,
     "status": "ok",
     "timestamp": 1607774709580,
     "user": {
      "displayName": "Luis DEL POZO",
      "photoUrl": "",
      "userId": "08297678491184687059"
     },
     "user_tz": -60
    },
    "id": "oz8nWrJt1xfn",
    "outputId": "0f331ce8-7dc7-4d2f-8697-583a8257e1de"
   },
   "outputs": [
    {
     "data": {
      "text/html": [
       "<div>\n",
       "<style scoped>\n",
       "    .dataframe tbody tr th:only-of-type {\n",
       "        vertical-align: middle;\n",
       "    }\n",
       "\n",
       "    .dataframe tbody tr th {\n",
       "        vertical-align: top;\n",
       "    }\n",
       "\n",
       "    .dataframe thead th {\n",
       "        text-align: right;\n",
       "    }\n",
       "</style>\n",
       "<table border=\"1\" class=\"dataframe\">\n",
       "  <thead>\n",
       "    <tr style=\"text-align: right;\">\n",
       "      <th></th>\n",
       "      <th>x</th>\n",
       "      <th>y</th>\n",
       "    </tr>\n",
       "  </thead>\n",
       "  <tbody>\n",
       "    <tr>\n",
       "      <th>a</th>\n",
       "      <td>1.2</td>\n",
       "      <td>5.0</td>\n",
       "    </tr>\n",
       "    <tr>\n",
       "      <th>b</th>\n",
       "      <td>NaN</td>\n",
       "      <td>3.0</td>\n",
       "    </tr>\n",
       "    <tr>\n",
       "      <th>c</th>\n",
       "      <td>4.0</td>\n",
       "      <td>7.0</td>\n",
       "    </tr>\n",
       "    <tr>\n",
       "      <th>d</th>\n",
       "      <td>NaN</td>\n",
       "      <td>NaN</td>\n",
       "    </tr>\n",
       "    <tr>\n",
       "      <th>e</th>\n",
       "      <td>9.0</td>\n",
       "      <td>14.0</td>\n",
       "    </tr>\n",
       "  </tbody>\n",
       "</table>\n",
       "</div>"
      ],
      "text/plain": [
       "     x     y\n",
       "a  1.2   5.0\n",
       "b  NaN   3.0\n",
       "c  4.0   7.0\n",
       "d  NaN   NaN\n",
       "e  9.0  14.0"
      ]
     },
     "execution_count": 214,
     "metadata": {},
     "output_type": "execute_result"
    }
   ],
   "source": [
    "df"
   ]
  },
  {
   "cell_type": "code",
   "execution_count": 215,
   "metadata": {
    "colab": {
     "base_uri": "https://localhost:8080/"
    },
    "executionInfo": {
     "elapsed": 538,
     "status": "ok",
     "timestamp": 1607774789113,
     "user": {
      "displayName": "Luis DEL POZO",
      "photoUrl": "",
      "userId": "08297678491184687059"
     },
     "user_tz": -60
    },
    "id": "A4jg1i6-1yMU",
    "outputId": "5fc721f8-c49b-46ef-c4cf-3e791b0b733c"
   },
   "outputs": [
    {
     "data": {
      "text/plain": [
       "x    14.2\n",
       "y    29.0\n",
       "dtype: float64"
      ]
     },
     "execution_count": 215,
     "metadata": {},
     "output_type": "execute_result"
    }
   ],
   "source": [
    "#OJO, que así sí suma, a pesar de existir NaN\n",
    "df.sum()"
   ]
  },
  {
   "cell_type": "code",
   "execution_count": 216,
   "metadata": {
    "colab": {
     "base_uri": "https://localhost:8080/"
    },
    "executionInfo": {
     "elapsed": 545,
     "status": "ok",
     "timestamp": 1607774889729,
     "user": {
      "displayName": "Luis DEL POZO",
      "photoUrl": "",
      "userId": "08297678491184687059"
     },
     "user_tz": -60
    },
    "id": "YEq8Zof511UZ",
    "outputId": "5df62fee-0b88-48e0-8464-d3c30cf37be7"
   },
   "outputs": [
    {
     "data": {
      "text/plain": [
       "x    4.733333\n",
       "y    7.250000\n",
       "dtype: float64"
      ]
     },
     "execution_count": 216,
     "metadata": {},
     "output_type": "execute_result"
    }
   ],
   "source": [
    "df.mean()"
   ]
  },
  {
   "cell_type": "code",
   "execution_count": 217,
   "metadata": {
    "colab": {
     "base_uri": "https://localhost:8080/"
    },
    "executionInfo": {
     "elapsed": 607,
     "status": "ok",
     "timestamp": 1607774959789,
     "user": {
      "displayName": "Luis DEL POZO",
      "photoUrl": "",
      "userId": "08297678491184687059"
     },
     "user_tz": -60
    },
    "id": "6gj1b9wa2eQ4",
    "outputId": "9c565890-d5ca-4b66-f8b6-797ab81785e8"
   },
   "outputs": [
    {
     "data": {
      "text/plain": [
       "0     g\n",
       "1     t\n",
       "2     c\n",
       "3     a\n",
       "4     a\n",
       "5     a\n",
       "6     g\n",
       "7     t\n",
       "8     c\n",
       "9     t\n",
       "10    t\n",
       "11    c\n",
       "12    a\n",
       "13    g\n",
       "14    a\n",
       "dtype: object"
      ]
     },
     "execution_count": 217,
     "metadata": {},
     "output_type": "execute_result"
    }
   ],
   "source": [
    "s11 = pd.Series(list('gtcaaagtcttcaga'))\n",
    "s11"
   ]
  },
  {
   "cell_type": "code",
   "execution_count": 218,
   "metadata": {
    "colab": {
     "base_uri": "https://localhost:8080/"
    },
    "executionInfo": {
     "elapsed": 673,
     "status": "ok",
     "timestamp": 1607774971127,
     "user": {
      "displayName": "Luis DEL POZO",
      "photoUrl": "",
      "userId": "08297678491184687059"
     },
     "user_tz": -60
    },
    "id": "8HyFVTzX2sdu",
    "outputId": "7e7eea61-f02b-45d9-f448-955c3c43b79d"
   },
   "outputs": [
    {
     "data": {
      "text/plain": [
       "array(['g', 't', 'c', 'a'], dtype=object)"
      ]
     },
     "execution_count": 218,
     "metadata": {},
     "output_type": "execute_result"
    }
   ],
   "source": [
    "s11.unique()"
   ]
  },
  {
   "cell_type": "code",
   "execution_count": 219,
   "metadata": {
    "colab": {
     "base_uri": "https://localhost:8080/"
    },
    "executionInfo": {
     "elapsed": 490,
     "status": "ok",
     "timestamp": 1607774982678,
     "user": {
      "displayName": "Luis DEL POZO",
      "photoUrl": "",
      "userId": "08297678491184687059"
     },
     "user_tz": -60
    },
    "id": "kukCqUAq2yHX",
    "outputId": "d599ed45-0bcc-409e-bcc4-b640043e99e1"
   },
   "outputs": [
    {
     "data": {
      "text/plain": [
       "a    5\n",
       "t    4\n",
       "g    3\n",
       "c    3\n",
       "dtype: int64"
      ]
     },
     "execution_count": 219,
     "metadata": {},
     "output_type": "execute_result"
    }
   ],
   "source": [
    "s11.value_counts()"
   ]
  },
  {
   "cell_type": "code",
   "execution_count": 220,
   "metadata": {
    "executionInfo": {
     "elapsed": 510,
     "status": "ok",
     "timestamp": 1607775019872,
     "user": {
      "displayName": "Luis DEL POZO",
      "photoUrl": "",
      "userId": "08297678491184687059"
     },
     "user_tz": -60
    },
    "id": "hANShImz20-q"
   },
   "outputs": [],
   "source": [
    "puric_bases = ['a','g']"
   ]
  },
  {
   "cell_type": "code",
   "execution_count": 221,
   "metadata": {
    "colab": {
     "base_uri": "https://localhost:8080/"
    },
    "executionInfo": {
     "elapsed": 545,
     "status": "ok",
     "timestamp": 1607775084973,
     "user": {
      "displayName": "Luis DEL POZO",
      "photoUrl": "",
      "userId": "08297678491184687059"
     },
     "user_tz": -60
    },
    "id": "P9NkOtkF2-DS",
    "outputId": "be64da4b-e2e5-4c1d-fb74-7abbf7c262b2"
   },
   "outputs": [
    {
     "data": {
      "text/plain": [
       "0      True\n",
       "1     False\n",
       "2     False\n",
       "3      True\n",
       "4      True\n",
       "5      True\n",
       "6      True\n",
       "7     False\n",
       "8     False\n",
       "9     False\n",
       "10    False\n",
       "11    False\n",
       "12     True\n",
       "13     True\n",
       "14     True\n",
       "dtype: bool"
      ]
     },
     "execution_count": 221,
     "metadata": {},
     "output_type": "execute_result"
    }
   ],
   "source": [
    "s11.isin(puric_bases)"
   ]
  },
  {
   "cell_type": "code",
   "execution_count": 222,
   "metadata": {
    "colab": {
     "base_uri": "https://localhost:8080/"
    },
    "executionInfo": {
     "elapsed": 498,
     "status": "ok",
     "timestamp": 1607775110367,
     "user": {
      "displayName": "Luis DEL POZO",
      "photoUrl": "",
      "userId": "08297678491184687059"
     },
     "user_tz": -60
    },
    "id": "09-DRwyU3N6w",
    "outputId": "750b7b0c-e0e6-4514-9584-c629240521f0"
   },
   "outputs": [
    {
     "data": {
      "text/plain": [
       "0     g\n",
       "3     a\n",
       "4     a\n",
       "5     a\n",
       "6     g\n",
       "12    a\n",
       "13    g\n",
       "14    a\n",
       "dtype: object"
      ]
     },
     "execution_count": 222,
     "metadata": {},
     "output_type": "execute_result"
    }
   ],
   "source": [
    "s11[s11.isin(puric_bases)]"
   ]
  },
  {
   "cell_type": "markdown",
   "metadata": {
    "id": "VGmXq1ji4FED"
   },
   "source": [
    "# MISSING DATA"
   ]
  },
  {
   "cell_type": "code",
   "execution_count": 223,
   "metadata": {
    "executionInfo": {
     "elapsed": 632,
     "status": "ok",
     "timestamp": 1607775396242,
     "user": {
      "displayName": "Luis DEL POZO",
      "photoUrl": "",
      "userId": "08297678491184687059"
     },
     "user_tz": -60
    },
    "id": "vtNa1IcN4Idd"
   },
   "outputs": [],
   "source": [
    "string_data = pd.Series(['Ma','Lu','Ca','Va',np.nan])"
   ]
  },
  {
   "cell_type": "code",
   "execution_count": 224,
   "metadata": {
    "colab": {
     "base_uri": "https://localhost:8080/"
    },
    "executionInfo": {
     "elapsed": 561,
     "status": "ok",
     "timestamp": 1607775401476,
     "user": {
      "displayName": "Luis DEL POZO",
      "photoUrl": "",
      "userId": "08297678491184687059"
     },
     "user_tz": -60
    },
    "id": "-C4YVR204Z6V",
    "outputId": "a275f057-3368-4a12-9311-97007bd69261"
   },
   "outputs": [
    {
     "data": {
      "text/plain": [
       "0     Ma\n",
       "1     Lu\n",
       "2     Ca\n",
       "3     Va\n",
       "4    NaN\n",
       "dtype: object"
      ]
     },
     "execution_count": 224,
     "metadata": {},
     "output_type": "execute_result"
    }
   ],
   "source": [
    "string_data"
   ]
  },
  {
   "cell_type": "code",
   "execution_count": 226,
   "metadata": {
    "colab": {
     "base_uri": "https://localhost:8080/"
    },
    "executionInfo": {
     "elapsed": 468,
     "status": "ok",
     "timestamp": 1607775415581,
     "user": {
      "displayName": "Luis DEL POZO",
      "photoUrl": "",
      "userId": "08297678491184687059"
     },
     "user_tz": -60
    },
    "id": "CLfR8KNp4bMr",
    "outputId": "7c951eb2-6001-4ccd-d71e-4ecbf998743a"
   },
   "outputs": [
    {
     "data": {
      "text/plain": [
       "False"
      ]
     },
     "execution_count": 226,
     "metadata": {},
     "output_type": "execute_result"
    }
   ],
   "source": [
    "#Cosa curiosa esto de NaN\n",
    "np.nan == np.nan"
   ]
  },
  {
   "cell_type": "code",
   "execution_count": 227,
   "metadata": {
    "colab": {
     "base_uri": "https://localhost:8080/"
    },
    "executionInfo": {
     "elapsed": 1526,
     "status": "ok",
     "timestamp": 1607775442338,
     "user": {
      "displayName": "Luis DEL POZO",
      "photoUrl": "",
      "userId": "08297678491184687059"
     },
     "user_tz": -60
    },
    "id": "OWkctGiB4eqo",
    "outputId": "a1209e25-bfc6-41a0-a6e7-47e250776194"
   },
   "outputs": [
    {
     "data": {
      "text/plain": [
       "0    Ma\n",
       "1    Lu\n",
       "2    Ca\n",
       "3    Va\n",
       "dtype: object"
      ]
     },
     "execution_count": 227,
     "metadata": {},
     "output_type": "execute_result"
    }
   ],
   "source": [
    "#Curiosa manera de decir \"selecciona las filas que tengan valor\n",
    "string_data[-string_data.isnull()]"
   ]
  },
  {
   "cell_type": "code",
   "execution_count": 229,
   "metadata": {
    "colab": {
     "base_uri": "https://localhost:8080/",
     "height": 175
    },
    "executionInfo": {
     "elapsed": 592,
     "status": "ok",
     "timestamp": 1607775622552,
     "user": {
      "displayName": "Luis DEL POZO",
      "photoUrl": "",
      "userId": "08297678491184687059"
     },
     "user_tz": -60
    },
    "id": "cIOjiBTr4k8h",
    "outputId": "75209f3f-080c-4423-9fb4-f9efddfa7937"
   },
   "outputs": [
    {
     "data": {
      "text/html": [
       "<div>\n",
       "<style scoped>\n",
       "    .dataframe tbody tr th:only-of-type {\n",
       "        vertical-align: middle;\n",
       "    }\n",
       "\n",
       "    .dataframe tbody tr th {\n",
       "        vertical-align: top;\n",
       "    }\n",
       "\n",
       "    .dataframe thead th {\n",
       "        text-align: right;\n",
       "    }\n",
       "</style>\n",
       "<table border=\"1\" class=\"dataframe\">\n",
       "  <thead>\n",
       "    <tr style=\"text-align: right;\">\n",
       "      <th></th>\n",
       "      <th>a</th>\n",
       "      <th>b</th>\n",
       "      <th>c</th>\n",
       "    </tr>\n",
       "  </thead>\n",
       "  <tbody>\n",
       "    <tr>\n",
       "      <th>0</th>\n",
       "      <td>1.0</td>\n",
       "      <td>2.0</td>\n",
       "      <td>3</td>\n",
       "    </tr>\n",
       "    <tr>\n",
       "      <th>1</th>\n",
       "      <td>NaN</td>\n",
       "      <td>8.0</td>\n",
       "      <td>7</td>\n",
       "    </tr>\n",
       "    <tr>\n",
       "      <th>2</th>\n",
       "      <td>4.0</td>\n",
       "      <td>NaN</td>\n",
       "      <td>90</td>\n",
       "    </tr>\n",
       "    <tr>\n",
       "      <th>3</th>\n",
       "      <td>67.0</td>\n",
       "      <td>42.0</td>\n",
       "      <td>53</td>\n",
       "    </tr>\n",
       "  </tbody>\n",
       "</table>\n",
       "</div>"
      ],
      "text/plain": [
       "      a     b   c\n",
       "0   1.0   2.0   3\n",
       "1   NaN   8.0   7\n",
       "2   4.0   NaN  90\n",
       "3  67.0  42.0  53"
      ]
     },
     "execution_count": 229,
     "metadata": {},
     "output_type": "execute_result"
    }
   ],
   "source": [
    "df5 = pd.DataFrame([[1,2,3],\n",
    "                   [np.nan,8,7],\n",
    "                   [4,np.nan,90],\n",
    "                   [67,42,53]],\n",
    "                   columns = list('abc')\n",
    "                   )\n",
    "df5"
   ]
  },
  {
   "cell_type": "code",
   "execution_count": 230,
   "metadata": {
    "colab": {
     "base_uri": "https://localhost:8080/",
     "height": 143
    },
    "executionInfo": {
     "elapsed": 566,
     "status": "ok",
     "timestamp": 1607775647235,
     "user": {
      "displayName": "Luis DEL POZO",
      "photoUrl": "",
      "userId": "08297678491184687059"
     },
     "user_tz": -60
    },
    "id": "ZwDUAZd-5EAK",
    "outputId": "a1673e51-d51b-4654-be28-2e237defd784"
   },
   "outputs": [
    {
     "data": {
      "text/html": [
       "<div>\n",
       "<style scoped>\n",
       "    .dataframe tbody tr th:only-of-type {\n",
       "        vertical-align: middle;\n",
       "    }\n",
       "\n",
       "    .dataframe tbody tr th {\n",
       "        vertical-align: top;\n",
       "    }\n",
       "\n",
       "    .dataframe thead th {\n",
       "        text-align: right;\n",
       "    }\n",
       "</style>\n",
       "<table border=\"1\" class=\"dataframe\">\n",
       "  <thead>\n",
       "    <tr style=\"text-align: right;\">\n",
       "      <th></th>\n",
       "      <th>a</th>\n",
       "      <th>b</th>\n",
       "      <th>c</th>\n",
       "    </tr>\n",
       "  </thead>\n",
       "  <tbody>\n",
       "    <tr>\n",
       "      <th>0</th>\n",
       "      <td>1.0</td>\n",
       "      <td>2.0</td>\n",
       "      <td>3</td>\n",
       "    </tr>\n",
       "    <tr>\n",
       "      <th>2</th>\n",
       "      <td>4.0</td>\n",
       "      <td>NaN</td>\n",
       "      <td>90</td>\n",
       "    </tr>\n",
       "    <tr>\n",
       "      <th>3</th>\n",
       "      <td>67.0</td>\n",
       "      <td>42.0</td>\n",
       "      <td>53</td>\n",
       "    </tr>\n",
       "  </tbody>\n",
       "</table>\n",
       "</div>"
      ],
      "text/plain": [
       "      a     b   c\n",
       "0   1.0   2.0   3\n",
       "2   4.0   NaN  90\n",
       "3  67.0  42.0  53"
      ]
     },
     "execution_count": 230,
     "metadata": {},
     "output_type": "execute_result"
    }
   ],
   "source": [
    "df5[df5['a'].notnull()]"
   ]
  },
  {
   "cell_type": "code",
   "execution_count": 231,
   "metadata": {
    "colab": {
     "base_uri": "https://localhost:8080/",
     "height": 175
    },
    "executionInfo": {
     "elapsed": 569,
     "status": "ok",
     "timestamp": 1607775664645,
     "user": {
      "displayName": "Luis DEL POZO",
      "photoUrl": "",
      "userId": "08297678491184687059"
     },
     "user_tz": -60
    },
    "id": "J1b_9b9l5XMd",
    "outputId": "e6515510-ff7d-46dd-8f86-8ef81c014c6c"
   },
   "outputs": [
    {
     "data": {
      "text/html": [
       "<div>\n",
       "<style scoped>\n",
       "    .dataframe tbody tr th:only-of-type {\n",
       "        vertical-align: middle;\n",
       "    }\n",
       "\n",
       "    .dataframe tbody tr th {\n",
       "        vertical-align: top;\n",
       "    }\n",
       "\n",
       "    .dataframe thead th {\n",
       "        text-align: right;\n",
       "    }\n",
       "</style>\n",
       "<table border=\"1\" class=\"dataframe\">\n",
       "  <thead>\n",
       "    <tr style=\"text-align: right;\">\n",
       "      <th></th>\n",
       "      <th>a</th>\n",
       "      <th>b</th>\n",
       "      <th>c</th>\n",
       "    </tr>\n",
       "  </thead>\n",
       "  <tbody>\n",
       "    <tr>\n",
       "      <th>0</th>\n",
       "      <td>True</td>\n",
       "      <td>True</td>\n",
       "      <td>True</td>\n",
       "    </tr>\n",
       "    <tr>\n",
       "      <th>1</th>\n",
       "      <td>False</td>\n",
       "      <td>True</td>\n",
       "      <td>True</td>\n",
       "    </tr>\n",
       "    <tr>\n",
       "      <th>2</th>\n",
       "      <td>True</td>\n",
       "      <td>False</td>\n",
       "      <td>True</td>\n",
       "    </tr>\n",
       "    <tr>\n",
       "      <th>3</th>\n",
       "      <td>True</td>\n",
       "      <td>True</td>\n",
       "      <td>True</td>\n",
       "    </tr>\n",
       "  </tbody>\n",
       "</table>\n",
       "</div>"
      ],
      "text/plain": [
       "       a      b     c\n",
       "0   True   True  True\n",
       "1  False   True  True\n",
       "2   True  False  True\n",
       "3   True   True  True"
      ]
     },
     "execution_count": 231,
     "metadata": {},
     "output_type": "execute_result"
    }
   ],
   "source": [
    "df5.notnull()"
   ]
  },
  {
   "cell_type": "code",
   "execution_count": 232,
   "metadata": {
    "colab": {
     "base_uri": "https://localhost:8080/"
    },
    "executionInfo": {
     "elapsed": 550,
     "status": "ok",
     "timestamp": 1607775712405,
     "user": {
      "displayName": "Luis DEL POZO",
      "photoUrl": "",
      "userId": "08297678491184687059"
     },
     "user_tz": -60
    },
    "id": "bl7Yp2Q_5bcT",
    "outputId": "543d0e07-ba4f-44f3-a17a-1dc9cdf5fce4"
   },
   "outputs": [
    {
     "data": {
      "text/plain": [
       "a    True\n",
       "b    True\n",
       "c    True\n",
       "dtype: bool"
      ]
     },
     "execution_count": 232,
     "metadata": {},
     "output_type": "execute_result"
    }
   ],
   "source": [
    "df5.notnull().any()"
   ]
  },
  {
   "cell_type": "code",
   "execution_count": 233,
   "metadata": {
    "colab": {
     "base_uri": "https://localhost:8080/"
    },
    "executionInfo": {
     "elapsed": 619,
     "status": "ok",
     "timestamp": 1607775747718,
     "user": {
      "displayName": "Luis DEL POZO",
      "photoUrl": "",
      "userId": "08297678491184687059"
     },
     "user_tz": -60
    },
    "id": "cAOwLQi45nGx",
    "outputId": "2368239a-b043-4cc8-864b-08ed086173da"
   },
   "outputs": [
    {
     "data": {
      "text/plain": [
       "a    False\n",
       "b    False\n",
       "c     True\n",
       "dtype: bool"
      ]
     },
     "execution_count": 233,
     "metadata": {},
     "output_type": "execute_result"
    }
   ],
   "source": [
    "df5.notnull().all()"
   ]
  },
  {
   "cell_type": "code",
   "execution_count": 234,
   "metadata": {
    "colab": {
     "base_uri": "https://localhost:8080/",
     "height": 112
    },
    "executionInfo": {
     "elapsed": 553,
     "status": "ok",
     "timestamp": 1607775786546,
     "user": {
      "displayName": "Luis DEL POZO",
      "photoUrl": "",
      "userId": "08297678491184687059"
     },
     "user_tz": -60
    },
    "id": "7k2vQk1Q5vsT",
    "outputId": "5d474fff-7a35-4bf4-cdea-37f526a307bb"
   },
   "outputs": [
    {
     "data": {
      "text/html": [
       "<div>\n",
       "<style scoped>\n",
       "    .dataframe tbody tr th:only-of-type {\n",
       "        vertical-align: middle;\n",
       "    }\n",
       "\n",
       "    .dataframe tbody tr th {\n",
       "        vertical-align: top;\n",
       "    }\n",
       "\n",
       "    .dataframe thead th {\n",
       "        text-align: right;\n",
       "    }\n",
       "</style>\n",
       "<table border=\"1\" class=\"dataframe\">\n",
       "  <thead>\n",
       "    <tr style=\"text-align: right;\">\n",
       "      <th></th>\n",
       "      <th>a</th>\n",
       "      <th>b</th>\n",
       "      <th>c</th>\n",
       "    </tr>\n",
       "  </thead>\n",
       "  <tbody>\n",
       "    <tr>\n",
       "      <th>0</th>\n",
       "      <td>1.0</td>\n",
       "      <td>2.0</td>\n",
       "      <td>3</td>\n",
       "    </tr>\n",
       "    <tr>\n",
       "      <th>3</th>\n",
       "      <td>67.0</td>\n",
       "      <td>42.0</td>\n",
       "      <td>53</td>\n",
       "    </tr>\n",
       "  </tbody>\n",
       "</table>\n",
       "</div>"
      ],
      "text/plain": [
       "      a     b   c\n",
       "0   1.0   2.0   3\n",
       "3  67.0  42.0  53"
      ]
     },
     "execution_count": 234,
     "metadata": {},
     "output_type": "execute_result"
    }
   ],
   "source": [
    "df5.dropna()"
   ]
  },
  {
   "cell_type": "code",
   "execution_count": 235,
   "metadata": {
    "colab": {
     "base_uri": "https://localhost:8080/",
     "height": 175
    },
    "executionInfo": {
     "elapsed": 1287,
     "status": "ok",
     "timestamp": 1607775846276,
     "user": {
      "displayName": "Luis DEL POZO",
      "photoUrl": "",
      "userId": "08297678491184687059"
     },
     "user_tz": -60
    },
    "id": "Mdf9g_1f55N-",
    "outputId": "968cff0b-310a-491a-f2a9-b4f95fec8bc0"
   },
   "outputs": [
    {
     "data": {
      "text/html": [
       "<div>\n",
       "<style scoped>\n",
       "    .dataframe tbody tr th:only-of-type {\n",
       "        vertical-align: middle;\n",
       "    }\n",
       "\n",
       "    .dataframe tbody tr th {\n",
       "        vertical-align: top;\n",
       "    }\n",
       "\n",
       "    .dataframe thead th {\n",
       "        text-align: right;\n",
       "    }\n",
       "</style>\n",
       "<table border=\"1\" class=\"dataframe\">\n",
       "  <thead>\n",
       "    <tr style=\"text-align: right;\">\n",
       "      <th></th>\n",
       "      <th>c</th>\n",
       "    </tr>\n",
       "  </thead>\n",
       "  <tbody>\n",
       "    <tr>\n",
       "      <th>0</th>\n",
       "      <td>3</td>\n",
       "    </tr>\n",
       "    <tr>\n",
       "      <th>1</th>\n",
       "      <td>7</td>\n",
       "    </tr>\n",
       "    <tr>\n",
       "      <th>2</th>\n",
       "      <td>90</td>\n",
       "    </tr>\n",
       "    <tr>\n",
       "      <th>3</th>\n",
       "      <td>53</td>\n",
       "    </tr>\n",
       "  </tbody>\n",
       "</table>\n",
       "</div>"
      ],
      "text/plain": [
       "    c\n",
       "0   3\n",
       "1   7\n",
       "2  90\n",
       "3  53"
      ]
     },
     "execution_count": 235,
     "metadata": {},
     "output_type": "execute_result"
    }
   ],
   "source": [
    "df5.dropna(axis=1)"
   ]
  },
  {
   "cell_type": "code",
   "execution_count": 236,
   "metadata": {
    "colab": {
     "base_uri": "https://localhost:8080/",
     "height": 175
    },
    "executionInfo": {
     "elapsed": 518,
     "status": "ok",
     "timestamp": 1607775880592,
     "user": {
      "displayName": "Luis DEL POZO",
      "photoUrl": "",
      "userId": "08297678491184687059"
     },
     "user_tz": -60
    },
    "id": "rVRBqD6Y6Hl1",
    "outputId": "39281985-59b4-4688-cc49-9b779cd7b601"
   },
   "outputs": [
    {
     "data": {
      "text/html": [
       "<div>\n",
       "<style scoped>\n",
       "    .dataframe tbody tr th:only-of-type {\n",
       "        vertical-align: middle;\n",
       "    }\n",
       "\n",
       "    .dataframe tbody tr th {\n",
       "        vertical-align: top;\n",
       "    }\n",
       "\n",
       "    .dataframe thead th {\n",
       "        text-align: right;\n",
       "    }\n",
       "</style>\n",
       "<table border=\"1\" class=\"dataframe\">\n",
       "  <thead>\n",
       "    <tr style=\"text-align: right;\">\n",
       "      <th></th>\n",
       "      <th>a</th>\n",
       "      <th>b</th>\n",
       "      <th>c</th>\n",
       "    </tr>\n",
       "  </thead>\n",
       "  <tbody>\n",
       "    <tr>\n",
       "      <th>0</th>\n",
       "      <td>1.0</td>\n",
       "      <td>2.0</td>\n",
       "      <td>3</td>\n",
       "    </tr>\n",
       "    <tr>\n",
       "      <th>1</th>\n",
       "      <td>NaN</td>\n",
       "      <td>8.0</td>\n",
       "      <td>7</td>\n",
       "    </tr>\n",
       "    <tr>\n",
       "      <th>2</th>\n",
       "      <td>4.0</td>\n",
       "      <td>NaN</td>\n",
       "      <td>90</td>\n",
       "    </tr>\n",
       "    <tr>\n",
       "      <th>3</th>\n",
       "      <td>67.0</td>\n",
       "      <td>42.0</td>\n",
       "      <td>53</td>\n",
       "    </tr>\n",
       "  </tbody>\n",
       "</table>\n",
       "</div>"
      ],
      "text/plain": [
       "      a     b   c\n",
       "0   1.0   2.0   3\n",
       "1   NaN   8.0   7\n",
       "2   4.0   NaN  90\n",
       "3  67.0  42.0  53"
      ]
     },
     "execution_count": 236,
     "metadata": {},
     "output_type": "execute_result"
    }
   ],
   "source": [
    "df5.dropna(thresh=2)"
   ]
  },
  {
   "cell_type": "code",
   "execution_count": 237,
   "metadata": {
    "colab": {
     "base_uri": "https://localhost:8080/",
     "height": 175
    },
    "executionInfo": {
     "elapsed": 567,
     "status": "ok",
     "timestamp": 1607775934658,
     "user": {
      "displayName": "Luis DEL POZO",
      "photoUrl": "",
      "userId": "08297678491184687059"
     },
     "user_tz": -60
    },
    "id": "P27cuA2S6QLk",
    "outputId": "5b028055-cfab-4bdd-9842-ae5e7fa91f48"
   },
   "outputs": [
    {
     "data": {
      "text/html": [
       "<div>\n",
       "<style scoped>\n",
       "    .dataframe tbody tr th:only-of-type {\n",
       "        vertical-align: middle;\n",
       "    }\n",
       "\n",
       "    .dataframe tbody tr th {\n",
       "        vertical-align: top;\n",
       "    }\n",
       "\n",
       "    .dataframe thead th {\n",
       "        text-align: right;\n",
       "    }\n",
       "</style>\n",
       "<table border=\"1\" class=\"dataframe\">\n",
       "  <thead>\n",
       "    <tr style=\"text-align: right;\">\n",
       "      <th></th>\n",
       "      <th>a</th>\n",
       "      <th>b</th>\n",
       "      <th>c</th>\n",
       "    </tr>\n",
       "  </thead>\n",
       "  <tbody>\n",
       "    <tr>\n",
       "      <th>0</th>\n",
       "      <td>1.0</td>\n",
       "      <td>2.0</td>\n",
       "      <td>3</td>\n",
       "    </tr>\n",
       "    <tr>\n",
       "      <th>1</th>\n",
       "      <td>0.0</td>\n",
       "      <td>8.0</td>\n",
       "      <td>7</td>\n",
       "    </tr>\n",
       "    <tr>\n",
       "      <th>2</th>\n",
       "      <td>4.0</td>\n",
       "      <td>0.0</td>\n",
       "      <td>90</td>\n",
       "    </tr>\n",
       "    <tr>\n",
       "      <th>3</th>\n",
       "      <td>67.0</td>\n",
       "      <td>42.0</td>\n",
       "      <td>53</td>\n",
       "    </tr>\n",
       "  </tbody>\n",
       "</table>\n",
       "</div>"
      ],
      "text/plain": [
       "      a     b   c\n",
       "0   1.0   2.0   3\n",
       "1   0.0   8.0   7\n",
       "2   4.0   0.0  90\n",
       "3  67.0  42.0  53"
      ]
     },
     "execution_count": 237,
     "metadata": {},
     "output_type": "execute_result"
    }
   ],
   "source": [
    "df5.fillna(0)"
   ]
  },
  {
   "cell_type": "code",
   "execution_count": 238,
   "metadata": {
    "colab": {
     "base_uri": "https://localhost:8080/",
     "height": 175
    },
    "executionInfo": {
     "elapsed": 525,
     "status": "ok",
     "timestamp": 1607775997649,
     "user": {
      "displayName": "Luis DEL POZO",
      "photoUrl": "",
      "userId": "08297678491184687059"
     },
     "user_tz": -60
    },
    "id": "4s1O3sKt6dXO",
    "outputId": "1bfe1b6c-68ab-4405-b254-3c87cbbb58a6"
   },
   "outputs": [
    {
     "data": {
      "text/html": [
       "<div>\n",
       "<style scoped>\n",
       "    .dataframe tbody tr th:only-of-type {\n",
       "        vertical-align: middle;\n",
       "    }\n",
       "\n",
       "    .dataframe tbody tr th {\n",
       "        vertical-align: top;\n",
       "    }\n",
       "\n",
       "    .dataframe thead th {\n",
       "        text-align: right;\n",
       "    }\n",
       "</style>\n",
       "<table border=\"1\" class=\"dataframe\">\n",
       "  <thead>\n",
       "    <tr style=\"text-align: right;\">\n",
       "      <th></th>\n",
       "      <th>a</th>\n",
       "      <th>b</th>\n",
       "      <th>c</th>\n",
       "    </tr>\n",
       "  </thead>\n",
       "  <tbody>\n",
       "    <tr>\n",
       "      <th>0</th>\n",
       "      <td>1.0</td>\n",
       "      <td>2.0</td>\n",
       "      <td>3</td>\n",
       "    </tr>\n",
       "    <tr>\n",
       "      <th>1</th>\n",
       "      <td>0.0</td>\n",
       "      <td>8.0</td>\n",
       "      <td>7</td>\n",
       "    </tr>\n",
       "    <tr>\n",
       "      <th>2</th>\n",
       "      <td>4.0</td>\n",
       "      <td>10.0</td>\n",
       "      <td>90</td>\n",
       "    </tr>\n",
       "    <tr>\n",
       "      <th>3</th>\n",
       "      <td>67.0</td>\n",
       "      <td>42.0</td>\n",
       "      <td>53</td>\n",
       "    </tr>\n",
       "  </tbody>\n",
       "</table>\n",
       "</div>"
      ],
      "text/plain": [
       "      a     b   c\n",
       "0   1.0   2.0   3\n",
       "1   0.0   8.0   7\n",
       "2   4.0  10.0  90\n",
       "3  67.0  42.0  53"
      ]
     },
     "execution_count": 238,
     "metadata": {},
     "output_type": "execute_result"
    }
   ],
   "source": [
    "df5.fillna({'a':0,\n",
    "            'b':10,\n",
    "            'c':20\n",
    "            })"
   ]
  },
  {
   "cell_type": "code",
   "execution_count": 239,
   "metadata": {
    "colab": {
     "base_uri": "https://localhost:8080/",
     "height": 175
    },
    "executionInfo": {
     "elapsed": 1142,
     "status": "ok",
     "timestamp": 1607776042140,
     "user": {
      "displayName": "Luis DEL POZO",
      "photoUrl": "",
      "userId": "08297678491184687059"
     },
     "user_tz": -60
    },
    "id": "jkaT2pib61qb",
    "outputId": "343a8593-b8f7-45bf-c350-6f1a2cec1c9b"
   },
   "outputs": [
    {
     "data": {
      "text/html": [
       "<div>\n",
       "<style scoped>\n",
       "    .dataframe tbody tr th:only-of-type {\n",
       "        vertical-align: middle;\n",
       "    }\n",
       "\n",
       "    .dataframe tbody tr th {\n",
       "        vertical-align: top;\n",
       "    }\n",
       "\n",
       "    .dataframe thead th {\n",
       "        text-align: right;\n",
       "    }\n",
       "</style>\n",
       "<table border=\"1\" class=\"dataframe\">\n",
       "  <thead>\n",
       "    <tr style=\"text-align: right;\">\n",
       "      <th></th>\n",
       "      <th>a</th>\n",
       "      <th>b</th>\n",
       "      <th>c</th>\n",
       "    </tr>\n",
       "  </thead>\n",
       "  <tbody>\n",
       "    <tr>\n",
       "      <th>0</th>\n",
       "      <td>1.0</td>\n",
       "      <td>2.0</td>\n",
       "      <td>3</td>\n",
       "    </tr>\n",
       "    <tr>\n",
       "      <th>1</th>\n",
       "      <td>NaN</td>\n",
       "      <td>8.0</td>\n",
       "      <td>7</td>\n",
       "    </tr>\n",
       "    <tr>\n",
       "      <th>2</th>\n",
       "      <td>4.0</td>\n",
       "      <td>NaN</td>\n",
       "      <td>90</td>\n",
       "    </tr>\n",
       "    <tr>\n",
       "      <th>3</th>\n",
       "      <td>67.0</td>\n",
       "      <td>42.0</td>\n",
       "      <td>53</td>\n",
       "    </tr>\n",
       "  </tbody>\n",
       "</table>\n",
       "</div>"
      ],
      "text/plain": [
       "      a     b   c\n",
       "0   1.0   2.0   3\n",
       "1   NaN   8.0   7\n",
       "2   4.0   NaN  90\n",
       "3  67.0  42.0  53"
      ]
     },
     "execution_count": 239,
     "metadata": {},
     "output_type": "execute_result"
    }
   ],
   "source": [
    "df5"
   ]
  },
  {
   "cell_type": "code",
   "execution_count": 240,
   "metadata": {
    "colab": {
     "base_uri": "https://localhost:8080/",
     "height": 175
    },
    "executionInfo": {
     "elapsed": 663,
     "status": "ok",
     "timestamp": 1607776045127,
     "user": {
      "displayName": "Luis DEL POZO",
      "photoUrl": "",
      "userId": "08297678491184687059"
     },
     "user_tz": -60
    },
    "id": "BfcfLyv16swG",
    "outputId": "ec982b65-902e-471e-aada-3df2d7dfc5e2"
   },
   "outputs": [
    {
     "data": {
      "text/html": [
       "<div>\n",
       "<style scoped>\n",
       "    .dataframe tbody tr th:only-of-type {\n",
       "        vertical-align: middle;\n",
       "    }\n",
       "\n",
       "    .dataframe tbody tr th {\n",
       "        vertical-align: top;\n",
       "    }\n",
       "\n",
       "    .dataframe thead th {\n",
       "        text-align: right;\n",
       "    }\n",
       "</style>\n",
       "<table border=\"1\" class=\"dataframe\">\n",
       "  <thead>\n",
       "    <tr style=\"text-align: right;\">\n",
       "      <th></th>\n",
       "      <th>a</th>\n",
       "      <th>b</th>\n",
       "      <th>c</th>\n",
       "    </tr>\n",
       "  </thead>\n",
       "  <tbody>\n",
       "    <tr>\n",
       "      <th>0</th>\n",
       "      <td>1.0</td>\n",
       "      <td>2.0</td>\n",
       "      <td>3</td>\n",
       "    </tr>\n",
       "    <tr>\n",
       "      <th>1</th>\n",
       "      <td>1.0</td>\n",
       "      <td>8.0</td>\n",
       "      <td>7</td>\n",
       "    </tr>\n",
       "    <tr>\n",
       "      <th>2</th>\n",
       "      <td>4.0</td>\n",
       "      <td>8.0</td>\n",
       "      <td>90</td>\n",
       "    </tr>\n",
       "    <tr>\n",
       "      <th>3</th>\n",
       "      <td>67.0</td>\n",
       "      <td>42.0</td>\n",
       "      <td>53</td>\n",
       "    </tr>\n",
       "  </tbody>\n",
       "</table>\n",
       "</div>"
      ],
      "text/plain": [
       "      a     b   c\n",
       "0   1.0   2.0   3\n",
       "1   1.0   8.0   7\n",
       "2   4.0   8.0  90\n",
       "3  67.0  42.0  53"
      ]
     },
     "execution_count": 240,
     "metadata": {},
     "output_type": "execute_result"
    }
   ],
   "source": [
    "df5.fillna(method='ffill')"
   ]
  },
  {
   "cell_type": "code",
   "execution_count": 241,
   "metadata": {
    "colab": {
     "base_uri": "https://localhost:8080/",
     "height": 175
    },
    "executionInfo": {
     "elapsed": 540,
     "status": "ok",
     "timestamp": 1607776079524,
     "user": {
      "displayName": "Luis DEL POZO",
      "photoUrl": "",
      "userId": "08297678491184687059"
     },
     "user_tz": -60
    },
    "id": "v1tM26cn64Ul",
    "outputId": "55644751-5fa2-4633-a5f2-320eec801a4d"
   },
   "outputs": [
    {
     "data": {
      "text/html": [
       "<div>\n",
       "<style scoped>\n",
       "    .dataframe tbody tr th:only-of-type {\n",
       "        vertical-align: middle;\n",
       "    }\n",
       "\n",
       "    .dataframe tbody tr th {\n",
       "        vertical-align: top;\n",
       "    }\n",
       "\n",
       "    .dataframe thead th {\n",
       "        text-align: right;\n",
       "    }\n",
       "</style>\n",
       "<table border=\"1\" class=\"dataframe\">\n",
       "  <thead>\n",
       "    <tr style=\"text-align: right;\">\n",
       "      <th></th>\n",
       "      <th>a</th>\n",
       "      <th>b</th>\n",
       "      <th>c</th>\n",
       "    </tr>\n",
       "  </thead>\n",
       "  <tbody>\n",
       "    <tr>\n",
       "      <th>0</th>\n",
       "      <td>1.0</td>\n",
       "      <td>2.000000</td>\n",
       "      <td>3</td>\n",
       "    </tr>\n",
       "    <tr>\n",
       "      <th>1</th>\n",
       "      <td>24.0</td>\n",
       "      <td>8.000000</td>\n",
       "      <td>7</td>\n",
       "    </tr>\n",
       "    <tr>\n",
       "      <th>2</th>\n",
       "      <td>4.0</td>\n",
       "      <td>17.333333</td>\n",
       "      <td>90</td>\n",
       "    </tr>\n",
       "    <tr>\n",
       "      <th>3</th>\n",
       "      <td>67.0</td>\n",
       "      <td>42.000000</td>\n",
       "      <td>53</td>\n",
       "    </tr>\n",
       "  </tbody>\n",
       "</table>\n",
       "</div>"
      ],
      "text/plain": [
       "      a          b   c\n",
       "0   1.0   2.000000   3\n",
       "1  24.0   8.000000   7\n",
       "2   4.0  17.333333  90\n",
       "3  67.0  42.000000  53"
      ]
     },
     "execution_count": 241,
     "metadata": {},
     "output_type": "execute_result"
    }
   ],
   "source": [
    "df5.fillna(df5.mean())"
   ]
  },
  {
   "cell_type": "code",
   "execution_count": 242,
   "metadata": {
    "colab": {
     "base_uri": "https://localhost:8080/"
    },
    "executionInfo": {
     "elapsed": 1607,
     "status": "ok",
     "timestamp": 1607777112059,
     "user": {
      "displayName": "Luis DEL POZO",
      "photoUrl": "",
      "userId": "08297678491184687059"
     },
     "user_tz": -60
    },
    "id": "q40ue4d97Xg9",
    "outputId": "2a5728db-ccbf-45ee-f1a0-c461b579de64"
   },
   "outputs": [],
   "source": [
    "#Manera de abrir el fichero desde una dirección de la nube\n",
    "#!wget https://bit.ly/ks-pds-csv2 -O {files_loc}/T100_AIRLINES.csv"
   ]
  },
  {
   "cell_type": "code",
   "execution_count": 243,
   "metadata": {
    "colab": {
     "base_uri": "https://localhost:8080/"
    },
    "executionInfo": {
     "elapsed": 567,
     "status": "ok",
     "timestamp": 1607777114859,
     "user": {
      "displayName": "Luis DEL POZO",
      "photoUrl": "",
      "userId": "08297678491184687059"
     },
     "user_tz": -60
    },
    "id": "NZ3f0JQ47udc",
    "outputId": "b05fd7da-8bfd-4b15-accf-363d76159bb1"
   },
   "outputs": [],
   "source": [
    "#!ls {files_loc}"
   ]
  },
  {
   "cell_type": "code",
   "execution_count": 257,
   "metadata": {
    "executionInfo": {
     "elapsed": 577,
     "status": "ok",
     "timestamp": 1607777116645,
     "user": {
      "displayName": "Luis DEL POZO",
      "photoUrl": "",
      "userId": "08297678491184687059"
     },
     "user_tz": -60
    },
    "id": "q-YCi33s778Y"
   },
   "outputs": [],
   "source": [
    "#contents = !ls {files_loc}/*T100*"
   ]
  },
  {
   "cell_type": "code",
   "execution_count": 244,
   "metadata": {
    "colab": {
     "base_uri": "https://localhost:8080/"
    },
    "executionInfo": {
     "elapsed": 689,
     "status": "ok",
     "timestamp": 1607777119052,
     "user": {
      "displayName": "Luis DEL POZO",
      "photoUrl": "",
      "userId": "08297678491184687059"
     },
     "user_tz": -60
    },
    "id": "Tu0Hu__k8Jyu",
    "outputId": "872eea8f-47ab-4799-f3b0-bbb9bf866b02"
   },
   "outputs": [],
   "source": [
    "#contents"
   ]
  },
  {
   "cell_type": "code",
   "execution_count": 245,
   "metadata": {
    "colab": {
     "base_uri": "https://localhost:8080/"
    },
    "executionInfo": {
     "elapsed": 8335,
     "status": "ok",
     "timestamp": 1607777128891,
     "user": {
      "displayName": "Luis DEL POZO",
      "photoUrl": "",
      "userId": "08297678491184687059"
     },
     "user_tz": -60
    },
    "id": "wESQZqdx8MXa",
    "outputId": "e0d3b0da-412a-449b-f789-c7e6773ce81e"
   },
   "outputs": [],
   "source": [
    "#!more {contents[0]}"
   ]
  },
  {
   "cell_type": "code",
   "execution_count": 246,
   "metadata": {
    "executionInfo": {
     "elapsed": 533,
     "status": "ok",
     "timestamp": 1607777134227,
     "user": {
      "displayName": "Luis DEL POZO",
      "photoUrl": "",
      "userId": "08297678491184687059"
     },
     "user_tz": -60
    },
    "id": "CQKortUZ8VJ6"
   },
   "outputs": [],
   "source": [
    "#trafficDF = pd.read_csv(contents[0])"
   ]
  },
  {
   "cell_type": "code",
   "execution_count": 248,
   "metadata": {},
   "outputs": [
    {
     "name": "stdout",
     "output_type": "stream",
     "text": [
      "/home/dsc/Documents/Week_04/Pandas\r\n"
     ]
    }
   ],
   "source": [
    "!pwd"
   ]
  },
  {
   "cell_type": "code",
   "execution_count": 250,
   "metadata": {},
   "outputs": [
    {
     "name": "stdout",
     "output_type": "stream",
     "text": [
      "05_Introduction_to_PANDAS_Additional_Material  example.db\r\n",
      "05_Introduction_to_PANDAS_Main_Notebook        excel_output.xls\r\n",
      "05_Python_DS_PANDAS_1.ipynb\t\t       T100_AIRLINES.csv\r\n",
      "csv_output.xls\r\n"
     ]
    }
   ],
   "source": [
    "!ls"
   ]
  },
  {
   "cell_type": "code",
   "execution_count": 251,
   "metadata": {},
   "outputs": [],
   "source": [
    "trafficDF = pd.read_csv('T100_AIRLINES.csv')"
   ]
  },
  {
   "cell_type": "code",
   "execution_count": 252,
   "metadata": {
    "colab": {
     "base_uri": "https://localhost:8080/",
     "height": 313
    },
    "executionInfo": {
     "elapsed": 647,
     "status": "ok",
     "timestamp": 1607777135701,
     "user": {
      "displayName": "Luis DEL POZO",
      "photoUrl": "",
      "userId": "08297678491184687059"
     },
     "user_tz": -60
    },
    "id": "Pfst9ic48k60",
    "outputId": "6a77adc9-ab03-4246-f6d4-1ee4bd9ecfbf"
   },
   "outputs": [
    {
     "data": {
      "text/html": [
       "<div>\n",
       "<style scoped>\n",
       "    .dataframe tbody tr th:only-of-type {\n",
       "        vertical-align: middle;\n",
       "    }\n",
       "\n",
       "    .dataframe tbody tr th {\n",
       "        vertical-align: top;\n",
       "    }\n",
       "\n",
       "    .dataframe thead th {\n",
       "        text-align: right;\n",
       "    }\n",
       "</style>\n",
       "<table border=\"1\" class=\"dataframe\">\n",
       "  <thead>\n",
       "    <tr style=\"text-align: right;\">\n",
       "      <th></th>\n",
       "      <th>DEPARTURES_SCHEDULED</th>\n",
       "      <th>DEPARTURES_PERFORMED</th>\n",
       "      <th>PAYLOAD</th>\n",
       "      <th>SEATS</th>\n",
       "      <th>PASSENGERS</th>\n",
       "      <th>FREIGHT</th>\n",
       "      <th>MAIL</th>\n",
       "      <th>DISTANCE</th>\n",
       "      <th>RAMP_TO_RAMP</th>\n",
       "      <th>AIR_TIME</th>\n",
       "      <th>...</th>\n",
       "      <th>DEST_WAC</th>\n",
       "      <th>AIRCRAFT_GROUP</th>\n",
       "      <th>AIRCRAFT_TYPE</th>\n",
       "      <th>AIRCRAFT_CONFIG</th>\n",
       "      <th>YEAR</th>\n",
       "      <th>QUARTER</th>\n",
       "      <th>MONTH</th>\n",
       "      <th>DISTANCE_GROUP</th>\n",
       "      <th>CLASS</th>\n",
       "      <th>Unnamed: 43</th>\n",
       "    </tr>\n",
       "  </thead>\n",
       "  <tbody>\n",
       "    <tr>\n",
       "      <th>0</th>\n",
       "      <td>0.0</td>\n",
       "      <td>1.0</td>\n",
       "      <td>26543.0</td>\n",
       "      <td>76.0</td>\n",
       "      <td>76.0</td>\n",
       "      <td>0.0</td>\n",
       "      <td>0.0</td>\n",
       "      <td>3160.0</td>\n",
       "      <td>0.0</td>\n",
       "      <td>0.0</td>\n",
       "      <td>...</td>\n",
       "      <td>33</td>\n",
       "      <td>6</td>\n",
       "      <td>622</td>\n",
       "      <td>1</td>\n",
       "      <td>2020</td>\n",
       "      <td>1</td>\n",
       "      <td>1</td>\n",
       "      <td>7</td>\n",
       "      <td>L</td>\n",
       "      <td>NaN</td>\n",
       "    </tr>\n",
       "    <tr>\n",
       "      <th>1</th>\n",
       "      <td>0.0</td>\n",
       "      <td>1.0</td>\n",
       "      <td>26543.0</td>\n",
       "      <td>76.0</td>\n",
       "      <td>0.0</td>\n",
       "      <td>0.0</td>\n",
       "      <td>0.0</td>\n",
       "      <td>4360.0</td>\n",
       "      <td>0.0</td>\n",
       "      <td>0.0</td>\n",
       "      <td>...</td>\n",
       "      <td>493</td>\n",
       "      <td>6</td>\n",
       "      <td>622</td>\n",
       "      <td>1</td>\n",
       "      <td>2020</td>\n",
       "      <td>1</td>\n",
       "      <td>1</td>\n",
       "      <td>9</td>\n",
       "      <td>L</td>\n",
       "      <td>NaN</td>\n",
       "    </tr>\n",
       "    <tr>\n",
       "      <th>2</th>\n",
       "      <td>0.0</td>\n",
       "      <td>1.0</td>\n",
       "      <td>7198.0</td>\n",
       "      <td>16.0</td>\n",
       "      <td>2.0</td>\n",
       "      <td>0.0</td>\n",
       "      <td>0.0</td>\n",
       "      <td>3925.0</td>\n",
       "      <td>0.0</td>\n",
       "      <td>0.0</td>\n",
       "      <td>...</td>\n",
       "      <td>21</td>\n",
       "      <td>6</td>\n",
       "      <td>667</td>\n",
       "      <td>1</td>\n",
       "      <td>2020</td>\n",
       "      <td>1</td>\n",
       "      <td>1</td>\n",
       "      <td>8</td>\n",
       "      <td>L</td>\n",
       "      <td>NaN</td>\n",
       "    </tr>\n",
       "    <tr>\n",
       "      <th>3</th>\n",
       "      <td>0.0</td>\n",
       "      <td>1.0</td>\n",
       "      <td>7198.0</td>\n",
       "      <td>16.0</td>\n",
       "      <td>2.0</td>\n",
       "      <td>0.0</td>\n",
       "      <td>0.0</td>\n",
       "      <td>3925.0</td>\n",
       "      <td>0.0</td>\n",
       "      <td>0.0</td>\n",
       "      <td>...</td>\n",
       "      <td>429</td>\n",
       "      <td>6</td>\n",
       "      <td>667</td>\n",
       "      <td>1</td>\n",
       "      <td>2020</td>\n",
       "      <td>1</td>\n",
       "      <td>1</td>\n",
       "      <td>8</td>\n",
       "      <td>L</td>\n",
       "      <td>NaN</td>\n",
       "    </tr>\n",
       "    <tr>\n",
       "      <th>4</th>\n",
       "      <td>0.0</td>\n",
       "      <td>1.0</td>\n",
       "      <td>17079.0</td>\n",
       "      <td>92.0</td>\n",
       "      <td>0.0</td>\n",
       "      <td>0.0</td>\n",
       "      <td>0.0</td>\n",
       "      <td>3896.0</td>\n",
       "      <td>0.0</td>\n",
       "      <td>0.0</td>\n",
       "      <td>...</td>\n",
       "      <td>63</td>\n",
       "      <td>6</td>\n",
       "      <td>622</td>\n",
       "      <td>1</td>\n",
       "      <td>2020</td>\n",
       "      <td>1</td>\n",
       "      <td>1</td>\n",
       "      <td>8</td>\n",
       "      <td>L</td>\n",
       "      <td>NaN</td>\n",
       "    </tr>\n",
       "  </tbody>\n",
       "</table>\n",
       "<p>5 rows × 44 columns</p>\n",
       "</div>"
      ],
      "text/plain": [
       "   DEPARTURES_SCHEDULED  DEPARTURES_PERFORMED  PAYLOAD  SEATS  PASSENGERS  \\\n",
       "0                   0.0                   1.0  26543.0   76.0        76.0   \n",
       "1                   0.0                   1.0  26543.0   76.0         0.0   \n",
       "2                   0.0                   1.0   7198.0   16.0         2.0   \n",
       "3                   0.0                   1.0   7198.0   16.0         2.0   \n",
       "4                   0.0                   1.0  17079.0   92.0         0.0   \n",
       "\n",
       "   FREIGHT  MAIL  DISTANCE  RAMP_TO_RAMP  AIR_TIME     ...      DEST_WAC  \\\n",
       "0      0.0   0.0    3160.0           0.0       0.0     ...            33   \n",
       "1      0.0   0.0    4360.0           0.0       0.0     ...           493   \n",
       "2      0.0   0.0    3925.0           0.0       0.0     ...            21   \n",
       "3      0.0   0.0    3925.0           0.0       0.0     ...           429   \n",
       "4      0.0   0.0    3896.0           0.0       0.0     ...            63   \n",
       "\n",
       "   AIRCRAFT_GROUP AIRCRAFT_TYPE AIRCRAFT_CONFIG  YEAR QUARTER MONTH  \\\n",
       "0               6           622               1  2020       1     1   \n",
       "1               6           622               1  2020       1     1   \n",
       "2               6           667               1  2020       1     1   \n",
       "3               6           667               1  2020       1     1   \n",
       "4               6           622               1  2020       1     1   \n",
       "\n",
       "   DISTANCE_GROUP  CLASS  Unnamed: 43  \n",
       "0               7      L          NaN  \n",
       "1               9      L          NaN  \n",
       "2               8      L          NaN  \n",
       "3               8      L          NaN  \n",
       "4               8      L          NaN  \n",
       "\n",
       "[5 rows x 44 columns]"
      ]
     },
     "execution_count": 252,
     "metadata": {},
     "output_type": "execute_result"
    }
   ],
   "source": [
    "trafficDF.head()"
   ]
  },
  {
   "cell_type": "code",
   "execution_count": 253,
   "metadata": {
    "colab": {
     "base_uri": "https://localhost:8080/"
    },
    "executionInfo": {
     "elapsed": 552,
     "status": "ok",
     "timestamp": 1607777196450,
     "user": {
      "displayName": "Luis DEL POZO",
      "photoUrl": "",
      "userId": "08297678491184687059"
     },
     "user_tz": -60
    },
    "id": "d-6iquzK-fI7",
    "outputId": "4feaf8b7-102d-41e8-b5f3-d50133d3906e"
   },
   "outputs": [
    {
     "data": {
      "text/plain": [
       "31482"
      ]
     },
     "execution_count": 253,
     "metadata": {},
     "output_type": "execute_result"
    }
   ],
   "source": [
    "len(trafficDF)"
   ]
  },
  {
   "cell_type": "code",
   "execution_count": 263,
   "metadata": {
    "executionInfo": {
     "elapsed": 923,
     "status": "ok",
     "timestamp": 1607777285963,
     "user": {
      "displayName": "Luis DEL POZO",
      "photoUrl": "",
      "userId": "08297678491184687059"
     },
     "user_tz": -60
    },
    "id": "iJwe2V-5_RcZ"
   },
   "outputs": [],
   "source": [
    "trafficDF.head(1000).to_excel(os.path.join(files_loc,'excel_output.xls'))"
   ]
  },
  {
   "cell_type": "code",
   "execution_count": 264,
   "metadata": {
    "colab": {
     "base_uri": "https://localhost:8080/"
    },
    "executionInfo": {
     "elapsed": 523,
     "status": "ok",
     "timestamp": 1607777299542,
     "user": {
      "displayName": "Luis DEL POZO",
      "photoUrl": "",
      "userId": "08297678491184687059"
     },
     "user_tz": -60
    },
    "id": "Wop09LFv_nNd",
    "outputId": "f1f8bae5-6e05-44ac-f945-9852359dab20"
   },
   "outputs": [
    {
     "name": "stdout",
     "output_type": "stream",
     "text": [
      "excel_output.xls  s3.pkl  T100_AIRLINES.csv\n"
     ]
    }
   ],
   "source": [
    "!ls {files_loc}"
   ]
  },
  {
   "cell_type": "code",
   "execution_count": 265,
   "metadata": {
    "executionInfo": {
     "elapsed": 500,
     "status": "ok",
     "timestamp": 1607777351967,
     "user": {
      "displayName": "Luis DEL POZO",
      "photoUrl": "",
      "userId": "08297678491184687059"
     },
     "user_tz": -60
    },
    "id": "_UQUMO2m_qoA"
   },
   "outputs": [],
   "source": [
    "trafficDF.head(100).to_csv(os.path.join(files_loc, 'csv_output.xls'))"
   ]
  },
  {
   "cell_type": "code",
   "execution_count": 268,
   "metadata": {
    "executionInfo": {
     "elapsed": 543,
     "status": "ok",
     "timestamp": 1607777451150,
     "user": {
      "displayName": "Luis DEL POZO",
      "photoUrl": "",
      "userId": "08297678491184687059"
     },
     "user_tz": -60
    },
    "id": "IeuHRGdr_3bp"
   },
   "outputs": [],
   "source": [
    "import sqlite3\n",
    "conn = sqlite3.connect(os.path.join(files_loc,'example.db'))"
   ]
  },
  {
   "cell_type": "code",
   "execution_count": 269,
   "metadata": {
    "colab": {
     "base_uri": "https://localhost:8080/"
    },
    "executionInfo": {
     "elapsed": 1308,
     "status": "ok",
     "timestamp": 1607777487342,
     "user": {
      "displayName": "Luis DEL POZO",
      "photoUrl": "",
      "userId": "08297678491184687059"
     },
     "user_tz": -60
    },
    "id": "4dNV0PHSAGn9",
    "outputId": "be6b8632-bed0-44f6-b4b8-b27a8d42f6dd"
   },
   "outputs": [
    {
     "name": "stderr",
     "output_type": "stream",
     "text": [
      "/usr/local/lib/python3.6/dist-packages/pandas/core/generic.py:2615: UserWarning: The spaces in these column names will not be changed. In pandas versions < 0.14, spaces were converted to underscores.\n",
      "  method=method,\n"
     ]
    }
   ],
   "source": [
    "trafficDF.to_sql('traffic',conn,if_exists='replace')"
   ]
  },
  {
   "cell_type": "code",
   "execution_count": 270,
   "metadata": {
    "colab": {
     "base_uri": "https://localhost:8080/"
    },
    "executionInfo": {
     "elapsed": 566,
     "status": "ok",
     "timestamp": 1607777510287,
     "user": {
      "displayName": "Luis DEL POZO",
      "photoUrl": "",
      "userId": "08297678491184687059"
     },
     "user_tz": -60
    },
    "id": "RCDNENK4AYRu",
    "outputId": "99ab1a29-df9a-4c8d-b32a-596052fcd356"
   },
   "outputs": [
    {
     "name": "stdout",
     "output_type": "stream",
     "text": [
      "-rw------- 1 root root 7315456 Dec 12 12:51 /content/gdrive/MyDrive/pdsfiles/example.db\n"
     ]
    }
   ],
   "source": [
    "!ls -al {files_loc}/example.db"
   ]
  },
  {
   "cell_type": "code",
   "execution_count": 271,
   "metadata": {
    "colab": {
     "base_uri": "https://localhost:8080/"
    },
    "executionInfo": {
     "elapsed": 563,
     "status": "ok",
     "timestamp": 1607777537619,
     "user": {
      "displayName": "Luis DEL POZO",
      "photoUrl": "",
      "userId": "08297678491184687059"
     },
     "user_tz": -60
    },
    "id": "QKbeNplHAeEB",
    "outputId": "91480c44-34df-4a70-e25c-2bd9ad335831"
   },
   "outputs": [
    {
     "data": {
      "text/plain": [
       "[{'AIRCRAFT_CONFIG': 1,\n",
       "  'AIRCRAFT_GROUP': 6,\n",
       "  'AIRCRAFT_TYPE': 622,\n",
       "  'AIRLINE_ID': 21040.0,\n",
       "  'AIR_TIME': 0.0,\n",
       "  'CARRIER': '02Q',\n",
       "  'CARRIER_GROUP': 0,\n",
       "  'CARRIER_GROUP_NEW': 0.0,\n",
       "  'CARRIER_NAME': 'Titan Airways',\n",
       "  'CLASS': 'L',\n",
       "  'DEPARTURES_PERFORMED': 1.0,\n",
       "  'DEPARTURES_SCHEDULED': 0.0,\n",
       "  'DEST': 'MCO',\n",
       "  'DEST_AIRPORT_ID': 13204,\n",
       "  'DEST_AIRPORT_SEQ_ID': 1320402,\n",
       "  'DEST_CITY_MARKET_ID': 31454,\n",
       "  'DEST_CITY_NAME': 'Orlando, FL',\n",
       "  'DEST_COUNTRY': 'US',\n",
       "  'DEST_COUNTRY_NAME': 'United States',\n",
       "  'DEST_WAC': 33,\n",
       "  'DISTANCE': 3160.0,\n",
       "  'DISTANCE_GROUP': 7,\n",
       "  'FREIGHT': 0.0,\n",
       "  'MAIL': 0.0,\n",
       "  'MONTH': 1,\n",
       "  'ORIGIN': 'TER',\n",
       "  'ORIGIN_AIRPORT_ID': 15174,\n",
       "  'ORIGIN_AIRPORT_SEQ_ID': 1517403,\n",
       "  'ORIGIN_CITY_MARKET_ID': 32946,\n",
       "  'ORIGIN_CITY_NAME': 'Lajes, Portugal',\n",
       "  'ORIGIN_COUNTRY': 'PT',\n",
       "  'ORIGIN_COUNTRY_NAME': 'Portugal',\n",
       "  'ORIGIN_WAC': 469,\n",
       "  'PASSENGERS': 76.0,\n",
       "  'PAYLOAD': 26543.0,\n",
       "  'QUARTER': 1,\n",
       "  'RAMP_TO_RAMP': 0.0,\n",
       "  'REGION': 'I',\n",
       "  'SEATS': 76.0,\n",
       "  'UNIQUE_CARRIER': '02Q',\n",
       "  'UNIQUE_CARRIER_ENTITY': '71004',\n",
       "  'UNIQUE_CARRIER_NAME': 'Titan Airways',\n",
       "  'Unnamed: 43': nan,\n",
       "  'YEAR': 2020},\n",
       " {'AIRCRAFT_CONFIG': 1,\n",
       "  'AIRCRAFT_GROUP': 6,\n",
       "  'AIRCRAFT_TYPE': 622,\n",
       "  'AIRLINE_ID': 21040.0,\n",
       "  'AIR_TIME': 0.0,\n",
       "  'CARRIER': '02Q',\n",
       "  'CARRIER_GROUP': 0,\n",
       "  'CARRIER_GROUP_NEW': 0.0,\n",
       "  'CARRIER_NAME': 'Titan Airways',\n",
       "  'CLASS': 'L',\n",
       "  'DEPARTURES_PERFORMED': 1.0,\n",
       "  'DEPARTURES_SCHEDULED': 0.0,\n",
       "  'DEST': 'STN',\n",
       "  'DEST_AIRPORT_ID': 15018,\n",
       "  'DEST_AIRPORT_SEQ_ID': 1501806,\n",
       "  'DEST_CITY_MARKET_ID': 30730,\n",
       "  'DEST_CITY_NAME': 'London, United Kingdom',\n",
       "  'DEST_COUNTRY': 'GB',\n",
       "  'DEST_COUNTRY_NAME': 'United Kingdom',\n",
       "  'DEST_WAC': 493,\n",
       "  'DISTANCE': 4360.0,\n",
       "  'DISTANCE_GROUP': 9,\n",
       "  'FREIGHT': 0.0,\n",
       "  'MAIL': 0.0,\n",
       "  'MONTH': 1,\n",
       "  'ORIGIN': 'MCO',\n",
       "  'ORIGIN_AIRPORT_ID': 13204,\n",
       "  'ORIGIN_AIRPORT_SEQ_ID': 1320402,\n",
       "  'ORIGIN_CITY_MARKET_ID': 31454,\n",
       "  'ORIGIN_CITY_NAME': 'Orlando, FL',\n",
       "  'ORIGIN_COUNTRY': 'US',\n",
       "  'ORIGIN_COUNTRY_NAME': 'United States',\n",
       "  'ORIGIN_WAC': 33,\n",
       "  'PASSENGERS': 0.0,\n",
       "  'PAYLOAD': 26543.0,\n",
       "  'QUARTER': 1,\n",
       "  'RAMP_TO_RAMP': 0.0,\n",
       "  'REGION': 'I',\n",
       "  'SEATS': 76.0,\n",
       "  'UNIQUE_CARRIER': '02Q',\n",
       "  'UNIQUE_CARRIER_ENTITY': '71004',\n",
       "  'UNIQUE_CARRIER_NAME': 'Titan Airways',\n",
       "  'Unnamed: 43': nan,\n",
       "  'YEAR': 2020}]"
      ]
     },
     "execution_count": 271,
     "metadata": {
      "tags": []
     },
     "output_type": "execute_result"
    }
   ],
   "source": [
    "#Pasamos a un dictionary\n",
    "trafficDF.head(2).to_dict(orient='records')"
   ]
  },
  {
   "cell_type": "code",
   "execution_count": 272,
   "metadata": {
    "colab": {
     "base_uri": "https://localhost:8080/",
     "height": 140
    },
    "executionInfo": {
     "elapsed": 612,
     "status": "ok",
     "timestamp": 1607777608251,
     "user": {
      "displayName": "Luis DEL POZO",
      "photoUrl": "",
      "userId": "08297678491184687059"
     },
     "user_tz": -60
    },
    "id": "oOpa-0MlAkvR",
    "outputId": "9fc8a0c0-6e33-427d-eece-4862d854550c"
   },
   "outputs": [
    {
     "data": {
      "application/vnd.google.colaboratory.intrinsic+json": {
       "type": "string"
      },
      "text/plain": [
       "'[{\"DEPARTURES_SCHEDULED\":0.0,\"DEPARTURES_PERFORMED\":1.0,\"PAYLOAD\":26543.0,\"SEATS\":76.0,\"PASSENGERS\":76.0,\"FREIGHT\":0.0,\"MAIL\":0.0,\"DISTANCE\":3160.0,\"RAMP_TO_RAMP\":0.0,\"AIR_TIME\":0.0,\"UNIQUE_CARRIER\":\"02Q\",\"AIRLINE_ID\":21040.0,\"UNIQUE_CARRIER_NAME\":\"Titan Airways\",\"UNIQUE_CARRIER_ENTITY\":\"71004\",\"REGION\":\"I\",\"CARRIER\":\"02Q\",\"CARRIER_NAME\":\"Titan Airways\",\"CARRIER_GROUP\":0,\"CARRIER_GROUP_NEW\":0.0,\"ORIGIN_AIRPORT_ID\":15174,\"ORIGIN_AIRPORT_SEQ_ID\":1517403,\"ORIGIN_CITY_MARKET_ID\":32946,\"ORIGIN\":\"TER\",\"ORIGIN_CITY_NAME\":\"Lajes, Portugal\",\"ORIGIN_COUNTRY\":\"PT\",\"ORIGIN_COUNTRY_NAME\":\"Portugal\",\"ORIGIN_WAC\":469,\"DEST_AIRPORT_ID\":13204,\"DEST_AIRPORT_SEQ_ID\":1320402,\"DEST_CITY_MARKET_ID\":31454,\"DEST\":\"MCO\",\"DEST_CITY_NAME\":\"Orlando, FL\",\"DEST_COUNTRY\":\"US\",\"DEST_COUNTRY_NAME\":\"United States\",\"DEST_WAC\":33,\"AIRCRAFT_GROUP\":6,\"AIRCRAFT_TYPE\":622,\"AIRCRAFT_CONFIG\":1,\"YEAR\":2020,\"QUARTER\":1,\"MONTH\":1,\"DISTANCE_GROUP\":7,\"CLASS\":\"L\",\"Unnamed: 43\":null},{\"DEPARTURES_SCHEDULED\":0.0,\"DEPARTURES_PERFORMED\":1.0,\"PAYLOAD\":26543.0,\"SEATS\":76.0,\"PASSENGERS\":0.0,\"FREIGHT\":0.0,\"MAIL\":0.0,\"DISTANCE\":4360.0,\"RAMP_TO_RAMP\":0.0,\"AIR_TIME\":0.0,\"UNIQUE_CARRIER\":\"02Q\",\"AIRLINE_ID\":21040.0,\"UNIQUE_CARRIER_NAME\":\"Titan Airways\",\"UNIQUE_CARRIER_ENTITY\":\"71004\",\"REGION\":\"I\",\"CARRIER\":\"02Q\",\"CARRIER_NAME\":\"Titan Airways\",\"CARRIER_GROUP\":0,\"CARRIER_GROUP_NEW\":0.0,\"ORIGIN_AIRPORT_ID\":13204,\"ORIGIN_AIRPORT_SEQ_ID\":1320402,\"ORIGIN_CITY_MARKET_ID\":31454,\"ORIGIN\":\"MCO\",\"ORIGIN_CITY_NAME\":\"Orlando, FL\",\"ORIGIN_COUNTRY\":\"US\",\"ORIGIN_COUNTRY_NAME\":\"United States\",\"ORIGIN_WAC\":33,\"DEST_AIRPORT_ID\":15018,\"DEST_AIRPORT_SEQ_ID\":1501806,\"DEST_CITY_MARKET_ID\":30730,\"DEST\":\"STN\",\"DEST_CITY_NAME\":\"London, United Kingdom\",\"DEST_COUNTRY\":\"GB\",\"DEST_COUNTRY_NAME\":\"United Kingdom\",\"DEST_WAC\":493,\"AIRCRAFT_GROUP\":6,\"AIRCRAFT_TYPE\":622,\"AIRCRAFT_CONFIG\":1,\"YEAR\":2020,\"QUARTER\":1,\"MONTH\":1,\"DISTANCE_GROUP\":9,\"CLASS\":\"L\",\"Unnamed: 43\":null}]'"
      ]
     },
     "execution_count": 272,
     "metadata": {
      "tags": []
     },
     "output_type": "execute_result"
    }
   ],
   "source": [
    "#Pasamos a un json\n",
    "trafficDF.head(2).to_json(orient='records')"
   ]
  },
  {
   "cell_type": "code",
   "execution_count": 274,
   "metadata": {
    "executionInfo": {
     "elapsed": 528,
     "status": "ok",
     "timestamp": 1607777691904,
     "user": {
      "displayName": "Luis DEL POZO",
      "photoUrl": "",
      "userId": "08297678491184687059"
     },
     "user_tz": -60
    },
    "id": "oS4LO2mpA19f"
   },
   "outputs": [],
   "source": [
    "df6 = pd.read_excel(os.path.join(files_loc,'excel_output.xls'))"
   ]
  },
  {
   "cell_type": "code",
   "execution_count": 275,
   "metadata": {
    "colab": {
     "base_uri": "https://localhost:8080/",
     "height": 313
    },
    "executionInfo": {
     "elapsed": 568,
     "status": "ok",
     "timestamp": 1607777702734,
     "user": {
      "displayName": "Luis DEL POZO",
      "photoUrl": "",
      "userId": "08297678491184687059"
     },
     "user_tz": -60
    },
    "id": "GAhJm_kfBHz7",
    "outputId": "b5fbb1b8-90c4-4a85-e7bc-a72834dc9532"
   },
   "outputs": [
    {
     "data": {
      "text/html": [
       "<div>\n",
       "<style scoped>\n",
       "    .dataframe tbody tr th:only-of-type {\n",
       "        vertical-align: middle;\n",
       "    }\n",
       "\n",
       "    .dataframe tbody tr th {\n",
       "        vertical-align: top;\n",
       "    }\n",
       "\n",
       "    .dataframe thead th {\n",
       "        text-align: right;\n",
       "    }\n",
       "</style>\n",
       "<table border=\"1\" class=\"dataframe\">\n",
       "  <thead>\n",
       "    <tr style=\"text-align: right;\">\n",
       "      <th></th>\n",
       "      <th>Unnamed: 0</th>\n",
       "      <th>DEPARTURES_SCHEDULED</th>\n",
       "      <th>DEPARTURES_PERFORMED</th>\n",
       "      <th>PAYLOAD</th>\n",
       "      <th>SEATS</th>\n",
       "      <th>PASSENGERS</th>\n",
       "      <th>FREIGHT</th>\n",
       "      <th>MAIL</th>\n",
       "      <th>DISTANCE</th>\n",
       "      <th>RAMP_TO_RAMP</th>\n",
       "      <th>AIR_TIME</th>\n",
       "      <th>UNIQUE_CARRIER</th>\n",
       "      <th>AIRLINE_ID</th>\n",
       "      <th>UNIQUE_CARRIER_NAME</th>\n",
       "      <th>UNIQUE_CARRIER_ENTITY</th>\n",
       "      <th>REGION</th>\n",
       "      <th>CARRIER</th>\n",
       "      <th>CARRIER_NAME</th>\n",
       "      <th>CARRIER_GROUP</th>\n",
       "      <th>CARRIER_GROUP_NEW</th>\n",
       "      <th>ORIGIN_AIRPORT_ID</th>\n",
       "      <th>ORIGIN_AIRPORT_SEQ_ID</th>\n",
       "      <th>ORIGIN_CITY_MARKET_ID</th>\n",
       "      <th>ORIGIN</th>\n",
       "      <th>ORIGIN_CITY_NAME</th>\n",
       "      <th>ORIGIN_COUNTRY</th>\n",
       "      <th>ORIGIN_COUNTRY_NAME</th>\n",
       "      <th>ORIGIN_WAC</th>\n",
       "      <th>DEST_AIRPORT_ID</th>\n",
       "      <th>DEST_AIRPORT_SEQ_ID</th>\n",
       "      <th>DEST_CITY_MARKET_ID</th>\n",
       "      <th>DEST</th>\n",
       "      <th>DEST_CITY_NAME</th>\n",
       "      <th>DEST_COUNTRY</th>\n",
       "      <th>DEST_COUNTRY_NAME</th>\n",
       "      <th>DEST_WAC</th>\n",
       "      <th>AIRCRAFT_GROUP</th>\n",
       "      <th>AIRCRAFT_TYPE</th>\n",
       "      <th>AIRCRAFT_CONFIG</th>\n",
       "      <th>YEAR</th>\n",
       "      <th>QUARTER</th>\n",
       "      <th>MONTH</th>\n",
       "      <th>DISTANCE_GROUP</th>\n",
       "      <th>CLASS</th>\n",
       "      <th>Unnamed: 43</th>\n",
       "    </tr>\n",
       "  </thead>\n",
       "  <tbody>\n",
       "    <tr>\n",
       "      <th>0</th>\n",
       "      <td>0</td>\n",
       "      <td>0</td>\n",
       "      <td>1</td>\n",
       "      <td>26543</td>\n",
       "      <td>76</td>\n",
       "      <td>76</td>\n",
       "      <td>0</td>\n",
       "      <td>0</td>\n",
       "      <td>3160</td>\n",
       "      <td>0</td>\n",
       "      <td>0</td>\n",
       "      <td>02Q</td>\n",
       "      <td>21040</td>\n",
       "      <td>Titan Airways</td>\n",
       "      <td>71004</td>\n",
       "      <td>I</td>\n",
       "      <td>02Q</td>\n",
       "      <td>Titan Airways</td>\n",
       "      <td>0</td>\n",
       "      <td>0</td>\n",
       "      <td>15174</td>\n",
       "      <td>1517403</td>\n",
       "      <td>32946</td>\n",
       "      <td>TER</td>\n",
       "      <td>Lajes, Portugal</td>\n",
       "      <td>PT</td>\n",
       "      <td>Portugal</td>\n",
       "      <td>469</td>\n",
       "      <td>13204</td>\n",
       "      <td>1320402</td>\n",
       "      <td>31454</td>\n",
       "      <td>MCO</td>\n",
       "      <td>Orlando, FL</td>\n",
       "      <td>US</td>\n",
       "      <td>United States</td>\n",
       "      <td>33</td>\n",
       "      <td>6</td>\n",
       "      <td>622</td>\n",
       "      <td>1</td>\n",
       "      <td>2020</td>\n",
       "      <td>1</td>\n",
       "      <td>1</td>\n",
       "      <td>7</td>\n",
       "      <td>L</td>\n",
       "      <td>NaN</td>\n",
       "    </tr>\n",
       "    <tr>\n",
       "      <th>1</th>\n",
       "      <td>1</td>\n",
       "      <td>0</td>\n",
       "      <td>1</td>\n",
       "      <td>26543</td>\n",
       "      <td>76</td>\n",
       "      <td>0</td>\n",
       "      <td>0</td>\n",
       "      <td>0</td>\n",
       "      <td>4360</td>\n",
       "      <td>0</td>\n",
       "      <td>0</td>\n",
       "      <td>02Q</td>\n",
       "      <td>21040</td>\n",
       "      <td>Titan Airways</td>\n",
       "      <td>71004</td>\n",
       "      <td>I</td>\n",
       "      <td>02Q</td>\n",
       "      <td>Titan Airways</td>\n",
       "      <td>0</td>\n",
       "      <td>0</td>\n",
       "      <td>13204</td>\n",
       "      <td>1320402</td>\n",
       "      <td>31454</td>\n",
       "      <td>MCO</td>\n",
       "      <td>Orlando, FL</td>\n",
       "      <td>US</td>\n",
       "      <td>United States</td>\n",
       "      <td>33</td>\n",
       "      <td>15018</td>\n",
       "      <td>1501806</td>\n",
       "      <td>30730</td>\n",
       "      <td>STN</td>\n",
       "      <td>London, United Kingdom</td>\n",
       "      <td>GB</td>\n",
       "      <td>United Kingdom</td>\n",
       "      <td>493</td>\n",
       "      <td>6</td>\n",
       "      <td>622</td>\n",
       "      <td>1</td>\n",
       "      <td>2020</td>\n",
       "      <td>1</td>\n",
       "      <td>1</td>\n",
       "      <td>9</td>\n",
       "      <td>L</td>\n",
       "      <td>NaN</td>\n",
       "    </tr>\n",
       "    <tr>\n",
       "      <th>2</th>\n",
       "      <td>2</td>\n",
       "      <td>0</td>\n",
       "      <td>1</td>\n",
       "      <td>7198</td>\n",
       "      <td>16</td>\n",
       "      <td>2</td>\n",
       "      <td>0</td>\n",
       "      <td>0</td>\n",
       "      <td>3925</td>\n",
       "      <td>0</td>\n",
       "      <td>0</td>\n",
       "      <td>0BQ</td>\n",
       "      <td>21186</td>\n",
       "      <td>DCA</td>\n",
       "      <td>71033</td>\n",
       "      <td>I</td>\n",
       "      <td>0BQ</td>\n",
       "      <td>DCA</td>\n",
       "      <td>0</td>\n",
       "      <td>0</td>\n",
       "      <td>15022</td>\n",
       "      <td>1502203</td>\n",
       "      <td>35022</td>\n",
       "      <td>STR</td>\n",
       "      <td>Stuttgart, Germany</td>\n",
       "      <td>DE</td>\n",
       "      <td>Germany</td>\n",
       "      <td>429</td>\n",
       "      <td>15167</td>\n",
       "      <td>1516702</td>\n",
       "      <td>35167</td>\n",
       "      <td>TEB</td>\n",
       "      <td>Teterboro, NJ</td>\n",
       "      <td>US</td>\n",
       "      <td>United States</td>\n",
       "      <td>21</td>\n",
       "      <td>6</td>\n",
       "      <td>667</td>\n",
       "      <td>1</td>\n",
       "      <td>2020</td>\n",
       "      <td>1</td>\n",
       "      <td>1</td>\n",
       "      <td>8</td>\n",
       "      <td>L</td>\n",
       "      <td>NaN</td>\n",
       "    </tr>\n",
       "    <tr>\n",
       "      <th>3</th>\n",
       "      <td>3</td>\n",
       "      <td>0</td>\n",
       "      <td>1</td>\n",
       "      <td>7198</td>\n",
       "      <td>16</td>\n",
       "      <td>2</td>\n",
       "      <td>0</td>\n",
       "      <td>0</td>\n",
       "      <td>3925</td>\n",
       "      <td>0</td>\n",
       "      <td>0</td>\n",
       "      <td>0BQ</td>\n",
       "      <td>21186</td>\n",
       "      <td>DCA</td>\n",
       "      <td>71033</td>\n",
       "      <td>I</td>\n",
       "      <td>0BQ</td>\n",
       "      <td>DCA</td>\n",
       "      <td>0</td>\n",
       "      <td>0</td>\n",
       "      <td>15167</td>\n",
       "      <td>1516702</td>\n",
       "      <td>35167</td>\n",
       "      <td>TEB</td>\n",
       "      <td>Teterboro, NJ</td>\n",
       "      <td>US</td>\n",
       "      <td>United States</td>\n",
       "      <td>21</td>\n",
       "      <td>15022</td>\n",
       "      <td>1502203</td>\n",
       "      <td>35022</td>\n",
       "      <td>STR</td>\n",
       "      <td>Stuttgart, Germany</td>\n",
       "      <td>DE</td>\n",
       "      <td>Germany</td>\n",
       "      <td>429</td>\n",
       "      <td>6</td>\n",
       "      <td>667</td>\n",
       "      <td>1</td>\n",
       "      <td>2020</td>\n",
       "      <td>1</td>\n",
       "      <td>1</td>\n",
       "      <td>8</td>\n",
       "      <td>L</td>\n",
       "      <td>NaN</td>\n",
       "    </tr>\n",
       "    <tr>\n",
       "      <th>4</th>\n",
       "      <td>4</td>\n",
       "      <td>0</td>\n",
       "      <td>1</td>\n",
       "      <td>17079</td>\n",
       "      <td>92</td>\n",
       "      <td>0</td>\n",
       "      <td>0</td>\n",
       "      <td>0</td>\n",
       "      <td>3896</td>\n",
       "      <td>0</td>\n",
       "      <td>0</td>\n",
       "      <td>0QQ</td>\n",
       "      <td>21308</td>\n",
       "      <td>TAG Aviation (UK) Ltd.</td>\n",
       "      <td>71062</td>\n",
       "      <td>I</td>\n",
       "      <td>0QQ</td>\n",
       "      <td>TAG Aviation (UK) Ltd.</td>\n",
       "      <td>0</td>\n",
       "      <td>0</td>\n",
       "      <td>15018</td>\n",
       "      <td>1501806</td>\n",
       "      <td>30730</td>\n",
       "      <td>STN</td>\n",
       "      <td>London, United Kingdom</td>\n",
       "      <td>GB</td>\n",
       "      <td>United Kingdom</td>\n",
       "      <td>493</td>\n",
       "      <td>11337</td>\n",
       "      <td>1133705</td>\n",
       "      <td>31337</td>\n",
       "      <td>DLH</td>\n",
       "      <td>Duluth, MN</td>\n",
       "      <td>US</td>\n",
       "      <td>United States</td>\n",
       "      <td>63</td>\n",
       "      <td>6</td>\n",
       "      <td>622</td>\n",
       "      <td>1</td>\n",
       "      <td>2020</td>\n",
       "      <td>1</td>\n",
       "      <td>1</td>\n",
       "      <td>8</td>\n",
       "      <td>L</td>\n",
       "      <td>NaN</td>\n",
       "    </tr>\n",
       "  </tbody>\n",
       "</table>\n",
       "</div>"
      ],
      "text/plain": [
       "   Unnamed: 0  DEPARTURES_SCHEDULED  ...  CLASS  Unnamed: 43\n",
       "0           0                     0  ...      L          NaN\n",
       "1           1                     0  ...      L          NaN\n",
       "2           2                     0  ...      L          NaN\n",
       "3           3                     0  ...      L          NaN\n",
       "4           4                     0  ...      L          NaN\n",
       "\n",
       "[5 rows x 45 columns]"
      ]
     },
     "execution_count": 275,
     "metadata": {
      "tags": []
     },
     "output_type": "execute_result"
    }
   ],
   "source": [
    "df6.head()"
   ]
  },
  {
   "cell_type": "code",
   "execution_count": null,
   "metadata": {
    "id": "UrgW4TKdBNCs"
   },
   "outputs": [],
   "source": []
  }
 ],
 "metadata": {
  "colab": {
   "authorship_tag": "ABX9TyM88dfFx+qwebXs+4putnMA",
   "collapsed_sections": [],
   "name": "05_Python_DS_PANDAS_1.ipynb",
   "provenance": []
  },
  "kernelspec": {
   "display_name": "Python 3",
   "language": "python",
   "name": "python3"
  },
  "language_info": {
   "codemirror_mode": {
    "name": "ipython",
    "version": 3
   },
   "file_extension": ".py",
   "mimetype": "text/x-python",
   "name": "python",
   "nbconvert_exporter": "python",
   "pygments_lexer": "ipython3",
   "version": "3.7.1"
  }
 },
 "nbformat": 4,
 "nbformat_minor": 1
}
