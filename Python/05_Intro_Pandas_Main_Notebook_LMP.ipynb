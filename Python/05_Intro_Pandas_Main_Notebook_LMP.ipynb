{
 "cells": [
  {
   "cell_type": "markdown",
   "metadata": {
    "id": "uZpQ4BDTppii"
   },
   "source": [
    "# Introduction to Data Analysis with Python\n",
    "\n",
    "\n",
    "<img src=\"https://www.python.org/static/img/python-logo.png\" alt=\"yogen\" style=\"width: 200px; float: right;\"/>\n",
    "<br>\n"
   ]
  },
  {
   "cell_type": "markdown",
   "metadata": {
    "collapsed": true,
    "id": "PWoNoXiuppii"
   },
   "source": [
    "# Objectives\n",
    "\n",
    "* Handle tabular data with `pandas`"
   ]
  },
  {
   "cell_type": "markdown",
   "metadata": {
    "id": "z9XzZz55ppii"
   },
   "source": [
    "# The Python scientific stack: SciPy\n",
    "\n"
   ]
  },
  {
   "cell_type": "markdown",
   "metadata": {
    "id": "l3qpvAHUvun6"
   },
   "source": [
    "Python Main Data Libraries\n",
    "NumPy: Base N-dimensional array package\n",
    "\n",
    "SciPy library: Fundamental library for scientific computing\n",
    "\n",
    "Matplotlib: Comprehensive 2D Plotting\n",
    "\n",
    "IPython: Enhanced Interactive Console\n",
    "\n",
    "Sympy: Symbolic mathematics\n",
    "\n",
    "pandas: Data structures & analysis"
   ]
  },
  {
   "cell_type": "markdown",
   "metadata": {
    "id": "oNMknaq3Lgu6"
   },
   "source": [
    "## Saving our work to Google Drive\n",
    "\n",
    "Colab is a very convenient environment, but an ephemeral one. Let's first configure our notebook to save our work to Google Drive, where it can be persisted."
   ]
  },
  {
   "cell_type": "code",
   "execution_count": 1,
   "metadata": {
    "colab": {
     "base_uri": "https://localhost:8080/"
    },
    "executionInfo": {
     "elapsed": 27422,
     "status": "ok",
     "timestamp": 1608717582211,
     "user": {
      "displayName": "Luis DEL POZO",
      "photoUrl": "",
      "userId": "08297678491184687059"
     },
     "user_tz": -60
    },
    "id": "yxfzsiIyLw21",
    "outputId": "faf831b9-dfc6-424a-a24c-de5e2fe2e743"
   },
   "outputs": [
    {
     "name": "stdout",
     "output_type": "stream",
     "text": [
      "Mounted at /content/gdrive\n"
     ]
    }
   ],
   "source": [
    "import os\n",
    "drive_loc = '/content/gdrive'\n",
    "files_loc = os.path.join(drive_loc, 'MyDrive', 'pdsfiles')\n",
    "\n",
    "from google.colab import drive\n",
    "drive.mount(drive_loc)"
   ]
  },
  {
   "cell_type": "markdown",
   "metadata": {
    "id": "zgCjEepDJe9U"
   },
   "source": [
    "Let's create a directory to hold all our work and make sure it's there:"
   ]
  },
  {
   "cell_type": "code",
   "execution_count": 2,
   "metadata": {
    "colab": {
     "base_uri": "https://localhost:8080/"
    },
    "executionInfo": {
     "elapsed": 1566,
     "status": "ok",
     "timestamp": 1608717617954,
     "user": {
      "displayName": "Luis DEL POZO",
      "photoUrl": "",
      "userId": "08297678491184687059"
     },
     "user_tz": -60
    },
    "id": "AbqMNDZuL5bF",
    "outputId": "09fa0e8f-87b5-43e4-828b-86489e86c63b"
   },
   "outputs": [
    {
     "name": "stdout",
     "output_type": "stream",
     "text": [
      "207831-0-accidentes-trafico.xls    example.db_2\n",
      "207831-0-accidentes-trafico.xls.1  excel_output_2.xls\n",
      "207831-0-accidentes-trafico.xls.2  excel_output.xls\n",
      "207831-0-accidentes-trafico.xls.3  out.csv_2\n",
      "207831-0-accidentes-trafico.xls.4  s3.pkl\n",
      "207831-0-accidentes-trafico.xls.5  T100_AIRLINES.csv\n",
      "csv_output.xls\t\t\t   T100I_SEGMENT_ALL_CARRIER.csv\n",
      "df2.pkl\t\t\t\t   uk_data.csv\n",
      "example.db\n"
     ]
    }
   ],
   "source": [
    "!mkdir -p {files_loc}\n",
    "!ls {files_loc}"
   ]
  },
  {
   "cell_type": "markdown",
   "metadata": {
    "id": "MabkSjlippij"
   },
   "source": [
    "## `pandas`\n",
    "\n",
    "Distinct set of requirements that pandas introduces:\n",
    "\n",
    "- Data structures with labeled axes supporting automatic or explicit data alignment. This prevents common errors resulting from misaligned data and working with differently-indexed data coming from different sources.\n",
    "\n",
    "- Integrated time series functionality.\n",
    "\n",
    "- The same data structures handle both time series data and non-time series data.\n",
    "\n",
    "- Arithmetic operations and reductions (like summing across an axis) would pass on the metadata (axis labels).\n",
    "\n",
    "- Flexible handling of missing data.\n",
    "\n",
    "- Merge and other relational operations found in popular database databases (SQL-based, for example)."
   ]
  },
  {
   "cell_type": "markdown",
   "metadata": {
    "id": "98AeC3GUppij"
   },
   "source": [
    "### Getting started with pandas\n",
    "\n",
    "First, always remember to check the [API Reference](https://pandas.pydata.org/pandas-docs/stable/reference/index.html).\n",
    "\n",
    "![Read the effing manual](https://i.kym-cdn.com/photos/images/newsfeed/000/017/668/Mao_RTFM_vectorize_by_cmenghi.png?1318992465)\n",
    "\n",
    "Convention: when you see `pd`, it means the imported `Pandas` module. We'll be combining it with Numpy as well:"
   ]
  },
  {
   "cell_type": "code",
   "execution_count": 3,
   "metadata": {
    "executionInfo": {
     "elapsed": 1053,
     "status": "ok",
     "timestamp": 1608717623863,
     "user": {
      "displayName": "Luis DEL POZO",
      "photoUrl": "",
      "userId": "08297678491184687059"
     },
     "user_tz": -60
    },
    "id": "2zoyhRZLppij"
   },
   "outputs": [],
   "source": [
    "import pandas as pd\n",
    "import numpy as np"
   ]
  },
  {
   "cell_type": "markdown",
   "metadata": {
    "id": "XcuaZAy3J67c"
   },
   "source": [
    "Pandas is evolving. If you look around in the Internet or articles/books, you may find things that go back to Pandas 0.21. In our case, in the included Colab supported runtime, we've got:"
   ]
  },
  {
   "cell_type": "code",
   "execution_count": 8,
   "metadata": {
    "colab": {
     "base_uri": "https://localhost:8080/",
     "height": 35
    },
    "executionInfo": {
     "elapsed": 31479,
     "status": "ok",
     "timestamp": 1608654660901,
     "user": {
      "displayName": "Luis DEL POZO",
      "photoUrl": "",
      "userId": "08297678491184687059"
     },
     "user_tz": -60
    },
    "id": "Pz4PQcFhGmyG",
    "outputId": "fdaa02c7-b999-46f2-cfa3-8f4eca630da5"
   },
   "outputs": [
    {
     "data": {
      "application/vnd.google.colaboratory.intrinsic+json": {
       "type": "string"
      },
      "text/plain": [
       "'1.1.5'"
      ]
     },
     "execution_count": 8,
     "metadata": {
      "tags": []
     },
     "output_type": "execute_result"
    }
   ],
   "source": [
    "pd.__version__"
   ]
  },
  {
   "cell_type": "markdown",
   "metadata": {
    "id": "xrwTa-uUKQxS"
   },
   "source": [
    "...which is quite updated."
   ]
  },
  {
   "cell_type": "markdown",
   "metadata": {
    "id": "5gPMihG2ppij"
   },
   "source": [
    "Pandas Data Structures are **Series** and **Dataframes**. While they are not a universal solution, they provide a solid, easy-to-use foundation to data mangling tooling in the Data Science world."
   ]
  },
  {
   "cell_type": "markdown",
   "metadata": {
    "id": "_4r39ua3ppij"
   },
   "source": [
    "### Series\n",
    "\n",
    "A Series is a one-dimensional array-like object containing\n",
    "- an array of **data** (of any NumPy data type)\n",
    "- an associated array of data labels, called its **index**.\n",
    "\n",
    "It is the base pandas abstraction. You can thing of it as the love child of a numpy array and a dictionary, sort of-ish.\n",
    "\n",
    "The simplest Series is formed from only an array of data:"
   ]
  },
  {
   "cell_type": "code",
   "execution_count": 9,
   "metadata": {
    "colab": {
     "base_uri": "https://localhost:8080/"
    },
    "executionInfo": {
     "elapsed": 31471,
     "status": "ok",
     "timestamp": 1608654660902,
     "user": {
      "displayName": "Luis DEL POZO",
      "photoUrl": "",
      "userId": "08297678491184687059"
     },
     "user_tz": -60
    },
    "id": "6GNZQWjMppij",
    "outputId": "a71677ad-0f4a-439a-f13a-9809477ccd92"
   },
   "outputs": [
    {
     "data": {
      "text/plain": [
       "pandas.core.series.Series"
      ]
     },
     "execution_count": 9,
     "metadata": {
      "tags": []
     },
     "output_type": "execute_result"
    }
   ],
   "source": [
    "s = pd.Series([4, 7, -5, 3])\n",
    "type(s)"
   ]
  },
  {
   "cell_type": "code",
   "execution_count": 10,
   "metadata": {
    "colab": {
     "base_uri": "https://localhost:8080/"
    },
    "executionInfo": {
     "elapsed": 31465,
     "status": "ok",
     "timestamp": 1608654660904,
     "user": {
      "displayName": "Luis DEL POZO",
      "photoUrl": "",
      "userId": "08297678491184687059"
     },
     "user_tz": -60
    },
    "id": "d3QzcTOJ4buz",
    "outputId": "98df59b8-3bdf-4c0e-f597-c825dc9bfb19"
   },
   "outputs": [
    {
     "data": {
      "text/plain": [
       "0    4\n",
       "1    7\n",
       "2   -5\n",
       "3    3\n",
       "dtype: int64"
      ]
     },
     "execution_count": 10,
     "metadata": {
      "tags": []
     },
     "output_type": "execute_result"
    }
   ],
   "source": [
    "s"
   ]
  },
  {
   "cell_type": "markdown",
   "metadata": {
    "id": "i8Q7MYI5ppij"
   },
   "source": [
    "The string representation of a Series displayed interactively shows the index on the left and the values on the right. Since we did not specify an index for the data, a default one consisting of the integers 0 through N - 1 (where N is the length of the data) is created.\n",
    "\n",
    "If we provide an index, pandas will use it. If not, it will automatically create one."
   ]
  },
  {
   "cell_type": "code",
   "execution_count": 11,
   "metadata": {
    "colab": {
     "base_uri": "https://localhost:8080/"
    },
    "executionInfo": {
     "elapsed": 31458,
     "status": "ok",
     "timestamp": 1608654660905,
     "user": {
      "displayName": "Luis DEL POZO",
      "photoUrl": "",
      "userId": "08297678491184687059"
     },
     "user_tz": -60
    },
    "id": "51gsf70n6We9",
    "outputId": "68bdc07f-aae2-48e5-e3fd-c044a13e8293"
   },
   "outputs": [
    {
     "data": {
      "text/plain": [
       "RangeIndex(start=0, stop=4, step=1)"
      ]
     },
     "execution_count": 11,
     "metadata": {
      "tags": []
     },
     "output_type": "execute_result"
    }
   ],
   "source": [
    "s.index"
   ]
  },
  {
   "cell_type": "markdown",
   "metadata": {
    "id": "5hBVtntzK3g5"
   },
   "source": [
    "Yep, that was Pandas [optimizing things](https://pandas.pydata.org/pandas-docs/stable/reference/api/pandas.RangeIndex.html#:~:text=RangeIndex%20is%20a%20memory%2Dsaving,is%20provided%20by%20the%20user.). Same thing, we can ask our Series for just the values:"
   ]
  },
  {
   "cell_type": "code",
   "execution_count": 12,
   "metadata": {
    "colab": {
     "base_uri": "https://localhost:8080/"
    },
    "executionInfo": {
     "elapsed": 32048,
     "status": "ok",
     "timestamp": 1608654661522,
     "user": {
      "displayName": "Luis DEL POZO",
      "photoUrl": "",
      "userId": "08297678491184687059"
     },
     "user_tz": -60
    },
    "id": "fwdy0j1Ippij",
    "outputId": "c5beea5b-2280-4884-db27-02a17a41cc81"
   },
   "outputs": [
    {
     "data": {
      "text/plain": [
       "array([ 4,  7, -5,  3])"
      ]
     },
     "execution_count": 12,
     "metadata": {
      "tags": []
     },
     "output_type": "execute_result"
    }
   ],
   "source": [
    "s.values"
   ]
  },
  {
   "cell_type": "markdown",
   "metadata": {
    "id": "j4z5kjV1LXlG"
   },
   "source": [
    "Just to be sure, I told you this was a Numpy array. It is:"
   ]
  },
  {
   "cell_type": "code",
   "execution_count": 13,
   "metadata": {
    "colab": {
     "base_uri": "https://localhost:8080/"
    },
    "executionInfo": {
     "elapsed": 32043,
     "status": "ok",
     "timestamp": 1608654661525,
     "user": {
      "displayName": "Luis DEL POZO",
      "photoUrl": "",
      "userId": "08297678491184687059"
     },
     "user_tz": -60
    },
    "id": "nDYNYgTrLUSg",
    "outputId": "4e9396b5-b644-4e70-fa7d-659009058569"
   },
   "outputs": [
    {
     "data": {
      "text/plain": [
       "numpy.ndarray"
      ]
     },
     "execution_count": 13,
     "metadata": {
      "tags": []
     },
     "output_type": "execute_result"
    }
   ],
   "source": [
    "type(s.values)"
   ]
  },
  {
   "cell_type": "markdown",
   "metadata": {
    "id": "1MJA_qSR6u10"
   },
   "source": [
    "Often it will be desirable to create a Series with an index identifying each data point:"
   ]
  },
  {
   "cell_type": "code",
   "execution_count": 14,
   "metadata": {
    "colab": {
     "base_uri": "https://localhost:8080/"
    },
    "executionInfo": {
     "elapsed": 32036,
     "status": "ok",
     "timestamp": 1608654661527,
     "user": {
      "displayName": "Luis DEL POZO",
      "photoUrl": "",
      "userId": "08297678491184687059"
     },
     "user_tz": -60
    },
    "id": "Fiepzbn5ppij",
    "outputId": "1a5ab313-428a-4dda-b822-97c47ba48a29"
   },
   "outputs": [
    {
     "data": {
      "text/plain": [
       "j     1.0\n",
       "a     2.0\n",
       "v     4.5\n",
       "i     7.0\n",
       "e     2.0\n",
       "r    23.0\n",
       "c    15.0\n",
       "dtype: float64"
      ]
     },
     "execution_count": 14,
     "metadata": {
      "tags": []
     },
     "output_type": "execute_result"
    }
   ],
   "source": [
    "s2 = pd.Series([1, 2, 4.5, 7, 2, 23, 15], index=list('javierc'))\n",
    "s2"
   ]
  },
  {
   "cell_type": "markdown",
   "metadata": {
    "id": "lMTx_jAy7CP6"
   },
   "source": [
    "We were quite lazy back there providing the list, weren't we? \n",
    "\n",
    "Compared with a regular NumPy array, you can use values in the index when selecting single values or a set of values:"
   ]
  },
  {
   "cell_type": "code",
   "execution_count": 15,
   "metadata": {
    "colab": {
     "base_uri": "https://localhost:8080/"
    },
    "executionInfo": {
     "elapsed": 32026,
     "status": "ok",
     "timestamp": 1608654661529,
     "user": {
      "displayName": "Luis DEL POZO",
      "photoUrl": "",
      "userId": "08297678491184687059"
     },
     "user_tz": -60
    },
    "id": "U21_4l9Gppij",
    "outputId": "96c422ce-c2b3-4583-e444-c44bbc339d36"
   },
   "outputs": [
    {
     "data": {
      "text/plain": [
       "23.0"
      ]
     },
     "execution_count": 15,
     "metadata": {
      "tags": []
     },
     "output_type": "execute_result"
    }
   ],
   "source": [
    "s2['r']"
   ]
  },
  {
   "cell_type": "markdown",
   "metadata": {
    "id": "loN21f8q7OYU"
   },
   "source": [
    "Now, that's convenient.\n",
    "\n",
    "NumPy array operations, such as filtering with a boolean array, scalar multiplication, or applying math functions, that you now know better than me, will preserve the index-value link:"
   ]
  },
  {
   "cell_type": "code",
   "execution_count": 16,
   "metadata": {
    "colab": {
     "base_uri": "https://localhost:8080/"
    },
    "executionInfo": {
     "elapsed": 32021,
     "status": "ok",
     "timestamp": 1608654661532,
     "user": {
      "displayName": "Luis DEL POZO",
      "photoUrl": "",
      "userId": "08297678491184687059"
     },
     "user_tz": -60
    },
    "id": "279Gk6Adppij",
    "outputId": "e200cf01-8d72-474c-fbea-53e12aa25683"
   },
   "outputs": [
    {
     "data": {
      "text/plain": [
       "j    False\n",
       "a     True\n",
       "v    False\n",
       "i    False\n",
       "e     True\n",
       "r    False\n",
       "c    False\n",
       "dtype: bool"
      ]
     },
     "execution_count": 16,
     "metadata": {
      "tags": []
     },
     "output_type": "execute_result"
    }
   ],
   "source": [
    "s2 % 2 == 0"
   ]
  },
  {
   "cell_type": "markdown",
   "metadata": {
    "id": "8OPC4IsAMG3y"
   },
   "source": [
    "We can similarly apply boolean selection operations to the Series: "
   ]
  },
  {
   "cell_type": "code",
   "execution_count": 17,
   "metadata": {
    "colab": {
     "base_uri": "https://localhost:8080/"
    },
    "executionInfo": {
     "elapsed": 32015,
     "status": "ok",
     "timestamp": 1608654661534,
     "user": {
      "displayName": "Luis DEL POZO",
      "photoUrl": "",
      "userId": "08297678491184687059"
     },
     "user_tz": -60
    },
    "id": "5Ovmtw3mppik",
    "outputId": "d1bb1777-5f29-4105-be23-5ecf46bb666c"
   },
   "outputs": [
    {
     "data": {
      "text/plain": [
       "a    2.0\n",
       "e    2.0\n",
       "dtype: float64"
      ]
     },
     "execution_count": 17,
     "metadata": {
      "tags": []
     },
     "output_type": "execute_result"
    }
   ],
   "source": [
    "s2[s2 % 2 == 0]"
   ]
  },
  {
   "cell_type": "markdown",
   "metadata": {
    "id": "8tqesChmMQ-h"
   },
   "source": [
    "...and go beyond pure logical operations, of course:"
   ]
  },
  {
   "cell_type": "code",
   "execution_count": 18,
   "metadata": {
    "colab": {
     "base_uri": "https://localhost:8080/"
    },
    "executionInfo": {
     "elapsed": 32007,
     "status": "ok",
     "timestamp": 1608654661535,
     "user": {
      "displayName": "Luis DEL POZO",
      "photoUrl": "",
      "userId": "08297678491184687059"
     },
     "user_tz": -60
    },
    "id": "fLecZtU9ppik",
    "outputId": "083dd95d-ff5c-4717-a097-c642ecc07b81"
   },
   "outputs": [
    {
     "data": {
      "text/plain": [
       "j     2.0\n",
       "a     4.0\n",
       "v     9.0\n",
       "i    14.0\n",
       "e     4.0\n",
       "r    46.0\n",
       "c    30.0\n",
       "dtype: float64"
      ]
     },
     "execution_count": 18,
     "metadata": {
      "tags": []
     },
     "output_type": "execute_result"
    }
   ],
   "source": [
    "s2 * 2"
   ]
  },
  {
   "cell_type": "code",
   "execution_count": 19,
   "metadata": {
    "colab": {
     "base_uri": "https://localhost:8080/"
    },
    "executionInfo": {
     "elapsed": 32002,
     "status": "ok",
     "timestamp": 1608654661537,
     "user": {
      "displayName": "Luis DEL POZO",
      "photoUrl": "",
      "userId": "08297678491184687059"
     },
     "user_tz": -60
    },
    "id": "GeU2Opoippik",
    "outputId": "586ea61a-72ef-4aee-aba3-b48d8be99f21"
   },
   "outputs": [
    {
     "data": {
      "text/plain": [
       "j    2.718282e+00\n",
       "a    7.389056e+00\n",
       "v    9.001713e+01\n",
       "i    1.096633e+03\n",
       "e    7.389056e+00\n",
       "r    9.744803e+09\n",
       "c    3.269017e+06\n",
       "dtype: float64"
      ]
     },
     "execution_count": 19,
     "metadata": {
      "tags": []
     },
     "output_type": "execute_result"
    }
   ],
   "source": [
    "np.exp(s2)"
   ]
  },
  {
   "cell_type": "markdown",
   "metadata": {
    "id": "br-nT4O8MfxC"
   },
   "source": [
    "Note that these operations are not being applied on the original object, but rather in a copy that's being returned:"
   ]
  },
  {
   "cell_type": "code",
   "execution_count": 20,
   "metadata": {
    "colab": {
     "base_uri": "https://localhost:8080/"
    },
    "executionInfo": {
     "elapsed": 31995,
     "status": "ok",
     "timestamp": 1608654661539,
     "user": {
      "displayName": "Luis DEL POZO",
      "photoUrl": "",
      "userId": "08297678491184687059"
     },
     "user_tz": -60
    },
    "id": "C5uyCSKHMaUt",
    "outputId": "5fd6718e-3806-42b5-c4c6-272f9acb3707"
   },
   "outputs": [
    {
     "data": {
      "text/plain": [
       "j     1.0\n",
       "a     2.0\n",
       "v     4.5\n",
       "i     7.0\n",
       "e     2.0\n",
       "r    23.0\n",
       "c    15.0\n",
       "dtype: float64"
      ]
     },
     "execution_count": 20,
     "metadata": {
      "tags": []
     },
     "output_type": "execute_result"
    }
   ],
   "source": [
    "s2"
   ]
  },
  {
   "cell_type": "markdown",
   "metadata": {
    "id": "_Ou1PMK77mRa"
   },
   "source": [
    "Another way to think about a Series is as a fixed-length, ordered dict, as it is a mapping of index values to data values (because, remember, a Python dictionary is unordered, and it can be extended). It can be substituted into many functions that expect a dict:"
   ]
  },
  {
   "cell_type": "code",
   "execution_count": 21,
   "metadata": {
    "colab": {
     "base_uri": "https://localhost:8080/"
    },
    "executionInfo": {
     "elapsed": 31990,
     "status": "ok",
     "timestamp": 1608654661541,
     "user": {
      "displayName": "Luis DEL POZO",
      "photoUrl": "",
      "userId": "08297678491184687059"
     },
     "user_tz": -60
    },
    "id": "Pu-rVCGappik",
    "outputId": "73998603-c488-433e-ecdf-a9cb37869304"
   },
   "outputs": [
    {
     "data": {
      "text/plain": [
       "True"
      ]
     },
     "execution_count": 21,
     "metadata": {
      "tags": []
     },
     "output_type": "execute_result"
    }
   ],
   "source": [
    "'i' in s2"
   ]
  },
  {
   "cell_type": "markdown",
   "metadata": {
    "id": "8lEVFAyvppik"
   },
   "source": [
    "We can create Series from dictionaries:"
   ]
  },
  {
   "cell_type": "code",
   "execution_count": 22,
   "metadata": {
    "colab": {
     "base_uri": "https://localhost:8080/"
    },
    "executionInfo": {
     "elapsed": 31983,
     "status": "ok",
     "timestamp": 1608654661543,
     "user": {
      "displayName": "Luis DEL POZO",
      "photoUrl": "",
      "userId": "08297678491184687059"
     },
     "user_tz": -60
    },
    "id": "rp-aesb2ppik",
    "outputId": "fccde294-b7d8-4e11-d3b7-28612883614c"
   },
   "outputs": [
    {
     "data": {
      "text/plain": [
       "Zaragoza     250000.0\n",
       "Sevilla      500000.0\n",
       "Cordoba      300000.0\n",
       "Madrid      6000000.0\n",
       "dtype: float64"
      ]
     },
     "execution_count": 22,
     "metadata": {
      "tags": []
     },
     "output_type": "execute_result"
    }
   ],
   "source": [
    "sdata = {\n",
    "    'Zaragoza' : 2.5e5,\n",
    "    'Sevilla': 5e5,\n",
    "    'Cordoba': 3e5,\n",
    "    'Madrid': 6e6}\n",
    "\n",
    "s3 = pd.Series(sdata)\n",
    "s3"
   ]
  },
  {
   "cell_type": "markdown",
   "metadata": {
    "id": "0NOsEetHrLs6"
   },
   "source": [
    "We'll be using s3 later on, so because of the ephemeral nature of Colab, we'll store our Series in our Google Drive instead of redoing all the steps.\n",
    "\n",
    "We'll be using as well a handy feature of Colab, which is [Colab Forms](https://colab.research.google.com/notebooks/forms.ipynb) to enable o disable the conditional execution of a code cell based on the UI input exposed by the form:"
   ]
  },
  {
   "cell_type": "code",
   "execution_count": 23,
   "metadata": {
    "executionInfo": {
     "elapsed": 32630,
     "status": "ok",
     "timestamp": 1608654662192,
     "user": {
      "displayName": "Luis DEL POZO",
      "photoUrl": "",
      "userId": "08297678491184687059"
     },
     "user_tz": -60
    },
    "id": "qUXYu0ScxAuc"
   },
   "outputs": [],
   "source": [
    "#@title Saving s3 to Drive\n",
    "import os\n",
    "save_to_drive = True #@param {type:\"boolean\"}\n",
    "\n",
    "if save_to_drive and files_loc:\n",
    "  s3.to_pickle(os.path.join(files_loc,\"s3.pkl\"))\n",
    "else:\n",
    "  print('Please, mount Google Drive running the cell at the beginning and try again')"
   ]
  },
  {
   "cell_type": "markdown",
   "metadata": {
    "id": "_Tk4ANzHtbZp"
   },
   "source": [
    "Let's check that our pickle file is there:"
   ]
  },
  {
   "cell_type": "code",
   "execution_count": 24,
   "metadata": {
    "colab": {
     "base_uri": "https://localhost:8080/"
    },
    "executionInfo": {
     "elapsed": 32625,
     "status": "ok",
     "timestamp": 1608654662195,
     "user": {
      "displayName": "Luis DEL POZO",
      "photoUrl": "",
      "userId": "08297678491184687059"
     },
     "user_tz": -60
    },
    "id": "O4msJKbUxTjD",
    "outputId": "7529d009-ea0f-4563-b15c-06407c0e616c"
   },
   "outputs": [
    {
     "name": "stdout",
     "output_type": "stream",
     "text": [
      "/content/gdrive/MyDrive/pdsfiles/s3.pkl\n"
     ]
    }
   ],
   "source": [
    "!ls {files_loc}/s3.pkl"
   ]
  },
  {
   "cell_type": "markdown",
   "metadata": {
    "id": "y2NDOS8s9wWx"
   },
   "source": [
    "When only passing a dict, the index in the resulting Series will **not** have the dict’s keys in sorted order:"
   ]
  },
  {
   "cell_type": "code",
   "execution_count": 25,
   "metadata": {
    "colab": {
     "base_uri": "https://localhost:8080/"
    },
    "executionInfo": {
     "elapsed": 32619,
     "status": "ok",
     "timestamp": 1608654662197,
     "user": {
      "displayName": "Luis DEL POZO",
      "photoUrl": "",
      "userId": "08297678491184687059"
     },
     "user_tz": -60
    },
    "id": "YIy3iQ5KubSu",
    "outputId": "709a2d77-c40d-4144-c83a-1d5b4d9ce696"
   },
   "outputs": [
    {
     "data": {
      "text/plain": [
       "Zaragoza     250000.0\n",
       "Sevilla      500000.0\n",
       "Cordoba      300000.0\n",
       "Madrid      6000000.0\n",
       "dtype: float64"
      ]
     },
     "execution_count": 25,
     "metadata": {
      "tags": []
     },
     "output_type": "execute_result"
    }
   ],
   "source": [
    "s3"
   ]
  },
  {
   "cell_type": "markdown",
   "metadata": {
    "id": "7I7bCV30ud03"
   },
   "source": [
    "If you want the keys in sorted order, you need to explicitly define it with `sort_index()`:"
   ]
  },
  {
   "cell_type": "code",
   "execution_count": 26,
   "metadata": {
    "colab": {
     "base_uri": "https://localhost:8080/"
    },
    "executionInfo": {
     "elapsed": 32615,
     "status": "ok",
     "timestamp": 1608654662201,
     "user": {
      "displayName": "Luis DEL POZO",
      "photoUrl": "",
      "userId": "08297678491184687059"
     },
     "user_tz": -60
    },
    "id": "vgeV9rG9uo90",
    "outputId": "ca636b5d-f3bb-4a06-e41f-3b200ca70ba2"
   },
   "outputs": [
    {
     "data": {
      "text/plain": [
       "Cordoba      300000.0\n",
       "Madrid      6000000.0\n",
       "Sevilla      500000.0\n",
       "Zaragoza     250000.0\n",
       "dtype: float64"
      ]
     },
     "execution_count": 26,
     "metadata": {
      "tags": []
     },
     "output_type": "execute_result"
    }
   ],
   "source": [
    "s3 = pd.Series(sdata).sort_index()\n",
    "s3"
   ]
  },
  {
   "cell_type": "markdown",
   "metadata": {
    "id": "OEGFJp5Bu08V"
   },
   "source": [
    "You can control the ordering as well by explicitly defining the index order using a list:"
   ]
  },
  {
   "cell_type": "code",
   "execution_count": 27,
   "metadata": {
    "colab": {
     "base_uri": "https://localhost:8080/"
    },
    "executionInfo": {
     "elapsed": 32611,
     "status": "ok",
     "timestamp": 1608654662205,
     "user": {
      "displayName": "Luis DEL POZO",
      "photoUrl": "",
      "userId": "08297678491184687059"
     },
     "user_tz": -60
    },
    "id": "--HBXL_x95Zj",
    "outputId": "a54a192c-748a-4571-9c42-a7325d1fd325"
   },
   "outputs": [
    {
     "data": {
      "text/plain": [
       "Cordoba      300000.0\n",
       "Madrid      6000000.0\n",
       "Valencia          NaN\n",
       "Zaragoza     250000.0\n",
       "dtype: float64"
      ]
     },
     "execution_count": 27,
     "metadata": {
      "tags": []
     },
     "output_type": "execute_result"
    }
   ],
   "source": [
    "cities = ['Cordoba', 'Madrid', 'Valencia', 'Zaragoza']\n",
    "s4 = pd.Series(sdata, index=cities)\n",
    "s4"
   ]
  },
  {
   "cell_type": "markdown",
   "metadata": {
    "id": "RSQtQfZQ_Uzm"
   },
   "source": [
    "In this case, 3 values found in sdata were placed in the appropriate locations, but since no value for 'Valencia' was found, it appears as NaN (not a number) which is considered in pandas to mark missing or NA values. We will use the terms “missing” or “NA” to refer to missing data. The isnull and notnull functions in pandas should be used to detect missing data:"
   ]
  },
  {
   "cell_type": "code",
   "execution_count": 28,
   "metadata": {
    "colab": {
     "base_uri": "https://localhost:8080/"
    },
    "executionInfo": {
     "elapsed": 32606,
     "status": "ok",
     "timestamp": 1608654662208,
     "user": {
      "displayName": "Luis DEL POZO",
      "photoUrl": "",
      "userId": "08297678491184687059"
     },
     "user_tz": -60
    },
    "id": "0OIXjMwf_g88",
    "outputId": "6009ad05-305c-4f6c-f0dd-f9f9db7906d4"
   },
   "outputs": [
    {
     "data": {
      "text/plain": [
       "Cordoba     False\n",
       "Madrid      False\n",
       "Valencia     True\n",
       "Zaragoza    False\n",
       "dtype: bool"
      ]
     },
     "execution_count": 28,
     "metadata": {
      "tags": []
     },
     "output_type": "execute_result"
    }
   ],
   "source": [
    "pd.isnull(s4)"
   ]
  },
  {
   "cell_type": "code",
   "execution_count": 29,
   "metadata": {
    "colab": {
     "base_uri": "https://localhost:8080/"
    },
    "executionInfo": {
     "elapsed": 32601,
     "status": "ok",
     "timestamp": 1608654662210,
     "user": {
      "displayName": "Luis DEL POZO",
      "photoUrl": "",
      "userId": "08297678491184687059"
     },
     "user_tz": -60
    },
    "id": "lamIf-mx_or6",
    "outputId": "5e356958-4d1a-4390-a6e4-5616330b1e1d"
   },
   "outputs": [
    {
     "data": {
      "text/plain": [
       "Cordoba      True\n",
       "Madrid       True\n",
       "Valencia    False\n",
       "Zaragoza     True\n",
       "dtype: bool"
      ]
     },
     "execution_count": 29,
     "metadata": {
      "tags": []
     },
     "output_type": "execute_result"
    }
   ],
   "source": [
    "pd.notnull(s4)"
   ]
  },
  {
   "cell_type": "markdown",
   "metadata": {
    "id": "xnqEc2aQBHVt"
   },
   "source": [
    "These can also be consumed as instance methods:"
   ]
  },
  {
   "cell_type": "code",
   "execution_count": 30,
   "metadata": {
    "colab": {
     "base_uri": "https://localhost:8080/"
    },
    "executionInfo": {
     "elapsed": 32595,
     "status": "ok",
     "timestamp": 1608654662211,
     "user": {
      "displayName": "Luis DEL POZO",
      "photoUrl": "",
      "userId": "08297678491184687059"
     },
     "user_tz": -60
    },
    "id": "xo2XvfciBOxU",
    "outputId": "74c458b2-58a4-4817-8dae-094cec796a97"
   },
   "outputs": [
    {
     "data": {
      "text/plain": [
       "Cordoba      True\n",
       "Madrid       True\n",
       "Valencia    False\n",
       "Zaragoza     True\n",
       "dtype: bool"
      ]
     },
     "execution_count": 30,
     "metadata": {
      "tags": []
     },
     "output_type": "execute_result"
    }
   ],
   "source": [
    "s4.notnull()"
   ]
  },
  {
   "cell_type": "markdown",
   "metadata": {
    "id": "9Y0qFvbYBa9A"
   },
   "source": [
    "A critical `Series` feature for many applications is that it automatically aligns differently-indexed data in arithmetic operations:"
   ]
  },
  {
   "cell_type": "code",
   "execution_count": 31,
   "metadata": {
    "colab": {
     "base_uri": "https://localhost:8080/"
    },
    "executionInfo": {
     "elapsed": 32588,
     "status": "ok",
     "timestamp": 1608654662213,
     "user": {
      "displayName": "Luis DEL POZO",
      "photoUrl": "",
      "userId": "08297678491184687059"
     },
     "user_tz": -60
    },
    "id": "qSXX6fORppik",
    "outputId": "e5ad84d0-1c24-47f8-c9d2-1329b4125d10"
   },
   "outputs": [
    {
     "data": {
      "text/plain": [
       "Cordoba       600000.0\n",
       "Madrid      12000000.0\n",
       "Sevilla            NaN\n",
       "Valencia           NaN\n",
       "Zaragoza      500000.0\n",
       "dtype: float64"
      ]
     },
     "execution_count": 31,
     "metadata": {
      "tags": []
     },
     "output_type": "execute_result"
    }
   ],
   "source": [
    "s3 + s4"
   ]
  },
  {
   "cell_type": "markdown",
   "metadata": {
    "id": "-7PapEEPppik"
   },
   "source": [
    "Both the Series object itself and its index have a name attribute, which integrates with other key areas of pandas functionality:"
   ]
  },
  {
   "cell_type": "code",
   "execution_count": 32,
   "metadata": {
    "colab": {
     "base_uri": "https://localhost:8080/"
    },
    "executionInfo": {
     "elapsed": 32582,
     "status": "ok",
     "timestamp": 1608654662215,
     "user": {
      "displayName": "Luis DEL POZO",
      "photoUrl": "",
      "userId": "08297678491184687059"
     },
     "user_tz": -60
    },
    "id": "qQIKzJ1nppik",
    "outputId": "01cf7519-447e-49f8-8ad6-d20290b7a216"
   },
   "outputs": [
    {
     "data": {
      "text/plain": [
       "Province\n",
       "Cordoba      300000.0\n",
       "Madrid      6000000.0\n",
       "Valencia          NaN\n",
       "Zaragoza     250000.0\n",
       "Name: Population, dtype: float64"
      ]
     },
     "execution_count": 32,
     "metadata": {
      "tags": []
     },
     "output_type": "execute_result"
    }
   ],
   "source": [
    "s4.name = 'Population'\n",
    "s4.index.name = 'Province'\n",
    "s4"
   ]
  },
  {
   "cell_type": "code",
   "execution_count": 33,
   "metadata": {
    "colab": {
     "base_uri": "https://localhost:8080/"
    },
    "executionInfo": {
     "elapsed": 32577,
     "status": "ok",
     "timestamp": 1608654662217,
     "user": {
      "displayName": "Luis DEL POZO",
      "photoUrl": "",
      "userId": "08297678491184687059"
     },
     "user_tz": -60
    },
    "id": "vhcQw4-gppik",
    "outputId": "2bfc4846-c5eb-4fdb-f109-f2faced10fd2"
   },
   "outputs": [
    {
     "data": {
      "text/plain": [
       "Cordoba      300000.0\n",
       "Madrid      6000000.0\n",
       "Sevilla      500000.0\n",
       "Zaragoza     250000.0\n",
       "dtype: float64"
      ]
     },
     "execution_count": 33,
     "metadata": {
      "tags": []
     },
     "output_type": "execute_result"
    }
   ],
   "source": [
    "s3"
   ]
  },
  {
   "cell_type": "code",
   "execution_count": 34,
   "metadata": {
    "colab": {
     "base_uri": "https://localhost:8080/"
    },
    "executionInfo": {
     "elapsed": 32573,
     "status": "ok",
     "timestamp": 1608654662222,
     "user": {
      "displayName": "Luis DEL POZO",
      "photoUrl": "",
      "userId": "08297678491184687059"
     },
     "user_tz": -60
    },
    "id": "vcF1PZhXx_w9",
    "outputId": "3ac0d3a0-992a-41df-fb40-98f79ff0212a"
   },
   "outputs": [
    {
     "data": {
      "text/plain": [
       "300000.0"
      ]
     },
     "execution_count": 34,
     "metadata": {
      "tags": []
     },
     "output_type": "execute_result"
    }
   ],
   "source": [
    "s3[0]"
   ]
  },
  {
   "cell_type": "markdown",
   "metadata": {
    "id": "hCBpaiPJVRE_"
   },
   "source": [
    "From what we've seen so far, it may look like the Series object is basically interchangeable with a one-dimensional NumPy array.\n",
    "\n",
    "The essential difference is the presence of the index: while the Numpy Array has an implicitly defined integer index used to access the values, the Pandas Series has an explicitly defined index associated with the values."
   ]
  },
  {
   "cell_type": "markdown",
   "metadata": {
    "id": "HVk0Zm4cppik"
   },
   "source": [
    "### DataFrame\n",
    "\n",
    "A DataFrame represents a tabular, spreadsheet-like data structure containing an ordered collection of columns, each of which can be a different value type (numeric, string, boolean, etc.). The DataFrame has both a row and column index; it can be thought of as a dict of Series (one for all sharing the same index).\n",
    "\n",
    "Row-oriented and column-oriented operations in DataFrame are treated roughly symmetrically. Under the hood, the data is stored as one or more two-dimensional blocks rather than a list, dict, or some other collection of one-dimensional arrays.\n",
    "\n",
    "This is the object you'll work most of the time with. It represents a table of _m_ observations x _n_ variables. Each variable, or column, is a Series.\n",
    "\n",
    "There are numerous ways to construct a DataFrame, though one of the most common is from a dict of equal-length lists or NumPy arrays."
   ]
  },
  {
   "cell_type": "markdown",
   "metadata": {
    "id": "a1D4AdbRxqu0"
   },
   "source": [
    "Let's discuss the naming of axes in Pandas, both for series and dataframes.\n",
    "\n",
    "For Series, because is a one-dimensional array of values, we've got only **Axis 0**:\n",
    "\n",
    "![Series axes](https://drive.google.com/uc?export=view&id=1unXqkxjezJiaocs1D-OM2vdj9ad8OLbs)\n",
    "\n"
   ]
  },
  {
   "cell_type": "markdown",
   "metadata": {
    "id": "B-33mh2bz8w3"
   },
   "source": [
    "The dataframe, as we've just seen, is a two-dimensional structure. It has columns and row, colums made of separate Series objects. The axes in the dataframe are as follows, where if not explicitly mentioned, axis 0 will always make the default:\n",
    "\n",
    "![Dataframe axes](https://drive.google.com/uc?export=view&id=1f8jKqZTURUoM5wV1yz_Ax9PrXSr-uITy)"
   ]
  },
  {
   "cell_type": "markdown",
   "metadata": {
    "id": "aRf2KROr0wEm"
   },
   "source": [
    "Ok, enough theory. Let's go for some practice, defining a dataframe just as we said is quite common:"
   ]
  },
  {
   "cell_type": "code",
   "execution_count": 35,
   "metadata": {
    "executionInfo": {
     "elapsed": 32567,
     "status": "ok",
     "timestamp": 1608654662224,
     "user": {
      "displayName": "Luis DEL POZO",
      "photoUrl": "",
      "userId": "08297678491184687059"
     },
     "user_tz": -60
    },
    "id": "SNaVGVTsppik"
   },
   "outputs": [],
   "source": [
    "dfdata = {\n",
    "    'province' : ['M', 'M', 'M', 'B', 'B'],\n",
    "    'population': [1.5e6, 2e6, 3e6, 5e5, 1.5e6],\n",
    "    'year' : [1900, 1950, 2000, 1900, 2000]   \n",
    "}\n"
   ]
  },
  {
   "cell_type": "markdown",
   "metadata": {
    "id": "tOggFiROd9k7"
   },
   "source": [
    "The resulting DataFrame will have its index assigned automatically as with Series, and the columns (axis 1) are placed in sorted order:"
   ]
  },
  {
   "cell_type": "code",
   "execution_count": 36,
   "metadata": {
    "colab": {
     "base_uri": "https://localhost:8080/",
     "height": 206
    },
    "executionInfo": {
     "elapsed": 32564,
     "status": "ok",
     "timestamp": 1608654662225,
     "user": {
      "displayName": "Luis DEL POZO",
      "photoUrl": "",
      "userId": "08297678491184687059"
     },
     "user_tz": -60
    },
    "id": "WB-DcYHdd8Jw",
    "outputId": "65372ee8-3811-4c90-92f1-1eac2ac8c339"
   },
   "outputs": [
    {
     "data": {
      "text/html": [
       "<div>\n",
       "<style scoped>\n",
       "    .dataframe tbody tr th:only-of-type {\n",
       "        vertical-align: middle;\n",
       "    }\n",
       "\n",
       "    .dataframe tbody tr th {\n",
       "        vertical-align: top;\n",
       "    }\n",
       "\n",
       "    .dataframe thead th {\n",
       "        text-align: right;\n",
       "    }\n",
       "</style>\n",
       "<table border=\"1\" class=\"dataframe\">\n",
       "  <thead>\n",
       "    <tr style=\"text-align: right;\">\n",
       "      <th></th>\n",
       "      <th>province</th>\n",
       "      <th>population</th>\n",
       "      <th>year</th>\n",
       "    </tr>\n",
       "  </thead>\n",
       "  <tbody>\n",
       "    <tr>\n",
       "      <th>0</th>\n",
       "      <td>M</td>\n",
       "      <td>1500000.0</td>\n",
       "      <td>1900</td>\n",
       "    </tr>\n",
       "    <tr>\n",
       "      <th>1</th>\n",
       "      <td>M</td>\n",
       "      <td>2000000.0</td>\n",
       "      <td>1950</td>\n",
       "    </tr>\n",
       "    <tr>\n",
       "      <th>2</th>\n",
       "      <td>M</td>\n",
       "      <td>3000000.0</td>\n",
       "      <td>2000</td>\n",
       "    </tr>\n",
       "    <tr>\n",
       "      <th>3</th>\n",
       "      <td>B</td>\n",
       "      <td>500000.0</td>\n",
       "      <td>1900</td>\n",
       "    </tr>\n",
       "    <tr>\n",
       "      <th>4</th>\n",
       "      <td>B</td>\n",
       "      <td>1500000.0</td>\n",
       "      <td>2000</td>\n",
       "    </tr>\n",
       "  </tbody>\n",
       "</table>\n",
       "</div>"
      ],
      "text/plain": [
       "  province  population  year\n",
       "0        M   1500000.0  1900\n",
       "1        M   2000000.0  1950\n",
       "2        M   3000000.0  2000\n",
       "3        B    500000.0  1900\n",
       "4        B   1500000.0  2000"
      ]
     },
     "execution_count": 36,
     "metadata": {
      "tags": []
     },
     "output_type": "execute_result"
    }
   ],
   "source": [
    "df = pd.DataFrame(dfdata)\n",
    "df"
   ]
  },
  {
   "cell_type": "markdown",
   "metadata": {
    "id": "CMXrSBHIeYhS"
   },
   "source": [
    "If you specify a sequence of columns, the DataFrame’s columns will be exactly what you pass, and as with Series, if you pass a column that isn’t contained in data, it will appear with NA values in the result:"
   ]
  },
  {
   "cell_type": "code",
   "execution_count": 57,
   "metadata": {
    "colab": {
     "base_uri": "https://localhost:8080/",
     "height": 206
    },
    "executionInfo": {
     "elapsed": 1274,
     "status": "ok",
     "timestamp": 1608654976040,
     "user": {
      "displayName": "Luis DEL POZO",
      "photoUrl": "",
      "userId": "08297678491184687059"
     },
     "user_tz": -60
    },
    "id": "2gfFchZfppik",
    "outputId": "6359865a-19e6-4029-f35b-06dc2b4782a3"
   },
   "outputs": [
    {
     "data": {
      "text/html": [
       "<div>\n",
       "<style scoped>\n",
       "    .dataframe tbody tr th:only-of-type {\n",
       "        vertical-align: middle;\n",
       "    }\n",
       "\n",
       "    .dataframe tbody tr th {\n",
       "        vertical-align: top;\n",
       "    }\n",
       "\n",
       "    .dataframe thead th {\n",
       "        text-align: right;\n",
       "    }\n",
       "</style>\n",
       "<table border=\"1\" class=\"dataframe\">\n",
       "  <thead>\n",
       "    <tr style=\"text-align: right;\">\n",
       "      <th></th>\n",
       "      <th>province</th>\n",
       "      <th>population</th>\n",
       "      <th>year</th>\n",
       "      <th>debt</th>\n",
       "    </tr>\n",
       "  </thead>\n",
       "  <tbody>\n",
       "    <tr>\n",
       "      <th>0</th>\n",
       "      <td>M</td>\n",
       "      <td>1500000.0</td>\n",
       "      <td>1900</td>\n",
       "      <td>NaN</td>\n",
       "    </tr>\n",
       "    <tr>\n",
       "      <th>1</th>\n",
       "      <td>M</td>\n",
       "      <td>2000000.0</td>\n",
       "      <td>1950</td>\n",
       "      <td>NaN</td>\n",
       "    </tr>\n",
       "    <tr>\n",
       "      <th>2</th>\n",
       "      <td>M</td>\n",
       "      <td>3000000.0</td>\n",
       "      <td>2000</td>\n",
       "      <td>NaN</td>\n",
       "    </tr>\n",
       "    <tr>\n",
       "      <th>3</th>\n",
       "      <td>B</td>\n",
       "      <td>500000.0</td>\n",
       "      <td>1900</td>\n",
       "      <td>NaN</td>\n",
       "    </tr>\n",
       "    <tr>\n",
       "      <th>4</th>\n",
       "      <td>B</td>\n",
       "      <td>1500000.0</td>\n",
       "      <td>2000</td>\n",
       "      <td>NaN</td>\n",
       "    </tr>\n",
       "  </tbody>\n",
       "</table>\n",
       "</div>"
      ],
      "text/plain": [
       "  province  population  year debt\n",
       "0        M   1500000.0  1900  NaN\n",
       "1        M   2000000.0  1950  NaN\n",
       "2        M   3000000.0  2000  NaN\n",
       "3        B    500000.0  1900  NaN\n",
       "4        B   1500000.0  2000  NaN"
      ]
     },
     "execution_count": 57,
     "metadata": {
      "tags": []
     },
     "output_type": "execute_result"
    }
   ],
   "source": [
    "df2 = pd.DataFrame(dfdata, columns=['province','population', 'year', 'debt'])\n",
    "df2"
   ]
  },
  {
   "cell_type": "markdown",
   "metadata": {
    "id": "k9z13SWh1MJR"
   },
   "source": [
    "If we check the nature of the index in the dataframe, we can see we have the same as in Series:"
   ]
  },
  {
   "cell_type": "code",
   "execution_count": 58,
   "metadata": {
    "colab": {
     "base_uri": "https://localhost:8080/"
    },
    "executionInfo": {
     "elapsed": 797,
     "status": "ok",
     "timestamp": 1608654980837,
     "user": {
      "displayName": "Luis DEL POZO",
      "photoUrl": "",
      "userId": "08297678491184687059"
     },
     "user_tz": -60
    },
    "id": "5U6lXaN4ppik",
    "outputId": "d0d3e871-a5fb-4ab0-abe3-996cd0131b45"
   },
   "outputs": [
    {
     "data": {
      "text/plain": [
       "RangeIndex(start=0, stop=5, step=1)"
      ]
     },
     "execution_count": 58,
     "metadata": {
      "tags": []
     },
     "output_type": "execute_result"
    }
   ],
   "source": [
    "df2.index"
   ]
  },
  {
   "cell_type": "markdown",
   "metadata": {
    "id": "E8phvrtV1UfT"
   },
   "source": [
    "There's a new property we can access called `columns`, where we can see we've got just another index:"
   ]
  },
  {
   "cell_type": "code",
   "execution_count": 59,
   "metadata": {
    "colab": {
     "base_uri": "https://localhost:8080/"
    },
    "executionInfo": {
     "elapsed": 763,
     "status": "ok",
     "timestamp": 1608654984274,
     "user": {
      "displayName": "Luis DEL POZO",
      "photoUrl": "",
      "userId": "08297678491184687059"
     },
     "user_tz": -60
    },
    "id": "qkGCxJGKppik",
    "outputId": "b1541651-6a88-4380-ec3d-2cdd9ecc6d50"
   },
   "outputs": [
    {
     "data": {
      "text/plain": [
       "Index(['province', 'population', 'year', 'debt'], dtype='object')"
      ]
     },
     "execution_count": 59,
     "metadata": {
      "tags": []
     },
     "output_type": "execute_result"
    }
   ],
   "source": [
    "df2.columns"
   ]
  },
  {
   "cell_type": "code",
   "execution_count": 60,
   "metadata": {
    "colab": {
     "base_uri": "https://localhost:8080/"
    },
    "executionInfo": {
     "elapsed": 809,
     "status": "ok",
     "timestamp": 1608654986067,
     "user": {
      "displayName": "Luis DEL POZO",
      "photoUrl": "",
      "userId": "08297678491184687059"
     },
     "user_tz": -60
    },
    "id": "AhWodD631eBk",
    "outputId": "b776a7b7-f189-4a37-caa9-e128611df387"
   },
   "outputs": [
    {
     "data": {
      "text/plain": [
       "pandas.core.indexes.base.Index"
      ]
     },
     "execution_count": 60,
     "metadata": {
      "tags": []
     },
     "output_type": "execute_result"
    }
   ],
   "source": [
    "type(df2.columns)"
   ]
  },
  {
   "cell_type": "markdown",
   "metadata": {
    "id": "BkZAcLvNfF-R"
   },
   "source": [
    "A column in a DataFrame can be retrieved as a Series either by dict-like notation or by attribute:"
   ]
  },
  {
   "cell_type": "code",
   "execution_count": 61,
   "metadata": {
    "colab": {
     "base_uri": "https://localhost:8080/"
    },
    "executionInfo": {
     "elapsed": 724,
     "status": "ok",
     "timestamp": 1608654990912,
     "user": {
      "displayName": "Luis DEL POZO",
      "photoUrl": "",
      "userId": "08297678491184687059"
     },
     "user_tz": -60
    },
    "id": "-aFldgU7ppik",
    "outputId": "84f124e9-c6e9-4477-91aa-75ea55de2899"
   },
   "outputs": [
    {
     "data": {
      "text/plain": [
       "0    1500000.0\n",
       "1    2000000.0\n",
       "2    3000000.0\n",
       "3     500000.0\n",
       "4    1500000.0\n",
       "Name: population, dtype: float64"
      ]
     },
     "execution_count": 61,
     "metadata": {
      "tags": []
     },
     "output_type": "execute_result"
    }
   ],
   "source": [
    "df2['population']"
   ]
  },
  {
   "cell_type": "code",
   "execution_count": 62,
   "metadata": {
    "colab": {
     "base_uri": "https://localhost:8080/"
    },
    "executionInfo": {
     "elapsed": 690,
     "status": "ok",
     "timestamp": 1608654994385,
     "user": {
      "displayName": "Luis DEL POZO",
      "photoUrl": "",
      "userId": "08297678491184687059"
     },
     "user_tz": -60
    },
    "id": "JmJdr3-xppik",
    "outputId": "d6a2e18b-a8db-4ee4-e52c-ee150f7d3f55"
   },
   "outputs": [
    {
     "data": {
      "text/plain": [
       "0    1500000.0\n",
       "1    2000000.0\n",
       "2    3000000.0\n",
       "3     500000.0\n",
       "4    1500000.0\n",
       "Name: population, dtype: float64"
      ]
     },
     "execution_count": 62,
     "metadata": {
      "tags": []
     },
     "output_type": "execute_result"
    }
   ],
   "source": [
    "df2.population"
   ]
  },
  {
   "cell_type": "markdown",
   "metadata": {
    "id": "nzed8BgXfOfu"
   },
   "source": [
    "Note that the returned Series have the same index as the DataFrame, and their name attribute has been appropriately set.\n",
    "\n",
    "You can see that what's being returned is in fact a `Series` object, altough as of now it should be quite clear:"
   ]
  },
  {
   "cell_type": "code",
   "execution_count": 63,
   "metadata": {
    "colab": {
     "base_uri": "https://localhost:8080/"
    },
    "executionInfo": {
     "elapsed": 707,
     "status": "ok",
     "timestamp": 1608654997992,
     "user": {
      "displayName": "Luis DEL POZO",
      "photoUrl": "",
      "userId": "08297678491184687059"
     },
     "user_tz": -60
    },
    "id": "J83sWKzefKJb",
    "outputId": "0fb3c743-fe50-4e11-f80c-b98bf8f37637"
   },
   "outputs": [
    {
     "data": {
      "text/plain": [
       "pandas.core.series.Series"
      ]
     },
     "execution_count": 63,
     "metadata": {
      "tags": []
     },
     "output_type": "execute_result"
    }
   ],
   "source": [
    "type(df2.population)"
   ]
  },
  {
   "cell_type": "markdown",
   "metadata": {
    "id": "rnUIgYPgf-HD"
   },
   "source": [
    "Using this notation, we can add more columns and they will be indexed following the criteria already defined by the dataframe:"
   ]
  },
  {
   "cell_type": "code",
   "execution_count": 64,
   "metadata": {
    "colab": {
     "base_uri": "https://localhost:8080/"
    },
    "executionInfo": {
     "elapsed": 1062,
     "status": "ok",
     "timestamp": 1608655006566,
     "user": {
      "displayName": "Luis DEL POZO",
      "photoUrl": "",
      "userId": "08297678491184687059"
     },
     "user_tz": -60
    },
    "id": "D2b8M-wIvMNY",
    "outputId": "ff30ff6d-e989-4d06-a351-2709f3e6f90d"
   },
   "outputs": [
    {
     "data": {
      "text/plain": [
       "province            M\n",
       "population    1.5e+06\n",
       "year             1900\n",
       "debt              NaN\n",
       "Name: 0, dtype: object"
      ]
     },
     "execution_count": 64,
     "metadata": {
      "tags": []
     },
     "output_type": "execute_result"
    }
   ],
   "source": [
    "df2.iloc[0]"
   ]
  },
  {
   "cell_type": "code",
   "execution_count": 45,
   "metadata": {
    "colab": {
     "base_uri": "https://localhost:8080/"
    },
    "executionInfo": {
     "elapsed": 33602,
     "status": "ok",
     "timestamp": 1608654663333,
     "user": {
      "displayName": "Luis DEL POZO",
      "photoUrl": "",
      "userId": "08297678491184687059"
     },
     "user_tz": -60
    },
    "id": "viqpydDpxK0e",
    "outputId": "00766ad8-bcf4-4f6b-b108-0451af697c35"
   },
   "outputs": [
    {
     "data": {
      "text/plain": [
       "1500000.0"
      ]
     },
     "execution_count": 45,
     "metadata": {
      "tags": []
     },
     "output_type": "execute_result"
    }
   ],
   "source": [
    "df2.iloc[0,1]"
   ]
  },
  {
   "cell_type": "code",
   "execution_count": 46,
   "metadata": {
    "executionInfo": {
     "elapsed": 33603,
     "status": "ok",
     "timestamp": 1608654663336,
     "user": {
      "displayName": "Luis DEL POZO",
      "photoUrl": "",
      "userId": "08297678491184687059"
     },
     "user_tz": -60
    },
    "id": "4K30Lzvxppik"
   },
   "outputs": [],
   "source": [
    "df2['2nd_language'] = np.nan"
   ]
  },
  {
   "cell_type": "markdown",
   "metadata": {
    "id": "k4J6SG05gW9r"
   },
   "source": [
    "When assigning lists or arrays to a column, the value’s length must match the length of the DataFrame. If you assign a Series, it will be instead conformed exactly to the DataFrame’s index, inserting missing values in any holes:"
   ]
  },
  {
   "cell_type": "code",
   "execution_count": 47,
   "metadata": {
    "colab": {
     "base_uri": "https://localhost:8080/"
    },
    "executionInfo": {
     "elapsed": 33596,
     "status": "ok",
     "timestamp": 1608654663337,
     "user": {
      "displayName": "Luis DEL POZO",
      "photoUrl": "",
      "userId": "08297678491184687059"
     },
     "user_tz": -60
    },
    "id": "BwHAohw0ppik",
    "outputId": "c09f7205-1155-449e-d850-d3efa9d9638f"
   },
   "outputs": [
    {
     "data": {
      "text/plain": [
       "0   NaN\n",
       "1   NaN\n",
       "2   NaN\n",
       "3   NaN\n",
       "4   NaN\n",
       "Name: 2nd_language, dtype: float64"
      ]
     },
     "execution_count": 47,
     "metadata": {
      "tags": []
     },
     "output_type": "execute_result"
    }
   ],
   "source": [
    "df2['2nd_language']"
   ]
  },
  {
   "cell_type": "markdown",
   "metadata": {
    "id": "FgSOXMgFgHAB"
   },
   "source": [
    "But watch out with the naming used, you may hit some of the Python syntax constraints:"
   ]
  },
  {
   "cell_type": "code",
   "execution_count": 48,
   "metadata": {
    "colab": {
     "base_uri": "https://localhost:8080/",
     "height": 132
    },
    "executionInfo": {
     "elapsed": 34387,
     "status": "error",
     "timestamp": 1608654664138,
     "user": {
      "displayName": "Luis DEL POZO",
      "photoUrl": "",
      "userId": "08297678491184687059"
     },
     "user_tz": -60
    },
    "id": "ZTCjpvYzppik",
    "outputId": "d5e1796c-c0ed-4184-8dd1-208ab8640594"
   },
   "outputs": [
    {
     "ename": "SyntaxError",
     "evalue": "ignored",
     "output_type": "error",
     "traceback": [
      "\u001b[0;36m  File \u001b[0;32m\"<ipython-input-48-666b3aa4bfba>\"\u001b[0;36m, line \u001b[0;32m1\u001b[0m\n\u001b[0;31m    df2.2nd_language\u001b[0m\n\u001b[0m        ^\u001b[0m\n\u001b[0;31mSyntaxError\u001b[0m\u001b[0;31m:\u001b[0m invalid syntax\n"
     ]
    }
   ],
   "source": [
    "df2.2nd_language"
   ]
  },
  {
   "cell_type": "markdown",
   "metadata": {
    "id": "dBSDKQYQg8oe"
   },
   "source": [
    "As with Series, we can name the index of the dataframe:"
   ]
  },
  {
   "cell_type": "code",
   "execution_count": 65,
   "metadata": {
    "executionInfo": {
     "elapsed": 689,
     "status": "ok",
     "timestamp": 1608655070687,
     "user": {
      "displayName": "Luis DEL POZO",
      "photoUrl": "",
      "userId": "08297678491184687059"
     },
     "user_tz": -60
    },
    "id": "bi6eNVE7ppil"
   },
   "outputs": [],
   "source": [
    "df2.index = list('abcde')"
   ]
  },
  {
   "cell_type": "code",
   "execution_count": 66,
   "metadata": {
    "colab": {
     "base_uri": "https://localhost:8080/",
     "height": 206
    },
    "executionInfo": {
     "elapsed": 509,
     "status": "ok",
     "timestamp": 1608655072002,
     "user": {
      "displayName": "Luis DEL POZO",
      "photoUrl": "",
      "userId": "08297678491184687059"
     },
     "user_tz": -60
    },
    "id": "MC5Rvv2Sppil",
    "outputId": "89ef90be-9ea7-43f5-9212-d31c3968344e"
   },
   "outputs": [
    {
     "data": {
      "text/html": [
       "<div>\n",
       "<style scoped>\n",
       "    .dataframe tbody tr th:only-of-type {\n",
       "        vertical-align: middle;\n",
       "    }\n",
       "\n",
       "    .dataframe tbody tr th {\n",
       "        vertical-align: top;\n",
       "    }\n",
       "\n",
       "    .dataframe thead th {\n",
       "        text-align: right;\n",
       "    }\n",
       "</style>\n",
       "<table border=\"1\" class=\"dataframe\">\n",
       "  <thead>\n",
       "    <tr style=\"text-align: right;\">\n",
       "      <th></th>\n",
       "      <th>province</th>\n",
       "      <th>population</th>\n",
       "      <th>year</th>\n",
       "      <th>debt</th>\n",
       "    </tr>\n",
       "  </thead>\n",
       "  <tbody>\n",
       "    <tr>\n",
       "      <th>a</th>\n",
       "      <td>M</td>\n",
       "      <td>1500000.0</td>\n",
       "      <td>1900</td>\n",
       "      <td>NaN</td>\n",
       "    </tr>\n",
       "    <tr>\n",
       "      <th>b</th>\n",
       "      <td>M</td>\n",
       "      <td>2000000.0</td>\n",
       "      <td>1950</td>\n",
       "      <td>NaN</td>\n",
       "    </tr>\n",
       "    <tr>\n",
       "      <th>c</th>\n",
       "      <td>M</td>\n",
       "      <td>3000000.0</td>\n",
       "      <td>2000</td>\n",
       "      <td>NaN</td>\n",
       "    </tr>\n",
       "    <tr>\n",
       "      <th>d</th>\n",
       "      <td>B</td>\n",
       "      <td>500000.0</td>\n",
       "      <td>1900</td>\n",
       "      <td>NaN</td>\n",
       "    </tr>\n",
       "    <tr>\n",
       "      <th>e</th>\n",
       "      <td>B</td>\n",
       "      <td>1500000.0</td>\n",
       "      <td>2000</td>\n",
       "      <td>NaN</td>\n",
       "    </tr>\n",
       "  </tbody>\n",
       "</table>\n",
       "</div>"
      ],
      "text/plain": [
       "  province  population  year debt\n",
       "a        M   1500000.0  1900  NaN\n",
       "b        M   2000000.0  1950  NaN\n",
       "c        M   3000000.0  2000  NaN\n",
       "d        B    500000.0  1900  NaN\n",
       "e        B   1500000.0  2000  NaN"
      ]
     },
     "execution_count": 66,
     "metadata": {
      "tags": []
     },
     "output_type": "execute_result"
    }
   ],
   "source": [
    "df2"
   ]
  },
  {
   "cell_type": "code",
   "execution_count": 67,
   "metadata": {
    "colab": {
     "base_uri": "https://localhost:8080/",
     "height": 35
    },
    "executionInfo": {
     "elapsed": 699,
     "status": "ok",
     "timestamp": 1608655076503,
     "user": {
      "displayName": "Luis DEL POZO",
      "photoUrl": "",
      "userId": "08297678491184687059"
     },
     "user_tz": -60
    },
    "id": "aFfaMvE9SthJ",
    "outputId": "4b368d27-2ca7-4abe-84ca-304f131faca7"
   },
   "outputs": [
    {
     "data": {
      "application/vnd.google.colaboratory.intrinsic+json": {
       "type": "string"
      },
      "text/plain": [
       "'M'"
      ]
     },
     "execution_count": 67,
     "metadata": {
      "tags": []
     },
     "output_type": "execute_result"
    }
   ],
   "source": [
    "df2.province.a"
   ]
  },
  {
   "cell_type": "code",
   "execution_count": 81,
   "metadata": {
    "colab": {
     "base_uri": "https://localhost:8080/",
     "height": 81
    },
    "executionInfo": {
     "elapsed": 1150,
     "status": "ok",
     "timestamp": 1608655332185,
     "user": {
      "displayName": "Luis DEL POZO",
      "photoUrl": "",
      "userId": "08297678491184687059"
     },
     "user_tz": -60
    },
    "id": "iMTxXKAlTAb0",
    "outputId": "c464d722-9543-4479-c4b6-b5e66a6e168b"
   },
   "outputs": [
    {
     "data": {
      "text/html": [
       "<div>\n",
       "<style scoped>\n",
       "    .dataframe tbody tr th:only-of-type {\n",
       "        vertical-align: middle;\n",
       "    }\n",
       "\n",
       "    .dataframe tbody tr th {\n",
       "        vertical-align: top;\n",
       "    }\n",
       "\n",
       "    .dataframe thead th {\n",
       "        text-align: right;\n",
       "    }\n",
       "</style>\n",
       "<table border=\"1\" class=\"dataframe\">\n",
       "  <thead>\n",
       "    <tr style=\"text-align: right;\">\n",
       "      <th></th>\n",
       "      <th>province</th>\n",
       "      <th>population</th>\n",
       "      <th>year</th>\n",
       "      <th>debt</th>\n",
       "    </tr>\n",
       "  </thead>\n",
       "  <tbody>\n",
       "    <tr>\n",
       "      <th>b</th>\n",
       "      <td>M</td>\n",
       "      <td>2000000.0</td>\n",
       "      <td>1950</td>\n",
       "      <td>NaN</td>\n",
       "    </tr>\n",
       "  </tbody>\n",
       "</table>\n",
       "</div>"
      ],
      "text/plain": [
       "  province  population  year debt\n",
       "b        M   2000000.0  1950  NaN"
      ]
     },
     "execution_count": 81,
     "metadata": {
      "tags": []
     },
     "output_type": "execute_result"
    }
   ],
   "source": [
    "df2[1:2]"
   ]
  },
  {
   "cell_type": "markdown",
   "metadata": {
    "id": "vfOE3alw2KMs"
   },
   "source": [
    "This is not a RangeIndex anymore, but a regular Index:"
   ]
  },
  {
   "cell_type": "code",
   "execution_count": 76,
   "metadata": {
    "colab": {
     "base_uri": "https://localhost:8080/"
    },
    "executionInfo": {
     "elapsed": 679,
     "status": "ok",
     "timestamp": 1608655225166,
     "user": {
      "displayName": "Luis DEL POZO",
      "photoUrl": "",
      "userId": "08297678491184687059"
     },
     "user_tz": -60
    },
    "id": "K6bbHQUv2Gur",
    "outputId": "53577b0f-7327-4d6a-de5b-ad5164fa3c5a"
   },
   "outputs": [
    {
     "data": {
      "text/plain": [
       "Index(['a', 'b', 'c', 'd', 'e'], dtype='object')"
      ]
     },
     "execution_count": 76,
     "metadata": {
      "tags": []
     },
     "output_type": "execute_result"
    }
   ],
   "source": [
    "df2.index"
   ]
  },
  {
   "cell_type": "markdown",
   "metadata": {
    "id": "hiVV2t8pcycY"
   },
   "source": [
    "We can access a particular row of the Dataframe using the property `loc`:"
   ]
  },
  {
   "cell_type": "code",
   "execution_count": 77,
   "metadata": {
    "colab": {
     "base_uri": "https://localhost:8080/"
    },
    "executionInfo": {
     "elapsed": 711,
     "status": "ok",
     "timestamp": 1608655229373,
     "user": {
      "displayName": "Luis DEL POZO",
      "photoUrl": "",
      "userId": "08297678491184687059"
     },
     "user_tz": -60
    },
    "id": "_2zKJHVnppil",
    "outputId": "05412663-388b-45a9-a30c-d59097558971"
   },
   "outputs": [
    {
     "data": {
      "text/plain": [
       "province          M\n",
       "population    3e+06\n",
       "year           2000\n",
       "debt            NaN\n",
       "Name: c, dtype: object"
      ]
     },
     "execution_count": 77,
     "metadata": {
      "tags": []
     },
     "output_type": "execute_result"
    }
   ],
   "source": [
    "df2.loc['c']"
   ]
  },
  {
   "cell_type": "code",
   "execution_count": 78,
   "metadata": {
    "colab": {
     "base_uri": "https://localhost:8080/"
    },
    "executionInfo": {
     "elapsed": 875,
     "status": "ok",
     "timestamp": 1608655236808,
     "user": {
      "displayName": "Luis DEL POZO",
      "photoUrl": "",
      "userId": "08297678491184687059"
     },
     "user_tz": -60
    },
    "id": "J7qjikqWeK1L",
    "outputId": "129e2a2d-5ce3-4d5d-8bd9-60a1d231f7d9"
   },
   "outputs": [
    {
     "data": {
      "text/plain": [
       "pandas.core.series.Series"
      ]
     },
     "execution_count": 78,
     "metadata": {
      "tags": []
     },
     "output_type": "execute_result"
    }
   ],
   "source": [
    "type(df2.loc['c'])"
   ]
  },
  {
   "cell_type": "markdown",
   "metadata": {
    "id": "_JjpRQTMdkto"
   },
   "source": [
    "`loc` admits a list or array of labels:"
   ]
  },
  {
   "cell_type": "code",
   "execution_count": 82,
   "metadata": {
    "colab": {
     "base_uri": "https://localhost:8080/",
     "height": 112
    },
    "executionInfo": {
     "elapsed": 757,
     "status": "ok",
     "timestamp": 1608655406139,
     "user": {
      "displayName": "Luis DEL POZO",
      "photoUrl": "",
      "userId": "08297678491184687059"
     },
     "user_tz": -60
    },
    "id": "ugzFu9JeiVhg",
    "outputId": "6fec4ec6-8e1a-462b-96e1-db80e2bd5a9a"
   },
   "outputs": [
    {
     "data": {
      "text/html": [
       "<div>\n",
       "<style scoped>\n",
       "    .dataframe tbody tr th:only-of-type {\n",
       "        vertical-align: middle;\n",
       "    }\n",
       "\n",
       "    .dataframe tbody tr th {\n",
       "        vertical-align: top;\n",
       "    }\n",
       "\n",
       "    .dataframe thead th {\n",
       "        text-align: right;\n",
       "    }\n",
       "</style>\n",
       "<table border=\"1\" class=\"dataframe\">\n",
       "  <thead>\n",
       "    <tr style=\"text-align: right;\">\n",
       "      <th></th>\n",
       "      <th>province</th>\n",
       "      <th>population</th>\n",
       "      <th>year</th>\n",
       "      <th>debt</th>\n",
       "    </tr>\n",
       "  </thead>\n",
       "  <tbody>\n",
       "    <tr>\n",
       "      <th>a</th>\n",
       "      <td>M</td>\n",
       "      <td>1500000.0</td>\n",
       "      <td>1900</td>\n",
       "      <td>NaN</td>\n",
       "    </tr>\n",
       "    <tr>\n",
       "      <th>b</th>\n",
       "      <td>M</td>\n",
       "      <td>2000000.0</td>\n",
       "      <td>1950</td>\n",
       "      <td>NaN</td>\n",
       "    </tr>\n",
       "  </tbody>\n",
       "</table>\n",
       "</div>"
      ],
      "text/plain": [
       "  province  population  year debt\n",
       "a        M   1500000.0  1900  NaN\n",
       "b        M   2000000.0  1950  NaN"
      ]
     },
     "execution_count": 82,
     "metadata": {
      "tags": []
     },
     "output_type": "execute_result"
    }
   ],
   "source": [
    "df2.loc[['a', 'b']]"
   ]
  },
  {
   "cell_type": "markdown",
   "metadata": {
    "id": "Gs8aZWfed73F"
   },
   "source": [
    "If we pass a list with the specific row instead of the label as is, we get the nice Dataframe formatting instead of the Series:"
   ]
  },
  {
   "cell_type": "code",
   "execution_count": 83,
   "metadata": {
    "colab": {
     "base_uri": "https://localhost:8080/",
     "height": 81
    },
    "executionInfo": {
     "elapsed": 743,
     "status": "ok",
     "timestamp": 1608655409330,
     "user": {
      "displayName": "Luis DEL POZO",
      "photoUrl": "",
      "userId": "08297678491184687059"
     },
     "user_tz": -60
    },
    "id": "gNulUEFFipeV",
    "outputId": "6fa318db-7f3e-43f0-e0bd-da682289a149"
   },
   "outputs": [
    {
     "data": {
      "text/html": [
       "<div>\n",
       "<style scoped>\n",
       "    .dataframe tbody tr th:only-of-type {\n",
       "        vertical-align: middle;\n",
       "    }\n",
       "\n",
       "    .dataframe tbody tr th {\n",
       "        vertical-align: top;\n",
       "    }\n",
       "\n",
       "    .dataframe thead th {\n",
       "        text-align: right;\n",
       "    }\n",
       "</style>\n",
       "<table border=\"1\" class=\"dataframe\">\n",
       "  <thead>\n",
       "    <tr style=\"text-align: right;\">\n",
       "      <th></th>\n",
       "      <th>province</th>\n",
       "      <th>population</th>\n",
       "      <th>year</th>\n",
       "      <th>debt</th>\n",
       "    </tr>\n",
       "  </thead>\n",
       "  <tbody>\n",
       "    <tr>\n",
       "      <th>c</th>\n",
       "      <td>M</td>\n",
       "      <td>3000000.0</td>\n",
       "      <td>2000</td>\n",
       "      <td>NaN</td>\n",
       "    </tr>\n",
       "  </tbody>\n",
       "</table>\n",
       "</div>"
      ],
      "text/plain": [
       "  province  population  year debt\n",
       "c        M   3000000.0  2000  NaN"
      ]
     },
     "execution_count": 83,
     "metadata": {
      "tags": []
     },
     "output_type": "execute_result"
    }
   ],
   "source": [
    "df2.loc[['c']]"
   ]
  },
  {
   "cell_type": "code",
   "execution_count": 84,
   "metadata": {
    "colab": {
     "base_uri": "https://localhost:8080/"
    },
    "executionInfo": {
     "elapsed": 631,
     "status": "ok",
     "timestamp": 1608655411082,
     "user": {
      "displayName": "Luis DEL POZO",
      "photoUrl": "",
      "userId": "08297678491184687059"
     },
     "user_tz": -60
    },
    "id": "qRD7L5dUeQlr",
    "outputId": "87affe35-6bd5-4910-c9dd-08fa0f012851"
   },
   "outputs": [
    {
     "data": {
      "text/plain": [
       "pandas.core.frame.DataFrame"
      ]
     },
     "execution_count": 84,
     "metadata": {
      "tags": []
     },
     "output_type": "execute_result"
    }
   ],
   "source": [
    "type(df2.loc[['c']])"
   ]
  },
  {
   "cell_type": "markdown",
   "metadata": {
    "id": "kve-6eZIeXhh"
   },
   "source": [
    "We can also pass it an slice object of labels:"
   ]
  },
  {
   "cell_type": "code",
   "execution_count": 85,
   "metadata": {
    "colab": {
     "base_uri": "https://localhost:8080/",
     "height": 143
    },
    "executionInfo": {
     "elapsed": 716,
     "status": "ok",
     "timestamp": 1608655432391,
     "user": {
      "displayName": "Luis DEL POZO",
      "photoUrl": "",
      "userId": "08297678491184687059"
     },
     "user_tz": -60
    },
    "id": "70kDfbNIixCx",
    "outputId": "8ee6fb7b-d407-43b4-cc82-1f0c4259e86b"
   },
   "outputs": [
    {
     "data": {
      "text/html": [
       "<div>\n",
       "<style scoped>\n",
       "    .dataframe tbody tr th:only-of-type {\n",
       "        vertical-align: middle;\n",
       "    }\n",
       "\n",
       "    .dataframe tbody tr th {\n",
       "        vertical-align: top;\n",
       "    }\n",
       "\n",
       "    .dataframe thead th {\n",
       "        text-align: right;\n",
       "    }\n",
       "</style>\n",
       "<table border=\"1\" class=\"dataframe\">\n",
       "  <thead>\n",
       "    <tr style=\"text-align: right;\">\n",
       "      <th></th>\n",
       "      <th>province</th>\n",
       "      <th>population</th>\n",
       "      <th>year</th>\n",
       "      <th>debt</th>\n",
       "    </tr>\n",
       "  </thead>\n",
       "  <tbody>\n",
       "    <tr>\n",
       "      <th>a</th>\n",
       "      <td>M</td>\n",
       "      <td>1500000.0</td>\n",
       "      <td>1900</td>\n",
       "      <td>NaN</td>\n",
       "    </tr>\n",
       "    <tr>\n",
       "      <th>b</th>\n",
       "      <td>M</td>\n",
       "      <td>2000000.0</td>\n",
       "      <td>1950</td>\n",
       "      <td>NaN</td>\n",
       "    </tr>\n",
       "    <tr>\n",
       "      <th>c</th>\n",
       "      <td>M</td>\n",
       "      <td>3000000.0</td>\n",
       "      <td>2000</td>\n",
       "      <td>NaN</td>\n",
       "    </tr>\n",
       "  </tbody>\n",
       "</table>\n",
       "</div>"
      ],
      "text/plain": [
       "  province  population  year debt\n",
       "a        M   1500000.0  1900  NaN\n",
       "b        M   2000000.0  1950  NaN\n",
       "c        M   3000000.0  2000  NaN"
      ]
     },
     "execution_count": 85,
     "metadata": {
      "tags": []
     },
     "output_type": "execute_result"
    }
   ],
   "source": [
    "df2.loc['a':'c']"
   ]
  },
  {
   "cell_type": "markdown",
   "metadata": {
    "id": "pveoPC8QephD"
   },
   "source": [
    "We can eve use a callable condition for matching rows:"
   ]
  },
  {
   "cell_type": "code",
   "execution_count": 86,
   "metadata": {
    "colab": {
     "base_uri": "https://localhost:8080/",
     "height": 112
    },
    "executionInfo": {
     "elapsed": 735,
     "status": "ok",
     "timestamp": 1608655439098,
     "user": {
      "displayName": "Luis DEL POZO",
      "photoUrl": "",
      "userId": "08297678491184687059"
     },
     "user_tz": -60
    },
    "id": "UWbhzsqPjUSq",
    "outputId": "779406fc-c8d8-4afb-c1f8-bd9cd04b24a6"
   },
   "outputs": [
    {
     "data": {
      "text/html": [
       "<div>\n",
       "<style scoped>\n",
       "    .dataframe tbody tr th:only-of-type {\n",
       "        vertical-align: middle;\n",
       "    }\n",
       "\n",
       "    .dataframe tbody tr th {\n",
       "        vertical-align: top;\n",
       "    }\n",
       "\n",
       "    .dataframe thead th {\n",
       "        text-align: right;\n",
       "    }\n",
       "</style>\n",
       "<table border=\"1\" class=\"dataframe\">\n",
       "  <thead>\n",
       "    <tr style=\"text-align: right;\">\n",
       "      <th></th>\n",
       "      <th>province</th>\n",
       "      <th>population</th>\n",
       "      <th>year</th>\n",
       "      <th>debt</th>\n",
       "    </tr>\n",
       "  </thead>\n",
       "  <tbody>\n",
       "    <tr>\n",
       "      <th>c</th>\n",
       "      <td>M</td>\n",
       "      <td>3000000.0</td>\n",
       "      <td>2000</td>\n",
       "      <td>NaN</td>\n",
       "    </tr>\n",
       "    <tr>\n",
       "      <th>e</th>\n",
       "      <td>B</td>\n",
       "      <td>1500000.0</td>\n",
       "      <td>2000</td>\n",
       "      <td>NaN</td>\n",
       "    </tr>\n",
       "  </tbody>\n",
       "</table>\n",
       "</div>"
      ],
      "text/plain": [
       "  province  population  year debt\n",
       "c        M   3000000.0  2000  NaN\n",
       "e        B   1500000.0  2000  NaN"
      ]
     },
     "execution_count": 86,
     "metadata": {
      "tags": []
     },
     "output_type": "execute_result"
    }
   ],
   "source": [
    "df2.loc[df2['year'] > 1950]"
   ]
  },
  {
   "cell_type": "markdown",
   "metadata": {
    "id": "d9uMuWIHlnec"
   },
   "source": [
    "When assigning lists or arrays to a column, the value’s length must match the length of the DataFrame. If you assign a Series, it will be instead conformed exactly to the DataFrame’s index, inserting missing values in any holes:"
   ]
  },
  {
   "cell_type": "code",
   "execution_count": 87,
   "metadata": {
    "colab": {
     "base_uri": "https://localhost:8080/"
    },
    "executionInfo": {
     "elapsed": 788,
     "status": "ok",
     "timestamp": 1608655452538,
     "user": {
      "displayName": "Luis DEL POZO",
      "photoUrl": "",
      "userId": "08297678491184687059"
     },
     "user_tz": -60
    },
    "id": "JXWo0zSrk1ks",
    "outputId": "00e36454-aa1b-446c-d427-e973d78c8f2b"
   },
   "outputs": [
    {
     "data": {
      "text/plain": [
       "b    0.1\n",
       "d    0.6\n",
       "e    0.9\n",
       "dtype: float64"
      ]
     },
     "execution_count": 87,
     "metadata": {
      "tags": []
     },
     "output_type": "execute_result"
    }
   ],
   "source": [
    "val = pd.Series([0.1, 0.6, 0.9], index=['b','d','e'])\n",
    "val"
   ]
  },
  {
   "cell_type": "markdown",
   "metadata": {
    "id": "xVS52GfQfHk9"
   },
   "source": [
    "So let's define values for a particular label or column by passing them as a list:"
   ]
  },
  {
   "cell_type": "code",
   "execution_count": 88,
   "metadata": {
    "colab": {
     "base_uri": "https://localhost:8080/",
     "height": 206
    },
    "executionInfo": {
     "elapsed": 924,
     "status": "ok",
     "timestamp": 1608655458085,
     "user": {
      "displayName": "Luis DEL POZO",
      "photoUrl": "",
      "userId": "08297678491184687059"
     },
     "user_tz": -60
    },
    "id": "27W50Ehhppil",
    "outputId": "ad2c83db-4f12-4d7d-97a3-e26e8eba23f9"
   },
   "outputs": [
    {
     "data": {
      "text/html": [
       "<div>\n",
       "<style scoped>\n",
       "    .dataframe tbody tr th:only-of-type {\n",
       "        vertical-align: middle;\n",
       "    }\n",
       "\n",
       "    .dataframe tbody tr th {\n",
       "        vertical-align: top;\n",
       "    }\n",
       "\n",
       "    .dataframe thead th {\n",
       "        text-align: right;\n",
       "    }\n",
       "</style>\n",
       "<table border=\"1\" class=\"dataframe\">\n",
       "  <thead>\n",
       "    <tr style=\"text-align: right;\">\n",
       "      <th></th>\n",
       "      <th>province</th>\n",
       "      <th>population</th>\n",
       "      <th>year</th>\n",
       "      <th>debt</th>\n",
       "    </tr>\n",
       "  </thead>\n",
       "  <tbody>\n",
       "    <tr>\n",
       "      <th>a</th>\n",
       "      <td>M</td>\n",
       "      <td>1500000.0</td>\n",
       "      <td>1900</td>\n",
       "      <td>1.0</td>\n",
       "    </tr>\n",
       "    <tr>\n",
       "      <th>b</th>\n",
       "      <td>M</td>\n",
       "      <td>2000000.0</td>\n",
       "      <td>1950</td>\n",
       "      <td>0.0</td>\n",
       "    </tr>\n",
       "    <tr>\n",
       "      <th>c</th>\n",
       "      <td>M</td>\n",
       "      <td>3000000.0</td>\n",
       "      <td>2000</td>\n",
       "      <td>2.0</td>\n",
       "    </tr>\n",
       "    <tr>\n",
       "      <th>d</th>\n",
       "      <td>B</td>\n",
       "      <td>500000.0</td>\n",
       "      <td>1900</td>\n",
       "      <td>0.5</td>\n",
       "    </tr>\n",
       "    <tr>\n",
       "      <th>e</th>\n",
       "      <td>B</td>\n",
       "      <td>1500000.0</td>\n",
       "      <td>2000</td>\n",
       "      <td>0.7</td>\n",
       "    </tr>\n",
       "  </tbody>\n",
       "</table>\n",
       "</div>"
      ],
      "text/plain": [
       "  province  population  year  debt\n",
       "a        M   1500000.0  1900   1.0\n",
       "b        M   2000000.0  1950   0.0\n",
       "c        M   3000000.0  2000   2.0\n",
       "d        B    500000.0  1900   0.5\n",
       "e        B   1500000.0  2000   0.7"
      ]
     },
     "execution_count": 88,
     "metadata": {
      "tags": []
     },
     "output_type": "execute_result"
    }
   ],
   "source": [
    "df2['debt'] = [1,0,2,.5,.7]\n",
    "df2"
   ]
  },
  {
   "cell_type": "code",
   "execution_count": 89,
   "metadata": {
    "colab": {
     "base_uri": "https://localhost:8080/",
     "height": 206
    },
    "executionInfo": {
     "elapsed": 652,
     "status": "ok",
     "timestamp": 1608655461938,
     "user": {
      "displayName": "Luis DEL POZO",
      "photoUrl": "",
      "userId": "08297678491184687059"
     },
     "user_tz": -60
    },
    "id": "vUJLqixslPeV",
    "outputId": "27f6457b-8547-4e0c-c1b4-122a6dc5c31f"
   },
   "outputs": [
    {
     "data": {
      "text/html": [
       "<div>\n",
       "<style scoped>\n",
       "    .dataframe tbody tr th:only-of-type {\n",
       "        vertical-align: middle;\n",
       "    }\n",
       "\n",
       "    .dataframe tbody tr th {\n",
       "        vertical-align: top;\n",
       "    }\n",
       "\n",
       "    .dataframe thead th {\n",
       "        text-align: right;\n",
       "    }\n",
       "</style>\n",
       "<table border=\"1\" class=\"dataframe\">\n",
       "  <thead>\n",
       "    <tr style=\"text-align: right;\">\n",
       "      <th></th>\n",
       "      <th>province</th>\n",
       "      <th>population</th>\n",
       "      <th>year</th>\n",
       "      <th>debt</th>\n",
       "    </tr>\n",
       "  </thead>\n",
       "  <tbody>\n",
       "    <tr>\n",
       "      <th>a</th>\n",
       "      <td>M</td>\n",
       "      <td>1500000.0</td>\n",
       "      <td>1900</td>\n",
       "      <td>NaN</td>\n",
       "    </tr>\n",
       "    <tr>\n",
       "      <th>b</th>\n",
       "      <td>M</td>\n",
       "      <td>2000000.0</td>\n",
       "      <td>1950</td>\n",
       "      <td>0.1</td>\n",
       "    </tr>\n",
       "    <tr>\n",
       "      <th>c</th>\n",
       "      <td>M</td>\n",
       "      <td>3000000.0</td>\n",
       "      <td>2000</td>\n",
       "      <td>NaN</td>\n",
       "    </tr>\n",
       "    <tr>\n",
       "      <th>d</th>\n",
       "      <td>B</td>\n",
       "      <td>500000.0</td>\n",
       "      <td>1900</td>\n",
       "      <td>0.6</td>\n",
       "    </tr>\n",
       "    <tr>\n",
       "      <th>e</th>\n",
       "      <td>B</td>\n",
       "      <td>1500000.0</td>\n",
       "      <td>2000</td>\n",
       "      <td>0.9</td>\n",
       "    </tr>\n",
       "  </tbody>\n",
       "</table>\n",
       "</div>"
      ],
      "text/plain": [
       "  province  population  year  debt\n",
       "a        M   1500000.0  1900   NaN\n",
       "b        M   2000000.0  1950   0.1\n",
       "c        M   3000000.0  2000   NaN\n",
       "d        B    500000.0  1900   0.6\n",
       "e        B   1500000.0  2000   0.9"
      ]
     },
     "execution_count": 89,
     "metadata": {
      "tags": []
     },
     "output_type": "execute_result"
    }
   ],
   "source": [
    "df2['debt'] = val\n",
    "df2"
   ]
  },
  {
   "cell_type": "markdown",
   "metadata": {
    "id": "-qSyKIdc6cjy"
   },
   "source": [
    "Assigning a column that doesn’t exist will create a new column:"
   ]
  },
  {
   "cell_type": "code",
   "execution_count": 90,
   "metadata": {
    "colab": {
     "base_uri": "https://localhost:8080/",
     "height": 206
    },
    "executionInfo": {
     "elapsed": 1620,
     "status": "ok",
     "timestamp": 1608655468709,
     "user": {
      "displayName": "Luis DEL POZO",
      "photoUrl": "",
      "userId": "08297678491184687059"
     },
     "user_tz": -60
    },
    "id": "KPpySh-ippil",
    "outputId": "953dccb3-da16-455c-e497-e3a361c5d6e5",
    "scrolled": true
   },
   "outputs": [
    {
     "data": {
      "text/html": [
       "<div>\n",
       "<style scoped>\n",
       "    .dataframe tbody tr th:only-of-type {\n",
       "        vertical-align: middle;\n",
       "    }\n",
       "\n",
       "    .dataframe tbody tr th {\n",
       "        vertical-align: top;\n",
       "    }\n",
       "\n",
       "    .dataframe thead th {\n",
       "        text-align: right;\n",
       "    }\n",
       "</style>\n",
       "<table border=\"1\" class=\"dataframe\">\n",
       "  <thead>\n",
       "    <tr style=\"text-align: right;\">\n",
       "      <th></th>\n",
       "      <th>province</th>\n",
       "      <th>population</th>\n",
       "      <th>year</th>\n",
       "      <th>debt</th>\n",
       "      <th>capital</th>\n",
       "    </tr>\n",
       "  </thead>\n",
       "  <tbody>\n",
       "    <tr>\n",
       "      <th>a</th>\n",
       "      <td>M</td>\n",
       "      <td>1500000.0</td>\n",
       "      <td>1900</td>\n",
       "      <td>NaN</td>\n",
       "      <td>True</td>\n",
       "    </tr>\n",
       "    <tr>\n",
       "      <th>b</th>\n",
       "      <td>M</td>\n",
       "      <td>2000000.0</td>\n",
       "      <td>1950</td>\n",
       "      <td>0.1</td>\n",
       "      <td>True</td>\n",
       "    </tr>\n",
       "    <tr>\n",
       "      <th>c</th>\n",
       "      <td>M</td>\n",
       "      <td>3000000.0</td>\n",
       "      <td>2000</td>\n",
       "      <td>NaN</td>\n",
       "      <td>True</td>\n",
       "    </tr>\n",
       "    <tr>\n",
       "      <th>d</th>\n",
       "      <td>B</td>\n",
       "      <td>500000.0</td>\n",
       "      <td>1900</td>\n",
       "      <td>0.6</td>\n",
       "      <td>False</td>\n",
       "    </tr>\n",
       "    <tr>\n",
       "      <th>e</th>\n",
       "      <td>B</td>\n",
       "      <td>1500000.0</td>\n",
       "      <td>2000</td>\n",
       "      <td>0.9</td>\n",
       "      <td>False</td>\n",
       "    </tr>\n",
       "  </tbody>\n",
       "</table>\n",
       "</div>"
      ],
      "text/plain": [
       "  province  population  year  debt  capital\n",
       "a        M   1500000.0  1900   NaN     True\n",
       "b        M   2000000.0  1950   0.1     True\n",
       "c        M   3000000.0  2000   NaN     True\n",
       "d        B    500000.0  1900   0.6    False\n",
       "e        B   1500000.0  2000   0.9    False"
      ]
     },
     "execution_count": 90,
     "metadata": {
      "tags": []
     },
     "output_type": "execute_result"
    }
   ],
   "source": [
    "df2['capital'] = df2['province'] == 'M'\n",
    "df2"
   ]
  },
  {
   "cell_type": "markdown",
   "metadata": {
    "id": "qb_SGZIA7pXc"
   },
   "source": [
    "The del keyword will delete columns as with a dict:"
   ]
  },
  {
   "cell_type": "code",
   "execution_count": 91,
   "metadata": {
    "colab": {
     "base_uri": "https://localhost:8080/",
     "height": 573
    },
    "executionInfo": {
     "elapsed": 719,
     "status": "error",
     "timestamp": 1608655473942,
     "user": {
      "displayName": "Luis DEL POZO",
      "photoUrl": "",
      "userId": "08297678491184687059"
     },
     "user_tz": -60
    },
    "id": "l_6GA17j73A8",
    "outputId": "816d9bf4-5af3-4027-f44c-3da7458f9840"
   },
   "outputs": [
    {
     "ename": "KeyError",
     "evalue": "ignored",
     "output_type": "error",
     "traceback": [
      "\u001b[0;31m---------------------------------------------------------------------------\u001b[0m",
      "\u001b[0;31mKeyError\u001b[0m                                  Traceback (most recent call last)",
      "\u001b[0;32m/usr/local/lib/python3.6/dist-packages/pandas/core/indexes/base.py\u001b[0m in \u001b[0;36mget_loc\u001b[0;34m(self, key, method, tolerance)\u001b[0m\n\u001b[1;32m   2897\u001b[0m             \u001b[0;32mtry\u001b[0m\u001b[0;34m:\u001b[0m\u001b[0;34m\u001b[0m\u001b[0;34m\u001b[0m\u001b[0m\n\u001b[0;32m-> 2898\u001b[0;31m                 \u001b[0;32mreturn\u001b[0m \u001b[0mself\u001b[0m\u001b[0;34m.\u001b[0m\u001b[0m_engine\u001b[0m\u001b[0;34m.\u001b[0m\u001b[0mget_loc\u001b[0m\u001b[0;34m(\u001b[0m\u001b[0mcasted_key\u001b[0m\u001b[0;34m)\u001b[0m\u001b[0;34m\u001b[0m\u001b[0;34m\u001b[0m\u001b[0m\n\u001b[0m\u001b[1;32m   2899\u001b[0m             \u001b[0;32mexcept\u001b[0m \u001b[0mKeyError\u001b[0m \u001b[0;32mas\u001b[0m \u001b[0merr\u001b[0m\u001b[0;34m:\u001b[0m\u001b[0;34m\u001b[0m\u001b[0;34m\u001b[0m\u001b[0m\n",
      "\u001b[0;32mpandas/_libs/index.pyx\u001b[0m in \u001b[0;36mpandas._libs.index.IndexEngine.get_loc\u001b[0;34m()\u001b[0m\n",
      "\u001b[0;32mpandas/_libs/index.pyx\u001b[0m in \u001b[0;36mpandas._libs.index.IndexEngine.get_loc\u001b[0;34m()\u001b[0m\n",
      "\u001b[0;32mpandas/_libs/hashtable_class_helper.pxi\u001b[0m in \u001b[0;36mpandas._libs.hashtable.PyObjectHashTable.get_item\u001b[0;34m()\u001b[0m\n",
      "\u001b[0;32mpandas/_libs/hashtable_class_helper.pxi\u001b[0m in \u001b[0;36mpandas._libs.hashtable.PyObjectHashTable.get_item\u001b[0;34m()\u001b[0m\n",
      "\u001b[0;31mKeyError\u001b[0m: '2nd_language'",
      "\nThe above exception was the direct cause of the following exception:\n",
      "\u001b[0;31mKeyError\u001b[0m                                  Traceback (most recent call last)",
      "\u001b[0;32m<ipython-input-91-df56ac3a89ab>\u001b[0m in \u001b[0;36m<module>\u001b[0;34m()\u001b[0m\n\u001b[0;32m----> 1\u001b[0;31m \u001b[0;32mdel\u001b[0m \u001b[0mdf2\u001b[0m\u001b[0;34m[\u001b[0m\u001b[0;34m'2nd_language'\u001b[0m\u001b[0;34m]\u001b[0m\u001b[0;34m\u001b[0m\u001b[0;34m\u001b[0m\u001b[0m\n\u001b[0m\u001b[1;32m      2\u001b[0m \u001b[0mdf2\u001b[0m\u001b[0;34m\u001b[0m\u001b[0;34m\u001b[0m\u001b[0m\n",
      "\u001b[0;32m/usr/local/lib/python3.6/dist-packages/pandas/core/generic.py\u001b[0m in \u001b[0;36m__delitem__\u001b[0;34m(self, key)\u001b[0m\n\u001b[1;32m   3711\u001b[0m             \u001b[0;31m# there was no match, this call should raise the appropriate\u001b[0m\u001b[0;34m\u001b[0m\u001b[0;34m\u001b[0m\u001b[0;34m\u001b[0m\u001b[0m\n\u001b[1;32m   3712\u001b[0m             \u001b[0;31m# exception:\u001b[0m\u001b[0;34m\u001b[0m\u001b[0;34m\u001b[0m\u001b[0;34m\u001b[0m\u001b[0m\n\u001b[0;32m-> 3713\u001b[0;31m             \u001b[0mloc\u001b[0m \u001b[0;34m=\u001b[0m \u001b[0mself\u001b[0m\u001b[0;34m.\u001b[0m\u001b[0maxes\u001b[0m\u001b[0;34m[\u001b[0m\u001b[0;34m-\u001b[0m\u001b[0;36m1\u001b[0m\u001b[0;34m]\u001b[0m\u001b[0;34m.\u001b[0m\u001b[0mget_loc\u001b[0m\u001b[0;34m(\u001b[0m\u001b[0mkey\u001b[0m\u001b[0;34m)\u001b[0m\u001b[0;34m\u001b[0m\u001b[0;34m\u001b[0m\u001b[0m\n\u001b[0m\u001b[1;32m   3714\u001b[0m             \u001b[0mself\u001b[0m\u001b[0;34m.\u001b[0m\u001b[0m_mgr\u001b[0m\u001b[0;34m.\u001b[0m\u001b[0midelete\u001b[0m\u001b[0;34m(\u001b[0m\u001b[0mloc\u001b[0m\u001b[0;34m)\u001b[0m\u001b[0;34m\u001b[0m\u001b[0;34m\u001b[0m\u001b[0m\n\u001b[1;32m   3715\u001b[0m \u001b[0;34m\u001b[0m\u001b[0m\n",
      "\u001b[0;32m/usr/local/lib/python3.6/dist-packages/pandas/core/indexes/base.py\u001b[0m in \u001b[0;36mget_loc\u001b[0;34m(self, key, method, tolerance)\u001b[0m\n\u001b[1;32m   2898\u001b[0m                 \u001b[0;32mreturn\u001b[0m \u001b[0mself\u001b[0m\u001b[0;34m.\u001b[0m\u001b[0m_engine\u001b[0m\u001b[0;34m.\u001b[0m\u001b[0mget_loc\u001b[0m\u001b[0;34m(\u001b[0m\u001b[0mcasted_key\u001b[0m\u001b[0;34m)\u001b[0m\u001b[0;34m\u001b[0m\u001b[0;34m\u001b[0m\u001b[0m\n\u001b[1;32m   2899\u001b[0m             \u001b[0;32mexcept\u001b[0m \u001b[0mKeyError\u001b[0m \u001b[0;32mas\u001b[0m \u001b[0merr\u001b[0m\u001b[0;34m:\u001b[0m\u001b[0;34m\u001b[0m\u001b[0;34m\u001b[0m\u001b[0m\n\u001b[0;32m-> 2900\u001b[0;31m                 \u001b[0;32mraise\u001b[0m \u001b[0mKeyError\u001b[0m\u001b[0;34m(\u001b[0m\u001b[0mkey\u001b[0m\u001b[0;34m)\u001b[0m \u001b[0;32mfrom\u001b[0m \u001b[0merr\u001b[0m\u001b[0;34m\u001b[0m\u001b[0;34m\u001b[0m\u001b[0m\n\u001b[0m\u001b[1;32m   2901\u001b[0m \u001b[0;34m\u001b[0m\u001b[0m\n\u001b[1;32m   2902\u001b[0m         \u001b[0;32mif\u001b[0m \u001b[0mtolerance\u001b[0m \u001b[0;32mis\u001b[0m \u001b[0;32mnot\u001b[0m \u001b[0;32mNone\u001b[0m\u001b[0;34m:\u001b[0m\u001b[0;34m\u001b[0m\u001b[0;34m\u001b[0m\u001b[0m\n",
      "\u001b[0;31mKeyError\u001b[0m: '2nd_language'"
     ]
    }
   ],
   "source": [
    "del df2['2nd_language']\n",
    "df2"
   ]
  },
  {
   "cell_type": "code",
   "execution_count": 92,
   "metadata": {
    "executionInfo": {
     "elapsed": 729,
     "status": "ok",
     "timestamp": 1608655476206,
     "user": {
      "displayName": "Luis DEL POZO",
      "photoUrl": "",
      "userId": "08297678491184687059"
     },
     "user_tz": -60
    },
    "id": "5b03VZbunCug"
   },
   "outputs": [],
   "source": [
    "df2['2nd_language'] = np.nan"
   ]
  },
  {
   "cell_type": "markdown",
   "metadata": {
    "id": "VDysxPbN7DiG"
   },
   "source": [
    "You can always transpose the Dataframe and it will switch the indexes in the corresponding axes:"
   ]
  },
  {
   "cell_type": "code",
   "execution_count": 93,
   "metadata": {
    "colab": {
     "base_uri": "https://localhost:8080/",
     "height": 238
    },
    "executionInfo": {
     "elapsed": 677,
     "status": "ok",
     "timestamp": 1608655479876,
     "user": {
      "displayName": "Luis DEL POZO",
      "photoUrl": "",
      "userId": "08297678491184687059"
     },
     "user_tz": -60
    },
    "id": "JxmxNwfqppil",
    "outputId": "0c9094fd-e88e-4f23-8ff3-95e77e37d37e",
    "scrolled": true
   },
   "outputs": [
    {
     "data": {
      "text/html": [
       "<div>\n",
       "<style scoped>\n",
       "    .dataframe tbody tr th:only-of-type {\n",
       "        vertical-align: middle;\n",
       "    }\n",
       "\n",
       "    .dataframe tbody tr th {\n",
       "        vertical-align: top;\n",
       "    }\n",
       "\n",
       "    .dataframe thead th {\n",
       "        text-align: right;\n",
       "    }\n",
       "</style>\n",
       "<table border=\"1\" class=\"dataframe\">\n",
       "  <thead>\n",
       "    <tr style=\"text-align: right;\">\n",
       "      <th></th>\n",
       "      <th>a</th>\n",
       "      <th>b</th>\n",
       "      <th>c</th>\n",
       "      <th>d</th>\n",
       "      <th>e</th>\n",
       "    </tr>\n",
       "  </thead>\n",
       "  <tbody>\n",
       "    <tr>\n",
       "      <th>province</th>\n",
       "      <td>M</td>\n",
       "      <td>M</td>\n",
       "      <td>M</td>\n",
       "      <td>B</td>\n",
       "      <td>B</td>\n",
       "    </tr>\n",
       "    <tr>\n",
       "      <th>population</th>\n",
       "      <td>1.5e+06</td>\n",
       "      <td>2e+06</td>\n",
       "      <td>3e+06</td>\n",
       "      <td>500000</td>\n",
       "      <td>1.5e+06</td>\n",
       "    </tr>\n",
       "    <tr>\n",
       "      <th>year</th>\n",
       "      <td>1900</td>\n",
       "      <td>1950</td>\n",
       "      <td>2000</td>\n",
       "      <td>1900</td>\n",
       "      <td>2000</td>\n",
       "    </tr>\n",
       "    <tr>\n",
       "      <th>debt</th>\n",
       "      <td>NaN</td>\n",
       "      <td>0.1</td>\n",
       "      <td>NaN</td>\n",
       "      <td>0.6</td>\n",
       "      <td>0.9</td>\n",
       "    </tr>\n",
       "    <tr>\n",
       "      <th>capital</th>\n",
       "      <td>True</td>\n",
       "      <td>True</td>\n",
       "      <td>True</td>\n",
       "      <td>False</td>\n",
       "      <td>False</td>\n",
       "    </tr>\n",
       "    <tr>\n",
       "      <th>2nd_language</th>\n",
       "      <td>NaN</td>\n",
       "      <td>NaN</td>\n",
       "      <td>NaN</td>\n",
       "      <td>NaN</td>\n",
       "      <td>NaN</td>\n",
       "    </tr>\n",
       "  </tbody>\n",
       "</table>\n",
       "</div>"
      ],
      "text/plain": [
       "                    a      b      c       d        e\n",
       "province            M      M      M       B        B\n",
       "population    1.5e+06  2e+06  3e+06  500000  1.5e+06\n",
       "year             1900   1950   2000    1900     2000\n",
       "debt              NaN    0.1    NaN     0.6      0.9\n",
       "capital          True   True   True   False    False\n",
       "2nd_language      NaN    NaN    NaN     NaN      NaN"
      ]
     },
     "execution_count": 93,
     "metadata": {
      "tags": []
     },
     "output_type": "execute_result"
    }
   ],
   "source": [
    "df2.T"
   ]
  },
  {
   "cell_type": "markdown",
   "metadata": {
    "id": "kPdlJSXuJOXh"
   },
   "source": [
    "The method `describe` computes a set of summary statistics for Servies of each DataFrame column: "
   ]
  },
  {
   "cell_type": "code",
   "execution_count": 94,
   "metadata": {
    "colab": {
     "base_uri": "https://localhost:8080/",
     "height": 300
    },
    "executionInfo": {
     "elapsed": 868,
     "status": "ok",
     "timestamp": 1608655484172,
     "user": {
      "displayName": "Luis DEL POZO",
      "photoUrl": "",
      "userId": "08297678491184687059"
     },
     "user_tz": -60
    },
    "id": "qq3UUnFrppil",
    "outputId": "26b33803-8236-420a-b4b0-0e12373e0049"
   },
   "outputs": [
    {
     "data": {
      "text/html": [
       "<div>\n",
       "<style scoped>\n",
       "    .dataframe tbody tr th:only-of-type {\n",
       "        vertical-align: middle;\n",
       "    }\n",
       "\n",
       "    .dataframe tbody tr th {\n",
       "        vertical-align: top;\n",
       "    }\n",
       "\n",
       "    .dataframe thead th {\n",
       "        text-align: right;\n",
       "    }\n",
       "</style>\n",
       "<table border=\"1\" class=\"dataframe\">\n",
       "  <thead>\n",
       "    <tr style=\"text-align: right;\">\n",
       "      <th></th>\n",
       "      <th>population</th>\n",
       "      <th>year</th>\n",
       "      <th>debt</th>\n",
       "      <th>2nd_language</th>\n",
       "    </tr>\n",
       "  </thead>\n",
       "  <tbody>\n",
       "    <tr>\n",
       "      <th>count</th>\n",
       "      <td>5.000000e+00</td>\n",
       "      <td>5.0</td>\n",
       "      <td>3.000000</td>\n",
       "      <td>0.0</td>\n",
       "    </tr>\n",
       "    <tr>\n",
       "      <th>mean</th>\n",
       "      <td>1.700000e+06</td>\n",
       "      <td>1950.0</td>\n",
       "      <td>0.533333</td>\n",
       "      <td>NaN</td>\n",
       "    </tr>\n",
       "    <tr>\n",
       "      <th>std</th>\n",
       "      <td>9.082951e+05</td>\n",
       "      <td>50.0</td>\n",
       "      <td>0.404145</td>\n",
       "      <td>NaN</td>\n",
       "    </tr>\n",
       "    <tr>\n",
       "      <th>min</th>\n",
       "      <td>5.000000e+05</td>\n",
       "      <td>1900.0</td>\n",
       "      <td>0.100000</td>\n",
       "      <td>NaN</td>\n",
       "    </tr>\n",
       "    <tr>\n",
       "      <th>25%</th>\n",
       "      <td>1.500000e+06</td>\n",
       "      <td>1900.0</td>\n",
       "      <td>0.350000</td>\n",
       "      <td>NaN</td>\n",
       "    </tr>\n",
       "    <tr>\n",
       "      <th>50%</th>\n",
       "      <td>1.500000e+06</td>\n",
       "      <td>1950.0</td>\n",
       "      <td>0.600000</td>\n",
       "      <td>NaN</td>\n",
       "    </tr>\n",
       "    <tr>\n",
       "      <th>75%</th>\n",
       "      <td>2.000000e+06</td>\n",
       "      <td>2000.0</td>\n",
       "      <td>0.750000</td>\n",
       "      <td>NaN</td>\n",
       "    </tr>\n",
       "    <tr>\n",
       "      <th>max</th>\n",
       "      <td>3.000000e+06</td>\n",
       "      <td>2000.0</td>\n",
       "      <td>0.900000</td>\n",
       "      <td>NaN</td>\n",
       "    </tr>\n",
       "  </tbody>\n",
       "</table>\n",
       "</div>"
      ],
      "text/plain": [
       "         population    year      debt  2nd_language\n",
       "count  5.000000e+00     5.0  3.000000           0.0\n",
       "mean   1.700000e+06  1950.0  0.533333           NaN\n",
       "std    9.082951e+05    50.0  0.404145           NaN\n",
       "min    5.000000e+05  1900.0  0.100000           NaN\n",
       "25%    1.500000e+06  1900.0  0.350000           NaN\n",
       "50%    1.500000e+06  1950.0  0.600000           NaN\n",
       "75%    2.000000e+06  2000.0  0.750000           NaN\n",
       "max    3.000000e+06  2000.0  0.900000           NaN"
      ]
     },
     "execution_count": 94,
     "metadata": {
      "tags": []
     },
     "output_type": "execute_result"
    }
   ],
   "source": [
    "df2.describe()"
   ]
  },
  {
   "cell_type": "markdown",
   "metadata": {
    "id": "PSZ35vV5I7hw"
   },
   "source": [
    "Of course, we can transpose this as well:"
   ]
  },
  {
   "cell_type": "code",
   "execution_count": 95,
   "metadata": {
    "colab": {
     "base_uri": "https://localhost:8080/",
     "height": 175
    },
    "executionInfo": {
     "elapsed": 788,
     "status": "ok",
     "timestamp": 1608655486731,
     "user": {
      "displayName": "Luis DEL POZO",
      "photoUrl": "",
      "userId": "08297678491184687059"
     },
     "user_tz": -60
    },
    "id": "rbf_QhQzppil",
    "outputId": "7b92dba5-3d26-437b-c32e-1d4982020e8d"
   },
   "outputs": [
    {
     "data": {
      "text/html": [
       "<div>\n",
       "<style scoped>\n",
       "    .dataframe tbody tr th:only-of-type {\n",
       "        vertical-align: middle;\n",
       "    }\n",
       "\n",
       "    .dataframe tbody tr th {\n",
       "        vertical-align: top;\n",
       "    }\n",
       "\n",
       "    .dataframe thead th {\n",
       "        text-align: right;\n",
       "    }\n",
       "</style>\n",
       "<table border=\"1\" class=\"dataframe\">\n",
       "  <thead>\n",
       "    <tr style=\"text-align: right;\">\n",
       "      <th></th>\n",
       "      <th>count</th>\n",
       "      <th>mean</th>\n",
       "      <th>std</th>\n",
       "      <th>min</th>\n",
       "      <th>25%</th>\n",
       "      <th>50%</th>\n",
       "      <th>75%</th>\n",
       "      <th>max</th>\n",
       "    </tr>\n",
       "  </thead>\n",
       "  <tbody>\n",
       "    <tr>\n",
       "      <th>population</th>\n",
       "      <td>5.0</td>\n",
       "      <td>1.700000e+06</td>\n",
       "      <td>908295.106229</td>\n",
       "      <td>500000.0</td>\n",
       "      <td>1500000.00</td>\n",
       "      <td>1500000.0</td>\n",
       "      <td>2000000.00</td>\n",
       "      <td>3000000.0</td>\n",
       "    </tr>\n",
       "    <tr>\n",
       "      <th>year</th>\n",
       "      <td>5.0</td>\n",
       "      <td>1.950000e+03</td>\n",
       "      <td>50.000000</td>\n",
       "      <td>1900.0</td>\n",
       "      <td>1900.00</td>\n",
       "      <td>1950.0</td>\n",
       "      <td>2000.00</td>\n",
       "      <td>2000.0</td>\n",
       "    </tr>\n",
       "    <tr>\n",
       "      <th>debt</th>\n",
       "      <td>3.0</td>\n",
       "      <td>5.333333e-01</td>\n",
       "      <td>0.404145</td>\n",
       "      <td>0.1</td>\n",
       "      <td>0.35</td>\n",
       "      <td>0.6</td>\n",
       "      <td>0.75</td>\n",
       "      <td>0.9</td>\n",
       "    </tr>\n",
       "    <tr>\n",
       "      <th>2nd_language</th>\n",
       "      <td>0.0</td>\n",
       "      <td>NaN</td>\n",
       "      <td>NaN</td>\n",
       "      <td>NaN</td>\n",
       "      <td>NaN</td>\n",
       "      <td>NaN</td>\n",
       "      <td>NaN</td>\n",
       "      <td>NaN</td>\n",
       "    </tr>\n",
       "  </tbody>\n",
       "</table>\n",
       "</div>"
      ],
      "text/plain": [
       "              count          mean  ...         75%        max\n",
       "population      5.0  1.700000e+06  ...  2000000.00  3000000.0\n",
       "year            5.0  1.950000e+03  ...     2000.00     2000.0\n",
       "debt            3.0  5.333333e-01  ...        0.75        0.9\n",
       "2nd_language    0.0           NaN  ...         NaN        NaN\n",
       "\n",
       "[4 rows x 8 columns]"
      ]
     },
     "execution_count": 95,
     "metadata": {
      "tags": []
     },
     "output_type": "execute_result"
    }
   ],
   "source": [
    "df2.describe().T"
   ]
  },
  {
   "cell_type": "markdown",
   "metadata": {
    "id": "nP3nFLndppil"
   },
   "source": [
    "One simple way of counting/finding non nulls is to just apply the `count()` method on our dataframe:"
   ]
  },
  {
   "cell_type": "code",
   "execution_count": 96,
   "metadata": {
    "colab": {
     "base_uri": "https://localhost:8080/"
    },
    "executionInfo": {
     "elapsed": 718,
     "status": "ok",
     "timestamp": 1608655490466,
     "user": {
      "displayName": "Luis DEL POZO",
      "photoUrl": "",
      "userId": "08297678491184687059"
     },
     "user_tz": -60
    },
    "id": "cJqwkM6fJGt0",
    "outputId": "c5eba05f-964e-46c9-97af-aba7d84f6544"
   },
   "outputs": [
    {
     "data": {
      "text/plain": [
       "province        5\n",
       "population      5\n",
       "year            5\n",
       "debt            3\n",
       "capital         5\n",
       "2nd_language    0\n",
       "dtype: int64"
      ]
     },
     "execution_count": 96,
     "metadata": {
      "tags": []
     },
     "output_type": "execute_result"
    }
   ],
   "source": [
    "df2.count() "
   ]
  },
  {
   "cell_type": "markdown",
   "metadata": {
    "id": "OnjJMinbppil"
   },
   "source": [
    "### Index objects\n",
    "\n",
    "Pandas’s Index objects are responsible for holding the axis labels and other metadata (like the axis name or names). Any array or other sequence of labels used when constructing a Series or DataFrame is internally converted to an Index, which are immutable and can't be modified by you:"
   ]
  },
  {
   "cell_type": "code",
   "execution_count": 97,
   "metadata": {
    "colab": {
     "base_uri": "https://localhost:8080/",
     "height": 289
    },
    "executionInfo": {
     "elapsed": 701,
     "status": "error",
     "timestamp": 1608655494974,
     "user": {
      "displayName": "Luis DEL POZO",
      "photoUrl": "",
      "userId": "08297678491184687059"
     },
     "user_tz": -60
    },
    "id": "4oq5VB60ppil",
    "outputId": "79b6938d-27d2-4289-a0c4-4bfaa6ab0824"
   },
   "outputs": [
    {
     "ename": "TypeError",
     "evalue": "ignored",
     "output_type": "error",
     "traceback": [
      "\u001b[0;31m---------------------------------------------------------------------------\u001b[0m",
      "\u001b[0;31mTypeError\u001b[0m                                 Traceback (most recent call last)",
      "\u001b[0;32m<ipython-input-97-32edd7626686>\u001b[0m in \u001b[0;36m<module>\u001b[0;34m()\u001b[0m\n\u001b[0;32m----> 1\u001b[0;31m \u001b[0mdf2\u001b[0m\u001b[0;34m.\u001b[0m\u001b[0mindex\u001b[0m\u001b[0;34m[\u001b[0m\u001b[0;36m1\u001b[0m\u001b[0;34m]\u001b[0m \u001b[0;34m=\u001b[0m \u001b[0;34m'x'\u001b[0m\u001b[0;34m\u001b[0m\u001b[0;34m\u001b[0m\u001b[0m\n\u001b[0m",
      "\u001b[0;32m/usr/local/lib/python3.6/dist-packages/pandas/core/indexes/base.py\u001b[0m in \u001b[0;36m__setitem__\u001b[0;34m(self, key, value)\u001b[0m\n\u001b[1;32m   4082\u001b[0m \u001b[0;34m\u001b[0m\u001b[0m\n\u001b[1;32m   4083\u001b[0m     \u001b[0;32mdef\u001b[0m \u001b[0m__setitem__\u001b[0m\u001b[0;34m(\u001b[0m\u001b[0mself\u001b[0m\u001b[0;34m,\u001b[0m \u001b[0mkey\u001b[0m\u001b[0;34m,\u001b[0m \u001b[0mvalue\u001b[0m\u001b[0;34m)\u001b[0m\u001b[0;34m:\u001b[0m\u001b[0;34m\u001b[0m\u001b[0;34m\u001b[0m\u001b[0m\n\u001b[0;32m-> 4084\u001b[0;31m         \u001b[0;32mraise\u001b[0m \u001b[0mTypeError\u001b[0m\u001b[0;34m(\u001b[0m\u001b[0;34m\"Index does not support mutable operations\"\u001b[0m\u001b[0;34m)\u001b[0m\u001b[0;34m\u001b[0m\u001b[0;34m\u001b[0m\u001b[0m\n\u001b[0m\u001b[1;32m   4085\u001b[0m \u001b[0;34m\u001b[0m\u001b[0m\n\u001b[1;32m   4086\u001b[0m     \u001b[0;32mdef\u001b[0m \u001b[0m__getitem__\u001b[0m\u001b[0;34m(\u001b[0m\u001b[0mself\u001b[0m\u001b[0;34m,\u001b[0m \u001b[0mkey\u001b[0m\u001b[0;34m)\u001b[0m\u001b[0;34m:\u001b[0m\u001b[0;34m\u001b[0m\u001b[0;34m\u001b[0m\u001b[0m\n",
      "\u001b[0;31mTypeError\u001b[0m: Index does not support mutable operations"
     ]
    }
   ],
   "source": [
    "df2.index[1] = 'x'"
   ]
  },
  {
   "cell_type": "code",
   "execution_count": 98,
   "metadata": {
    "colab": {
     "base_uri": "https://localhost:8080/",
     "height": 35
    },
    "executionInfo": {
     "elapsed": 907,
     "status": "ok",
     "timestamp": 1608655509151,
     "user": {
      "displayName": "Luis DEL POZO",
      "photoUrl": "",
      "userId": "08297678491184687059"
     },
     "user_tz": -60
    },
    "id": "XO1i13lMppil",
    "outputId": "66a56a8c-a398-4b43-b9cd-4605a3ca698b"
   },
   "outputs": [
    {
     "data": {
      "application/vnd.google.colaboratory.intrinsic+json": {
       "type": "string"
      },
      "text/plain": [
       "'b'"
      ]
     },
     "execution_count": 98,
     "metadata": {
      "tags": []
     },
     "output_type": "execute_result"
    }
   ],
   "source": [
    "df2.index[1]"
   ]
  },
  {
   "cell_type": "markdown",
   "metadata": {
    "id": "kGCbxsFGlh_u"
   },
   "source": [
    "Inmutability is important so that Index objects ca be safely shared amongst data structures:"
   ]
  },
  {
   "cell_type": "code",
   "execution_count": 99,
   "metadata": {
    "colab": {
     "base_uri": "https://localhost:8080/"
    },
    "executionInfo": {
     "elapsed": 685,
     "status": "ok",
     "timestamp": 1608655516277,
     "user": {
      "displayName": "Luis DEL POZO",
      "photoUrl": "",
      "userId": "08297678491184687059"
     },
     "user_tz": -60
    },
    "id": "6l1_xctdlKxV",
    "outputId": "26dde5e5-6e8f-43c9-dfd7-06dd593652f0"
   },
   "outputs": [
    {
     "data": {
      "text/plain": [
       "a    1.5\n",
       "b   -2.5\n",
       "c    0.0\n",
       "d    1.0\n",
       "e    2.0\n",
       "dtype: float64"
      ]
     },
     "execution_count": 99,
     "metadata": {
      "tags": []
     },
     "output_type": "execute_result"
    }
   ],
   "source": [
    "series_temp = pd.Series([1.5, -2.5, 0, 1, 2],df2.index)\n",
    "series_temp"
   ]
  },
  {
   "cell_type": "markdown",
   "metadata": {
    "id": "v3ahsl1Bl1Ym"
   },
   "source": [
    "We can also manipulate rows by referencing the index location in a similar manner to what we saw before:"
   ]
  },
  {
   "cell_type": "code",
   "execution_count": 100,
   "metadata": {
    "colab": {
     "base_uri": "https://localhost:8080/",
     "height": 143
    },
    "executionInfo": {
     "elapsed": 809,
     "status": "ok",
     "timestamp": 1608655524501,
     "user": {
      "displayName": "Luis DEL POZO",
      "photoUrl": "",
      "userId": "08297678491184687059"
     },
     "user_tz": -60
    },
    "id": "F2fhY-Dwppil",
    "outputId": "75d41db8-82a9-4771-9453-0b91c376797b"
   },
   "outputs": [
    {
     "data": {
      "text/html": [
       "<div>\n",
       "<style scoped>\n",
       "    .dataframe tbody tr th:only-of-type {\n",
       "        vertical-align: middle;\n",
       "    }\n",
       "\n",
       "    .dataframe tbody tr th {\n",
       "        vertical-align: top;\n",
       "    }\n",
       "\n",
       "    .dataframe thead th {\n",
       "        text-align: right;\n",
       "    }\n",
       "</style>\n",
       "<table border=\"1\" class=\"dataframe\">\n",
       "  <thead>\n",
       "    <tr style=\"text-align: right;\">\n",
       "      <th></th>\n",
       "      <th>province</th>\n",
       "      <th>population</th>\n",
       "      <th>year</th>\n",
       "      <th>debt</th>\n",
       "      <th>capital</th>\n",
       "      <th>2nd_language</th>\n",
       "    </tr>\n",
       "  </thead>\n",
       "  <tbody>\n",
       "    <tr>\n",
       "      <th>c</th>\n",
       "      <td>M</td>\n",
       "      <td>3000000.0</td>\n",
       "      <td>2000</td>\n",
       "      <td>NaN</td>\n",
       "      <td>True</td>\n",
       "      <td>NaN</td>\n",
       "    </tr>\n",
       "    <tr>\n",
       "      <th>d</th>\n",
       "      <td>B</td>\n",
       "      <td>500000.0</td>\n",
       "      <td>1900</td>\n",
       "      <td>0.6</td>\n",
       "      <td>False</td>\n",
       "      <td>NaN</td>\n",
       "    </tr>\n",
       "    <tr>\n",
       "      <th>e</th>\n",
       "      <td>B</td>\n",
       "      <td>1500000.0</td>\n",
       "      <td>2000</td>\n",
       "      <td>0.9</td>\n",
       "      <td>False</td>\n",
       "      <td>NaN</td>\n",
       "    </tr>\n",
       "  </tbody>\n",
       "</table>\n",
       "</div>"
      ],
      "text/plain": [
       "  province  population  year  debt  capital  2nd_language\n",
       "c        M   3000000.0  2000   NaN     True           NaN\n",
       "d        B    500000.0  1900   0.6    False           NaN\n",
       "e        B   1500000.0  2000   0.9    False           NaN"
      ]
     },
     "execution_count": 100,
     "metadata": {
      "tags": []
     },
     "output_type": "execute_result"
    }
   ],
   "source": [
    "df2.iloc[2:]"
   ]
  },
  {
   "cell_type": "code",
   "execution_count": null,
   "metadata": {
    "executionInfo": {
     "elapsed": 33426,
     "status": "aborted",
     "timestamp": 1608654663372,
     "user": {
      "displayName": "Luis DEL POZO",
      "photoUrl": "",
      "userId": "08297678491184687059"
     },
     "user_tz": -60
    },
    "id": "QcmvWPKQNbDn"
   },
   "outputs": [],
   "source": [
    "#@title Saving df2 to Drive\n",
    "import os\n",
    "save_to_drive = True #@param {type:\"boolean\"}\n",
    "\n",
    "if save_to_drive and files_loc:\n",
    "  df2.to_pickle(os.path.join(files_loc,\"df2.pkl\"))\n",
    "else:\n",
    "  print('Please, mount Google Drive running the cell at the beginning and try again')"
   ]
  },
  {
   "cell_type": "code",
   "execution_count": null,
   "metadata": {
    "executionInfo": {
     "elapsed": 33417,
     "status": "aborted",
     "timestamp": 1608654663373,
     "user": {
      "displayName": "Luis DEL POZO",
      "photoUrl": "",
      "userId": "08297678491184687059"
     },
     "user_tz": -60
    },
    "id": "hsLlTuExmEj1"
   },
   "outputs": [],
   "source": [
    "!ls {files_loc}"
   ]
  },
  {
   "cell_type": "code",
   "execution_count": null,
   "metadata": {
    "executionInfo": {
     "elapsed": 33410,
     "status": "aborted",
     "timestamp": 1608654663374,
     "user": {
      "displayName": "Luis DEL POZO",
      "photoUrl": "",
      "userId": "08297678491184687059"
     },
     "user_tz": -60
    },
    "id": "rhmBydFNMQwN"
   },
   "outputs": [],
   "source": [
    "files_loc"
   ]
  },
  {
   "cell_type": "markdown",
   "metadata": {
    "id": "HnCKP-JbJe9X"
   },
   "source": [
    "### More on Loc and iLoc [optional practice]\n",
    "See section 1 of the scrapbook."
   ]
  },
  {
   "cell_type": "markdown",
   "metadata": {
    "id": "mt-KihMbppil"
   },
   "source": [
    "### Dropping entries from an axis"
   ]
  },
  {
   "cell_type": "markdown",
   "metadata": {
    "id": "v_SOz_6DmD8e"
   },
   "source": [
    "Dropping one or more entries from an axis is easy if you have an index array or list without those entries. As that can require a bit of munging and set logic, the drop method will return a new object with the indicated value or values deleted from an axis.\n",
    "\n",
    "Let's create a new series to demonstrate all this:\n"
   ]
  },
  {
   "cell_type": "code",
   "execution_count": 101,
   "metadata": {
    "colab": {
     "base_uri": "https://localhost:8080/"
    },
    "executionInfo": {
     "elapsed": 687,
     "status": "ok",
     "timestamp": 1608655535989,
     "user": {
      "displayName": "Luis DEL POZO",
      "photoUrl": "",
      "userId": "08297678491184687059"
     },
     "user_tz": -60
    },
    "id": "cS74cVESppil",
    "outputId": "9c975735-e1e6-4c87-ee4f-86774b903460"
   },
   "outputs": [
    {
     "data": {
      "text/plain": [
       "j    0\n",
       "d    1\n",
       "u    2\n",
       "v    3\n",
       "k    4\n",
       "dtype: int64"
      ]
     },
     "execution_count": 101,
     "metadata": {
      "tags": []
     },
     "output_type": "execute_result"
    }
   ],
   "source": [
    "s5 = pd.Series(np.arange(5), list('jduvk'))\n",
    "s5"
   ]
  },
  {
   "cell_type": "code",
   "execution_count": 102,
   "metadata": {
    "colab": {
     "base_uri": "https://localhost:8080/"
    },
    "executionInfo": {
     "elapsed": 726,
     "status": "ok",
     "timestamp": 1608655543332,
     "user": {
      "displayName": "Luis DEL POZO",
      "photoUrl": "",
      "userId": "08297678491184687059"
     },
     "user_tz": -60
    },
    "id": "jcjyXadTppil",
    "outputId": "5155d02b-79ea-45da-9a38-df24b92596bd"
   },
   "outputs": [
    {
     "data": {
      "text/plain": [
       "j    0\n",
       "u    2\n",
       "v    3\n",
       "dtype: int64"
      ]
     },
     "execution_count": 102,
     "metadata": {
      "tags": []
     },
     "output_type": "execute_result"
    }
   ],
   "source": [
    "s6 = s5.drop(['d','k'])\n",
    "s6"
   ]
  },
  {
   "cell_type": "markdown",
   "metadata": {
    "id": "uEKNC8aoLULb"
   },
   "source": [
    "Yes, we dropped elements present in the index defined by a list, but can we do just the opposite and keep the elements provided in a list while dropping everything else?:"
   ]
  },
  {
   "cell_type": "code",
   "execution_count": 103,
   "metadata": {
    "colab": {
     "base_uri": "https://localhost:8080/"
    },
    "executionInfo": {
     "elapsed": 1024,
     "status": "ok",
     "timestamp": 1608655550328,
     "user": {
      "displayName": "Luis DEL POZO",
      "photoUrl": "",
      "userId": "08297678491184687059"
     },
     "user_tz": -60
    },
    "id": "7MvsJc-IKp1G",
    "outputId": "0e722818-0235-4a17-f9c1-3450467ad2a3"
   },
   "outputs": [
    {
     "data": {
      "text/plain": [
       "d    1\n",
       "k    4\n",
       "dtype: int64"
      ]
     },
     "execution_count": 103,
     "metadata": {
      "tags": []
     },
     "output_type": "execute_result"
    }
   ],
   "source": [
    "s6b = s5[s5.index.intersection(['d','k'])]\n",
    "s6b"
   ]
  },
  {
   "cell_type": "markdown",
   "metadata": {
    "id": "RX36lMeyppil"
   },
   "source": [
    "By default, `drop()` doesn't modify the original Series, it creates a copy. We can change that with the argument `inplace` that we'll see later on:"
   ]
  },
  {
   "cell_type": "code",
   "execution_count": 104,
   "metadata": {
    "colab": {
     "base_uri": "https://localhost:8080/"
    },
    "executionInfo": {
     "elapsed": 794,
     "status": "ok",
     "timestamp": 1608655560883,
     "user": {
      "displayName": "Luis DEL POZO",
      "photoUrl": "",
      "userId": "08297678491184687059"
     },
     "user_tz": -60
    },
    "id": "2Vvrs1kfppil",
    "outputId": "626c9457-8085-4fbf-8f9f-ac3948e441af"
   },
   "outputs": [
    {
     "data": {
      "text/plain": [
       "j    0\n",
       "d    1\n",
       "u    2\n",
       "v    3\n",
       "k    4\n",
       "dtype: int64"
      ]
     },
     "execution_count": 104,
     "metadata": {
      "tags": []
     },
     "output_type": "execute_result"
    }
   ],
   "source": [
    "s5"
   ]
  },
  {
   "cell_type": "code",
   "execution_count": 105,
   "metadata": {
    "colab": {
     "base_uri": "https://localhost:8080/"
    },
    "executionInfo": {
     "elapsed": 1084,
     "status": "ok",
     "timestamp": 1608655562918,
     "user": {
      "displayName": "Luis DEL POZO",
      "photoUrl": "",
      "userId": "08297678491184687059"
     },
     "user_tz": -60
    },
    "id": "84z6dJfoppil",
    "outputId": "1714aa1c-153e-4c0c-a3b4-006482c4e2d2"
   },
   "outputs": [
    {
     "data": {
      "text/plain": [
       "j    0\n",
       "u    7\n",
       "v    3\n",
       "dtype: int64"
      ]
     },
     "execution_count": 105,
     "metadata": {
      "tags": []
     },
     "output_type": "execute_result"
    }
   ],
   "source": [
    "s6['u'] = 7\n",
    "s6"
   ]
  },
  {
   "cell_type": "code",
   "execution_count": 106,
   "metadata": {
    "colab": {
     "base_uri": "https://localhost:8080/"
    },
    "executionInfo": {
     "elapsed": 516,
     "status": "ok",
     "timestamp": 1608655564209,
     "user": {
      "displayName": "Luis DEL POZO",
      "photoUrl": "",
      "userId": "08297678491184687059"
     },
     "user_tz": -60
    },
    "id": "ETSp678MElZ1",
    "outputId": "0d586e74-6af9-40a1-ccdd-ddc3fb126ca6"
   },
   "outputs": [
    {
     "data": {
      "text/plain": [
       "j    0\n",
       "d    1\n",
       "u    2\n",
       "v    3\n",
       "k    4\n",
       "dtype: int64"
      ]
     },
     "execution_count": 106,
     "metadata": {
      "tags": []
     },
     "output_type": "execute_result"
    }
   ],
   "source": [
    "s5"
   ]
  },
  {
   "cell_type": "markdown",
   "metadata": {
    "id": "LaZMnkManHV1"
   },
   "source": [
    "Let's now work with Dataframes. First, let's see dropping elements from axes in a dataframe:"
   ]
  },
  {
   "cell_type": "code",
   "execution_count": null,
   "metadata": {
    "executionInfo": {
     "elapsed": 33369,
     "status": "aborted",
     "timestamp": 1608654663380,
     "user": {
      "displayName": "Luis DEL POZO",
      "photoUrl": "",
      "userId": "08297678491184687059"
     },
     "user_tz": -60
    },
    "id": "1Sn4-OZnPbLe"
   },
   "outputs": [],
   "source": [
    "#@title Loading df2 from Drive\n",
    "load_from_drive = True #@param {type:\"boolean\"}\n",
    "\n",
    "if load_from_drive and files_loc:\n",
    "  df2 = pd.read_pickle(os.path.join(files_loc,\"df2.pkl\"))\n",
    "else:\n",
    "  print('Please, mount Google Drive running the cell at the beginning and try again')"
   ]
  },
  {
   "cell_type": "code",
   "execution_count": 107,
   "metadata": {
    "colab": {
     "base_uri": "https://localhost:8080/",
     "height": 206
    },
    "executionInfo": {
     "elapsed": 808,
     "status": "ok",
     "timestamp": 1608655569845,
     "user": {
      "displayName": "Luis DEL POZO",
      "photoUrl": "",
      "userId": "08297678491184687059"
     },
     "user_tz": -60
    },
    "id": "sbhCe_5yppil",
    "outputId": "bb84c36b-df1c-49ca-baaa-6a0125d8262a"
   },
   "outputs": [
    {
     "data": {
      "text/html": [
       "<div>\n",
       "<style scoped>\n",
       "    .dataframe tbody tr th:only-of-type {\n",
       "        vertical-align: middle;\n",
       "    }\n",
       "\n",
       "    .dataframe tbody tr th {\n",
       "        vertical-align: top;\n",
       "    }\n",
       "\n",
       "    .dataframe thead th {\n",
       "        text-align: right;\n",
       "    }\n",
       "</style>\n",
       "<table border=\"1\" class=\"dataframe\">\n",
       "  <thead>\n",
       "    <tr style=\"text-align: right;\">\n",
       "      <th></th>\n",
       "      <th>province</th>\n",
       "      <th>population</th>\n",
       "      <th>year</th>\n",
       "      <th>debt</th>\n",
       "      <th>capital</th>\n",
       "      <th>2nd_language</th>\n",
       "    </tr>\n",
       "  </thead>\n",
       "  <tbody>\n",
       "    <tr>\n",
       "      <th>a</th>\n",
       "      <td>M</td>\n",
       "      <td>1500000.0</td>\n",
       "      <td>1900</td>\n",
       "      <td>NaN</td>\n",
       "      <td>True</td>\n",
       "      <td>NaN</td>\n",
       "    </tr>\n",
       "    <tr>\n",
       "      <th>b</th>\n",
       "      <td>M</td>\n",
       "      <td>2000000.0</td>\n",
       "      <td>1950</td>\n",
       "      <td>0.1</td>\n",
       "      <td>True</td>\n",
       "      <td>NaN</td>\n",
       "    </tr>\n",
       "    <tr>\n",
       "      <th>c</th>\n",
       "      <td>M</td>\n",
       "      <td>3000000.0</td>\n",
       "      <td>2000</td>\n",
       "      <td>NaN</td>\n",
       "      <td>True</td>\n",
       "      <td>NaN</td>\n",
       "    </tr>\n",
       "    <tr>\n",
       "      <th>d</th>\n",
       "      <td>B</td>\n",
       "      <td>500000.0</td>\n",
       "      <td>1900</td>\n",
       "      <td>0.6</td>\n",
       "      <td>False</td>\n",
       "      <td>NaN</td>\n",
       "    </tr>\n",
       "    <tr>\n",
       "      <th>e</th>\n",
       "      <td>B</td>\n",
       "      <td>1500000.0</td>\n",
       "      <td>2000</td>\n",
       "      <td>0.9</td>\n",
       "      <td>False</td>\n",
       "      <td>NaN</td>\n",
       "    </tr>\n",
       "  </tbody>\n",
       "</table>\n",
       "</div>"
      ],
      "text/plain": [
       "  province  population  year  debt  capital  2nd_language\n",
       "a        M   1500000.0  1900   NaN     True           NaN\n",
       "b        M   2000000.0  1950   0.1     True           NaN\n",
       "c        M   3000000.0  2000   NaN     True           NaN\n",
       "d        B    500000.0  1900   0.6    False           NaN\n",
       "e        B   1500000.0  2000   0.9    False           NaN"
      ]
     },
     "execution_count": 107,
     "metadata": {
      "tags": []
     },
     "output_type": "execute_result"
    }
   ],
   "source": [
    "df2"
   ]
  },
  {
   "cell_type": "markdown",
   "metadata": {
    "id": "ifct-utn5khx"
   },
   "source": [
    "Using `drop` on the dataframe will operate on the defaul axis 0, meaning that the specified object needs to be a **row**:"
   ]
  },
  {
   "cell_type": "code",
   "execution_count": 108,
   "metadata": {
    "colab": {
     "base_uri": "https://localhost:8080/",
     "height": 175
    },
    "executionInfo": {
     "elapsed": 710,
     "status": "ok",
     "timestamp": 1608655574499,
     "user": {
      "displayName": "Luis DEL POZO",
      "photoUrl": "",
      "userId": "08297678491184687059"
     },
     "user_tz": -60
    },
    "id": "MnAyJZFgppil",
    "outputId": "440a61bb-fc05-4f1d-8f71-e1fbc2690b9b"
   },
   "outputs": [
    {
     "data": {
      "text/html": [
       "<div>\n",
       "<style scoped>\n",
       "    .dataframe tbody tr th:only-of-type {\n",
       "        vertical-align: middle;\n",
       "    }\n",
       "\n",
       "    .dataframe tbody tr th {\n",
       "        vertical-align: top;\n",
       "    }\n",
       "\n",
       "    .dataframe thead th {\n",
       "        text-align: right;\n",
       "    }\n",
       "</style>\n",
       "<table border=\"1\" class=\"dataframe\">\n",
       "  <thead>\n",
       "    <tr style=\"text-align: right;\">\n",
       "      <th></th>\n",
       "      <th>province</th>\n",
       "      <th>population</th>\n",
       "      <th>year</th>\n",
       "      <th>debt</th>\n",
       "      <th>capital</th>\n",
       "      <th>2nd_language</th>\n",
       "    </tr>\n",
       "  </thead>\n",
       "  <tbody>\n",
       "    <tr>\n",
       "      <th>a</th>\n",
       "      <td>M</td>\n",
       "      <td>1500000.0</td>\n",
       "      <td>1900</td>\n",
       "      <td>NaN</td>\n",
       "      <td>True</td>\n",
       "      <td>NaN</td>\n",
       "    </tr>\n",
       "    <tr>\n",
       "      <th>b</th>\n",
       "      <td>M</td>\n",
       "      <td>2000000.0</td>\n",
       "      <td>1950</td>\n",
       "      <td>0.1</td>\n",
       "      <td>True</td>\n",
       "      <td>NaN</td>\n",
       "    </tr>\n",
       "    <tr>\n",
       "      <th>d</th>\n",
       "      <td>B</td>\n",
       "      <td>500000.0</td>\n",
       "      <td>1900</td>\n",
       "      <td>0.6</td>\n",
       "      <td>False</td>\n",
       "      <td>NaN</td>\n",
       "    </tr>\n",
       "    <tr>\n",
       "      <th>e</th>\n",
       "      <td>B</td>\n",
       "      <td>1500000.0</td>\n",
       "      <td>2000</td>\n",
       "      <td>0.9</td>\n",
       "      <td>False</td>\n",
       "      <td>NaN</td>\n",
       "    </tr>\n",
       "  </tbody>\n",
       "</table>\n",
       "</div>"
      ],
      "text/plain": [
       "  province  population  year  debt  capital  2nd_language\n",
       "a        M   1500000.0  1900   NaN     True           NaN\n",
       "b        M   2000000.0  1950   0.1     True           NaN\n",
       "d        B    500000.0  1900   0.6    False           NaN\n",
       "e        B   1500000.0  2000   0.9    False           NaN"
      ]
     },
     "execution_count": 108,
     "metadata": {
      "tags": []
     },
     "output_type": "execute_result"
    }
   ],
   "source": [
    "df2.drop('c')"
   ]
  },
  {
   "cell_type": "markdown",
   "metadata": {
    "id": "0mu9o9H95Zrg"
   },
   "source": [
    "Let's now select the columns axis (axis 1) to remove a specific **column**, in this case `2nd_language`:"
   ]
  },
  {
   "cell_type": "code",
   "execution_count": 109,
   "metadata": {
    "colab": {
     "base_uri": "https://localhost:8080/",
     "height": 206
    },
    "executionInfo": {
     "elapsed": 705,
     "status": "ok",
     "timestamp": 1608655578875,
     "user": {
      "displayName": "Luis DEL POZO",
      "photoUrl": "",
      "userId": "08297678491184687059"
     },
     "user_tz": -60
    },
    "id": "ExbGDfv2ppil",
    "outputId": "1219a6c8-e5f0-4ed6-a362-1ffe04b35a99"
   },
   "outputs": [
    {
     "data": {
      "text/html": [
       "<div>\n",
       "<style scoped>\n",
       "    .dataframe tbody tr th:only-of-type {\n",
       "        vertical-align: middle;\n",
       "    }\n",
       "\n",
       "    .dataframe tbody tr th {\n",
       "        vertical-align: top;\n",
       "    }\n",
       "\n",
       "    .dataframe thead th {\n",
       "        text-align: right;\n",
       "    }\n",
       "</style>\n",
       "<table border=\"1\" class=\"dataframe\">\n",
       "  <thead>\n",
       "    <tr style=\"text-align: right;\">\n",
       "      <th></th>\n",
       "      <th>province</th>\n",
       "      <th>population</th>\n",
       "      <th>year</th>\n",
       "      <th>debt</th>\n",
       "      <th>capital</th>\n",
       "    </tr>\n",
       "  </thead>\n",
       "  <tbody>\n",
       "    <tr>\n",
       "      <th>a</th>\n",
       "      <td>M</td>\n",
       "      <td>1500000.0</td>\n",
       "      <td>1900</td>\n",
       "      <td>NaN</td>\n",
       "      <td>True</td>\n",
       "    </tr>\n",
       "    <tr>\n",
       "      <th>b</th>\n",
       "      <td>M</td>\n",
       "      <td>2000000.0</td>\n",
       "      <td>1950</td>\n",
       "      <td>0.1</td>\n",
       "      <td>True</td>\n",
       "    </tr>\n",
       "    <tr>\n",
       "      <th>c</th>\n",
       "      <td>M</td>\n",
       "      <td>3000000.0</td>\n",
       "      <td>2000</td>\n",
       "      <td>NaN</td>\n",
       "      <td>True</td>\n",
       "    </tr>\n",
       "    <tr>\n",
       "      <th>d</th>\n",
       "      <td>B</td>\n",
       "      <td>500000.0</td>\n",
       "      <td>1900</td>\n",
       "      <td>0.6</td>\n",
       "      <td>False</td>\n",
       "    </tr>\n",
       "    <tr>\n",
       "      <th>e</th>\n",
       "      <td>B</td>\n",
       "      <td>1500000.0</td>\n",
       "      <td>2000</td>\n",
       "      <td>0.9</td>\n",
       "      <td>False</td>\n",
       "    </tr>\n",
       "  </tbody>\n",
       "</table>\n",
       "</div>"
      ],
      "text/plain": [
       "  province  population  year  debt  capital\n",
       "a        M   1500000.0  1900   NaN     True\n",
       "b        M   2000000.0  1950   0.1     True\n",
       "c        M   3000000.0  2000   NaN     True\n",
       "d        B    500000.0  1900   0.6    False\n",
       "e        B   1500000.0  2000   0.9    False"
      ]
     },
     "execution_count": 109,
     "metadata": {
      "tags": []
     },
     "output_type": "execute_result"
    }
   ],
   "source": [
    "df2.drop('2nd_language', axis=1)"
   ]
  },
  {
   "cell_type": "markdown",
   "metadata": {
    "id": "HDEYq3QYnTws"
   },
   "source": [
    "We can see that we didn't modify the dataframe. In fact, we can make a copy to it:"
   ]
  },
  {
   "cell_type": "code",
   "execution_count": 110,
   "metadata": {
    "colab": {
     "base_uri": "https://localhost:8080/",
     "height": 206
    },
    "executionInfo": {
     "elapsed": 1213,
     "status": "ok",
     "timestamp": 1608655585538,
     "user": {
      "displayName": "Luis DEL POZO",
      "photoUrl": "",
      "userId": "08297678491184687059"
     },
     "user_tz": -60
    },
    "id": "T2KVvp2-ppil",
    "outputId": "2a0b1492-8bcf-4144-ab1e-2e1b40ab0ee8"
   },
   "outputs": [
    {
     "data": {
      "text/html": [
       "<div>\n",
       "<style scoped>\n",
       "    .dataframe tbody tr th:only-of-type {\n",
       "        vertical-align: middle;\n",
       "    }\n",
       "\n",
       "    .dataframe tbody tr th {\n",
       "        vertical-align: top;\n",
       "    }\n",
       "\n",
       "    .dataframe thead th {\n",
       "        text-align: right;\n",
       "    }\n",
       "</style>\n",
       "<table border=\"1\" class=\"dataframe\">\n",
       "  <thead>\n",
       "    <tr style=\"text-align: right;\">\n",
       "      <th></th>\n",
       "      <th>province</th>\n",
       "      <th>population</th>\n",
       "      <th>year</th>\n",
       "      <th>debt</th>\n",
       "      <th>capital</th>\n",
       "      <th>2nd_language</th>\n",
       "    </tr>\n",
       "  </thead>\n",
       "  <tbody>\n",
       "    <tr>\n",
       "      <th>a</th>\n",
       "      <td>M</td>\n",
       "      <td>1500000.0</td>\n",
       "      <td>1900</td>\n",
       "      <td>NaN</td>\n",
       "      <td>True</td>\n",
       "      <td>NaN</td>\n",
       "    </tr>\n",
       "    <tr>\n",
       "      <th>b</th>\n",
       "      <td>M</td>\n",
       "      <td>2000000.0</td>\n",
       "      <td>1950</td>\n",
       "      <td>0.1</td>\n",
       "      <td>True</td>\n",
       "      <td>NaN</td>\n",
       "    </tr>\n",
       "    <tr>\n",
       "      <th>c</th>\n",
       "      <td>M</td>\n",
       "      <td>3000000.0</td>\n",
       "      <td>2000</td>\n",
       "      <td>NaN</td>\n",
       "      <td>True</td>\n",
       "      <td>NaN</td>\n",
       "    </tr>\n",
       "    <tr>\n",
       "      <th>d</th>\n",
       "      <td>B</td>\n",
       "      <td>500000.0</td>\n",
       "      <td>1900</td>\n",
       "      <td>0.6</td>\n",
       "      <td>False</td>\n",
       "      <td>NaN</td>\n",
       "    </tr>\n",
       "    <tr>\n",
       "      <th>e</th>\n",
       "      <td>B</td>\n",
       "      <td>1500000.0</td>\n",
       "      <td>2000</td>\n",
       "      <td>0.9</td>\n",
       "      <td>False</td>\n",
       "      <td>NaN</td>\n",
       "    </tr>\n",
       "  </tbody>\n",
       "</table>\n",
       "</div>"
      ],
      "text/plain": [
       "  province  population  year  debt  capital  2nd_language\n",
       "a        M   1500000.0  1900   NaN     True           NaN\n",
       "b        M   2000000.0  1950   0.1     True           NaN\n",
       "c        M   3000000.0  2000   NaN     True           NaN\n",
       "d        B    500000.0  1900   0.6    False           NaN\n",
       "e        B   1500000.0  2000   0.9    False           NaN"
      ]
     },
     "execution_count": 110,
     "metadata": {
      "tags": []
     },
     "output_type": "execute_result"
    }
   ],
   "source": [
    "df3 = df2.copy()\n",
    "df3"
   ]
  },
  {
   "cell_type": "markdown",
   "metadata": {
    "id": "28ojzuOoNKxg"
   },
   "source": [
    "Yes! the `copy()` method is in fact a deep copy and what we're avoiding is accidentally modifying the original dataframe. Let's have a look with another example (slight detour).\n"
   ]
  },
  {
   "cell_type": "code",
   "execution_count": null,
   "metadata": {
    "executionInfo": {
     "elapsed": 33331,
     "status": "aborted",
     "timestamp": 1608654663386,
     "user": {
      "displayName": "Luis DEL POZO",
      "photoUrl": "",
      "userId": "08297678491184687059"
     },
     "user_tz": -60
    },
    "id": "haIp4ycfNxBn"
   },
   "outputs": [],
   "source": [
    "df_detour = pd.DataFrame({'x': [1,2]})\n",
    "df_sub = df_detour[0:1]\n",
    "df_sub.x = -1\n",
    "df_detour"
   ]
  },
  {
   "cell_type": "markdown",
   "metadata": {
    "id": "QIPiNiv7OIIv"
   },
   "source": [
    "Aha! We even get a warning... but let's continue and see how this, in contrast, leaves df_detour unchanged:"
   ]
  },
  {
   "cell_type": "code",
   "execution_count": null,
   "metadata": {
    "executionInfo": {
     "elapsed": 33322,
     "status": "aborted",
     "timestamp": 1608654663387,
     "user": {
      "displayName": "Luis DEL POZO",
      "photoUrl": "",
      "userId": "08297678491184687059"
     },
     "user_tz": -60
    },
    "id": "qWyMwVEmOgav"
   },
   "outputs": [],
   "source": [
    "df_detour = pd.DataFrame({'x': [1,2]})\n",
    "df_sub_copy = df_detour[0:1].copy()\n",
    "df_sub_copy.x = -1\n",
    "df_detour"
   ]
  },
  {
   "cell_type": "markdown",
   "metadata": {
    "id": "jY9MbL2Rnh0Z"
   },
   "source": [
    "OK, going back to what we were doing!\n",
    "\n",
    "As mentioned before, let's use the parameter `inplace` to modify the dataframe right away:"
   ]
  },
  {
   "cell_type": "code",
   "execution_count": null,
   "metadata": {
    "executionInfo": {
     "elapsed": 33313,
     "status": "aborted",
     "timestamp": 1608654663387,
     "user": {
      "displayName": "Luis DEL POZO",
      "photoUrl": "",
      "userId": "08297678491184687059"
     },
     "user_tz": -60
    },
    "id": "2gm56XIWppil"
   },
   "outputs": [],
   "source": [
    "df3.drop('capital', axis=1, inplace=True)\n",
    "df3"
   ]
  },
  {
   "cell_type": "markdown",
   "metadata": {
    "id": "s-v9g0Edppim"
   },
   "source": [
    "### Indexing, selection, and filtering\n",
    "\n",
    "The key here is that we can build boolean Series that we can use to index the original Series or DataFrame. Those booleans can be combined with bitwise boolean operators (&, |, ~) to get filters that are as complex as we need. "
   ]
  },
  {
   "cell_type": "markdown",
   "metadata": {
    "id": "g5AzFx7X6aAM"
   },
   "source": [
    "Let's revisit our `s3` series that we defined above:"
   ]
  },
  {
   "cell_type": "code",
   "execution_count": null,
   "metadata": {
    "executionInfo": {
     "elapsed": 33314,
     "status": "aborted",
     "timestamp": 1608654663389,
     "user": {
      "displayName": "Luis DEL POZO",
      "photoUrl": "",
      "userId": "08297678491184687059"
     },
     "user_tz": -60
    },
    "id": "yi3r7w0gUez6"
   },
   "outputs": [],
   "source": [
    "#@title Loading s3 from Drive\n",
    "load_from_drive = True #@param {type:\"boolean\"}\n",
    "\n",
    "if load_from_drive and files_loc:\n",
    "  s3 = pd.read_pickle(os.path.join(files_loc,\"s3.pkl\"))\n",
    "else:\n",
    "  print('Please, mount Google Drive running the cell at the beginning and try again')"
   ]
  },
  {
   "cell_type": "code",
   "execution_count": 111,
   "metadata": {
    "colab": {
     "base_uri": "https://localhost:8080/"
    },
    "executionInfo": {
     "elapsed": 704,
     "status": "ok",
     "timestamp": 1608655594632,
     "user": {
      "displayName": "Luis DEL POZO",
      "photoUrl": "",
      "userId": "08297678491184687059"
     },
     "user_tz": -60
    },
    "id": "YscXWNdTppim",
    "outputId": "32992846-911b-4878-a5c4-4a6ba01f4760"
   },
   "outputs": [
    {
     "data": {
      "text/plain": [
       "Cordoba      300000.0\n",
       "Madrid      6000000.0\n",
       "Sevilla      500000.0\n",
       "Zaragoza     250000.0\n",
       "dtype: float64"
      ]
     },
     "execution_count": 111,
     "metadata": {
      "tags": []
     },
     "output_type": "execute_result"
    }
   ],
   "source": [
    "s3"
   ]
  },
  {
   "cell_type": "markdown",
   "metadata": {
    "id": "Ex4mGlbGPbFj"
   },
   "source": [
    "We can select elements from the Series just passing a list of them:"
   ]
  },
  {
   "cell_type": "code",
   "execution_count": 112,
   "metadata": {
    "colab": {
     "base_uri": "https://localhost:8080/"
    },
    "executionInfo": {
     "elapsed": 898,
     "status": "ok",
     "timestamp": 1608655598405,
     "user": {
      "displayName": "Luis DEL POZO",
      "photoUrl": "",
      "userId": "08297678491184687059"
     },
     "user_tz": -60
    },
    "id": "zrwOCFSwppim",
    "outputId": "809923c2-8796-4376-b307-5d8a2166baf4"
   },
   "outputs": [
    {
     "data": {
      "text/plain": [
       "Zaragoza     250000.0\n",
       "Madrid      6000000.0\n",
       "dtype: float64"
      ]
     },
     "execution_count": 112,
     "metadata": {
      "tags": []
     },
     "output_type": "execute_result"
    }
   ],
   "source": [
    "s3[['Zaragoza', 'Madrid']]"
   ]
  },
  {
   "cell_type": "markdown",
   "metadata": {
    "id": "wVwvolKdPqYj"
   },
   "source": [
    "Of course, we can use slice notation (remember we start at 0):"
   ]
  },
  {
   "cell_type": "code",
   "execution_count": 113,
   "metadata": {
    "colab": {
     "base_uri": "https://localhost:8080/"
    },
    "executionInfo": {
     "elapsed": 1046,
     "status": "ok",
     "timestamp": 1608655617885,
     "user": {
      "displayName": "Luis DEL POZO",
      "photoUrl": "",
      "userId": "08297678491184687059"
     },
     "user_tz": -60
    },
    "id": "Ht_JtOOoppim",
    "outputId": "477836db-c59d-455d-9ab5-5428c9ceb3e3"
   },
   "outputs": [
    {
     "data": {
      "text/plain": [
       "Sevilla     500000.0\n",
       "Zaragoza    250000.0\n",
       "dtype: float64"
      ]
     },
     "execution_count": 113,
     "metadata": {
      "tags": []
     },
     "output_type": "execute_result"
    }
   ],
   "source": [
    "s3[2:]"
   ]
  },
  {
   "cell_type": "markdown",
   "metadata": {
    "id": "43zGkn-8olji"
   },
   "source": [
    "Slicing with labels behaves differently than normal Python slicing in that the endpoint is inclusive:"
   ]
  },
  {
   "cell_type": "code",
   "execution_count": 114,
   "metadata": {
    "colab": {
     "base_uri": "https://localhost:8080/"
    },
    "executionInfo": {
     "elapsed": 1099,
     "status": "ok",
     "timestamp": 1608655624415,
     "user": {
      "displayName": "Luis DEL POZO",
      "photoUrl": "",
      "userId": "08297678491184687059"
     },
     "user_tz": -60
    },
    "id": "fgyGiJjjppim",
    "outputId": "62236319-6958-4aff-b9a2-38956a98bf83"
   },
   "outputs": [
    {
     "data": {
      "text/plain": [
       "Series([], dtype: float64)"
      ]
     },
     "execution_count": 114,
     "metadata": {
      "tags": []
     },
     "output_type": "execute_result"
    }
   ],
   "source": [
    "s3['Sevilla':'Cordoba']"
   ]
  },
  {
   "cell_type": "markdown",
   "metadata": {
    "id": "eJPofG4tQBMN"
   },
   "source": [
    "But be careful, because by using the index position we default back to good ol' Python behavior (not inclusive):"
   ]
  },
  {
   "cell_type": "code",
   "execution_count": 115,
   "metadata": {
    "colab": {
     "base_uri": "https://localhost:8080/"
    },
    "executionInfo": {
     "elapsed": 735,
     "status": "ok",
     "timestamp": 1608655627275,
     "user": {
      "displayName": "Luis DEL POZO",
      "photoUrl": "",
      "userId": "08297678491184687059"
     },
     "user_tz": -60
    },
    "id": "sWBaYBzZP6pq",
    "outputId": "b3fc1ad9-035d-4f0f-c120-446f00e73c17"
   },
   "outputs": [
    {
     "data": {
      "text/plain": [
       "Madrid    6000000.0\n",
       "dtype: float64"
      ]
     },
     "execution_count": 115,
     "metadata": {
      "tags": []
     },
     "output_type": "execute_result"
    }
   ],
   "source": [
    "s3[1:2]"
   ]
  },
  {
   "cell_type": "markdown",
   "metadata": {
    "id": "GTLoQgFnQSku"
   },
   "source": [
    "We can apply a filter to the whole Series, generating in fact a boolean mask:"
   ]
  },
  {
   "cell_type": "code",
   "execution_count": 116,
   "metadata": {
    "colab": {
     "base_uri": "https://localhost:8080/"
    },
    "executionInfo": {
     "elapsed": 716,
     "status": "ok",
     "timestamp": 1608655630071,
     "user": {
      "displayName": "Luis DEL POZO",
      "photoUrl": "",
      "userId": "08297678491184687059"
     },
     "user_tz": -60
    },
    "id": "oFOMBDGdppim",
    "outputId": "56684b50-e7b5-4d99-dfb8-db0298bedd75"
   },
   "outputs": [
    {
     "data": {
      "text/plain": [
       "Cordoba     False\n",
       "Madrid       True\n",
       "Sevilla     False\n",
       "Zaragoza    False\n",
       "dtype: bool"
      ]
     },
     "execution_count": 116,
     "metadata": {
      "tags": []
     },
     "output_type": "execute_result"
    }
   ],
   "source": [
    "s3 > 1e06"
   ]
  },
  {
   "cell_type": "markdown",
   "metadata": {
    "id": "2gyfAZd1QZ3r"
   },
   "source": [
    "...and we can pass that boolean mask to the Series itself:\n",
    "\n",
    "\n",
    "\n"
   ]
  },
  {
   "cell_type": "code",
   "execution_count": 117,
   "metadata": {
    "colab": {
     "base_uri": "https://localhost:8080/"
    },
    "executionInfo": {
     "elapsed": 681,
     "status": "ok",
     "timestamp": 1608655633473,
     "user": {
      "displayName": "Luis DEL POZO",
      "photoUrl": "",
      "userId": "08297678491184687059"
     },
     "user_tz": -60
    },
    "id": "ivfFJykVppim",
    "outputId": "89d6b88d-86df-48e3-d789-1e4782f120c4"
   },
   "outputs": [
    {
     "data": {
      "text/plain": [
       "Madrid    6000000.0\n",
       "dtype: float64"
      ]
     },
     "execution_count": 117,
     "metadata": {
      "tags": []
     },
     "output_type": "execute_result"
    }
   ],
   "source": [
    "s3[s3>1e06]"
   ]
  },
  {
   "cell_type": "markdown",
   "metadata": {
    "id": "iPVNdWJdQpZn"
   },
   "source": [
    "Let's work now with our dataframe `df3`:"
   ]
  },
  {
   "cell_type": "code",
   "execution_count": 118,
   "metadata": {
    "colab": {
     "base_uri": "https://localhost:8080/",
     "height": 206
    },
    "executionInfo": {
     "elapsed": 737,
     "status": "ok",
     "timestamp": 1608655636751,
     "user": {
      "displayName": "Luis DEL POZO",
      "photoUrl": "",
      "userId": "08297678491184687059"
     },
     "user_tz": -60
    },
    "id": "VPLzPopTppim",
    "outputId": "c9dbe25c-703c-4606-82dd-dbb068dfd8d6"
   },
   "outputs": [
    {
     "data": {
      "text/html": [
       "<div>\n",
       "<style scoped>\n",
       "    .dataframe tbody tr th:only-of-type {\n",
       "        vertical-align: middle;\n",
       "    }\n",
       "\n",
       "    .dataframe tbody tr th {\n",
       "        vertical-align: top;\n",
       "    }\n",
       "\n",
       "    .dataframe thead th {\n",
       "        text-align: right;\n",
       "    }\n",
       "</style>\n",
       "<table border=\"1\" class=\"dataframe\">\n",
       "  <thead>\n",
       "    <tr style=\"text-align: right;\">\n",
       "      <th></th>\n",
       "      <th>province</th>\n",
       "      <th>population</th>\n",
       "      <th>year</th>\n",
       "      <th>debt</th>\n",
       "      <th>capital</th>\n",
       "      <th>2nd_language</th>\n",
       "    </tr>\n",
       "  </thead>\n",
       "  <tbody>\n",
       "    <tr>\n",
       "      <th>a</th>\n",
       "      <td>M</td>\n",
       "      <td>1500000.0</td>\n",
       "      <td>1900</td>\n",
       "      <td>NaN</td>\n",
       "      <td>True</td>\n",
       "      <td>NaN</td>\n",
       "    </tr>\n",
       "    <tr>\n",
       "      <th>b</th>\n",
       "      <td>M</td>\n",
       "      <td>2000000.0</td>\n",
       "      <td>1950</td>\n",
       "      <td>0.1</td>\n",
       "      <td>True</td>\n",
       "      <td>NaN</td>\n",
       "    </tr>\n",
       "    <tr>\n",
       "      <th>c</th>\n",
       "      <td>M</td>\n",
       "      <td>3000000.0</td>\n",
       "      <td>2000</td>\n",
       "      <td>NaN</td>\n",
       "      <td>True</td>\n",
       "      <td>NaN</td>\n",
       "    </tr>\n",
       "    <tr>\n",
       "      <th>d</th>\n",
       "      <td>B</td>\n",
       "      <td>500000.0</td>\n",
       "      <td>1900</td>\n",
       "      <td>0.6</td>\n",
       "      <td>False</td>\n",
       "      <td>NaN</td>\n",
       "    </tr>\n",
       "    <tr>\n",
       "      <th>e</th>\n",
       "      <td>B</td>\n",
       "      <td>1500000.0</td>\n",
       "      <td>2000</td>\n",
       "      <td>0.9</td>\n",
       "      <td>False</td>\n",
       "      <td>NaN</td>\n",
       "    </tr>\n",
       "  </tbody>\n",
       "</table>\n",
       "</div>"
      ],
      "text/plain": [
       "  province  population  year  debt  capital  2nd_language\n",
       "a        M   1500000.0  1900   NaN     True           NaN\n",
       "b        M   2000000.0  1950   0.1     True           NaN\n",
       "c        M   3000000.0  2000   NaN     True           NaN\n",
       "d        B    500000.0  1900   0.6    False           NaN\n",
       "e        B   1500000.0  2000   0.9    False           NaN"
      ]
     },
     "execution_count": 118,
     "metadata": {
      "tags": []
     },
     "output_type": "execute_result"
    }
   ],
   "source": [
    "df3"
   ]
  },
  {
   "cell_type": "markdown",
   "metadata": {
    "id": "BpSab-WAQzUT"
   },
   "source": [
    "First, let's build a boolean mask (filter) over the column `year` of our dataframe, which will give us a Series:"
   ]
  },
  {
   "cell_type": "code",
   "execution_count": 119,
   "metadata": {
    "colab": {
     "base_uri": "https://localhost:8080/"
    },
    "executionInfo": {
     "elapsed": 915,
     "status": "ok",
     "timestamp": 1608655646244,
     "user": {
      "displayName": "Luis DEL POZO",
      "photoUrl": "",
      "userId": "08297678491184687059"
     },
     "user_tz": -60
    },
    "id": "j5GLX_PkVe0b",
    "outputId": "cf6d0dbe-24a1-44c4-af6d-e9b3f61dd4a8"
   },
   "outputs": [
    {
     "data": {
      "text/plain": [
       "a    False\n",
       "b    False\n",
       "c     True\n",
       "d    False\n",
       "e     True\n",
       "Name: year, dtype: bool"
      ]
     },
     "execution_count": 119,
     "metadata": {
      "tags": []
     },
     "output_type": "execute_result"
    }
   ],
   "source": [
    "df3['year'] > 1950"
   ]
  },
  {
   "cell_type": "markdown",
   "metadata": {
    "id": "iG_QMk-3Q_u8"
   },
   "source": [
    "And then, let's apply that filter over the full dataframe. The dataframe will match the Series name against its columns and will proceed to filter out the rows (axis 0) that match the criteria:"
   ]
  },
  {
   "cell_type": "code",
   "execution_count": 120,
   "metadata": {
    "colab": {
     "base_uri": "https://localhost:8080/",
     "height": 112
    },
    "executionInfo": {
     "elapsed": 769,
     "status": "ok",
     "timestamp": 1608655650907,
     "user": {
      "displayName": "Luis DEL POZO",
      "photoUrl": "",
      "userId": "08297678491184687059"
     },
     "user_tz": -60
    },
    "id": "v2ueGzNQppim",
    "outputId": "d2d925ba-555b-4400-91e2-687e5b1f7d1f"
   },
   "outputs": [
    {
     "data": {
      "text/html": [
       "<div>\n",
       "<style scoped>\n",
       "    .dataframe tbody tr th:only-of-type {\n",
       "        vertical-align: middle;\n",
       "    }\n",
       "\n",
       "    .dataframe tbody tr th {\n",
       "        vertical-align: top;\n",
       "    }\n",
       "\n",
       "    .dataframe thead th {\n",
       "        text-align: right;\n",
       "    }\n",
       "</style>\n",
       "<table border=\"1\" class=\"dataframe\">\n",
       "  <thead>\n",
       "    <tr style=\"text-align: right;\">\n",
       "      <th></th>\n",
       "      <th>province</th>\n",
       "      <th>population</th>\n",
       "      <th>year</th>\n",
       "      <th>debt</th>\n",
       "      <th>capital</th>\n",
       "      <th>2nd_language</th>\n",
       "    </tr>\n",
       "  </thead>\n",
       "  <tbody>\n",
       "    <tr>\n",
       "      <th>c</th>\n",
       "      <td>M</td>\n",
       "      <td>3000000.0</td>\n",
       "      <td>2000</td>\n",
       "      <td>NaN</td>\n",
       "      <td>True</td>\n",
       "      <td>NaN</td>\n",
       "    </tr>\n",
       "    <tr>\n",
       "      <th>e</th>\n",
       "      <td>B</td>\n",
       "      <td>1500000.0</td>\n",
       "      <td>2000</td>\n",
       "      <td>0.9</td>\n",
       "      <td>False</td>\n",
       "      <td>NaN</td>\n",
       "    </tr>\n",
       "  </tbody>\n",
       "</table>\n",
       "</div>"
      ],
      "text/plain": [
       "  province  population  year  debt  capital  2nd_language\n",
       "c        M   3000000.0  2000   NaN     True           NaN\n",
       "e        B   1500000.0  2000   0.9    False           NaN"
      ]
     },
     "execution_count": 120,
     "metadata": {
      "tags": []
     },
     "output_type": "execute_result"
    }
   ],
   "source": [
    "df3[df3['year'] > 1950]"
   ]
  },
  {
   "cell_type": "markdown",
   "metadata": {
    "id": "bIQcA_OmRRxn"
   },
   "source": [
    "We can combine all this, making more powerful filters:"
   ]
  },
  {
   "cell_type": "code",
   "execution_count": 121,
   "metadata": {
    "colab": {
     "base_uri": "https://localhost:8080/",
     "height": 81
    },
    "executionInfo": {
     "elapsed": 731,
     "status": "ok",
     "timestamp": 1608655653998,
     "user": {
      "displayName": "Luis DEL POZO",
      "photoUrl": "",
      "userId": "08297678491184687059"
     },
     "user_tz": -60
    },
    "id": "5V_sbXP5ppim",
    "outputId": "16470ac0-b3f6-4380-8675-c2c76ed44836"
   },
   "outputs": [
    {
     "data": {
      "text/html": [
       "<div>\n",
       "<style scoped>\n",
       "    .dataframe tbody tr th:only-of-type {\n",
       "        vertical-align: middle;\n",
       "    }\n",
       "\n",
       "    .dataframe tbody tr th {\n",
       "        vertical-align: top;\n",
       "    }\n",
       "\n",
       "    .dataframe thead th {\n",
       "        text-align: right;\n",
       "    }\n",
       "</style>\n",
       "<table border=\"1\" class=\"dataframe\">\n",
       "  <thead>\n",
       "    <tr style=\"text-align: right;\">\n",
       "      <th></th>\n",
       "      <th>province</th>\n",
       "      <th>population</th>\n",
       "      <th>year</th>\n",
       "      <th>debt</th>\n",
       "      <th>capital</th>\n",
       "      <th>2nd_language</th>\n",
       "    </tr>\n",
       "  </thead>\n",
       "  <tbody>\n",
       "    <tr>\n",
       "      <th>e</th>\n",
       "      <td>B</td>\n",
       "      <td>1500000.0</td>\n",
       "      <td>2000</td>\n",
       "      <td>0.9</td>\n",
       "      <td>False</td>\n",
       "      <td>NaN</td>\n",
       "    </tr>\n",
       "  </tbody>\n",
       "</table>\n",
       "</div>"
      ],
      "text/plain": [
       "  province  population  year  debt  capital  2nd_language\n",
       "e        B   1500000.0  2000   0.9    False           NaN"
      ]
     },
     "execution_count": 121,
     "metadata": {
      "tags": []
     },
     "output_type": "execute_result"
    }
   ],
   "source": [
    "df3[(df3['year'] > 1900) & (df3['debt'] > 0.5)]"
   ]
  },
  {
   "cell_type": "markdown",
   "metadata": {
    "id": "OaSANOjdRh8C"
   },
   "source": [
    "We can as well write this in a more elegant and Pythonic way:"
   ]
  },
  {
   "cell_type": "code",
   "execution_count": 122,
   "metadata": {
    "colab": {
     "base_uri": "https://localhost:8080/",
     "height": 81
    },
    "executionInfo": {
     "elapsed": 720,
     "status": "ok",
     "timestamp": 1608655659161,
     "user": {
      "displayName": "Luis DEL POZO",
      "photoUrl": "",
      "userId": "08297678491184687059"
     },
     "user_tz": -60
    },
    "id": "uP9-n63bppim",
    "outputId": "e647e790-588e-44ff-bb46-4eb093638a35"
   },
   "outputs": [
    {
     "data": {
      "text/html": [
       "<div>\n",
       "<style scoped>\n",
       "    .dataframe tbody tr th:only-of-type {\n",
       "        vertical-align: middle;\n",
       "    }\n",
       "\n",
       "    .dataframe tbody tr th {\n",
       "        vertical-align: top;\n",
       "    }\n",
       "\n",
       "    .dataframe thead th {\n",
       "        text-align: right;\n",
       "    }\n",
       "</style>\n",
       "<table border=\"1\" class=\"dataframe\">\n",
       "  <thead>\n",
       "    <tr style=\"text-align: right;\">\n",
       "      <th></th>\n",
       "      <th>province</th>\n",
       "      <th>population</th>\n",
       "      <th>year</th>\n",
       "      <th>debt</th>\n",
       "      <th>capital</th>\n",
       "      <th>2nd_language</th>\n",
       "    </tr>\n",
       "  </thead>\n",
       "  <tbody>\n",
       "    <tr>\n",
       "      <th>e</th>\n",
       "      <td>B</td>\n",
       "      <td>1500000.0</td>\n",
       "      <td>2000</td>\n",
       "      <td>0.9</td>\n",
       "      <td>False</td>\n",
       "      <td>NaN</td>\n",
       "    </tr>\n",
       "  </tbody>\n",
       "</table>\n",
       "</div>"
      ],
      "text/plain": [
       "  province  population  year  debt  capital  2nd_language\n",
       "e        B   1500000.0  2000   0.9    False           NaN"
      ]
     },
     "execution_count": 122,
     "metadata": {
      "tags": []
     },
     "output_type": "execute_result"
    }
   ],
   "source": [
    "recent = df3['year'] > 1900\n",
    "indebted = df3['debt'] > 0.5\n",
    "\n",
    "df3[recent & indebted]"
   ]
  },
  {
   "cell_type": "markdown",
   "metadata": {
    "id": "93lafBDfppim"
   },
   "source": [
    "### Function application and mapping\n",
    "\n",
    "Function application and mapping allows us to modify the elements of a DataFrame (columns with apply or elements with applymap) without for loops. This way we are not constrained to the functions already implemented by pandas or numpy."
   ]
  },
  {
   "cell_type": "code",
   "execution_count": 123,
   "metadata": {
    "colab": {
     "base_uri": "https://localhost:8080/",
     "height": 206
    },
    "executionInfo": {
     "elapsed": 698,
     "status": "ok",
     "timestamp": 1608655663872,
     "user": {
      "displayName": "Luis DEL POZO",
      "photoUrl": "",
      "userId": "08297678491184687059"
     },
     "user_tz": -60
    },
    "id": "qp9Cz0VXppim",
    "outputId": "84bef541-d7db-47d8-bcdb-0aa820e01cbe"
   },
   "outputs": [
    {
     "data": {
      "text/html": [
       "<div>\n",
       "<style scoped>\n",
       "    .dataframe tbody tr th:only-of-type {\n",
       "        vertical-align: middle;\n",
       "    }\n",
       "\n",
       "    .dataframe tbody tr th {\n",
       "        vertical-align: top;\n",
       "    }\n",
       "\n",
       "    .dataframe thead th {\n",
       "        text-align: right;\n",
       "    }\n",
       "</style>\n",
       "<table border=\"1\" class=\"dataframe\">\n",
       "  <thead>\n",
       "    <tr style=\"text-align: right;\">\n",
       "      <th></th>\n",
       "      <th>province</th>\n",
       "      <th>population</th>\n",
       "      <th>year</th>\n",
       "      <th>debt</th>\n",
       "      <th>capital</th>\n",
       "      <th>2nd_language</th>\n",
       "    </tr>\n",
       "  </thead>\n",
       "  <tbody>\n",
       "    <tr>\n",
       "      <th>a</th>\n",
       "      <td>M</td>\n",
       "      <td>1500000.0</td>\n",
       "      <td>1900</td>\n",
       "      <td>NaN</td>\n",
       "      <td>True</td>\n",
       "      <td>NaN</td>\n",
       "    </tr>\n",
       "    <tr>\n",
       "      <th>b</th>\n",
       "      <td>M</td>\n",
       "      <td>2000000.0</td>\n",
       "      <td>1950</td>\n",
       "      <td>0.1</td>\n",
       "      <td>True</td>\n",
       "      <td>NaN</td>\n",
       "    </tr>\n",
       "    <tr>\n",
       "      <th>c</th>\n",
       "      <td>M</td>\n",
       "      <td>3000000.0</td>\n",
       "      <td>2000</td>\n",
       "      <td>NaN</td>\n",
       "      <td>True</td>\n",
       "      <td>NaN</td>\n",
       "    </tr>\n",
       "    <tr>\n",
       "      <th>d</th>\n",
       "      <td>B</td>\n",
       "      <td>500000.0</td>\n",
       "      <td>1900</td>\n",
       "      <td>0.6</td>\n",
       "      <td>False</td>\n",
       "      <td>NaN</td>\n",
       "    </tr>\n",
       "    <tr>\n",
       "      <th>e</th>\n",
       "      <td>B</td>\n",
       "      <td>1500000.0</td>\n",
       "      <td>2000</td>\n",
       "      <td>0.9</td>\n",
       "      <td>False</td>\n",
       "      <td>NaN</td>\n",
       "    </tr>\n",
       "  </tbody>\n",
       "</table>\n",
       "</div>"
      ],
      "text/plain": [
       "  province  population  year  debt  capital  2nd_language\n",
       "a        M   1500000.0  1900   NaN     True           NaN\n",
       "b        M   2000000.0  1950   0.1     True           NaN\n",
       "c        M   3000000.0  2000   NaN     True           NaN\n",
       "d        B    500000.0  1900   0.6    False           NaN\n",
       "e        B   1500000.0  2000   0.9    False           NaN"
      ]
     },
     "execution_count": 123,
     "metadata": {
      "tags": []
     },
     "output_type": "execute_result"
    }
   ],
   "source": [
    "df3"
   ]
  },
  {
   "cell_type": "code",
   "execution_count": 124,
   "metadata": {
    "colab": {
     "base_uri": "https://localhost:8080/"
    },
    "executionInfo": {
     "elapsed": 625,
     "status": "ok",
     "timestamp": 1608655666384,
     "user": {
      "displayName": "Luis DEL POZO",
      "photoUrl": "",
      "userId": "08297678491184687059"
     },
     "user_tz": -60
    },
    "id": "kwV64i_Lppim",
    "outputId": "9b242f4e-d945-420d-952a-aa1e0b9c2656"
   },
   "outputs": [
    {
     "data": {
      "text/plain": [
       "a    1224.744871\n",
       "b    1414.213562\n",
       "c    1732.050808\n",
       "d     707.106781\n",
       "e    1224.744871\n",
       "Name: population, dtype: float64"
      ]
     },
     "execution_count": 124,
     "metadata": {
      "tags": []
     },
     "output_type": "execute_result"
    }
   ],
   "source": [
    "np.sqrt(df3['population'])"
   ]
  },
  {
   "cell_type": "code",
   "execution_count": 125,
   "metadata": {
    "colab": {
     "base_uri": "https://localhost:8080/",
     "height": 175
    },
    "executionInfo": {
     "elapsed": 700,
     "status": "ok",
     "timestamp": 1608655672863,
     "user": {
      "displayName": "Luis DEL POZO",
      "photoUrl": "",
      "userId": "08297678491184687059"
     },
     "user_tz": -60
    },
    "id": "5THoqTr8ppim",
    "outputId": "4936d6bc-f887-445a-8aa8-e6c9e9e19f91"
   },
   "outputs": [
    {
     "data": {
      "text/html": [
       "<div>\n",
       "<style scoped>\n",
       "    .dataframe tbody tr th:only-of-type {\n",
       "        vertical-align: middle;\n",
       "    }\n",
       "\n",
       "    .dataframe tbody tr th {\n",
       "        vertical-align: top;\n",
       "    }\n",
       "\n",
       "    .dataframe thead th {\n",
       "        text-align: right;\n",
       "    }\n",
       "</style>\n",
       "<table border=\"1\" class=\"dataframe\">\n",
       "  <thead>\n",
       "    <tr style=\"text-align: right;\">\n",
       "      <th></th>\n",
       "      <th>b</th>\n",
       "      <th>d</th>\n",
       "      <th>e</th>\n",
       "    </tr>\n",
       "  </thead>\n",
       "  <tbody>\n",
       "    <tr>\n",
       "      <th>B</th>\n",
       "      <td>36.732457</td>\n",
       "      <td>12.337233</td>\n",
       "      <td>19.944179</td>\n",
       "    </tr>\n",
       "    <tr>\n",
       "      <th>M</th>\n",
       "      <td>4.672737</td>\n",
       "      <td>7.676932</td>\n",
       "      <td>47.144913</td>\n",
       "    </tr>\n",
       "    <tr>\n",
       "      <th>P</th>\n",
       "      <td>21.633124</td>\n",
       "      <td>11.650907</td>\n",
       "      <td>0.380926</td>\n",
       "    </tr>\n",
       "    <tr>\n",
       "      <th>Z</th>\n",
       "      <td>14.576186</td>\n",
       "      <td>-1.536476</td>\n",
       "      <td>-4.324391</td>\n",
       "    </tr>\n",
       "  </tbody>\n",
       "</table>\n",
       "</div>"
      ],
      "text/plain": [
       "           b          d          e\n",
       "B  36.732457  12.337233  19.944179\n",
       "M   4.672737   7.676932  47.144913\n",
       "P  21.633124  11.650907   0.380926\n",
       "Z  14.576186  -1.536476  -4.324391"
      ]
     },
     "execution_count": 125,
     "metadata": {
      "tags": []
     },
     "output_type": "execute_result"
    }
   ],
   "source": [
    "df4 = pd.DataFrame(np.random.randn(4,3) * 17 + 15, columns=list('bde'), index=list('BMPZ'))\n",
    "df4"
   ]
  },
  {
   "cell_type": "code",
   "execution_count": 126,
   "metadata": {
    "colab": {
     "base_uri": "https://localhost:8080/",
     "height": 175
    },
    "executionInfo": {
     "elapsed": 752,
     "status": "ok",
     "timestamp": 1608655675071,
     "user": {
      "displayName": "Luis DEL POZO",
      "photoUrl": "",
      "userId": "08297678491184687059"
     },
     "user_tz": -60
    },
    "id": "HueGUX--ppim",
    "outputId": "e3981d09-1b90-4c24-d820-47c6aaf482cd"
   },
   "outputs": [
    {
     "data": {
      "text/html": [
       "<div>\n",
       "<style scoped>\n",
       "    .dataframe tbody tr th:only-of-type {\n",
       "        vertical-align: middle;\n",
       "    }\n",
       "\n",
       "    .dataframe tbody tr th {\n",
       "        vertical-align: top;\n",
       "    }\n",
       "\n",
       "    .dataframe thead th {\n",
       "        text-align: right;\n",
       "    }\n",
       "</style>\n",
       "<table border=\"1\" class=\"dataframe\">\n",
       "  <thead>\n",
       "    <tr style=\"text-align: right;\">\n",
       "      <th></th>\n",
       "      <th>b</th>\n",
       "      <th>d</th>\n",
       "      <th>e</th>\n",
       "    </tr>\n",
       "  </thead>\n",
       "  <tbody>\n",
       "    <tr>\n",
       "      <th>B</th>\n",
       "      <td>36.732457</td>\n",
       "      <td>12.337233</td>\n",
       "      <td>19.944179</td>\n",
       "    </tr>\n",
       "    <tr>\n",
       "      <th>M</th>\n",
       "      <td>4.672737</td>\n",
       "      <td>7.676932</td>\n",
       "      <td>47.144913</td>\n",
       "    </tr>\n",
       "    <tr>\n",
       "      <th>P</th>\n",
       "      <td>21.633124</td>\n",
       "      <td>11.650907</td>\n",
       "      <td>0.380926</td>\n",
       "    </tr>\n",
       "    <tr>\n",
       "      <th>Z</th>\n",
       "      <td>14.576186</td>\n",
       "      <td>1.536476</td>\n",
       "      <td>4.324391</td>\n",
       "    </tr>\n",
       "  </tbody>\n",
       "</table>\n",
       "</div>"
      ],
      "text/plain": [
       "           b          d          e\n",
       "B  36.732457  12.337233  19.944179\n",
       "M   4.672737   7.676932  47.144913\n",
       "P  21.633124  11.650907   0.380926\n",
       "Z  14.576186   1.536476   4.324391"
      ]
     },
     "execution_count": 126,
     "metadata": {
      "tags": []
     },
     "output_type": "execute_result"
    }
   ],
   "source": [
    "np.abs(df4)"
   ]
  },
  {
   "cell_type": "code",
   "execution_count": 127,
   "metadata": {
    "colab": {
     "base_uri": "https://localhost:8080/"
    },
    "executionInfo": {
     "elapsed": 1194,
     "status": "ok",
     "timestamp": 1608655695076,
     "user": {
      "displayName": "Luis DEL POZO",
      "photoUrl": "",
      "userId": "08297678491184687059"
     },
     "user_tz": -60
    },
    "id": "rQvqSwbwWcns",
    "outputId": "c65d03b9-8d2c-4fa2-bd72-a795bbd6f2f9"
   },
   "outputs": [
    {
     "data": {
      "text/plain": [
       "36.732457123532875"
      ]
     },
     "execution_count": 127,
     "metadata": {
      "tags": []
     },
     "output_type": "execute_result"
    }
   ],
   "source": [
    "df4.b.B"
   ]
  },
  {
   "cell_type": "markdown",
   "metadata": {
    "id": "b0nCT53xppim"
   },
   "source": [
    "This is a typical use case for lambdas (anonymous functions)"
   ]
  },
  {
   "cell_type": "code",
   "execution_count": 135,
   "metadata": {
    "colab": {
     "base_uri": "https://localhost:8080/"
    },
    "executionInfo": {
     "elapsed": 889,
     "status": "ok",
     "timestamp": 1608655798602,
     "user": {
      "displayName": "Luis DEL POZO",
      "photoUrl": "",
      "userId": "08297678491184687059"
     },
     "user_tz": -60
    },
    "id": "7Rtq3PhBWfzT",
    "outputId": "aebf7de0-aea8-4fa3-ac33-7544d65c16b0"
   },
   "outputs": [
    {
     "data": {
      "text/plain": [
       "36.732457123532875"
      ]
     },
     "execution_count": 135,
     "metadata": {
      "tags": []
     },
     "output_type": "execute_result"
    }
   ],
   "source": [
    "df4.iloc[0,0]"
   ]
  },
  {
   "cell_type": "code",
   "execution_count": 136,
   "metadata": {
    "colab": {
     "base_uri": "https://localhost:8080/"
    },
    "executionInfo": {
     "elapsed": 833,
     "status": "ok",
     "timestamp": 1608655811395,
     "user": {
      "displayName": "Luis DEL POZO",
      "photoUrl": "",
      "userId": "08297678491184687059"
     },
     "user_tz": -60
    },
    "id": "xr7G6yWCppim",
    "outputId": "8112192c-afd4-4823-a149-4f08e4ab6e16"
   },
   "outputs": [
    {
     "data": {
      "text/plain": [
       "b    32.059720\n",
       "d    13.873710\n",
       "e    51.469304\n",
       "dtype: float64"
      ]
     },
     "execution_count": 136,
     "metadata": {
      "tags": []
     },
     "output_type": "execute_result"
    }
   ],
   "source": [
    "df4.apply(lambda series: series.max() - series.min())"
   ]
  },
  {
   "cell_type": "code",
   "execution_count": 137,
   "metadata": {
    "colab": {
     "base_uri": "https://localhost:8080/",
     "height": 175
    },
    "executionInfo": {
     "elapsed": 525,
     "status": "ok",
     "timestamp": 1608655812651,
     "user": {
      "displayName": "Luis DEL POZO",
      "photoUrl": "",
      "userId": "08297678491184687059"
     },
     "user_tz": -60
    },
    "id": "OOlEdhoDppim",
    "outputId": "21c89e64-c026-49ec-a4bd-bd76ffaa81ab"
   },
   "outputs": [
    {
     "data": {
      "text/html": [
       "<div>\n",
       "<style scoped>\n",
       "    .dataframe tbody tr th:only-of-type {\n",
       "        vertical-align: middle;\n",
       "    }\n",
       "\n",
       "    .dataframe tbody tr th {\n",
       "        vertical-align: top;\n",
       "    }\n",
       "\n",
       "    .dataframe thead th {\n",
       "        text-align: right;\n",
       "    }\n",
       "</style>\n",
       "<table border=\"1\" class=\"dataframe\">\n",
       "  <thead>\n",
       "    <tr style=\"text-align: right;\">\n",
       "      <th></th>\n",
       "      <th>b</th>\n",
       "      <th>d</th>\n",
       "      <th>e</th>\n",
       "    </tr>\n",
       "  </thead>\n",
       "  <tbody>\n",
       "    <tr>\n",
       "      <th>B</th>\n",
       "      <td>6.732457</td>\n",
       "      <td>2.337233</td>\n",
       "      <td>9.944179</td>\n",
       "    </tr>\n",
       "    <tr>\n",
       "      <th>M</th>\n",
       "      <td>4.672737</td>\n",
       "      <td>7.676932</td>\n",
       "      <td>7.144913</td>\n",
       "    </tr>\n",
       "    <tr>\n",
       "      <th>P</th>\n",
       "      <td>1.633124</td>\n",
       "      <td>1.650907</td>\n",
       "      <td>0.380926</td>\n",
       "    </tr>\n",
       "    <tr>\n",
       "      <th>Z</th>\n",
       "      <td>4.576186</td>\n",
       "      <td>8.463524</td>\n",
       "      <td>5.675609</td>\n",
       "    </tr>\n",
       "  </tbody>\n",
       "</table>\n",
       "</div>"
      ],
      "text/plain": [
       "          b         d         e\n",
       "B  6.732457  2.337233  9.944179\n",
       "M  4.672737  7.676932  7.144913\n",
       "P  1.633124  1.650907  0.380926\n",
       "Z  4.576186  8.463524  5.675609"
      ]
     },
     "execution_count": 137,
     "metadata": {
      "tags": []
     },
     "output_type": "execute_result"
    }
   ],
   "source": [
    "df4.applymap(lambda element: element % 10 )"
   ]
  },
  {
   "cell_type": "code",
   "execution_count": 138,
   "metadata": {
    "colab": {
     "base_uri": "https://localhost:8080/"
    },
    "executionInfo": {
     "elapsed": 673,
     "status": "ok",
     "timestamp": 1608655814470,
     "user": {
      "displayName": "Luis DEL POZO",
      "photoUrl": "",
      "userId": "08297678491184687059"
     },
     "user_tz": -60
    },
    "id": "hSOnJwJ_ppim",
    "outputId": "a1cf32ec-15a8-4432-cbd1-19f386dc363a"
   },
   "outputs": [
    {
     "data": {
      "text/plain": [
       "B    24.395224\n",
       "M    42.472176\n",
       "P    21.252199\n",
       "Z    18.900577\n",
       "dtype: float64"
      ]
     },
     "execution_count": 138,
     "metadata": {
      "tags": []
     },
     "output_type": "execute_result"
    }
   ],
   "source": [
    "df4.apply(lambda series: series.max() - series.min(), axis=1)"
   ]
  },
  {
   "cell_type": "code",
   "execution_count": 139,
   "metadata": {
    "colab": {
     "base_uri": "https://localhost:8080/",
     "height": 112
    },
    "executionInfo": {
     "elapsed": 657,
     "status": "ok",
     "timestamp": 1608655815923,
     "user": {
      "displayName": "Luis DEL POZO",
      "photoUrl": "",
      "userId": "08297678491184687059"
     },
     "user_tz": -60
    },
    "id": "YZYr0GHGppim",
    "outputId": "35f753bb-0611-42f1-9ff5-8341a0426fae"
   },
   "outputs": [
    {
     "data": {
      "text/html": [
       "<div>\n",
       "<style scoped>\n",
       "    .dataframe tbody tr th:only-of-type {\n",
       "        vertical-align: middle;\n",
       "    }\n",
       "\n",
       "    .dataframe tbody tr th {\n",
       "        vertical-align: top;\n",
       "    }\n",
       "\n",
       "    .dataframe thead th {\n",
       "        text-align: right;\n",
       "    }\n",
       "</style>\n",
       "<table border=\"1\" class=\"dataframe\">\n",
       "  <thead>\n",
       "    <tr style=\"text-align: right;\">\n",
       "      <th></th>\n",
       "      <th>b</th>\n",
       "      <th>d</th>\n",
       "      <th>e</th>\n",
       "    </tr>\n",
       "  </thead>\n",
       "  <tbody>\n",
       "    <tr>\n",
       "      <th>max</th>\n",
       "      <td>36.732457</td>\n",
       "      <td>12.337233</td>\n",
       "      <td>47.144913</td>\n",
       "    </tr>\n",
       "    <tr>\n",
       "      <th>min</th>\n",
       "      <td>4.672737</td>\n",
       "      <td>-1.536476</td>\n",
       "      <td>-4.324391</td>\n",
       "    </tr>\n",
       "  </tbody>\n",
       "</table>\n",
       "</div>"
      ],
      "text/plain": [
       "             b          d          e\n",
       "max  36.732457  12.337233  47.144913\n",
       "min   4.672737  -1.536476  -4.324391"
      ]
     },
     "execution_count": 139,
     "metadata": {
      "tags": []
     },
     "output_type": "execute_result"
    }
   ],
   "source": [
    "def f(series):\n",
    "    return pd.Series([series.max(), series.min()], index=['max', 'min'])\n",
    "\n",
    "df4.apply(f)"
   ]
  },
  {
   "cell_type": "code",
   "execution_count": null,
   "metadata": {
    "executionInfo": {
     "elapsed": 33147,
     "status": "aborted",
     "timestamp": 1608654663411,
     "user": {
      "displayName": "Luis DEL POZO",
      "photoUrl": "",
      "userId": "08297678491184687059"
     },
     "user_tz": -60
    },
    "id": "hmMMH7-cYmXO"
   },
   "outputs": [],
   "source": [
    "def f2(series):\n",
    "  return pd.Series([series.max() - series.min()], index=['distance'])\n",
    "\n",
    "df4.apply(f2)"
   ]
  },
  {
   "cell_type": "code",
   "execution_count": null,
   "metadata": {
    "executionInfo": {
     "elapsed": 33140,
     "status": "aborted",
     "timestamp": 1608654663412,
     "user": {
      "displayName": "Luis DEL POZO",
      "photoUrl": "",
      "userId": "08297678491184687059"
     },
     "user_tz": -60
    },
    "id": "ykgbRTWpppin"
   },
   "outputs": [],
   "source": [
    "for item in df4.items():\n",
    "    print(item)"
   ]
  },
  {
   "cell_type": "code",
   "execution_count": null,
   "metadata": {
    "executionInfo": {
     "elapsed": 33133,
     "status": "aborted",
     "timestamp": 1608654663412,
     "user": {
      "displayName": "Luis DEL POZO",
      "photoUrl": "",
      "userId": "08297678491184687059"
     },
     "user_tz": -60
    },
    "id": "mazNPgTWppin"
   },
   "outputs": [],
   "source": [
    "for item in df4.iteritems():\n",
    "    print(item)"
   ]
  },
  {
   "cell_type": "code",
   "execution_count": null,
   "metadata": {
    "executionInfo": {
     "elapsed": 33127,
     "status": "aborted",
     "timestamp": 1608654663414,
     "user": {
      "displayName": "Luis DEL POZO",
      "photoUrl": "",
      "userId": "08297678491184687059"
     },
     "user_tz": -60
    },
    "id": "xJcSEmUSppin"
   },
   "outputs": [],
   "source": [
    "map(f, [1,2])"
   ]
  },
  {
   "cell_type": "code",
   "execution_count": null,
   "metadata": {
    "executionInfo": {
     "elapsed": 33125,
     "status": "aborted",
     "timestamp": 1608654663414,
     "user": {
      "displayName": "Luis DEL POZO",
      "photoUrl": "",
      "userId": "08297678491184687059"
     },
     "user_tz": -60
    },
    "id": "kFNI1Txtppin"
   },
   "outputs": [],
   "source": [
    "def format_2digits(number):\n",
    "    return '%.2f' % number"
   ]
  },
  {
   "cell_type": "code",
   "execution_count": null,
   "metadata": {
    "executionInfo": {
     "elapsed": 33118,
     "status": "aborted",
     "timestamp": 1608654663415,
     "user": {
      "displayName": "Luis DEL POZO",
      "photoUrl": "",
      "userId": "08297678491184687059"
     },
     "user_tz": -60
    },
    "id": "P9FxST_Gppin"
   },
   "outputs": [],
   "source": [
    "df4.applymap(format_2digits)"
   ]
  },
  {
   "cell_type": "markdown",
   "metadata": {
    "id": "NqZ0Rwrbppin"
   },
   "source": [
    "### Sorting and ranking"
   ]
  },
  {
   "cell_type": "code",
   "execution_count": 140,
   "metadata": {
    "colab": {
     "base_uri": "https://localhost:8080/",
     "height": 175
    },
    "executionInfo": {
     "elapsed": 708,
     "status": "ok",
     "timestamp": 1608655840099,
     "user": {
      "displayName": "Luis DEL POZO",
      "photoUrl": "",
      "userId": "08297678491184687059"
     },
     "user_tz": -60
    },
    "id": "KHhk2gpSucyO",
    "outputId": "18a6f7b7-8bb3-49e2-a18b-66766043900e"
   },
   "outputs": [
    {
     "data": {
      "text/html": [
       "<div>\n",
       "<style scoped>\n",
       "    .dataframe tbody tr th:only-of-type {\n",
       "        vertical-align: middle;\n",
       "    }\n",
       "\n",
       "    .dataframe tbody tr th {\n",
       "        vertical-align: top;\n",
       "    }\n",
       "\n",
       "    .dataframe thead th {\n",
       "        text-align: right;\n",
       "    }\n",
       "</style>\n",
       "<table border=\"1\" class=\"dataframe\">\n",
       "  <thead>\n",
       "    <tr style=\"text-align: right;\">\n",
       "      <th></th>\n",
       "      <th>b</th>\n",
       "      <th>d</th>\n",
       "      <th>e</th>\n",
       "    </tr>\n",
       "  </thead>\n",
       "  <tbody>\n",
       "    <tr>\n",
       "      <th>B</th>\n",
       "      <td>36.732457</td>\n",
       "      <td>12.337233</td>\n",
       "      <td>19.944179</td>\n",
       "    </tr>\n",
       "    <tr>\n",
       "      <th>M</th>\n",
       "      <td>4.672737</td>\n",
       "      <td>7.676932</td>\n",
       "      <td>47.144913</td>\n",
       "    </tr>\n",
       "    <tr>\n",
       "      <th>P</th>\n",
       "      <td>21.633124</td>\n",
       "      <td>11.650907</td>\n",
       "      <td>0.380926</td>\n",
       "    </tr>\n",
       "    <tr>\n",
       "      <th>Z</th>\n",
       "      <td>14.576186</td>\n",
       "      <td>-1.536476</td>\n",
       "      <td>-4.324391</td>\n",
       "    </tr>\n",
       "  </tbody>\n",
       "</table>\n",
       "</div>"
      ],
      "text/plain": [
       "           b          d          e\n",
       "B  36.732457  12.337233  19.944179\n",
       "M   4.672737   7.676932  47.144913\n",
       "P  21.633124  11.650907   0.380926\n",
       "Z  14.576186  -1.536476  -4.324391"
      ]
     },
     "execution_count": 140,
     "metadata": {
      "tags": []
     },
     "output_type": "execute_result"
    }
   ],
   "source": [
    "df4"
   ]
  },
  {
   "cell_type": "code",
   "execution_count": 143,
   "metadata": {
    "colab": {
     "base_uri": "https://localhost:8080/",
     "height": 175
    },
    "executionInfo": {
     "elapsed": 720,
     "status": "ok",
     "timestamp": 1608655854855,
     "user": {
      "displayName": "Luis DEL POZO",
      "photoUrl": "",
      "userId": "08297678491184687059"
     },
     "user_tz": -60
    },
    "id": "El2uMsJ2ufoL",
    "outputId": "c504c566-db93-4dd0-95fa-5ad1ced32445"
   },
   "outputs": [
    {
     "data": {
      "text/html": [
       "<div>\n",
       "<style scoped>\n",
       "    .dataframe tbody tr th:only-of-type {\n",
       "        vertical-align: middle;\n",
       "    }\n",
       "\n",
       "    .dataframe tbody tr th {\n",
       "        vertical-align: top;\n",
       "    }\n",
       "\n",
       "    .dataframe thead th {\n",
       "        text-align: right;\n",
       "    }\n",
       "</style>\n",
       "<table border=\"1\" class=\"dataframe\">\n",
       "  <thead>\n",
       "    <tr style=\"text-align: right;\">\n",
       "      <th></th>\n",
       "      <th>b</th>\n",
       "      <th>d</th>\n",
       "      <th>e</th>\n",
       "    </tr>\n",
       "  </thead>\n",
       "  <tbody>\n",
       "    <tr>\n",
       "      <th>B</th>\n",
       "      <td>36.732457</td>\n",
       "      <td>12.337233</td>\n",
       "      <td>19.944179</td>\n",
       "    </tr>\n",
       "    <tr>\n",
       "      <th>M</th>\n",
       "      <td>4.672737</td>\n",
       "      <td>7.676932</td>\n",
       "      <td>47.144913</td>\n",
       "    </tr>\n",
       "    <tr>\n",
       "      <th>P</th>\n",
       "      <td>21.633124</td>\n",
       "      <td>11.650907</td>\n",
       "      <td>0.380926</td>\n",
       "    </tr>\n",
       "    <tr>\n",
       "      <th>Z</th>\n",
       "      <td>14.576186</td>\n",
       "      <td>-1.536476</td>\n",
       "      <td>-4.324391</td>\n",
       "    </tr>\n",
       "  </tbody>\n",
       "</table>\n",
       "</div>"
      ],
      "text/plain": [
       "           b          d          e\n",
       "B  36.732457  12.337233  19.944179\n",
       "M   4.672737   7.676932  47.144913\n",
       "P  21.633124  11.650907   0.380926\n",
       "Z  14.576186  -1.536476  -4.324391"
      ]
     },
     "execution_count": 143,
     "metadata": {
      "tags": []
     },
     "output_type": "execute_result"
    }
   ],
   "source": [
    "df4.sort_index(ascending=True)"
   ]
  },
  {
   "cell_type": "code",
   "execution_count": 144,
   "metadata": {
    "colab": {
     "base_uri": "https://localhost:8080/",
     "height": 175
    },
    "executionInfo": {
     "elapsed": 988,
     "status": "ok",
     "timestamp": 1608655857434,
     "user": {
      "displayName": "Luis DEL POZO",
      "photoUrl": "",
      "userId": "08297678491184687059"
     },
     "user_tz": -60
    },
    "id": "Kzl7SFavppin",
    "outputId": "fded8060-df27-4734-c5ad-c3122ddc6dbe"
   },
   "outputs": [
    {
     "data": {
      "text/html": [
       "<div>\n",
       "<style scoped>\n",
       "    .dataframe tbody tr th:only-of-type {\n",
       "        vertical-align: middle;\n",
       "    }\n",
       "\n",
       "    .dataframe tbody tr th {\n",
       "        vertical-align: top;\n",
       "    }\n",
       "\n",
       "    .dataframe thead th {\n",
       "        text-align: right;\n",
       "    }\n",
       "</style>\n",
       "<table border=\"1\" class=\"dataframe\">\n",
       "  <thead>\n",
       "    <tr style=\"text-align: right;\">\n",
       "      <th></th>\n",
       "      <th>b</th>\n",
       "      <th>d</th>\n",
       "      <th>e</th>\n",
       "    </tr>\n",
       "  </thead>\n",
       "  <tbody>\n",
       "    <tr>\n",
       "      <th>Z</th>\n",
       "      <td>14.576186</td>\n",
       "      <td>-1.536476</td>\n",
       "      <td>-4.324391</td>\n",
       "    </tr>\n",
       "    <tr>\n",
       "      <th>P</th>\n",
       "      <td>21.633124</td>\n",
       "      <td>11.650907</td>\n",
       "      <td>0.380926</td>\n",
       "    </tr>\n",
       "    <tr>\n",
       "      <th>M</th>\n",
       "      <td>4.672737</td>\n",
       "      <td>7.676932</td>\n",
       "      <td>47.144913</td>\n",
       "    </tr>\n",
       "    <tr>\n",
       "      <th>B</th>\n",
       "      <td>36.732457</td>\n",
       "      <td>12.337233</td>\n",
       "      <td>19.944179</td>\n",
       "    </tr>\n",
       "  </tbody>\n",
       "</table>\n",
       "</div>"
      ],
      "text/plain": [
       "           b          d          e\n",
       "Z  14.576186  -1.536476  -4.324391\n",
       "P  21.633124  11.650907   0.380926\n",
       "M   4.672737   7.676932  47.144913\n",
       "B  36.732457  12.337233  19.944179"
      ]
     },
     "execution_count": 144,
     "metadata": {
      "tags": []
     },
     "output_type": "execute_result"
    }
   ],
   "source": [
    "df4.sort_index(ascending=False)"
   ]
  },
  {
   "cell_type": "code",
   "execution_count": 145,
   "metadata": {
    "colab": {
     "base_uri": "https://localhost:8080/",
     "height": 175
    },
    "executionInfo": {
     "elapsed": 846,
     "status": "ok",
     "timestamp": 1608655859521,
     "user": {
      "displayName": "Luis DEL POZO",
      "photoUrl": "",
      "userId": "08297678491184687059"
     },
     "user_tz": -60
    },
    "id": "ltrwa0yUppin",
    "outputId": "f22a5680-3582-4529-b457-859f7378f6f8"
   },
   "outputs": [
    {
     "data": {
      "text/html": [
       "<div>\n",
       "<style scoped>\n",
       "    .dataframe tbody tr th:only-of-type {\n",
       "        vertical-align: middle;\n",
       "    }\n",
       "\n",
       "    .dataframe tbody tr th {\n",
       "        vertical-align: top;\n",
       "    }\n",
       "\n",
       "    .dataframe thead th {\n",
       "        text-align: right;\n",
       "    }\n",
       "</style>\n",
       "<table border=\"1\" class=\"dataframe\">\n",
       "  <thead>\n",
       "    <tr style=\"text-align: right;\">\n",
       "      <th></th>\n",
       "      <th>e</th>\n",
       "      <th>d</th>\n",
       "      <th>b</th>\n",
       "    </tr>\n",
       "  </thead>\n",
       "  <tbody>\n",
       "    <tr>\n",
       "      <th>B</th>\n",
       "      <td>19.944179</td>\n",
       "      <td>12.337233</td>\n",
       "      <td>36.732457</td>\n",
       "    </tr>\n",
       "    <tr>\n",
       "      <th>M</th>\n",
       "      <td>47.144913</td>\n",
       "      <td>7.676932</td>\n",
       "      <td>4.672737</td>\n",
       "    </tr>\n",
       "    <tr>\n",
       "      <th>P</th>\n",
       "      <td>0.380926</td>\n",
       "      <td>11.650907</td>\n",
       "      <td>21.633124</td>\n",
       "    </tr>\n",
       "    <tr>\n",
       "      <th>Z</th>\n",
       "      <td>-4.324391</td>\n",
       "      <td>-1.536476</td>\n",
       "      <td>14.576186</td>\n",
       "    </tr>\n",
       "  </tbody>\n",
       "</table>\n",
       "</div>"
      ],
      "text/plain": [
       "           e          d          b\n",
       "B  19.944179  12.337233  36.732457\n",
       "M  47.144913   7.676932   4.672737\n",
       "P   0.380926  11.650907  21.633124\n",
       "Z  -4.324391  -1.536476  14.576186"
      ]
     },
     "execution_count": 145,
     "metadata": {
      "tags": []
     },
     "output_type": "execute_result"
    }
   ],
   "source": [
    "df4.sort_index(ascending=False, axis=1)"
   ]
  },
  {
   "cell_type": "code",
   "execution_count": 141,
   "metadata": {
    "colab": {
     "base_uri": "https://localhost:8080/",
     "height": 175
    },
    "executionInfo": {
     "elapsed": 714,
     "status": "ok",
     "timestamp": 1608655844646,
     "user": {
      "displayName": "Luis DEL POZO",
      "photoUrl": "",
      "userId": "08297678491184687059"
     },
     "user_tz": -60
    },
    "id": "O0cOCqFxppin",
    "outputId": "b97eec0a-2915-4afa-e98b-490eeb71fe06"
   },
   "outputs": [
    {
     "data": {
      "text/html": [
       "<div>\n",
       "<style scoped>\n",
       "    .dataframe tbody tr th:only-of-type {\n",
       "        vertical-align: middle;\n",
       "    }\n",
       "\n",
       "    .dataframe tbody tr th {\n",
       "        vertical-align: top;\n",
       "    }\n",
       "\n",
       "    .dataframe thead th {\n",
       "        text-align: right;\n",
       "    }\n",
       "</style>\n",
       "<table border=\"1\" class=\"dataframe\">\n",
       "  <thead>\n",
       "    <tr style=\"text-align: right;\">\n",
       "      <th></th>\n",
       "      <th>b</th>\n",
       "      <th>d</th>\n",
       "      <th>e</th>\n",
       "    </tr>\n",
       "  </thead>\n",
       "  <tbody>\n",
       "    <tr>\n",
       "      <th>Z</th>\n",
       "      <td>14.576186</td>\n",
       "      <td>-1.536476</td>\n",
       "      <td>-4.324391</td>\n",
       "    </tr>\n",
       "    <tr>\n",
       "      <th>P</th>\n",
       "      <td>21.633124</td>\n",
       "      <td>11.650907</td>\n",
       "      <td>0.380926</td>\n",
       "    </tr>\n",
       "    <tr>\n",
       "      <th>B</th>\n",
       "      <td>36.732457</td>\n",
       "      <td>12.337233</td>\n",
       "      <td>19.944179</td>\n",
       "    </tr>\n",
       "    <tr>\n",
       "      <th>M</th>\n",
       "      <td>4.672737</td>\n",
       "      <td>7.676932</td>\n",
       "      <td>47.144913</td>\n",
       "    </tr>\n",
       "  </tbody>\n",
       "</table>\n",
       "</div>"
      ],
      "text/plain": [
       "           b          d          e\n",
       "Z  14.576186  -1.536476  -4.324391\n",
       "P  21.633124  11.650907   0.380926\n",
       "B  36.732457  12.337233  19.944179\n",
       "M   4.672737   7.676932  47.144913"
      ]
     },
     "execution_count": 141,
     "metadata": {
      "tags": []
     },
     "output_type": "execute_result"
    }
   ],
   "source": [
    "df4.sort_values(by='e')"
   ]
  },
  {
   "cell_type": "markdown",
   "metadata": {
    "id": "IGJk2X8ovJkk"
   },
   "source": [
    "We can sort by two columns"
   ]
  },
  {
   "cell_type": "code",
   "execution_count": 142,
   "metadata": {
    "colab": {
     "base_uri": "https://localhost:8080/",
     "height": 175
    },
    "executionInfo": {
     "elapsed": 700,
     "status": "ok",
     "timestamp": 1608655849986,
     "user": {
      "displayName": "Luis DEL POZO",
      "photoUrl": "",
      "userId": "08297678491184687059"
     },
     "user_tz": -60
    },
    "id": "JhWgwkb6ppin",
    "outputId": "5e494de0-f85e-4222-818a-200ddc765b0c"
   },
   "outputs": [
    {
     "data": {
      "text/html": [
       "<div>\n",
       "<style scoped>\n",
       "    .dataframe tbody tr th:only-of-type {\n",
       "        vertical-align: middle;\n",
       "    }\n",
       "\n",
       "    .dataframe tbody tr th {\n",
       "        vertical-align: top;\n",
       "    }\n",
       "\n",
       "    .dataframe thead th {\n",
       "        text-align: right;\n",
       "    }\n",
       "</style>\n",
       "<table border=\"1\" class=\"dataframe\">\n",
       "  <thead>\n",
       "    <tr style=\"text-align: right;\">\n",
       "      <th></th>\n",
       "      <th>b</th>\n",
       "      <th>d</th>\n",
       "      <th>e</th>\n",
       "    </tr>\n",
       "  </thead>\n",
       "  <tbody>\n",
       "    <tr>\n",
       "      <th>Z</th>\n",
       "      <td>14.576186</td>\n",
       "      <td>-1.536476</td>\n",
       "      <td>-4.324391</td>\n",
       "    </tr>\n",
       "    <tr>\n",
       "      <th>P</th>\n",
       "      <td>21.633124</td>\n",
       "      <td>11.650907</td>\n",
       "      <td>0.380926</td>\n",
       "    </tr>\n",
       "    <tr>\n",
       "      <th>B</th>\n",
       "      <td>36.732457</td>\n",
       "      <td>12.337233</td>\n",
       "      <td>19.944179</td>\n",
       "    </tr>\n",
       "    <tr>\n",
       "      <th>M</th>\n",
       "      <td>4.672737</td>\n",
       "      <td>7.676932</td>\n",
       "      <td>47.144913</td>\n",
       "    </tr>\n",
       "  </tbody>\n",
       "</table>\n",
       "</div>"
      ],
      "text/plain": [
       "           b          d          e\n",
       "Z  14.576186  -1.536476  -4.324391\n",
       "P  21.633124  11.650907   0.380926\n",
       "B  36.732457  12.337233  19.944179\n",
       "M   4.672737   7.676932  47.144913"
      ]
     },
     "execution_count": 142,
     "metadata": {
      "tags": []
     },
     "output_type": "execute_result"
    }
   ],
   "source": [
    "df4.sort_values(by=['e','b'])"
   ]
  },
  {
   "cell_type": "code",
   "execution_count": 146,
   "metadata": {
    "colab": {
     "base_uri": "https://localhost:8080/"
    },
    "executionInfo": {
     "elapsed": 693,
     "status": "ok",
     "timestamp": 1608655871776,
     "user": {
      "displayName": "Luis DEL POZO",
      "photoUrl": "",
      "userId": "08297678491184687059"
     },
     "user_tz": -60
    },
    "id": "IYpnn6Itppin",
    "outputId": "21030939-574f-40b9-8eac-897746479b68"
   },
   "outputs": [
    {
     "data": {
      "text/plain": [
       "a    2\n",
       "b    3\n",
       "c    8\n",
       "d    4\n",
       "e    3\n",
       "f    2\n",
       "g    1\n",
       "dtype: int64"
      ]
     },
     "execution_count": 146,
     "metadata": {
      "tags": []
     },
     "output_type": "execute_result"
    }
   ],
   "source": [
    "s1 = pd.Series([2,3,8,4,3,2,1], index=list('abcdefg'))\n",
    "s1"
   ]
  },
  {
   "cell_type": "code",
   "execution_count": 147,
   "metadata": {
    "colab": {
     "base_uri": "https://localhost:8080/"
    },
    "executionInfo": {
     "elapsed": 696,
     "status": "ok",
     "timestamp": 1608655875209,
     "user": {
      "displayName": "Luis DEL POZO",
      "photoUrl": "",
      "userId": "08297678491184687059"
     },
     "user_tz": -60
    },
    "id": "SfUXEWBTppin",
    "outputId": "fb0daa92-5325-4961-d353-ce08dd726ac3"
   },
   "outputs": [
    {
     "data": {
      "text/plain": [
       "g    1\n",
       "a    2\n",
       "f    2\n",
       "b    3\n",
       "e    3\n",
       "d    4\n",
       "c    8\n",
       "dtype: int64"
      ]
     },
     "execution_count": 147,
     "metadata": {
      "tags": []
     },
     "output_type": "execute_result"
    }
   ],
   "source": [
    "s1.sort_values()"
   ]
  },
  {
   "cell_type": "markdown",
   "metadata": {
    "id": "2wxspe6pppin"
   },
   "source": [
    "rank() returns the positions of the elements of the Series in its sorted version. If there are ties, it will take averages."
   ]
  },
  {
   "cell_type": "code",
   "execution_count": 148,
   "metadata": {
    "colab": {
     "base_uri": "https://localhost:8080/"
    },
    "executionInfo": {
     "elapsed": 694,
     "status": "ok",
     "timestamp": 1608655879317,
     "user": {
      "displayName": "Luis DEL POZO",
      "photoUrl": "",
      "userId": "08297678491184687059"
     },
     "user_tz": -60
    },
    "id": "B5Vp8SWtppin",
    "outputId": "721d737f-9cb5-448a-d6f1-8fa5bcce0d37"
   },
   "outputs": [
    {
     "data": {
      "text/plain": [
       "a    2.5\n",
       "b    4.5\n",
       "c    7.0\n",
       "d    6.0\n",
       "e    4.5\n",
       "f    2.5\n",
       "g    1.0\n",
       "dtype: float64"
      ]
     },
     "execution_count": 148,
     "metadata": {
      "tags": []
     },
     "output_type": "execute_result"
    }
   ],
   "source": [
    "s1.rank()"
   ]
  },
  {
   "cell_type": "code",
   "execution_count": 149,
   "metadata": {
    "colab": {
     "base_uri": "https://localhost:8080/"
    },
    "executionInfo": {
     "elapsed": 553,
     "status": "ok",
     "timestamp": 1608655880679,
     "user": {
      "displayName": "Luis DEL POZO",
      "photoUrl": "",
      "userId": "08297678491184687059"
     },
     "user_tz": -60
    },
    "id": "fQO0yUvtppin",
    "outputId": "2229b4eb-c32d-4a95-e68c-d3af1c3a0184"
   },
   "outputs": [
    {
     "data": {
      "text/plain": [
       "0    2.0\n",
       "1    2.0\n",
       "2    2.0\n",
       "dtype: float64"
      ]
     },
     "execution_count": 149,
     "metadata": {
      "tags": []
     },
     "output_type": "execute_result"
    }
   ],
   "source": [
    "pd.Series([1,1,1]).rank()"
   ]
  },
  {
   "cell_type": "code",
   "execution_count": 150,
   "metadata": {
    "colab": {
     "base_uri": "https://localhost:8080/"
    },
    "executionInfo": {
     "elapsed": 907,
     "status": "ok",
     "timestamp": 1608655883600,
     "user": {
      "displayName": "Luis DEL POZO",
      "photoUrl": "",
      "userId": "08297678491184687059"
     },
     "user_tz": -60
    },
    "id": "5P8zEzh-ppin",
    "outputId": "4bf67a56-2def-463d-fb10-e40c51cc5fc7"
   },
   "outputs": [
    {
     "data": {
      "text/plain": [
       "a    30\n",
       "b    10\n",
       "c    20\n",
       "dtype: int64"
      ]
     },
     "execution_count": 150,
     "metadata": {
      "tags": []
     },
     "output_type": "execute_result"
    }
   ],
   "source": [
    "s2 = pd.Series([30,10,20], index=list('abc'))\n",
    "s2"
   ]
  },
  {
   "cell_type": "code",
   "execution_count": 151,
   "metadata": {
    "colab": {
     "base_uri": "https://localhost:8080/"
    },
    "executionInfo": {
     "elapsed": 752,
     "status": "ok",
     "timestamp": 1608655884149,
     "user": {
      "displayName": "Luis DEL POZO",
      "photoUrl": "",
      "userId": "08297678491184687059"
     },
     "user_tz": -60
    },
    "id": "LhcM9xS0ppin",
    "outputId": "86f65466-e864-4852-c655-911dbb7f3b2a"
   },
   "outputs": [
    {
     "data": {
      "text/plain": [
       "a    3.0\n",
       "b    1.0\n",
       "c    2.0\n",
       "dtype: float64"
      ]
     },
     "execution_count": 151,
     "metadata": {
      "tags": []
     },
     "output_type": "execute_result"
    }
   ],
   "source": [
    "s2.rank()"
   ]
  },
  {
   "cell_type": "code",
   "execution_count": 152,
   "metadata": {
    "colab": {
     "base_uri": "https://localhost:8080/"
    },
    "executionInfo": {
     "elapsed": 1031,
     "status": "ok",
     "timestamp": 1608655885012,
     "user": {
      "displayName": "Luis DEL POZO",
      "photoUrl": "",
      "userId": "08297678491184687059"
     },
     "user_tz": -60
    },
    "id": "zoByRSJYppin",
    "outputId": "3052129b-c627-4aa2-e9e4-04540deebee3"
   },
   "outputs": [
    {
     "name": "stdout",
     "output_type": "stream",
     "text": [
      "Help on method rank in module pandas.core.generic:\n",
      "\n",
      "rank(axis=0, method:str='average', numeric_only:Union[bool, NoneType]=None, na_option:str='keep', ascending:bool=True, pct:bool=False) -> ~FrameOrSeries method of pandas.core.series.Series instance\n",
      "    Compute numerical data ranks (1 through n) along axis.\n",
      "    \n",
      "    By default, equal values are assigned a rank that is the average of the\n",
      "    ranks of those values.\n",
      "    \n",
      "    Parameters\n",
      "    ----------\n",
      "    axis : {0 or 'index', 1 or 'columns'}, default 0\n",
      "        Index to direct ranking.\n",
      "    method : {'average', 'min', 'max', 'first', 'dense'}, default 'average'\n",
      "        How to rank the group of records that have the same value (i.e. ties):\n",
      "    \n",
      "        * average: average rank of the group\n",
      "        * min: lowest rank in the group\n",
      "        * max: highest rank in the group\n",
      "        * first: ranks assigned in order they appear in the array\n",
      "        * dense: like 'min', but rank always increases by 1 between groups.\n",
      "    \n",
      "    numeric_only : bool, optional\n",
      "        For DataFrame objects, rank only numeric columns if set to True.\n",
      "    na_option : {'keep', 'top', 'bottom'}, default 'keep'\n",
      "        How to rank NaN values:\n",
      "    \n",
      "        * keep: assign NaN rank to NaN values\n",
      "        * top: assign smallest rank to NaN values if ascending\n",
      "        * bottom: assign highest rank to NaN values if ascending.\n",
      "    \n",
      "    ascending : bool, default True\n",
      "        Whether or not the elements should be ranked in ascending order.\n",
      "    pct : bool, default False\n",
      "        Whether or not to display the returned rankings in percentile\n",
      "        form.\n",
      "    \n",
      "    Returns\n",
      "    -------\n",
      "    same type as caller\n",
      "        Return a Series or DataFrame with data ranks as values.\n",
      "    \n",
      "    See Also\n",
      "    --------\n",
      "    core.groupby.GroupBy.rank : Rank of values within each group.\n",
      "    \n",
      "    Examples\n",
      "    --------\n",
      "    >>> df = pd.DataFrame(data={'Animal': ['cat', 'penguin', 'dog',\n",
      "    ...                                    'spider', 'snake'],\n",
      "    ...                         'Number_legs': [4, 2, 4, 8, np.nan]})\n",
      "    >>> df\n",
      "        Animal  Number_legs\n",
      "    0      cat          4.0\n",
      "    1  penguin          2.0\n",
      "    2      dog          4.0\n",
      "    3   spider          8.0\n",
      "    4    snake          NaN\n",
      "    \n",
      "    The following example shows how the method behaves with the above\n",
      "    parameters:\n",
      "    \n",
      "    * default_rank: this is the default behaviour obtained without using\n",
      "      any parameter.\n",
      "    * max_rank: setting ``method = 'max'`` the records that have the\n",
      "      same values are ranked using the highest rank (e.g.: since 'cat'\n",
      "      and 'dog' are both in the 2nd and 3rd position, rank 3 is assigned.)\n",
      "    * NA_bottom: choosing ``na_option = 'bottom'``, if there are records\n",
      "      with NaN values they are placed at the bottom of the ranking.\n",
      "    * pct_rank: when setting ``pct = True``, the ranking is expressed as\n",
      "      percentile rank.\n",
      "    \n",
      "    >>> df['default_rank'] = df['Number_legs'].rank()\n",
      "    >>> df['max_rank'] = df['Number_legs'].rank(method='max')\n",
      "    >>> df['NA_bottom'] = df['Number_legs'].rank(na_option='bottom')\n",
      "    >>> df['pct_rank'] = df['Number_legs'].rank(pct=True)\n",
      "    >>> df\n",
      "        Animal  Number_legs  default_rank  max_rank  NA_bottom  pct_rank\n",
      "    0      cat          4.0           2.5       3.0        2.5     0.625\n",
      "    1  penguin          2.0           1.0       1.0        1.0     0.250\n",
      "    2      dog          4.0           2.5       3.0        2.5     0.625\n",
      "    3   spider          8.0           4.0       4.0        4.0     1.000\n",
      "    4    snake          NaN           NaN       NaN        5.0       NaN\n",
      "\n"
     ]
    }
   ],
   "source": [
    "help(s2.rank)"
   ]
  },
  {
   "cell_type": "markdown",
   "metadata": {
    "id": "c0-ekWGippin"
   },
   "source": [
    "#### Exercise\n",
    "\n",
    "Write a function that takes a Series and returns the top 10% registers. In this case, earners. Test it with this Series:\n",
    "\n",
    "```python\n",
    "salaries = pd.Series([150000, 90000, 120000,30000,10000,5000,40000, 50000, 80000, 35000, 27000,14000, 28000, 22000,25000])\n",
    "```"
   ]
  },
  {
   "cell_type": "code",
   "execution_count": null,
   "metadata": {
    "executionInfo": {
     "elapsed": 33034,
     "status": "aborted",
     "timestamp": 1608654663436,
     "user": {
      "displayName": "Luis DEL POZO",
      "photoUrl": "",
      "userId": "08297678491184687059"
     },
     "user_tz": -60
    },
    "id": "bvAMYqtYppin"
   },
   "outputs": [],
   "source": [
    "salaries = pd.Series([150000, 90000, 120000,30000,10000,5000,40000, 50000, 80000, 35000, 27000,14000, 28000, 22000,25000])"
   ]
  },
  {
   "cell_type": "code",
   "execution_count": null,
   "metadata": {
    "executionInfo": {
     "elapsed": 33028,
     "status": "aborted",
     "timestamp": 1608654663437,
     "user": {
      "displayName": "Luis DEL POZO",
      "photoUrl": "",
      "userId": "08297678491184687059"
     },
     "user_tz": -60
    },
    "id": "AizQvOmWJztz"
   },
   "outputs": [],
   "source": [
    "len(salaries)"
   ]
  },
  {
   "cell_type": "code",
   "execution_count": null,
   "metadata": {
    "executionInfo": {
     "elapsed": 33021,
     "status": "aborted",
     "timestamp": 1608654663438,
     "user": {
      "displayName": "Luis DEL POZO",
      "photoUrl": "",
      "userId": "08297678491184687059"
     },
     "user_tz": -60
    },
    "id": "jo2K9MiSppin"
   },
   "outputs": [],
   "source": [
    "def top_earners(serie):\n",
    "    number_to_extract = round(len(serie) / 10)\n",
    "    return salaries.sort_values()[-number_to_extract:]\n",
    "\n",
    "top_earners(salaries)"
   ]
  },
  {
   "cell_type": "code",
   "execution_count": null,
   "metadata": {
    "executionInfo": {
     "elapsed": 33015,
     "status": "aborted",
     "timestamp": 1608654663439,
     "user": {
      "displayName": "Luis DEL POZO",
      "photoUrl": "",
      "userId": "08297678491184687059"
     },
     "user_tz": -60
    },
    "id": "Dn4I3qsZppin"
   },
   "outputs": [],
   "source": [
    "def top_earners(serie, percentile=0.9):\n",
    "    is_top_earner = serie.rank(pct=True) > percentile\n",
    "    return serie[is_top_earner]\n",
    "\n",
    "print(top_earners(salaries))\n",
    "print(top_earners(salaries, .8))"
   ]
  },
  {
   "cell_type": "markdown",
   "metadata": {
    "id": "nJA0qwh-ppio"
   },
   "source": [
    "## Summarizing and computing descriptive statistics"
   ]
  },
  {
   "cell_type": "code",
   "execution_count": null,
   "metadata": {
    "executionInfo": {
     "elapsed": 33007,
     "status": "aborted",
     "timestamp": 1608654663440,
     "user": {
      "displayName": "Luis DEL POZO",
      "photoUrl": "",
      "userId": "08297678491184687059"
     },
     "user_tz": -60
    },
    "id": "sK2l7AVgppio"
   },
   "outputs": [],
   "source": [
    "x = pd.Series([1.2, np.nan, 4, np.nan, 9], index=list('abcde'))\n",
    "y = pd.Series([5, 3, 7, np.nan, 14], index=list('abcde'))\n",
    "\n",
    "df = pd.DataFrame([x, y], index=['x','y'])\n",
    "df"
   ]
  },
  {
   "cell_type": "code",
   "execution_count": null,
   "metadata": {
    "executionInfo": {
     "elapsed": 33000,
     "status": "aborted",
     "timestamp": 1608654663441,
     "user": {
      "displayName": "Luis DEL POZO",
      "photoUrl": "",
      "userId": "08297678491184687059"
     },
     "user_tz": -60
    },
    "id": "mcu_JFjP7bF1"
   },
   "outputs": [],
   "source": [
    "df = pd.DataFrame([x, y], index=['x','y']).T\n",
    "df"
   ]
  },
  {
   "cell_type": "code",
   "execution_count": null,
   "metadata": {
    "executionInfo": {
     "elapsed": 32994,
     "status": "aborted",
     "timestamp": 1608654663442,
     "user": {
      "displayName": "Luis DEL POZO",
      "photoUrl": "",
      "userId": "08297678491184687059"
     },
     "user_tz": -60
    },
    "id": "KuhSUaAsppio"
   },
   "outputs": [],
   "source": [
    "df.sum()"
   ]
  },
  {
   "cell_type": "markdown",
   "metadata": {
    "id": "cQgM7hvxppio"
   },
   "source": [
    "As with many methods, we can use them in the direction perpendicular to their default."
   ]
  },
  {
   "cell_type": "code",
   "execution_count": null,
   "metadata": {
    "executionInfo": {
     "elapsed": 32988,
     "status": "aborted",
     "timestamp": 1608654663443,
     "user": {
      "displayName": "Luis DEL POZO",
      "photoUrl": "",
      "userId": "08297678491184687059"
     },
     "user_tz": -60
    },
    "id": "Qbx5Y9ncppio"
   },
   "outputs": [],
   "source": [
    "df.sum(axis=1)"
   ]
  },
  {
   "cell_type": "code",
   "execution_count": null,
   "metadata": {
    "executionInfo": {
     "elapsed": 32980,
     "status": "aborted",
     "timestamp": 1608654663443,
     "user": {
      "displayName": "Luis DEL POZO",
      "photoUrl": "",
      "userId": "08297678491184687059"
     },
     "user_tz": -60
    },
    "id": "JebyGpE1ppio"
   },
   "outputs": [],
   "source": [
    "pd.__version__"
   ]
  },
  {
   "cell_type": "code",
   "execution_count": null,
   "metadata": {
    "executionInfo": {
     "elapsed": 32973,
     "status": "aborted",
     "timestamp": 1608654663444,
     "user": {
      "displayName": "Luis DEL POZO",
      "photoUrl": "",
      "userId": "08297678491184687059"
     },
     "user_tz": -60
    },
    "id": "JupE4p1bppio"
   },
   "outputs": [],
   "source": [
    "df.sum(axis=1, skipna=False)"
   ]
  },
  {
   "cell_type": "code",
   "execution_count": null,
   "metadata": {
    "executionInfo": {
     "elapsed": 32967,
     "status": "aborted",
     "timestamp": 1608654663445,
     "user": {
      "displayName": "Luis DEL POZO",
      "photoUrl": "",
      "userId": "08297678491184687059"
     },
     "user_tz": -60
    },
    "id": "fXwo6Gjappio"
   },
   "outputs": [],
   "source": [
    "df.mean()"
   ]
  },
  {
   "cell_type": "code",
   "execution_count": null,
   "metadata": {
    "executionInfo": {
     "elapsed": 32959,
     "status": "aborted",
     "timestamp": 1608654663445,
     "user": {
      "displayName": "Luis DEL POZO",
      "photoUrl": "",
      "userId": "08297678491184687059"
     },
     "user_tz": -60
    },
    "id": "fN3J2WFoppio"
   },
   "outputs": [],
   "source": [
    "df.mean(axis=1)"
   ]
  },
  {
   "cell_type": "code",
   "execution_count": null,
   "metadata": {
    "executionInfo": {
     "elapsed": 32952,
     "status": "aborted",
     "timestamp": 1608654663446,
     "user": {
      "displayName": "Luis DEL POZO",
      "photoUrl": "",
      "userId": "08297678491184687059"
     },
     "user_tz": -60
    },
    "id": "5GccjzZFppio"
   },
   "outputs": [],
   "source": [
    "df.cumsum()\n"
   ]
  },
  {
   "cell_type": "code",
   "execution_count": null,
   "metadata": {
    "executionInfo": {
     "elapsed": 32946,
     "status": "aborted",
     "timestamp": 1608654663447,
     "user": {
      "displayName": "Luis DEL POZO",
      "photoUrl": "",
      "userId": "08297678491184687059"
     },
     "user_tz": -60
    },
    "id": "xvZEvY9Appio"
   },
   "outputs": [],
   "source": [
    "df.std()"
   ]
  },
  {
   "cell_type": "code",
   "execution_count": null,
   "metadata": {
    "executionInfo": {
     "elapsed": 32938,
     "status": "aborted",
     "timestamp": 1608654663447,
     "user": {
      "displayName": "Luis DEL POZO",
      "photoUrl": "",
      "userId": "08297678491184687059"
     },
     "user_tz": -60
    },
    "id": "Zrb2iyhMppio"
   },
   "outputs": [],
   "source": [
    "df.describe()"
   ]
  },
  {
   "cell_type": "code",
   "execution_count": null,
   "metadata": {
    "executionInfo": {
     "elapsed": 32933,
     "status": "aborted",
     "timestamp": 1608654663449,
     "user": {
      "displayName": "Luis DEL POZO",
      "photoUrl": "",
      "userId": "08297678491184687059"
     },
     "user_tz": -60
    },
    "id": "Qq2kOaZ1ppio"
   },
   "outputs": [],
   "source": [
    "df['x'].sum()"
   ]
  },
  {
   "cell_type": "code",
   "execution_count": null,
   "metadata": {
    "executionInfo": {
     "elapsed": 32928,
     "status": "aborted",
     "timestamp": 1608654663451,
     "user": {
      "displayName": "Luis DEL POZO",
      "photoUrl": "",
      "userId": "08297678491184687059"
     },
     "user_tz": -60
    },
    "id": "H2EY0lK9ppio"
   },
   "outputs": [],
   "source": [
    "df['x'].describe()"
   ]
  },
  {
   "cell_type": "markdown",
   "metadata": {
    "id": "r0BQNgzwppio"
   },
   "source": [
    "### Unique values, value counts, and membership"
   ]
  },
  {
   "cell_type": "code",
   "execution_count": 153,
   "metadata": {
    "colab": {
     "base_uri": "https://localhost:8080/"
    },
    "executionInfo": {
     "elapsed": 654,
     "status": "ok",
     "timestamp": 1608655902676,
     "user": {
      "displayName": "Luis DEL POZO",
      "photoUrl": "",
      "userId": "08297678491184687059"
     },
     "user_tz": -60
    },
    "id": "Gp21vVAeppio",
    "outputId": "ebb9aefd-0b9d-4385-aee1-c3a9ddf8676b"
   },
   "outputs": [
    {
     "data": {
      "text/plain": [
       "0     g\n",
       "1     t\n",
       "2     c\n",
       "3     a\n",
       "4     a\n",
       "5     a\n",
       "6     g\n",
       "7     c\n",
       "8     t\n",
       "9     t\n",
       "10    c\n",
       "11    g\n",
       "12    a\n",
       "dtype: object"
      ]
     },
     "execution_count": 153,
     "metadata": {
      "tags": []
     },
     "output_type": "execute_result"
    }
   ],
   "source": [
    "s7 = pd.Series(list('gtcaaagcttcga'))\n",
    "s7"
   ]
  },
  {
   "cell_type": "code",
   "execution_count": 154,
   "metadata": {
    "colab": {
     "base_uri": "https://localhost:8080/"
    },
    "executionInfo": {
     "elapsed": 665,
     "status": "ok",
     "timestamp": 1608655904436,
     "user": {
      "displayName": "Luis DEL POZO",
      "photoUrl": "",
      "userId": "08297678491184687059"
     },
     "user_tz": -60
    },
    "id": "oAZRQQI7ppio",
    "outputId": "6f32ff51-e34a-4a48-fbc5-dfe34b543814"
   },
   "outputs": [
    {
     "data": {
      "text/plain": [
       "array(['g', 't', 'c', 'a'], dtype=object)"
      ]
     },
     "execution_count": 154,
     "metadata": {
      "tags": []
     },
     "output_type": "execute_result"
    }
   ],
   "source": [
    "s7.unique()"
   ]
  },
  {
   "cell_type": "code",
   "execution_count": 156,
   "metadata": {
    "colab": {
     "base_uri": "https://localhost:8080/"
    },
    "executionInfo": {
     "elapsed": 800,
     "status": "ok",
     "timestamp": 1608655926379,
     "user": {
      "displayName": "Luis DEL POZO",
      "photoUrl": "",
      "userId": "08297678491184687059"
     },
     "user_tz": -60
    },
    "id": "FT_1Azigppio",
    "outputId": "65738223-faee-4703-a257-b52058a4dbb1"
   },
   "outputs": [
    {
     "data": {
      "text/plain": [
       "a    4\n",
       "c    3\n",
       "g    3\n",
       "t    3\n",
       "dtype: int64"
      ]
     },
     "execution_count": 156,
     "metadata": {
      "tags": []
     },
     "output_type": "execute_result"
    }
   ],
   "source": [
    "s7.value_counts()"
   ]
  },
  {
   "cell_type": "code",
   "execution_count": 157,
   "metadata": {
    "colab": {
     "base_uri": "https://localhost:8080/"
    },
    "executionInfo": {
     "elapsed": 803,
     "status": "ok",
     "timestamp": 1608655927085,
     "user": {
      "displayName": "Luis DEL POZO",
      "photoUrl": "",
      "userId": "08297678491184687059"
     },
     "user_tz": -60
    },
    "id": "DdcGkaruppio",
    "outputId": "8ea7497a-4d49-4a14-a251-90ec7fab0716"
   },
   "outputs": [
    {
     "data": {
      "text/plain": [
       "0      True\n",
       "1     False\n",
       "2     False\n",
       "3      True\n",
       "4      True\n",
       "5      True\n",
       "6      True\n",
       "7     False\n",
       "8     False\n",
       "9     False\n",
       "10    False\n",
       "11     True\n",
       "12     True\n",
       "dtype: bool"
      ]
     },
     "execution_count": 157,
     "metadata": {
      "tags": []
     },
     "output_type": "execute_result"
    }
   ],
   "source": [
    "puric_bases = ['a','g']\n",
    "s7.isin(puric_bases)"
   ]
  },
  {
   "cell_type": "code",
   "execution_count": 158,
   "metadata": {
    "colab": {
     "base_uri": "https://localhost:8080/"
    },
    "executionInfo": {
     "elapsed": 759,
     "status": "ok",
     "timestamp": 1608655927766,
     "user": {
      "displayName": "Luis DEL POZO",
      "photoUrl": "",
      "userId": "08297678491184687059"
     },
     "user_tz": -60
    },
    "id": "gLgkjn7kppio",
    "outputId": "a8b5a97a-efdc-4dd4-e29d-674e9209df44"
   },
   "outputs": [
    {
     "data": {
      "text/plain": [
       "0     g\n",
       "3     a\n",
       "4     a\n",
       "5     a\n",
       "6     g\n",
       "11    g\n",
       "12    a\n",
       "dtype: object"
      ]
     },
     "execution_count": 158,
     "metadata": {
      "tags": []
     },
     "output_type": "execute_result"
    }
   ],
   "source": [
    "s7[s7.isin(puric_bases)]"
   ]
  },
  {
   "cell_type": "markdown",
   "metadata": {
    "id": "xl3cXv40ppio"
   },
   "source": [
    "## Handling missing data"
   ]
  },
  {
   "cell_type": "code",
   "execution_count": null,
   "metadata": {
    "executionInfo": {
     "elapsed": 32888,
     "status": "aborted",
     "timestamp": 1608654663457,
     "user": {
      "displayName": "Luis DEL POZO",
      "photoUrl": "",
      "userId": "08297678491184687059"
     },
     "user_tz": -60
    },
    "id": "6FAt3aaCppip"
   },
   "outputs": [],
   "source": [
    "string_data = pd.Series(['Ma', 'Lu', 'Ca', 'Va', np.nan])\n",
    "string_data"
   ]
  },
  {
   "cell_type": "code",
   "execution_count": null,
   "metadata": {
    "executionInfo": {
     "elapsed": 32881,
     "status": "aborted",
     "timestamp": 1608654663457,
     "user": {
      "displayName": "Luis DEL POZO",
      "photoUrl": "",
      "userId": "08297678491184687059"
     },
     "user_tz": -60
    },
    "id": "jEizNN-zppip"
   },
   "outputs": [],
   "source": [
    "string_data[string_data!=np.nan]"
   ]
  },
  {
   "cell_type": "markdown",
   "metadata": {
    "id": "Vmh5RQo2ppip"
   },
   "source": [
    "This is weird... but it has some really good reasons. You can find explanations [here](https://stackoverflow.com/questions/10034149/why-is-nan-not-equal-to-nan) and [here](https://stackoverflow.com/questions/1565164/what-is-the-rationale-for-all-comparisons-returning-false-for-ieee754-nan-values)"
   ]
  },
  {
   "cell_type": "code",
   "execution_count": null,
   "metadata": {
    "executionInfo": {
     "elapsed": 32874,
     "status": "aborted",
     "timestamp": 1608654663457,
     "user": {
      "displayName": "Luis DEL POZO",
      "photoUrl": "",
      "userId": "08297678491184687059"
     },
     "user_tz": -60
    },
    "id": "r6ggQeRRppip"
   },
   "outputs": [],
   "source": [
    "np.nan == np.nan"
   ]
  },
  {
   "cell_type": "code",
   "execution_count": null,
   "metadata": {
    "executionInfo": {
     "elapsed": 32868,
     "status": "aborted",
     "timestamp": 1608654663459,
     "user": {
      "displayName": "Luis DEL POZO",
      "photoUrl": "",
      "userId": "08297678491184687059"
     },
     "user_tz": -60
    },
    "id": "hcNzPfPPppip"
   },
   "outputs": [],
   "source": [
    "string_data[~string_data.isnull()]"
   ]
  },
  {
   "cell_type": "markdown",
   "metadata": {
    "id": "3SCyqfQ6ppip"
   },
   "source": [
    "### Filtering out missing data"
   ]
  },
  {
   "cell_type": "code",
   "execution_count": null,
   "metadata": {
    "executionInfo": {
     "elapsed": 32861,
     "status": "aborted",
     "timestamp": 1608654663459,
     "user": {
      "displayName": "Luis DEL POZO",
      "photoUrl": "",
      "userId": "08297678491184687059"
     },
     "user_tz": -60
    },
    "id": "dcyDAUkTppip"
   },
   "outputs": [],
   "source": [
    "string_data[string_data.notnull()]"
   ]
  },
  {
   "cell_type": "code",
   "execution_count": 250,
   "metadata": {
    "colab": {
     "base_uri": "https://localhost:8080/",
     "height": 175
    },
    "executionInfo": {
     "elapsed": 717,
     "status": "ok",
     "timestamp": 1608658812379,
     "user": {
      "displayName": "Luis DEL POZO",
      "photoUrl": "",
      "userId": "08297678491184687059"
     },
     "user_tz": -60
    },
    "id": "pX-pp0zpppip",
    "outputId": "cc1683bc-887a-4e39-9aef-abb66f245da5"
   },
   "outputs": [
    {
     "data": {
      "text/html": [
       "<div>\n",
       "<style scoped>\n",
       "    .dataframe tbody tr th:only-of-type {\n",
       "        vertical-align: middle;\n",
       "    }\n",
       "\n",
       "    .dataframe tbody tr th {\n",
       "        vertical-align: top;\n",
       "    }\n",
       "\n",
       "    .dataframe thead th {\n",
       "        text-align: right;\n",
       "    }\n",
       "</style>\n",
       "<table border=\"1\" class=\"dataframe\">\n",
       "  <thead>\n",
       "    <tr style=\"text-align: right;\">\n",
       "      <th></th>\n",
       "      <th>a</th>\n",
       "      <th>b</th>\n",
       "      <th>c</th>\n",
       "    </tr>\n",
       "  </thead>\n",
       "  <tbody>\n",
       "    <tr>\n",
       "      <th>0</th>\n",
       "      <td>1.0</td>\n",
       "      <td>2.0</td>\n",
       "      <td>3</td>\n",
       "    </tr>\n",
       "    <tr>\n",
       "      <th>1</th>\n",
       "      <td>NaN</td>\n",
       "      <td>8.0</td>\n",
       "      <td>7</td>\n",
       "    </tr>\n",
       "    <tr>\n",
       "      <th>2</th>\n",
       "      <td>4.0</td>\n",
       "      <td>NaN</td>\n",
       "      <td>90</td>\n",
       "    </tr>\n",
       "    <tr>\n",
       "      <th>3</th>\n",
       "      <td>67.0</td>\n",
       "      <td>42.0</td>\n",
       "      <td>53</td>\n",
       "    </tr>\n",
       "  </tbody>\n",
       "</table>\n",
       "</div>"
      ],
      "text/plain": [
       "      a     b   c\n",
       "0   1.0   2.0   3\n",
       "1   NaN   8.0   7\n",
       "2   4.0   NaN  90\n",
       "3  67.0  42.0  53"
      ]
     },
     "execution_count": 250,
     "metadata": {
      "tags": []
     },
     "output_type": "execute_result"
    }
   ],
   "source": [
    "df5 = pd.DataFrame([[1,2,3], \n",
    "                    [np.nan, 8, 7], \n",
    "                    [4, np.nan, 90], \n",
    "                    [67,42,53]], \n",
    "                   columns=list('abc'))\n",
    "df5"
   ]
  },
  {
   "cell_type": "code",
   "execution_count": 251,
   "metadata": {
    "colab": {
     "base_uri": "https://localhost:8080/",
     "height": 143
    },
    "executionInfo": {
     "elapsed": 692,
     "status": "ok",
     "timestamp": 1608658813998,
     "user": {
      "displayName": "Luis DEL POZO",
      "photoUrl": "",
      "userId": "08297678491184687059"
     },
     "user_tz": -60
    },
    "id": "YMXKAHE8ppip",
    "outputId": "ba2ebfef-08fa-4516-d609-fa48d108b1e9"
   },
   "outputs": [
    {
     "data": {
      "text/html": [
       "<div>\n",
       "<style scoped>\n",
       "    .dataframe tbody tr th:only-of-type {\n",
       "        vertical-align: middle;\n",
       "    }\n",
       "\n",
       "    .dataframe tbody tr th {\n",
       "        vertical-align: top;\n",
       "    }\n",
       "\n",
       "    .dataframe thead th {\n",
       "        text-align: right;\n",
       "    }\n",
       "</style>\n",
       "<table border=\"1\" class=\"dataframe\">\n",
       "  <thead>\n",
       "    <tr style=\"text-align: right;\">\n",
       "      <th></th>\n",
       "      <th>a</th>\n",
       "      <th>b</th>\n",
       "      <th>c</th>\n",
       "    </tr>\n",
       "  </thead>\n",
       "  <tbody>\n",
       "    <tr>\n",
       "      <th>0</th>\n",
       "      <td>1.0</td>\n",
       "      <td>2.0</td>\n",
       "      <td>3</td>\n",
       "    </tr>\n",
       "    <tr>\n",
       "      <th>2</th>\n",
       "      <td>4.0</td>\n",
       "      <td>NaN</td>\n",
       "      <td>90</td>\n",
       "    </tr>\n",
       "    <tr>\n",
       "      <th>3</th>\n",
       "      <td>67.0</td>\n",
       "      <td>42.0</td>\n",
       "      <td>53</td>\n",
       "    </tr>\n",
       "  </tbody>\n",
       "</table>\n",
       "</div>"
      ],
      "text/plain": [
       "      a     b   c\n",
       "0   1.0   2.0   3\n",
       "2   4.0   NaN  90\n",
       "3  67.0  42.0  53"
      ]
     },
     "execution_count": 251,
     "metadata": {
      "tags": []
     },
     "output_type": "execute_result"
    }
   ],
   "source": [
    "df5[df5['a'].notnull()]"
   ]
  },
  {
   "cell_type": "code",
   "execution_count": 252,
   "metadata": {
    "colab": {
     "base_uri": "https://localhost:8080/",
     "height": 175
    },
    "executionInfo": {
     "elapsed": 667,
     "status": "ok",
     "timestamp": 1608658827819,
     "user": {
      "displayName": "Luis DEL POZO",
      "photoUrl": "",
      "userId": "08297678491184687059"
     },
     "user_tz": -60
    },
    "id": "uLTHc7R6ppip",
    "outputId": "332865de-fc03-45c9-c70b-52223b64d298"
   },
   "outputs": [
    {
     "data": {
      "text/html": [
       "<div>\n",
       "<style scoped>\n",
       "    .dataframe tbody tr th:only-of-type {\n",
       "        vertical-align: middle;\n",
       "    }\n",
       "\n",
       "    .dataframe tbody tr th {\n",
       "        vertical-align: top;\n",
       "    }\n",
       "\n",
       "    .dataframe thead th {\n",
       "        text-align: right;\n",
       "    }\n",
       "</style>\n",
       "<table border=\"1\" class=\"dataframe\">\n",
       "  <thead>\n",
       "    <tr style=\"text-align: right;\">\n",
       "      <th></th>\n",
       "      <th>a</th>\n",
       "      <th>b</th>\n",
       "      <th>c</th>\n",
       "    </tr>\n",
       "  </thead>\n",
       "  <tbody>\n",
       "    <tr>\n",
       "      <th>0</th>\n",
       "      <td>True</td>\n",
       "      <td>True</td>\n",
       "      <td>True</td>\n",
       "    </tr>\n",
       "    <tr>\n",
       "      <th>1</th>\n",
       "      <td>False</td>\n",
       "      <td>True</td>\n",
       "      <td>True</td>\n",
       "    </tr>\n",
       "    <tr>\n",
       "      <th>2</th>\n",
       "      <td>True</td>\n",
       "      <td>False</td>\n",
       "      <td>True</td>\n",
       "    </tr>\n",
       "    <tr>\n",
       "      <th>3</th>\n",
       "      <td>True</td>\n",
       "      <td>True</td>\n",
       "      <td>True</td>\n",
       "    </tr>\n",
       "  </tbody>\n",
       "</table>\n",
       "</div>"
      ],
      "text/plain": [
       "       a      b     c\n",
       "0   True   True  True\n",
       "1  False   True  True\n",
       "2   True  False  True\n",
       "3   True   True  True"
      ]
     },
     "execution_count": 252,
     "metadata": {
      "tags": []
     },
     "output_type": "execute_result"
    }
   ],
   "source": [
    "df5.notnull()"
   ]
  },
  {
   "cell_type": "markdown",
   "metadata": {
    "id": "SUqU7l95ppip"
   },
   "source": [
    "any() and all() are functions of boolean Series. They reduce the Series to a single boolean value by applying repeatedly the operators \"or\" and \"and\", respectively."
   ]
  },
  {
   "cell_type": "code",
   "execution_count": 253,
   "metadata": {
    "colab": {
     "base_uri": "https://localhost:8080/"
    },
    "executionInfo": {
     "elapsed": 694,
     "status": "ok",
     "timestamp": 1608658832585,
     "user": {
      "displayName": "Luis DEL POZO",
      "photoUrl": "",
      "userId": "08297678491184687059"
     },
     "user_tz": -60
    },
    "id": "o01r25gTppip",
    "outputId": "bdbbb2bb-7e14-40ff-ff8a-779f1d8bb34b"
   },
   "outputs": [
    {
     "data": {
      "text/plain": [
       "a    True\n",
       "b    True\n",
       "c    True\n",
       "dtype: bool"
      ]
     },
     "execution_count": 253,
     "metadata": {
      "tags": []
     },
     "output_type": "execute_result"
    }
   ],
   "source": [
    "df5.notnull().any()"
   ]
  },
  {
   "cell_type": "code",
   "execution_count": 254,
   "metadata": {
    "colab": {
     "base_uri": "https://localhost:8080/"
    },
    "executionInfo": {
     "elapsed": 642,
     "status": "ok",
     "timestamp": 1608658834271,
     "user": {
      "displayName": "Luis DEL POZO",
      "photoUrl": "",
      "userId": "08297678491184687059"
     },
     "user_tz": -60
    },
    "id": "abSg2dafppip",
    "outputId": "94f3a131-a490-426b-e65b-e459d2d1bbeb"
   },
   "outputs": [
    {
     "data": {
      "text/plain": [
       "a    False\n",
       "b    False\n",
       "c     True\n",
       "dtype: bool"
      ]
     },
     "execution_count": 254,
     "metadata": {
      "tags": []
     },
     "output_type": "execute_result"
    }
   ],
   "source": [
    "df5.notnull().all()"
   ]
  },
  {
   "cell_type": "code",
   "execution_count": 255,
   "metadata": {
    "colab": {
     "base_uri": "https://localhost:8080/"
    },
    "executionInfo": {
     "elapsed": 467,
     "status": "ok",
     "timestamp": 1608658835580,
     "user": {
      "displayName": "Luis DEL POZO",
      "photoUrl": "",
      "userId": "08297678491184687059"
     },
     "user_tz": -60
    },
    "id": "f2BXRR7Yppip",
    "outputId": "eef821e6-aaa7-4487-fce8-69d10cd0a734"
   },
   "outputs": [
    {
     "data": {
      "text/plain": [
       "a     True\n",
       "b     True\n",
       "c    False\n",
       "dtype: bool"
      ]
     },
     "execution_count": 255,
     "metadata": {
      "tags": []
     },
     "output_type": "execute_result"
    }
   ],
   "source": [
    "df5.isnull().any()"
   ]
  },
  {
   "cell_type": "code",
   "execution_count": 256,
   "metadata": {
    "colab": {
     "base_uri": "https://localhost:8080/",
     "height": 112
    },
    "executionInfo": {
     "elapsed": 768,
     "status": "ok",
     "timestamp": 1608658840296,
     "user": {
      "displayName": "Luis DEL POZO",
      "photoUrl": "",
      "userId": "08297678491184687059"
     },
     "user_tz": -60
    },
    "id": "IkAzAAzKppip",
    "outputId": "542ffc66-4274-4cd9-9b7c-182e0398a814"
   },
   "outputs": [
    {
     "data": {
      "text/html": [
       "<div>\n",
       "<style scoped>\n",
       "    .dataframe tbody tr th:only-of-type {\n",
       "        vertical-align: middle;\n",
       "    }\n",
       "\n",
       "    .dataframe tbody tr th {\n",
       "        vertical-align: top;\n",
       "    }\n",
       "\n",
       "    .dataframe thead th {\n",
       "        text-align: right;\n",
       "    }\n",
       "</style>\n",
       "<table border=\"1\" class=\"dataframe\">\n",
       "  <thead>\n",
       "    <tr style=\"text-align: right;\">\n",
       "      <th></th>\n",
       "      <th>a</th>\n",
       "      <th>b</th>\n",
       "      <th>c</th>\n",
       "    </tr>\n",
       "  </thead>\n",
       "  <tbody>\n",
       "    <tr>\n",
       "      <th>0</th>\n",
       "      <td>1.0</td>\n",
       "      <td>2.0</td>\n",
       "      <td>3</td>\n",
       "    </tr>\n",
       "    <tr>\n",
       "      <th>3</th>\n",
       "      <td>67.0</td>\n",
       "      <td>42.0</td>\n",
       "      <td>53</td>\n",
       "    </tr>\n",
       "  </tbody>\n",
       "</table>\n",
       "</div>"
      ],
      "text/plain": [
       "      a     b   c\n",
       "0   1.0   2.0   3\n",
       "3  67.0  42.0  53"
      ]
     },
     "execution_count": 256,
     "metadata": {
      "tags": []
     },
     "output_type": "execute_result"
    }
   ],
   "source": [
    "df5.dropna()"
   ]
  },
  {
   "cell_type": "code",
   "execution_count": 257,
   "metadata": {
    "colab": {
     "base_uri": "https://localhost:8080/",
     "height": 175
    },
    "executionInfo": {
     "elapsed": 857,
     "status": "ok",
     "timestamp": 1608658843648,
     "user": {
      "displayName": "Luis DEL POZO",
      "photoUrl": "",
      "userId": "08297678491184687059"
     },
     "user_tz": -60
    },
    "id": "0duyP7joppip",
    "outputId": "6879b2b7-8c74-4ede-9f27-35f68be2ca03"
   },
   "outputs": [
    {
     "data": {
      "text/html": [
       "<div>\n",
       "<style scoped>\n",
       "    .dataframe tbody tr th:only-of-type {\n",
       "        vertical-align: middle;\n",
       "    }\n",
       "\n",
       "    .dataframe tbody tr th {\n",
       "        vertical-align: top;\n",
       "    }\n",
       "\n",
       "    .dataframe thead th {\n",
       "        text-align: right;\n",
       "    }\n",
       "</style>\n",
       "<table border=\"1\" class=\"dataframe\">\n",
       "  <thead>\n",
       "    <tr style=\"text-align: right;\">\n",
       "      <th></th>\n",
       "      <th>a</th>\n",
       "      <th>b</th>\n",
       "      <th>c</th>\n",
       "    </tr>\n",
       "  </thead>\n",
       "  <tbody>\n",
       "    <tr>\n",
       "      <th>0</th>\n",
       "      <td>1.0</td>\n",
       "      <td>2.0</td>\n",
       "      <td>3</td>\n",
       "    </tr>\n",
       "    <tr>\n",
       "      <th>1</th>\n",
       "      <td>NaN</td>\n",
       "      <td>8.0</td>\n",
       "      <td>7</td>\n",
       "    </tr>\n",
       "    <tr>\n",
       "      <th>2</th>\n",
       "      <td>4.0</td>\n",
       "      <td>NaN</td>\n",
       "      <td>90</td>\n",
       "    </tr>\n",
       "    <tr>\n",
       "      <th>3</th>\n",
       "      <td>67.0</td>\n",
       "      <td>42.0</td>\n",
       "      <td>53</td>\n",
       "    </tr>\n",
       "  </tbody>\n",
       "</table>\n",
       "</div>"
      ],
      "text/plain": [
       "      a     b   c\n",
       "0   1.0   2.0   3\n",
       "1   NaN   8.0   7\n",
       "2   4.0   NaN  90\n",
       "3  67.0  42.0  53"
      ]
     },
     "execution_count": 257,
     "metadata": {
      "tags": []
     },
     "output_type": "execute_result"
    }
   ],
   "source": [
    "df5"
   ]
  },
  {
   "cell_type": "code",
   "execution_count": 258,
   "metadata": {
    "colab": {
     "base_uri": "https://localhost:8080/",
     "height": 175
    },
    "executionInfo": {
     "elapsed": 672,
     "status": "ok",
     "timestamp": 1608658846853,
     "user": {
      "displayName": "Luis DEL POZO",
      "photoUrl": "",
      "userId": "08297678491184687059"
     },
     "user_tz": -60
    },
    "id": "lOw3bzYkppip",
    "outputId": "080b5ed3-009c-4e5b-aded-81fe1abb0c97"
   },
   "outputs": [
    {
     "data": {
      "text/html": [
       "<div>\n",
       "<style scoped>\n",
       "    .dataframe tbody tr th:only-of-type {\n",
       "        vertical-align: middle;\n",
       "    }\n",
       "\n",
       "    .dataframe tbody tr th {\n",
       "        vertical-align: top;\n",
       "    }\n",
       "\n",
       "    .dataframe thead th {\n",
       "        text-align: right;\n",
       "    }\n",
       "</style>\n",
       "<table border=\"1\" class=\"dataframe\">\n",
       "  <thead>\n",
       "    <tr style=\"text-align: right;\">\n",
       "      <th></th>\n",
       "      <th>c</th>\n",
       "    </tr>\n",
       "  </thead>\n",
       "  <tbody>\n",
       "    <tr>\n",
       "      <th>0</th>\n",
       "      <td>3</td>\n",
       "    </tr>\n",
       "    <tr>\n",
       "      <th>1</th>\n",
       "      <td>7</td>\n",
       "    </tr>\n",
       "    <tr>\n",
       "      <th>2</th>\n",
       "      <td>90</td>\n",
       "    </tr>\n",
       "    <tr>\n",
       "      <th>3</th>\n",
       "      <td>53</td>\n",
       "    </tr>\n",
       "  </tbody>\n",
       "</table>\n",
       "</div>"
      ],
      "text/plain": [
       "    c\n",
       "0   3\n",
       "1   7\n",
       "2  90\n",
       "3  53"
      ]
     },
     "execution_count": 258,
     "metadata": {
      "tags": []
     },
     "output_type": "execute_result"
    }
   ],
   "source": [
    "df5.dropna(axis=1)"
   ]
  },
  {
   "cell_type": "code",
   "execution_count": null,
   "metadata": {
    "executionInfo": {
     "elapsed": 32793,
     "status": "aborted",
     "timestamp": 1608654663473,
     "user": {
      "displayName": "Luis DEL POZO",
      "photoUrl": "",
      "userId": "08297678491184687059"
     },
     "user_tz": -60
    },
    "id": "RWRDDzmWppip"
   },
   "outputs": [],
   "source": [
    "array = np.random.randn(8,3) * 20 + 100\n",
    "\n",
    "df6 = pd.DataFrame(array, columns=list('xyz'), index=list('abcdefgh'))\n",
    "df6.iloc[2:5, 1] = np.nan\n",
    "df6.iloc[1:3, 2] = np.nan\n",
    "df6"
   ]
  },
  {
   "cell_type": "markdown",
   "metadata": {
    "id": "9VZP8-ohppip"
   },
   "source": [
    "The thresh argument specifies the minimum number of non-null values required to keep a column (or row, with axis=1)"
   ]
  },
  {
   "cell_type": "code",
   "execution_count": null,
   "metadata": {
    "executionInfo": {
     "elapsed": 32785,
     "status": "aborted",
     "timestamp": 1608654663474,
     "user": {
      "displayName": "Luis DEL POZO",
      "photoUrl": "",
      "userId": "08297678491184687059"
     },
     "user_tz": -60
    },
    "id": "Hytnrsdbppip"
   },
   "outputs": [],
   "source": [
    "df6.dropna(thresh=2)"
   ]
  },
  {
   "cell_type": "code",
   "execution_count": null,
   "metadata": {
    "executionInfo": {
     "elapsed": 32777,
     "status": "aborted",
     "timestamp": 1608654663475,
     "user": {
      "displayName": "Luis DEL POZO",
      "photoUrl": "",
      "userId": "08297678491184687059"
     },
     "user_tz": -60
    },
    "id": "p6n21pOMppiq"
   },
   "outputs": [],
   "source": [
    "df6.dropna(thresh=2, axis=1)"
   ]
  },
  {
   "cell_type": "code",
   "execution_count": null,
   "metadata": {
    "executionInfo": {
     "elapsed": 32768,
     "status": "aborted",
     "timestamp": 1608654663475,
     "user": {
      "displayName": "Luis DEL POZO",
      "photoUrl": "",
      "userId": "08297678491184687059"
     },
     "user_tz": -60
    },
    "id": "YDf39MASppiq"
   },
   "outputs": [],
   "source": [
    "df6.dropna(thresh=6, axis=1)"
   ]
  },
  {
   "cell_type": "markdown",
   "metadata": {
    "id": "0y_jOmuGppiq"
   },
   "source": [
    "### Filling in missing data"
   ]
  },
  {
   "cell_type": "code",
   "execution_count": null,
   "metadata": {
    "executionInfo": {
     "elapsed": 32761,
     "status": "aborted",
     "timestamp": 1608654663476,
     "user": {
      "displayName": "Luis DEL POZO",
      "photoUrl": "",
      "userId": "08297678491184687059"
     },
     "user_tz": -60
    },
    "id": "qCFPw5FBppiq"
   },
   "outputs": [],
   "source": [
    "df6.fillna(0)"
   ]
  },
  {
   "cell_type": "code",
   "execution_count": null,
   "metadata": {
    "executionInfo": {
     "elapsed": 32752,
     "status": "aborted",
     "timestamp": 1608654663476,
     "user": {
      "displayName": "Luis DEL POZO",
      "photoUrl": "",
      "userId": "08297678491184687059"
     },
     "user_tz": -60
    },
    "id": "_2JW5-C9ppiq"
   },
   "outputs": [],
   "source": [
    "df6.fillna({'x' : 100, 'y' : 50, 'z' : 20})"
   ]
  },
  {
   "cell_type": "code",
   "execution_count": null,
   "metadata": {
    "executionInfo": {
     "elapsed": 32745,
     "status": "aborted",
     "timestamp": 1608654663477,
     "user": {
      "displayName": "Luis DEL POZO",
      "photoUrl": "",
      "userId": "08297678491184687059"
     },
     "user_tz": -60
    },
    "id": "C0OnyZ4Uppiq"
   },
   "outputs": [],
   "source": [
    "df6"
   ]
  },
  {
   "cell_type": "code",
   "execution_count": null,
   "metadata": {
    "executionInfo": {
     "elapsed": 32738,
     "status": "aborted",
     "timestamp": 1608654663478,
     "user": {
      "displayName": "Luis DEL POZO",
      "photoUrl": "",
      "userId": "08297678491184687059"
     },
     "user_tz": -60
    },
    "id": "OaNb0D5Lppiq"
   },
   "outputs": [],
   "source": [
    "df6.fillna(method='ffill')"
   ]
  },
  {
   "cell_type": "code",
   "execution_count": null,
   "metadata": {
    "executionInfo": {
     "elapsed": 32730,
     "status": "aborted",
     "timestamp": 1608654663478,
     "user": {
      "displayName": "Luis DEL POZO",
      "photoUrl": "",
      "userId": "08297678491184687059"
     },
     "user_tz": -60
    },
    "id": "0SCc8c6Sppiq"
   },
   "outputs": [],
   "source": [
    "df6.fillna(df6.median())"
   ]
  },
  {
   "cell_type": "code",
   "execution_count": null,
   "metadata": {
    "executionInfo": {
     "elapsed": 32723,
     "status": "aborted",
     "timestamp": 1608654663479,
     "user": {
      "displayName": "Luis DEL POZO",
      "photoUrl": "",
      "userId": "08297678491184687059"
     },
     "user_tz": -60
    },
    "id": "l_g-RSnUppiq",
    "scrolled": true
   },
   "outputs": [],
   "source": [
    "df6.median()"
   ]
  },
  {
   "cell_type": "markdown",
   "metadata": {
    "id": "LgYETBqeppiq"
   },
   "source": [
    "# Loading and saving data"
   ]
  },
  {
   "cell_type": "markdown",
   "metadata": {
    "collapsed": true,
    "id": "59gcEppoppiq"
   },
   "source": [
    "## Loading CSV"
   ]
  },
  {
   "cell_type": "markdown",
   "metadata": {
    "id": "6nko4hqaIPus"
   },
   "source": [
    "Let's load information coming from the [US government bureau of Transportation Statistics](https://www.transtats.bts.gov/Tables.asp?DB_ID=111). For convenience, I've made this table available for you from Drive:"
   ]
  },
  {
   "cell_type": "code",
   "execution_count": null,
   "metadata": {
    "executionInfo": {
     "elapsed": 32717,
     "status": "aborted",
     "timestamp": 1608654663480,
     "user": {
      "displayName": "Luis DEL POZO",
      "photoUrl": "",
      "userId": "08297678491184687059"
     },
     "user_tz": -60
    },
    "id": "YqpWOb1E4nut"
   },
   "outputs": [],
   "source": [
    "!wget https://bit.ly/ks-pds-csv3 -O {files_loc}/T100I_SEGMENT_ALL_CARRIER.csv"
   ]
  },
  {
   "cell_type": "markdown",
   "metadata": {
    "id": "GtebGY3Qppiq"
   },
   "source": [
    "Make sure the file is there, and store the path in a Python variable using a Linux shell filter:"
   ]
  },
  {
   "cell_type": "code",
   "execution_count": null,
   "metadata": {
    "executionInfo": {
     "elapsed": 32711,
     "status": "aborted",
     "timestamp": 1608654663481,
     "user": {
      "displayName": "Luis DEL POZO",
      "photoUrl": "",
      "userId": "08297678491184687059"
     },
     "user_tz": -60
    },
    "id": "cVUz4nubJAZW"
   },
   "outputs": [],
   "source": [
    "!ls {files_loc}"
   ]
  },
  {
   "cell_type": "code",
   "execution_count": null,
   "metadata": {
    "executionInfo": {
     "elapsed": 32710,
     "status": "aborted",
     "timestamp": 1608654663482,
     "user": {
      "displayName": "Luis DEL POZO",
      "photoUrl": "",
      "userId": "08297678491184687059"
     },
     "user_tz": -60
    },
    "id": "3lpRIy6t4AFN"
   },
   "outputs": [],
   "source": [
    "contents = !ls {files_loc}/T100I_SEGMENT_ALL_CARRIER.csv\n",
    "csv_file = contents[0] #storing the first occurrence of the filter, should be our file"
   ]
  },
  {
   "cell_type": "code",
   "execution_count": null,
   "metadata": {
    "executionInfo": {
     "elapsed": 32710,
     "status": "aborted",
     "timestamp": 1608654663483,
     "user": {
      "displayName": "Luis DEL POZO",
      "photoUrl": "",
      "userId": "08297678491184687059"
     },
     "user_tz": -60
    },
    "id": "qp2kM3ijppiq"
   },
   "outputs": [],
   "source": [
    "trafficDf = pd.read_csv(csv_file)"
   ]
  },
  {
   "cell_type": "code",
   "execution_count": null,
   "metadata": {
    "executionInfo": {
     "elapsed": 32704,
     "status": "aborted",
     "timestamp": 1608654663484,
     "user": {
      "displayName": "Luis DEL POZO",
      "photoUrl": "",
      "userId": "08297678491184687059"
     },
     "user_tz": -60
    },
    "id": "NBFCpgJYppiq"
   },
   "outputs": [],
   "source": [
    "len(trafficDf)"
   ]
  },
  {
   "cell_type": "code",
   "execution_count": null,
   "metadata": {
    "executionInfo": {
     "elapsed": 32696,
     "status": "aborted",
     "timestamp": 1608654663485,
     "user": {
      "displayName": "Luis DEL POZO",
      "photoUrl": "",
      "userId": "08297678491184687059"
     },
     "user_tz": -60
    },
    "id": "tipm1vNSppiq"
   },
   "outputs": [],
   "source": [
    "trafficDf.head()"
   ]
  },
  {
   "cell_type": "markdown",
   "metadata": {
    "collapsed": true,
    "id": "URoeGvitppiq"
   },
   "source": [
    "## Saving to Excel"
   ]
  },
  {
   "cell_type": "markdown",
   "metadata": {
    "id": "4phFUAgSJZ34"
   },
   "source": [
    "Let's save the first 1000 rows of the dataframe in an Excel file:"
   ]
  },
  {
   "cell_type": "code",
   "execution_count": null,
   "metadata": {
    "executionInfo": {
     "elapsed": 32695,
     "status": "aborted",
     "timestamp": 1608654663485,
     "user": {
      "displayName": "Luis DEL POZO",
      "photoUrl": "",
      "userId": "08297678491184687059"
     },
     "user_tz": -60
    },
    "id": "8CTrnFOjppiq"
   },
   "outputs": [],
   "source": [
    "trafficDf.head(100).to_excel(os.path.join(files_loc, \"excel_output_2.xls\"))"
   ]
  },
  {
   "cell_type": "markdown",
   "metadata": {
    "id": "FjGbGU4EJg2S"
   },
   "source": [
    "Again, check that the file got generated. If you've got Office, you can test this is indeed a proper excel file:"
   ]
  },
  {
   "cell_type": "code",
   "execution_count": null,
   "metadata": {
    "executionInfo": {
     "elapsed": 32689,
     "status": "aborted",
     "timestamp": 1608654663486,
     "user": {
      "displayName": "Luis DEL POZO",
      "photoUrl": "",
      "userId": "08297678491184687059"
     },
     "user_tz": -60
    },
    "id": "Bbe6LYzD4_bc"
   },
   "outputs": [],
   "source": [
    "!ls {files_loc}/*.xls"
   ]
  },
  {
   "cell_type": "markdown",
   "metadata": {
    "collapsed": true,
    "id": "OEeLCrKPppiq"
   },
   "source": [
    "## Saving to CSV"
   ]
  },
  {
   "cell_type": "markdown",
   "metadata": {
    "id": "-3JdVdyWJpwL"
   },
   "source": [
    "Now, let's truncate our existing dataframe and save the first 10 rows into another CSV:"
   ]
  },
  {
   "cell_type": "code",
   "execution_count": null,
   "metadata": {
    "executionInfo": {
     "elapsed": 32681,
     "status": "aborted",
     "timestamp": 1608654663487,
     "user": {
      "displayName": "Luis DEL POZO",
      "photoUrl": "",
      "userId": "08297678491184687059"
     },
     "user_tz": -60
    },
    "id": "cSRCQwO6ppiq",
    "scrolled": true
   },
   "outputs": [],
   "source": [
    "trafficDf.head(10).to_csv()"
   ]
  },
  {
   "cell_type": "code",
   "execution_count": null,
   "metadata": {
    "executionInfo": {
     "elapsed": 32680,
     "status": "aborted",
     "timestamp": 1608654663488,
     "user": {
      "displayName": "Luis DEL POZO",
      "photoUrl": "",
      "userId": "08297678491184687059"
     },
     "user_tz": -60
    },
    "id": "vRDpkTgappiq"
   },
   "outputs": [],
   "source": [
    "trafficDf.head(100).to_csv(os.path.join(files_loc, \"out.csv_2\"))"
   ]
  },
  {
   "cell_type": "code",
   "execution_count": null,
   "metadata": {
    "executionInfo": {
     "elapsed": 32668,
     "status": "aborted",
     "timestamp": 1608654663488,
     "user": {
      "displayName": "Luis DEL POZO",
      "photoUrl": "",
      "userId": "08297678491184687059"
     },
     "user_tz": -60
    },
    "id": "rhjegEmp5Q2w"
   },
   "outputs": [],
   "source": [
    "!ls {files_loc}/*.csv"
   ]
  },
  {
   "cell_type": "markdown",
   "metadata": {
    "collapsed": true,
    "id": "XW7oSQpTppir"
   },
   "source": [
    "## To Sql Database"
   ]
  },
  {
   "cell_type": "markdown",
   "metadata": {
    "id": "4kJKaduXJzWh"
   },
   "source": [
    "Saving to a database with Pandas is trivial as well. For testing purposes, we'll be using a file-based sqlite3 database that we're creating from code:"
   ]
  },
  {
   "cell_type": "code",
   "execution_count": null,
   "metadata": {
    "executionInfo": {
     "elapsed": 32668,
     "status": "aborted",
     "timestamp": 1608654663489,
     "user": {
      "displayName": "Luis DEL POZO",
      "photoUrl": "",
      "userId": "08297678491184687059"
     },
     "user_tz": -60
    },
    "id": "v4eKRMmhppir"
   },
   "outputs": [],
   "source": [
    "import sqlite3\n",
    "conn = sqlite3.connect(os.path.join(files_loc,'example.db_2'))"
   ]
  },
  {
   "cell_type": "code",
   "execution_count": null,
   "metadata": {
    "executionInfo": {
     "elapsed": 32661,
     "status": "aborted",
     "timestamp": 1608654663489,
     "user": {
      "displayName": "Luis DEL POZO",
      "photoUrl": "",
      "userId": "08297678491184687059"
     },
     "user_tz": -60
    },
    "id": "fSxVplJOppir"
   },
   "outputs": [],
   "source": [
    "trafficDf.to_sql('traffic',conn, if_exists='replace')"
   ]
  },
  {
   "cell_type": "code",
   "execution_count": null,
   "metadata": {
    "executionInfo": {
     "elapsed": 32657,
     "status": "aborted",
     "timestamp": 1608654663491,
     "user": {
      "displayName": "Luis DEL POZO",
      "photoUrl": "",
      "userId": "08297678491184687059"
     },
     "user_tz": -60
    },
    "id": "ruBc-XJS50vN"
   },
   "outputs": [],
   "source": [
    "!ls {files_loc}"
   ]
  },
  {
   "cell_type": "markdown",
   "metadata": {
    "collapsed": true,
    "id": "xXwtLD3gppir"
   },
   "source": [
    "## To dictionary and to json"
   ]
  },
  {
   "cell_type": "markdown",
   "metadata": {
    "id": "Ar7hJt1d6SVH"
   },
   "source": [
    "See documentation of [pandas.DataFrame.to_dict](https://pandas.pydata.org/pandas-docs/stable/reference/api/pandas.DataFrame.to_dict.html) to understand different options for converting DataFrames to dictionaries:"
   ]
  },
  {
   "cell_type": "code",
   "execution_count": null,
   "metadata": {
    "executionInfo": {
     "elapsed": 32651,
     "status": "aborted",
     "timestamp": 1608654663491,
     "user": {
      "displayName": "Luis DEL POZO",
      "photoUrl": "",
      "userId": "08297678491184687059"
     },
     "user_tz": -60
    },
    "id": "VdZvPKKQppir",
    "scrolled": true
   },
   "outputs": [],
   "source": [
    "trafficDf.head(2).to_dict(orient='records')"
   ]
  },
  {
   "cell_type": "markdown",
   "metadata": {
    "id": "8vmoVG1wKAZn"
   },
   "source": [
    "Converting to JSON is quite similar:"
   ]
  },
  {
   "cell_type": "code",
   "execution_count": null,
   "metadata": {
    "executionInfo": {
     "elapsed": 32642,
     "status": "aborted",
     "timestamp": 1608654663492,
     "user": {
      "displayName": "Luis DEL POZO",
      "photoUrl": "",
      "userId": "08297678491184687059"
     },
     "user_tz": -60
    },
    "id": "f4bfoOOLppir"
   },
   "outputs": [],
   "source": [
    "trafficDf.head(2).to_json(orient='records')"
   ]
  },
  {
   "cell_type": "markdown",
   "metadata": {
    "id": "hEhJCaDmppir"
   },
   "source": [
    "## Reading Excel"
   ]
  },
  {
   "cell_type": "markdown",
   "metadata": {
    "id": "xDk7w0aRKFbI"
   },
   "source": [
    "To practice reading from Excel, let's load what we saved previously:"
   ]
  },
  {
   "cell_type": "code",
   "execution_count": null,
   "metadata": {
    "executionInfo": {
     "elapsed": 32642,
     "status": "aborted",
     "timestamp": 1608654663494,
     "user": {
      "displayName": "Luis DEL POZO",
      "photoUrl": "",
      "userId": "08297678491184687059"
     },
     "user_tz": -60
    },
    "id": "NmsLYMrVppir"
   },
   "outputs": [],
   "source": [
    "df2 = pd.read_excel(os.path.join(files_loc, \"excel_output.xls\"))"
   ]
  },
  {
   "cell_type": "code",
   "execution_count": null,
   "metadata": {
    "executionInfo": {
     "elapsed": 32636,
     "status": "aborted",
     "timestamp": 1608654663496,
     "user": {
      "displayName": "Luis DEL POZO",
      "photoUrl": "",
      "userId": "08297678491184687059"
     },
     "user_tz": -60
    },
    "id": "FWBY9OMzppir"
   },
   "outputs": [],
   "source": [
    "df2.head()"
   ]
  },
  {
   "cell_type": "markdown",
   "metadata": {
    "id": "63Q9T-GhKMkt"
   },
   "source": [
    "If you explore the columns in the database above, you'll realize we brought back some unexpected visitors (columns named \"Unnamed\", in this case mostly from the own row system in Excel). If you do not want them (for example, to preserve the original dataframe structure that we saved above), you can apply a filter like the following:"
   ]
  },
  {
   "cell_type": "code",
   "execution_count": null,
   "metadata": {
    "executionInfo": {
     "elapsed": 32630,
     "status": "aborted",
     "timestamp": 1608654663498,
     "user": {
      "displayName": "Luis DEL POZO",
      "photoUrl": "",
      "userId": "08297678491184687059"
     },
     "user_tz": -60
    },
    "id": "kokK29zBUNG4"
   },
   "outputs": [],
   "source": [
    "type(df2)"
   ]
  },
  {
   "cell_type": "code",
   "execution_count": null,
   "metadata": {
    "executionInfo": {
     "elapsed": 32623,
     "status": "aborted",
     "timestamp": 1608654663499,
     "user": {
      "displayName": "Luis DEL POZO",
      "photoUrl": "",
      "userId": "08297678491184687059"
     },
     "user_tz": -60
    },
    "id": "dorWYgBX7LeC"
   },
   "outputs": [],
   "source": [
    "df2 = df2.loc[:, ~df2.columns.str.contains('^Unnamed')]\n",
    "df2.head()"
   ]
  },
  {
   "cell_type": "code",
   "execution_count": null,
   "metadata": {
    "executionInfo": {
     "elapsed": 32617,
     "status": "aborted",
     "timestamp": 1608654663500,
     "user": {
      "displayName": "Luis DEL POZO",
      "photoUrl": "",
      "userId": "08297678491184687059"
     },
     "user_tz": -60
    },
    "id": "TmUyqD0jYWQn"
   },
   "outputs": [],
   "source": [
    "df2.shape"
   ]
  },
  {
   "cell_type": "code",
   "execution_count": null,
   "metadata": {
    "executionInfo": {
     "elapsed": 32611,
     "status": "aborted",
     "timestamp": 1608654663501,
     "user": {
      "displayName": "Luis DEL POZO",
      "photoUrl": "",
      "userId": "08297678491184687059"
     },
     "user_tz": -60
    },
    "id": "LfsX9h9oYgr1"
   },
   "outputs": [],
   "source": [
    "type(df2)"
   ]
  },
  {
   "cell_type": "code",
   "execution_count": null,
   "metadata": {
    "executionInfo": {
     "elapsed": 32605,
     "status": "aborted",
     "timestamp": 1608654663502,
     "user": {
      "displayName": "Luis DEL POZO",
      "photoUrl": "",
      "userId": "08297678491184687059"
     },
     "user_tz": -60
    },
    "id": "1AIorS5uYEuE"
   },
   "outputs": [],
   "source": [
    "type(df2.columns.str.contains('^Unnamed'))"
   ]
  },
  {
   "cell_type": "code",
   "execution_count": null,
   "metadata": {
    "executionInfo": {
     "elapsed": 32597,
     "status": "aborted",
     "timestamp": 1608654663502,
     "user": {
      "displayName": "Luis DEL POZO",
      "photoUrl": "",
      "userId": "08297678491184687059"
     },
     "user_tz": -60
    },
    "id": "enRrtReBfCnf"
   },
   "outputs": [],
   "source": [
    "type(df2.columns)"
   ]
  },
  {
   "cell_type": "markdown",
   "metadata": {
    "id": "hEuOtq217-oH"
   },
   "source": [
    "But we could avoid cleaning up unnamed columns by loading the Excel the right way:"
   ]
  },
  {
   "cell_type": "code",
   "execution_count": null,
   "metadata": {
    "executionInfo": {
     "elapsed": 32590,
     "status": "aborted",
     "timestamp": 1608654663503,
     "user": {
      "displayName": "Luis DEL POZO",
      "photoUrl": "",
      "userId": "08297678491184687059"
     },
     "user_tz": -60
    },
    "id": "w0SwYkZH7QIA"
   },
   "outputs": [],
   "source": [
    "df2 = pd.read_excel(os.path.join(files_loc, \"excel_output.xls\"), index_col=0)\n",
    "df2.head()"
   ]
  },
  {
   "cell_type": "markdown",
   "metadata": {
    "id": "dun-5ujcKvIJ"
   },
   "source": [
    "### The challenge\n",
    "\n",
    "Let's download data from car accidents in Madrid straight from the source and explore the data a bit to understand the structure. You'll be doing an data consolidation exercise afterwards:"
   ]
  },
  {
   "cell_type": "code",
   "execution_count": 4,
   "metadata": {
    "colab": {
     "base_uri": "https://localhost:8080/"
    },
    "executionInfo": {
     "elapsed": 3115,
     "status": "ok",
     "timestamp": 1608717644598,
     "user": {
      "displayName": "Luis DEL POZO",
      "photoUrl": "",
      "userId": "08297678491184687059"
     },
     "user_tz": -60
    },
    "id": "a-nk1-pWppir",
    "outputId": "eb387f89-fb84-4641-8bcf-f345514df9ec"
   },
   "outputs": [
    {
     "name": "stdout",
     "output_type": "stream",
     "text": [
      "--2020-12-23 10:00:39--  https://datos.madrid.es/egob/catalogo/207831-0-accidentes-trafico.xls\n",
      "Resolving datos.madrid.es (datos.madrid.es)... 23.203.48.143, 23.203.48.140, 2600:1402:3800::1706:7621, ...\n",
      "Connecting to datos.madrid.es (datos.madrid.es)|23.203.48.143|:443... connected.\n",
      "HTTP request sent, awaiting response... 302 Moved Temporarily\n",
      "Location: https://datos.madrid.es:443/egobfiles/MANUAL/207831/01_%20ACCIDENTES%20POR%20TIPO%20EN%20%20DISTRITOS.xls [following]\n",
      "--2020-12-23 10:00:40--  https://datos.madrid.es/egobfiles/MANUAL/207831/01_%20ACCIDENTES%20POR%20TIPO%20EN%20%20DISTRITOS.xls\n",
      "Reusing existing connection to datos.madrid.es:443.\n",
      "HTTP request sent, awaiting response... 200 OK\n",
      "Length: unspecified [application/vnd.ms-excel]\n",
      "Saving to: ‘/content/gdrive/MyDrive/pdsfiles/207831-0-accidentes-trafico.xls.6’\n",
      "\n",
      "207831-0-accidentes     [ <=>                ]  60.50K  --.-KB/s    in 0.01s   \n",
      "\n",
      "2020-12-23 10:00:41 (4.51 MB/s) - ‘/content/gdrive/MyDrive/pdsfiles/207831-0-accidentes-trafico.xls.6’ saved [61952]\n",
      "\n"
     ]
    }
   ],
   "source": [
    "!wget https://datos.madrid.es/egob/catalogo/207831-0-accidentes-trafico.xls -P {files_loc}"
   ]
  },
  {
   "cell_type": "markdown",
   "metadata": {
    "id": "zEszX_pGLL7t"
   },
   "source": [
    "Again, we store the full file path into a Python variable for convenience:"
   ]
  },
  {
   "cell_type": "code",
   "execution_count": 5,
   "metadata": {
    "executionInfo": {
     "elapsed": 685,
     "status": "ok",
     "timestamp": 1608717648945,
     "user": {
      "displayName": "Luis DEL POZO",
      "photoUrl": "",
      "userId": "08297678491184687059"
     },
     "user_tz": -60
    },
    "id": "CX41AYrgppir"
   },
   "outputs": [],
   "source": [
    "contents = !ls {files_loc}/*accidentes*\n",
    "file_path = contents[0]"
   ]
  },
  {
   "cell_type": "markdown",
   "metadata": {
    "id": "J1xcNhhiLSlH"
   },
   "source": [
    "Then, we read the file and explore the structure:"
   ]
  },
  {
   "cell_type": "code",
   "execution_count": 6,
   "metadata": {
    "colab": {
     "base_uri": "https://localhost:8080/",
     "height": 415
    },
    "executionInfo": {
     "elapsed": 822,
     "status": "ok",
     "timestamp": 1608717652652,
     "user": {
      "displayName": "Luis DEL POZO",
      "photoUrl": "",
      "userId": "08297678491184687059"
     },
     "user_tz": -60
    },
    "id": "HpsEXVgP81IX",
    "outputId": "b73b76f8-1841-47be-b818-5b8b3361d366"
   },
   "outputs": [
    {
     "data": {
      "text/html": [
       "<div>\n",
       "<style scoped>\n",
       "    .dataframe tbody tr th:only-of-type {\n",
       "        vertical-align: middle;\n",
       "    }\n",
       "\n",
       "    .dataframe tbody tr th {\n",
       "        vertical-align: top;\n",
       "    }\n",
       "\n",
       "    .dataframe thead th {\n",
       "        text-align: right;\n",
       "    }\n",
       "</style>\n",
       "<table border=\"1\" class=\"dataframe\">\n",
       "  <thead>\n",
       "    <tr style=\"text-align: right;\">\n",
       "      <th></th>\n",
       "      <th>01. ACCIDENTES POR TIPO EN DISTRITOS</th>\n",
       "      <th>Unnamed: 1</th>\n",
       "      <th>Unnamed: 2</th>\n",
       "      <th>Unnamed: 3</th>\n",
       "      <th>Unnamed: 4</th>\n",
       "      <th>Unnamed: 5</th>\n",
       "      <th>Unnamed: 6</th>\n",
       "      <th>Unnamed: 7</th>\n",
       "      <th>Unnamed: 8</th>\n",
       "      <th>Unnamed: 9</th>\n",
       "      <th>Unnamed: 10</th>\n",
       "      <th>Unnamed: 11</th>\n",
       "    </tr>\n",
       "  </thead>\n",
       "  <tbody>\n",
       "    <tr>\n",
       "      <th>0</th>\n",
       "      <td>NaN</td>\n",
       "      <td>NaN</td>\n",
       "      <td>NaN</td>\n",
       "      <td>NaN</td>\n",
       "      <td>NaN</td>\n",
       "      <td>NaN</td>\n",
       "      <td>NaN</td>\n",
       "      <td>NaN</td>\n",
       "      <td>NaN</td>\n",
       "      <td>NaN</td>\n",
       "      <td>NaN</td>\n",
       "      <td>NaN</td>\n",
       "    </tr>\n",
       "    <tr>\n",
       "      <th>1</th>\n",
       "      <td>NaN</td>\n",
       "      <td>NaN</td>\n",
       "      <td>NaN</td>\n",
       "      <td>NaN</td>\n",
       "      <td>NaN</td>\n",
       "      <td>NaN</td>\n",
       "      <td>NaN</td>\n",
       "      <td>NaN</td>\n",
       "      <td>NaN</td>\n",
       "      <td>NaN</td>\n",
       "      <td>NaN</td>\n",
       "      <td>NaN</td>\n",
       "    </tr>\n",
       "    <tr>\n",
       "      <th>2</th>\n",
       "      <td>NaN</td>\n",
       "      <td>NaN</td>\n",
       "      <td>NaN</td>\n",
       "      <td>NaN</td>\n",
       "      <td>NaN</td>\n",
       "      <td>NaN</td>\n",
       "      <td>NaN</td>\n",
       "      <td>NaN</td>\n",
       "      <td>NaN</td>\n",
       "      <td>NaN</td>\n",
       "      <td>NaN</td>\n",
       "      <td>NaN</td>\n",
       "    </tr>\n",
       "    <tr>\n",
       "      <th>3</th>\n",
       "      <td>NaN</td>\n",
       "      <td>NaN</td>\n",
       "      <td>NaN</td>\n",
       "      <td>NaN</td>\n",
       "      <td>NaN</td>\n",
       "      <td>NaN</td>\n",
       "      <td>NaN</td>\n",
       "      <td>NaN</td>\n",
       "      <td>NaN</td>\n",
       "      <td>NaN</td>\n",
       "      <td>NaN</td>\n",
       "      <td>NaN</td>\n",
       "    </tr>\n",
       "    <tr>\n",
       "      <th>4</th>\n",
       "      <td>Indicadores</td>\n",
       "      <td>Nº Accidentes</td>\n",
       "      <td>NaN</td>\n",
       "      <td>NaN</td>\n",
       "      <td>NaN</td>\n",
       "      <td>NaN</td>\n",
       "      <td>NaN</td>\n",
       "      <td>NaN</td>\n",
       "      <td>NaN</td>\n",
       "      <td>NaN</td>\n",
       "      <td>NaN</td>\n",
       "      <td>NaN</td>\n",
       "    </tr>\n",
       "    <tr>\n",
       "      <th>5</th>\n",
       "      <td>Año</td>\n",
       "      <td>2009</td>\n",
       "      <td>NaN</td>\n",
       "      <td>NaN</td>\n",
       "      <td>NaN</td>\n",
       "      <td>NaN</td>\n",
       "      <td>NaN</td>\n",
       "      <td>NaN</td>\n",
       "      <td>NaN</td>\n",
       "      <td>NaN</td>\n",
       "      <td>NaN</td>\n",
       "      <td>Total</td>\n",
       "    </tr>\n",
       "    <tr>\n",
       "      <th>6</th>\n",
       "      <td>DISTRITO_ACCIDENTE</td>\n",
       "      <td>COLISIÓN DOBLE</td>\n",
       "      <td>COLISIÓN MÚLTIPLE</td>\n",
       "      <td>CHOQUE CON OBJETO FIJO</td>\n",
       "      <td>ATROPELLO</td>\n",
       "      <td>VUELCO</td>\n",
       "      <td>CAÍDA MOTOCICLETA</td>\n",
       "      <td>CAÍDA CICLOMOTOR</td>\n",
       "      <td>CAÍDA BICICLETA</td>\n",
       "      <td>CAÍDA VIAJERO BUS</td>\n",
       "      <td>OTRAS CAUSAS</td>\n",
       "      <td>NaN</td>\n",
       "    </tr>\n",
       "    <tr>\n",
       "      <th>7</th>\n",
       "      <td>ARGANZUELA</td>\n",
       "      <td>389</td>\n",
       "      <td>54</td>\n",
       "      <td>126</td>\n",
       "      <td>75</td>\n",
       "      <td>9</td>\n",
       "      <td>43</td>\n",
       "      <td>9</td>\n",
       "      <td>4</td>\n",
       "      <td>5</td>\n",
       "      <td>8</td>\n",
       "      <td>722</td>\n",
       "    </tr>\n",
       "    <tr>\n",
       "      <th>8</th>\n",
       "      <td>BARAJAS</td>\n",
       "      <td>89</td>\n",
       "      <td>6</td>\n",
       "      <td>53</td>\n",
       "      <td>21</td>\n",
       "      <td>NaN</td>\n",
       "      <td>12</td>\n",
       "      <td>2</td>\n",
       "      <td>1</td>\n",
       "      <td>2</td>\n",
       "      <td>2</td>\n",
       "      <td>188</td>\n",
       "    </tr>\n",
       "    <tr>\n",
       "      <th>9</th>\n",
       "      <td>CARABANCHEL</td>\n",
       "      <td>375</td>\n",
       "      <td>44</td>\n",
       "      <td>171</td>\n",
       "      <td>137</td>\n",
       "      <td>8</td>\n",
       "      <td>36</td>\n",
       "      <td>13</td>\n",
       "      <td>6</td>\n",
       "      <td>9</td>\n",
       "      <td>8</td>\n",
       "      <td>807</td>\n",
       "    </tr>\n",
       "  </tbody>\n",
       "</table>\n",
       "</div>"
      ],
      "text/plain": [
       "  01. ACCIDENTES POR TIPO EN DISTRITOS  ... Unnamed: 11\n",
       "0                                  NaN  ...         NaN\n",
       "1                                  NaN  ...         NaN\n",
       "2                                  NaN  ...         NaN\n",
       "3                                  NaN  ...         NaN\n",
       "4                          Indicadores  ...         NaN\n",
       "5                                  Año  ...       Total\n",
       "6                   DISTRITO_ACCIDENTE  ...         NaN\n",
       "7       ARGANZUELA                      ...         722\n",
       "8       BARAJAS                         ...         188\n",
       "9       CARABANCHEL                     ...         807\n",
       "\n",
       "[10 rows x 12 columns]"
      ]
     },
     "execution_count": 6,
     "metadata": {
      "tags": []
     },
     "output_type": "execute_result"
    }
   ],
   "source": [
    "df_accidentes = pd.read_excel(file_path)\n",
    "\n",
    "df_accidentes.head(10)"
   ]
  },
  {
   "cell_type": "markdown",
   "metadata": {
    "id": "IRmf7s2HLXqF"
   },
   "source": [
    "There are plenty of options we can use when reading an Excel file, here are some of them where we're selecting specific ranges of data and a named sheet from the full worksheet:"
   ]
  },
  {
   "cell_type": "code",
   "execution_count": 7,
   "metadata": {
    "colab": {
     "base_uri": "https://localhost:8080/",
     "height": 255
    },
    "executionInfo": {
     "elapsed": 589,
     "status": "ok",
     "timestamp": 1608717656645,
     "user": {
      "displayName": "Luis DEL POZO",
      "photoUrl": "",
      "userId": "08297678491184687059"
     },
     "user_tz": -60
    },
    "id": "1dlNjCTeppir",
    "outputId": "e038bb8d-2a4e-4e27-b195-0670d4304754"
   },
   "outputs": [
    {
     "data": {
      "text/html": [
       "<div>\n",
       "<style scoped>\n",
       "    .dataframe tbody tr th:only-of-type {\n",
       "        vertical-align: middle;\n",
       "    }\n",
       "\n",
       "    .dataframe tbody tr th {\n",
       "        vertical-align: top;\n",
       "    }\n",
       "\n",
       "    .dataframe thead th {\n",
       "        text-align: right;\n",
       "    }\n",
       "</style>\n",
       "<table border=\"1\" class=\"dataframe\">\n",
       "  <thead>\n",
       "    <tr style=\"text-align: right;\">\n",
       "      <th></th>\n",
       "      <th>COLISIÓN DOBLE</th>\n",
       "      <th>COLISIÓN MÚLTIPLE</th>\n",
       "      <th>CHOQUE CON OBJETO FIJO</th>\n",
       "      <th>ATROPELLO</th>\n",
       "      <th>VUELCO</th>\n",
       "      <th>CAÍDA MOTOCICLETA</th>\n",
       "      <th>CAÍDA CICLOMOTOR</th>\n",
       "      <th>CAÍDA BICICLETA</th>\n",
       "      <th>CAÍDA VIAJERO BUS</th>\n",
       "      <th>OTRAS CAUSAS</th>\n",
       "      <th>CAÍDA VEHÍCULO 3 RUEDAS</th>\n",
       "    </tr>\n",
       "    <tr>\n",
       "      <th>DISTRITO_ACCIDENTE</th>\n",
       "      <th></th>\n",
       "      <th></th>\n",
       "      <th></th>\n",
       "      <th></th>\n",
       "      <th></th>\n",
       "      <th></th>\n",
       "      <th></th>\n",
       "      <th></th>\n",
       "      <th></th>\n",
       "      <th></th>\n",
       "      <th></th>\n",
       "    </tr>\n",
       "  </thead>\n",
       "  <tbody>\n",
       "    <tr>\n",
       "      <th>ARGANZUELA</th>\n",
       "      <td>328</td>\n",
       "      <td>62</td>\n",
       "      <td>86</td>\n",
       "      <td>57</td>\n",
       "      <td>1.0</td>\n",
       "      <td>46</td>\n",
       "      <td>12</td>\n",
       "      <td>10</td>\n",
       "      <td>6</td>\n",
       "      <td>2.0</td>\n",
       "      <td>NaN</td>\n",
       "    </tr>\n",
       "    <tr>\n",
       "      <th>BARAJAS</th>\n",
       "      <td>95</td>\n",
       "      <td>6</td>\n",
       "      <td>50</td>\n",
       "      <td>34</td>\n",
       "      <td>4.0</td>\n",
       "      <td>12</td>\n",
       "      <td>2</td>\n",
       "      <td>4</td>\n",
       "      <td>2</td>\n",
       "      <td>4.0</td>\n",
       "      <td>NaN</td>\n",
       "    </tr>\n",
       "    <tr>\n",
       "      <th>CARABANCHEL</th>\n",
       "      <td>346</td>\n",
       "      <td>55</td>\n",
       "      <td>121</td>\n",
       "      <td>106</td>\n",
       "      <td>5.0</td>\n",
       "      <td>53</td>\n",
       "      <td>18</td>\n",
       "      <td>7</td>\n",
       "      <td>8</td>\n",
       "      <td>6.0</td>\n",
       "      <td>NaN</td>\n",
       "    </tr>\n",
       "    <tr>\n",
       "      <th>CENTRO</th>\n",
       "      <td>444</td>\n",
       "      <td>23</td>\n",
       "      <td>172</td>\n",
       "      <td>144</td>\n",
       "      <td>NaN</td>\n",
       "      <td>97</td>\n",
       "      <td>11</td>\n",
       "      <td>33</td>\n",
       "      <td>5</td>\n",
       "      <td>3.0</td>\n",
       "      <td>NaN</td>\n",
       "    </tr>\n",
       "    <tr>\n",
       "      <th>CHAMARTIN</th>\n",
       "      <td>499</td>\n",
       "      <td>59</td>\n",
       "      <td>122</td>\n",
       "      <td>80</td>\n",
       "      <td>5.0</td>\n",
       "      <td>105</td>\n",
       "      <td>14</td>\n",
       "      <td>8</td>\n",
       "      <td>5</td>\n",
       "      <td>7.0</td>\n",
       "      <td>NaN</td>\n",
       "    </tr>\n",
       "  </tbody>\n",
       "</table>\n",
       "</div>"
      ],
      "text/plain": [
       "                                COLISIÓN DOBLE                            ...  CAÍDA VEHÍCULO 3 RUEDAS                 \n",
       "DISTRITO_ACCIDENTE                                                        ...                                          \n",
       "ARGANZUELA                                                           328  ...                                       NaN\n",
       "BARAJAS                                                               95  ...                                       NaN\n",
       "CARABANCHEL                                                          346  ...                                       NaN\n",
       "CENTRO                                                               444  ...                                       NaN\n",
       "CHAMARTIN                                                            499  ...                                       NaN\n",
       "\n",
       "[5 rows x 11 columns]"
      ]
     },
     "execution_count": 7,
     "metadata": {
      "tags": []
     },
     "output_type": "execute_result"
    }
   ],
   "source": [
    "df_accidentes = pd.read_excel(file_path, sheet_name='2016', index_col=0, skiprows=7, skipfooter=1, usecols='A:L')\n",
    "\n",
    "df_accidentes.head()"
   ]
  },
  {
   "cell_type": "code",
   "execution_count": 8,
   "metadata": {
    "colab": {
     "base_uri": "https://localhost:8080/",
     "height": 272
    },
    "executionInfo": {
     "elapsed": 556,
     "status": "ok",
     "timestamp": 1608717664750,
     "user": {
      "displayName": "Luis DEL POZO",
      "photoUrl": "",
      "userId": "08297678491184687059"
     },
     "user_tz": -60
    },
    "id": "ea7zz1Y8Q-sh",
    "outputId": "6e3bc6c2-f03c-46ca-a4de-b59476125cc1"
   },
   "outputs": [
    {
     "data": {
      "text/html": [
       "<div>\n",
       "<style scoped>\n",
       "    .dataframe tbody tr th:only-of-type {\n",
       "        vertical-align: middle;\n",
       "    }\n",
       "\n",
       "    .dataframe tbody tr th {\n",
       "        vertical-align: top;\n",
       "    }\n",
       "\n",
       "    .dataframe thead th {\n",
       "        text-align: right;\n",
       "    }\n",
       "</style>\n",
       "<table border=\"1\" class=\"dataframe\">\n",
       "  <thead>\n",
       "    <tr style=\"text-align: right;\">\n",
       "      <th></th>\n",
       "      <th>COLISIÓN DOBLE</th>\n",
       "      <th>COLISIÓN MÚLTIPLE</th>\n",
       "      <th>CHOQUE CON OBJETO FIJO</th>\n",
       "      <th>ATROPELLO</th>\n",
       "      <th>VUELCO</th>\n",
       "      <th>CAÍDA MOTOCICLETA</th>\n",
       "      <th>CAÍDA CICLOMOTOR</th>\n",
       "      <th>CAÍDA BICICLETA</th>\n",
       "      <th>CAÍDA VIAJERO BUS</th>\n",
       "      <th>OTRAS CAUSAS</th>\n",
       "      <th>CAÍDA VEHÍCULO 3 RUEDAS</th>\n",
       "    </tr>\n",
       "    <tr>\n",
       "      <th>DISTRITO_ACCIDENTE</th>\n",
       "      <th></th>\n",
       "      <th></th>\n",
       "      <th></th>\n",
       "      <th></th>\n",
       "      <th></th>\n",
       "      <th></th>\n",
       "      <th></th>\n",
       "      <th></th>\n",
       "      <th></th>\n",
       "      <th></th>\n",
       "      <th></th>\n",
       "    </tr>\n",
       "  </thead>\n",
       "  <tbody>\n",
       "    <tr>\n",
       "      <th>TETUAN</th>\n",
       "      <td>330</td>\n",
       "      <td>43</td>\n",
       "      <td>70</td>\n",
       "      <td>91</td>\n",
       "      <td>NaN</td>\n",
       "      <td>73</td>\n",
       "      <td>25</td>\n",
       "      <td>13</td>\n",
       "      <td>5</td>\n",
       "      <td>3.0</td>\n",
       "      <td>NaN</td>\n",
       "    </tr>\n",
       "    <tr>\n",
       "      <th>USERA</th>\n",
       "      <td>206</td>\n",
       "      <td>27</td>\n",
       "      <td>74</td>\n",
       "      <td>75</td>\n",
       "      <td>2.0</td>\n",
       "      <td>16</td>\n",
       "      <td>2</td>\n",
       "      <td>5</td>\n",
       "      <td>4</td>\n",
       "      <td>1.0</td>\n",
       "      <td>NaN</td>\n",
       "    </tr>\n",
       "    <tr>\n",
       "      <th>VICALVARO</th>\n",
       "      <td>70</td>\n",
       "      <td>4</td>\n",
       "      <td>38</td>\n",
       "      <td>22</td>\n",
       "      <td>4.0</td>\n",
       "      <td>15</td>\n",
       "      <td>2</td>\n",
       "      <td>3</td>\n",
       "      <td>2</td>\n",
       "      <td>1.0</td>\n",
       "      <td>NaN</td>\n",
       "    </tr>\n",
       "    <tr>\n",
       "      <th>VILLA DE VALLECAS</th>\n",
       "      <td>149</td>\n",
       "      <td>7</td>\n",
       "      <td>42</td>\n",
       "      <td>54</td>\n",
       "      <td>5.0</td>\n",
       "      <td>26</td>\n",
       "      <td>4</td>\n",
       "      <td>4</td>\n",
       "      <td>1</td>\n",
       "      <td>3.0</td>\n",
       "      <td>NaN</td>\n",
       "    </tr>\n",
       "    <tr>\n",
       "      <th>VILLAVERDE</th>\n",
       "      <td>177</td>\n",
       "      <td>11</td>\n",
       "      <td>71</td>\n",
       "      <td>54</td>\n",
       "      <td>1.0</td>\n",
       "      <td>8</td>\n",
       "      <td>5</td>\n",
       "      <td>6</td>\n",
       "      <td>2</td>\n",
       "      <td>1.0</td>\n",
       "      <td>NaN</td>\n",
       "    </tr>\n",
       "  </tbody>\n",
       "</table>\n",
       "</div>"
      ],
      "text/plain": [
       "                                COLISIÓN DOBLE                            ...  CAÍDA VEHÍCULO 3 RUEDAS                 \n",
       "DISTRITO_ACCIDENTE                                                        ...                                          \n",
       "TETUAN                                                               330  ...                                       NaN\n",
       "USERA                                                                206  ...                                       NaN\n",
       "VICALVARO                                                             70  ...                                       NaN\n",
       "VILLA DE VALLECAS                                                    149  ...                                       NaN\n",
       "VILLAVERDE                                                           177  ...                                       NaN\n",
       "\n",
       "[5 rows x 11 columns]"
      ]
     },
     "execution_count": 8,
     "metadata": {
      "tags": []
     },
     "output_type": "execute_result"
    }
   ],
   "source": [
    "df_accidentes.tail()"
   ]
  },
  {
   "cell_type": "markdown",
   "metadata": {
    "id": "OtQSUA9DLlTi"
   },
   "source": [
    "Let's have a look at the data from 2010:"
   ]
  },
  {
   "cell_type": "code",
   "execution_count": 9,
   "metadata": {
    "colab": {
     "base_uri": "https://localhost:8080/",
     "height": 774
    },
    "executionInfo": {
     "elapsed": 482,
     "status": "ok",
     "timestamp": 1608717678206,
     "user": {
      "displayName": "Luis DEL POZO",
      "photoUrl": "",
      "userId": "08297678491184687059"
     },
     "user_tz": -60
    },
    "id": "SdgVJgH0ppir",
    "outputId": "de385890-629e-43f0-c8c5-dc82aa918c1b"
   },
   "outputs": [
    {
     "data": {
      "text/html": [
       "<div>\n",
       "<style scoped>\n",
       "    .dataframe tbody tr th:only-of-type {\n",
       "        vertical-align: middle;\n",
       "    }\n",
       "\n",
       "    .dataframe tbody tr th {\n",
       "        vertical-align: top;\n",
       "    }\n",
       "\n",
       "    .dataframe thead th {\n",
       "        text-align: right;\n",
       "    }\n",
       "</style>\n",
       "<table border=\"1\" class=\"dataframe\">\n",
       "  <thead>\n",
       "    <tr style=\"text-align: right;\">\n",
       "      <th></th>\n",
       "      <th>COLISIÓN DOBLE</th>\n",
       "      <th>COLISIÓN MÚLTIPLE</th>\n",
       "      <th>CHOQUE CON OBJETO FIJO</th>\n",
       "      <th>ATROPELLO</th>\n",
       "      <th>VUELCO</th>\n",
       "      <th>CAÍDA MOTOCICLETA</th>\n",
       "      <th>CAÍDA CICLOMOTOR</th>\n",
       "      <th>CAÍDA BICICLETA</th>\n",
       "      <th>CAÍDA VIAJERO BUS</th>\n",
       "      <th>OTRAS CAUSAS</th>\n",
       "    </tr>\n",
       "    <tr>\n",
       "      <th>DISTRITO_ACCIDENTE</th>\n",
       "      <th></th>\n",
       "      <th></th>\n",
       "      <th></th>\n",
       "      <th></th>\n",
       "      <th></th>\n",
       "      <th></th>\n",
       "      <th></th>\n",
       "      <th></th>\n",
       "      <th></th>\n",
       "      <th></th>\n",
       "    </tr>\n",
       "  </thead>\n",
       "  <tbody>\n",
       "    <tr>\n",
       "      <th>ARGANZUELA</th>\n",
       "      <td>403</td>\n",
       "      <td>48</td>\n",
       "      <td>103</td>\n",
       "      <td>75</td>\n",
       "      <td>7</td>\n",
       "      <td>26</td>\n",
       "      <td>15.0</td>\n",
       "      <td>2.0</td>\n",
       "      <td>5.0</td>\n",
       "      <td>6.0</td>\n",
       "    </tr>\n",
       "    <tr>\n",
       "      <th>BARAJAS</th>\n",
       "      <td>62</td>\n",
       "      <td>5</td>\n",
       "      <td>34</td>\n",
       "      <td>22</td>\n",
       "      <td>1</td>\n",
       "      <td>11</td>\n",
       "      <td>NaN</td>\n",
       "      <td>NaN</td>\n",
       "      <td>NaN</td>\n",
       "      <td>NaN</td>\n",
       "    </tr>\n",
       "    <tr>\n",
       "      <th>CARABANCHEL</th>\n",
       "      <td>357</td>\n",
       "      <td>35</td>\n",
       "      <td>133</td>\n",
       "      <td>114</td>\n",
       "      <td>7</td>\n",
       "      <td>22</td>\n",
       "      <td>14.0</td>\n",
       "      <td>6.0</td>\n",
       "      <td>7.0</td>\n",
       "      <td>1.0</td>\n",
       "    </tr>\n",
       "    <tr>\n",
       "      <th>CENTRO</th>\n",
       "      <td>546</td>\n",
       "      <td>43</td>\n",
       "      <td>142</td>\n",
       "      <td>169</td>\n",
       "      <td>2</td>\n",
       "      <td>60</td>\n",
       "      <td>14.0</td>\n",
       "      <td>9.0</td>\n",
       "      <td>13.0</td>\n",
       "      <td>9.0</td>\n",
       "    </tr>\n",
       "    <tr>\n",
       "      <th>CHAMARTIN</th>\n",
       "      <td>460</td>\n",
       "      <td>67</td>\n",
       "      <td>128</td>\n",
       "      <td>85</td>\n",
       "      <td>11</td>\n",
       "      <td>77</td>\n",
       "      <td>16.0</td>\n",
       "      <td>1.0</td>\n",
       "      <td>8.0</td>\n",
       "      <td>5.0</td>\n",
       "    </tr>\n",
       "    <tr>\n",
       "      <th>CHAMBERI</th>\n",
       "      <td>361</td>\n",
       "      <td>34</td>\n",
       "      <td>86</td>\n",
       "      <td>103</td>\n",
       "      <td>1</td>\n",
       "      <td>66</td>\n",
       "      <td>14.0</td>\n",
       "      <td>5.0</td>\n",
       "      <td>2.0</td>\n",
       "      <td>4.0</td>\n",
       "    </tr>\n",
       "    <tr>\n",
       "      <th>CIUDAD LINEAL</th>\n",
       "      <td>404</td>\n",
       "      <td>79</td>\n",
       "      <td>120</td>\n",
       "      <td>90</td>\n",
       "      <td>8</td>\n",
       "      <td>39</td>\n",
       "      <td>12.0</td>\n",
       "      <td>6.0</td>\n",
       "      <td>7.0</td>\n",
       "      <td>2.0</td>\n",
       "    </tr>\n",
       "    <tr>\n",
       "      <th>FUENCARRAL-EL PARDO</th>\n",
       "      <td>294</td>\n",
       "      <td>49</td>\n",
       "      <td>165</td>\n",
       "      <td>72</td>\n",
       "      <td>10</td>\n",
       "      <td>26</td>\n",
       "      <td>9.0</td>\n",
       "      <td>6.0</td>\n",
       "      <td>3.0</td>\n",
       "      <td>2.0</td>\n",
       "    </tr>\n",
       "    <tr>\n",
       "      <th>HORTALEZA</th>\n",
       "      <td>183</td>\n",
       "      <td>15</td>\n",
       "      <td>68</td>\n",
       "      <td>44</td>\n",
       "      <td>4</td>\n",
       "      <td>11</td>\n",
       "      <td>8.0</td>\n",
       "      <td>4.0</td>\n",
       "      <td>3.0</td>\n",
       "      <td>3.0</td>\n",
       "    </tr>\n",
       "    <tr>\n",
       "      <th>LATINA</th>\n",
       "      <td>273</td>\n",
       "      <td>37</td>\n",
       "      <td>93</td>\n",
       "      <td>94</td>\n",
       "      <td>6</td>\n",
       "      <td>24</td>\n",
       "      <td>4.0</td>\n",
       "      <td>7.0</td>\n",
       "      <td>10.0</td>\n",
       "      <td>4.0</td>\n",
       "    </tr>\n",
       "    <tr>\n",
       "      <th>MONCLOA-ARAVACA</th>\n",
       "      <td>350</td>\n",
       "      <td>47</td>\n",
       "      <td>177</td>\n",
       "      <td>75</td>\n",
       "      <td>10</td>\n",
       "      <td>45</td>\n",
       "      <td>9.0</td>\n",
       "      <td>6.0</td>\n",
       "      <td>9.0</td>\n",
       "      <td>11.0</td>\n",
       "    </tr>\n",
       "    <tr>\n",
       "      <th>MORATALAZ</th>\n",
       "      <td>127</td>\n",
       "      <td>21</td>\n",
       "      <td>58</td>\n",
       "      <td>33</td>\n",
       "      <td>6</td>\n",
       "      <td>13</td>\n",
       "      <td>5.0</td>\n",
       "      <td>2.0</td>\n",
       "      <td>2.0</td>\n",
       "      <td>1.0</td>\n",
       "    </tr>\n",
       "    <tr>\n",
       "      <th>PUENTE DE VALLECAS</th>\n",
       "      <td>324</td>\n",
       "      <td>44</td>\n",
       "      <td>157</td>\n",
       "      <td>107</td>\n",
       "      <td>7</td>\n",
       "      <td>20</td>\n",
       "      <td>9.0</td>\n",
       "      <td>3.0</td>\n",
       "      <td>8.0</td>\n",
       "      <td>7.0</td>\n",
       "    </tr>\n",
       "    <tr>\n",
       "      <th>RETIRO</th>\n",
       "      <td>349</td>\n",
       "      <td>55</td>\n",
       "      <td>33</td>\n",
       "      <td>57</td>\n",
       "      <td>2</td>\n",
       "      <td>45</td>\n",
       "      <td>12.0</td>\n",
       "      <td>7.0</td>\n",
       "      <td>7.0</td>\n",
       "      <td>5.0</td>\n",
       "    </tr>\n",
       "    <tr>\n",
       "      <th>SALAMANCA</th>\n",
       "      <td>506</td>\n",
       "      <td>44</td>\n",
       "      <td>131</td>\n",
       "      <td>89</td>\n",
       "      <td>6</td>\n",
       "      <td>89</td>\n",
       "      <td>19.0</td>\n",
       "      <td>1.0</td>\n",
       "      <td>9.0</td>\n",
       "      <td>6.0</td>\n",
       "    </tr>\n",
       "    <tr>\n",
       "      <th>SAN BLAS</th>\n",
       "      <td>274</td>\n",
       "      <td>27</td>\n",
       "      <td>62</td>\n",
       "      <td>66</td>\n",
       "      <td>2</td>\n",
       "      <td>22</td>\n",
       "      <td>6.0</td>\n",
       "      <td>2.0</td>\n",
       "      <td>5.0</td>\n",
       "      <td>2.0</td>\n",
       "    </tr>\n",
       "    <tr>\n",
       "      <th>TETUAN</th>\n",
       "      <td>331</td>\n",
       "      <td>25</td>\n",
       "      <td>87</td>\n",
       "      <td>89</td>\n",
       "      <td>3</td>\n",
       "      <td>47</td>\n",
       "      <td>13.0</td>\n",
       "      <td>6.0</td>\n",
       "      <td>4.0</td>\n",
       "      <td>3.0</td>\n",
       "    </tr>\n",
       "    <tr>\n",
       "      <th>USERA</th>\n",
       "      <td>178</td>\n",
       "      <td>36</td>\n",
       "      <td>78</td>\n",
       "      <td>78</td>\n",
       "      <td>4</td>\n",
       "      <td>14</td>\n",
       "      <td>2.0</td>\n",
       "      <td>4.0</td>\n",
       "      <td>NaN</td>\n",
       "      <td>4.0</td>\n",
       "    </tr>\n",
       "    <tr>\n",
       "      <th>VICALVARO</th>\n",
       "      <td>65</td>\n",
       "      <td>4</td>\n",
       "      <td>60</td>\n",
       "      <td>22</td>\n",
       "      <td>3</td>\n",
       "      <td>16</td>\n",
       "      <td>NaN</td>\n",
       "      <td>1.0</td>\n",
       "      <td>1.0</td>\n",
       "      <td>5.0</td>\n",
       "    </tr>\n",
       "    <tr>\n",
       "      <th>VILLA DE VALLECAS</th>\n",
       "      <td>124</td>\n",
       "      <td>9</td>\n",
       "      <td>63</td>\n",
       "      <td>32</td>\n",
       "      <td>8</td>\n",
       "      <td>9</td>\n",
       "      <td>3.0</td>\n",
       "      <td>1.0</td>\n",
       "      <td>NaN</td>\n",
       "      <td>3.0</td>\n",
       "    </tr>\n",
       "    <tr>\n",
       "      <th>VILLAVERDE</th>\n",
       "      <td>147</td>\n",
       "      <td>21</td>\n",
       "      <td>58</td>\n",
       "      <td>54</td>\n",
       "      <td>2</td>\n",
       "      <td>9</td>\n",
       "      <td>4.0</td>\n",
       "      <td>2.0</td>\n",
       "      <td>2.0</td>\n",
       "      <td>1.0</td>\n",
       "    </tr>\n",
       "  </tbody>\n",
       "</table>\n",
       "</div>"
      ],
      "text/plain": [
       "                                COLISIÓN DOBLE                            ...  OTRAS CAUSAS                            \n",
       "DISTRITO_ACCIDENTE                                                        ...                                          \n",
       "ARGANZUELA                                                           403  ...                                       6.0\n",
       "BARAJAS                                                               62  ...                                       NaN\n",
       "CARABANCHEL                                                          357  ...                                       1.0\n",
       "CENTRO                                                               546  ...                                       9.0\n",
       "CHAMARTIN                                                            460  ...                                       5.0\n",
       "CHAMBERI                                                             361  ...                                       4.0\n",
       "CIUDAD LINEAL                                                        404  ...                                       2.0\n",
       "FUENCARRAL-EL PARDO                                                  294  ...                                       2.0\n",
       "HORTALEZA                                                            183  ...                                       3.0\n",
       "LATINA                                                               273  ...                                       4.0\n",
       "MONCLOA-ARAVACA                                                      350  ...                                      11.0\n",
       "MORATALAZ                                                            127  ...                                       1.0\n",
       "PUENTE DE VALLECAS                                                   324  ...                                       7.0\n",
       "RETIRO                                                               349  ...                                       5.0\n",
       "SALAMANCA                                                            506  ...                                       6.0\n",
       "SAN BLAS                                                             274  ...                                       2.0\n",
       "TETUAN                                                               331  ...                                       3.0\n",
       "USERA                                                                178  ...                                       4.0\n",
       "VICALVARO                                                             65  ...                                       5.0\n",
       "VILLA DE VALLECAS                                                    124  ...                                       3.0\n",
       "VILLAVERDE                                                           147  ...                                       1.0\n",
       "\n",
       "[21 rows x 10 columns]"
      ]
     },
     "execution_count": 9,
     "metadata": {
      "tags": []
     },
     "output_type": "execute_result"
    }
   ],
   "source": [
    "accidentes_2010 = pd.read_excel(file_path, \n",
    "                                index_col=0, \n",
    "                                header=7, \n",
    "                                sheet_name='2010', \n",
    "                                skipfooter=1,\n",
    "                                usecols='A:K')\n",
    "accidentes_2010"
   ]
  },
  {
   "cell_type": "markdown",
   "metadata": {
    "id": "C5PL5ielLqiP"
   },
   "source": [
    "Using `sheet_name=None` we load the full workbook. We can then access individual sheets by the sheet name as follows:"
   ]
  },
  {
   "cell_type": "code",
   "execution_count": 10,
   "metadata": {
    "colab": {
     "base_uri": "https://localhost:8080/",
     "height": 255
    },
    "executionInfo": {
     "elapsed": 521,
     "status": "ok",
     "timestamp": 1608717693242,
     "user": {
      "displayName": "Luis DEL POZO",
      "photoUrl": "",
      "userId": "08297678491184687059"
     },
     "user_tz": -60
    },
    "id": "qZaaXV8Yppir",
    "outputId": "b39aff58-2b56-4224-9f53-91bcd0550169"
   },
   "outputs": [
    {
     "data": {
      "text/html": [
       "<div>\n",
       "<style scoped>\n",
       "    .dataframe tbody tr th:only-of-type {\n",
       "        vertical-align: middle;\n",
       "    }\n",
       "\n",
       "    .dataframe tbody tr th {\n",
       "        vertical-align: top;\n",
       "    }\n",
       "\n",
       "    .dataframe thead th {\n",
       "        text-align: right;\n",
       "    }\n",
       "</style>\n",
       "<table border=\"1\" class=\"dataframe\">\n",
       "  <thead>\n",
       "    <tr style=\"text-align: right;\">\n",
       "      <th></th>\n",
       "      <th>COLISIÓN DOBLE</th>\n",
       "      <th>COLISIÓN MÚLTIPLE</th>\n",
       "      <th>CHOQUE CON OBJETO FIJO</th>\n",
       "      <th>ATROPELLO</th>\n",
       "      <th>VUELCO</th>\n",
       "      <th>CAÍDA MOTOCICLETA</th>\n",
       "      <th>CAÍDA CICLOMOTOR</th>\n",
       "      <th>CAÍDA BICICLETA</th>\n",
       "      <th>CAÍDA VIAJERO BUS</th>\n",
       "      <th>OTRAS CAUSAS</th>\n",
       "    </tr>\n",
       "    <tr>\n",
       "      <th>DISTRITO_ACCIDENTE</th>\n",
       "      <th></th>\n",
       "      <th></th>\n",
       "      <th></th>\n",
       "      <th></th>\n",
       "      <th></th>\n",
       "      <th></th>\n",
       "      <th></th>\n",
       "      <th></th>\n",
       "      <th></th>\n",
       "      <th></th>\n",
       "    </tr>\n",
       "  </thead>\n",
       "  <tbody>\n",
       "    <tr>\n",
       "      <th>ARGANZUELA</th>\n",
       "      <td>389</td>\n",
       "      <td>54</td>\n",
       "      <td>126</td>\n",
       "      <td>75</td>\n",
       "      <td>9.0</td>\n",
       "      <td>43</td>\n",
       "      <td>9</td>\n",
       "      <td>4.0</td>\n",
       "      <td>5</td>\n",
       "      <td>8</td>\n",
       "    </tr>\n",
       "    <tr>\n",
       "      <th>BARAJAS</th>\n",
       "      <td>89</td>\n",
       "      <td>6</td>\n",
       "      <td>53</td>\n",
       "      <td>21</td>\n",
       "      <td>NaN</td>\n",
       "      <td>12</td>\n",
       "      <td>2</td>\n",
       "      <td>1.0</td>\n",
       "      <td>2</td>\n",
       "      <td>2</td>\n",
       "    </tr>\n",
       "    <tr>\n",
       "      <th>CARABANCHEL</th>\n",
       "      <td>375</td>\n",
       "      <td>44</td>\n",
       "      <td>171</td>\n",
       "      <td>137</td>\n",
       "      <td>8.0</td>\n",
       "      <td>36</td>\n",
       "      <td>13</td>\n",
       "      <td>6.0</td>\n",
       "      <td>9</td>\n",
       "      <td>8</td>\n",
       "    </tr>\n",
       "    <tr>\n",
       "      <th>CENTRO</th>\n",
       "      <td>514</td>\n",
       "      <td>55</td>\n",
       "      <td>171</td>\n",
       "      <td>143</td>\n",
       "      <td>NaN</td>\n",
       "      <td>61</td>\n",
       "      <td>12</td>\n",
       "      <td>3.0</td>\n",
       "      <td>10</td>\n",
       "      <td>12</td>\n",
       "    </tr>\n",
       "    <tr>\n",
       "      <th>CHAMARTIN</th>\n",
       "      <td>494</td>\n",
       "      <td>70</td>\n",
       "      <td>133</td>\n",
       "      <td>92</td>\n",
       "      <td>10.0</td>\n",
       "      <td>72</td>\n",
       "      <td>22</td>\n",
       "      <td>2.0</td>\n",
       "      <td>6</td>\n",
       "      <td>7</td>\n",
       "    </tr>\n",
       "  </tbody>\n",
       "</table>\n",
       "</div>"
      ],
      "text/plain": [
       "                                COLISIÓN DOBLE                            ...  OTRAS CAUSAS                            \n",
       "DISTRITO_ACCIDENTE                                                        ...                                          \n",
       "ARGANZUELA                                                           389  ...                                         8\n",
       "BARAJAS                                                               89  ...                                         2\n",
       "CARABANCHEL                                                          375  ...                                         8\n",
       "CENTRO                                                               514  ...                                        12\n",
       "CHAMARTIN                                                            494  ...                                         7\n",
       "\n",
       "[5 rows x 10 columns]"
      ]
     },
     "execution_count": 10,
     "metadata": {
      "tags": []
     },
     "output_type": "execute_result"
    }
   ],
   "source": [
    "#Después de ver el archivo Excel, se aprecia que la info interesante en todas las hojas empiezan en la fila 8 (excepto en la hoja 2013, que empieza en la 5),\n",
    "#por eso se indica \"header=7\".\n",
    "#También se ve que la info útil va de la columna A a la K (incluidas), excepto en la hoja de 2016, hay una columna más por lo que llega hasta la columna L,\n",
    "#por eso se indica \"usecols='A:K\".\n",
    "#Por último, no se considera la información de la última fila, por eso se pone \"skipfooter=1\"\n",
    "all_accidents = pd.read_excel(file_path, index_col=0, header=7, sheet_name=None, skipfooter=1, usecols='A:K')\n",
    "all_accidents['2009'].head()"
   ]
  },
  {
   "cell_type": "markdown",
   "metadata": {
    "id": "z-44ThzsL9AU"
   },
   "source": [
    "Let's iterate over all the elements of the data:"
   ]
  },
  {
   "cell_type": "code",
   "execution_count": null,
   "metadata": {
    "id": "M0PyMe2Gppir"
   },
   "outputs": [],
   "source": [
    "for k, v in all_accidents.items():\n",
    "    print(k,v,type(k),type(v))"
   ]
  },
  {
   "cell_type": "markdown",
   "metadata": {
    "id": "hJDBC7UxMIvz"
   },
   "source": [
    "What kind of structure are we dealing with here?"
   ]
  },
  {
   "cell_type": "code",
   "execution_count": 12,
   "metadata": {
    "colab": {
     "base_uri": "https://localhost:8080/"
    },
    "executionInfo": {
     "elapsed": 555,
     "status": "ok",
     "timestamp": 1608717760104,
     "user": {
      "displayName": "Luis DEL POZO",
      "photoUrl": "",
      "userId": "08297678491184687059"
     },
     "user_tz": -60
    },
    "id": "03a3Jhs9EMeI",
    "outputId": "4b539c40-bc27-4d57-be3b-efefbf1dd1b8"
   },
   "outputs": [
    {
     "data": {
      "text/plain": [
       "dict"
      ]
     },
     "execution_count": 12,
     "metadata": {
      "tags": []
     },
     "output_type": "execute_result"
    }
   ],
   "source": [
    "type(all_accidents)"
   ]
  },
  {
   "cell_type": "code",
   "execution_count": 13,
   "metadata": {
    "colab": {
     "base_uri": "https://localhost:8080/"
    },
    "executionInfo": {
     "elapsed": 536,
     "status": "ok",
     "timestamp": 1608717761707,
     "user": {
      "displayName": "Luis DEL POZO",
      "photoUrl": "",
      "userId": "08297678491184687059"
     },
     "user_tz": -60
    },
    "id": "fV8iy3BSfv27",
    "outputId": "5ee27e55-ebaa-4e42-f7de-f38f45b9605a"
   },
   "outputs": [
    {
     "data": {
      "text/plain": [
       "pandas.core.frame.DataFrame"
      ]
     },
     "execution_count": 13,
     "metadata": {
      "tags": []
     },
     "output_type": "execute_result"
    }
   ],
   "source": [
    "type(all_accidents['2009'])"
   ]
  },
  {
   "cell_type": "code",
   "execution_count": 14,
   "metadata": {
    "colab": {
     "base_uri": "https://localhost:8080/"
    },
    "executionInfo": {
     "elapsed": 556,
     "status": "ok",
     "timestamp": 1608717767854,
     "user": {
      "displayName": "Luis DEL POZO",
      "photoUrl": "",
      "userId": "08297678491184687059"
     },
     "user_tz": -60
    },
    "id": "uCalmeIhkhrm",
    "outputId": "d434c213-8d4f-40c5-b5ca-3a201f11d724"
   },
   "outputs": [
    {
     "data": {
      "text/plain": [
       "numpy.ndarray"
      ]
     },
     "execution_count": 14,
     "metadata": {
      "tags": []
     },
     "output_type": "execute_result"
    }
   ],
   "source": [
    "type(all_accidents['2009'].columns.str.contains('Unn'))"
   ]
  },
  {
   "cell_type": "markdown",
   "metadata": {
    "id": "QDoLgB-qMNoH"
   },
   "source": [
    "We printed the values in our loop above. What about the keys? What kind of data structure is the values? Play around a bit with this, you'll need to understand the structure of what you got to tackle the next exercise."
   ]
  },
  {
   "cell_type": "code",
   "execution_count": 15,
   "metadata": {
    "colab": {
     "base_uri": "https://localhost:8080/"
    },
    "executionInfo": {
     "elapsed": 529,
     "status": "ok",
     "timestamp": 1608717771893,
     "user": {
      "displayName": "Luis DEL POZO",
      "photoUrl": "",
      "userId": "08297678491184687059"
     },
     "user_tz": -60
    },
    "id": "qSBgo3CYf9W2",
    "outputId": "30144e43-f5b8-4049-ca4b-0deff41cb04d"
   },
   "outputs": [
    {
     "data": {
      "text/plain": [
       "dict_keys(['2009', '2010', '2011', '2012', '2013', '2014', '2015', '2016'])"
      ]
     },
     "execution_count": 15,
     "metadata": {
      "tags": []
     },
     "output_type": "execute_result"
    }
   ],
   "source": [
    "all_accidents.keys()"
   ]
  },
  {
   "cell_type": "code",
   "execution_count": 16,
   "metadata": {
    "colab": {
     "base_uri": "https://localhost:8080/"
    },
    "executionInfo": {
     "elapsed": 505,
     "status": "ok",
     "timestamp": 1608717774594,
     "user": {
      "displayName": "Luis DEL POZO",
      "photoUrl": "",
      "userId": "08297678491184687059"
     },
     "user_tz": -60
    },
    "id": "yscwZNFNgGxX",
    "outputId": "5adf2530-92a6-490a-a018-46a05d101601"
   },
   "outputs": [
    {
     "data": {
      "text/plain": [
       "dict_keys"
      ]
     },
     "execution_count": 16,
     "metadata": {
      "tags": []
     },
     "output_type": "execute_result"
    }
   ],
   "source": [
    "type(all_accidents.keys())"
   ]
  },
  {
   "cell_type": "code",
   "execution_count": 17,
   "metadata": {
    "colab": {
     "base_uri": "https://localhost:8080/"
    },
    "executionInfo": {
     "elapsed": 549,
     "status": "ok",
     "timestamp": 1608717790781,
     "user": {
      "displayName": "Luis DEL POZO",
      "photoUrl": "",
      "userId": "08297678491184687059"
     },
     "user_tz": -60
    },
    "id": "cVPEQioDgKEB",
    "outputId": "721037db-c2b4-419a-a9dc-b858e61c9def"
   },
   "outputs": [
    {
     "data": {
      "text/plain": [
       "dict_values"
      ]
     },
     "execution_count": 17,
     "metadata": {
      "tags": []
     },
     "output_type": "execute_result"
    }
   ],
   "source": [
    "#Vemos que \"all_accidents\" es un diccionario cuyos \"keys\" son los nombres de los años y cuyos \"values\" son DFs.\n",
    "type(all_accidents.values())"
   ]
  },
  {
   "cell_type": "markdown",
   "metadata": {
    "id": "NjRiXC49ppir"
   },
   "source": [
    "#### Exercise\n",
    "\n",
    "Consolidate the excel into one DataFrame:\n",
    "- You will need to create a 'YEAR' column.\n",
    "- Think how you can iterate through all the DataFrames.\n",
    "- Explore also where you can take the value of 'YEAR' from, from the comments in the code above it should be clear by now."
   ]
  },
  {
   "cell_type": "code",
   "execution_count": 18,
   "metadata": {
    "colab": {
     "base_uri": "https://localhost:8080/"
    },
    "executionInfo": {
     "elapsed": 483,
     "status": "ok",
     "timestamp": 1608717800981,
     "user": {
      "displayName": "Luis DEL POZO",
      "photoUrl": "",
      "userId": "08297678491184687059"
     },
     "user_tz": -60
    },
    "id": "TVoKI09EjLz0",
    "outputId": "6fda3525-96ef-4a4a-e587-93d98dcde16d"
   },
   "outputs": [
    {
     "name": "stdout",
     "output_type": "stream",
     "text": [
      "2009 (21, 10)\n",
      "2010 (21, 10)\n",
      "2011 (21, 10)\n",
      "2012 (21, 10)\n",
      "2013 (18, 10)\n",
      "2014 (21, 10)\n",
      "2015 (21, 10)\n",
      "2016 (21, 10)\n"
     ]
    }
   ],
   "source": [
    "years = all_accidents.keys()\n",
    "\n",
    "for year in years:\n",
    "  print(year, all_accidents[year].shape)\n"
   ]
  },
  {
   "cell_type": "code",
   "execution_count": 20,
   "metadata": {
    "executionInfo": {
     "elapsed": 506,
     "status": "ok",
     "timestamp": 1608717867803,
     "user": {
      "displayName": "Luis DEL POZO",
      "photoUrl": "",
      "userId": "08297678491184687059"
     },
     "user_tz": -60
    },
    "id": "rnZ54GMGjL3k"
   },
   "outputs": [],
   "source": [
    "#El año 2013 presenta una anomalía: los datos originales empiezan en la fila 5, en lugar de en la fila 5, como el resto. \n",
    "#Por lo tanto hay que eliminar del dict el año 2013 e incluirlo bien.\n",
    "del all_accidents['2013']"
   ]
  },
  {
   "cell_type": "code",
   "execution_count": 21,
   "metadata": {
    "executionInfo": {
     "elapsed": 550,
     "status": "ok",
     "timestamp": 1608717895732,
     "user": {
      "displayName": "Luis DEL POZO",
      "photoUrl": "",
      "userId": "08297678491184687059"
     },
     "user_tz": -60
    },
    "id": "3EZAZAdYjL-w"
   },
   "outputs": [],
   "source": [
    "#Ahora leo el DF del 2013:\n",
    "all_accidents['2013'] = pd.read_excel(file_path, sheet_name='2013', index_col=0, header=4, skipfooter=1, usecols='A:K', )"
   ]
  },
  {
   "cell_type": "code",
   "execution_count": 22,
   "metadata": {
    "colab": {
     "base_uri": "https://localhost:8080/"
    },
    "executionInfo": {
     "elapsed": 566,
     "status": "ok",
     "timestamp": 1608717909047,
     "user": {
      "displayName": "Luis DEL POZO",
      "photoUrl": "",
      "userId": "08297678491184687059"
     },
     "user_tz": -60
    },
    "id": "xe8IUUS7jMCM",
    "outputId": "3ec7c3d9-504b-49ef-ff8a-97f43adb07ea"
   },
   "outputs": [
    {
     "data": {
      "text/plain": [
       "dict_keys(['2009', '2010', '2011', '2012', '2014', '2015', '2016', '2013'])"
      ]
     },
     "execution_count": 22,
     "metadata": {
      "tags": []
     },
     "output_type": "execute_result"
    }
   ],
   "source": [
    "#Ahora aparece el 2013 al final del array \"all_accidents.keys()\".\n",
    "all_accidents.keys()"
   ]
  },
  {
   "cell_type": "code",
   "execution_count": 23,
   "metadata": {
    "colab": {
     "base_uri": "https://localhost:8080/"
    },
    "executionInfo": {
     "elapsed": 500,
     "status": "ok",
     "timestamp": 1608717916319,
     "user": {
      "displayName": "Luis DEL POZO",
      "photoUrl": "",
      "userId": "08297678491184687059"
     },
     "user_tz": -60
    },
    "id": "GlqE5D4IjMFe",
    "outputId": "7a15fb57-5bd9-4893-efdb-59f3d5af9569"
   },
   "outputs": [
    {
     "name": "stdout",
     "output_type": "stream",
     "text": [
      "2009 (21, 10)\n",
      "2010 (21, 10)\n",
      "2011 (21, 10)\n",
      "2012 (21, 10)\n",
      "2014 (21, 10)\n",
      "2015 (21, 10)\n",
      "2016 (21, 10)\n",
      "2013 (21, 10)\n"
     ]
    }
   ],
   "source": [
    "for year in all_accidents.keys():\n",
    "  print(year, all_accidents[year].shape)"
   ]
  },
  {
   "cell_type": "code",
   "execution_count": null,
   "metadata": {
    "id": "zDTDuhdSshP5"
   },
   "outputs": [],
   "source": [
    "all_accidents"
   ]
  },
  {
   "cell_type": "code",
   "execution_count": 25,
   "metadata": {
    "executionInfo": {
     "elapsed": 578,
     "status": "ok",
     "timestamp": 1608717969974,
     "user": {
      "displayName": "Luis DEL POZO",
      "photoUrl": "",
      "userId": "08297678491184687059"
     },
     "user_tz": -60
    },
    "id": "6utUBjyliS57"
   },
   "outputs": [],
   "source": [
    "#Ahora borramos la hoja 2016 y la volvemos a unir incluyendo la columna nueva\n",
    "del all_accidents['2016']"
   ]
  },
  {
   "cell_type": "code",
   "execution_count": 26,
   "metadata": {
    "executionInfo": {
     "elapsed": 546,
     "status": "ok",
     "timestamp": 1608717972759,
     "user": {
      "displayName": "Luis DEL POZO",
      "photoUrl": "",
      "userId": "08297678491184687059"
     },
     "user_tz": -60
    },
    "id": "tqYA9rLEk6DQ"
   },
   "outputs": [],
   "source": [
    "all_accidents['2016'] = pd.read_excel(file_path, sheet_name='2016', index_col=0, header=7, skipfooter=1, usecols='A:L', )"
   ]
  },
  {
   "cell_type": "code",
   "execution_count": 27,
   "metadata": {
    "colab": {
     "base_uri": "https://localhost:8080/"
    },
    "executionInfo": {
     "elapsed": 383,
     "status": "ok",
     "timestamp": 1608717974177,
     "user": {
      "displayName": "Luis DEL POZO",
      "photoUrl": "",
      "userId": "08297678491184687059"
     },
     "user_tz": -60
    },
    "id": "RyRwiAfak6IE",
    "outputId": "9bd629e6-bc0a-4946-f537-fc73be012eec"
   },
   "outputs": [
    {
     "data": {
      "text/plain": [
       "dict_keys(['2009', '2010', '2011', '2012', '2014', '2015', '2013', '2016'])"
      ]
     },
     "execution_count": 27,
     "metadata": {
      "tags": []
     },
     "output_type": "execute_result"
    }
   ],
   "source": [
    "all_accidents.keys()"
   ]
  },
  {
   "cell_type": "code",
   "execution_count": 28,
   "metadata": {
    "colab": {
     "base_uri": "https://localhost:8080/"
    },
    "executionInfo": {
     "elapsed": 558,
     "status": "ok",
     "timestamp": 1608717979088,
     "user": {
      "displayName": "Luis DEL POZO",
      "photoUrl": "",
      "userId": "08297678491184687059"
     },
     "user_tz": -60
    },
    "id": "k4uf529jk6L-",
    "outputId": "dde02997-d004-4d32-dc7b-8b9963cf6139"
   },
   "outputs": [
    {
     "name": "stdout",
     "output_type": "stream",
     "text": [
      "2009 (21, 10)\n",
      "2010 (21, 10)\n",
      "2011 (21, 10)\n",
      "2012 (21, 10)\n",
      "2014 (21, 10)\n",
      "2015 (21, 10)\n",
      "2013 (21, 10)\n",
      "2016 (21, 11)\n"
     ]
    }
   ],
   "source": [
    "for year in all_accidents.keys():\n",
    "  print(year, all_accidents[year].shape)"
   ]
  },
  {
   "cell_type": "code",
   "execution_count": null,
   "metadata": {
    "id": "o7AbqQTtk6PV"
   },
   "outputs": [],
   "source": [
    "all_accidents"
   ]
  },
  {
   "cell_type": "code",
   "execution_count": 30,
   "metadata": {
    "executionInfo": {
     "elapsed": 662,
     "status": "ok",
     "timestamp": 1608718037394,
     "user": {
      "displayName": "Luis DEL POZO",
      "photoUrl": "",
      "userId": "08297678491184687059"
     },
     "user_tz": -60
    },
    "id": "yCpb0LJ4lLFb"
   },
   "outputs": [],
   "source": [
    "#Ahora unimos concatenamos todos los DFs con la función pd.concat\n",
    "all_accidents_tot = pd.concat(all_accidents.values(), keys=all_accidents.keys())"
   ]
  },
  {
   "cell_type": "code",
   "execution_count": 31,
   "metadata": {
    "colab": {
     "base_uri": "https://localhost:8080/",
     "height": 1000
    },
    "executionInfo": {
     "elapsed": 534,
     "status": "ok",
     "timestamp": 1608718039383,
     "user": {
      "displayName": "Luis DEL POZO",
      "photoUrl": "",
      "userId": "08297678491184687059"
     },
     "user_tz": -60
    },
    "id": "WiXNjQ8WlSNf",
    "outputId": "c209fe1e-e2b7-4139-eb4b-74b2964fbc81"
   },
   "outputs": [
    {
     "data": {
      "text/html": [
       "<div>\n",
       "<style scoped>\n",
       "    .dataframe tbody tr th:only-of-type {\n",
       "        vertical-align: middle;\n",
       "    }\n",
       "\n",
       "    .dataframe tbody tr th {\n",
       "        vertical-align: top;\n",
       "    }\n",
       "\n",
       "    .dataframe thead th {\n",
       "        text-align: right;\n",
       "    }\n",
       "</style>\n",
       "<table border=\"1\" class=\"dataframe\">\n",
       "  <thead>\n",
       "    <tr style=\"text-align: right;\">\n",
       "      <th></th>\n",
       "      <th></th>\n",
       "      <th>COLISIÓN DOBLE</th>\n",
       "      <th>COLISIÓN MÚLTIPLE</th>\n",
       "      <th>CHOQUE CON OBJETO FIJO</th>\n",
       "      <th>ATROPELLO</th>\n",
       "      <th>VUELCO</th>\n",
       "      <th>CAÍDA MOTOCICLETA</th>\n",
       "      <th>CAÍDA CICLOMOTOR</th>\n",
       "      <th>CAÍDA BICICLETA</th>\n",
       "      <th>CAÍDA VIAJERO BUS</th>\n",
       "      <th>OTRAS CAUSAS</th>\n",
       "      <th>CAÍDA VEHÍCULO 3 RUEDAS</th>\n",
       "    </tr>\n",
       "    <tr>\n",
       "      <th></th>\n",
       "      <th>DISTRITO_ACCIDENTE</th>\n",
       "      <th></th>\n",
       "      <th></th>\n",
       "      <th></th>\n",
       "      <th></th>\n",
       "      <th></th>\n",
       "      <th></th>\n",
       "      <th></th>\n",
       "      <th></th>\n",
       "      <th></th>\n",
       "      <th></th>\n",
       "      <th></th>\n",
       "    </tr>\n",
       "  </thead>\n",
       "  <tbody>\n",
       "    <tr>\n",
       "      <th rowspan=\"21\" valign=\"top\">2009</th>\n",
       "      <th>ARGANZUELA</th>\n",
       "      <td>389</td>\n",
       "      <td>54</td>\n",
       "      <td>126</td>\n",
       "      <td>75</td>\n",
       "      <td>9.0</td>\n",
       "      <td>43</td>\n",
       "      <td>9.0</td>\n",
       "      <td>4.0</td>\n",
       "      <td>5.0</td>\n",
       "      <td>8.0</td>\n",
       "      <td>NaN</td>\n",
       "    </tr>\n",
       "    <tr>\n",
       "      <th>BARAJAS</th>\n",
       "      <td>89</td>\n",
       "      <td>6</td>\n",
       "      <td>53</td>\n",
       "      <td>21</td>\n",
       "      <td>NaN</td>\n",
       "      <td>12</td>\n",
       "      <td>2.0</td>\n",
       "      <td>1.0</td>\n",
       "      <td>2.0</td>\n",
       "      <td>2.0</td>\n",
       "      <td>NaN</td>\n",
       "    </tr>\n",
       "    <tr>\n",
       "      <th>CARABANCHEL</th>\n",
       "      <td>375</td>\n",
       "      <td>44</td>\n",
       "      <td>171</td>\n",
       "      <td>137</td>\n",
       "      <td>8.0</td>\n",
       "      <td>36</td>\n",
       "      <td>13.0</td>\n",
       "      <td>6.0</td>\n",
       "      <td>9.0</td>\n",
       "      <td>8.0</td>\n",
       "      <td>NaN</td>\n",
       "    </tr>\n",
       "    <tr>\n",
       "      <th>CENTRO</th>\n",
       "      <td>514</td>\n",
       "      <td>55</td>\n",
       "      <td>171</td>\n",
       "      <td>143</td>\n",
       "      <td>NaN</td>\n",
       "      <td>61</td>\n",
       "      <td>12.0</td>\n",
       "      <td>3.0</td>\n",
       "      <td>10.0</td>\n",
       "      <td>12.0</td>\n",
       "      <td>NaN</td>\n",
       "    </tr>\n",
       "    <tr>\n",
       "      <th>CHAMARTIN</th>\n",
       "      <td>494</td>\n",
       "      <td>70</td>\n",
       "      <td>133</td>\n",
       "      <td>92</td>\n",
       "      <td>10.0</td>\n",
       "      <td>72</td>\n",
       "      <td>22.0</td>\n",
       "      <td>2.0</td>\n",
       "      <td>6.0</td>\n",
       "      <td>7.0</td>\n",
       "      <td>NaN</td>\n",
       "    </tr>\n",
       "    <tr>\n",
       "      <th>CHAMBERI</th>\n",
       "      <td>414</td>\n",
       "      <td>35</td>\n",
       "      <td>87</td>\n",
       "      <td>87</td>\n",
       "      <td>3.0</td>\n",
       "      <td>51</td>\n",
       "      <td>12.0</td>\n",
       "      <td>4.0</td>\n",
       "      <td>4.0</td>\n",
       "      <td>5.0</td>\n",
       "      <td>NaN</td>\n",
       "    </tr>\n",
       "    <tr>\n",
       "      <th>CIUDAD LINEAL</th>\n",
       "      <td>398</td>\n",
       "      <td>64</td>\n",
       "      <td>124</td>\n",
       "      <td>101</td>\n",
       "      <td>3.0</td>\n",
       "      <td>57</td>\n",
       "      <td>17.0</td>\n",
       "      <td>5.0</td>\n",
       "      <td>4.0</td>\n",
       "      <td>4.0</td>\n",
       "      <td>NaN</td>\n",
       "    </tr>\n",
       "    <tr>\n",
       "      <th>FUENCARRAL-EL PARDO</th>\n",
       "      <td>321</td>\n",
       "      <td>47</td>\n",
       "      <td>151</td>\n",
       "      <td>78</td>\n",
       "      <td>11.0</td>\n",
       "      <td>34</td>\n",
       "      <td>16.0</td>\n",
       "      <td>7.0</td>\n",
       "      <td>2.0</td>\n",
       "      <td>8.0</td>\n",
       "      <td>NaN</td>\n",
       "    </tr>\n",
       "    <tr>\n",
       "      <th>HORTALEZA</th>\n",
       "      <td>215</td>\n",
       "      <td>16</td>\n",
       "      <td>109</td>\n",
       "      <td>58</td>\n",
       "      <td>3.0</td>\n",
       "      <td>29</td>\n",
       "      <td>13.0</td>\n",
       "      <td>7.0</td>\n",
       "      <td>4.0</td>\n",
       "      <td>4.0</td>\n",
       "      <td>NaN</td>\n",
       "    </tr>\n",
       "    <tr>\n",
       "      <th>LATINA</th>\n",
       "      <td>298</td>\n",
       "      <td>40</td>\n",
       "      <td>134</td>\n",
       "      <td>85</td>\n",
       "      <td>7.0</td>\n",
       "      <td>24</td>\n",
       "      <td>10.0</td>\n",
       "      <td>2.0</td>\n",
       "      <td>9.0</td>\n",
       "      <td>11.0</td>\n",
       "      <td>NaN</td>\n",
       "    </tr>\n",
       "    <tr>\n",
       "      <th>MONCLOA-ARAVACA</th>\n",
       "      <td>340</td>\n",
       "      <td>57</td>\n",
       "      <td>210</td>\n",
       "      <td>71</td>\n",
       "      <td>11.0</td>\n",
       "      <td>48</td>\n",
       "      <td>8.0</td>\n",
       "      <td>7.0</td>\n",
       "      <td>1.0</td>\n",
       "      <td>13.0</td>\n",
       "      <td>NaN</td>\n",
       "    </tr>\n",
       "    <tr>\n",
       "      <th>MORATALAZ</th>\n",
       "      <td>151</td>\n",
       "      <td>26</td>\n",
       "      <td>59</td>\n",
       "      <td>40</td>\n",
       "      <td>NaN</td>\n",
       "      <td>23</td>\n",
       "      <td>3.0</td>\n",
       "      <td>2.0</td>\n",
       "      <td>3.0</td>\n",
       "      <td>4.0</td>\n",
       "      <td>NaN</td>\n",
       "    </tr>\n",
       "    <tr>\n",
       "      <th>PUENTE DE VALLECAS</th>\n",
       "      <td>367</td>\n",
       "      <td>54</td>\n",
       "      <td>196</td>\n",
       "      <td>122</td>\n",
       "      <td>8.0</td>\n",
       "      <td>22</td>\n",
       "      <td>14.0</td>\n",
       "      <td>2.0</td>\n",
       "      <td>5.0</td>\n",
       "      <td>11.0</td>\n",
       "      <td>NaN</td>\n",
       "    </tr>\n",
       "    <tr>\n",
       "      <th>RETIRO</th>\n",
       "      <td>369</td>\n",
       "      <td>59</td>\n",
       "      <td>74</td>\n",
       "      <td>51</td>\n",
       "      <td>4.0</td>\n",
       "      <td>48</td>\n",
       "      <td>10.0</td>\n",
       "      <td>8.0</td>\n",
       "      <td>6.0</td>\n",
       "      <td>6.0</td>\n",
       "      <td>NaN</td>\n",
       "    </tr>\n",
       "    <tr>\n",
       "      <th>SALAMANCA</th>\n",
       "      <td>535</td>\n",
       "      <td>56</td>\n",
       "      <td>122</td>\n",
       "      <td>104</td>\n",
       "      <td>3.0</td>\n",
       "      <td>107</td>\n",
       "      <td>31.0</td>\n",
       "      <td>NaN</td>\n",
       "      <td>5.0</td>\n",
       "      <td>2.0</td>\n",
       "      <td>NaN</td>\n",
       "    </tr>\n",
       "    <tr>\n",
       "      <th>SAN BLAS</th>\n",
       "      <td>301</td>\n",
       "      <td>29</td>\n",
       "      <td>88</td>\n",
       "      <td>66</td>\n",
       "      <td>3.0</td>\n",
       "      <td>20</td>\n",
       "      <td>10.0</td>\n",
       "      <td>3.0</td>\n",
       "      <td>2.0</td>\n",
       "      <td>5.0</td>\n",
       "      <td>NaN</td>\n",
       "    </tr>\n",
       "    <tr>\n",
       "      <th>TETUAN</th>\n",
       "      <td>338</td>\n",
       "      <td>23</td>\n",
       "      <td>115</td>\n",
       "      <td>101</td>\n",
       "      <td>1.0</td>\n",
       "      <td>42</td>\n",
       "      <td>15.0</td>\n",
       "      <td>5.0</td>\n",
       "      <td>7.0</td>\n",
       "      <td>8.0</td>\n",
       "      <td>NaN</td>\n",
       "    </tr>\n",
       "    <tr>\n",
       "      <th>USERA</th>\n",
       "      <td>214</td>\n",
       "      <td>24</td>\n",
       "      <td>96</td>\n",
       "      <td>53</td>\n",
       "      <td>1.0</td>\n",
       "      <td>13</td>\n",
       "      <td>2.0</td>\n",
       "      <td>1.0</td>\n",
       "      <td>4.0</td>\n",
       "      <td>3.0</td>\n",
       "      <td>NaN</td>\n",
       "    </tr>\n",
       "    <tr>\n",
       "      <th>VICALVARO</th>\n",
       "      <td>86</td>\n",
       "      <td>6</td>\n",
       "      <td>39</td>\n",
       "      <td>15</td>\n",
       "      <td>6.0</td>\n",
       "      <td>9</td>\n",
       "      <td>4.0</td>\n",
       "      <td>3.0</td>\n",
       "      <td>2.0</td>\n",
       "      <td>2.0</td>\n",
       "      <td>NaN</td>\n",
       "    </tr>\n",
       "    <tr>\n",
       "      <th>VILLA DE VALLECAS</th>\n",
       "      <td>142</td>\n",
       "      <td>6</td>\n",
       "      <td>67</td>\n",
       "      <td>36</td>\n",
       "      <td>3.0</td>\n",
       "      <td>8</td>\n",
       "      <td>4.0</td>\n",
       "      <td>1.0</td>\n",
       "      <td>2.0</td>\n",
       "      <td>3.0</td>\n",
       "      <td>NaN</td>\n",
       "    </tr>\n",
       "    <tr>\n",
       "      <th>VILLAVERDE</th>\n",
       "      <td>148</td>\n",
       "      <td>19</td>\n",
       "      <td>65</td>\n",
       "      <td>46</td>\n",
       "      <td>4.0</td>\n",
       "      <td>9</td>\n",
       "      <td>4.0</td>\n",
       "      <td>3.0</td>\n",
       "      <td>1.0</td>\n",
       "      <td>8.0</td>\n",
       "      <td>NaN</td>\n",
       "    </tr>\n",
       "    <tr>\n",
       "      <th rowspan=\"9\" valign=\"top\">2010</th>\n",
       "      <th>ARGANZUELA</th>\n",
       "      <td>403</td>\n",
       "      <td>48</td>\n",
       "      <td>103</td>\n",
       "      <td>75</td>\n",
       "      <td>7.0</td>\n",
       "      <td>26</td>\n",
       "      <td>15.0</td>\n",
       "      <td>2.0</td>\n",
       "      <td>5.0</td>\n",
       "      <td>6.0</td>\n",
       "      <td>NaN</td>\n",
       "    </tr>\n",
       "    <tr>\n",
       "      <th>BARAJAS</th>\n",
       "      <td>62</td>\n",
       "      <td>5</td>\n",
       "      <td>34</td>\n",
       "      <td>22</td>\n",
       "      <td>1.0</td>\n",
       "      <td>11</td>\n",
       "      <td>NaN</td>\n",
       "      <td>NaN</td>\n",
       "      <td>NaN</td>\n",
       "      <td>NaN</td>\n",
       "      <td>NaN</td>\n",
       "    </tr>\n",
       "    <tr>\n",
       "      <th>CARABANCHEL</th>\n",
       "      <td>357</td>\n",
       "      <td>35</td>\n",
       "      <td>133</td>\n",
       "      <td>114</td>\n",
       "      <td>7.0</td>\n",
       "      <td>22</td>\n",
       "      <td>14.0</td>\n",
       "      <td>6.0</td>\n",
       "      <td>7.0</td>\n",
       "      <td>1.0</td>\n",
       "      <td>NaN</td>\n",
       "    </tr>\n",
       "    <tr>\n",
       "      <th>CENTRO</th>\n",
       "      <td>546</td>\n",
       "      <td>43</td>\n",
       "      <td>142</td>\n",
       "      <td>169</td>\n",
       "      <td>2.0</td>\n",
       "      <td>60</td>\n",
       "      <td>14.0</td>\n",
       "      <td>9.0</td>\n",
       "      <td>13.0</td>\n",
       "      <td>9.0</td>\n",
       "      <td>NaN</td>\n",
       "    </tr>\n",
       "    <tr>\n",
       "      <th>CHAMARTIN</th>\n",
       "      <td>460</td>\n",
       "      <td>67</td>\n",
       "      <td>128</td>\n",
       "      <td>85</td>\n",
       "      <td>11.0</td>\n",
       "      <td>77</td>\n",
       "      <td>16.0</td>\n",
       "      <td>1.0</td>\n",
       "      <td>8.0</td>\n",
       "      <td>5.0</td>\n",
       "      <td>NaN</td>\n",
       "    </tr>\n",
       "    <tr>\n",
       "      <th>CHAMBERI</th>\n",
       "      <td>361</td>\n",
       "      <td>34</td>\n",
       "      <td>86</td>\n",
       "      <td>103</td>\n",
       "      <td>1.0</td>\n",
       "      <td>66</td>\n",
       "      <td>14.0</td>\n",
       "      <td>5.0</td>\n",
       "      <td>2.0</td>\n",
       "      <td>4.0</td>\n",
       "      <td>NaN</td>\n",
       "    </tr>\n",
       "    <tr>\n",
       "      <th>CIUDAD LINEAL</th>\n",
       "      <td>404</td>\n",
       "      <td>79</td>\n",
       "      <td>120</td>\n",
       "      <td>90</td>\n",
       "      <td>8.0</td>\n",
       "      <td>39</td>\n",
       "      <td>12.0</td>\n",
       "      <td>6.0</td>\n",
       "      <td>7.0</td>\n",
       "      <td>2.0</td>\n",
       "      <td>NaN</td>\n",
       "    </tr>\n",
       "    <tr>\n",
       "      <th>FUENCARRAL-EL PARDO</th>\n",
       "      <td>294</td>\n",
       "      <td>49</td>\n",
       "      <td>165</td>\n",
       "      <td>72</td>\n",
       "      <td>10.0</td>\n",
       "      <td>26</td>\n",
       "      <td>9.0</td>\n",
       "      <td>6.0</td>\n",
       "      <td>3.0</td>\n",
       "      <td>2.0</td>\n",
       "      <td>NaN</td>\n",
       "    </tr>\n",
       "    <tr>\n",
       "      <th>HORTALEZA</th>\n",
       "      <td>183</td>\n",
       "      <td>15</td>\n",
       "      <td>68</td>\n",
       "      <td>44</td>\n",
       "      <td>4.0</td>\n",
       "      <td>11</td>\n",
       "      <td>8.0</td>\n",
       "      <td>4.0</td>\n",
       "      <td>3.0</td>\n",
       "      <td>3.0</td>\n",
       "      <td>NaN</td>\n",
       "    </tr>\n",
       "  </tbody>\n",
       "</table>\n",
       "</div>"
      ],
      "text/plain": [
       "                                     COLISIÓN DOBLE                            ...  CAÍDA VEHÍCULO 3 RUEDAS                 \n",
       "     DISTRITO_ACCIDENTE                                                        ...                                          \n",
       "2009 ARGANZUELA                                                           389  ...                                       NaN\n",
       "     BARAJAS                                                               89  ...                                       NaN\n",
       "     CARABANCHEL                                                          375  ...                                       NaN\n",
       "     CENTRO                                                               514  ...                                       NaN\n",
       "     CHAMARTIN                                                            494  ...                                       NaN\n",
       "     CHAMBERI                                                             414  ...                                       NaN\n",
       "     CIUDAD LINEAL                                                        398  ...                                       NaN\n",
       "     FUENCARRAL-EL PARDO                                                  321  ...                                       NaN\n",
       "     HORTALEZA                                                            215  ...                                       NaN\n",
       "     LATINA                                                               298  ...                                       NaN\n",
       "     MONCLOA-ARAVACA                                                      340  ...                                       NaN\n",
       "     MORATALAZ                                                            151  ...                                       NaN\n",
       "     PUENTE DE VALLECAS                                                   367  ...                                       NaN\n",
       "     RETIRO                                                               369  ...                                       NaN\n",
       "     SALAMANCA                                                            535  ...                                       NaN\n",
       "     SAN BLAS                                                             301  ...                                       NaN\n",
       "     TETUAN                                                               338  ...                                       NaN\n",
       "     USERA                                                                214  ...                                       NaN\n",
       "     VICALVARO                                                             86  ...                                       NaN\n",
       "     VILLA DE VALLECAS                                                    142  ...                                       NaN\n",
       "     VILLAVERDE                                                           148  ...                                       NaN\n",
       "2010 ARGANZUELA                                                           403  ...                                       NaN\n",
       "     BARAJAS                                                               62  ...                                       NaN\n",
       "     CARABANCHEL                                                          357  ...                                       NaN\n",
       "     CENTRO                                                               546  ...                                       NaN\n",
       "     CHAMARTIN                                                            460  ...                                       NaN\n",
       "     CHAMBERI                                                             361  ...                                       NaN\n",
       "     CIUDAD LINEAL                                                        404  ...                                       NaN\n",
       "     FUENCARRAL-EL PARDO                                                  294  ...                                       NaN\n",
       "     HORTALEZA                                                            183  ...                                       NaN\n",
       "\n",
       "[30 rows x 11 columns]"
      ]
     },
     "execution_count": 31,
     "metadata": {
      "tags": []
     },
     "output_type": "execute_result"
    }
   ],
   "source": [
    "all_accidents_tot.head(30)"
   ]
  },
  {
   "cell_type": "code",
   "execution_count": 32,
   "metadata": {
    "executionInfo": {
     "elapsed": 588,
     "status": "ok",
     "timestamp": 1608718076677,
     "user": {
      "displayName": "Luis DEL POZO",
      "photoUrl": "",
      "userId": "08297678491184687059"
     },
     "user_tz": -60
    },
    "id": "-MToEQqsEacG"
   },
   "outputs": [],
   "source": [
    "#Es importante ver que al concatenar, las columnas no comunes de los DFs se rellenan con NaN. \n",
    "#Además, con la opción escogida arriba, se incluye un doble índice: año y barrio."
   ]
  },
  {
   "cell_type": "code",
   "execution_count": 33,
   "metadata": {
    "colab": {
     "base_uri": "https://localhost:8080/"
    },
    "executionInfo": {
     "elapsed": 535,
     "status": "ok",
     "timestamp": 1608718127823,
     "user": {
      "displayName": "Luis DEL POZO",
      "photoUrl": "",
      "userId": "08297678491184687059"
     },
     "user_tz": -60
    },
    "id": "KahYFdftshhK",
    "outputId": "779f1994-3b04-44e6-a2fc-59f4484e98af"
   },
   "outputs": [
    {
     "data": {
      "text/plain": [
       "pandas.core.frame.DataFrame"
      ]
     },
     "execution_count": 33,
     "metadata": {
      "tags": []
     },
     "output_type": "execute_result"
    }
   ],
   "source": [
    "type(all_accidents_tot)"
   ]
  },
  {
   "cell_type": "code",
   "execution_count": null,
   "metadata": {
    "id": "P25Pg0U1rPAX"
   },
   "outputs": [],
   "source": [
    "all_accidents_tot.index"
   ]
  },
  {
   "cell_type": "code",
   "execution_count": 52,
   "metadata": {
    "colab": {
     "base_uri": "https://localhost:8080/"
    },
    "executionInfo": {
     "elapsed": 502,
     "status": "ok",
     "timestamp": 1608718974123,
     "user": {
      "displayName": "Luis DEL POZO",
      "photoUrl": "",
      "userId": "08297678491184687059"
     },
     "user_tz": -60
    },
    "id": "dkdv6x9alLJM",
    "outputId": "7843755b-8c61-4746-f7ed-1d6e3e8b69f0"
   },
   "outputs": [
    {
     "data": {
      "text/plain": [
       "389"
      ]
     },
     "execution_count": 52,
     "metadata": {
      "tags": []
     },
     "output_type": "execute_result"
    }
   ],
   "source": [
    "#Vamos a jugar un poco con los dobles índices...\n",
    "all_accidents_tot.iloc[(0,0)]"
   ]
  },
  {
   "cell_type": "code",
   "execution_count": 53,
   "metadata": {
    "colab": {
     "base_uri": "https://localhost:8080/"
    },
    "executionInfo": {
     "elapsed": 562,
     "status": "ok",
     "timestamp": 1608718975644,
     "user": {
      "displayName": "Luis DEL POZO",
      "photoUrl": "",
      "userId": "08297678491184687059"
     },
     "user_tz": -60
    },
    "id": "WCcWDtf1shUz",
    "outputId": "76bbcaf9-ef89-40eb-e094-54ad394287a5"
   },
   "outputs": [
    {
     "data": {
      "text/plain": [
       "389"
      ]
     },
     "execution_count": 53,
     "metadata": {
      "tags": []
     },
     "output_type": "execute_result"
    }
   ],
   "source": [
    "all_accidents_tot.iloc[0,0]"
   ]
  },
  {
   "cell_type": "code",
   "execution_count": 54,
   "metadata": {
    "colab": {
     "base_uri": "https://localhost:8080/"
    },
    "executionInfo": {
     "elapsed": 557,
     "status": "ok",
     "timestamp": 1608718977524,
     "user": {
      "displayName": "Luis DEL POZO",
      "photoUrl": "",
      "userId": "08297678491184687059"
     },
     "user_tz": -60
    },
    "id": "UASvnevfshrD",
    "outputId": "d115058e-f9d4-4641-fc18-871f1780546d"
   },
   "outputs": [
    {
     "data": {
      "text/plain": [
       "COLISIÓN DOBLE                              389.0\n",
       "COLISIÓN MÚLTIPLE                            54.0\n",
       "CHOQUE CON OBJETO FIJO                      126.0\n",
       "ATROPELLO                                    75.0\n",
       "VUELCO                                        9.0\n",
       "CAÍDA MOTOCICLETA                            43.0\n",
       "CAÍDA CICLOMOTOR                              9.0\n",
       "CAÍDA BICICLETA                               4.0\n",
       "CAÍDA VIAJERO BUS                             5.0\n",
       "OTRAS CAUSAS                                  8.0\n",
       "CAÍDA VEHÍCULO 3 RUEDAS                       NaN\n",
       "Name: (2009, ARGANZUELA                    ), dtype: float64"
      ]
     },
     "execution_count": 54,
     "metadata": {
      "tags": []
     },
     "output_type": "execute_result"
    }
   ],
   "source": [
    "all_accidents_tot.iloc[0]"
   ]
  },
  {
   "cell_type": "code",
   "execution_count": 55,
   "metadata": {
    "colab": {
     "base_uri": "https://localhost:8080/"
    },
    "executionInfo": {
     "elapsed": 541,
     "status": "ok",
     "timestamp": 1608718999240,
     "user": {
      "displayName": "Luis DEL POZO",
      "photoUrl": "",
      "userId": "08297678491184687059"
     },
     "user_tz": -60
    },
    "id": "_u6PKVc3shuq",
    "outputId": "96d8bc76-a00e-4fa7-dae6-5ff3f5dbd99c"
   },
   "outputs": [
    {
     "data": {
      "text/plain": [
       "COLISIÓN DOBLE                              389.0\n",
       "COLISIÓN MÚLTIPLE                            54.0\n",
       "CHOQUE CON OBJETO FIJO                      126.0\n",
       "ATROPELLO                                    75.0\n",
       "VUELCO                                        9.0\n",
       "CAÍDA MOTOCICLETA                            43.0\n",
       "CAÍDA CICLOMOTOR                              9.0\n",
       "CAÍDA BICICLETA                               4.0\n",
       "CAÍDA VIAJERO BUS                             5.0\n",
       "OTRAS CAUSAS                                  8.0\n",
       "CAÍDA VEHÍCULO 3 RUEDAS                       NaN\n",
       "Name: (2009, ARGANZUELA                    ), dtype: float64"
      ]
     },
     "execution_count": 55,
     "metadata": {
      "tags": []
     },
     "output_type": "execute_result"
    }
   ],
   "source": [
    "all_accidents_tot.loc['2009', 'ARGANZUELA                    ']"
   ]
  },
  {
   "cell_type": "code",
   "execution_count": 56,
   "metadata": {
    "colab": {
     "base_uri": "https://localhost:8080/"
    },
    "executionInfo": {
     "elapsed": 555,
     "status": "ok",
     "timestamp": 1608719002534,
     "user": {
      "displayName": "Luis DEL POZO",
      "photoUrl": "",
      "userId": "08297678491184687059"
     },
     "user_tz": -60
    },
    "id": "twl7JXMLuMNE",
    "outputId": "a15ced02-3d43-4480-f531-4dd51f09f7ad"
   },
   "outputs": [
    {
     "data": {
      "text/plain": [
       "168"
      ]
     },
     "execution_count": 56,
     "metadata": {
      "tags": []
     },
     "output_type": "execute_result"
    }
   ],
   "source": [
    "all_accidents_tot.index.size"
   ]
  },
  {
   "cell_type": "code",
   "execution_count": 57,
   "metadata": {
    "colab": {
     "base_uri": "https://localhost:8080/"
    },
    "executionInfo": {
     "elapsed": 709,
     "status": "ok",
     "timestamp": 1608719003405,
     "user": {
      "displayName": "Luis DEL POZO",
      "photoUrl": "",
      "userId": "08297678491184687059"
     },
     "user_tz": -60
    },
    "id": "OA87-J3yuMag",
    "outputId": "fbf53058-aa50-4648-ce1b-1f593b25f292"
   },
   "outputs": [
    {
     "data": {
      "text/plain": [
       "11"
      ]
     },
     "execution_count": 57,
     "metadata": {
      "tags": []
     },
     "output_type": "execute_result"
    }
   ],
   "source": [
    "all_accidents_tot.columns.size"
   ]
  },
  {
   "cell_type": "code",
   "execution_count": 58,
   "metadata": {
    "executionInfo": {
     "elapsed": 461,
     "status": "ok",
     "timestamp": 1608719003792,
     "user": {
      "displayName": "Luis DEL POZO",
      "photoUrl": "",
      "userId": "08297678491184687059"
     },
     "user_tz": -60
    },
    "id": "qqq70d7EuMgC"
   },
   "outputs": [],
   "source": [
    "#Vemos que hay un problema con el nombe de los barrios incluidos en los índices ya que hay muchos espacios al final\n",
    "#Estaría muy bien poder arreglarlo..."
   ]
  },
  {
   "cell_type": "code",
   "execution_count": 59,
   "metadata": {
    "executionInfo": {
     "elapsed": 451,
     "status": "ok",
     "timestamp": 1608719004402,
     "user": {
      "displayName": "Luis DEL POZO",
      "photoUrl": "",
      "userId": "08297678491184687059"
     },
     "user_tz": -60
    },
    "id": "D-pkuOsHE47M"
   },
   "outputs": [],
   "source": [
    "# -----------------------------------------------------------------------------------------------------------------\n",
    "# COMO MANEJARSE CON INDICES DOBLES ES UN POCO LIOSO, VOY A INCLUIR UNA COLUMNA \"YEAR\" EN CADA DF Y LUEGO LOS VOY A CONCATENAR \n",
    "# -----------------------------------------------------------------------------------------------------------------"
   ]
  },
  {
   "cell_type": "code",
   "execution_count": 41,
   "metadata": {
    "executionInfo": {
     "elapsed": 532,
     "status": "ok",
     "timestamp": 1608718301496,
     "user": {
      "displayName": "Luis DEL POZO",
      "photoUrl": "",
      "userId": "08297678491184687059"
     },
     "user_tz": -60
    },
    "id": "AVb4TkttZO7l"
   },
   "outputs": [],
   "source": [
    "#Hago una copia del dict all_accidents\n",
    "all_accidents_2 = all_accidents.copy()"
   ]
  },
  {
   "cell_type": "code",
   "execution_count": null,
   "metadata": {
    "id": "zDdoFyiXZPde"
   },
   "outputs": [],
   "source": [
    "all_accidents_2"
   ]
  },
  {
   "cell_type": "code",
   "execution_count": 42,
   "metadata": {
    "colab": {
     "base_uri": "https://localhost:8080/"
    },
    "executionInfo": {
     "elapsed": 574,
     "status": "ok",
     "timestamp": 1608718339899,
     "user": {
      "displayName": "Luis DEL POZO",
      "photoUrl": "",
      "userId": "08297678491184687059"
     },
     "user_tz": -60
    },
    "id": "BlGb3meObcp-",
    "outputId": "8b16a819-f2e7-4933-cea8-d849a47b3dfa"
   },
   "outputs": [
    {
     "data": {
      "text/plain": [
       "pandas.core.frame.DataFrame"
      ]
     },
     "execution_count": 42,
     "metadata": {
      "tags": []
     },
     "output_type": "execute_result"
    }
   ],
   "source": [
    "type(all_accidents_2['2009'])"
   ]
  },
  {
   "cell_type": "code",
   "execution_count": 43,
   "metadata": {
    "colab": {
     "base_uri": "https://localhost:8080/"
    },
    "executionInfo": {
     "elapsed": 530,
     "status": "ok",
     "timestamp": 1608718342090,
     "user": {
      "displayName": "Luis DEL POZO",
      "photoUrl": "",
      "userId": "08297678491184687059"
     },
     "user_tz": -60
    },
    "id": "ZMAmFSB7b3R_",
    "outputId": "3992101d-41f6-46e7-f108-1aae14c3e351"
   },
   "outputs": [
    {
     "data": {
      "text/plain": [
       "dict_keys(['2009', '2010', '2011', '2012', '2014', '2015', '2013', '2016'])"
      ]
     },
     "execution_count": 43,
     "metadata": {
      "tags": []
     },
     "output_type": "execute_result"
    }
   ],
   "source": [
    "all_accidents_2.keys()"
   ]
  },
  {
   "cell_type": "code",
   "execution_count": null,
   "metadata": {
    "id": "PnN7G9NhJFGE"
   },
   "outputs": [],
   "source": [
    "#Se incluye la columna \"AÑO\" en cada DF para luego poder ordenar (es el sustitutivo del MultiIndex)\n",
    "for year in all_accidents_2.keys():\n",
    "  all_accidents_2[year]['AÑO'] = year\n",
    "all_accidents_2"
   ]
  },
  {
   "cell_type": "code",
   "execution_count": 64,
   "metadata": {
    "colab": {
     "base_uri": "https://localhost:8080/"
    },
    "executionInfo": {
     "elapsed": 610,
     "status": "ok",
     "timestamp": 1608719890330,
     "user": {
      "displayName": "Luis DEL POZO",
      "photoUrl": "",
      "userId": "08297678491184687059"
     },
     "user_tz": -60
    },
    "id": "z4nZf1ODJFKO",
    "outputId": "f8d4efbe-833f-4a8c-cb00-4007e5793392"
   },
   "outputs": [
    {
     "data": {
      "text/plain": [
       "pandas.core.frame.DataFrame"
      ]
     },
     "execution_count": 64,
     "metadata": {
      "tags": []
     },
     "output_type": "execute_result"
    }
   ],
   "source": [
    "type(all_accidents_2['2009'])"
   ]
  },
  {
   "cell_type": "code",
   "execution_count": 65,
   "metadata": {
    "colab": {
     "base_uri": "https://localhost:8080/"
    },
    "executionInfo": {
     "elapsed": 544,
     "status": "ok",
     "timestamp": 1608719907443,
     "user": {
      "displayName": "Luis DEL POZO",
      "photoUrl": "",
      "userId": "08297678491184687059"
     },
     "user_tz": -60
    },
    "id": "al2ZAd5FcLUa",
    "outputId": "299613d7-9ef0-472f-cc65-509975e5fa49"
   },
   "outputs": [
    {
     "data": {
      "text/plain": [
       "dict"
      ]
     },
     "execution_count": 65,
     "metadata": {
      "tags": []
     },
     "output_type": "execute_result"
    }
   ],
   "source": [
    "type(all_accidents_2)"
   ]
  },
  {
   "cell_type": "code",
   "execution_count": 66,
   "metadata": {
    "colab": {
     "base_uri": "https://localhost:8080/",
     "height": 255
    },
    "executionInfo": {
     "elapsed": 629,
     "status": "ok",
     "timestamp": 1608719910308,
     "user": {
      "displayName": "Luis DEL POZO",
      "photoUrl": "",
      "userId": "08297678491184687059"
     },
     "user_tz": -60
    },
    "id": "fnVvFGgPcLaF",
    "outputId": "9ef7d341-5334-4275-e4f6-6579e3aba47b"
   },
   "outputs": [
    {
     "data": {
      "text/html": [
       "<div>\n",
       "<style scoped>\n",
       "    .dataframe tbody tr th:only-of-type {\n",
       "        vertical-align: middle;\n",
       "    }\n",
       "\n",
       "    .dataframe tbody tr th {\n",
       "        vertical-align: top;\n",
       "    }\n",
       "\n",
       "    .dataframe thead th {\n",
       "        text-align: right;\n",
       "    }\n",
       "</style>\n",
       "<table border=\"1\" class=\"dataframe\">\n",
       "  <thead>\n",
       "    <tr style=\"text-align: right;\">\n",
       "      <th></th>\n",
       "      <th>COLISIÓN DOBLE</th>\n",
       "      <th>COLISIÓN MÚLTIPLE</th>\n",
       "      <th>CHOQUE CON OBJETO FIJO</th>\n",
       "      <th>ATROPELLO</th>\n",
       "      <th>VUELCO</th>\n",
       "      <th>CAÍDA MOTOCICLETA</th>\n",
       "      <th>CAÍDA CICLOMOTOR</th>\n",
       "      <th>CAÍDA BICICLETA</th>\n",
       "      <th>CAÍDA VIAJERO BUS</th>\n",
       "      <th>OTRAS CAUSAS</th>\n",
       "      <th>AÑO</th>\n",
       "    </tr>\n",
       "    <tr>\n",
       "      <th>DISTRITO_ACCIDENTE</th>\n",
       "      <th></th>\n",
       "      <th></th>\n",
       "      <th></th>\n",
       "      <th></th>\n",
       "      <th></th>\n",
       "      <th></th>\n",
       "      <th></th>\n",
       "      <th></th>\n",
       "      <th></th>\n",
       "      <th></th>\n",
       "      <th></th>\n",
       "    </tr>\n",
       "  </thead>\n",
       "  <tbody>\n",
       "    <tr>\n",
       "      <th>ARGANZUELA</th>\n",
       "      <td>389</td>\n",
       "      <td>54</td>\n",
       "      <td>126</td>\n",
       "      <td>75</td>\n",
       "      <td>9.0</td>\n",
       "      <td>43</td>\n",
       "      <td>9</td>\n",
       "      <td>4.0</td>\n",
       "      <td>5</td>\n",
       "      <td>8</td>\n",
       "      <td>2009</td>\n",
       "    </tr>\n",
       "    <tr>\n",
       "      <th>BARAJAS</th>\n",
       "      <td>89</td>\n",
       "      <td>6</td>\n",
       "      <td>53</td>\n",
       "      <td>21</td>\n",
       "      <td>NaN</td>\n",
       "      <td>12</td>\n",
       "      <td>2</td>\n",
       "      <td>1.0</td>\n",
       "      <td>2</td>\n",
       "      <td>2</td>\n",
       "      <td>2009</td>\n",
       "    </tr>\n",
       "    <tr>\n",
       "      <th>CARABANCHEL</th>\n",
       "      <td>375</td>\n",
       "      <td>44</td>\n",
       "      <td>171</td>\n",
       "      <td>137</td>\n",
       "      <td>8.0</td>\n",
       "      <td>36</td>\n",
       "      <td>13</td>\n",
       "      <td>6.0</td>\n",
       "      <td>9</td>\n",
       "      <td>8</td>\n",
       "      <td>2009</td>\n",
       "    </tr>\n",
       "    <tr>\n",
       "      <th>CENTRO</th>\n",
       "      <td>514</td>\n",
       "      <td>55</td>\n",
       "      <td>171</td>\n",
       "      <td>143</td>\n",
       "      <td>NaN</td>\n",
       "      <td>61</td>\n",
       "      <td>12</td>\n",
       "      <td>3.0</td>\n",
       "      <td>10</td>\n",
       "      <td>12</td>\n",
       "      <td>2009</td>\n",
       "    </tr>\n",
       "    <tr>\n",
       "      <th>CHAMARTIN</th>\n",
       "      <td>494</td>\n",
       "      <td>70</td>\n",
       "      <td>133</td>\n",
       "      <td>92</td>\n",
       "      <td>10.0</td>\n",
       "      <td>72</td>\n",
       "      <td>22</td>\n",
       "      <td>2.0</td>\n",
       "      <td>6</td>\n",
       "      <td>7</td>\n",
       "      <td>2009</td>\n",
       "    </tr>\n",
       "  </tbody>\n",
       "</table>\n",
       "</div>"
      ],
      "text/plain": [
       "                                COLISIÓN DOBLE                            ...   AÑO\n",
       "DISTRITO_ACCIDENTE                                                        ...      \n",
       "ARGANZUELA                                                           389  ...  2009\n",
       "BARAJAS                                                               89  ...  2009\n",
       "CARABANCHEL                                                          375  ...  2009\n",
       "CENTRO                                                               514  ...  2009\n",
       "CHAMARTIN                                                            494  ...  2009\n",
       "\n",
       "[5 rows x 11 columns]"
      ]
     },
     "execution_count": 66,
     "metadata": {
      "tags": []
     },
     "output_type": "execute_result"
    }
   ],
   "source": [
    "all_accidents_2['2009'].head()"
   ]
  },
  {
   "cell_type": "code",
   "execution_count": 67,
   "metadata": {
    "colab": {
     "base_uri": "https://localhost:8080/",
     "height": 255
    },
    "executionInfo": {
     "elapsed": 522,
     "status": "ok",
     "timestamp": 1608719918032,
     "user": {
      "displayName": "Luis DEL POZO",
      "photoUrl": "",
      "userId": "08297678491184687059"
     },
     "user_tz": -60
    },
    "id": "Cj1gjU3wcLd0",
    "outputId": "d353039f-6a26-4a86-f8c6-12f1273dea10"
   },
   "outputs": [
    {
     "data": {
      "text/html": [
       "<div>\n",
       "<style scoped>\n",
       "    .dataframe tbody tr th:only-of-type {\n",
       "        vertical-align: middle;\n",
       "    }\n",
       "\n",
       "    .dataframe tbody tr th {\n",
       "        vertical-align: top;\n",
       "    }\n",
       "\n",
       "    .dataframe thead th {\n",
       "        text-align: right;\n",
       "    }\n",
       "</style>\n",
       "<table border=\"1\" class=\"dataframe\">\n",
       "  <thead>\n",
       "    <tr style=\"text-align: right;\">\n",
       "      <th></th>\n",
       "      <th>COLISIÓN DOBLE</th>\n",
       "      <th>COLISIÓN MÚLTIPLE</th>\n",
       "      <th>CHOQUE CON OBJETO FIJO</th>\n",
       "      <th>ATROPELLO</th>\n",
       "      <th>VUELCO</th>\n",
       "      <th>CAÍDA MOTOCICLETA</th>\n",
       "      <th>CAÍDA CICLOMOTOR</th>\n",
       "      <th>CAÍDA BICICLETA</th>\n",
       "      <th>CAÍDA VIAJERO BUS</th>\n",
       "      <th>OTRAS CAUSAS</th>\n",
       "      <th>CAÍDA VEHÍCULO 3 RUEDAS</th>\n",
       "      <th>AÑO</th>\n",
       "    </tr>\n",
       "    <tr>\n",
       "      <th>DISTRITO_ACCIDENTE</th>\n",
       "      <th></th>\n",
       "      <th></th>\n",
       "      <th></th>\n",
       "      <th></th>\n",
       "      <th></th>\n",
       "      <th></th>\n",
       "      <th></th>\n",
       "      <th></th>\n",
       "      <th></th>\n",
       "      <th></th>\n",
       "      <th></th>\n",
       "      <th></th>\n",
       "    </tr>\n",
       "  </thead>\n",
       "  <tbody>\n",
       "    <tr>\n",
       "      <th>ARGANZUELA</th>\n",
       "      <td>328</td>\n",
       "      <td>62</td>\n",
       "      <td>86</td>\n",
       "      <td>57</td>\n",
       "      <td>1.0</td>\n",
       "      <td>46</td>\n",
       "      <td>12</td>\n",
       "      <td>10</td>\n",
       "      <td>6</td>\n",
       "      <td>2.0</td>\n",
       "      <td>NaN</td>\n",
       "      <td>2016</td>\n",
       "    </tr>\n",
       "    <tr>\n",
       "      <th>BARAJAS</th>\n",
       "      <td>95</td>\n",
       "      <td>6</td>\n",
       "      <td>50</td>\n",
       "      <td>34</td>\n",
       "      <td>4.0</td>\n",
       "      <td>12</td>\n",
       "      <td>2</td>\n",
       "      <td>4</td>\n",
       "      <td>2</td>\n",
       "      <td>4.0</td>\n",
       "      <td>NaN</td>\n",
       "      <td>2016</td>\n",
       "    </tr>\n",
       "    <tr>\n",
       "      <th>CARABANCHEL</th>\n",
       "      <td>346</td>\n",
       "      <td>55</td>\n",
       "      <td>121</td>\n",
       "      <td>106</td>\n",
       "      <td>5.0</td>\n",
       "      <td>53</td>\n",
       "      <td>18</td>\n",
       "      <td>7</td>\n",
       "      <td>8</td>\n",
       "      <td>6.0</td>\n",
       "      <td>NaN</td>\n",
       "      <td>2016</td>\n",
       "    </tr>\n",
       "    <tr>\n",
       "      <th>CENTRO</th>\n",
       "      <td>444</td>\n",
       "      <td>23</td>\n",
       "      <td>172</td>\n",
       "      <td>144</td>\n",
       "      <td>NaN</td>\n",
       "      <td>97</td>\n",
       "      <td>11</td>\n",
       "      <td>33</td>\n",
       "      <td>5</td>\n",
       "      <td>3.0</td>\n",
       "      <td>NaN</td>\n",
       "      <td>2016</td>\n",
       "    </tr>\n",
       "    <tr>\n",
       "      <th>CHAMARTIN</th>\n",
       "      <td>499</td>\n",
       "      <td>59</td>\n",
       "      <td>122</td>\n",
       "      <td>80</td>\n",
       "      <td>5.0</td>\n",
       "      <td>105</td>\n",
       "      <td>14</td>\n",
       "      <td>8</td>\n",
       "      <td>5</td>\n",
       "      <td>7.0</td>\n",
       "      <td>NaN</td>\n",
       "      <td>2016</td>\n",
       "    </tr>\n",
       "  </tbody>\n",
       "</table>\n",
       "</div>"
      ],
      "text/plain": [
       "                                COLISIÓN DOBLE                            ...   AÑO\n",
       "DISTRITO_ACCIDENTE                                                        ...      \n",
       "ARGANZUELA                                                           328  ...  2016\n",
       "BARAJAS                                                               95  ...  2016\n",
       "CARABANCHEL                                                          346  ...  2016\n",
       "CENTRO                                                               444  ...  2016\n",
       "CHAMARTIN                                                            499  ...  2016\n",
       "\n",
       "[5 rows x 12 columns]"
      ]
     },
     "execution_count": 67,
     "metadata": {
      "tags": []
     },
     "output_type": "execute_result"
    }
   ],
   "source": [
    "all_accidents_2['2016'].head()"
   ]
  },
  {
   "cell_type": "code",
   "execution_count": 68,
   "metadata": {
    "executionInfo": {
     "elapsed": 542,
     "status": "ok",
     "timestamp": 1608719993414,
     "user": {
      "displayName": "Luis DEL POZO",
      "photoUrl": "",
      "userId": "08297678491184687059"
     },
     "user_tz": -60
    },
    "id": "eX00dDPrcLi_"
   },
   "outputs": [],
   "source": [
    "#Ahora ya se pueden concatenar sin miedo a tener doble índice\n",
    "all_accidents_tot_2 = pd.concat(all_accidents_2.values())"
   ]
  },
  {
   "cell_type": "code",
   "execution_count": 69,
   "metadata": {
    "colab": {
     "base_uri": "https://localhost:8080/",
     "height": 255
    },
    "executionInfo": {
     "elapsed": 552,
     "status": "ok",
     "timestamp": 1608719998324,
     "user": {
      "displayName": "Luis DEL POZO",
      "photoUrl": "",
      "userId": "08297678491184687059"
     },
     "user_tz": -60
    },
    "id": "Rc3MGHN1eMZH",
    "outputId": "98d90539-fe99-49bf-85c9-6197889f4655"
   },
   "outputs": [
    {
     "data": {
      "text/html": [
       "<div>\n",
       "<style scoped>\n",
       "    .dataframe tbody tr th:only-of-type {\n",
       "        vertical-align: middle;\n",
       "    }\n",
       "\n",
       "    .dataframe tbody tr th {\n",
       "        vertical-align: top;\n",
       "    }\n",
       "\n",
       "    .dataframe thead th {\n",
       "        text-align: right;\n",
       "    }\n",
       "</style>\n",
       "<table border=\"1\" class=\"dataframe\">\n",
       "  <thead>\n",
       "    <tr style=\"text-align: right;\">\n",
       "      <th></th>\n",
       "      <th>COLISIÓN DOBLE</th>\n",
       "      <th>COLISIÓN MÚLTIPLE</th>\n",
       "      <th>CHOQUE CON OBJETO FIJO</th>\n",
       "      <th>ATROPELLO</th>\n",
       "      <th>VUELCO</th>\n",
       "      <th>CAÍDA MOTOCICLETA</th>\n",
       "      <th>CAÍDA CICLOMOTOR</th>\n",
       "      <th>CAÍDA BICICLETA</th>\n",
       "      <th>CAÍDA VIAJERO BUS</th>\n",
       "      <th>OTRAS CAUSAS</th>\n",
       "      <th>AÑO</th>\n",
       "      <th>CAÍDA VEHÍCULO 3 RUEDAS</th>\n",
       "    </tr>\n",
       "    <tr>\n",
       "      <th>DISTRITO_ACCIDENTE</th>\n",
       "      <th></th>\n",
       "      <th></th>\n",
       "      <th></th>\n",
       "      <th></th>\n",
       "      <th></th>\n",
       "      <th></th>\n",
       "      <th></th>\n",
       "      <th></th>\n",
       "      <th></th>\n",
       "      <th></th>\n",
       "      <th></th>\n",
       "      <th></th>\n",
       "    </tr>\n",
       "  </thead>\n",
       "  <tbody>\n",
       "    <tr>\n",
       "      <th>ARGANZUELA</th>\n",
       "      <td>389</td>\n",
       "      <td>54</td>\n",
       "      <td>126</td>\n",
       "      <td>75</td>\n",
       "      <td>9.0</td>\n",
       "      <td>43</td>\n",
       "      <td>9.0</td>\n",
       "      <td>4.0</td>\n",
       "      <td>5.0</td>\n",
       "      <td>8.0</td>\n",
       "      <td>2009</td>\n",
       "      <td>NaN</td>\n",
       "    </tr>\n",
       "    <tr>\n",
       "      <th>BARAJAS</th>\n",
       "      <td>89</td>\n",
       "      <td>6</td>\n",
       "      <td>53</td>\n",
       "      <td>21</td>\n",
       "      <td>NaN</td>\n",
       "      <td>12</td>\n",
       "      <td>2.0</td>\n",
       "      <td>1.0</td>\n",
       "      <td>2.0</td>\n",
       "      <td>2.0</td>\n",
       "      <td>2009</td>\n",
       "      <td>NaN</td>\n",
       "    </tr>\n",
       "    <tr>\n",
       "      <th>CARABANCHEL</th>\n",
       "      <td>375</td>\n",
       "      <td>44</td>\n",
       "      <td>171</td>\n",
       "      <td>137</td>\n",
       "      <td>8.0</td>\n",
       "      <td>36</td>\n",
       "      <td>13.0</td>\n",
       "      <td>6.0</td>\n",
       "      <td>9.0</td>\n",
       "      <td>8.0</td>\n",
       "      <td>2009</td>\n",
       "      <td>NaN</td>\n",
       "    </tr>\n",
       "    <tr>\n",
       "      <th>CENTRO</th>\n",
       "      <td>514</td>\n",
       "      <td>55</td>\n",
       "      <td>171</td>\n",
       "      <td>143</td>\n",
       "      <td>NaN</td>\n",
       "      <td>61</td>\n",
       "      <td>12.0</td>\n",
       "      <td>3.0</td>\n",
       "      <td>10.0</td>\n",
       "      <td>12.0</td>\n",
       "      <td>2009</td>\n",
       "      <td>NaN</td>\n",
       "    </tr>\n",
       "    <tr>\n",
       "      <th>CHAMARTIN</th>\n",
       "      <td>494</td>\n",
       "      <td>70</td>\n",
       "      <td>133</td>\n",
       "      <td>92</td>\n",
       "      <td>10.0</td>\n",
       "      <td>72</td>\n",
       "      <td>22.0</td>\n",
       "      <td>2.0</td>\n",
       "      <td>6.0</td>\n",
       "      <td>7.0</td>\n",
       "      <td>2009</td>\n",
       "      <td>NaN</td>\n",
       "    </tr>\n",
       "  </tbody>\n",
       "</table>\n",
       "</div>"
      ],
      "text/plain": [
       "                                COLISIÓN DOBLE                            ...  CAÍDA VEHÍCULO 3 RUEDAS                 \n",
       "DISTRITO_ACCIDENTE                                                        ...                                          \n",
       "ARGANZUELA                                                           389  ...                                       NaN\n",
       "BARAJAS                                                               89  ...                                       NaN\n",
       "CARABANCHEL                                                          375  ...                                       NaN\n",
       "CENTRO                                                               514  ...                                       NaN\n",
       "CHAMARTIN                                                            494  ...                                       NaN\n",
       "\n",
       "[5 rows x 12 columns]"
      ]
     },
     "execution_count": 69,
     "metadata": {
      "tags": []
     },
     "output_type": "execute_result"
    }
   ],
   "source": [
    "all_accidents_tot_2.head()"
   ]
  },
  {
   "cell_type": "code",
   "execution_count": 70,
   "metadata": {
    "colab": {
     "base_uri": "https://localhost:8080/",
     "height": 272
    },
    "executionInfo": {
     "elapsed": 549,
     "status": "ok",
     "timestamp": 1608720006589,
     "user": {
      "displayName": "Luis DEL POZO",
      "photoUrl": "",
      "userId": "08297678491184687059"
     },
     "user_tz": -60
    },
    "id": "-sWoS2utelrb",
    "outputId": "69f8d651-c983-4e56-92b7-3856a0231c05"
   },
   "outputs": [
    {
     "data": {
      "text/html": [
       "<div>\n",
       "<style scoped>\n",
       "    .dataframe tbody tr th:only-of-type {\n",
       "        vertical-align: middle;\n",
       "    }\n",
       "\n",
       "    .dataframe tbody tr th {\n",
       "        vertical-align: top;\n",
       "    }\n",
       "\n",
       "    .dataframe thead th {\n",
       "        text-align: right;\n",
       "    }\n",
       "</style>\n",
       "<table border=\"1\" class=\"dataframe\">\n",
       "  <thead>\n",
       "    <tr style=\"text-align: right;\">\n",
       "      <th></th>\n",
       "      <th>COLISIÓN DOBLE</th>\n",
       "      <th>COLISIÓN MÚLTIPLE</th>\n",
       "      <th>CHOQUE CON OBJETO FIJO</th>\n",
       "      <th>ATROPELLO</th>\n",
       "      <th>VUELCO</th>\n",
       "      <th>CAÍDA MOTOCICLETA</th>\n",
       "      <th>CAÍDA CICLOMOTOR</th>\n",
       "      <th>CAÍDA BICICLETA</th>\n",
       "      <th>CAÍDA VIAJERO BUS</th>\n",
       "      <th>OTRAS CAUSAS</th>\n",
       "      <th>AÑO</th>\n",
       "      <th>CAÍDA VEHÍCULO 3 RUEDAS</th>\n",
       "    </tr>\n",
       "    <tr>\n",
       "      <th>DISTRITO_ACCIDENTE</th>\n",
       "      <th></th>\n",
       "      <th></th>\n",
       "      <th></th>\n",
       "      <th></th>\n",
       "      <th></th>\n",
       "      <th></th>\n",
       "      <th></th>\n",
       "      <th></th>\n",
       "      <th></th>\n",
       "      <th></th>\n",
       "      <th></th>\n",
       "      <th></th>\n",
       "    </tr>\n",
       "  </thead>\n",
       "  <tbody>\n",
       "    <tr>\n",
       "      <th>TETUAN</th>\n",
       "      <td>330</td>\n",
       "      <td>43</td>\n",
       "      <td>70</td>\n",
       "      <td>91</td>\n",
       "      <td>NaN</td>\n",
       "      <td>73</td>\n",
       "      <td>25.0</td>\n",
       "      <td>13.0</td>\n",
       "      <td>5.0</td>\n",
       "      <td>3.0</td>\n",
       "      <td>2016</td>\n",
       "      <td>NaN</td>\n",
       "    </tr>\n",
       "    <tr>\n",
       "      <th>USERA</th>\n",
       "      <td>206</td>\n",
       "      <td>27</td>\n",
       "      <td>74</td>\n",
       "      <td>75</td>\n",
       "      <td>2.0</td>\n",
       "      <td>16</td>\n",
       "      <td>2.0</td>\n",
       "      <td>5.0</td>\n",
       "      <td>4.0</td>\n",
       "      <td>1.0</td>\n",
       "      <td>2016</td>\n",
       "      <td>NaN</td>\n",
       "    </tr>\n",
       "    <tr>\n",
       "      <th>VICALVARO</th>\n",
       "      <td>70</td>\n",
       "      <td>4</td>\n",
       "      <td>38</td>\n",
       "      <td>22</td>\n",
       "      <td>4.0</td>\n",
       "      <td>15</td>\n",
       "      <td>2.0</td>\n",
       "      <td>3.0</td>\n",
       "      <td>2.0</td>\n",
       "      <td>1.0</td>\n",
       "      <td>2016</td>\n",
       "      <td>NaN</td>\n",
       "    </tr>\n",
       "    <tr>\n",
       "      <th>VILLA DE VALLECAS</th>\n",
       "      <td>149</td>\n",
       "      <td>7</td>\n",
       "      <td>42</td>\n",
       "      <td>54</td>\n",
       "      <td>5.0</td>\n",
       "      <td>26</td>\n",
       "      <td>4.0</td>\n",
       "      <td>4.0</td>\n",
       "      <td>1.0</td>\n",
       "      <td>3.0</td>\n",
       "      <td>2016</td>\n",
       "      <td>NaN</td>\n",
       "    </tr>\n",
       "    <tr>\n",
       "      <th>VILLAVERDE</th>\n",
       "      <td>177</td>\n",
       "      <td>11</td>\n",
       "      <td>71</td>\n",
       "      <td>54</td>\n",
       "      <td>1.0</td>\n",
       "      <td>8</td>\n",
       "      <td>5.0</td>\n",
       "      <td>6.0</td>\n",
       "      <td>2.0</td>\n",
       "      <td>1.0</td>\n",
       "      <td>2016</td>\n",
       "      <td>NaN</td>\n",
       "    </tr>\n",
       "  </tbody>\n",
       "</table>\n",
       "</div>"
      ],
      "text/plain": [
       "                                COLISIÓN DOBLE                            ...  CAÍDA VEHÍCULO 3 RUEDAS                 \n",
       "DISTRITO_ACCIDENTE                                                        ...                                          \n",
       "TETUAN                                                               330  ...                                       NaN\n",
       "USERA                                                                206  ...                                       NaN\n",
       "VICALVARO                                                             70  ...                                       NaN\n",
       "VILLA DE VALLECAS                                                    149  ...                                       NaN\n",
       "VILLAVERDE                                                           177  ...                                       NaN\n",
       "\n",
       "[5 rows x 12 columns]"
      ]
     },
     "execution_count": 70,
     "metadata": {
      "tags": []
     },
     "output_type": "execute_result"
    }
   ],
   "source": [
    "all_accidents_tot_2.tail()"
   ]
  },
  {
   "cell_type": "code",
   "execution_count": 71,
   "metadata": {
    "colab": {
     "base_uri": "https://localhost:8080/",
     "height": 507
    },
    "executionInfo": {
     "elapsed": 533,
     "status": "ok",
     "timestamp": 1608720057047,
     "user": {
      "displayName": "Luis DEL POZO",
      "photoUrl": "",
      "userId": "08297678491184687059"
     },
     "user_tz": -60
    },
    "id": "6x-RHd0PetdH",
    "outputId": "6813f90a-0b90-452d-e0e9-4353f5781b7a"
   },
   "outputs": [
    {
     "data": {
      "text/html": [
       "<div>\n",
       "<style scoped>\n",
       "    .dataframe tbody tr th:only-of-type {\n",
       "        vertical-align: middle;\n",
       "    }\n",
       "\n",
       "    .dataframe tbody tr th {\n",
       "        vertical-align: top;\n",
       "    }\n",
       "\n",
       "    .dataframe thead th {\n",
       "        text-align: right;\n",
       "    }\n",
       "</style>\n",
       "<table border=\"1\" class=\"dataframe\">\n",
       "  <thead>\n",
       "    <tr style=\"text-align: right;\">\n",
       "      <th></th>\n",
       "      <th>COLISIÓN DOBLE</th>\n",
       "      <th>COLISIÓN MÚLTIPLE</th>\n",
       "      <th>CHOQUE CON OBJETO FIJO</th>\n",
       "      <th>ATROPELLO</th>\n",
       "      <th>VUELCO</th>\n",
       "      <th>CAÍDA MOTOCICLETA</th>\n",
       "      <th>CAÍDA CICLOMOTOR</th>\n",
       "      <th>CAÍDA BICICLETA</th>\n",
       "      <th>CAÍDA VIAJERO BUS</th>\n",
       "      <th>OTRAS CAUSAS</th>\n",
       "      <th>AÑO</th>\n",
       "      <th>CAÍDA VEHÍCULO 3 RUEDAS</th>\n",
       "    </tr>\n",
       "    <tr>\n",
       "      <th>DISTRITO_ACCIDENTE</th>\n",
       "      <th></th>\n",
       "      <th></th>\n",
       "      <th></th>\n",
       "      <th></th>\n",
       "      <th></th>\n",
       "      <th></th>\n",
       "      <th></th>\n",
       "      <th></th>\n",
       "      <th></th>\n",
       "      <th></th>\n",
       "      <th></th>\n",
       "      <th></th>\n",
       "    </tr>\n",
       "  </thead>\n",
       "  <tbody>\n",
       "    <tr>\n",
       "      <th>ARGANZUELA</th>\n",
       "      <td>389</td>\n",
       "      <td>54</td>\n",
       "      <td>126</td>\n",
       "      <td>75</td>\n",
       "      <td>9.0</td>\n",
       "      <td>43</td>\n",
       "      <td>9.0</td>\n",
       "      <td>4.0</td>\n",
       "      <td>5.0</td>\n",
       "      <td>8.0</td>\n",
       "      <td>2009</td>\n",
       "      <td>NaN</td>\n",
       "    </tr>\n",
       "    <tr>\n",
       "      <th>VILLAVERDE</th>\n",
       "      <td>148</td>\n",
       "      <td>19</td>\n",
       "      <td>65</td>\n",
       "      <td>46</td>\n",
       "      <td>4.0</td>\n",
       "      <td>9</td>\n",
       "      <td>4.0</td>\n",
       "      <td>3.0</td>\n",
       "      <td>1.0</td>\n",
       "      <td>8.0</td>\n",
       "      <td>2009</td>\n",
       "      <td>NaN</td>\n",
       "    </tr>\n",
       "    <tr>\n",
       "      <th>VILLA DE VALLECAS</th>\n",
       "      <td>142</td>\n",
       "      <td>6</td>\n",
       "      <td>67</td>\n",
       "      <td>36</td>\n",
       "      <td>3.0</td>\n",
       "      <td>8</td>\n",
       "      <td>4.0</td>\n",
       "      <td>1.0</td>\n",
       "      <td>2.0</td>\n",
       "      <td>3.0</td>\n",
       "      <td>2009</td>\n",
       "      <td>NaN</td>\n",
       "    </tr>\n",
       "    <tr>\n",
       "      <th>VICALVARO</th>\n",
       "      <td>86</td>\n",
       "      <td>6</td>\n",
       "      <td>39</td>\n",
       "      <td>15</td>\n",
       "      <td>6.0</td>\n",
       "      <td>9</td>\n",
       "      <td>4.0</td>\n",
       "      <td>3.0</td>\n",
       "      <td>2.0</td>\n",
       "      <td>2.0</td>\n",
       "      <td>2009</td>\n",
       "      <td>NaN</td>\n",
       "    </tr>\n",
       "    <tr>\n",
       "      <th>USERA</th>\n",
       "      <td>214</td>\n",
       "      <td>24</td>\n",
       "      <td>96</td>\n",
       "      <td>53</td>\n",
       "      <td>1.0</td>\n",
       "      <td>13</td>\n",
       "      <td>2.0</td>\n",
       "      <td>1.0</td>\n",
       "      <td>4.0</td>\n",
       "      <td>3.0</td>\n",
       "      <td>2009</td>\n",
       "      <td>NaN</td>\n",
       "    </tr>\n",
       "    <tr>\n",
       "      <th>...</th>\n",
       "      <td>...</td>\n",
       "      <td>...</td>\n",
       "      <td>...</td>\n",
       "      <td>...</td>\n",
       "      <td>...</td>\n",
       "      <td>...</td>\n",
       "      <td>...</td>\n",
       "      <td>...</td>\n",
       "      <td>...</td>\n",
       "      <td>...</td>\n",
       "      <td>...</td>\n",
       "      <td>...</td>\n",
       "    </tr>\n",
       "    <tr>\n",
       "      <th>CARABANCHEL</th>\n",
       "      <td>346</td>\n",
       "      <td>55</td>\n",
       "      <td>121</td>\n",
       "      <td>106</td>\n",
       "      <td>5.0</td>\n",
       "      <td>53</td>\n",
       "      <td>18.0</td>\n",
       "      <td>7.0</td>\n",
       "      <td>8.0</td>\n",
       "      <td>6.0</td>\n",
       "      <td>2016</td>\n",
       "      <td>NaN</td>\n",
       "    </tr>\n",
       "    <tr>\n",
       "      <th>BARAJAS</th>\n",
       "      <td>95</td>\n",
       "      <td>6</td>\n",
       "      <td>50</td>\n",
       "      <td>34</td>\n",
       "      <td>4.0</td>\n",
       "      <td>12</td>\n",
       "      <td>2.0</td>\n",
       "      <td>4.0</td>\n",
       "      <td>2.0</td>\n",
       "      <td>4.0</td>\n",
       "      <td>2016</td>\n",
       "      <td>NaN</td>\n",
       "    </tr>\n",
       "    <tr>\n",
       "      <th>VILLA DE VALLECAS</th>\n",
       "      <td>149</td>\n",
       "      <td>7</td>\n",
       "      <td>42</td>\n",
       "      <td>54</td>\n",
       "      <td>5.0</td>\n",
       "      <td>26</td>\n",
       "      <td>4.0</td>\n",
       "      <td>4.0</td>\n",
       "      <td>1.0</td>\n",
       "      <td>3.0</td>\n",
       "      <td>2016</td>\n",
       "      <td>NaN</td>\n",
       "    </tr>\n",
       "    <tr>\n",
       "      <th>LATINA</th>\n",
       "      <td>288</td>\n",
       "      <td>40</td>\n",
       "      <td>119</td>\n",
       "      <td>104</td>\n",
       "      <td>3.0</td>\n",
       "      <td>36</td>\n",
       "      <td>12.0</td>\n",
       "      <td>11.0</td>\n",
       "      <td>7.0</td>\n",
       "      <td>2.0</td>\n",
       "      <td>2016</td>\n",
       "      <td>NaN</td>\n",
       "    </tr>\n",
       "    <tr>\n",
       "      <th>VILLAVERDE</th>\n",
       "      <td>177</td>\n",
       "      <td>11</td>\n",
       "      <td>71</td>\n",
       "      <td>54</td>\n",
       "      <td>1.0</td>\n",
       "      <td>8</td>\n",
       "      <td>5.0</td>\n",
       "      <td>6.0</td>\n",
       "      <td>2.0</td>\n",
       "      <td>1.0</td>\n",
       "      <td>2016</td>\n",
       "      <td>NaN</td>\n",
       "    </tr>\n",
       "  </tbody>\n",
       "</table>\n",
       "<p>168 rows × 12 columns</p>\n",
       "</div>"
      ],
      "text/plain": [
       "                                COLISIÓN DOBLE                            ...  CAÍDA VEHÍCULO 3 RUEDAS                 \n",
       "DISTRITO_ACCIDENTE                                                        ...                                          \n",
       "ARGANZUELA                                                           389  ...                                       NaN\n",
       "VILLAVERDE                                                           148  ...                                       NaN\n",
       "VILLA DE VALLECAS                                                    142  ...                                       NaN\n",
       "VICALVARO                                                             86  ...                                       NaN\n",
       "USERA                                                                214  ...                                       NaN\n",
       "...                                                                  ...  ...                                       ...\n",
       "CARABANCHEL                                                          346  ...                                       NaN\n",
       "BARAJAS                                                               95  ...                                       NaN\n",
       "VILLA DE VALLECAS                                                    149  ...                                       NaN\n",
       "LATINA                                                               288  ...                                       NaN\n",
       "VILLAVERDE                                                           177  ...                                       NaN\n",
       "\n",
       "[168 rows x 12 columns]"
      ]
     },
     "execution_count": 71,
     "metadata": {
      "tags": []
     },
     "output_type": "execute_result"
    }
   ],
   "source": [
    "#Ahora voy a intentar ordenar las columnas del DF, por orden descendente de año, pero ojo, sin modifcar el orden alfabético del índice\n",
    "\n",
    "all_accidents_tot_2.sort_values(by='AÑO')\n"
   ]
  },
  {
   "cell_type": "code",
   "execution_count": 72,
   "metadata": {
    "executionInfo": {
     "elapsed": 577,
     "status": "ok",
     "timestamp": 1608720063442,
     "user": {
      "displayName": "Luis DEL POZO",
      "photoUrl": "",
      "userId": "08297678491184687059"
     },
     "user_tz": -60
    },
    "id": "wE-H-Fdxeuz-"
   },
   "outputs": [],
   "source": [
    "#Se observa que está desordenada en los índices, por lo tanto, no vale esta ordenación\n",
    "#Probaremos otra cosa"
   ]
  },
  {
   "cell_type": "code",
   "execution_count": 109,
   "metadata": {
    "colab": {
     "base_uri": "https://localhost:8080/",
     "height": 490
    },
    "executionInfo": {
     "elapsed": 577,
     "status": "ok",
     "timestamp": 1608721405307,
     "user": {
      "displayName": "Luis DEL POZO",
      "photoUrl": "",
      "userId": "08297678491184687059"
     },
     "user_tz": -60
    },
    "id": "UwG1f4DoMC_d",
    "outputId": "e3c9d07c-a077-41d0-c9f6-c94fbcd7a6ef"
   },
   "outputs": [
    {
     "data": {
      "text/html": [
       "<div>\n",
       "<style scoped>\n",
       "    .dataframe tbody tr th:only-of-type {\n",
       "        vertical-align: middle;\n",
       "    }\n",
       "\n",
       "    .dataframe tbody tr th {\n",
       "        vertical-align: top;\n",
       "    }\n",
       "\n",
       "    .dataframe thead th {\n",
       "        text-align: right;\n",
       "    }\n",
       "</style>\n",
       "<table border=\"1\" class=\"dataframe\">\n",
       "  <thead>\n",
       "    <tr style=\"text-align: right;\">\n",
       "      <th></th>\n",
       "      <th>COLISIÓN DOBLE</th>\n",
       "      <th>COLISIÓN MÚLTIPLE</th>\n",
       "      <th>CHOQUE CON OBJETO FIJO</th>\n",
       "      <th>ATROPELLO</th>\n",
       "      <th>VUELCO</th>\n",
       "      <th>CAÍDA MOTOCICLETA</th>\n",
       "      <th>CAÍDA CICLOMOTOR</th>\n",
       "      <th>CAÍDA BICICLETA</th>\n",
       "      <th>CAÍDA VIAJERO BUS</th>\n",
       "      <th>OTRAS CAUSAS</th>\n",
       "      <th>AÑO</th>\n",
       "      <th>CAÍDA VEHÍCULO 3 RUEDAS</th>\n",
       "    </tr>\n",
       "    <tr>\n",
       "      <th>DISTRITO_ACCIDENTE</th>\n",
       "      <th></th>\n",
       "      <th></th>\n",
       "      <th></th>\n",
       "      <th></th>\n",
       "      <th></th>\n",
       "      <th></th>\n",
       "      <th></th>\n",
       "      <th></th>\n",
       "      <th></th>\n",
       "      <th></th>\n",
       "      <th></th>\n",
       "      <th></th>\n",
       "    </tr>\n",
       "  </thead>\n",
       "  <tbody>\n",
       "    <tr>\n",
       "      <th>ARGANZUELA</th>\n",
       "      <td>389</td>\n",
       "      <td>54</td>\n",
       "      <td>126</td>\n",
       "      <td>75</td>\n",
       "      <td>9.0</td>\n",
       "      <td>43</td>\n",
       "      <td>9.0</td>\n",
       "      <td>4.0</td>\n",
       "      <td>5.0</td>\n",
       "      <td>8.0</td>\n",
       "      <td>2009</td>\n",
       "      <td>NaN</td>\n",
       "    </tr>\n",
       "    <tr>\n",
       "      <th>BARAJAS</th>\n",
       "      <td>89</td>\n",
       "      <td>6</td>\n",
       "      <td>53</td>\n",
       "      <td>21</td>\n",
       "      <td>NaN</td>\n",
       "      <td>12</td>\n",
       "      <td>2.0</td>\n",
       "      <td>1.0</td>\n",
       "      <td>2.0</td>\n",
       "      <td>2.0</td>\n",
       "      <td>2009</td>\n",
       "      <td>NaN</td>\n",
       "    </tr>\n",
       "    <tr>\n",
       "      <th>CARABANCHEL</th>\n",
       "      <td>375</td>\n",
       "      <td>44</td>\n",
       "      <td>171</td>\n",
       "      <td>137</td>\n",
       "      <td>8.0</td>\n",
       "      <td>36</td>\n",
       "      <td>13.0</td>\n",
       "      <td>6.0</td>\n",
       "      <td>9.0</td>\n",
       "      <td>8.0</td>\n",
       "      <td>2009</td>\n",
       "      <td>NaN</td>\n",
       "    </tr>\n",
       "    <tr>\n",
       "      <th>CENTRO</th>\n",
       "      <td>514</td>\n",
       "      <td>55</td>\n",
       "      <td>171</td>\n",
       "      <td>143</td>\n",
       "      <td>NaN</td>\n",
       "      <td>61</td>\n",
       "      <td>12.0</td>\n",
       "      <td>3.0</td>\n",
       "      <td>10.0</td>\n",
       "      <td>12.0</td>\n",
       "      <td>2009</td>\n",
       "      <td>NaN</td>\n",
       "    </tr>\n",
       "    <tr>\n",
       "      <th>CHAMARTIN</th>\n",
       "      <td>494</td>\n",
       "      <td>70</td>\n",
       "      <td>133</td>\n",
       "      <td>92</td>\n",
       "      <td>10.0</td>\n",
       "      <td>72</td>\n",
       "      <td>22.0</td>\n",
       "      <td>2.0</td>\n",
       "      <td>6.0</td>\n",
       "      <td>7.0</td>\n",
       "      <td>2009</td>\n",
       "      <td>NaN</td>\n",
       "    </tr>\n",
       "    <tr>\n",
       "      <th>...</th>\n",
       "      <td>...</td>\n",
       "      <td>...</td>\n",
       "      <td>...</td>\n",
       "      <td>...</td>\n",
       "      <td>...</td>\n",
       "      <td>...</td>\n",
       "      <td>...</td>\n",
       "      <td>...</td>\n",
       "      <td>...</td>\n",
       "      <td>...</td>\n",
       "      <td>...</td>\n",
       "      <td>...</td>\n",
       "    </tr>\n",
       "    <tr>\n",
       "      <th>TETUAN</th>\n",
       "      <td>330</td>\n",
       "      <td>43</td>\n",
       "      <td>70</td>\n",
       "      <td>91</td>\n",
       "      <td>NaN</td>\n",
       "      <td>73</td>\n",
       "      <td>25.0</td>\n",
       "      <td>13.0</td>\n",
       "      <td>5.0</td>\n",
       "      <td>3.0</td>\n",
       "      <td>2016</td>\n",
       "      <td>NaN</td>\n",
       "    </tr>\n",
       "    <tr>\n",
       "      <th>USERA</th>\n",
       "      <td>206</td>\n",
       "      <td>27</td>\n",
       "      <td>74</td>\n",
       "      <td>75</td>\n",
       "      <td>2.0</td>\n",
       "      <td>16</td>\n",
       "      <td>2.0</td>\n",
       "      <td>5.0</td>\n",
       "      <td>4.0</td>\n",
       "      <td>1.0</td>\n",
       "      <td>2016</td>\n",
       "      <td>NaN</td>\n",
       "    </tr>\n",
       "    <tr>\n",
       "      <th>VICALVARO</th>\n",
       "      <td>70</td>\n",
       "      <td>4</td>\n",
       "      <td>38</td>\n",
       "      <td>22</td>\n",
       "      <td>4.0</td>\n",
       "      <td>15</td>\n",
       "      <td>2.0</td>\n",
       "      <td>3.0</td>\n",
       "      <td>2.0</td>\n",
       "      <td>1.0</td>\n",
       "      <td>2016</td>\n",
       "      <td>NaN</td>\n",
       "    </tr>\n",
       "    <tr>\n",
       "      <th>VILLA DE VALLECAS</th>\n",
       "      <td>149</td>\n",
       "      <td>7</td>\n",
       "      <td>42</td>\n",
       "      <td>54</td>\n",
       "      <td>5.0</td>\n",
       "      <td>26</td>\n",
       "      <td>4.0</td>\n",
       "      <td>4.0</td>\n",
       "      <td>1.0</td>\n",
       "      <td>3.0</td>\n",
       "      <td>2016</td>\n",
       "      <td>NaN</td>\n",
       "    </tr>\n",
       "    <tr>\n",
       "      <th>VILLAVERDE</th>\n",
       "      <td>177</td>\n",
       "      <td>11</td>\n",
       "      <td>71</td>\n",
       "      <td>54</td>\n",
       "      <td>1.0</td>\n",
       "      <td>8</td>\n",
       "      <td>5.0</td>\n",
       "      <td>6.0</td>\n",
       "      <td>2.0</td>\n",
       "      <td>1.0</td>\n",
       "      <td>2016</td>\n",
       "      <td>NaN</td>\n",
       "    </tr>\n",
       "  </tbody>\n",
       "</table>\n",
       "<p>168 rows × 12 columns</p>\n",
       "</div>"
      ],
      "text/plain": [
       "                                COLISIÓN DOBLE                            ...  CAÍDA VEHÍCULO 3 RUEDAS                 \n",
       "DISTRITO_ACCIDENTE                                                        ...                                          \n",
       "ARGANZUELA                                                           389  ...                                       NaN\n",
       "BARAJAS                                                               89  ...                                       NaN\n",
       "CARABANCHEL                                                          375  ...                                       NaN\n",
       "CENTRO                                                               514  ...                                       NaN\n",
       "CHAMARTIN                                                            494  ...                                       NaN\n",
       "...                                                                  ...  ...                                       ...\n",
       "TETUAN                                                               330  ...                                       NaN\n",
       "USERA                                                                206  ...                                       NaN\n",
       "VICALVARO                                                             70  ...                                       NaN\n",
       "VILLA DE VALLECAS                                                    149  ...                                       NaN\n",
       "VILLAVERDE                                                           177  ...                                       NaN\n",
       "\n",
       "[168 rows x 12 columns]"
      ]
     },
     "execution_count": 109,
     "metadata": {
      "tags": []
     },
     "output_type": "execute_result"
    }
   ],
   "source": [
    "#Confirmo que no se ha modificado el DF original\n",
    "all_accidents_tot_2"
   ]
  },
  {
   "cell_type": "code",
   "execution_count": 130,
   "metadata": {
    "executionInfo": {
     "elapsed": 528,
     "status": "ok",
     "timestamp": 1608721542672,
     "user": {
      "displayName": "Luis DEL POZO",
      "photoUrl": "",
      "userId": "08297678491184687059"
     },
     "user_tz": -60
    },
    "id": "LzITSCG8N1YZ"
   },
   "outputs": [],
   "source": [
    "#En primer lugar veo que un índice con nombres duplicados no tiene mucho sentido, así que hago que ese índice se incorpore como una nueva columna.\n",
    "#Creo una nueva varialbe para no perder info si haya problemas\n",
    "all_accidents_tot_3 = all_accidents_tot_2.reset_index()"
   ]
  },
  {
   "cell_type": "code",
   "execution_count": 131,
   "metadata": {
    "colab": {
     "base_uri": "https://localhost:8080/",
     "height": 224
    },
    "executionInfo": {
     "elapsed": 501,
     "status": "ok",
     "timestamp": 1608721543703,
     "user": {
      "displayName": "Luis DEL POZO",
      "photoUrl": "",
      "userId": "08297678491184687059"
     },
     "user_tz": -60
    },
    "id": "E86i6sWwN1bx",
    "outputId": "8a9bf8e0-632c-485e-8c13-7baeffb61550"
   },
   "outputs": [
    {
     "data": {
      "text/html": [
       "<div>\n",
       "<style scoped>\n",
       "    .dataframe tbody tr th:only-of-type {\n",
       "        vertical-align: middle;\n",
       "    }\n",
       "\n",
       "    .dataframe tbody tr th {\n",
       "        vertical-align: top;\n",
       "    }\n",
       "\n",
       "    .dataframe thead th {\n",
       "        text-align: right;\n",
       "    }\n",
       "</style>\n",
       "<table border=\"1\" class=\"dataframe\">\n",
       "  <thead>\n",
       "    <tr style=\"text-align: right;\">\n",
       "      <th></th>\n",
       "      <th>DISTRITO_ACCIDENTE</th>\n",
       "      <th>COLISIÓN DOBLE</th>\n",
       "      <th>COLISIÓN MÚLTIPLE</th>\n",
       "      <th>CHOQUE CON OBJETO FIJO</th>\n",
       "      <th>ATROPELLO</th>\n",
       "      <th>VUELCO</th>\n",
       "      <th>CAÍDA MOTOCICLETA</th>\n",
       "      <th>CAÍDA CICLOMOTOR</th>\n",
       "      <th>CAÍDA BICICLETA</th>\n",
       "      <th>CAÍDA VIAJERO BUS</th>\n",
       "      <th>OTRAS CAUSAS</th>\n",
       "      <th>AÑO</th>\n",
       "      <th>CAÍDA VEHÍCULO 3 RUEDAS</th>\n",
       "    </tr>\n",
       "  </thead>\n",
       "  <tbody>\n",
       "    <tr>\n",
       "      <th>0</th>\n",
       "      <td>ARGANZUELA</td>\n",
       "      <td>389</td>\n",
       "      <td>54</td>\n",
       "      <td>126</td>\n",
       "      <td>75</td>\n",
       "      <td>9.0</td>\n",
       "      <td>43</td>\n",
       "      <td>9.0</td>\n",
       "      <td>4.0</td>\n",
       "      <td>5.0</td>\n",
       "      <td>8.0</td>\n",
       "      <td>2009</td>\n",
       "      <td>NaN</td>\n",
       "    </tr>\n",
       "    <tr>\n",
       "      <th>1</th>\n",
       "      <td>BARAJAS</td>\n",
       "      <td>89</td>\n",
       "      <td>6</td>\n",
       "      <td>53</td>\n",
       "      <td>21</td>\n",
       "      <td>NaN</td>\n",
       "      <td>12</td>\n",
       "      <td>2.0</td>\n",
       "      <td>1.0</td>\n",
       "      <td>2.0</td>\n",
       "      <td>2.0</td>\n",
       "      <td>2009</td>\n",
       "      <td>NaN</td>\n",
       "    </tr>\n",
       "    <tr>\n",
       "      <th>2</th>\n",
       "      <td>CARABANCHEL</td>\n",
       "      <td>375</td>\n",
       "      <td>44</td>\n",
       "      <td>171</td>\n",
       "      <td>137</td>\n",
       "      <td>8.0</td>\n",
       "      <td>36</td>\n",
       "      <td>13.0</td>\n",
       "      <td>6.0</td>\n",
       "      <td>9.0</td>\n",
       "      <td>8.0</td>\n",
       "      <td>2009</td>\n",
       "      <td>NaN</td>\n",
       "    </tr>\n",
       "    <tr>\n",
       "      <th>3</th>\n",
       "      <td>CENTRO</td>\n",
       "      <td>514</td>\n",
       "      <td>55</td>\n",
       "      <td>171</td>\n",
       "      <td>143</td>\n",
       "      <td>NaN</td>\n",
       "      <td>61</td>\n",
       "      <td>12.0</td>\n",
       "      <td>3.0</td>\n",
       "      <td>10.0</td>\n",
       "      <td>12.0</td>\n",
       "      <td>2009</td>\n",
       "      <td>NaN</td>\n",
       "    </tr>\n",
       "    <tr>\n",
       "      <th>4</th>\n",
       "      <td>CHAMARTIN</td>\n",
       "      <td>494</td>\n",
       "      <td>70</td>\n",
       "      <td>133</td>\n",
       "      <td>92</td>\n",
       "      <td>10.0</td>\n",
       "      <td>72</td>\n",
       "      <td>22.0</td>\n",
       "      <td>2.0</td>\n",
       "      <td>6.0</td>\n",
       "      <td>7.0</td>\n",
       "      <td>2009</td>\n",
       "      <td>NaN</td>\n",
       "    </tr>\n",
       "  </tbody>\n",
       "</table>\n",
       "</div>"
      ],
      "text/plain": [
       "               DISTRITO_ACCIDENTE  ...  CAÍDA VEHÍCULO 3 RUEDAS                 \n",
       "0  ARGANZUELA                      ...                                       NaN\n",
       "1  BARAJAS                         ...                                       NaN\n",
       "2  CARABANCHEL                     ...                                       NaN\n",
       "3  CENTRO                          ...                                       NaN\n",
       "4  CHAMARTIN                       ...                                       NaN\n",
       "\n",
       "[5 rows x 13 columns]"
      ]
     },
     "execution_count": 131,
     "metadata": {
      "tags": []
     },
     "output_type": "execute_result"
    }
   ],
   "source": [
    "all_accidents_tot_3.head()"
   ]
  },
  {
   "cell_type": "code",
   "execution_count": 132,
   "metadata": {
    "colab": {
     "base_uri": "https://localhost:8080/"
    },
    "executionInfo": {
     "elapsed": 509,
     "status": "ok",
     "timestamp": 1608721545025,
     "user": {
      "displayName": "Luis DEL POZO",
      "photoUrl": "",
      "userId": "08297678491184687059"
     },
     "user_tz": -60
    },
    "id": "gWCKoxK5N1eU",
    "outputId": "db809ec7-da17-4ab4-da97-214e77b21010"
   },
   "outputs": [
    {
     "data": {
      "text/plain": [
       "Index(['DISTRITO_ACCIDENTE', 'COLISIÓN DOBLE                          ',\n",
       "       'COLISIÓN MÚLTIPLE                       ',\n",
       "       'CHOQUE CON OBJETO FIJO                  ',\n",
       "       'ATROPELLO                               ',\n",
       "       'VUELCO                                  ',\n",
       "       'CAÍDA MOTOCICLETA                       ',\n",
       "       'CAÍDA CICLOMOTOR                        ',\n",
       "       'CAÍDA BICICLETA                         ',\n",
       "       'CAÍDA VIAJERO BUS                       ',\n",
       "       'OTRAS CAUSAS                            ', 'AÑO',\n",
       "       'CAÍDA VEHÍCULO 3 RUEDAS                 '],\n",
       "      dtype='object')"
      ]
     },
     "execution_count": 132,
     "metadata": {
      "tags": []
     },
     "output_type": "execute_result"
    }
   ],
   "source": [
    "all_accidents_tot_3.columns"
   ]
  },
  {
   "cell_type": "code",
   "execution_count": 133,
   "metadata": {
    "executionInfo": {
     "elapsed": 370,
     "status": "ok",
     "timestamp": 1608721545990,
     "user": {
      "displayName": "Luis DEL POZO",
      "photoUrl": "",
      "userId": "08297678491184687059"
     },
     "user_tz": -60
    },
    "id": "9GWgzENheu5B"
   },
   "outputs": [],
   "source": [
    "#Ahora ordeno las columnas como voy a querer que aparezca en el DF\n",
    "cols = all_accidents_tot_3.columns.tolist()"
   ]
  },
  {
   "cell_type": "code",
   "execution_count": 134,
   "metadata": {
    "colab": {
     "base_uri": "https://localhost:8080/"
    },
    "executionInfo": {
     "elapsed": 423,
     "status": "ok",
     "timestamp": 1608721546921,
     "user": {
      "displayName": "Luis DEL POZO",
      "photoUrl": "",
      "userId": "08297678491184687059"
     },
     "user_tz": -60
    },
    "id": "o8EN-NM5eu8w",
    "outputId": "38d24518-2ee2-4ca8-db2b-64edaf184c2d"
   },
   "outputs": [
    {
     "data": {
      "text/plain": [
       "['DISTRITO_ACCIDENTE',\n",
       " 'COLISIÓN DOBLE                          ',\n",
       " 'COLISIÓN MÚLTIPLE                       ',\n",
       " 'CHOQUE CON OBJETO FIJO                  ',\n",
       " 'ATROPELLO                               ',\n",
       " 'VUELCO                                  ',\n",
       " 'CAÍDA MOTOCICLETA                       ',\n",
       " 'CAÍDA CICLOMOTOR                        ',\n",
       " 'CAÍDA BICICLETA                         ',\n",
       " 'CAÍDA VIAJERO BUS                       ',\n",
       " 'OTRAS CAUSAS                            ',\n",
       " 'AÑO',\n",
       " 'CAÍDA VEHÍCULO 3 RUEDAS                 ']"
      ]
     },
     "execution_count": 134,
     "metadata": {
      "tags": []
     },
     "output_type": "execute_result"
    }
   ],
   "source": [
    "cols"
   ]
  },
  {
   "cell_type": "code",
   "execution_count": 135,
   "metadata": {
    "colab": {
     "base_uri": "https://localhost:8080/"
    },
    "executionInfo": {
     "elapsed": 688,
     "status": "ok",
     "timestamp": 1608721547859,
     "user": {
      "displayName": "Luis DEL POZO",
      "photoUrl": "",
      "userId": "08297678491184687059"
     },
     "user_tz": -60
    },
    "id": "rgIDB0b0evAb",
    "outputId": "9d001dac-e7ad-45fb-836d-507d47f213db"
   },
   "outputs": [
    {
     "data": {
      "text/plain": [
       "list"
      ]
     },
     "execution_count": 135,
     "metadata": {
      "tags": []
     },
     "output_type": "execute_result"
    }
   ],
   "source": [
    "type(cols)"
   ]
  },
  {
   "cell_type": "code",
   "execution_count": 136,
   "metadata": {
    "colab": {
     "base_uri": "https://localhost:8080/"
    },
    "executionInfo": {
     "elapsed": 630,
     "status": "ok",
     "timestamp": 1608721549401,
     "user": {
      "displayName": "Luis DEL POZO",
      "photoUrl": "",
      "userId": "08297678491184687059"
     },
     "user_tz": -60
    },
    "id": "tsfwU8e2evEV",
    "outputId": "32008318-fd7b-4bf8-f6a8-47802b673275"
   },
   "outputs": [
    {
     "data": {
      "text/plain": [
       "13"
      ]
     },
     "execution_count": 136,
     "metadata": {
      "tags": []
     },
     "output_type": "execute_result"
    }
   ],
   "source": [
    "len(cols)"
   ]
  },
  {
   "cell_type": "code",
   "execution_count": 137,
   "metadata": {
    "colab": {
     "base_uri": "https://localhost:8080/"
    },
    "executionInfo": {
     "elapsed": 418,
     "status": "ok",
     "timestamp": 1608721549765,
     "user": {
      "displayName": "Luis DEL POZO",
      "photoUrl": "",
      "userId": "08297678491184687059"
     },
     "user_tz": -60
    },
    "id": "7y74tmphevII",
    "outputId": "b215c0e8-2ea8-4ef1-8c1a-fd60bf47e28d"
   },
   "outputs": [
    {
     "data": {
      "text/plain": [
       "11"
      ]
     },
     "execution_count": 137,
     "metadata": {
      "tags": []
     },
     "output_type": "execute_result"
    }
   ],
   "source": [
    "cols.index('AÑO')"
   ]
  },
  {
   "cell_type": "code",
   "execution_count": 138,
   "metadata": {
    "colab": {
     "base_uri": "https://localhost:8080/",
     "height": 35
    },
    "executionInfo": {
     "elapsed": 724,
     "status": "ok",
     "timestamp": 1608721550750,
     "user": {
      "displayName": "Luis DEL POZO",
      "photoUrl": "",
      "userId": "08297678491184687059"
     },
     "user_tz": -60
    },
    "id": "2Ns7foyMmfgr",
    "outputId": "d419348f-2524-4ae1-c84e-b160cc7b5810"
   },
   "outputs": [
    {
     "data": {
      "application/vnd.google.colaboratory.intrinsic+json": {
       "type": "string"
      },
      "text/plain": [
       "'AÑO'"
      ]
     },
     "execution_count": 138,
     "metadata": {
      "tags": []
     },
     "output_type": "execute_result"
    }
   ],
   "source": [
    "cols[11]"
   ]
  },
  {
   "cell_type": "code",
   "execution_count": 139,
   "metadata": {
    "colab": {
     "base_uri": "https://localhost:8080/"
    },
    "executionInfo": {
     "elapsed": 443,
     "status": "ok",
     "timestamp": 1608721551068,
     "user": {
      "displayName": "Luis DEL POZO",
      "photoUrl": "",
      "userId": "08297678491184687059"
     },
     "user_tz": -60
    },
    "id": "9Kyw5QnpmiVB",
    "outputId": "5768fd8a-cf1a-4414-ad02-95247194a97b"
   },
   "outputs": [
    {
     "data": {
      "text/plain": [
       "str"
      ]
     },
     "execution_count": 139,
     "metadata": {
      "tags": []
     },
     "output_type": "execute_result"
    }
   ],
   "source": [
    "type(cols[11])"
   ]
  },
  {
   "cell_type": "code",
   "execution_count": 140,
   "metadata": {
    "colab": {
     "base_uri": "https://localhost:8080/"
    },
    "executionInfo": {
     "elapsed": 434,
     "status": "ok",
     "timestamp": 1608721551979,
     "user": {
      "displayName": "Luis DEL POZO",
      "photoUrl": "",
      "userId": "08297678491184687059"
     },
     "user_tz": -60
    },
    "id": "2i4L1edtlWnM",
    "outputId": "97a912d6-3e5e-402e-cdbb-f38f75cd900e"
   },
   "outputs": [
    {
     "data": {
      "text/plain": [
       "['AÑO']"
      ]
     },
     "execution_count": 140,
     "metadata": {
      "tags": []
     },
     "output_type": "execute_result"
    }
   ],
   "source": [
    "#Ojo con esto, que luego da problemas\n",
    "cols[11:12]"
   ]
  },
  {
   "cell_type": "code",
   "execution_count": 141,
   "metadata": {
    "colab": {
     "base_uri": "https://localhost:8080/"
    },
    "executionInfo": {
     "elapsed": 594,
     "status": "ok",
     "timestamp": 1608721554922,
     "user": {
      "displayName": "Luis DEL POZO",
      "photoUrl": "",
      "userId": "08297678491184687059"
     },
     "user_tz": -60
    },
    "id": "tYRpmxyoml9w",
    "outputId": "a02f6448-333f-4221-8ec7-b7e58a118e7d"
   },
   "outputs": [
    {
     "data": {
      "text/plain": [
       "list"
      ]
     },
     "execution_count": 141,
     "metadata": {
      "tags": []
     },
     "output_type": "execute_result"
    }
   ],
   "source": [
    "type(cols[11:12])"
   ]
  },
  {
   "cell_type": "code",
   "execution_count": 142,
   "metadata": {
    "colab": {
     "base_uri": "https://localhost:8080/"
    },
    "executionInfo": {
     "elapsed": 407,
     "status": "ok",
     "timestamp": 1608721555286,
     "user": {
      "displayName": "Luis DEL POZO",
      "photoUrl": "",
      "userId": "08297678491184687059"
     },
     "user_tz": -60
    },
    "id": "ooXXarDtlWq8",
    "outputId": "c13b2bf9-203e-499a-9772-888436e6c2a5"
   },
   "outputs": [
    {
     "data": {
      "text/plain": [
       "['DISTRITO_ACCIDENTE',\n",
       " 'COLISIÓN DOBLE                          ',\n",
       " 'COLISIÓN MÚLTIPLE                       ',\n",
       " 'CHOQUE CON OBJETO FIJO                  ',\n",
       " 'ATROPELLO                               ',\n",
       " 'VUELCO                                  ',\n",
       " 'CAÍDA MOTOCICLETA                       ',\n",
       " 'CAÍDA CICLOMOTOR                        ',\n",
       " 'CAÍDA BICICLETA                         ',\n",
       " 'CAÍDA VIAJERO BUS                       ',\n",
       " 'OTRAS CAUSAS                            ']"
      ]
     },
     "execution_count": 142,
     "metadata": {
      "tags": []
     },
     "output_type": "execute_result"
    }
   ],
   "source": [
    "cols[0:11]"
   ]
  },
  {
   "cell_type": "code",
   "execution_count": 143,
   "metadata": {
    "colab": {
     "base_uri": "https://localhost:8080/"
    },
    "executionInfo": {
     "elapsed": 614,
     "status": "ok",
     "timestamp": 1608721556065,
     "user": {
      "displayName": "Luis DEL POZO",
      "photoUrl": "",
      "userId": "08297678491184687059"
     },
     "user_tz": -60
    },
    "id": "A8hTNBiPlWv0",
    "outputId": "1fe7645e-340e-4905-eb7c-a9c896ba8922"
   },
   "outputs": [
    {
     "data": {
      "text/plain": [
       "['DISTRITO_ACCIDENTE',\n",
       " 'AÑO',\n",
       " 'COLISIÓN DOBLE                          ',\n",
       " 'COLISIÓN MÚLTIPLE                       ',\n",
       " 'CHOQUE CON OBJETO FIJO                  ',\n",
       " 'ATROPELLO                               ',\n",
       " 'VUELCO                                  ',\n",
       " 'CAÍDA MOTOCICLETA                       ',\n",
       " 'CAÍDA CICLOMOTOR                        ',\n",
       " 'CAÍDA BICICLETA                         ',\n",
       " 'CAÍDA VIAJERO BUS                       ',\n",
       " 'OTRAS CAUSAS                            ',\n",
       " 'CAÍDA VEHÍCULO 3 RUEDAS                 ']"
      ]
     },
     "execution_count": 143,
     "metadata": {
      "tags": []
     },
     "output_type": "execute_result"
    }
   ],
   "source": [
    "cols_2 = [cols[0]] + [cols[11]] + cols[1:11] + cols[12:]\n",
    "cols_2"
   ]
  },
  {
   "cell_type": "code",
   "execution_count": 144,
   "metadata": {
    "colab": {
     "base_uri": "https://localhost:8080/"
    },
    "executionInfo": {
     "elapsed": 554,
     "status": "ok",
     "timestamp": 1608721559132,
     "user": {
      "displayName": "Luis DEL POZO",
      "photoUrl": "",
      "userId": "08297678491184687059"
     },
     "user_tz": -60
    },
    "id": "bM3G-ubZoW3o",
    "outputId": "e25362ef-1303-4726-d13d-dcf138e14640"
   },
   "outputs": [
    {
     "data": {
      "text/plain": [
       "str"
      ]
     },
     "execution_count": 144,
     "metadata": {
      "tags": []
     },
     "output_type": "execute_result"
    }
   ],
   "source": [
    "type(cols_2[1])"
   ]
  },
  {
   "cell_type": "code",
   "execution_count": 145,
   "metadata": {
    "colab": {
     "base_uri": "https://localhost:8080/",
     "height": 35
    },
    "executionInfo": {
     "elapsed": 381,
     "status": "ok",
     "timestamp": 1608721559467,
     "user": {
      "displayName": "Luis DEL POZO",
      "photoUrl": "",
      "userId": "08297678491184687059"
     },
     "user_tz": -60
    },
    "id": "lr9ovgwpog5N",
    "outputId": "b2b4e166-ab38-4f60-b239-f5bb3fe232ee"
   },
   "outputs": [
    {
     "data": {
      "application/vnd.google.colaboratory.intrinsic+json": {
       "type": "string"
      },
      "text/plain": [
       "'COLISIÓN DOBLE                          '"
      ]
     },
     "execution_count": 145,
     "metadata": {
      "tags": []
     },
     "output_type": "execute_result"
    }
   ],
   "source": [
    "cols_2[2]"
   ]
  },
  {
   "cell_type": "code",
   "execution_count": 146,
   "metadata": {
    "colab": {
     "base_uri": "https://localhost:8080/",
     "height": 35
    },
    "executionInfo": {
     "elapsed": 591,
     "status": "ok",
     "timestamp": 1608721560143,
     "user": {
      "displayName": "Luis DEL POZO",
      "photoUrl": "",
      "userId": "08297678491184687059"
     },
     "user_tz": -60
    },
    "id": "PxpX0Cf-og9c",
    "outputId": "7c3ef2d2-78fd-4a18-9cb4-8b06f9b147b9"
   },
   "outputs": [
    {
     "data": {
      "application/vnd.google.colaboratory.intrinsic+json": {
       "type": "string"
      },
      "text/plain": [
       "'COLISIÓN DOBLE'"
      ]
     },
     "execution_count": 146,
     "metadata": {
      "tags": []
     },
     "output_type": "execute_result"
    }
   ],
   "source": [
    "cols_2[2].rstrip()"
   ]
  },
  {
   "cell_type": "code",
   "execution_count": 176,
   "metadata": {
    "colab": {
     "base_uri": "https://localhost:8080/",
     "height": 224
    },
    "executionInfo": {
     "elapsed": 576,
     "status": "ok",
     "timestamp": 1608722804223,
     "user": {
      "displayName": "Luis DEL POZO",
      "photoUrl": "",
      "userId": "08297678491184687059"
     },
     "user_tz": -60
    },
    "id": "MvzY0CYwSHyF",
    "outputId": "9f8305b3-8052-4396-c3fb-9e8347b5e06c"
   },
   "outputs": [
    {
     "data": {
      "text/html": [
       "<div>\n",
       "<style scoped>\n",
       "    .dataframe tbody tr th:only-of-type {\n",
       "        vertical-align: middle;\n",
       "    }\n",
       "\n",
       "    .dataframe tbody tr th {\n",
       "        vertical-align: top;\n",
       "    }\n",
       "\n",
       "    .dataframe thead th {\n",
       "        text-align: right;\n",
       "    }\n",
       "</style>\n",
       "<table border=\"1\" class=\"dataframe\">\n",
       "  <thead>\n",
       "    <tr style=\"text-align: right;\">\n",
       "      <th></th>\n",
       "      <th>DISTRITO_ACCIDENTE</th>\n",
       "      <th>AÑO</th>\n",
       "      <th>COLISIÓN DOBLE</th>\n",
       "      <th>COLISIÓN MÚLTIPLE</th>\n",
       "      <th>CHOQUE CON OBJETO FIJO</th>\n",
       "      <th>ATROPELLO</th>\n",
       "      <th>VUELCO</th>\n",
       "      <th>CAÍDA MOTOCICLETA</th>\n",
       "      <th>CAÍDA CICLOMOTOR</th>\n",
       "      <th>CAÍDA BICICLETA</th>\n",
       "      <th>CAÍDA VIAJERO BUS</th>\n",
       "      <th>OTRAS CAUSAS</th>\n",
       "      <th>CAÍDA VEHÍCULO 3 RUEDAS</th>\n",
       "    </tr>\n",
       "  </thead>\n",
       "  <tbody>\n",
       "    <tr>\n",
       "      <th>0</th>\n",
       "      <td>ARGANZUELA</td>\n",
       "      <td>2009</td>\n",
       "      <td>389</td>\n",
       "      <td>54</td>\n",
       "      <td>126</td>\n",
       "      <td>75</td>\n",
       "      <td>9.0</td>\n",
       "      <td>43</td>\n",
       "      <td>9.0</td>\n",
       "      <td>4.0</td>\n",
       "      <td>5.0</td>\n",
       "      <td>8.0</td>\n",
       "      <td>NaN</td>\n",
       "    </tr>\n",
       "    <tr>\n",
       "      <th>1</th>\n",
       "      <td>BARAJAS</td>\n",
       "      <td>2009</td>\n",
       "      <td>89</td>\n",
       "      <td>6</td>\n",
       "      <td>53</td>\n",
       "      <td>21</td>\n",
       "      <td>NaN</td>\n",
       "      <td>12</td>\n",
       "      <td>2.0</td>\n",
       "      <td>1.0</td>\n",
       "      <td>2.0</td>\n",
       "      <td>2.0</td>\n",
       "      <td>NaN</td>\n",
       "    </tr>\n",
       "    <tr>\n",
       "      <th>2</th>\n",
       "      <td>CARABANCHEL</td>\n",
       "      <td>2009</td>\n",
       "      <td>375</td>\n",
       "      <td>44</td>\n",
       "      <td>171</td>\n",
       "      <td>137</td>\n",
       "      <td>8.0</td>\n",
       "      <td>36</td>\n",
       "      <td>13.0</td>\n",
       "      <td>6.0</td>\n",
       "      <td>9.0</td>\n",
       "      <td>8.0</td>\n",
       "      <td>NaN</td>\n",
       "    </tr>\n",
       "    <tr>\n",
       "      <th>3</th>\n",
       "      <td>CENTRO</td>\n",
       "      <td>2009</td>\n",
       "      <td>514</td>\n",
       "      <td>55</td>\n",
       "      <td>171</td>\n",
       "      <td>143</td>\n",
       "      <td>NaN</td>\n",
       "      <td>61</td>\n",
       "      <td>12.0</td>\n",
       "      <td>3.0</td>\n",
       "      <td>10.0</td>\n",
       "      <td>12.0</td>\n",
       "      <td>NaN</td>\n",
       "    </tr>\n",
       "    <tr>\n",
       "      <th>4</th>\n",
       "      <td>CHAMARTIN</td>\n",
       "      <td>2009</td>\n",
       "      <td>494</td>\n",
       "      <td>70</td>\n",
       "      <td>133</td>\n",
       "      <td>92</td>\n",
       "      <td>10.0</td>\n",
       "      <td>72</td>\n",
       "      <td>22.0</td>\n",
       "      <td>2.0</td>\n",
       "      <td>6.0</td>\n",
       "      <td>7.0</td>\n",
       "      <td>NaN</td>\n",
       "    </tr>\n",
       "  </tbody>\n",
       "</table>\n",
       "</div>"
      ],
      "text/plain": [
       "               DISTRITO_ACCIDENTE  ... CAÍDA VEHÍCULO 3 RUEDAS                 \n",
       "0  ARGANZUELA                      ...                                      NaN\n",
       "1  BARAJAS                         ...                                      NaN\n",
       "2  CARABANCHEL                     ...                                      NaN\n",
       "3  CENTRO                          ...                                      NaN\n",
       "4  CHAMARTIN                       ...                                      NaN\n",
       "\n",
       "[5 rows x 13 columns]"
      ]
     },
     "execution_count": 176,
     "metadata": {
      "tags": []
     },
     "output_type": "execute_result"
    }
   ],
   "source": [
    "#Ahora modifico el orden de las columnas\n",
    "all_accidents_tot_4 = all_accidents_tot_3[cols_2]\n",
    "all_accidents_tot_4.head()"
   ]
  },
  {
   "cell_type": "code",
   "execution_count": 177,
   "metadata": {
    "executionInfo": {
     "elapsed": 516,
     "status": "ok",
     "timestamp": 1608722806989,
     "user": {
      "displayName": "Luis DEL POZO",
      "photoUrl": "",
      "userId": "08297678491184687059"
     },
     "user_tz": -60
    },
    "id": "g2fjpeO0nsXo"
   },
   "outputs": [],
   "source": [
    "#Ahora voy a eliminar los espacios al final del nombre de las columnas\n",
    "cols_3 = []\n",
    "\n",
    "for item in cols_2:\n",
    "  cols_3.append(item.rstrip())"
   ]
  },
  {
   "cell_type": "code",
   "execution_count": 178,
   "metadata": {
    "colab": {
     "base_uri": "https://localhost:8080/"
    },
    "executionInfo": {
     "elapsed": 596,
     "status": "ok",
     "timestamp": 1608722808301,
     "user": {
      "displayName": "Luis DEL POZO",
      "photoUrl": "",
      "userId": "08297678491184687059"
     },
     "user_tz": -60
    },
    "id": "cDX53JtfohCK",
    "outputId": "4c4c7ef1-b028-4dcf-80ec-c4dd13bdb273"
   },
   "outputs": [
    {
     "data": {
      "text/plain": [
       "['DISTRITO_ACCIDENTE',\n",
       " 'AÑO',\n",
       " 'COLISIÓN DOBLE',\n",
       " 'COLISIÓN MÚLTIPLE',\n",
       " 'CHOQUE CON OBJETO FIJO',\n",
       " 'ATROPELLO',\n",
       " 'VUELCO',\n",
       " 'CAÍDA MOTOCICLETA',\n",
       " 'CAÍDA CICLOMOTOR',\n",
       " 'CAÍDA BICICLETA',\n",
       " 'CAÍDA VIAJERO BUS',\n",
       " 'OTRAS CAUSAS',\n",
       " 'CAÍDA VEHÍCULO 3 RUEDAS']"
      ]
     },
     "execution_count": 178,
     "metadata": {
      "tags": []
     },
     "output_type": "execute_result"
    }
   ],
   "source": [
    "cols_3"
   ]
  },
  {
   "cell_type": "code",
   "execution_count": 179,
   "metadata": {
    "colab": {
     "base_uri": "https://localhost:8080/",
     "height": 224
    },
    "executionInfo": {
     "elapsed": 617,
     "status": "ok",
     "timestamp": 1608722810529,
     "user": {
      "displayName": "Luis DEL POZO",
      "photoUrl": "",
      "userId": "08297678491184687059"
     },
     "user_tz": -60
    },
    "id": "mQoQlGG1QR5i",
    "outputId": "6941448f-823b-4c6d-9260-0cd896cb0101"
   },
   "outputs": [
    {
     "data": {
      "text/html": [
       "<div>\n",
       "<style scoped>\n",
       "    .dataframe tbody tr th:only-of-type {\n",
       "        vertical-align: middle;\n",
       "    }\n",
       "\n",
       "    .dataframe tbody tr th {\n",
       "        vertical-align: top;\n",
       "    }\n",
       "\n",
       "    .dataframe thead th {\n",
       "        text-align: right;\n",
       "    }\n",
       "</style>\n",
       "<table border=\"1\" class=\"dataframe\">\n",
       "  <thead>\n",
       "    <tr style=\"text-align: right;\">\n",
       "      <th></th>\n",
       "      <th>DISTRITO_ACCIDENTE</th>\n",
       "      <th>AÑO</th>\n",
       "      <th>COLISIÓN DOBLE</th>\n",
       "      <th>COLISIÓN MÚLTIPLE</th>\n",
       "      <th>CHOQUE CON OBJETO FIJO</th>\n",
       "      <th>ATROPELLO</th>\n",
       "      <th>VUELCO</th>\n",
       "      <th>CAÍDA MOTOCICLETA</th>\n",
       "      <th>CAÍDA CICLOMOTOR</th>\n",
       "      <th>CAÍDA BICICLETA</th>\n",
       "      <th>CAÍDA VIAJERO BUS</th>\n",
       "      <th>OTRAS CAUSAS</th>\n",
       "      <th>CAÍDA VEHÍCULO 3 RUEDAS</th>\n",
       "    </tr>\n",
       "  </thead>\n",
       "  <tbody>\n",
       "    <tr>\n",
       "      <th>0</th>\n",
       "      <td>ARGANZUELA</td>\n",
       "      <td>2009</td>\n",
       "      <td>389</td>\n",
       "      <td>54</td>\n",
       "      <td>126</td>\n",
       "      <td>75</td>\n",
       "      <td>9.0</td>\n",
       "      <td>43</td>\n",
       "      <td>9.0</td>\n",
       "      <td>4.0</td>\n",
       "      <td>5.0</td>\n",
       "      <td>8.0</td>\n",
       "      <td>NaN</td>\n",
       "    </tr>\n",
       "    <tr>\n",
       "      <th>1</th>\n",
       "      <td>BARAJAS</td>\n",
       "      <td>2009</td>\n",
       "      <td>89</td>\n",
       "      <td>6</td>\n",
       "      <td>53</td>\n",
       "      <td>21</td>\n",
       "      <td>NaN</td>\n",
       "      <td>12</td>\n",
       "      <td>2.0</td>\n",
       "      <td>1.0</td>\n",
       "      <td>2.0</td>\n",
       "      <td>2.0</td>\n",
       "      <td>NaN</td>\n",
       "    </tr>\n",
       "    <tr>\n",
       "      <th>2</th>\n",
       "      <td>CARABANCHEL</td>\n",
       "      <td>2009</td>\n",
       "      <td>375</td>\n",
       "      <td>44</td>\n",
       "      <td>171</td>\n",
       "      <td>137</td>\n",
       "      <td>8.0</td>\n",
       "      <td>36</td>\n",
       "      <td>13.0</td>\n",
       "      <td>6.0</td>\n",
       "      <td>9.0</td>\n",
       "      <td>8.0</td>\n",
       "      <td>NaN</td>\n",
       "    </tr>\n",
       "    <tr>\n",
       "      <th>3</th>\n",
       "      <td>CENTRO</td>\n",
       "      <td>2009</td>\n",
       "      <td>514</td>\n",
       "      <td>55</td>\n",
       "      <td>171</td>\n",
       "      <td>143</td>\n",
       "      <td>NaN</td>\n",
       "      <td>61</td>\n",
       "      <td>12.0</td>\n",
       "      <td>3.0</td>\n",
       "      <td>10.0</td>\n",
       "      <td>12.0</td>\n",
       "      <td>NaN</td>\n",
       "    </tr>\n",
       "    <tr>\n",
       "      <th>4</th>\n",
       "      <td>CHAMARTIN</td>\n",
       "      <td>2009</td>\n",
       "      <td>494</td>\n",
       "      <td>70</td>\n",
       "      <td>133</td>\n",
       "      <td>92</td>\n",
       "      <td>10.0</td>\n",
       "      <td>72</td>\n",
       "      <td>22.0</td>\n",
       "      <td>2.0</td>\n",
       "      <td>6.0</td>\n",
       "      <td>7.0</td>\n",
       "      <td>NaN</td>\n",
       "    </tr>\n",
       "  </tbody>\n",
       "</table>\n",
       "</div>"
      ],
      "text/plain": [
       "               DISTRITO_ACCIDENTE   AÑO  ...  OTRAS CAUSAS  CAÍDA VEHÍCULO 3 RUEDAS\n",
       "0  ARGANZUELA                      2009  ...           8.0                      NaN\n",
       "1  BARAJAS                         2009  ...           2.0                      NaN\n",
       "2  CARABANCHEL                     2009  ...           8.0                      NaN\n",
       "3  CENTRO                          2009  ...          12.0                      NaN\n",
       "4  CHAMARTIN                       2009  ...           7.0                      NaN\n",
       "\n",
       "[5 rows x 13 columns]"
      ]
     },
     "execution_count": 179,
     "metadata": {
      "tags": []
     },
     "output_type": "execute_result"
    }
   ],
   "source": [
    "#Ahora modifico el nombre de las columnas\n",
    "all_accidents_tot_4.columns = cols_3\n",
    "all_accidents_tot_4.head()"
   ]
  },
  {
   "cell_type": "code",
   "execution_count": 180,
   "metadata": {
    "colab": {
     "base_uri": "https://localhost:8080/"
    },
    "executionInfo": {
     "elapsed": 581,
     "status": "ok",
     "timestamp": 1608722811756,
     "user": {
      "displayName": "Luis DEL POZO",
      "photoUrl": "",
      "userId": "08297678491184687059"
     },
     "user_tz": -60
    },
    "id": "zS-9Q4gLQQyc",
    "outputId": "31a8cadf-cb08-4ea9-d8a8-d12ed91990cb"
   },
   "outputs": [
    {
     "data": {
      "text/plain": [
       "Index(['DISTRITO_ACCIDENTE', 'AÑO', 'COLISIÓN DOBLE', 'COLISIÓN MÚLTIPLE',\n",
       "       'CHOQUE CON OBJETO FIJO', 'ATROPELLO', 'VUELCO', 'CAÍDA MOTOCICLETA',\n",
       "       'CAÍDA CICLOMOTOR', 'CAÍDA BICICLETA', 'CAÍDA VIAJERO BUS',\n",
       "       'OTRAS CAUSAS', 'CAÍDA VEHÍCULO 3 RUEDAS'],\n",
       "      dtype='object')"
      ]
     },
     "execution_count": 180,
     "metadata": {
      "tags": []
     },
     "output_type": "execute_result"
    }
   ],
   "source": [
    "all_accidents_tot_4.columns"
   ]
  },
  {
   "cell_type": "code",
   "execution_count": 181,
   "metadata": {
    "colab": {
     "base_uri": "https://localhost:8080/",
     "height": 224
    },
    "executionInfo": {
     "elapsed": 590,
     "status": "ok",
     "timestamp": 1608722814455,
     "user": {
      "displayName": "Luis DEL POZO",
      "photoUrl": "",
      "userId": "08297678491184687059"
     },
     "user_tz": -60
    },
    "id": "_-wF4-48TTLM",
    "outputId": "261c9f61-6103-4316-b4f6-3fa844061220"
   },
   "outputs": [
    {
     "data": {
      "text/html": [
       "<div>\n",
       "<style scoped>\n",
       "    .dataframe tbody tr th:only-of-type {\n",
       "        vertical-align: middle;\n",
       "    }\n",
       "\n",
       "    .dataframe tbody tr th {\n",
       "        vertical-align: top;\n",
       "    }\n",
       "\n",
       "    .dataframe thead th {\n",
       "        text-align: right;\n",
       "    }\n",
       "</style>\n",
       "<table border=\"1\" class=\"dataframe\">\n",
       "  <thead>\n",
       "    <tr style=\"text-align: right;\">\n",
       "      <th></th>\n",
       "      <th>DISTRITO_ACCIDENTE</th>\n",
       "      <th>AÑO</th>\n",
       "      <th>COLISIÓN DOBLE</th>\n",
       "      <th>COLISIÓN MÚLTIPLE</th>\n",
       "      <th>CHOQUE CON OBJETO FIJO</th>\n",
       "      <th>ATROPELLO</th>\n",
       "      <th>VUELCO</th>\n",
       "      <th>CAÍDA MOTOCICLETA</th>\n",
       "      <th>CAÍDA CICLOMOTOR</th>\n",
       "      <th>CAÍDA BICICLETA</th>\n",
       "      <th>CAÍDA VIAJERO BUS</th>\n",
       "      <th>OTRAS CAUSAS</th>\n",
       "      <th>CAÍDA VEHÍCULO 3 RUEDAS</th>\n",
       "    </tr>\n",
       "  </thead>\n",
       "  <tbody>\n",
       "    <tr>\n",
       "      <th>0</th>\n",
       "      <td>ARGANZUELA</td>\n",
       "      <td>2009</td>\n",
       "      <td>389</td>\n",
       "      <td>54</td>\n",
       "      <td>126</td>\n",
       "      <td>75</td>\n",
       "      <td>9.0</td>\n",
       "      <td>43</td>\n",
       "      <td>9.0</td>\n",
       "      <td>4.0</td>\n",
       "      <td>5.0</td>\n",
       "      <td>8.0</td>\n",
       "      <td>NaN</td>\n",
       "    </tr>\n",
       "    <tr>\n",
       "      <th>1</th>\n",
       "      <td>BARAJAS</td>\n",
       "      <td>2009</td>\n",
       "      <td>89</td>\n",
       "      <td>6</td>\n",
       "      <td>53</td>\n",
       "      <td>21</td>\n",
       "      <td>NaN</td>\n",
       "      <td>12</td>\n",
       "      <td>2.0</td>\n",
       "      <td>1.0</td>\n",
       "      <td>2.0</td>\n",
       "      <td>2.0</td>\n",
       "      <td>NaN</td>\n",
       "    </tr>\n",
       "    <tr>\n",
       "      <th>2</th>\n",
       "      <td>CARABANCHEL</td>\n",
       "      <td>2009</td>\n",
       "      <td>375</td>\n",
       "      <td>44</td>\n",
       "      <td>171</td>\n",
       "      <td>137</td>\n",
       "      <td>8.0</td>\n",
       "      <td>36</td>\n",
       "      <td>13.0</td>\n",
       "      <td>6.0</td>\n",
       "      <td>9.0</td>\n",
       "      <td>8.0</td>\n",
       "      <td>NaN</td>\n",
       "    </tr>\n",
       "    <tr>\n",
       "      <th>3</th>\n",
       "      <td>CENTRO</td>\n",
       "      <td>2009</td>\n",
       "      <td>514</td>\n",
       "      <td>55</td>\n",
       "      <td>171</td>\n",
       "      <td>143</td>\n",
       "      <td>NaN</td>\n",
       "      <td>61</td>\n",
       "      <td>12.0</td>\n",
       "      <td>3.0</td>\n",
       "      <td>10.0</td>\n",
       "      <td>12.0</td>\n",
       "      <td>NaN</td>\n",
       "    </tr>\n",
       "    <tr>\n",
       "      <th>4</th>\n",
       "      <td>CHAMARTIN</td>\n",
       "      <td>2009</td>\n",
       "      <td>494</td>\n",
       "      <td>70</td>\n",
       "      <td>133</td>\n",
       "      <td>92</td>\n",
       "      <td>10.0</td>\n",
       "      <td>72</td>\n",
       "      <td>22.0</td>\n",
       "      <td>2.0</td>\n",
       "      <td>6.0</td>\n",
       "      <td>7.0</td>\n",
       "      <td>NaN</td>\n",
       "    </tr>\n",
       "  </tbody>\n",
       "</table>\n",
       "</div>"
      ],
      "text/plain": [
       "               DISTRITO_ACCIDENTE   AÑO  ...  OTRAS CAUSAS  CAÍDA VEHÍCULO 3 RUEDAS\n",
       "0  ARGANZUELA                      2009  ...           8.0                      NaN\n",
       "1  BARAJAS                         2009  ...           2.0                      NaN\n",
       "2  CARABANCHEL                     2009  ...           8.0                      NaN\n",
       "3  CENTRO                          2009  ...          12.0                      NaN\n",
       "4  CHAMARTIN                       2009  ...           7.0                      NaN\n",
       "\n",
       "[5 rows x 13 columns]"
      ]
     },
     "execution_count": 181,
     "metadata": {
      "tags": []
     },
     "output_type": "execute_result"
    }
   ],
   "source": [
    "#Ahora modifico el nombre \"DISTRITO_ACCIDENTE\"\n",
    "all_accidents_tot_4.head()"
   ]
  },
  {
   "cell_type": "code",
   "execution_count": 182,
   "metadata": {
    "colab": {
     "base_uri": "https://localhost:8080/"
    },
    "executionInfo": {
     "elapsed": 541,
     "status": "ok",
     "timestamp": 1608722815885,
     "user": {
      "displayName": "Luis DEL POZO",
      "photoUrl": "",
      "userId": "08297678491184687059"
     },
     "user_tz": -60
    },
    "id": "Tgs8UPCtUWjA",
    "outputId": "e710218d-7b28-47a9-9231-7d96a6502a68"
   },
   "outputs": [
    {
     "data": {
      "text/plain": [
       "['DISTRITO_ACCIDENTE',\n",
       " 'AÑO',\n",
       " 'COLISIÓN DOBLE',\n",
       " 'COLISIÓN MÚLTIPLE',\n",
       " 'CHOQUE CON OBJETO FIJO',\n",
       " 'ATROPELLO',\n",
       " 'VUELCO',\n",
       " 'CAÍDA MOTOCICLETA',\n",
       " 'CAÍDA CICLOMOTOR',\n",
       " 'CAÍDA BICICLETA',\n",
       " 'CAÍDA VIAJERO BUS',\n",
       " 'OTRAS CAUSAS',\n",
       " 'CAÍDA VEHÍCULO 3 RUEDAS']"
      ]
     },
     "execution_count": 182,
     "metadata": {
      "tags": []
     },
     "output_type": "execute_result"
    }
   ],
   "source": [
    "cols_4 = all_accidents_tot_4.columns.tolist()\n",
    "cols_4"
   ]
  },
  {
   "cell_type": "code",
   "execution_count": 183,
   "metadata": {
    "colab": {
     "base_uri": "https://localhost:8080/"
    },
    "executionInfo": {
     "elapsed": 570,
     "status": "ok",
     "timestamp": 1608722817570,
     "user": {
      "displayName": "Luis DEL POZO",
      "photoUrl": "",
      "userId": "08297678491184687059"
     },
     "user_tz": -60
    },
    "id": "6oWBpGMEUWmY",
    "outputId": "73cdeea1-a054-4cef-b115-42cfbb032c26"
   },
   "outputs": [
    {
     "data": {
      "text/plain": [
       "['DISTRITO',\n",
       " 'AÑO',\n",
       " 'COLISIÓN DOBLE',\n",
       " 'COLISIÓN MÚLTIPLE',\n",
       " 'CHOQUE CON OBJETO FIJO',\n",
       " 'ATROPELLO',\n",
       " 'VUELCO',\n",
       " 'CAÍDA MOTOCICLETA',\n",
       " 'CAÍDA CICLOMOTOR',\n",
       " 'CAÍDA BICICLETA',\n",
       " 'CAÍDA VIAJERO BUS',\n",
       " 'OTRAS CAUSAS',\n",
       " 'CAÍDA VEHÍCULO 3 RUEDAS']"
      ]
     },
     "execution_count": 183,
     "metadata": {
      "tags": []
     },
     "output_type": "execute_result"
    }
   ],
   "source": [
    "cols_4[cols_4.index('DISTRITO_ACCIDENTE')]  = 'DISTRITO'\n",
    "cols_4"
   ]
  },
  {
   "cell_type": "code",
   "execution_count": 184,
   "metadata": {
    "colab": {
     "base_uri": "https://localhost:8080/",
     "height": 224
    },
    "executionInfo": {
     "elapsed": 566,
     "status": "ok",
     "timestamp": 1608722822211,
     "user": {
      "displayName": "Luis DEL POZO",
      "photoUrl": "",
      "userId": "08297678491184687059"
     },
     "user_tz": -60
    },
    "id": "wUZH1lHfU5ne",
    "outputId": "ca62df8b-bb93-45e0-d7d9-2ed41b650f2d"
   },
   "outputs": [
    {
     "data": {
      "text/html": [
       "<div>\n",
       "<style scoped>\n",
       "    .dataframe tbody tr th:only-of-type {\n",
       "        vertical-align: middle;\n",
       "    }\n",
       "\n",
       "    .dataframe tbody tr th {\n",
       "        vertical-align: top;\n",
       "    }\n",
       "\n",
       "    .dataframe thead th {\n",
       "        text-align: right;\n",
       "    }\n",
       "</style>\n",
       "<table border=\"1\" class=\"dataframe\">\n",
       "  <thead>\n",
       "    <tr style=\"text-align: right;\">\n",
       "      <th></th>\n",
       "      <th>DISTRITO</th>\n",
       "      <th>AÑO</th>\n",
       "      <th>COLISIÓN DOBLE</th>\n",
       "      <th>COLISIÓN MÚLTIPLE</th>\n",
       "      <th>CHOQUE CON OBJETO FIJO</th>\n",
       "      <th>ATROPELLO</th>\n",
       "      <th>VUELCO</th>\n",
       "      <th>CAÍDA MOTOCICLETA</th>\n",
       "      <th>CAÍDA CICLOMOTOR</th>\n",
       "      <th>CAÍDA BICICLETA</th>\n",
       "      <th>CAÍDA VIAJERO BUS</th>\n",
       "      <th>OTRAS CAUSAS</th>\n",
       "      <th>CAÍDA VEHÍCULO 3 RUEDAS</th>\n",
       "    </tr>\n",
       "  </thead>\n",
       "  <tbody>\n",
       "    <tr>\n",
       "      <th>0</th>\n",
       "      <td>ARGANZUELA</td>\n",
       "      <td>2009</td>\n",
       "      <td>389</td>\n",
       "      <td>54</td>\n",
       "      <td>126</td>\n",
       "      <td>75</td>\n",
       "      <td>9.0</td>\n",
       "      <td>43</td>\n",
       "      <td>9.0</td>\n",
       "      <td>4.0</td>\n",
       "      <td>5.0</td>\n",
       "      <td>8.0</td>\n",
       "      <td>NaN</td>\n",
       "    </tr>\n",
       "    <tr>\n",
       "      <th>1</th>\n",
       "      <td>BARAJAS</td>\n",
       "      <td>2009</td>\n",
       "      <td>89</td>\n",
       "      <td>6</td>\n",
       "      <td>53</td>\n",
       "      <td>21</td>\n",
       "      <td>NaN</td>\n",
       "      <td>12</td>\n",
       "      <td>2.0</td>\n",
       "      <td>1.0</td>\n",
       "      <td>2.0</td>\n",
       "      <td>2.0</td>\n",
       "      <td>NaN</td>\n",
       "    </tr>\n",
       "    <tr>\n",
       "      <th>2</th>\n",
       "      <td>CARABANCHEL</td>\n",
       "      <td>2009</td>\n",
       "      <td>375</td>\n",
       "      <td>44</td>\n",
       "      <td>171</td>\n",
       "      <td>137</td>\n",
       "      <td>8.0</td>\n",
       "      <td>36</td>\n",
       "      <td>13.0</td>\n",
       "      <td>6.0</td>\n",
       "      <td>9.0</td>\n",
       "      <td>8.0</td>\n",
       "      <td>NaN</td>\n",
       "    </tr>\n",
       "    <tr>\n",
       "      <th>3</th>\n",
       "      <td>CENTRO</td>\n",
       "      <td>2009</td>\n",
       "      <td>514</td>\n",
       "      <td>55</td>\n",
       "      <td>171</td>\n",
       "      <td>143</td>\n",
       "      <td>NaN</td>\n",
       "      <td>61</td>\n",
       "      <td>12.0</td>\n",
       "      <td>3.0</td>\n",
       "      <td>10.0</td>\n",
       "      <td>12.0</td>\n",
       "      <td>NaN</td>\n",
       "    </tr>\n",
       "    <tr>\n",
       "      <th>4</th>\n",
       "      <td>CHAMARTIN</td>\n",
       "      <td>2009</td>\n",
       "      <td>494</td>\n",
       "      <td>70</td>\n",
       "      <td>133</td>\n",
       "      <td>92</td>\n",
       "      <td>10.0</td>\n",
       "      <td>72</td>\n",
       "      <td>22.0</td>\n",
       "      <td>2.0</td>\n",
       "      <td>6.0</td>\n",
       "      <td>7.0</td>\n",
       "      <td>NaN</td>\n",
       "    </tr>\n",
       "  </tbody>\n",
       "</table>\n",
       "</div>"
      ],
      "text/plain": [
       "                         DISTRITO   AÑO  ...  OTRAS CAUSAS  CAÍDA VEHÍCULO 3 RUEDAS\n",
       "0  ARGANZUELA                      2009  ...           8.0                      NaN\n",
       "1  BARAJAS                         2009  ...           2.0                      NaN\n",
       "2  CARABANCHEL                     2009  ...           8.0                      NaN\n",
       "3  CENTRO                          2009  ...          12.0                      NaN\n",
       "4  CHAMARTIN                       2009  ...           7.0                      NaN\n",
       "\n",
       "[5 rows x 13 columns]"
      ]
     },
     "execution_count": 184,
     "metadata": {
      "tags": []
     },
     "output_type": "execute_result"
    }
   ],
   "source": [
    "all_accidents_tot_4.columns = cols_4\n",
    "all_accidents_tot_4.head()"
   ]
  },
  {
   "cell_type": "code",
   "execution_count": 185,
   "metadata": {
    "colab": {
     "base_uri": "https://localhost:8080/",
     "height": 35
    },
    "executionInfo": {
     "elapsed": 468,
     "status": "ok",
     "timestamp": 1608722823532,
     "user": {
      "displayName": "Luis DEL POZO",
      "photoUrl": "",
      "userId": "08297678491184687059"
     },
     "user_tz": -60
    },
    "id": "jD95jIEeU5wH",
    "outputId": "bae9bc54-af5e-44f6-df5d-80867ebd72dc"
   },
   "outputs": [
    {
     "data": {
      "application/vnd.google.colaboratory.intrinsic+json": {
       "type": "string"
      },
      "text/plain": [
       "'ARGANZUELA                    '"
      ]
     },
     "execution_count": 185,
     "metadata": {
      "tags": []
     },
     "output_type": "execute_result"
    }
   ],
   "source": [
    "all_accidents_tot_4.DISTRITO[0]"
   ]
  },
  {
   "cell_type": "code",
   "execution_count": 186,
   "metadata": {
    "colab": {
     "base_uri": "https://localhost:8080/"
    },
    "executionInfo": {
     "elapsed": 583,
     "status": "ok",
     "timestamp": 1608722881027,
     "user": {
      "displayName": "Luis DEL POZO",
      "photoUrl": "",
      "userId": "08297678491184687059"
     },
     "user_tz": -60
    },
    "id": "KO8ROkRvWs5x",
    "outputId": "fe819852-97a9-42d3-e446-589b084c24a6"
   },
   "outputs": [
    {
     "data": {
      "text/plain": [
       "168"
      ]
     },
     "execution_count": 186,
     "metadata": {
      "tags": []
     },
     "output_type": "execute_result"
    }
   ],
   "source": [
    "all_accidents_tot_4.DISTRITO.size"
   ]
  },
  {
   "cell_type": "code",
   "execution_count": 188,
   "metadata": {
    "colab": {
     "base_uri": "https://localhost:8080/"
    },
    "executionInfo": {
     "elapsed": 565,
     "status": "ok",
     "timestamp": 1608722938133,
     "user": {
      "displayName": "Luis DEL POZO",
      "photoUrl": "",
      "userId": "08297678491184687059"
     },
     "user_tz": -60
    },
    "id": "6hkuSV7gohHU",
    "outputId": "5cd8dc3c-7108-4835-c5c0-c0cd7a38cf89"
   },
   "outputs": [
    {
     "name": "stderr",
     "output_type": "stream",
     "text": [
      "/usr/local/lib/python3.6/dist-packages/ipykernel_launcher.py:4: SettingWithCopyWarning: \n",
      "A value is trying to be set on a copy of a slice from a DataFrame\n",
      "\n",
      "See the caveats in the documentation: https://pandas.pydata.org/pandas-docs/stable/user_guide/indexing.html#returning-a-view-versus-a-copy\n",
      "  after removing the cwd from sys.path.\n",
      "/usr/local/lib/python3.6/dist-packages/IPython/core/interactiveshell.py:2882: SettingWithCopyWarning: \n",
      "A value is trying to be set on a copy of a slice from a DataFrame\n",
      "\n",
      "See the caveats in the documentation: https://pandas.pydata.org/pandas-docs/stable/user_guide/indexing.html#returning-a-view-versus-a-copy\n",
      "  exec(code_obj, self.user_global_ns, self.user_ns)\n"
     ]
    }
   ],
   "source": [
    "#Ahora voy a eliminar los espacios de la columna \"DISTRITO\"\n",
    "\n",
    "for i in range(all_accidents_tot_4.DISTRITO.size):\n",
    "  all_accidents_tot_4.DISTRITO[i] = all_accidents_tot_4.DISTRITO[i].rstrip()"
   ]
  },
  {
   "cell_type": "code",
   "execution_count": 189,
   "metadata": {
    "colab": {
     "base_uri": "https://localhost:8080/",
     "height": 224
    },
    "executionInfo": {
     "elapsed": 501,
     "status": "ok",
     "timestamp": 1608722942520,
     "user": {
      "displayName": "Luis DEL POZO",
      "photoUrl": "",
      "userId": "08297678491184687059"
     },
     "user_tz": -60
    },
    "id": "dTTBkVjCWP4H",
    "outputId": "089e2bbc-4f76-4614-9054-61058ece9a05"
   },
   "outputs": [
    {
     "data": {
      "text/html": [
       "<div>\n",
       "<style scoped>\n",
       "    .dataframe tbody tr th:only-of-type {\n",
       "        vertical-align: middle;\n",
       "    }\n",
       "\n",
       "    .dataframe tbody tr th {\n",
       "        vertical-align: top;\n",
       "    }\n",
       "\n",
       "    .dataframe thead th {\n",
       "        text-align: right;\n",
       "    }\n",
       "</style>\n",
       "<table border=\"1\" class=\"dataframe\">\n",
       "  <thead>\n",
       "    <tr style=\"text-align: right;\">\n",
       "      <th></th>\n",
       "      <th>DISTRITO</th>\n",
       "      <th>AÑO</th>\n",
       "      <th>COLISIÓN DOBLE</th>\n",
       "      <th>COLISIÓN MÚLTIPLE</th>\n",
       "      <th>CHOQUE CON OBJETO FIJO</th>\n",
       "      <th>ATROPELLO</th>\n",
       "      <th>VUELCO</th>\n",
       "      <th>CAÍDA MOTOCICLETA</th>\n",
       "      <th>CAÍDA CICLOMOTOR</th>\n",
       "      <th>CAÍDA BICICLETA</th>\n",
       "      <th>CAÍDA VIAJERO BUS</th>\n",
       "      <th>OTRAS CAUSAS</th>\n",
       "      <th>CAÍDA VEHÍCULO 3 RUEDAS</th>\n",
       "    </tr>\n",
       "  </thead>\n",
       "  <tbody>\n",
       "    <tr>\n",
       "      <th>0</th>\n",
       "      <td>ARGANZUELA</td>\n",
       "      <td>2009</td>\n",
       "      <td>389</td>\n",
       "      <td>54</td>\n",
       "      <td>126</td>\n",
       "      <td>75</td>\n",
       "      <td>9.0</td>\n",
       "      <td>43</td>\n",
       "      <td>9.0</td>\n",
       "      <td>4.0</td>\n",
       "      <td>5.0</td>\n",
       "      <td>8.0</td>\n",
       "      <td>NaN</td>\n",
       "    </tr>\n",
       "    <tr>\n",
       "      <th>1</th>\n",
       "      <td>BARAJAS</td>\n",
       "      <td>2009</td>\n",
       "      <td>89</td>\n",
       "      <td>6</td>\n",
       "      <td>53</td>\n",
       "      <td>21</td>\n",
       "      <td>NaN</td>\n",
       "      <td>12</td>\n",
       "      <td>2.0</td>\n",
       "      <td>1.0</td>\n",
       "      <td>2.0</td>\n",
       "      <td>2.0</td>\n",
       "      <td>NaN</td>\n",
       "    </tr>\n",
       "    <tr>\n",
       "      <th>2</th>\n",
       "      <td>CARABANCHEL</td>\n",
       "      <td>2009</td>\n",
       "      <td>375</td>\n",
       "      <td>44</td>\n",
       "      <td>171</td>\n",
       "      <td>137</td>\n",
       "      <td>8.0</td>\n",
       "      <td>36</td>\n",
       "      <td>13.0</td>\n",
       "      <td>6.0</td>\n",
       "      <td>9.0</td>\n",
       "      <td>8.0</td>\n",
       "      <td>NaN</td>\n",
       "    </tr>\n",
       "    <tr>\n",
       "      <th>3</th>\n",
       "      <td>CENTRO</td>\n",
       "      <td>2009</td>\n",
       "      <td>514</td>\n",
       "      <td>55</td>\n",
       "      <td>171</td>\n",
       "      <td>143</td>\n",
       "      <td>NaN</td>\n",
       "      <td>61</td>\n",
       "      <td>12.0</td>\n",
       "      <td>3.0</td>\n",
       "      <td>10.0</td>\n",
       "      <td>12.0</td>\n",
       "      <td>NaN</td>\n",
       "    </tr>\n",
       "    <tr>\n",
       "      <th>4</th>\n",
       "      <td>CHAMARTIN</td>\n",
       "      <td>2009</td>\n",
       "      <td>494</td>\n",
       "      <td>70</td>\n",
       "      <td>133</td>\n",
       "      <td>92</td>\n",
       "      <td>10.0</td>\n",
       "      <td>72</td>\n",
       "      <td>22.0</td>\n",
       "      <td>2.0</td>\n",
       "      <td>6.0</td>\n",
       "      <td>7.0</td>\n",
       "      <td>NaN</td>\n",
       "    </tr>\n",
       "  </tbody>\n",
       "</table>\n",
       "</div>"
      ],
      "text/plain": [
       "      DISTRITO   AÑO  ...  OTRAS CAUSAS  CAÍDA VEHÍCULO 3 RUEDAS\n",
       "0   ARGANZUELA  2009  ...           8.0                      NaN\n",
       "1      BARAJAS  2009  ...           2.0                      NaN\n",
       "2  CARABANCHEL  2009  ...           8.0                      NaN\n",
       "3       CENTRO  2009  ...          12.0                      NaN\n",
       "4    CHAMARTIN  2009  ...           7.0                      NaN\n",
       "\n",
       "[5 rows x 13 columns]"
      ]
     },
     "execution_count": 189,
     "metadata": {
      "tags": []
     },
     "output_type": "execute_result"
    }
   ],
   "source": [
    "all_accidents_tot_4.head()"
   ]
  },
  {
   "cell_type": "code",
   "execution_count": 190,
   "metadata": {
    "colab": {
     "base_uri": "https://localhost:8080/",
     "height": 35
    },
    "executionInfo": {
     "elapsed": 531,
     "status": "ok",
     "timestamp": 1608722962500,
     "user": {
      "displayName": "Luis DEL POZO",
      "photoUrl": "",
      "userId": "08297678491184687059"
     },
     "user_tz": -60
    },
    "id": "51okhMvrXEw2",
    "outputId": "1cec45df-c229-4417-a054-eeb142c83bcc"
   },
   "outputs": [
    {
     "data": {
      "application/vnd.google.colaboratory.intrinsic+json": {
       "type": "string"
      },
      "text/plain": [
       "'ARGANZUELA'"
      ]
     },
     "execution_count": 190,
     "metadata": {
      "tags": []
     },
     "output_type": "execute_result"
    }
   ],
   "source": [
    "all_accidents_tot_4.DISTRITO[0]"
   ]
  },
  {
   "cell_type": "code",
   "execution_count": 192,
   "metadata": {
    "colab": {
     "base_uri": "https://localhost:8080/",
     "height": 35
    },
    "executionInfo": {
     "elapsed": 547,
     "status": "ok",
     "timestamp": 1608722988305,
     "user": {
      "displayName": "Luis DEL POZO",
      "photoUrl": "",
      "userId": "08297678491184687059"
     },
     "user_tz": -60
    },
    "id": "kO8-kJNQXHEh",
    "outputId": "60276ea1-4431-4d04-d2f8-c342c420ef25"
   },
   "outputs": [
    {
     "data": {
      "application/vnd.google.colaboratory.intrinsic+json": {
       "type": "string"
      },
      "text/plain": [
       "'VILLAVERDE'"
      ]
     },
     "execution_count": 192,
     "metadata": {
      "tags": []
     },
     "output_type": "execute_result"
    }
   ],
   "source": [
    "all_accidents_tot_4.DISTRITO[167]"
   ]
  },
  {
   "cell_type": "code",
   "execution_count": 193,
   "metadata": {
    "colab": {
     "base_uri": "https://localhost:8080/"
    },
    "executionInfo": {
     "elapsed": 1274,
     "status": "ok",
     "timestamp": 1608723938821,
     "user": {
      "displayName": "Luis DEL POZO",
      "photoUrl": "",
      "userId": "08297678491184687059"
     },
     "user_tz": -60
    },
    "id": "6t-oqkQ30Fnd",
    "outputId": "8968a5ac-0ff5-4649-b1ed-a2238f41f4f8"
   },
   "outputs": [
    {
     "name": "stdout",
     "output_type": "stream",
     "text": [
      "<class 'pandas.core.frame.DataFrame'>\n",
      "RangeIndex: 168 entries, 0 to 167\n",
      "Data columns (total 13 columns):\n",
      " #   Column                   Non-Null Count  Dtype  \n",
      "---  ------                   --------------  -----  \n",
      " 0   DISTRITO                 168 non-null    object \n",
      " 1   AÑO                      168 non-null    object \n",
      " 2   COLISIÓN DOBLE           168 non-null    int64  \n",
      " 3   COLISIÓN MÚLTIPLE        168 non-null    int64  \n",
      " 4   CHOQUE CON OBJETO FIJO   168 non-null    int64  \n",
      " 5   ATROPELLO                168 non-null    int64  \n",
      " 6   VUELCO                   154 non-null    float64\n",
      " 7   CAÍDA MOTOCICLETA        168 non-null    int64  \n",
      " 8   CAÍDA CICLOMOTOR         166 non-null    float64\n",
      " 9   CAÍDA BICICLETA          162 non-null    float64\n",
      " 10  CAÍDA VIAJERO BUS        154 non-null    float64\n",
      " 11  OTRAS CAUSAS             159 non-null    float64\n",
      " 12  CAÍDA VEHÍCULO 3 RUEDAS  1 non-null      float64\n",
      "dtypes: float64(6), int64(5), object(2)\n",
      "memory usage: 17.2+ KB\n"
     ]
    }
   ],
   "source": [
    "#Ahora voy a ver qué cosas hay dentro de este DF\n",
    "all_accidents_tot_4.info()"
   ]
  },
  {
   "cell_type": "code",
   "execution_count": 194,
   "metadata": {
    "colab": {
     "base_uri": "https://localhost:8080/",
     "height": 318
    },
    "executionInfo": {
     "elapsed": 621,
     "status": "ok",
     "timestamp": 1608724017172,
     "user": {
      "displayName": "Luis DEL POZO",
      "photoUrl": "",
      "userId": "08297678491184687059"
     },
     "user_tz": -60
    },
    "id": "Sa5RZUt-0Frc",
    "outputId": "8fb6512e-5ed1-4324-db12-f84ad6525713"
   },
   "outputs": [
    {
     "data": {
      "text/html": [
       "<div>\n",
       "<style scoped>\n",
       "    .dataframe tbody tr th:only-of-type {\n",
       "        vertical-align: middle;\n",
       "    }\n",
       "\n",
       "    .dataframe tbody tr th {\n",
       "        vertical-align: top;\n",
       "    }\n",
       "\n",
       "    .dataframe thead th {\n",
       "        text-align: right;\n",
       "    }\n",
       "</style>\n",
       "<table border=\"1\" class=\"dataframe\">\n",
       "  <thead>\n",
       "    <tr style=\"text-align: right;\">\n",
       "      <th></th>\n",
       "      <th>COLISIÓN DOBLE</th>\n",
       "      <th>COLISIÓN MÚLTIPLE</th>\n",
       "      <th>CHOQUE CON OBJETO FIJO</th>\n",
       "      <th>ATROPELLO</th>\n",
       "      <th>VUELCO</th>\n",
       "      <th>CAÍDA MOTOCICLETA</th>\n",
       "      <th>CAÍDA CICLOMOTOR</th>\n",
       "      <th>CAÍDA BICICLETA</th>\n",
       "      <th>CAÍDA VIAJERO BUS</th>\n",
       "      <th>OTRAS CAUSAS</th>\n",
       "      <th>CAÍDA VEHÍCULO 3 RUEDAS</th>\n",
       "    </tr>\n",
       "  </thead>\n",
       "  <tbody>\n",
       "    <tr>\n",
       "      <th>count</th>\n",
       "      <td>168.000000</td>\n",
       "      <td>168.000000</td>\n",
       "      <td>168.000000</td>\n",
       "      <td>168.000000</td>\n",
       "      <td>154.000000</td>\n",
       "      <td>168.000000</td>\n",
       "      <td>166.000000</td>\n",
       "      <td>162.000000</td>\n",
       "      <td>154.000000</td>\n",
       "      <td>159.000000</td>\n",
       "      <td>1.0</td>\n",
       "    </tr>\n",
       "    <tr>\n",
       "      <th>mean</th>\n",
       "      <td>295.333333</td>\n",
       "      <td>36.422619</td>\n",
       "      <td>96.720238</td>\n",
       "      <td>73.023810</td>\n",
       "      <td>4.363636</td>\n",
       "      <td>41.797619</td>\n",
       "      <td>8.771084</td>\n",
       "      <td>7.907407</td>\n",
       "      <td>4.448052</td>\n",
       "      <td>3.905660</td>\n",
       "      <td>1.0</td>\n",
       "    </tr>\n",
       "    <tr>\n",
       "      <th>std</th>\n",
       "      <td>132.050057</td>\n",
       "      <td>20.784753</td>\n",
       "      <td>41.950345</td>\n",
       "      <td>31.252679</td>\n",
       "      <td>3.275614</td>\n",
       "      <td>27.729782</td>\n",
       "      <td>5.046031</td>\n",
       "      <td>6.855931</td>\n",
       "      <td>2.755961</td>\n",
       "      <td>2.530304</td>\n",
       "      <td>NaN</td>\n",
       "    </tr>\n",
       "    <tr>\n",
       "      <th>min</th>\n",
       "      <td>62.000000</td>\n",
       "      <td>1.000000</td>\n",
       "      <td>28.000000</td>\n",
       "      <td>15.000000</td>\n",
       "      <td>1.000000</td>\n",
       "      <td>5.000000</td>\n",
       "      <td>1.000000</td>\n",
       "      <td>1.000000</td>\n",
       "      <td>1.000000</td>\n",
       "      <td>1.000000</td>\n",
       "      <td>1.0</td>\n",
       "    </tr>\n",
       "    <tr>\n",
       "      <th>25%</th>\n",
       "      <td>177.750000</td>\n",
       "      <td>21.000000</td>\n",
       "      <td>62.000000</td>\n",
       "      <td>53.750000</td>\n",
       "      <td>2.000000</td>\n",
       "      <td>18.000000</td>\n",
       "      <td>5.000000</td>\n",
       "      <td>3.000000</td>\n",
       "      <td>2.000000</td>\n",
       "      <td>2.000000</td>\n",
       "      <td>1.0</td>\n",
       "    </tr>\n",
       "    <tr>\n",
       "      <th>50%</th>\n",
       "      <td>321.000000</td>\n",
       "      <td>35.000000</td>\n",
       "      <td>87.000000</td>\n",
       "      <td>72.000000</td>\n",
       "      <td>3.000000</td>\n",
       "      <td>36.000000</td>\n",
       "      <td>8.500000</td>\n",
       "      <td>6.000000</td>\n",
       "      <td>4.000000</td>\n",
       "      <td>3.000000</td>\n",
       "      <td>1.0</td>\n",
       "    </tr>\n",
       "    <tr>\n",
       "      <th>75%</th>\n",
       "      <td>377.000000</td>\n",
       "      <td>54.000000</td>\n",
       "      <td>128.500000</td>\n",
       "      <td>91.000000</td>\n",
       "      <td>6.000000</td>\n",
       "      <td>60.250000</td>\n",
       "      <td>12.000000</td>\n",
       "      <td>10.750000</td>\n",
       "      <td>6.000000</td>\n",
       "      <td>5.000000</td>\n",
       "      <td>1.0</td>\n",
       "    </tr>\n",
       "    <tr>\n",
       "      <th>max</th>\n",
       "      <td>633.000000</td>\n",
       "      <td>82.000000</td>\n",
       "      <td>210.000000</td>\n",
       "      <td>169.000000</td>\n",
       "      <td>18.000000</td>\n",
       "      <td>142.000000</td>\n",
       "      <td>31.000000</td>\n",
       "      <td>37.000000</td>\n",
       "      <td>14.000000</td>\n",
       "      <td>13.000000</td>\n",
       "      <td>1.0</td>\n",
       "    </tr>\n",
       "  </tbody>\n",
       "</table>\n",
       "</div>"
      ],
      "text/plain": [
       "       COLISIÓN DOBLE  COLISIÓN MÚLTIPLE  ...  OTRAS CAUSAS  CAÍDA VEHÍCULO 3 RUEDAS\n",
       "count      168.000000         168.000000  ...    159.000000                      1.0\n",
       "mean       295.333333          36.422619  ...      3.905660                      1.0\n",
       "std        132.050057          20.784753  ...      2.530304                      NaN\n",
       "min         62.000000           1.000000  ...      1.000000                      1.0\n",
       "25%        177.750000          21.000000  ...      2.000000                      1.0\n",
       "50%        321.000000          35.000000  ...      3.000000                      1.0\n",
       "75%        377.000000          54.000000  ...      5.000000                      1.0\n",
       "max        633.000000          82.000000  ...     13.000000                      1.0\n",
       "\n",
       "[8 rows x 11 columns]"
      ]
     },
     "execution_count": 194,
     "metadata": {
      "tags": []
     },
     "output_type": "execute_result"
    }
   ],
   "source": [
    "all_accidents_tot_4.describe()"
   ]
  },
  {
   "cell_type": "code",
   "execution_count": 195,
   "metadata": {
    "colab": {
     "base_uri": "https://localhost:8080/",
     "height": 459
    },
    "executionInfo": {
     "elapsed": 554,
     "status": "ok",
     "timestamp": 1608724169852,
     "user": {
      "displayName": "Luis DEL POZO",
      "photoUrl": "",
      "userId": "08297678491184687059"
     },
     "user_tz": -60
    },
    "id": "3xTNSmtl0Fw1",
    "outputId": "4ca17153-6e93-4c80-b08e-7818fba2006c"
   },
   "outputs": [
    {
     "data": {
      "text/html": [
       "<div>\n",
       "<style scoped>\n",
       "    .dataframe tbody tr th:only-of-type {\n",
       "        vertical-align: middle;\n",
       "    }\n",
       "\n",
       "    .dataframe tbody tr th {\n",
       "        vertical-align: top;\n",
       "    }\n",
       "\n",
       "    .dataframe thead th {\n",
       "        text-align: right;\n",
       "    }\n",
       "</style>\n",
       "<table border=\"1\" class=\"dataframe\">\n",
       "  <thead>\n",
       "    <tr style=\"text-align: right;\">\n",
       "      <th></th>\n",
       "      <th>DISTRITO</th>\n",
       "      <th>AÑO</th>\n",
       "      <th>COLISIÓN DOBLE</th>\n",
       "      <th>COLISIÓN MÚLTIPLE</th>\n",
       "      <th>CHOQUE CON OBJETO FIJO</th>\n",
       "      <th>ATROPELLO</th>\n",
       "      <th>VUELCO</th>\n",
       "      <th>CAÍDA MOTOCICLETA</th>\n",
       "      <th>CAÍDA CICLOMOTOR</th>\n",
       "      <th>CAÍDA BICICLETA</th>\n",
       "      <th>CAÍDA VIAJERO BUS</th>\n",
       "      <th>OTRAS CAUSAS</th>\n",
       "      <th>CAÍDA VEHÍCULO 3 RUEDAS</th>\n",
       "    </tr>\n",
       "  </thead>\n",
       "  <tbody>\n",
       "    <tr>\n",
       "      <th>0</th>\n",
       "      <td>ARGANZUELA</td>\n",
       "      <td>2009</td>\n",
       "      <td>389</td>\n",
       "      <td>54</td>\n",
       "      <td>126</td>\n",
       "      <td>75</td>\n",
       "      <td>9.0</td>\n",
       "      <td>43</td>\n",
       "      <td>9.0</td>\n",
       "      <td>4.0</td>\n",
       "      <td>5.0</td>\n",
       "      <td>8.0</td>\n",
       "      <td>0.0</td>\n",
       "    </tr>\n",
       "    <tr>\n",
       "      <th>1</th>\n",
       "      <td>BARAJAS</td>\n",
       "      <td>2009</td>\n",
       "      <td>89</td>\n",
       "      <td>6</td>\n",
       "      <td>53</td>\n",
       "      <td>21</td>\n",
       "      <td>0.0</td>\n",
       "      <td>12</td>\n",
       "      <td>2.0</td>\n",
       "      <td>1.0</td>\n",
       "      <td>2.0</td>\n",
       "      <td>2.0</td>\n",
       "      <td>0.0</td>\n",
       "    </tr>\n",
       "    <tr>\n",
       "      <th>2</th>\n",
       "      <td>CARABANCHEL</td>\n",
       "      <td>2009</td>\n",
       "      <td>375</td>\n",
       "      <td>44</td>\n",
       "      <td>171</td>\n",
       "      <td>137</td>\n",
       "      <td>8.0</td>\n",
       "      <td>36</td>\n",
       "      <td>13.0</td>\n",
       "      <td>6.0</td>\n",
       "      <td>9.0</td>\n",
       "      <td>8.0</td>\n",
       "      <td>0.0</td>\n",
       "    </tr>\n",
       "    <tr>\n",
       "      <th>3</th>\n",
       "      <td>CENTRO</td>\n",
       "      <td>2009</td>\n",
       "      <td>514</td>\n",
       "      <td>55</td>\n",
       "      <td>171</td>\n",
       "      <td>143</td>\n",
       "      <td>0.0</td>\n",
       "      <td>61</td>\n",
       "      <td>12.0</td>\n",
       "      <td>3.0</td>\n",
       "      <td>10.0</td>\n",
       "      <td>12.0</td>\n",
       "      <td>0.0</td>\n",
       "    </tr>\n",
       "    <tr>\n",
       "      <th>4</th>\n",
       "      <td>CHAMARTIN</td>\n",
       "      <td>2009</td>\n",
       "      <td>494</td>\n",
       "      <td>70</td>\n",
       "      <td>133</td>\n",
       "      <td>92</td>\n",
       "      <td>10.0</td>\n",
       "      <td>72</td>\n",
       "      <td>22.0</td>\n",
       "      <td>2.0</td>\n",
       "      <td>6.0</td>\n",
       "      <td>7.0</td>\n",
       "      <td>0.0</td>\n",
       "    </tr>\n",
       "    <tr>\n",
       "      <th>...</th>\n",
       "      <td>...</td>\n",
       "      <td>...</td>\n",
       "      <td>...</td>\n",
       "      <td>...</td>\n",
       "      <td>...</td>\n",
       "      <td>...</td>\n",
       "      <td>...</td>\n",
       "      <td>...</td>\n",
       "      <td>...</td>\n",
       "      <td>...</td>\n",
       "      <td>...</td>\n",
       "      <td>...</td>\n",
       "      <td>...</td>\n",
       "    </tr>\n",
       "    <tr>\n",
       "      <th>163</th>\n",
       "      <td>TETUAN</td>\n",
       "      <td>2016</td>\n",
       "      <td>330</td>\n",
       "      <td>43</td>\n",
       "      <td>70</td>\n",
       "      <td>91</td>\n",
       "      <td>0.0</td>\n",
       "      <td>73</td>\n",
       "      <td>25.0</td>\n",
       "      <td>13.0</td>\n",
       "      <td>5.0</td>\n",
       "      <td>3.0</td>\n",
       "      <td>0.0</td>\n",
       "    </tr>\n",
       "    <tr>\n",
       "      <th>164</th>\n",
       "      <td>USERA</td>\n",
       "      <td>2016</td>\n",
       "      <td>206</td>\n",
       "      <td>27</td>\n",
       "      <td>74</td>\n",
       "      <td>75</td>\n",
       "      <td>2.0</td>\n",
       "      <td>16</td>\n",
       "      <td>2.0</td>\n",
       "      <td>5.0</td>\n",
       "      <td>4.0</td>\n",
       "      <td>1.0</td>\n",
       "      <td>0.0</td>\n",
       "    </tr>\n",
       "    <tr>\n",
       "      <th>165</th>\n",
       "      <td>VICALVARO</td>\n",
       "      <td>2016</td>\n",
       "      <td>70</td>\n",
       "      <td>4</td>\n",
       "      <td>38</td>\n",
       "      <td>22</td>\n",
       "      <td>4.0</td>\n",
       "      <td>15</td>\n",
       "      <td>2.0</td>\n",
       "      <td>3.0</td>\n",
       "      <td>2.0</td>\n",
       "      <td>1.0</td>\n",
       "      <td>0.0</td>\n",
       "    </tr>\n",
       "    <tr>\n",
       "      <th>166</th>\n",
       "      <td>VILLA DE VALLECAS</td>\n",
       "      <td>2016</td>\n",
       "      <td>149</td>\n",
       "      <td>7</td>\n",
       "      <td>42</td>\n",
       "      <td>54</td>\n",
       "      <td>5.0</td>\n",
       "      <td>26</td>\n",
       "      <td>4.0</td>\n",
       "      <td>4.0</td>\n",
       "      <td>1.0</td>\n",
       "      <td>3.0</td>\n",
       "      <td>0.0</td>\n",
       "    </tr>\n",
       "    <tr>\n",
       "      <th>167</th>\n",
       "      <td>VILLAVERDE</td>\n",
       "      <td>2016</td>\n",
       "      <td>177</td>\n",
       "      <td>11</td>\n",
       "      <td>71</td>\n",
       "      <td>54</td>\n",
       "      <td>1.0</td>\n",
       "      <td>8</td>\n",
       "      <td>5.0</td>\n",
       "      <td>6.0</td>\n",
       "      <td>2.0</td>\n",
       "      <td>1.0</td>\n",
       "      <td>0.0</td>\n",
       "    </tr>\n",
       "  </tbody>\n",
       "</table>\n",
       "<p>168 rows × 13 columns</p>\n",
       "</div>"
      ],
      "text/plain": [
       "              DISTRITO   AÑO  ...  OTRAS CAUSAS  CAÍDA VEHÍCULO 3 RUEDAS\n",
       "0           ARGANZUELA  2009  ...           8.0                      0.0\n",
       "1              BARAJAS  2009  ...           2.0                      0.0\n",
       "2          CARABANCHEL  2009  ...           8.0                      0.0\n",
       "3               CENTRO  2009  ...          12.0                      0.0\n",
       "4            CHAMARTIN  2009  ...           7.0                      0.0\n",
       "..                 ...   ...  ...           ...                      ...\n",
       "163             TETUAN  2016  ...           3.0                      0.0\n",
       "164              USERA  2016  ...           1.0                      0.0\n",
       "165          VICALVARO  2016  ...           1.0                      0.0\n",
       "166  VILLA DE VALLECAS  2016  ...           3.0                      0.0\n",
       "167         VILLAVERDE  2016  ...           1.0                      0.0\n",
       "\n",
       "[168 rows x 13 columns]"
      ]
     },
     "execution_count": 195,
     "metadata": {
      "tags": []
     },
     "output_type": "execute_result"
    }
   ],
   "source": [
    "#Como todos los NaN se producen cuando el valor es 0, los sustituimos para poder operar con ellos\n",
    "all_accidents_tot_4.fillna(0)"
   ]
  },
  {
   "cell_type": "code",
   "execution_count": 197,
   "metadata": {
    "executionInfo": {
     "elapsed": 615,
     "status": "ok",
     "timestamp": 1608724230844,
     "user": {
      "displayName": "Luis DEL POZO",
      "photoUrl": "",
      "userId": "08297678491184687059"
     },
     "user_tz": -60
    },
    "id": "X4e3rRrqbuya"
   },
   "outputs": [],
   "source": [
    " = all_accidents_tot_4.fillna(0)\n"
   ]
  },
  {
   "cell_type": "code",
   "execution_count": 198,
   "metadata": {
    "colab": {
     "base_uri": "https://localhost:8080/",
     "height": 224
    },
    "executionInfo": {
     "elapsed": 3205,
     "status": "ok",
     "timestamp": 1608724250453,
     "user": {
      "displayName": "Luis DEL POZO",
      "photoUrl": "",
      "userId": "08297678491184687059"
     },
     "user_tz": -60
    },
    "id": "_e-lNkEJb9pP",
    "outputId": "cff689f3-b64f-4f66-a487-10503683f1cc"
   },
   "outputs": [
    {
     "data": {
      "text/html": [
       "<div>\n",
       "<style scoped>\n",
       "    .dataframe tbody tr th:only-of-type {\n",
       "        vertical-align: middle;\n",
       "    }\n",
       "\n",
       "    .dataframe tbody tr th {\n",
       "        vertical-align: top;\n",
       "    }\n",
       "\n",
       "    .dataframe thead th {\n",
       "        text-align: right;\n",
       "    }\n",
       "</style>\n",
       "<table border=\"1\" class=\"dataframe\">\n",
       "  <thead>\n",
       "    <tr style=\"text-align: right;\">\n",
       "      <th></th>\n",
       "      <th>DISTRITO</th>\n",
       "      <th>AÑO</th>\n",
       "      <th>COLISIÓN DOBLE</th>\n",
       "      <th>COLISIÓN MÚLTIPLE</th>\n",
       "      <th>CHOQUE CON OBJETO FIJO</th>\n",
       "      <th>ATROPELLO</th>\n",
       "      <th>VUELCO</th>\n",
       "      <th>CAÍDA MOTOCICLETA</th>\n",
       "      <th>CAÍDA CICLOMOTOR</th>\n",
       "      <th>CAÍDA BICICLETA</th>\n",
       "      <th>CAÍDA VIAJERO BUS</th>\n",
       "      <th>OTRAS CAUSAS</th>\n",
       "      <th>CAÍDA VEHÍCULO 3 RUEDAS</th>\n",
       "    </tr>\n",
       "  </thead>\n",
       "  <tbody>\n",
       "    <tr>\n",
       "      <th>0</th>\n",
       "      <td>ARGANZUELA</td>\n",
       "      <td>2009</td>\n",
       "      <td>389</td>\n",
       "      <td>54</td>\n",
       "      <td>126</td>\n",
       "      <td>75</td>\n",
       "      <td>9.0</td>\n",
       "      <td>43</td>\n",
       "      <td>9.0</td>\n",
       "      <td>4.0</td>\n",
       "      <td>5.0</td>\n",
       "      <td>8.0</td>\n",
       "      <td>0.0</td>\n",
       "    </tr>\n",
       "    <tr>\n",
       "      <th>1</th>\n",
       "      <td>BARAJAS</td>\n",
       "      <td>2009</td>\n",
       "      <td>89</td>\n",
       "      <td>6</td>\n",
       "      <td>53</td>\n",
       "      <td>21</td>\n",
       "      <td>0.0</td>\n",
       "      <td>12</td>\n",
       "      <td>2.0</td>\n",
       "      <td>1.0</td>\n",
       "      <td>2.0</td>\n",
       "      <td>2.0</td>\n",
       "      <td>0.0</td>\n",
       "    </tr>\n",
       "    <tr>\n",
       "      <th>2</th>\n",
       "      <td>CARABANCHEL</td>\n",
       "      <td>2009</td>\n",
       "      <td>375</td>\n",
       "      <td>44</td>\n",
       "      <td>171</td>\n",
       "      <td>137</td>\n",
       "      <td>8.0</td>\n",
       "      <td>36</td>\n",
       "      <td>13.0</td>\n",
       "      <td>6.0</td>\n",
       "      <td>9.0</td>\n",
       "      <td>8.0</td>\n",
       "      <td>0.0</td>\n",
       "    </tr>\n",
       "    <tr>\n",
       "      <th>3</th>\n",
       "      <td>CENTRO</td>\n",
       "      <td>2009</td>\n",
       "      <td>514</td>\n",
       "      <td>55</td>\n",
       "      <td>171</td>\n",
       "      <td>143</td>\n",
       "      <td>0.0</td>\n",
       "      <td>61</td>\n",
       "      <td>12.0</td>\n",
       "      <td>3.0</td>\n",
       "      <td>10.0</td>\n",
       "      <td>12.0</td>\n",
       "      <td>0.0</td>\n",
       "    </tr>\n",
       "    <tr>\n",
       "      <th>4</th>\n",
       "      <td>CHAMARTIN</td>\n",
       "      <td>2009</td>\n",
       "      <td>494</td>\n",
       "      <td>70</td>\n",
       "      <td>133</td>\n",
       "      <td>92</td>\n",
       "      <td>10.0</td>\n",
       "      <td>72</td>\n",
       "      <td>22.0</td>\n",
       "      <td>2.0</td>\n",
       "      <td>6.0</td>\n",
       "      <td>7.0</td>\n",
       "      <td>0.0</td>\n",
       "    </tr>\n",
       "  </tbody>\n",
       "</table>\n",
       "</div>"
      ],
      "text/plain": [
       "      DISTRITO   AÑO  ...  OTRAS CAUSAS  CAÍDA VEHÍCULO 3 RUEDAS\n",
       "0   ARGANZUELA  2009  ...           8.0                      0.0\n",
       "1      BARAJAS  2009  ...           2.0                      0.0\n",
       "2  CARABANCHEL  2009  ...           8.0                      0.0\n",
       "3       CENTRO  2009  ...          12.0                      0.0\n",
       "4    CHAMARTIN  2009  ...           7.0                      0.0\n",
       "\n",
       "[5 rows x 13 columns]"
      ]
     },
     "execution_count": 198,
     "metadata": {
      "tags": []
     },
     "output_type": "execute_result"
    }
   ],
   "source": [
    "all_accidents_tot_5.head()"
   ]
  },
  {
   "cell_type": "code",
   "execution_count": 199,
   "metadata": {
    "colab": {
     "base_uri": "https://localhost:8080/"
    },
    "executionInfo": {
     "elapsed": 756,
     "status": "ok",
     "timestamp": 1608724281237,
     "user": {
      "displayName": "Luis DEL POZO",
      "photoUrl": "",
      "userId": "08297678491184687059"
     },
     "user_tz": -60
    },
    "id": "vjOuIbnicEKw",
    "outputId": "bc372c54-a280-4501-9b51-be18186b51bd"
   },
   "outputs": [
    {
     "name": "stdout",
     "output_type": "stream",
     "text": [
      "<class 'pandas.core.frame.DataFrame'>\n",
      "RangeIndex: 168 entries, 0 to 167\n",
      "Data columns (total 13 columns):\n",
      " #   Column                   Non-Null Count  Dtype  \n",
      "---  ------                   --------------  -----  \n",
      " 0   DISTRITO                 168 non-null    object \n",
      " 1   AÑO                      168 non-null    object \n",
      " 2   COLISIÓN DOBLE           168 non-null    int64  \n",
      " 3   COLISIÓN MÚLTIPLE        168 non-null    int64  \n",
      " 4   CHOQUE CON OBJETO FIJO   168 non-null    int64  \n",
      " 5   ATROPELLO                168 non-null    int64  \n",
      " 6   VUELCO                   168 non-null    float64\n",
      " 7   CAÍDA MOTOCICLETA        168 non-null    int64  \n",
      " 8   CAÍDA CICLOMOTOR         168 non-null    float64\n",
      " 9   CAÍDA BICICLETA          168 non-null    float64\n",
      " 10  CAÍDA VIAJERO BUS        168 non-null    float64\n",
      " 11  OTRAS CAUSAS             168 non-null    float64\n",
      " 12  CAÍDA VEHÍCULO 3 RUEDAS  168 non-null    float64\n",
      "dtypes: float64(6), int64(5), object(2)\n",
      "memory usage: 17.2+ KB\n"
     ]
    }
   ],
   "source": [
    "all_accidents_tot_5.info()"
   ]
  },
  {
   "cell_type": "code",
   "execution_count": 206,
   "metadata": {
    "executionInfo": {
     "elapsed": 486,
     "status": "ok",
     "timestamp": 1608724928572,
     "user": {
      "displayName": "Luis DEL POZO",
      "photoUrl": "",
      "userId": "08297678491184687059"
     },
     "user_tz": -60
    },
    "id": "CgUGF6qqcBfP"
   },
   "outputs": [],
   "source": [
    "all_accidents_tot_5.VUELCO = all_accidents_tot_5.VUELCO.astype('int64')\n"
   ]
  },
  {
   "cell_type": "code",
   "execution_count": 207,
   "metadata": {
    "colab": {
     "base_uri": "https://localhost:8080/"
    },
    "executionInfo": {
     "elapsed": 583,
     "status": "ok",
     "timestamp": 1608724936059,
     "user": {
      "displayName": "Luis DEL POZO",
      "photoUrl": "",
      "userId": "08297678491184687059"
     },
     "user_tz": -60
    },
    "id": "xktVlrVScC5x",
    "outputId": "c1acd9df-ca0a-4952-fe92-d88e66b46783"
   },
   "outputs": [
    {
     "name": "stdout",
     "output_type": "stream",
     "text": [
      "<class 'pandas.core.frame.DataFrame'>\n",
      "RangeIndex: 168 entries, 0 to 167\n",
      "Data columns (total 13 columns):\n",
      " #   Column                   Non-Null Count  Dtype  \n",
      "---  ------                   --------------  -----  \n",
      " 0   DISTRITO                 168 non-null    object \n",
      " 1   AÑO                      168 non-null    object \n",
      " 2   COLISIÓN DOBLE           168 non-null    int64  \n",
      " 3   COLISIÓN MÚLTIPLE        168 non-null    int64  \n",
      " 4   CHOQUE CON OBJETO FIJO   168 non-null    int64  \n",
      " 5   ATROPELLO                168 non-null    int64  \n",
      " 6   VUELCO                   168 non-null    int64  \n",
      " 7   CAÍDA MOTOCICLETA        168 non-null    int64  \n",
      " 8   CAÍDA CICLOMOTOR         168 non-null    float64\n",
      " 9   CAÍDA BICICLETA          168 non-null    float64\n",
      " 10  CAÍDA VIAJERO BUS        168 non-null    float64\n",
      " 11  OTRAS CAUSAS             168 non-null    float64\n",
      " 12  CAÍDA VEHÍCULO 3 RUEDAS  168 non-null    float64\n",
      "dtypes: float64(5), int64(6), object(2)\n",
      "memory usage: 17.2+ KB\n"
     ]
    }
   ],
   "source": [
    "all_accidents_tot_5.info()"
   ]
  },
  {
   "cell_type": "code",
   "execution_count": 211,
   "metadata": {
    "executionInfo": {
     "elapsed": 508,
     "status": "ok",
     "timestamp": 1608725198912,
     "user": {
      "displayName": "Luis DEL POZO",
      "photoUrl": "",
      "userId": "08297678491184687059"
     },
     "user_tz": -60
    },
    "id": "cPMdby8kcC9H"
   },
   "outputs": [],
   "source": [
    "all_accidents_tot_5['CAÍDA CICLOMOTOR'] = all_accidents_tot_5['CAÍDA CICLOMOTOR'].astype('int64')\n",
    "all_accidents_tot_5['CAÍDA BICICLETA'] = all_accidents_tot_5['CAÍDA BICICLETA'].astype('int64')\n",
    "all_accidents_tot_5['CAÍDA VIAJERO BUS'] = all_accidents_tot_5['CAÍDA VIAJERO BUS'].astype('int64')\n",
    "all_accidents_tot_5['OTRAS CAUSAS'] = all_accidents_tot_5['OTRAS CAUSAS'].astype('int64')\n",
    "all_accidents_tot_5['CAÍDA VEHÍCULO 3 RUEDAS'] = all_accidents_tot_5['CAÍDA VEHÍCULO 3 RUEDAS'].astype('int64')"
   ]
  },
  {
   "cell_type": "code",
   "execution_count": 212,
   "metadata": {
    "colab": {
     "base_uri": "https://localhost:8080/"
    },
    "executionInfo": {
     "elapsed": 507,
     "status": "ok",
     "timestamp": 1608725208764,
     "user": {
      "displayName": "Luis DEL POZO",
      "photoUrl": "",
      "userId": "08297678491184687059"
     },
     "user_tz": -60
    },
    "id": "dl1rrMh7cDBR",
    "outputId": "a5012e04-bb1b-4a4b-f306-fe2b665ff873"
   },
   "outputs": [
    {
     "name": "stdout",
     "output_type": "stream",
     "text": [
      "<class 'pandas.core.frame.DataFrame'>\n",
      "RangeIndex: 168 entries, 0 to 167\n",
      "Data columns (total 13 columns):\n",
      " #   Column                   Non-Null Count  Dtype \n",
      "---  ------                   --------------  ----- \n",
      " 0   DISTRITO                 168 non-null    object\n",
      " 1   AÑO                      168 non-null    object\n",
      " 2   COLISIÓN DOBLE           168 non-null    int64 \n",
      " 3   COLISIÓN MÚLTIPLE        168 non-null    int64 \n",
      " 4   CHOQUE CON OBJETO FIJO   168 non-null    int64 \n",
      " 5   ATROPELLO                168 non-null    int64 \n",
      " 6   VUELCO                   168 non-null    int64 \n",
      " 7   CAÍDA MOTOCICLETA        168 non-null    int64 \n",
      " 8   CAÍDA CICLOMOTOR         168 non-null    int64 \n",
      " 9   CAÍDA BICICLETA          168 non-null    int64 \n",
      " 10  CAÍDA VIAJERO BUS        168 non-null    int64 \n",
      " 11  OTRAS CAUSAS             168 non-null    int64 \n",
      " 12  CAÍDA VEHÍCULO 3 RUEDAS  168 non-null    int64 \n",
      "dtypes: int64(11), object(2)\n",
      "memory usage: 17.2+ KB\n"
     ]
    }
   ],
   "source": [
    "all_accidents_tot_5.info()"
   ]
  },
  {
   "cell_type": "code",
   "execution_count": 214,
   "metadata": {
    "executionInfo": {
     "elapsed": 519,
     "status": "ok",
     "timestamp": 1608725458450,
     "user": {
      "displayName": "Luis DEL POZO",
      "photoUrl": "",
      "userId": "08297678491184687059"
     },
     "user_tz": -60
    },
    "id": "AXtaZ7-rgl1o"
   },
   "outputs": [],
   "source": [
    "all_accidents_tot_5['AÑO'] = all_accidents_tot_5['AÑO'].astype('int64')"
   ]
  },
  {
   "cell_type": "code",
   "execution_count": 218,
   "metadata": {
    "colab": {
     "base_uri": "https://localhost:8080/"
    },
    "executionInfo": {
     "elapsed": 543,
     "status": "ok",
     "timestamp": 1608725642238,
     "user": {
      "displayName": "Luis DEL POZO",
      "photoUrl": "",
      "userId": "08297678491184687059"
     },
     "user_tz": -60
    },
    "id": "Nemce_x-cDFU",
    "outputId": "7f7fae18-b37d-4943-bb35-3eacb1ea5952"
   },
   "outputs": [
    {
     "data": {
      "text/plain": [
       "DISTRITO             AÑO   COLISIÓN DOBLE  COLISIÓN MÚLTIPLE  CHOQUE CON OBJETO FIJO  ATROPELLO  VUELCO  CAÍDA MOTOCICLETA  CAÍDA CICLOMOTOR  CAÍDA BICICLETA  CAÍDA VIAJERO BUS  OTRAS CAUSAS  CAÍDA VEHÍCULO 3 RUEDAS\n",
       "VILLAVERDE           2016  177             11                 71                      54         1       8                  5                 6                2                  1             0                          1\n",
       "CIUDAD LINEAL        2013  396             52                 128                     75         3       72                 10                6                4                  4             0                          1\n",
       "FUENCARRAL-EL PARDO  2013  335             42                 159                     72         9       39                 7                 13               2                  4             0                          1\n",
       "                     2012  317             49                 141                     78         18      36                 11                11               4                  5             0                          1\n",
       "                     2011  312             42                 128                     89         12      30                 9                 16               1                  4             0                          1\n",
       "                                                                                                                                                                                                                          ..\n",
       "RETIRO               2015  332             60                 58                      59         1       54                 8                 22               5                  2             0                          1\n",
       "                     2014  350             70                 54                      62         3       56                 6                 13               4                  3             0                          1\n",
       "                     2013  364             59                 50                      50         1       46                 7                 11               2                  3             0                          1\n",
       "                     2012  370             65                 64                      54         1       48                 13                3                6                  2             0                          1\n",
       "ARGANZUELA           2009  389             54                 126                     75         9       43                 9                 4                5                  8             0                          1\n",
       "Length: 168, dtype: int64"
      ]
     },
     "execution_count": 218,
     "metadata": {
      "tags": []
     },
     "output_type": "execute_result"
    }
   ],
   "source": [
    "#Nos puede interesar la suma de todos los accidentes por año\n",
    "all_accidents_tot_5.value_counts()"
   ]
  },
  {
   "cell_type": "code",
   "execution_count": 222,
   "metadata": {
    "colab": {
     "base_uri": "https://localhost:8080/",
     "height": 349
    },
    "executionInfo": {
     "elapsed": 632,
     "status": "ok",
     "timestamp": 1608726089912,
     "user": {
      "displayName": "Luis DEL POZO",
      "photoUrl": "",
      "userId": "08297678491184687059"
     },
     "user_tz": -60
    },
    "id": "ibjuj6NQcDJb",
    "outputId": "f301d360-6d99-4652-a19f-f034ce684b55"
   },
   "outputs": [
    {
     "data": {
      "text/html": [
       "<div>\n",
       "<style scoped>\n",
       "    .dataframe tbody tr th:only-of-type {\n",
       "        vertical-align: middle;\n",
       "    }\n",
       "\n",
       "    .dataframe tbody tr th {\n",
       "        vertical-align: top;\n",
       "    }\n",
       "\n",
       "    .dataframe thead th {\n",
       "        text-align: right;\n",
       "    }\n",
       "</style>\n",
       "<table border=\"1\" class=\"dataframe\">\n",
       "  <thead>\n",
       "    <tr style=\"text-align: right;\">\n",
       "      <th></th>\n",
       "      <th>COLISIÓN DOBLE</th>\n",
       "      <th>COLISIÓN MÚLTIPLE</th>\n",
       "      <th>CHOQUE CON OBJETO FIJO</th>\n",
       "      <th>ATROPELLO</th>\n",
       "      <th>VUELCO</th>\n",
       "      <th>CAÍDA MOTOCICLETA</th>\n",
       "      <th>CAÍDA CICLOMOTOR</th>\n",
       "      <th>CAÍDA BICICLETA</th>\n",
       "      <th>CAÍDA VIAJERO BUS</th>\n",
       "      <th>OTRAS CAUSAS</th>\n",
       "      <th>CAÍDA VEHÍCULO 3 RUEDAS</th>\n",
       "    </tr>\n",
       "    <tr>\n",
       "      <th>AÑO</th>\n",
       "      <th></th>\n",
       "      <th></th>\n",
       "      <th></th>\n",
       "      <th></th>\n",
       "      <th></th>\n",
       "      <th></th>\n",
       "      <th></th>\n",
       "      <th></th>\n",
       "      <th></th>\n",
       "      <th></th>\n",
       "      <th></th>\n",
       "    </tr>\n",
       "  </thead>\n",
       "  <tbody>\n",
       "    <tr>\n",
       "      <th>2009</th>\n",
       "      <td>6498</td>\n",
       "      <td>790</td>\n",
       "      <td>2390</td>\n",
       "      <td>1582</td>\n",
       "      <td>98</td>\n",
       "      <td>768</td>\n",
       "      <td>231</td>\n",
       "      <td>76</td>\n",
       "      <td>93</td>\n",
       "      <td>134</td>\n",
       "      <td>0</td>\n",
       "    </tr>\n",
       "    <tr>\n",
       "      <th>2010</th>\n",
       "      <td>6118</td>\n",
       "      <td>745</td>\n",
       "      <td>2036</td>\n",
       "      <td>1570</td>\n",
       "      <td>110</td>\n",
       "      <td>691</td>\n",
       "      <td>188</td>\n",
       "      <td>81</td>\n",
       "      <td>105</td>\n",
       "      <td>84</td>\n",
       "      <td>0</td>\n",
       "    </tr>\n",
       "    <tr>\n",
       "      <th>2011</th>\n",
       "      <td>6238</td>\n",
       "      <td>776</td>\n",
       "      <td>2108</td>\n",
       "      <td>1566</td>\n",
       "      <td>76</td>\n",
       "      <td>803</td>\n",
       "      <td>185</td>\n",
       "      <td>114</td>\n",
       "      <td>75</td>\n",
       "      <td>62</td>\n",
       "      <td>0</td>\n",
       "    </tr>\n",
       "    <tr>\n",
       "      <th>2012</th>\n",
       "      <td>6170</td>\n",
       "      <td>784</td>\n",
       "      <td>1974</td>\n",
       "      <td>1496</td>\n",
       "      <td>92</td>\n",
       "      <td>774</td>\n",
       "      <td>187</td>\n",
       "      <td>126</td>\n",
       "      <td>69</td>\n",
       "      <td>74</td>\n",
       "      <td>0</td>\n",
       "    </tr>\n",
       "    <tr>\n",
       "      <th>2013</th>\n",
       "      <td>6157</td>\n",
       "      <td>723</td>\n",
       "      <td>1975</td>\n",
       "      <td>1486</td>\n",
       "      <td>67</td>\n",
       "      <td>927</td>\n",
       "      <td>137</td>\n",
       "      <td>140</td>\n",
       "      <td>76</td>\n",
       "      <td>61</td>\n",
       "      <td>0</td>\n",
       "    </tr>\n",
       "    <tr>\n",
       "      <th>2014</th>\n",
       "      <td>6056</td>\n",
       "      <td>769</td>\n",
       "      <td>1997</td>\n",
       "      <td>1483</td>\n",
       "      <td>94</td>\n",
       "      <td>987</td>\n",
       "      <td>150</td>\n",
       "      <td>232</td>\n",
       "      <td>89</td>\n",
       "      <td>78</td>\n",
       "      <td>0</td>\n",
       "    </tr>\n",
       "    <tr>\n",
       "      <th>2015</th>\n",
       "      <td>6121</td>\n",
       "      <td>736</td>\n",
       "      <td>1804</td>\n",
       "      <td>1525</td>\n",
       "      <td>60</td>\n",
       "      <td>983</td>\n",
       "      <td>166</td>\n",
       "      <td>239</td>\n",
       "      <td>85</td>\n",
       "      <td>63</td>\n",
       "      <td>0</td>\n",
       "    </tr>\n",
       "    <tr>\n",
       "      <th>2016</th>\n",
       "      <td>6258</td>\n",
       "      <td>796</td>\n",
       "      <td>1965</td>\n",
       "      <td>1560</td>\n",
       "      <td>75</td>\n",
       "      <td>1089</td>\n",
       "      <td>212</td>\n",
       "      <td>273</td>\n",
       "      <td>93</td>\n",
       "      <td>65</td>\n",
       "      <td>1</td>\n",
       "    </tr>\n",
       "  </tbody>\n",
       "</table>\n",
       "</div>"
      ],
      "text/plain": [
       "      COLISIÓN DOBLE  COLISIÓN MÚLTIPLE  ...  OTRAS CAUSAS  CAÍDA VEHÍCULO 3 RUEDAS\n",
       "AÑO                                      ...                                       \n",
       "2009            6498                790  ...           134                        0\n",
       "2010            6118                745  ...            84                        0\n",
       "2011            6238                776  ...            62                        0\n",
       "2012            6170                784  ...            74                        0\n",
       "2013            6157                723  ...            61                        0\n",
       "2014            6056                769  ...            78                        0\n",
       "2015            6121                736  ...            63                        0\n",
       "2016            6258                796  ...            65                        1\n",
       "\n",
       "[8 rows x 11 columns]"
      ]
     },
     "execution_count": 222,
     "metadata": {
      "tags": []
     },
     "output_type": "execute_result"
    }
   ],
   "source": [
    "#Me doy cuenta de que es un problema también no tener índices dobles porque todo lo relativo a la estadística es un lío... Aunque no tanto...\n",
    "all_accidents_tot_5.groupby(['AÑO']).sum()"
   ]
  },
  {
   "cell_type": "code",
   "execution_count": 223,
   "metadata": {
    "executionInfo": {
     "elapsed": 709,
     "status": "ok",
     "timestamp": 1608726176172,
     "user": {
      "displayName": "Luis DEL POZO",
      "photoUrl": "",
      "userId": "08297678491184687059"
     },
     "user_tz": -60
    },
    "id": "vZPFqpdWjQ6y"
   },
   "outputs": [],
   "source": [
    "all_accidents_tot_5_year = all_accidents_tot_5.groupby(['AÑO']).sum()"
   ]
  },
  {
   "cell_type": "code",
   "execution_count": 224,
   "metadata": {
    "colab": {
     "base_uri": "https://localhost:8080/"
    },
    "executionInfo": {
     "elapsed": 560,
     "status": "ok",
     "timestamp": 1608726196145,
     "user": {
      "displayName": "Luis DEL POZO",
      "photoUrl": "",
      "userId": "08297678491184687059"
     },
     "user_tz": -60
    },
    "id": "Io5v4h_PjYTQ",
    "outputId": "3766a55e-21c8-4ff1-818f-cead2c8864b6"
   },
   "outputs": [
    {
     "data": {
      "text/plain": [
       "pandas.core.frame.DataFrame"
      ]
     },
     "execution_count": 224,
     "metadata": {
      "tags": []
     },
     "output_type": "execute_result"
    }
   ],
   "source": [
    "type(all_accidents_tot_5_year)"
   ]
  },
  {
   "cell_type": "code",
   "execution_count": 225,
   "metadata": {
    "colab": {
     "base_uri": "https://localhost:8080/"
    },
    "executionInfo": {
     "elapsed": 604,
     "status": "ok",
     "timestamp": 1608726213183,
     "user": {
      "displayName": "Luis DEL POZO",
      "photoUrl": "",
      "userId": "08297678491184687059"
     },
     "user_tz": -60
    },
    "id": "G1zeTyesjYXH",
    "outputId": "e065d0bd-2be6-4110-9748-77944457a74d"
   },
   "outputs": [
    {
     "data": {
      "text/plain": [
       "Int64Index([2009, 2010, 2011, 2012, 2013, 2014, 2015, 2016], dtype='int64', name='AÑO')"
      ]
     },
     "execution_count": 225,
     "metadata": {
      "tags": []
     },
     "output_type": "execute_result"
    }
   ],
   "source": [
    "all_accidents_tot_5_year.index"
   ]
  },
  {
   "cell_type": "code",
   "execution_count": 226,
   "metadata": {
    "colab": {
     "base_uri": "https://localhost:8080/",
     "height": 318
    },
    "executionInfo": {
     "elapsed": 574,
     "status": "ok",
     "timestamp": 1608726235859,
     "user": {
      "displayName": "Luis DEL POZO",
      "photoUrl": "",
      "userId": "08297678491184687059"
     },
     "user_tz": -60
    },
    "id": "y6ovZMJLjYb_",
    "outputId": "aa652900-e91f-496e-b6a1-8e60cf6d9194"
   },
   "outputs": [
    {
     "data": {
      "text/html": [
       "<div>\n",
       "<style scoped>\n",
       "    .dataframe tbody tr th:only-of-type {\n",
       "        vertical-align: middle;\n",
       "    }\n",
       "\n",
       "    .dataframe tbody tr th {\n",
       "        vertical-align: top;\n",
       "    }\n",
       "\n",
       "    .dataframe thead th {\n",
       "        text-align: right;\n",
       "    }\n",
       "</style>\n",
       "<table border=\"1\" class=\"dataframe\">\n",
       "  <thead>\n",
       "    <tr style=\"text-align: right;\">\n",
       "      <th></th>\n",
       "      <th>COLISIÓN DOBLE</th>\n",
       "      <th>COLISIÓN MÚLTIPLE</th>\n",
       "      <th>CHOQUE CON OBJETO FIJO</th>\n",
       "      <th>ATROPELLO</th>\n",
       "      <th>VUELCO</th>\n",
       "      <th>CAÍDA MOTOCICLETA</th>\n",
       "      <th>CAÍDA CICLOMOTOR</th>\n",
       "      <th>CAÍDA BICICLETA</th>\n",
       "      <th>CAÍDA VIAJERO BUS</th>\n",
       "      <th>OTRAS CAUSAS</th>\n",
       "      <th>CAÍDA VEHÍCULO 3 RUEDAS</th>\n",
       "    </tr>\n",
       "  </thead>\n",
       "  <tbody>\n",
       "    <tr>\n",
       "      <th>count</th>\n",
       "      <td>8.000000</td>\n",
       "      <td>8.000000</td>\n",
       "      <td>8.000000</td>\n",
       "      <td>8.000000</td>\n",
       "      <td>8.000000</td>\n",
       "      <td>8.000000</td>\n",
       "      <td>8.000000</td>\n",
       "      <td>8.000000</td>\n",
       "      <td>8.000000</td>\n",
       "      <td>8.000000</td>\n",
       "      <td>8.000000</td>\n",
       "    </tr>\n",
       "    <tr>\n",
       "      <th>mean</th>\n",
       "      <td>6202.000000</td>\n",
       "      <td>764.875000</td>\n",
       "      <td>2031.125000</td>\n",
       "      <td>1533.500000</td>\n",
       "      <td>84.000000</td>\n",
       "      <td>877.750000</td>\n",
       "      <td>182.000000</td>\n",
       "      <td>160.125000</td>\n",
       "      <td>85.625000</td>\n",
       "      <td>77.625000</td>\n",
       "      <td>0.125000</td>\n",
       "    </tr>\n",
       "    <tr>\n",
       "      <th>std</th>\n",
       "      <td>136.292752</td>\n",
       "      <td>26.962606</td>\n",
       "      <td>168.294332</td>\n",
       "      <td>40.931999</td>\n",
       "      <td>17.096366</td>\n",
       "      <td>138.015268</td>\n",
       "      <td>30.882265</td>\n",
       "      <td>76.683836</td>\n",
       "      <td>11.819324</td>\n",
       "      <td>24.277782</td>\n",
       "      <td>0.353553</td>\n",
       "    </tr>\n",
       "    <tr>\n",
       "      <th>min</th>\n",
       "      <td>6056.000000</td>\n",
       "      <td>723.000000</td>\n",
       "      <td>1804.000000</td>\n",
       "      <td>1483.000000</td>\n",
       "      <td>60.000000</td>\n",
       "      <td>691.000000</td>\n",
       "      <td>137.000000</td>\n",
       "      <td>76.000000</td>\n",
       "      <td>69.000000</td>\n",
       "      <td>61.000000</td>\n",
       "      <td>0.000000</td>\n",
       "    </tr>\n",
       "    <tr>\n",
       "      <th>25%</th>\n",
       "      <td>6120.250000</td>\n",
       "      <td>742.750000</td>\n",
       "      <td>1971.750000</td>\n",
       "      <td>1493.500000</td>\n",
       "      <td>73.000000</td>\n",
       "      <td>772.500000</td>\n",
       "      <td>162.000000</td>\n",
       "      <td>105.750000</td>\n",
       "      <td>75.750000</td>\n",
       "      <td>62.750000</td>\n",
       "      <td>0.000000</td>\n",
       "    </tr>\n",
       "    <tr>\n",
       "      <th>50%</th>\n",
       "      <td>6163.500000</td>\n",
       "      <td>772.500000</td>\n",
       "      <td>1986.000000</td>\n",
       "      <td>1542.500000</td>\n",
       "      <td>84.000000</td>\n",
       "      <td>865.000000</td>\n",
       "      <td>186.000000</td>\n",
       "      <td>133.000000</td>\n",
       "      <td>87.000000</td>\n",
       "      <td>69.500000</td>\n",
       "      <td>0.000000</td>\n",
       "    </tr>\n",
       "    <tr>\n",
       "      <th>75%</th>\n",
       "      <td>6243.000000</td>\n",
       "      <td>785.500000</td>\n",
       "      <td>2054.000000</td>\n",
       "      <td>1567.000000</td>\n",
       "      <td>95.000000</td>\n",
       "      <td>984.000000</td>\n",
       "      <td>194.000000</td>\n",
       "      <td>233.750000</td>\n",
       "      <td>93.000000</td>\n",
       "      <td>79.500000</td>\n",
       "      <td>0.000000</td>\n",
       "    </tr>\n",
       "    <tr>\n",
       "      <th>max</th>\n",
       "      <td>6498.000000</td>\n",
       "      <td>796.000000</td>\n",
       "      <td>2390.000000</td>\n",
       "      <td>1582.000000</td>\n",
       "      <td>110.000000</td>\n",
       "      <td>1089.000000</td>\n",
       "      <td>231.000000</td>\n",
       "      <td>273.000000</td>\n",
       "      <td>105.000000</td>\n",
       "      <td>134.000000</td>\n",
       "      <td>1.000000</td>\n",
       "    </tr>\n",
       "  </tbody>\n",
       "</table>\n",
       "</div>"
      ],
      "text/plain": [
       "       COLISIÓN DOBLE  COLISIÓN MÚLTIPLE  ...  OTRAS CAUSAS  CAÍDA VEHÍCULO 3 RUEDAS\n",
       "count        8.000000           8.000000  ...      8.000000                 8.000000\n",
       "mean      6202.000000         764.875000  ...     77.625000                 0.125000\n",
       "std        136.292752          26.962606  ...     24.277782                 0.353553\n",
       "min       6056.000000         723.000000  ...     61.000000                 0.000000\n",
       "25%       6120.250000         742.750000  ...     62.750000                 0.000000\n",
       "50%       6163.500000         772.500000  ...     69.500000                 0.000000\n",
       "75%       6243.000000         785.500000  ...     79.500000                 0.000000\n",
       "max       6498.000000         796.000000  ...    134.000000                 1.000000\n",
       "\n",
       "[8 rows x 11 columns]"
      ]
     },
     "execution_count": 226,
     "metadata": {
      "tags": []
     },
     "output_type": "execute_result"
    }
   ],
   "source": [
    "all_accidents_tot_5_year.describe()"
   ]
  },
  {
   "cell_type": "code",
   "execution_count": 227,
   "metadata": {
    "colab": {
     "base_uri": "https://localhost:8080/"
    },
    "executionInfo": {
     "elapsed": 539,
     "status": "ok",
     "timestamp": 1608726306824,
     "user": {
      "displayName": "Luis DEL POZO",
      "photoUrl": "",
      "userId": "08297678491184687059"
     },
     "user_tz": -60
    },
    "id": "HACHz0O7jYhL",
    "outputId": "8ff87a2c-c318-4c10-eb97-1c84b179a86d"
   },
   "outputs": [
    {
     "data": {
      "text/plain": [
       "COLISIÓN DOBLE             0.021976\n",
       "COLISIÓN MÚLTIPLE          0.035251\n",
       "CHOQUE CON OBJETO FIJO     0.082858\n",
       "ATROPELLO                  0.026692\n",
       "VUELCO                     0.203528\n",
       "CAÍDA MOTOCICLETA          0.157238\n",
       "CAÍDA CICLOMOTOR           0.169683\n",
       "CAÍDA BICICLETA            0.478900\n",
       "CAÍDA VIAJERO BUS          0.138036\n",
       "OTRAS CAUSAS               0.312757\n",
       "CAÍDA VEHÍCULO 3 RUEDAS    2.828427\n",
       "dtype: float64"
      ]
     },
     "execution_count": 227,
     "metadata": {
      "tags": []
     },
     "output_type": "execute_result"
    }
   ],
   "source": [
    "all_accidents_tot_5_year.std()/all_accidents_tot_5_year.mean()"
   ]
  },
  {
   "cell_type": "code",
   "execution_count": 228,
   "metadata": {
    "executionInfo": {
     "elapsed": 508,
     "status": "ok",
     "timestamp": 1608726461698,
     "user": {
      "displayName": "Luis DEL POZO",
      "photoUrl": "",
      "userId": "08297678491184687059"
     },
     "user_tz": -60
    },
    "id": "1Q_J2r6yjYk-"
   },
   "outputs": [],
   "source": [
    "#Ojo con el resultado para \"CAÍDA VEHICULO 3 RUEDAS\": solo hay un valor y no tiene sentido la media, ni la std, ni nada..."
   ]
  },
  {
   "cell_type": "code",
   "execution_count": 247,
   "metadata": {
    "colab": {
     "base_uri": "https://localhost:8080/"
    },
    "executionInfo": {
     "elapsed": 513,
     "status": "ok",
     "timestamp": 1608727503422,
     "user": {
      "displayName": "Luis DEL POZO",
      "photoUrl": "",
      "userId": "08297678491184687059"
     },
     "user_tz": -60
    },
    "id": "ZjtF4W0ckh3l",
    "outputId": "69313615-23ea-466b-ce84-18074342a1a0"
   },
   "outputs": [
    {
     "data": {
      "text/plain": [
       "DISTRITO                   ARGANZUELA\n",
       "AÑO                              2009\n",
       "COLISIÓN DOBLE                    389\n",
       "COLISIÓN MÚLTIPLE                  54\n",
       "CHOQUE CON OBJETO FIJO            126\n",
       "ATROPELLO                          75\n",
       "VUELCO                              9\n",
       "CAÍDA MOTOCICLETA                  43\n",
       "CAÍDA CICLOMOTOR                    9\n",
       "CAÍDA BICICLETA                     4\n",
       "CAÍDA VIAJERO BUS                   5\n",
       "OTRAS CAUSAS                        8\n",
       "CAÍDA VEHÍCULO 3 RUEDAS             0\n",
       "Name: 0, dtype: object"
      ]
     },
     "execution_count": 247,
     "metadata": {
      "tags": []
     },
     "output_type": "execute_result"
    }
   ],
   "source": [
    "#Nos puede interesar la suma de todos los accidentes por distrito y año 2009\n",
    "all_accidents_tot_5.iloc[0]\n"
   ]
  },
  {
   "cell_type": "code",
   "execution_count": 248,
   "metadata": {
    "colab": {
     "base_uri": "https://localhost:8080/"
    },
    "executionInfo": {
     "elapsed": 676,
     "status": "ok",
     "timestamp": 1608727515114,
     "user": {
      "displayName": "Luis DEL POZO",
      "photoUrl": "",
      "userId": "08297678491184687059"
     },
     "user_tz": -60
    },
    "id": "HKwsr5fqoa_4",
    "outputId": "576ce0a9-af4f-4be8-f6a7-cbd3451be009"
   },
   "outputs": [
    {
     "data": {
      "text/plain": [
       "722"
      ]
     },
     "execution_count": 248,
     "metadata": {
      "tags": []
     },
     "output_type": "execute_result"
    }
   ],
   "source": [
    "#OJO CON LOS CAMPOS QUE NO QUEREMOS SUMAR\n",
    "all_accidents_tot_5.iloc[0][2:].sum()"
   ]
  },
  {
   "cell_type": "code",
   "execution_count": 262,
   "metadata": {
    "colab": {
     "base_uri": "https://localhost:8080/",
     "height": 318
    },
    "executionInfo": {
     "elapsed": 548,
     "status": "ok",
     "timestamp": 1608728287246,
     "user": {
      "displayName": "Luis DEL POZO",
      "photoUrl": "",
      "userId": "08297678491184687059"
     },
     "user_tz": -60
    },
    "id": "Egl9GFngobEl",
    "outputId": "b4049978-ab0e-41be-b037-e1794904c48d"
   },
   "outputs": [
    {
     "data": {
      "text/html": [
       "<div>\n",
       "<style scoped>\n",
       "    .dataframe tbody tr th:only-of-type {\n",
       "        vertical-align: middle;\n",
       "    }\n",
       "\n",
       "    .dataframe tbody tr th {\n",
       "        vertical-align: top;\n",
       "    }\n",
       "\n",
       "    .dataframe thead th {\n",
       "        text-align: right;\n",
       "    }\n",
       "</style>\n",
       "<table border=\"1\" class=\"dataframe\">\n",
       "  <thead>\n",
       "    <tr style=\"text-align: right;\">\n",
       "      <th></th>\n",
       "      <th>DISTRITO</th>\n",
       "      <th>AÑO</th>\n",
       "      <th>COLISIÓN DOBLE</th>\n",
       "      <th>COLISIÓN MÚLTIPLE</th>\n",
       "      <th>CHOQUE CON OBJETO FIJO</th>\n",
       "      <th>ATROPELLO</th>\n",
       "      <th>VUELCO</th>\n",
       "      <th>CAÍDA MOTOCICLETA</th>\n",
       "      <th>CAÍDA CICLOMOTOR</th>\n",
       "      <th>CAÍDA BICICLETA</th>\n",
       "      <th>CAÍDA VIAJERO BUS</th>\n",
       "      <th>OTRAS CAUSAS</th>\n",
       "      <th>CAÍDA VEHÍCULO 3 RUEDAS</th>\n",
       "    </tr>\n",
       "  </thead>\n",
       "  <tbody>\n",
       "    <tr>\n",
       "      <th>0</th>\n",
       "      <td>ARGANZUELA</td>\n",
       "      <td>2009</td>\n",
       "      <td>389</td>\n",
       "      <td>54</td>\n",
       "      <td>126</td>\n",
       "      <td>75</td>\n",
       "      <td>9</td>\n",
       "      <td>43</td>\n",
       "      <td>9</td>\n",
       "      <td>4</td>\n",
       "      <td>5</td>\n",
       "      <td>8</td>\n",
       "      <td>0</td>\n",
       "    </tr>\n",
       "    <tr>\n",
       "      <th>21</th>\n",
       "      <td>ARGANZUELA</td>\n",
       "      <td>2010</td>\n",
       "      <td>403</td>\n",
       "      <td>48</td>\n",
       "      <td>103</td>\n",
       "      <td>75</td>\n",
       "      <td>7</td>\n",
       "      <td>26</td>\n",
       "      <td>15</td>\n",
       "      <td>2</td>\n",
       "      <td>5</td>\n",
       "      <td>6</td>\n",
       "      <td>0</td>\n",
       "    </tr>\n",
       "    <tr>\n",
       "      <th>42</th>\n",
       "      <td>ARGANZUELA</td>\n",
       "      <td>2011</td>\n",
       "      <td>373</td>\n",
       "      <td>48</td>\n",
       "      <td>102</td>\n",
       "      <td>61</td>\n",
       "      <td>3</td>\n",
       "      <td>45</td>\n",
       "      <td>14</td>\n",
       "      <td>5</td>\n",
       "      <td>3</td>\n",
       "      <td>0</td>\n",
       "      <td>0</td>\n",
       "    </tr>\n",
       "    <tr>\n",
       "      <th>63</th>\n",
       "      <td>ARGANZUELA</td>\n",
       "      <td>2012</td>\n",
       "      <td>376</td>\n",
       "      <td>49</td>\n",
       "      <td>77</td>\n",
       "      <td>66</td>\n",
       "      <td>5</td>\n",
       "      <td>42</td>\n",
       "      <td>10</td>\n",
       "      <td>2</td>\n",
       "      <td>3</td>\n",
       "      <td>1</td>\n",
       "      <td>0</td>\n",
       "    </tr>\n",
       "    <tr>\n",
       "      <th>84</th>\n",
       "      <td>ARGANZUELA</td>\n",
       "      <td>2014</td>\n",
       "      <td>335</td>\n",
       "      <td>54</td>\n",
       "      <td>78</td>\n",
       "      <td>59</td>\n",
       "      <td>0</td>\n",
       "      <td>60</td>\n",
       "      <td>4</td>\n",
       "      <td>15</td>\n",
       "      <td>7</td>\n",
       "      <td>4</td>\n",
       "      <td>0</td>\n",
       "    </tr>\n",
       "    <tr>\n",
       "      <th>105</th>\n",
       "      <td>ARGANZUELA</td>\n",
       "      <td>2015</td>\n",
       "      <td>340</td>\n",
       "      <td>60</td>\n",
       "      <td>66</td>\n",
       "      <td>58</td>\n",
       "      <td>2</td>\n",
       "      <td>39</td>\n",
       "      <td>6</td>\n",
       "      <td>15</td>\n",
       "      <td>7</td>\n",
       "      <td>7</td>\n",
       "      <td>0</td>\n",
       "    </tr>\n",
       "    <tr>\n",
       "      <th>126</th>\n",
       "      <td>ARGANZUELA</td>\n",
       "      <td>2013</td>\n",
       "      <td>360</td>\n",
       "      <td>50</td>\n",
       "      <td>79</td>\n",
       "      <td>63</td>\n",
       "      <td>2</td>\n",
       "      <td>54</td>\n",
       "      <td>6</td>\n",
       "      <td>7</td>\n",
       "      <td>6</td>\n",
       "      <td>4</td>\n",
       "      <td>0</td>\n",
       "    </tr>\n",
       "    <tr>\n",
       "      <th>147</th>\n",
       "      <td>ARGANZUELA</td>\n",
       "      <td>2016</td>\n",
       "      <td>328</td>\n",
       "      <td>62</td>\n",
       "      <td>86</td>\n",
       "      <td>57</td>\n",
       "      <td>1</td>\n",
       "      <td>46</td>\n",
       "      <td>12</td>\n",
       "      <td>10</td>\n",
       "      <td>6</td>\n",
       "      <td>2</td>\n",
       "      <td>0</td>\n",
       "    </tr>\n",
       "  </tbody>\n",
       "</table>\n",
       "</div>"
      ],
      "text/plain": [
       "       DISTRITO   AÑO  ...  OTRAS CAUSAS  CAÍDA VEHÍCULO 3 RUEDAS\n",
       "0    ARGANZUELA  2009  ...             8                        0\n",
       "21   ARGANZUELA  2010  ...             6                        0\n",
       "42   ARGANZUELA  2011  ...             0                        0\n",
       "63   ARGANZUELA  2012  ...             1                        0\n",
       "84   ARGANZUELA  2014  ...             4                        0\n",
       "105  ARGANZUELA  2015  ...             7                        0\n",
       "126  ARGANZUELA  2013  ...             4                        0\n",
       "147  ARGANZUELA  2016  ...             2                        0\n",
       "\n",
       "[8 rows x 13 columns]"
      ]
     },
     "execution_count": 262,
     "metadata": {
      "tags": []
     },
     "output_type": "execute_result"
    }
   ],
   "source": [
    "#Nos puede interesar la suma de todos los accidentes por distrito y todos los años\n",
    "all_accidents_tot_5[all_accidents_tot_5.DISTRITO == 'ARGANZUELA']"
   ]
  },
  {
   "cell_type": "code",
   "execution_count": null,
   "metadata": {
    "id": "NwMqN4IlwoLR"
   },
   "outputs": [],
   "source": [
    "#Para hacerlo, creo una variable con la lista de columnas que quiero"
   ]
  },
  {
   "cell_type": "code",
   "execution_count": 278,
   "metadata": {
    "colab": {
     "base_uri": "https://localhost:8080/"
    },
    "executionInfo": {
     "elapsed": 711,
     "status": "ok",
     "timestamp": 1608729751370,
     "user": {
      "displayName": "Luis DEL POZO",
      "photoUrl": "",
      "userId": "08297678491184687059"
     },
     "user_tz": -60
    },
    "id": "J7Kgd16oobJg",
    "outputId": "a9dedde8-896a-4e75-debd-574987188025"
   },
   "outputs": [
    {
     "data": {
      "text/plain": [
       "Index(['COLISIÓN DOBLE', 'COLISIÓN MÚLTIPLE', 'CHOQUE CON OBJETO FIJO',\n",
       "       'ATROPELLO', 'VUELCO', 'CAÍDA MOTOCICLETA', 'CAÍDA CICLOMOTOR',\n",
       "       'CAÍDA BICICLETA', 'CAÍDA VIAJERO BUS', 'OTRAS CAUSAS',\n",
       "       'CAÍDA VEHÍCULO 3 RUEDAS'],\n",
       "      dtype='object')"
      ]
     },
     "execution_count": 278,
     "metadata": {
      "tags": []
     },
     "output_type": "execute_result"
    }
   ],
   "source": [
    "accident_types = all_accidents_tot_5.columns[2:]\n",
    "accident_types"
   ]
  },
  {
   "cell_type": "code",
   "execution_count": 279,
   "metadata": {
    "colab": {
     "base_uri": "https://localhost:8080/"
    },
    "executionInfo": {
     "elapsed": 595,
     "status": "ok",
     "timestamp": 1608729769376,
     "user": {
      "displayName": "Luis DEL POZO",
      "photoUrl": "",
      "userId": "08297678491184687059"
     },
     "user_tz": -60
    },
    "id": "4NkO-Bo0obQC",
    "outputId": "cfbe3dbc-d962-4abd-dab1-7d5501c25478"
   },
   "outputs": [
    {
     "data": {
      "text/plain": [
       "COLISIÓN DOBLE             2904\n",
       "COLISIÓN MÚLTIPLE           425\n",
       "CHOQUE CON OBJETO FIJO      717\n",
       "ATROPELLO                   514\n",
       "VUELCO                       29\n",
       "CAÍDA MOTOCICLETA           355\n",
       "CAÍDA CICLOMOTOR             76\n",
       "CAÍDA BICICLETA              60\n",
       "CAÍDA VIAJERO BUS            42\n",
       "OTRAS CAUSAS                 32\n",
       "CAÍDA VEHÍCULO 3 RUEDAS       0\n",
       "dtype: int64"
      ]
     },
     "execution_count": 279,
     "metadata": {
      "tags": []
     },
     "output_type": "execute_result"
    }
   ],
   "source": [
    "all_accidents_tot_5[all_accidents_tot_5.DISTRITO == 'ARGANZUELA'][accident_types].sum()"
   ]
  },
  {
   "cell_type": "markdown",
   "metadata": {
    "collapsed": true,
    "id": "4WSKjhx7ppir"
   },
   "source": [
    "## Reading mysql database"
   ]
  },
  {
   "cell_type": "markdown",
   "metadata": {
    "id": "O8_zw1wKM47H"
   },
   "source": [
    "Finally, let's read from the SQL database we created before:"
   ]
  },
  {
   "cell_type": "code",
   "execution_count": null,
   "metadata": {
    "executionInfo": {
     "elapsed": 32404,
     "status": "aborted",
     "timestamp": 1608654663537,
     "user": {
      "displayName": "Luis DEL POZO",
      "photoUrl": "",
      "userId": "08297678491184687059"
     },
     "user_tz": -60
    },
    "id": "l9Nl86YOppir"
   },
   "outputs": [],
   "source": [
    "df3 = pd.read_sql_query(\"SELECT * from traffic\", conn)"
   ]
  },
  {
   "cell_type": "code",
   "execution_count": null,
   "metadata": {
    "executionInfo": {
     "elapsed": 32397,
     "status": "aborted",
     "timestamp": 1608654663538,
     "user": {
      "displayName": "Luis DEL POZO",
      "photoUrl": "",
      "userId": "08297678491184687059"
     },
     "user_tz": -60
    },
    "id": "ldqbwSYlppir"
   },
   "outputs": [],
   "source": [
    "df3.head()"
   ]
  },
  {
   "cell_type": "markdown",
   "metadata": {
    "id": "gswFnK-Eppir"
   },
   "source": [
    "# Additional References\n",
    "\n",
    "[Python for Data Analysis](http://shop.oreilly.com/product/0636920023784.do)\n",
    "\n",
    "[What is SciPy?](https://www.scipy.org/)\n",
    "\n",
    "[How can SciPy be fast if it is written in an interpreted language like Python?](https://www.scipy.org/scipylib/faq.html#how-can-scipy-be-fast-if-it-is-written-in-an-interpreted-language-like-python)\n",
    "\n",
    "[What is the difference between NumPy and SciPy?](https://www.scipy.org/scipylib/faq.html#what-is-the-difference-between-numpy-and-scipy)\n",
    "\n",
    "[Linear Algebra for AI](https://github.com/fastai/fastai/blob/master/tutorials/linalg_pytorch.ipynb)"
   ]
  }
 ],
 "metadata": {
  "colab": {
   "collapsed_sections": [],
   "name": "05_Intro_Pandas_Main_Notebook_LMP.ipynb",
   "provenance": [
    {
     "file_id": "1U0MM_D7URjf9IQwFd_KHvVIztjw887DS",
     "timestamp": 1607970438724
    },
    {
     "file_id": "1AR961KSJpcMbH6-eDE42FJyRfTmKW7NP",
     "timestamp": 1606582938185
    }
   ]
  },
  "kernelspec": {
   "display_name": "Python 3",
   "language": "python",
   "name": "python3"
  },
  "language_info": {
   "codemirror_mode": {
    "name": "ipython",
    "version": 3
   },
   "file_extension": ".py",
   "mimetype": "text/x-python",
   "name": "python",
   "nbconvert_exporter": "python",
   "pygments_lexer": "ipython3",
   "version": "3.8.5"
  },
  "livereveal": {
   "scroll": true,
   "start_slideshow_at": "selected"
  }
 },
 "nbformat": 4,
 "nbformat_minor": 1
}
